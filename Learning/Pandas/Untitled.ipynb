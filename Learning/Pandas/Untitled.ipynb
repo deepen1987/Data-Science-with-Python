{
 "cells": [
  {
   "cell_type": "markdown",
   "metadata": {},
   "source": [
    "### Pandas - \n",
    "\n",
    "* It’s a Python library which has high performance Data structures and data manipulation tools.\n",
    "* Data Structures - the higher dimensional data structures is container of lower dimensional data structures."
   ]
  },
  {
   "cell_type": "markdown",
   "metadata": {},
   "source": [
    "#### Series\n",
    "\n",
    "* 1D labeled homogenous array\n",
    "* Size Immutable\n",
    "* series can be created using its constructor\n",
    "    * pandas.series(data, index, dtype, copy)\n",
    "        * data - data\n",
    "        * index - index value must be unique and hashable, same lenght as data.\n",
    "        * dtype - data type for data, if None its inferred\n",
    "        * copy - Default false\n",
    "\n",
    "**Example below**"
   ]
  },
  {
   "cell_type": "markdown",
   "metadata": {},
   "source": [
    "**Create an Empty Series**"
   ]
  },
  {
   "cell_type": "code",
   "execution_count": 2,
   "metadata": {},
   "outputs": [
    {
     "name": "stdout",
     "output_type": "stream",
     "text": [
      "Series([], dtype: float64)\n"
     ]
    },
    {
     "name": "stderr",
     "output_type": "stream",
     "text": [
      "<ipython-input-2-334d069feddb>:3: DeprecationWarning: The default dtype for empty Series will be 'object' instead of 'float64' in a future version. Specify a dtype explicitly to silence this warning.\n",
      "  s = pd.Series()\n"
     ]
    }
   ],
   "source": [
    "import pandas as pd\n",
    "\n",
    "s = pd.Series()\n",
    "print(s)"
   ]
  },
  {
   "cell_type": "markdown",
   "metadata": {},
   "source": [
    "**Create a series**"
   ]
  },
  {
   "cell_type": "code",
   "execution_count": 21,
   "metadata": {
    "scrolled": false
   },
   "outputs": [
    {
     "name": "stdout",
     "output_type": "stream",
     "text": [
      "\n",
      "1. Creating series using ndArray\n",
      "\n",
      "0    a\n",
      "1    b\n",
      "2    c\n",
      "3    d\n",
      "dtype: object\n",
      "\n",
      "2. Creating series using ndArray with index\n",
      "\n",
      "100    a\n",
      "101    b\n",
      "102    c\n",
      "103    d\n",
      "dtype: object\n",
      "\n",
      "3. Creating series using dict()\n",
      "\n",
      "\n",
      "* If no index is passed in this scenario, then the dict. keys are taken in sorted orderto construct index.\n",
      "* If index is passed, the values in data corresponsing to the labels in index will be pulled out.\n",
      "\n",
      "a    0.0\n",
      "b    1.0\n",
      "c    3.0\n",
      "dtype: float64\n",
      "\n",
      "4. Creating series using dict() with index\n",
      "\n",
      "b    1.0\n",
      "c    3.0\n",
      "d    NaN\n",
      "a    0.0\n",
      "dtype: float64\n"
     ]
    }
   ],
   "source": [
    "import pandas as pd\n",
    "import numpy as np\n",
    "\n",
    "data = np.array(['a','b','c','d'])\n",
    "s = pd.Series(data)\n",
    "print(\"\"\"\n",
    "1. Creating series using ndArray\n",
    "\"\"\")\n",
    "print(s)\n",
    "\n",
    "\n",
    "s = pd.Series(data, index = [100,101,102,103])\n",
    "print(\"\"\"\n",
    "2. Creating series using ndArray with index\n",
    "\"\"\")\n",
    "print(s)\n",
    "\n",
    "\n",
    "data = {'a' : 0., 'b' : 1., 'c' : 3.}\n",
    "s = pd.Series(data)\n",
    "print(\"\"\"\n",
    "3. Creating series using dict()\n",
    "\"\"\")\n",
    "print(\"\"\"\n",
    "* If no index is passed in this scenario, then the dict. keys are taken in sorted orderto construct index.\n",
    "* If index is passed, the values in data corresponsing to the labels in index will be pulled out.\n",
    "\"\"\")\n",
    "print(s)\n",
    "\n",
    "\n",
    "s = pd.Series(data, index = ['b', 'c', 'd', 'a'])\n",
    "print(\"\"\"\n",
    "4. Creating series using dict() with index\n",
    "\"\"\")\n",
    "print(s)"
   ]
  },
  {
   "cell_type": "markdown",
   "metadata": {},
   "source": [
    "**Retriving data from series**"
   ]
  },
  {
   "cell_type": "code",
   "execution_count": 31,
   "metadata": {},
   "outputs": [
    {
     "name": "stdout",
     "output_type": "stream",
     "text": [
      "\n",
      "1. Retriving data from series\n",
      "\n",
      "1\n",
      "\n",
      "2. Retriving data from series using label\n",
      "\n",
      "2\n",
      "\n",
      "3. Retriving last 3 elements in the series\n",
      "\n",
      "b    2\n",
      "c    3\n",
      "d    4\n",
      "dtype: int32\n",
      "\n",
      "3. Retriving data using list of label index\n",
      "\n",
      "a    1\n",
      "b    2\n",
      "d    4\n",
      "dtype: int32\n"
     ]
    }
   ],
   "source": [
    "import pandas as pd\n",
    "import numpy as np\n",
    "\n",
    "data = np.array([1, 2, 3, 4])\n",
    "s = pd.Series(data, index = ['a','b','c','d'])\n",
    "print(\"\"\"\n",
    "1. Retriving data from series\n",
    "\"\"\")\n",
    "print(s[0])\n",
    "\n",
    "print(\"\"\"\n",
    "2. Retriving data from series using label\n",
    "\"\"\")\n",
    "print(s['b'])\n",
    "\n",
    "print(\"\"\"\n",
    "3. Retriving last 3 elements in the series\n",
    "\"\"\")\n",
    "print(s[1:])\n",
    "\n",
    "print(\"\"\"\n",
    "3. Retriving data using list of label index\n",
    "\"\"\")\n",
    "print(s[['a', 'b', 'd']])"
   ]
  },
  {
   "cell_type": "markdown",
   "metadata": {},
   "source": [
    "#### DataFrame\n",
    "\n",
    "* 2D labeled\n",
    "* Size mutable\n",
    "* Tabular Structure\n",
    "* Heterogenous type columns data\n",
    "    * Supports different data types for different columns.\n",
    "    * Each column is homogenous data.\n",
    "* Arithmetic operations on Rows and Columns\n",
    "\n",
    "**Constructor to Create DataFrame Example below**\n",
    "\n",
    "* **pandas.DataFrame(data, index, columns, dtype, copy)**\n",
    "    * data - nparray, series, list, map, dict, constants and another DataFrame.\n",
    "    * index - for row labels the index to be used for resulting frame is optional and default is np.arange(n)\n",
    "    * columns - the columns lables optional default is -np.arange(n). only true if no index is passed.\n",
    "    * dtype - Data type of each column\n",
    "    * copy - used for copying data, default false"
   ]
  },
  {
   "cell_type": "code",
   "execution_count": 40,
   "metadata": {},
   "outputs": [
    {
     "name": "stdout",
     "output_type": "stream",
     "text": [
      "Empty DataFrame\n",
      "Columns: []\n",
      "Index: []\n",
      "\n",
      "Create a DataFrame from List\n",
      "\n",
      "   0\n",
      "0  1\n",
      "1  2\n",
      "2  3\n",
      "3  4\n",
      "4  5\n",
      "\n",
      "Create a DataFrame from 2D List\n",
      "\n",
      "        Name  Age\n",
      "0  Deependra   33\n",
      "1       Neha   31\n",
      "2       Yash   23\n"
     ]
    }
   ],
   "source": [
    "import pandas as pd\n",
    "\n",
    "df = pd.DataFrame()\n",
    "print(df)\n",
    "\n",
    "print(\"\"\"\n",
    "Create a DataFrame from List\n",
    "\"\"\")\n",
    "data = [1,2,3,4,5]\n",
    "df = pd.DataFrame(data)\n",
    "print(df)\n",
    "\n",
    "print(\"\"\"\n",
    "Create a DataFrame from 2D List\n",
    "\"\"\")\n",
    "data = [[\"Deependra\",33],[\"Neha\",31],[\"Yash\",23]]\n",
    "df = pd.DataFrame(data,columns=[\"Name\",\"Age\"])\n",
    "print(df)"
   ]
  },
  {
   "cell_type": "markdown",
   "metadata": {},
   "source": [
    "#### DataFrame using Dict()\n",
    "\n",
    "* When passing arrays in dict, all the array in that dict() should be of same size else it generates error"
   ]
  },
  {
   "cell_type": "code",
   "execution_count": 41,
   "metadata": {},
   "outputs": [
    {
     "name": "stdout",
     "output_type": "stream",
     "text": [
      "\n",
      "Create a DataFrame from Dict()\n",
      "\n",
      "        Name  Age\n",
      "0  Deependra   33\n",
      "1       Neha   31\n",
      "2       Rita   34\n",
      "3    Sushant   33\n",
      "\n",
      "Create a DataFrame from Dict() using index with arrays\n",
      "\n",
      "            Name  Age\n",
      "rank1  Deependra   33\n",
      "rank2       Neha   31\n",
      "rank3       Rita   34\n",
      "rank4    Sushant   33\n"
     ]
    }
   ],
   "source": [
    "print(\"\"\"\n",
    "Create a DataFrame from Dict()\n",
    "\"\"\")\n",
    "n = [\"Deependra\",\"Neha\",\"Rita\",\"Sushant\"]\n",
    "a = [33,31,34,33]\n",
    "data = {\"Name\":n,\"Age\":a}\n",
    "df = pd.DataFrame(data)\n",
    "print(df)\n",
    "\n",
    "print(\"\"\"\n",
    "Create a DataFrame from Dict() using index with arrays\n",
    "\"\"\")\n",
    "n = [\"Deependra\",\"Neha\",\"Rita\",\"Sushant\"]\n",
    "a = [33,31,34,33]\n",
    "data = {\"Name\":n,\"Age\":a}\n",
    "df = pd.DataFrame(data, index = [\"rank1\",\"rank2\",\"rank3\",\"rank4\"])\n",
    "print(df)"
   ]
  },
  {
   "cell_type": "markdown",
   "metadata": {},
   "source": [
    "#### DataFrame from List of Dict()\n",
    "\n",
    "* When passing dict() as part of list they don't need to be of same length, if a dict() is short value will be added as NaN."
   ]
  },
  {
   "cell_type": "code",
   "execution_count": 42,
   "metadata": {
    "scrolled": true
   },
   "outputs": [
    {
     "name": "stdout",
     "output_type": "stream",
     "text": [
      "\n",
      "Create a DataFrame from List of Dict()\n",
      "\n",
      "    a   b     c\n",
      "0   1   2   NaN\n",
      "1  10  20  30.0\n"
     ]
    }
   ],
   "source": [
    "print(\"\"\"\n",
    "Create a DataFrame from List of Dict()\n",
    "\"\"\")\n",
    "n = {\"a\":1, \"b\":2} \n",
    "m = {\"a\":10, \"b\":20, \"c\":30}\n",
    "data = [n, m]\n",
    "df = pd.DataFrame(data)\n",
    "print(df)"
   ]
  },
  {
   "cell_type": "markdown",
   "metadata": {},
   "source": [
    "### By default, Dict() keys are considered as column values if different columns are passed the column values will be NaN."
   ]
  },
  {
   "cell_type": "markdown",
   "metadata": {},
   "source": [
    "#### Create a DataFrame from Dict of Series"
   ]
  },
  {
   "cell_type": "code",
   "execution_count": 56,
   "metadata": {},
   "outputs": [
    {
     "name": "stdout",
     "output_type": "stream",
     "text": [
      "\n",
      "Create a DataFrame from Dict of Series\n",
      "\n",
      "   one  two\n",
      "a  1.0  1.0\n",
      "b  2.0  2.0\n",
      "c  3.0  3.0\n",
      "d  NaN  4.0\n",
      "f  4.0  NaN\n",
      "\n",
      "Reading a DataFrame\n",
      "\n",
      "a    1.0\n",
      "b    2.0\n",
      "c    3.0\n",
      "d    NaN\n",
      "f    4.0\n",
      "Name: one, dtype: float64\n",
      "\n",
      "Adding a column to DataFrame\n",
      "\n",
      "   one  two  three\n",
      "a  1.0  1.0    5.0\n",
      "b  2.0  2.0    6.0\n",
      "c  3.0  3.0    7.0\n",
      "d  NaN  4.0    8.0\n",
      "f  4.0  NaN    NaN\n",
      "\n",
      "Deleting a column from DataFrame\n",
      "\n",
      "   one  three\n",
      "a  1.0    5.0\n",
      "b  2.0    6.0\n",
      "c  3.0    7.0\n",
      "d  NaN    8.0\n",
      "f  4.0    NaN\n",
      "\n",
      "Deleting a column from DataFrame using pop()\n",
      "\n",
      "   three\n",
      "a    5.0\n",
      "b    6.0\n",
      "c    7.0\n",
      "d    8.0\n",
      "f    NaN\n"
     ]
    }
   ],
   "source": [
    "print(\"\"\"\n",
    "Create a DataFrame from Dict of Series\n",
    "\"\"\")\n",
    "n = pd.Series([1,2,3,4],index = [\"a\",\"b\",\"c\",\"f\"])\n",
    "m = pd.Series([1,2,3,4], index = [\"a\",\"b\",\"c\",\"d\"])\n",
    "data = {\"one\":n, \"two\":m}\n",
    "df = pd.DataFrame(data)\n",
    "print(df)\n",
    "\n",
    "print(\"\"\"\n",
    "Reading a DataFrame\n",
    "\"\"\")\n",
    "print(df[\"one\"])\n",
    "\n",
    "print(\"\"\"\n",
    "Adding a column to DataFrame\n",
    "\"\"\")\n",
    "df[\"three\"] = pd.Series([5,6,7,8], index = [\"a\",\"b\",\"c\",\"d\"])\n",
    "print(df)\n",
    "\n",
    "print(\"\"\"\n",
    "Deleting a column from DataFrame\n",
    "\"\"\")\n",
    "del df[\"two\"]\n",
    "print(df)\n",
    "\n",
    "print(\"\"\"\n",
    "Deleting a column from DataFrame using pop()\n",
    "\"\"\")\n",
    "df.pop(\"one\")\n",
    "print(df)"
   ]
  },
  {
   "cell_type": "markdown",
   "metadata": {},
   "source": [
    "#### Row Selection, Addition and deletion"
   ]
  },
  {
   "cell_type": "code",
   "execution_count": 64,
   "metadata": {},
   "outputs": [
    {
     "name": "stdout",
     "output_type": "stream",
     "text": [
      "   one  two\n",
      "a    1    5\n",
      "b    2    6\n",
      "c    3    7\n",
      "d    4    8\n",
      "\n",
      "Row selection using loc ()\n",
      "\n",
      "one    3\n",
      "two    7\n",
      "Name: c, dtype: int64\n",
      "\n",
      "Row selection using iloc ()\n",
      "\n",
      "one    2\n",
      "two    6\n",
      "Name: b, dtype: int64\n",
      "\n",
      "Multiple Row selection\n",
      "\n",
      "   one  two\n",
      "c    3    7\n",
      "d    4    8\n"
     ]
    }
   ],
   "source": [
    "data = {\"one\":pd.Series([1,2,3,4], index = [\"a\",\"b\",\"c\",\"d\"]),\n",
    "\"two\":pd.Series([5,6,7,8], index = [\"a\",\"b\",\"c\",\"d\"])}\n",
    "\n",
    "df = pd.DataFrame(data)\n",
    "print(df)\n",
    "\n",
    "print(\"\"\"\n",
    "Row selection using loc ()\n",
    "\"\"\")\n",
    "print(df.loc[\"c\"])\n",
    "\n",
    "print(\"\"\"\n",
    "Row selection using iloc ()\n",
    "\"\"\")\n",
    "print(df.iloc[1])\n",
    "\n",
    "print(\"\"\"\n",
    "Multiple Row selection\n",
    "\"\"\")\n",
    "print(df[2:4])"
   ]
  },
  {
   "cell_type": "markdown",
   "metadata": {},
   "source": [
    "* **DataFrame Methods**\n",
    "    * Append() - to append another DataFrame\n",
    "    * Del - to remove row or column\n",
    "    * Drop() - to remove row or column\n",
    "    * pop() - to remove row or column\n",
    "    * slicing - as we do arrays/list."
   ]
  },
  {
   "cell_type": "markdown",
   "metadata": {},
   "source": [
    "#### Panel\n",
    "\n",
    "* 3D labeled\n",
    "* Size Mutable\n",
    "* Supports heterogenous data.\n",
    "\n",
    "**Panel Constructor Example below**\n",
    "\n",
    "pandas.Panel(data, item, major_axis, minor_axis, dtype, copy)\n",
    "\n",
    "* data - data\n",
    "* item - axis 0, each item corresponds to a DataFrame contained inside\n",
    "* major_axis - rows of each of the DataFrame\n",
    "* minor_axis - columns pf each of the DataFrame\n",
    "* dtype - data type for cloumns\n",
    "\n",
    "**Its a DataFrame Container**"
   ]
  },
  {
   "cell_type": "code",
   "execution_count": null,
   "metadata": {},
   "outputs": [],
   "source": []
  }
 ],
 "metadata": {
  "kernelspec": {
   "display_name": "Python 3",
   "language": "python",
   "name": "python3"
  },
  "language_info": {
   "codemirror_mode": {
    "name": "ipython",
    "version": 3
   },
   "file_extension": ".py",
   "mimetype": "text/x-python",
   "name": "python",
   "nbconvert_exporter": "python",
   "pygments_lexer": "ipython3",
   "version": "3.8.5"
  }
 },
 "nbformat": 4,
 "nbformat_minor": 4
}
