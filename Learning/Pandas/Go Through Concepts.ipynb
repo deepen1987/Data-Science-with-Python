{
  "nbformat": 4,
  "nbformat_minor": 0,
  "metadata": {
    "kernelspec": {
      "display_name": "Python 3",
      "language": "python",
      "name": "python3"
    },
    "language_info": {
      "codemirror_mode": {
        "name": "ipython",
        "version": 3
      },
      "file_extension": ".py",
      "mimetype": "text/x-python",
      "name": "python",
      "nbconvert_exporter": "python",
      "pygments_lexer": "ipython3",
      "version": "3.8.5"
    },
    "colab": {
      "name": "Go Through Concepts.ipynb",
      "provenance": []
    }
  },
  "cells": [
    {
      "cell_type": "markdown",
      "metadata": {
        "id": "yV1xV96cuZ_4"
      },
      "source": [
        "Creating a **Series** by passing a list of values"
      ]
    },
    {
      "cell_type": "code",
      "metadata": {
        "id": "2MrtrlQPuZ_5"
      },
      "source": [
        "import pandas as pd\n",
        "import numpy as np\n",
        "\n",
        "s = pd.Series([1,3,5,np.nan,6,8])"
      ],
      "execution_count": 1,
      "outputs": []
    },
    {
      "cell_type": "code",
      "metadata": {
        "id": "7hdzrvEzuZ_5",
        "outputId": "bb779e3f-e057-4f96-f280-269217023165"
      },
      "source": [
        "s"
      ],
      "execution_count": null,
      "outputs": [
        {
          "output_type": "execute_result",
          "data": {
            "text/plain": [
              "0    1.0\n",
              "1    3.0\n",
              "2    5.0\n",
              "3    NaN\n",
              "4    6.0\n",
              "5    8.0\n",
              "dtype: float64"
            ]
          },
          "metadata": {
            "tags": []
          },
          "execution_count": 5
        }
      ]
    },
    {
      "cell_type": "markdown",
      "metadata": {
        "id": "E-g8oSDzuZ_6"
      },
      "source": [
        "Creating a **DataFrame** using Numpy array, with a datetime index and labeld column"
      ]
    },
    {
      "cell_type": "code",
      "metadata": {
        "id": "OthBAZ-uuZ_7"
      },
      "source": [
        "dates = pd.date_range(\"20210106\", periods=6)"
      ],
      "execution_count": null,
      "outputs": []
    },
    {
      "cell_type": "code",
      "metadata": {
        "id": "XSoGGrmduZ_7",
        "outputId": "a7f391ee-63ee-4288-949f-13dba7a0b713"
      },
      "source": [
        "dates"
      ],
      "execution_count": null,
      "outputs": [
        {
          "output_type": "execute_result",
          "data": {
            "text/plain": [
              "DatetimeIndex(['2021-01-06', '2021-01-07', '2021-01-08', '2021-01-09',\n",
              "               '2021-01-10', '2021-01-11'],\n",
              "              dtype='datetime64[ns]', freq='D')"
            ]
          },
          "metadata": {
            "tags": []
          },
          "execution_count": 7
        }
      ]
    },
    {
      "cell_type": "code",
      "metadata": {
        "id": "D6FjeNb4uZ_8"
      },
      "source": [
        "df = pd.DataFrame(np.random.randn(6,4), index = dates, columns = list(\"ABCD\"))"
      ],
      "execution_count": null,
      "outputs": []
    },
    {
      "cell_type": "code",
      "metadata": {
        "id": "hqyfij9cuZ_8",
        "outputId": "617937e9-b4b1-440c-8530-4caef1bf04b1"
      },
      "source": [
        "df"
      ],
      "execution_count": null,
      "outputs": [
        {
          "output_type": "execute_result",
          "data": {
            "text/html": [
              "<div>\n",
              "<style scoped>\n",
              "    .dataframe tbody tr th:only-of-type {\n",
              "        vertical-align: middle;\n",
              "    }\n",
              "\n",
              "    .dataframe tbody tr th {\n",
              "        vertical-align: top;\n",
              "    }\n",
              "\n",
              "    .dataframe thead th {\n",
              "        text-align: right;\n",
              "    }\n",
              "</style>\n",
              "<table border=\"1\" class=\"dataframe\">\n",
              "  <thead>\n",
              "    <tr style=\"text-align: right;\">\n",
              "      <th></th>\n",
              "      <th>A</th>\n",
              "      <th>B</th>\n",
              "      <th>C</th>\n",
              "      <th>D</th>\n",
              "    </tr>\n",
              "  </thead>\n",
              "  <tbody>\n",
              "    <tr>\n",
              "      <th>2021-01-06</th>\n",
              "      <td>1.067907</td>\n",
              "      <td>-0.308370</td>\n",
              "      <td>-2.556374</td>\n",
              "      <td>-0.479453</td>\n",
              "    </tr>\n",
              "    <tr>\n",
              "      <th>2021-01-07</th>\n",
              "      <td>-0.406669</td>\n",
              "      <td>1.527887</td>\n",
              "      <td>-0.530647</td>\n",
              "      <td>-1.747194</td>\n",
              "    </tr>\n",
              "    <tr>\n",
              "      <th>2021-01-08</th>\n",
              "      <td>-0.448772</td>\n",
              "      <td>2.024578</td>\n",
              "      <td>-1.654048</td>\n",
              "      <td>0.723015</td>\n",
              "    </tr>\n",
              "    <tr>\n",
              "      <th>2021-01-09</th>\n",
              "      <td>-0.348636</td>\n",
              "      <td>-1.013858</td>\n",
              "      <td>-0.022972</td>\n",
              "      <td>-0.691032</td>\n",
              "    </tr>\n",
              "    <tr>\n",
              "      <th>2021-01-10</th>\n",
              "      <td>-0.649714</td>\n",
              "      <td>0.099438</td>\n",
              "      <td>0.250337</td>\n",
              "      <td>-0.258712</td>\n",
              "    </tr>\n",
              "    <tr>\n",
              "      <th>2021-01-11</th>\n",
              "      <td>-0.354186</td>\n",
              "      <td>0.564028</td>\n",
              "      <td>-0.491385</td>\n",
              "      <td>-0.266737</td>\n",
              "    </tr>\n",
              "  </tbody>\n",
              "</table>\n",
              "</div>"
            ],
            "text/plain": [
              "                   A         B         C         D\n",
              "2021-01-06  1.067907 -0.308370 -2.556374 -0.479453\n",
              "2021-01-07 -0.406669  1.527887 -0.530647 -1.747194\n",
              "2021-01-08 -0.448772  2.024578 -1.654048  0.723015\n",
              "2021-01-09 -0.348636 -1.013858 -0.022972 -0.691032\n",
              "2021-01-10 -0.649714  0.099438  0.250337 -0.258712\n",
              "2021-01-11 -0.354186  0.564028 -0.491385 -0.266737"
            ]
          },
          "metadata": {
            "tags": []
          },
          "execution_count": 10
        }
      ]
    },
    {
      "cell_type": "markdown",
      "metadata": {
        "id": "Tu-36-JLuZ_9"
      },
      "source": [
        "**DataFrame** from dict()"
      ]
    },
    {
      "cell_type": "code",
      "metadata": {
        "id": "h25HbV9muZ_9"
      },
      "source": [
        "df2 = pd.DataFrame(\n",
        "    {\n",
        "        \"A\": 1.0, \n",
        "        \"B\": pd.Timestamp(\"20210305\"), \n",
        "        \"C\": pd.Series(1, index = list(range(4)), dtype = \"float32\"),\n",
        "        \"D\": np.array([3] * 4, dtype = \"int32\"),\n",
        "        \"E\": pd.Categorical([\"test\",\"train\"] * 2),\n",
        "        \"F\": \"foo\"\n",
        "    })"
      ],
      "execution_count": null,
      "outputs": []
    },
    {
      "cell_type": "code",
      "metadata": {
        "id": "rUMx6uZIuZ_-",
        "outputId": "d7931845-4e16-4b85-8e8a-352562aafcfc"
      },
      "source": [
        "df2"
      ],
      "execution_count": null,
      "outputs": [
        {
          "output_type": "execute_result",
          "data": {
            "text/html": [
              "<div>\n",
              "<style scoped>\n",
              "    .dataframe tbody tr th:only-of-type {\n",
              "        vertical-align: middle;\n",
              "    }\n",
              "\n",
              "    .dataframe tbody tr th {\n",
              "        vertical-align: top;\n",
              "    }\n",
              "\n",
              "    .dataframe thead th {\n",
              "        text-align: right;\n",
              "    }\n",
              "</style>\n",
              "<table border=\"1\" class=\"dataframe\">\n",
              "  <thead>\n",
              "    <tr style=\"text-align: right;\">\n",
              "      <th></th>\n",
              "      <th>A</th>\n",
              "      <th>B</th>\n",
              "      <th>C</th>\n",
              "      <th>D</th>\n",
              "      <th>E</th>\n",
              "      <th>F</th>\n",
              "    </tr>\n",
              "  </thead>\n",
              "  <tbody>\n",
              "    <tr>\n",
              "      <th>0</th>\n",
              "      <td>1.0</td>\n",
              "      <td>2021-03-05</td>\n",
              "      <td>1.0</td>\n",
              "      <td>3</td>\n",
              "      <td>test</td>\n",
              "      <td>foo</td>\n",
              "    </tr>\n",
              "    <tr>\n",
              "      <th>1</th>\n",
              "      <td>1.0</td>\n",
              "      <td>2021-03-05</td>\n",
              "      <td>1.0</td>\n",
              "      <td>3</td>\n",
              "      <td>train</td>\n",
              "      <td>foo</td>\n",
              "    </tr>\n",
              "    <tr>\n",
              "      <th>2</th>\n",
              "      <td>1.0</td>\n",
              "      <td>2021-03-05</td>\n",
              "      <td>1.0</td>\n",
              "      <td>3</td>\n",
              "      <td>test</td>\n",
              "      <td>foo</td>\n",
              "    </tr>\n",
              "    <tr>\n",
              "      <th>3</th>\n",
              "      <td>1.0</td>\n",
              "      <td>2021-03-05</td>\n",
              "      <td>1.0</td>\n",
              "      <td>3</td>\n",
              "      <td>train</td>\n",
              "      <td>foo</td>\n",
              "    </tr>\n",
              "  </tbody>\n",
              "</table>\n",
              "</div>"
            ],
            "text/plain": [
              "     A          B    C  D      E    F\n",
              "0  1.0 2021-03-05  1.0  3   test  foo\n",
              "1  1.0 2021-03-05  1.0  3  train  foo\n",
              "2  1.0 2021-03-05  1.0  3   test  foo\n",
              "3  1.0 2021-03-05  1.0  3  train  foo"
            ]
          },
          "metadata": {
            "tags": []
          },
          "execution_count": 17
        }
      ]
    },
    {
      "cell_type": "code",
      "metadata": {
        "id": "ENRnar0RuZ_-",
        "outputId": "36054af9-06e9-4233-92a1-cc7084a9a663"
      },
      "source": [
        "df2.dtypes"
      ],
      "execution_count": null,
      "outputs": [
        {
          "output_type": "execute_result",
          "data": {
            "text/plain": [
              "A           float64\n",
              "B    datetime64[ns]\n",
              "C           float32\n",
              "D             int32\n",
              "E          category\n",
              "F            object\n",
              "dtype: object"
            ]
          },
          "metadata": {
            "tags": []
          },
          "execution_count": 18
        }
      ]
    },
    {
      "cell_type": "markdown",
      "metadata": {
        "id": "HKVZ_T-tuZ_-"
      },
      "source": [
        "### Viewing Data"
      ]
    },
    {
      "cell_type": "code",
      "metadata": {
        "id": "qETMDK3juZ__",
        "outputId": "0b8daede-eb51-4d60-eb70-80400e0d708c"
      },
      "source": [
        "df.head()"
      ],
      "execution_count": null,
      "outputs": [
        {
          "output_type": "execute_result",
          "data": {
            "text/html": [
              "<div>\n",
              "<style scoped>\n",
              "    .dataframe tbody tr th:only-of-type {\n",
              "        vertical-align: middle;\n",
              "    }\n",
              "\n",
              "    .dataframe tbody tr th {\n",
              "        vertical-align: top;\n",
              "    }\n",
              "\n",
              "    .dataframe thead th {\n",
              "        text-align: right;\n",
              "    }\n",
              "</style>\n",
              "<table border=\"1\" class=\"dataframe\">\n",
              "  <thead>\n",
              "    <tr style=\"text-align: right;\">\n",
              "      <th></th>\n",
              "      <th>A</th>\n",
              "      <th>B</th>\n",
              "      <th>C</th>\n",
              "      <th>D</th>\n",
              "    </tr>\n",
              "  </thead>\n",
              "  <tbody>\n",
              "    <tr>\n",
              "      <th>2021-01-06</th>\n",
              "      <td>1.067907</td>\n",
              "      <td>-0.308370</td>\n",
              "      <td>-2.556374</td>\n",
              "      <td>-0.479453</td>\n",
              "    </tr>\n",
              "    <tr>\n",
              "      <th>2021-01-07</th>\n",
              "      <td>-0.406669</td>\n",
              "      <td>1.527887</td>\n",
              "      <td>-0.530647</td>\n",
              "      <td>-1.747194</td>\n",
              "    </tr>\n",
              "    <tr>\n",
              "      <th>2021-01-08</th>\n",
              "      <td>-0.448772</td>\n",
              "      <td>2.024578</td>\n",
              "      <td>-1.654048</td>\n",
              "      <td>0.723015</td>\n",
              "    </tr>\n",
              "    <tr>\n",
              "      <th>2021-01-09</th>\n",
              "      <td>-0.348636</td>\n",
              "      <td>-1.013858</td>\n",
              "      <td>-0.022972</td>\n",
              "      <td>-0.691032</td>\n",
              "    </tr>\n",
              "    <tr>\n",
              "      <th>2021-01-10</th>\n",
              "      <td>-0.649714</td>\n",
              "      <td>0.099438</td>\n",
              "      <td>0.250337</td>\n",
              "      <td>-0.258712</td>\n",
              "    </tr>\n",
              "  </tbody>\n",
              "</table>\n",
              "</div>"
            ],
            "text/plain": [
              "                   A         B         C         D\n",
              "2021-01-06  1.067907 -0.308370 -2.556374 -0.479453\n",
              "2021-01-07 -0.406669  1.527887 -0.530647 -1.747194\n",
              "2021-01-08 -0.448772  2.024578 -1.654048  0.723015\n",
              "2021-01-09 -0.348636 -1.013858 -0.022972 -0.691032\n",
              "2021-01-10 -0.649714  0.099438  0.250337 -0.258712"
            ]
          },
          "metadata": {
            "tags": []
          },
          "execution_count": 19
        }
      ]
    },
    {
      "cell_type": "code",
      "metadata": {
        "id": "YN8Ios-PuZ__",
        "outputId": "fca6a2bc-0076-4cc5-d030-452eab260008"
      },
      "source": [
        "df.tail(3)"
      ],
      "execution_count": null,
      "outputs": [
        {
          "output_type": "execute_result",
          "data": {
            "text/html": [
              "<div>\n",
              "<style scoped>\n",
              "    .dataframe tbody tr th:only-of-type {\n",
              "        vertical-align: middle;\n",
              "    }\n",
              "\n",
              "    .dataframe tbody tr th {\n",
              "        vertical-align: top;\n",
              "    }\n",
              "\n",
              "    .dataframe thead th {\n",
              "        text-align: right;\n",
              "    }\n",
              "</style>\n",
              "<table border=\"1\" class=\"dataframe\">\n",
              "  <thead>\n",
              "    <tr style=\"text-align: right;\">\n",
              "      <th></th>\n",
              "      <th>A</th>\n",
              "      <th>B</th>\n",
              "      <th>C</th>\n",
              "      <th>D</th>\n",
              "    </tr>\n",
              "  </thead>\n",
              "  <tbody>\n",
              "    <tr>\n",
              "      <th>2021-01-09</th>\n",
              "      <td>-0.348636</td>\n",
              "      <td>-1.013858</td>\n",
              "      <td>-0.022972</td>\n",
              "      <td>-0.691032</td>\n",
              "    </tr>\n",
              "    <tr>\n",
              "      <th>2021-01-10</th>\n",
              "      <td>-0.649714</td>\n",
              "      <td>0.099438</td>\n",
              "      <td>0.250337</td>\n",
              "      <td>-0.258712</td>\n",
              "    </tr>\n",
              "    <tr>\n",
              "      <th>2021-01-11</th>\n",
              "      <td>-0.354186</td>\n",
              "      <td>0.564028</td>\n",
              "      <td>-0.491385</td>\n",
              "      <td>-0.266737</td>\n",
              "    </tr>\n",
              "  </tbody>\n",
              "</table>\n",
              "</div>"
            ],
            "text/plain": [
              "                   A         B         C         D\n",
              "2021-01-09 -0.348636 -1.013858 -0.022972 -0.691032\n",
              "2021-01-10 -0.649714  0.099438  0.250337 -0.258712\n",
              "2021-01-11 -0.354186  0.564028 -0.491385 -0.266737"
            ]
          },
          "metadata": {
            "tags": []
          },
          "execution_count": 20
        }
      ]
    },
    {
      "cell_type": "code",
      "metadata": {
        "id": "0-qzRMZsuaAA",
        "outputId": "2ed17818-d1d3-4671-8bd4-4dfc143ee084"
      },
      "source": [
        "df.index"
      ],
      "execution_count": null,
      "outputs": [
        {
          "output_type": "execute_result",
          "data": {
            "text/plain": [
              "DatetimeIndex(['2021-01-06', '2021-01-07', '2021-01-08', '2021-01-09',\n",
              "               '2021-01-10', '2021-01-11'],\n",
              "              dtype='datetime64[ns]', freq='D')"
            ]
          },
          "metadata": {
            "tags": []
          },
          "execution_count": 21
        }
      ]
    },
    {
      "cell_type": "code",
      "metadata": {
        "id": "BKds18gQuaAA",
        "outputId": "2b8433db-abf1-495b-e8ee-10f1823306b5"
      },
      "source": [
        "df.columns"
      ],
      "execution_count": null,
      "outputs": [
        {
          "output_type": "execute_result",
          "data": {
            "text/plain": [
              "Index(['A', 'B', 'C', 'D'], dtype='object')"
            ]
          },
          "metadata": {
            "tags": []
          },
          "execution_count": 22
        }
      ]
    },
    {
      "cell_type": "code",
      "metadata": {
        "id": "fUMacWKMuaAA",
        "outputId": "dd8677f5-148c-4f2e-ed3e-9bc7260b162b"
      },
      "source": [
        "df.to_numpy()\n",
        "# Gives a numpy representation of the DataFrame"
      ],
      "execution_count": null,
      "outputs": [
        {
          "output_type": "execute_result",
          "data": {
            "text/plain": [
              "array([[ 1.06790673, -0.30837038, -2.55637425, -0.47945282],\n",
              "       [-0.40666925,  1.52788708, -0.53064658, -1.74719353],\n",
              "       [-0.44877157,  2.02457801, -1.65404805,  0.72301475],\n",
              "       [-0.34863644, -1.0138577 , -0.02297185, -0.69103236],\n",
              "       [-0.64971447,  0.09943791,  0.25033708, -0.25871192],\n",
              "       [-0.35418648,  0.56402774, -0.49138533, -0.26673704]])"
            ]
          },
          "metadata": {
            "tags": []
          },
          "execution_count": 26
        }
      ]
    },
    {
      "cell_type": "code",
      "metadata": {
        "id": "uDfwFUcKuaAB",
        "outputId": "c69c29c8-1c69-47db-ca9a-e68b7289eee1"
      },
      "source": [
        "df.describe()\n",
        "# Shows a quick statistic summary of your data"
      ],
      "execution_count": null,
      "outputs": [
        {
          "output_type": "execute_result",
          "data": {
            "text/html": [
              "<div>\n",
              "<style scoped>\n",
              "    .dataframe tbody tr th:only-of-type {\n",
              "        vertical-align: middle;\n",
              "    }\n",
              "\n",
              "    .dataframe tbody tr th {\n",
              "        vertical-align: top;\n",
              "    }\n",
              "\n",
              "    .dataframe thead th {\n",
              "        text-align: right;\n",
              "    }\n",
              "</style>\n",
              "<table border=\"1\" class=\"dataframe\">\n",
              "  <thead>\n",
              "    <tr style=\"text-align: right;\">\n",
              "      <th></th>\n",
              "      <th>A</th>\n",
              "      <th>B</th>\n",
              "      <th>C</th>\n",
              "      <th>D</th>\n",
              "    </tr>\n",
              "  </thead>\n",
              "  <tbody>\n",
              "    <tr>\n",
              "      <th>count</th>\n",
              "      <td>6.000000</td>\n",
              "      <td>6.000000</td>\n",
              "      <td>6.000000</td>\n",
              "      <td>6.000000</td>\n",
              "    </tr>\n",
              "    <tr>\n",
              "      <th>mean</th>\n",
              "      <td>-0.190012</td>\n",
              "      <td>0.482284</td>\n",
              "      <td>-0.834181</td>\n",
              "      <td>-0.453352</td>\n",
              "    </tr>\n",
              "    <tr>\n",
              "      <th>std</th>\n",
              "      <td>0.626051</td>\n",
              "      <td>1.139191</td>\n",
              "      <td>1.066022</td>\n",
              "      <td>0.798467</td>\n",
              "    </tr>\n",
              "    <tr>\n",
              "      <th>min</th>\n",
              "      <td>-0.649714</td>\n",
              "      <td>-1.013858</td>\n",
              "      <td>-2.556374</td>\n",
              "      <td>-1.747194</td>\n",
              "    </tr>\n",
              "    <tr>\n",
              "      <th>25%</th>\n",
              "      <td>-0.438246</td>\n",
              "      <td>-0.206418</td>\n",
              "      <td>-1.373198</td>\n",
              "      <td>-0.638137</td>\n",
              "    </tr>\n",
              "    <tr>\n",
              "      <th>50%</th>\n",
              "      <td>-0.380428</td>\n",
              "      <td>0.331733</td>\n",
              "      <td>-0.511016</td>\n",
              "      <td>-0.373095</td>\n",
              "    </tr>\n",
              "    <tr>\n",
              "      <th>75%</th>\n",
              "      <td>-0.350024</td>\n",
              "      <td>1.286922</td>\n",
              "      <td>-0.140075</td>\n",
              "      <td>-0.260718</td>\n",
              "    </tr>\n",
              "    <tr>\n",
              "      <th>max</th>\n",
              "      <td>1.067907</td>\n",
              "      <td>2.024578</td>\n",
              "      <td>0.250337</td>\n",
              "      <td>0.723015</td>\n",
              "    </tr>\n",
              "  </tbody>\n",
              "</table>\n",
              "</div>"
            ],
            "text/plain": [
              "              A         B         C         D\n",
              "count  6.000000  6.000000  6.000000  6.000000\n",
              "mean  -0.190012  0.482284 -0.834181 -0.453352\n",
              "std    0.626051  1.139191  1.066022  0.798467\n",
              "min   -0.649714 -1.013858 -2.556374 -1.747194\n",
              "25%   -0.438246 -0.206418 -1.373198 -0.638137\n",
              "50%   -0.380428  0.331733 -0.511016 -0.373095\n",
              "75%   -0.350024  1.286922 -0.140075 -0.260718\n",
              "max    1.067907  2.024578  0.250337  0.723015"
            ]
          },
          "metadata": {
            "tags": []
          },
          "execution_count": 25
        }
      ]
    },
    {
      "cell_type": "code",
      "metadata": {
        "id": "CEq6eLgYuaAB",
        "outputId": "c3adb482-3c8e-4232-970d-7dd945ae8cd1"
      },
      "source": [
        "df.T\n",
        "# Transposing your data using T"
      ],
      "execution_count": null,
      "outputs": [
        {
          "output_type": "execute_result",
          "data": {
            "text/html": [
              "<div>\n",
              "<style scoped>\n",
              "    .dataframe tbody tr th:only-of-type {\n",
              "        vertical-align: middle;\n",
              "    }\n",
              "\n",
              "    .dataframe tbody tr th {\n",
              "        vertical-align: top;\n",
              "    }\n",
              "\n",
              "    .dataframe thead th {\n",
              "        text-align: right;\n",
              "    }\n",
              "</style>\n",
              "<table border=\"1\" class=\"dataframe\">\n",
              "  <thead>\n",
              "    <tr style=\"text-align: right;\">\n",
              "      <th></th>\n",
              "      <th>2021-01-06</th>\n",
              "      <th>2021-01-07</th>\n",
              "      <th>2021-01-08</th>\n",
              "      <th>2021-01-09</th>\n",
              "      <th>2021-01-10</th>\n",
              "      <th>2021-01-11</th>\n",
              "    </tr>\n",
              "  </thead>\n",
              "  <tbody>\n",
              "    <tr>\n",
              "      <th>A</th>\n",
              "      <td>1.067907</td>\n",
              "      <td>-0.406669</td>\n",
              "      <td>-0.448772</td>\n",
              "      <td>-0.348636</td>\n",
              "      <td>-0.649714</td>\n",
              "      <td>-0.354186</td>\n",
              "    </tr>\n",
              "    <tr>\n",
              "      <th>B</th>\n",
              "      <td>-0.308370</td>\n",
              "      <td>1.527887</td>\n",
              "      <td>2.024578</td>\n",
              "      <td>-1.013858</td>\n",
              "      <td>0.099438</td>\n",
              "      <td>0.564028</td>\n",
              "    </tr>\n",
              "    <tr>\n",
              "      <th>C</th>\n",
              "      <td>-2.556374</td>\n",
              "      <td>-0.530647</td>\n",
              "      <td>-1.654048</td>\n",
              "      <td>-0.022972</td>\n",
              "      <td>0.250337</td>\n",
              "      <td>-0.491385</td>\n",
              "    </tr>\n",
              "    <tr>\n",
              "      <th>D</th>\n",
              "      <td>-0.479453</td>\n",
              "      <td>-1.747194</td>\n",
              "      <td>0.723015</td>\n",
              "      <td>-0.691032</td>\n",
              "      <td>-0.258712</td>\n",
              "      <td>-0.266737</td>\n",
              "    </tr>\n",
              "  </tbody>\n",
              "</table>\n",
              "</div>"
            ],
            "text/plain": [
              "   2021-01-06  2021-01-07  2021-01-08  2021-01-09  2021-01-10  2021-01-11\n",
              "A    1.067907   -0.406669   -0.448772   -0.348636   -0.649714   -0.354186\n",
              "B   -0.308370    1.527887    2.024578   -1.013858    0.099438    0.564028\n",
              "C   -2.556374   -0.530647   -1.654048   -0.022972    0.250337   -0.491385\n",
              "D   -0.479453   -1.747194    0.723015   -0.691032   -0.258712   -0.266737"
            ]
          },
          "metadata": {
            "tags": []
          },
          "execution_count": 28
        }
      ]
    },
    {
      "cell_type": "code",
      "metadata": {
        "id": "sbGbzAmsuaAB",
        "outputId": "825105e7-230e-4abf-fb8c-6a7e3ab0a65b"
      },
      "source": [
        "df.sort_index(axis=1,ascending=False)\n",
        "# sorting based on axis 1"
      ],
      "execution_count": null,
      "outputs": [
        {
          "output_type": "execute_result",
          "data": {
            "text/html": [
              "<div>\n",
              "<style scoped>\n",
              "    .dataframe tbody tr th:only-of-type {\n",
              "        vertical-align: middle;\n",
              "    }\n",
              "\n",
              "    .dataframe tbody tr th {\n",
              "        vertical-align: top;\n",
              "    }\n",
              "\n",
              "    .dataframe thead th {\n",
              "        text-align: right;\n",
              "    }\n",
              "</style>\n",
              "<table border=\"1\" class=\"dataframe\">\n",
              "  <thead>\n",
              "    <tr style=\"text-align: right;\">\n",
              "      <th></th>\n",
              "      <th>D</th>\n",
              "      <th>C</th>\n",
              "      <th>B</th>\n",
              "      <th>A</th>\n",
              "    </tr>\n",
              "  </thead>\n",
              "  <tbody>\n",
              "    <tr>\n",
              "      <th>2021-01-06</th>\n",
              "      <td>-0.479453</td>\n",
              "      <td>-2.556374</td>\n",
              "      <td>-0.308370</td>\n",
              "      <td>1.067907</td>\n",
              "    </tr>\n",
              "    <tr>\n",
              "      <th>2021-01-07</th>\n",
              "      <td>-1.747194</td>\n",
              "      <td>-0.530647</td>\n",
              "      <td>1.527887</td>\n",
              "      <td>-0.406669</td>\n",
              "    </tr>\n",
              "    <tr>\n",
              "      <th>2021-01-08</th>\n",
              "      <td>0.723015</td>\n",
              "      <td>-1.654048</td>\n",
              "      <td>2.024578</td>\n",
              "      <td>-0.448772</td>\n",
              "    </tr>\n",
              "    <tr>\n",
              "      <th>2021-01-09</th>\n",
              "      <td>-0.691032</td>\n",
              "      <td>-0.022972</td>\n",
              "      <td>-1.013858</td>\n",
              "      <td>-0.348636</td>\n",
              "    </tr>\n",
              "    <tr>\n",
              "      <th>2021-01-10</th>\n",
              "      <td>-0.258712</td>\n",
              "      <td>0.250337</td>\n",
              "      <td>0.099438</td>\n",
              "      <td>-0.649714</td>\n",
              "    </tr>\n",
              "    <tr>\n",
              "      <th>2021-01-11</th>\n",
              "      <td>-0.266737</td>\n",
              "      <td>-0.491385</td>\n",
              "      <td>0.564028</td>\n",
              "      <td>-0.354186</td>\n",
              "    </tr>\n",
              "  </tbody>\n",
              "</table>\n",
              "</div>"
            ],
            "text/plain": [
              "                   D         C         B         A\n",
              "2021-01-06 -0.479453 -2.556374 -0.308370  1.067907\n",
              "2021-01-07 -1.747194 -0.530647  1.527887 -0.406669\n",
              "2021-01-08  0.723015 -1.654048  2.024578 -0.448772\n",
              "2021-01-09 -0.691032 -0.022972 -1.013858 -0.348636\n",
              "2021-01-10 -0.258712  0.250337  0.099438 -0.649714\n",
              "2021-01-11 -0.266737 -0.491385  0.564028 -0.354186"
            ]
          },
          "metadata": {
            "tags": []
          },
          "execution_count": 31
        }
      ]
    },
    {
      "cell_type": "code",
      "metadata": {
        "id": "kz2xwbINuaAC",
        "outputId": "fed72ca6-e968-40d6-f230-c73a89bcd80b"
      },
      "source": [
        "df.sort_values(by=\"C\")"
      ],
      "execution_count": null,
      "outputs": [
        {
          "output_type": "execute_result",
          "data": {
            "text/html": [
              "<div>\n",
              "<style scoped>\n",
              "    .dataframe tbody tr th:only-of-type {\n",
              "        vertical-align: middle;\n",
              "    }\n",
              "\n",
              "    .dataframe tbody tr th {\n",
              "        vertical-align: top;\n",
              "    }\n",
              "\n",
              "    .dataframe thead th {\n",
              "        text-align: right;\n",
              "    }\n",
              "</style>\n",
              "<table border=\"1\" class=\"dataframe\">\n",
              "  <thead>\n",
              "    <tr style=\"text-align: right;\">\n",
              "      <th></th>\n",
              "      <th>A</th>\n",
              "      <th>B</th>\n",
              "      <th>C</th>\n",
              "      <th>D</th>\n",
              "    </tr>\n",
              "  </thead>\n",
              "  <tbody>\n",
              "    <tr>\n",
              "      <th>2021-01-06</th>\n",
              "      <td>1.067907</td>\n",
              "      <td>-0.308370</td>\n",
              "      <td>-2.556374</td>\n",
              "      <td>-0.479453</td>\n",
              "    </tr>\n",
              "    <tr>\n",
              "      <th>2021-01-08</th>\n",
              "      <td>-0.448772</td>\n",
              "      <td>2.024578</td>\n",
              "      <td>-1.654048</td>\n",
              "      <td>0.723015</td>\n",
              "    </tr>\n",
              "    <tr>\n",
              "      <th>2021-01-07</th>\n",
              "      <td>-0.406669</td>\n",
              "      <td>1.527887</td>\n",
              "      <td>-0.530647</td>\n",
              "      <td>-1.747194</td>\n",
              "    </tr>\n",
              "    <tr>\n",
              "      <th>2021-01-11</th>\n",
              "      <td>-0.354186</td>\n",
              "      <td>0.564028</td>\n",
              "      <td>-0.491385</td>\n",
              "      <td>-0.266737</td>\n",
              "    </tr>\n",
              "    <tr>\n",
              "      <th>2021-01-09</th>\n",
              "      <td>-0.348636</td>\n",
              "      <td>-1.013858</td>\n",
              "      <td>-0.022972</td>\n",
              "      <td>-0.691032</td>\n",
              "    </tr>\n",
              "    <tr>\n",
              "      <th>2021-01-10</th>\n",
              "      <td>-0.649714</td>\n",
              "      <td>0.099438</td>\n",
              "      <td>0.250337</td>\n",
              "      <td>-0.258712</td>\n",
              "    </tr>\n",
              "  </tbody>\n",
              "</table>\n",
              "</div>"
            ],
            "text/plain": [
              "                   A         B         C         D\n",
              "2021-01-06  1.067907 -0.308370 -2.556374 -0.479453\n",
              "2021-01-08 -0.448772  2.024578 -1.654048  0.723015\n",
              "2021-01-07 -0.406669  1.527887 -0.530647 -1.747194\n",
              "2021-01-11 -0.354186  0.564028 -0.491385 -0.266737\n",
              "2021-01-09 -0.348636 -1.013858 -0.022972 -0.691032\n",
              "2021-01-10 -0.649714  0.099438  0.250337 -0.258712"
            ]
          },
          "metadata": {
            "tags": []
          },
          "execution_count": 32
        }
      ]
    },
    {
      "cell_type": "markdown",
      "metadata": {
        "id": "I-ALHQ1duaAC"
      },
      "source": [
        "#### Getting Data"
      ]
    },
    {
      "cell_type": "code",
      "metadata": {
        "id": "DSPuBbYWuaAC",
        "outputId": "b292719c-358e-4fdd-fa24-814126b0932b"
      },
      "source": [
        "df[\"A\"]\n",
        "# Getting a single column values"
      ],
      "execution_count": null,
      "outputs": [
        {
          "output_type": "execute_result",
          "data": {
            "text/plain": [
              "2021-01-06    1.067907\n",
              "2021-01-07   -0.406669\n",
              "2021-01-08   -0.448772\n",
              "2021-01-09   -0.348636\n",
              "2021-01-10   -0.649714\n",
              "2021-01-11   -0.354186\n",
              "Freq: D, Name: A, dtype: float64"
            ]
          },
          "metadata": {
            "tags": []
          },
          "execution_count": 33
        }
      ]
    },
    {
      "cell_type": "code",
      "metadata": {
        "id": "QFSNVFlPuaAD",
        "outputId": "cea18ab1-405b-4d97-8a82-f4615e1086da"
      },
      "source": [
        "df[0:3]"
      ],
      "execution_count": null,
      "outputs": [
        {
          "output_type": "execute_result",
          "data": {
            "text/html": [
              "<div>\n",
              "<style scoped>\n",
              "    .dataframe tbody tr th:only-of-type {\n",
              "        vertical-align: middle;\n",
              "    }\n",
              "\n",
              "    .dataframe tbody tr th {\n",
              "        vertical-align: top;\n",
              "    }\n",
              "\n",
              "    .dataframe thead th {\n",
              "        text-align: right;\n",
              "    }\n",
              "</style>\n",
              "<table border=\"1\" class=\"dataframe\">\n",
              "  <thead>\n",
              "    <tr style=\"text-align: right;\">\n",
              "      <th></th>\n",
              "      <th>A</th>\n",
              "      <th>B</th>\n",
              "      <th>C</th>\n",
              "      <th>D</th>\n",
              "    </tr>\n",
              "  </thead>\n",
              "  <tbody>\n",
              "    <tr>\n",
              "      <th>2021-01-06</th>\n",
              "      <td>1.067907</td>\n",
              "      <td>-0.308370</td>\n",
              "      <td>-2.556374</td>\n",
              "      <td>-0.479453</td>\n",
              "    </tr>\n",
              "    <tr>\n",
              "      <th>2021-01-07</th>\n",
              "      <td>-0.406669</td>\n",
              "      <td>1.527887</td>\n",
              "      <td>-0.530647</td>\n",
              "      <td>-1.747194</td>\n",
              "    </tr>\n",
              "    <tr>\n",
              "      <th>2021-01-08</th>\n",
              "      <td>-0.448772</td>\n",
              "      <td>2.024578</td>\n",
              "      <td>-1.654048</td>\n",
              "      <td>0.723015</td>\n",
              "    </tr>\n",
              "  </tbody>\n",
              "</table>\n",
              "</div>"
            ],
            "text/plain": [
              "                   A         B         C         D\n",
              "2021-01-06  1.067907 -0.308370 -2.556374 -0.479453\n",
              "2021-01-07 -0.406669  1.527887 -0.530647 -1.747194\n",
              "2021-01-08 -0.448772  2.024578 -1.654048  0.723015"
            ]
          },
          "metadata": {
            "tags": []
          },
          "execution_count": 34
        }
      ]
    },
    {
      "cell_type": "code",
      "metadata": {
        "id": "hSipMAfFuaAD",
        "outputId": "9d6427f8-6a7c-44df-9c45-d623386aabd5"
      },
      "source": [
        "df[\"20210108\":]"
      ],
      "execution_count": null,
      "outputs": [
        {
          "output_type": "execute_result",
          "data": {
            "text/html": [
              "<div>\n",
              "<style scoped>\n",
              "    .dataframe tbody tr th:only-of-type {\n",
              "        vertical-align: middle;\n",
              "    }\n",
              "\n",
              "    .dataframe tbody tr th {\n",
              "        vertical-align: top;\n",
              "    }\n",
              "\n",
              "    .dataframe thead th {\n",
              "        text-align: right;\n",
              "    }\n",
              "</style>\n",
              "<table border=\"1\" class=\"dataframe\">\n",
              "  <thead>\n",
              "    <tr style=\"text-align: right;\">\n",
              "      <th></th>\n",
              "      <th>A</th>\n",
              "      <th>B</th>\n",
              "      <th>C</th>\n",
              "      <th>D</th>\n",
              "    </tr>\n",
              "  </thead>\n",
              "  <tbody>\n",
              "    <tr>\n",
              "      <th>2021-01-08</th>\n",
              "      <td>-0.448772</td>\n",
              "      <td>2.024578</td>\n",
              "      <td>-1.654048</td>\n",
              "      <td>0.723015</td>\n",
              "    </tr>\n",
              "    <tr>\n",
              "      <th>2021-01-09</th>\n",
              "      <td>-0.348636</td>\n",
              "      <td>-1.013858</td>\n",
              "      <td>-0.022972</td>\n",
              "      <td>-0.691032</td>\n",
              "    </tr>\n",
              "    <tr>\n",
              "      <th>2021-01-10</th>\n",
              "      <td>-0.649714</td>\n",
              "      <td>0.099438</td>\n",
              "      <td>0.250337</td>\n",
              "      <td>-0.258712</td>\n",
              "    </tr>\n",
              "    <tr>\n",
              "      <th>2021-01-11</th>\n",
              "      <td>-0.354186</td>\n",
              "      <td>0.564028</td>\n",
              "      <td>-0.491385</td>\n",
              "      <td>-0.266737</td>\n",
              "    </tr>\n",
              "  </tbody>\n",
              "</table>\n",
              "</div>"
            ],
            "text/plain": [
              "                   A         B         C         D\n",
              "2021-01-08 -0.448772  2.024578 -1.654048  0.723015\n",
              "2021-01-09 -0.348636 -1.013858 -0.022972 -0.691032\n",
              "2021-01-10 -0.649714  0.099438  0.250337 -0.258712\n",
              "2021-01-11 -0.354186  0.564028 -0.491385 -0.266737"
            ]
          },
          "metadata": {
            "tags": []
          },
          "execution_count": 35
        }
      ]
    },
    {
      "cell_type": "markdown",
      "metadata": {
        "id": "1szJ-NkmuaAD"
      },
      "source": [
        "#### Selection by label"
      ]
    },
    {
      "cell_type": "code",
      "metadata": {
        "id": "8ZmV1G2vuaAD",
        "outputId": "f959774e-30f3-463f-c1ec-b1454de713d6"
      },
      "source": [
        "df.loc[dates[2]]"
      ],
      "execution_count": null,
      "outputs": [
        {
          "output_type": "execute_result",
          "data": {
            "text/plain": [
              "A   -0.448772\n",
              "B    2.024578\n",
              "C   -1.654048\n",
              "D    0.723015\n",
              "Name: 2021-01-08 00:00:00, dtype: float64"
            ]
          },
          "metadata": {
            "tags": []
          },
          "execution_count": 37
        }
      ]
    },
    {
      "cell_type": "code",
      "metadata": {
        "id": "Wy5xcBbxuaAD",
        "outputId": "11f775fb-b307-4a5e-8d2f-d90c5d90d583"
      },
      "source": [
        "df.loc[dates[1],\"B\"]\n",
        "# To fetch a scalar value of DataFrame"
      ],
      "execution_count": null,
      "outputs": [
        {
          "output_type": "execute_result",
          "data": {
            "text/plain": [
              "1.5278870814867447"
            ]
          },
          "metadata": {
            "tags": []
          },
          "execution_count": 39
        }
      ]
    },
    {
      "cell_type": "markdown",
      "metadata": {
        "id": "2PaAyAAEuaAE"
      },
      "source": [
        "#### Selection by Position\n",
        "\n",
        "* row and column"
      ]
    },
    {
      "cell_type": "code",
      "metadata": {
        "id": "uluk48opuaAE",
        "outputId": "2f2264bb-9457-4944-a4ba-e4fdc60345a2"
      },
      "source": [
        "df.iloc[2]"
      ],
      "execution_count": null,
      "outputs": [
        {
          "output_type": "execute_result",
          "data": {
            "text/plain": [
              "A   -0.448772\n",
              "B    2.024578\n",
              "C   -1.654048\n",
              "D    0.723015\n",
              "Name: 2021-01-08 00:00:00, dtype: float64"
            ]
          },
          "metadata": {
            "tags": []
          },
          "execution_count": 40
        }
      ]
    },
    {
      "cell_type": "code",
      "metadata": {
        "id": "NcDd5sXIuaAE",
        "outputId": "796cde79-d7d8-4ce4-9858-442a73e737e4"
      },
      "source": [
        "df.iloc[:,1:3]"
      ],
      "execution_count": null,
      "outputs": [
        {
          "output_type": "execute_result",
          "data": {
            "text/html": [
              "<div>\n",
              "<style scoped>\n",
              "    .dataframe tbody tr th:only-of-type {\n",
              "        vertical-align: middle;\n",
              "    }\n",
              "\n",
              "    .dataframe tbody tr th {\n",
              "        vertical-align: top;\n",
              "    }\n",
              "\n",
              "    .dataframe thead th {\n",
              "        text-align: right;\n",
              "    }\n",
              "</style>\n",
              "<table border=\"1\" class=\"dataframe\">\n",
              "  <thead>\n",
              "    <tr style=\"text-align: right;\">\n",
              "      <th></th>\n",
              "      <th>B</th>\n",
              "      <th>C</th>\n",
              "    </tr>\n",
              "  </thead>\n",
              "  <tbody>\n",
              "    <tr>\n",
              "      <th>2021-01-06</th>\n",
              "      <td>-0.308370</td>\n",
              "      <td>-2.556374</td>\n",
              "    </tr>\n",
              "    <tr>\n",
              "      <th>2021-01-07</th>\n",
              "      <td>1.527887</td>\n",
              "      <td>-0.530647</td>\n",
              "    </tr>\n",
              "    <tr>\n",
              "      <th>2021-01-08</th>\n",
              "      <td>2.024578</td>\n",
              "      <td>-1.654048</td>\n",
              "    </tr>\n",
              "    <tr>\n",
              "      <th>2021-01-09</th>\n",
              "      <td>-1.013858</td>\n",
              "      <td>-0.022972</td>\n",
              "    </tr>\n",
              "    <tr>\n",
              "      <th>2021-01-10</th>\n",
              "      <td>0.099438</td>\n",
              "      <td>0.250337</td>\n",
              "    </tr>\n",
              "    <tr>\n",
              "      <th>2021-01-11</th>\n",
              "      <td>0.564028</td>\n",
              "      <td>-0.491385</td>\n",
              "    </tr>\n",
              "  </tbody>\n",
              "</table>\n",
              "</div>"
            ],
            "text/plain": [
              "                   B         C\n",
              "2021-01-06 -0.308370 -2.556374\n",
              "2021-01-07  1.527887 -0.530647\n",
              "2021-01-08  2.024578 -1.654048\n",
              "2021-01-09 -1.013858 -0.022972\n",
              "2021-01-10  0.099438  0.250337\n",
              "2021-01-11  0.564028 -0.491385"
            ]
          },
          "metadata": {
            "tags": []
          },
          "execution_count": 42
        }
      ]
    },
    {
      "cell_type": "markdown",
      "metadata": {
        "id": "b5GE7KNouaAE"
      },
      "source": [
        "#### Boolean Indexing"
      ]
    },
    {
      "cell_type": "code",
      "metadata": {
        "id": "r16x6fJWuaAF",
        "outputId": "58f1d42b-a966-4769-b21f-3e5c520f966b"
      },
      "source": [
        "df[df[\"A\"] > 0]"
      ],
      "execution_count": null,
      "outputs": [
        {
          "output_type": "execute_result",
          "data": {
            "text/html": [
              "<div>\n",
              "<style scoped>\n",
              "    .dataframe tbody tr th:only-of-type {\n",
              "        vertical-align: middle;\n",
              "    }\n",
              "\n",
              "    .dataframe tbody tr th {\n",
              "        vertical-align: top;\n",
              "    }\n",
              "\n",
              "    .dataframe thead th {\n",
              "        text-align: right;\n",
              "    }\n",
              "</style>\n",
              "<table border=\"1\" class=\"dataframe\">\n",
              "  <thead>\n",
              "    <tr style=\"text-align: right;\">\n",
              "      <th></th>\n",
              "      <th>A</th>\n",
              "      <th>B</th>\n",
              "      <th>C</th>\n",
              "      <th>D</th>\n",
              "    </tr>\n",
              "  </thead>\n",
              "  <tbody>\n",
              "    <tr>\n",
              "      <th>2021-01-06</th>\n",
              "      <td>1.067907</td>\n",
              "      <td>-0.30837</td>\n",
              "      <td>-2.556374</td>\n",
              "      <td>-0.479453</td>\n",
              "    </tr>\n",
              "  </tbody>\n",
              "</table>\n",
              "</div>"
            ],
            "text/plain": [
              "                   A        B         C         D\n",
              "2021-01-06  1.067907 -0.30837 -2.556374 -0.479453"
            ]
          },
          "metadata": {
            "tags": []
          },
          "execution_count": 43
        }
      ]
    },
    {
      "cell_type": "code",
      "metadata": {
        "id": "vGBdpidcuaAF",
        "outputId": "38c817ed-fe26-441a-b028-e5ddeb6d1295"
      },
      "source": [
        "df[df > 0]"
      ],
      "execution_count": null,
      "outputs": [
        {
          "output_type": "execute_result",
          "data": {
            "text/html": [
              "<div>\n",
              "<style scoped>\n",
              "    .dataframe tbody tr th:only-of-type {\n",
              "        vertical-align: middle;\n",
              "    }\n",
              "\n",
              "    .dataframe tbody tr th {\n",
              "        vertical-align: top;\n",
              "    }\n",
              "\n",
              "    .dataframe thead th {\n",
              "        text-align: right;\n",
              "    }\n",
              "</style>\n",
              "<table border=\"1\" class=\"dataframe\">\n",
              "  <thead>\n",
              "    <tr style=\"text-align: right;\">\n",
              "      <th></th>\n",
              "      <th>A</th>\n",
              "      <th>B</th>\n",
              "      <th>C</th>\n",
              "      <th>D</th>\n",
              "    </tr>\n",
              "  </thead>\n",
              "  <tbody>\n",
              "    <tr>\n",
              "      <th>2021-01-06</th>\n",
              "      <td>1.067907</td>\n",
              "      <td>NaN</td>\n",
              "      <td>NaN</td>\n",
              "      <td>NaN</td>\n",
              "    </tr>\n",
              "    <tr>\n",
              "      <th>2021-01-07</th>\n",
              "      <td>NaN</td>\n",
              "      <td>1.527887</td>\n",
              "      <td>NaN</td>\n",
              "      <td>NaN</td>\n",
              "    </tr>\n",
              "    <tr>\n",
              "      <th>2021-01-08</th>\n",
              "      <td>NaN</td>\n",
              "      <td>2.024578</td>\n",
              "      <td>NaN</td>\n",
              "      <td>0.723015</td>\n",
              "    </tr>\n",
              "    <tr>\n",
              "      <th>2021-01-09</th>\n",
              "      <td>NaN</td>\n",
              "      <td>NaN</td>\n",
              "      <td>NaN</td>\n",
              "      <td>NaN</td>\n",
              "    </tr>\n",
              "    <tr>\n",
              "      <th>2021-01-10</th>\n",
              "      <td>NaN</td>\n",
              "      <td>0.099438</td>\n",
              "      <td>0.250337</td>\n",
              "      <td>NaN</td>\n",
              "    </tr>\n",
              "    <tr>\n",
              "      <th>2021-01-11</th>\n",
              "      <td>NaN</td>\n",
              "      <td>0.564028</td>\n",
              "      <td>NaN</td>\n",
              "      <td>NaN</td>\n",
              "    </tr>\n",
              "  </tbody>\n",
              "</table>\n",
              "</div>"
            ],
            "text/plain": [
              "                   A         B         C         D\n",
              "2021-01-06  1.067907       NaN       NaN       NaN\n",
              "2021-01-07       NaN  1.527887       NaN       NaN\n",
              "2021-01-08       NaN  2.024578       NaN  0.723015\n",
              "2021-01-09       NaN       NaN       NaN       NaN\n",
              "2021-01-10       NaN  0.099438  0.250337       NaN\n",
              "2021-01-11       NaN  0.564028       NaN       NaN"
            ]
          },
          "metadata": {
            "tags": []
          },
          "execution_count": 44
        }
      ]
    },
    {
      "cell_type": "code",
      "metadata": {
        "id": "Yo1-urPCuaAF"
      },
      "source": [
        "df2 = df.copy()"
      ],
      "execution_count": null,
      "outputs": []
    },
    {
      "cell_type": "code",
      "metadata": {
        "id": "32tTwhIKuaAF"
      },
      "source": [
        "df2[\"E\"] = [\"one\",\"two\",\"three\",\"four\",\"five\",\"six\"]"
      ],
      "execution_count": null,
      "outputs": []
    },
    {
      "cell_type": "code",
      "metadata": {
        "id": "Yt9-eDnduaAF",
        "outputId": "cbab995c-540c-4daa-db79-c6ea4c45d6b2"
      },
      "source": [
        "df2"
      ],
      "execution_count": null,
      "outputs": [
        {
          "output_type": "execute_result",
          "data": {
            "text/html": [
              "<div>\n",
              "<style scoped>\n",
              "    .dataframe tbody tr th:only-of-type {\n",
              "        vertical-align: middle;\n",
              "    }\n",
              "\n",
              "    .dataframe tbody tr th {\n",
              "        vertical-align: top;\n",
              "    }\n",
              "\n",
              "    .dataframe thead th {\n",
              "        text-align: right;\n",
              "    }\n",
              "</style>\n",
              "<table border=\"1\" class=\"dataframe\">\n",
              "  <thead>\n",
              "    <tr style=\"text-align: right;\">\n",
              "      <th></th>\n",
              "      <th>A</th>\n",
              "      <th>B</th>\n",
              "      <th>C</th>\n",
              "      <th>D</th>\n",
              "      <th>E</th>\n",
              "    </tr>\n",
              "  </thead>\n",
              "  <tbody>\n",
              "    <tr>\n",
              "      <th>2021-01-06</th>\n",
              "      <td>1.067907</td>\n",
              "      <td>-0.308370</td>\n",
              "      <td>-2.556374</td>\n",
              "      <td>-0.479453</td>\n",
              "      <td>one</td>\n",
              "    </tr>\n",
              "    <tr>\n",
              "      <th>2021-01-07</th>\n",
              "      <td>-0.406669</td>\n",
              "      <td>1.527887</td>\n",
              "      <td>-0.530647</td>\n",
              "      <td>-1.747194</td>\n",
              "      <td>two</td>\n",
              "    </tr>\n",
              "    <tr>\n",
              "      <th>2021-01-08</th>\n",
              "      <td>-0.448772</td>\n",
              "      <td>2.024578</td>\n",
              "      <td>-1.654048</td>\n",
              "      <td>0.723015</td>\n",
              "      <td>three</td>\n",
              "    </tr>\n",
              "    <tr>\n",
              "      <th>2021-01-09</th>\n",
              "      <td>-0.348636</td>\n",
              "      <td>-1.013858</td>\n",
              "      <td>-0.022972</td>\n",
              "      <td>-0.691032</td>\n",
              "      <td>four</td>\n",
              "    </tr>\n",
              "    <tr>\n",
              "      <th>2021-01-10</th>\n",
              "      <td>-0.649714</td>\n",
              "      <td>0.099438</td>\n",
              "      <td>0.250337</td>\n",
              "      <td>-0.258712</td>\n",
              "      <td>five</td>\n",
              "    </tr>\n",
              "    <tr>\n",
              "      <th>2021-01-11</th>\n",
              "      <td>-0.354186</td>\n",
              "      <td>0.564028</td>\n",
              "      <td>-0.491385</td>\n",
              "      <td>-0.266737</td>\n",
              "      <td>six</td>\n",
              "    </tr>\n",
              "  </tbody>\n",
              "</table>\n",
              "</div>"
            ],
            "text/plain": [
              "                   A         B         C         D      E\n",
              "2021-01-06  1.067907 -0.308370 -2.556374 -0.479453    one\n",
              "2021-01-07 -0.406669  1.527887 -0.530647 -1.747194    two\n",
              "2021-01-08 -0.448772  2.024578 -1.654048  0.723015  three\n",
              "2021-01-09 -0.348636 -1.013858 -0.022972 -0.691032   four\n",
              "2021-01-10 -0.649714  0.099438  0.250337 -0.258712   five\n",
              "2021-01-11 -0.354186  0.564028 -0.491385 -0.266737    six"
            ]
          },
          "metadata": {
            "tags": []
          },
          "execution_count": 47
        }
      ]
    },
    {
      "cell_type": "code",
      "metadata": {
        "id": "jTwHSlysuaAG",
        "outputId": "4aa12489-df8f-48d9-b06e-eb9319a72823"
      },
      "source": [
        "df2[df2[\"E\"].isin([\"three\",\"five\"])]"
      ],
      "execution_count": null,
      "outputs": [
        {
          "output_type": "execute_result",
          "data": {
            "text/html": [
              "<div>\n",
              "<style scoped>\n",
              "    .dataframe tbody tr th:only-of-type {\n",
              "        vertical-align: middle;\n",
              "    }\n",
              "\n",
              "    .dataframe tbody tr th {\n",
              "        vertical-align: top;\n",
              "    }\n",
              "\n",
              "    .dataframe thead th {\n",
              "        text-align: right;\n",
              "    }\n",
              "</style>\n",
              "<table border=\"1\" class=\"dataframe\">\n",
              "  <thead>\n",
              "    <tr style=\"text-align: right;\">\n",
              "      <th></th>\n",
              "      <th>A</th>\n",
              "      <th>B</th>\n",
              "      <th>C</th>\n",
              "      <th>D</th>\n",
              "      <th>E</th>\n",
              "    </tr>\n",
              "  </thead>\n",
              "  <tbody>\n",
              "    <tr>\n",
              "      <th>2021-01-08</th>\n",
              "      <td>-0.448772</td>\n",
              "      <td>2.024578</td>\n",
              "      <td>-1.654048</td>\n",
              "      <td>0.723015</td>\n",
              "      <td>three</td>\n",
              "    </tr>\n",
              "    <tr>\n",
              "      <th>2021-01-10</th>\n",
              "      <td>-0.649714</td>\n",
              "      <td>0.099438</td>\n",
              "      <td>0.250337</td>\n",
              "      <td>-0.258712</td>\n",
              "      <td>five</td>\n",
              "    </tr>\n",
              "  </tbody>\n",
              "</table>\n",
              "</div>"
            ],
            "text/plain": [
              "                   A         B         C         D      E\n",
              "2021-01-08 -0.448772  2.024578 -1.654048  0.723015  three\n",
              "2021-01-10 -0.649714  0.099438  0.250337 -0.258712   five"
            ]
          },
          "metadata": {
            "tags": []
          },
          "execution_count": 48
        }
      ]
    },
    {
      "cell_type": "markdown",
      "metadata": {
        "id": "8fdGApGAuaAI"
      },
      "source": [
        "#### Setting"
      ]
    },
    {
      "cell_type": "code",
      "metadata": {
        "id": "axKXdAeEuaAI"
      },
      "source": [
        "s1 = pd.Series([1,2,3,4,5,6], index = pd.date_range(\"20210106\", periods=6))"
      ],
      "execution_count": null,
      "outputs": []
    },
    {
      "cell_type": "code",
      "metadata": {
        "id": "91FYJEpUuaAI",
        "outputId": "942c5a8e-2787-4639-f1f0-11bbe4085ec2"
      },
      "source": [
        "s1"
      ],
      "execution_count": null,
      "outputs": [
        {
          "output_type": "execute_result",
          "data": {
            "text/plain": [
              "2021-01-06    1\n",
              "2021-01-07    2\n",
              "2021-01-08    3\n",
              "2021-01-09    4\n",
              "2021-01-10    5\n",
              "2021-01-11    6\n",
              "Freq: D, dtype: int64"
            ]
          },
          "metadata": {
            "tags": []
          },
          "execution_count": 52
        }
      ]
    },
    {
      "cell_type": "code",
      "metadata": {
        "id": "YYdH_lTBuaAJ"
      },
      "source": [
        "df[\"F\"] = s1"
      ],
      "execution_count": null,
      "outputs": []
    },
    {
      "cell_type": "code",
      "metadata": {
        "id": "pykoJsCbuaAJ"
      },
      "source": [
        "df.at[dates[0],\"A\"] = 2"
      ],
      "execution_count": null,
      "outputs": []
    },
    {
      "cell_type": "code",
      "metadata": {
        "id": "AcjfP0jCuaAJ"
      },
      "source": [
        "df.iat[0,1] = 0"
      ],
      "execution_count": null,
      "outputs": []
    },
    {
      "cell_type": "code",
      "metadata": {
        "id": "8N-WTMrOuaAJ"
      },
      "source": [
        "df.loc[:,\"D\"] = np.array([5] * len(df))"
      ],
      "execution_count": null,
      "outputs": []
    },
    {
      "cell_type": "code",
      "metadata": {
        "id": "4TJAMTaluaAJ",
        "outputId": "7dd2f6f8-de77-4334-b4ef-c5e15a7c2af7"
      },
      "source": [
        "df"
      ],
      "execution_count": null,
      "outputs": [
        {
          "output_type": "execute_result",
          "data": {
            "text/html": [
              "<div>\n",
              "<style scoped>\n",
              "    .dataframe tbody tr th:only-of-type {\n",
              "        vertical-align: middle;\n",
              "    }\n",
              "\n",
              "    .dataframe tbody tr th {\n",
              "        vertical-align: top;\n",
              "    }\n",
              "\n",
              "    .dataframe thead th {\n",
              "        text-align: right;\n",
              "    }\n",
              "</style>\n",
              "<table border=\"1\" class=\"dataframe\">\n",
              "  <thead>\n",
              "    <tr style=\"text-align: right;\">\n",
              "      <th></th>\n",
              "      <th>A</th>\n",
              "      <th>B</th>\n",
              "      <th>C</th>\n",
              "      <th>D</th>\n",
              "      <th>F</th>\n",
              "    </tr>\n",
              "  </thead>\n",
              "  <tbody>\n",
              "    <tr>\n",
              "      <th>2021-01-06</th>\n",
              "      <td>2.000000</td>\n",
              "      <td>0.000000</td>\n",
              "      <td>-2.556374</td>\n",
              "      <td>5</td>\n",
              "      <td>1</td>\n",
              "    </tr>\n",
              "    <tr>\n",
              "      <th>2021-01-07</th>\n",
              "      <td>-0.406669</td>\n",
              "      <td>1.527887</td>\n",
              "      <td>-0.530647</td>\n",
              "      <td>5</td>\n",
              "      <td>2</td>\n",
              "    </tr>\n",
              "    <tr>\n",
              "      <th>2021-01-08</th>\n",
              "      <td>-0.448772</td>\n",
              "      <td>2.024578</td>\n",
              "      <td>-1.654048</td>\n",
              "      <td>5</td>\n",
              "      <td>3</td>\n",
              "    </tr>\n",
              "    <tr>\n",
              "      <th>2021-01-09</th>\n",
              "      <td>-0.348636</td>\n",
              "      <td>-1.013858</td>\n",
              "      <td>-0.022972</td>\n",
              "      <td>5</td>\n",
              "      <td>4</td>\n",
              "    </tr>\n",
              "    <tr>\n",
              "      <th>2021-01-10</th>\n",
              "      <td>-0.649714</td>\n",
              "      <td>0.099438</td>\n",
              "      <td>0.250337</td>\n",
              "      <td>5</td>\n",
              "      <td>5</td>\n",
              "    </tr>\n",
              "    <tr>\n",
              "      <th>2021-01-11</th>\n",
              "      <td>-0.354186</td>\n",
              "      <td>0.564028</td>\n",
              "      <td>-0.491385</td>\n",
              "      <td>5</td>\n",
              "      <td>6</td>\n",
              "    </tr>\n",
              "  </tbody>\n",
              "</table>\n",
              "</div>"
            ],
            "text/plain": [
              "                   A         B         C  D  F\n",
              "2021-01-06  2.000000  0.000000 -2.556374  5  1\n",
              "2021-01-07 -0.406669  1.527887 -0.530647  5  2\n",
              "2021-01-08 -0.448772  2.024578 -1.654048  5  3\n",
              "2021-01-09 -0.348636 -1.013858 -0.022972  5  4\n",
              "2021-01-10 -0.649714  0.099438  0.250337  5  5\n",
              "2021-01-11 -0.354186  0.564028 -0.491385  5  6"
            ]
          },
          "metadata": {
            "tags": []
          },
          "execution_count": 60
        }
      ]
    },
    {
      "cell_type": "code",
      "metadata": {
        "id": "i9VsQmjiuaAK"
      },
      "source": [
        "df2 = df.copy()"
      ],
      "execution_count": null,
      "outputs": []
    },
    {
      "cell_type": "code",
      "metadata": {
        "id": "Yq_xqxNPuaAK"
      },
      "source": [
        "df2[df2 > 0] = -df2"
      ],
      "execution_count": null,
      "outputs": []
    },
    {
      "cell_type": "code",
      "metadata": {
        "id": "KEJeOhqIuaAK",
        "outputId": "f3425ea5-40bc-40d9-96e3-c545f653511b"
      },
      "source": [
        "df2"
      ],
      "execution_count": null,
      "outputs": [
        {
          "output_type": "execute_result",
          "data": {
            "text/html": [
              "<div>\n",
              "<style scoped>\n",
              "    .dataframe tbody tr th:only-of-type {\n",
              "        vertical-align: middle;\n",
              "    }\n",
              "\n",
              "    .dataframe tbody tr th {\n",
              "        vertical-align: top;\n",
              "    }\n",
              "\n",
              "    .dataframe thead th {\n",
              "        text-align: right;\n",
              "    }\n",
              "</style>\n",
              "<table border=\"1\" class=\"dataframe\">\n",
              "  <thead>\n",
              "    <tr style=\"text-align: right;\">\n",
              "      <th></th>\n",
              "      <th>A</th>\n",
              "      <th>B</th>\n",
              "      <th>C</th>\n",
              "      <th>D</th>\n",
              "      <th>F</th>\n",
              "    </tr>\n",
              "  </thead>\n",
              "  <tbody>\n",
              "    <tr>\n",
              "      <th>2021-01-06</th>\n",
              "      <td>-2.000000</td>\n",
              "      <td>0.000000</td>\n",
              "      <td>-2.556374</td>\n",
              "      <td>-5</td>\n",
              "      <td>-1</td>\n",
              "    </tr>\n",
              "    <tr>\n",
              "      <th>2021-01-07</th>\n",
              "      <td>-0.406669</td>\n",
              "      <td>-1.527887</td>\n",
              "      <td>-0.530647</td>\n",
              "      <td>-5</td>\n",
              "      <td>-2</td>\n",
              "    </tr>\n",
              "    <tr>\n",
              "      <th>2021-01-08</th>\n",
              "      <td>-0.448772</td>\n",
              "      <td>-2.024578</td>\n",
              "      <td>-1.654048</td>\n",
              "      <td>-5</td>\n",
              "      <td>-3</td>\n",
              "    </tr>\n",
              "    <tr>\n",
              "      <th>2021-01-09</th>\n",
              "      <td>-0.348636</td>\n",
              "      <td>-1.013858</td>\n",
              "      <td>-0.022972</td>\n",
              "      <td>-5</td>\n",
              "      <td>-4</td>\n",
              "    </tr>\n",
              "    <tr>\n",
              "      <th>2021-01-10</th>\n",
              "      <td>-0.649714</td>\n",
              "      <td>-0.099438</td>\n",
              "      <td>-0.250337</td>\n",
              "      <td>-5</td>\n",
              "      <td>-5</td>\n",
              "    </tr>\n",
              "    <tr>\n",
              "      <th>2021-01-11</th>\n",
              "      <td>-0.354186</td>\n",
              "      <td>-0.564028</td>\n",
              "      <td>-0.491385</td>\n",
              "      <td>-5</td>\n",
              "      <td>-6</td>\n",
              "    </tr>\n",
              "  </tbody>\n",
              "</table>\n",
              "</div>"
            ],
            "text/plain": [
              "                   A         B         C  D  F\n",
              "2021-01-06 -2.000000  0.000000 -2.556374 -5 -1\n",
              "2021-01-07 -0.406669 -1.527887 -0.530647 -5 -2\n",
              "2021-01-08 -0.448772 -2.024578 -1.654048 -5 -3\n",
              "2021-01-09 -0.348636 -1.013858 -0.022972 -5 -4\n",
              "2021-01-10 -0.649714 -0.099438 -0.250337 -5 -5\n",
              "2021-01-11 -0.354186 -0.564028 -0.491385 -5 -6"
            ]
          },
          "metadata": {
            "tags": []
          },
          "execution_count": 63
        }
      ]
    },
    {
      "cell_type": "code",
      "metadata": {
        "id": "ejc7Be55urAA"
      },
      "source": [
        ""
      ],
      "execution_count": 2,
      "outputs": []
    }
  ]
}