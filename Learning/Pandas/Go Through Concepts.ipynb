{
 "cells": [
  {
   "cell_type": "markdown",
   "metadata": {
    "id": "yV1xV96cuZ_4"
   },
   "source": [
    "Creating a **Series** by passing a list of values"
   ]
  },
  {
   "cell_type": "code",
   "execution_count": 6,
   "metadata": {
    "id": "2MrtrlQPuZ_5"
   },
   "outputs": [],
   "source": [
    "import pandas as pd\n",
    "import numpy as np\n",
    "\n",
    "s = pd.Series([1,3,5,np.nan,6,8])"
   ]
  },
  {
   "cell_type": "code",
   "execution_count": 7,
   "metadata": {
    "id": "7hdzrvEzuZ_5",
    "outputId": "bb779e3f-e057-4f96-f280-269217023165"
   },
   "outputs": [
    {
     "data": {
      "text/plain": [
       "0    1.0\n",
       "1    3.0\n",
       "2    5.0\n",
       "3    NaN\n",
       "4    6.0\n",
       "5    8.0\n",
       "dtype: float64"
      ]
     },
     "execution_count": 7,
     "metadata": {},
     "output_type": "execute_result"
    }
   ],
   "source": [
    "s"
   ]
  },
  {
   "cell_type": "markdown",
   "metadata": {
    "id": "E-g8oSDzuZ_6"
   },
   "source": [
    "Creating a **DataFrame** using Numpy array, with a datetime index and labeld column"
   ]
  },
  {
   "cell_type": "code",
   "execution_count": 8,
   "metadata": {
    "id": "OthBAZ-uuZ_7"
   },
   "outputs": [],
   "source": [
    "dates = pd.date_range(\"20210106\", periods=6)"
   ]
  },
  {
   "cell_type": "code",
   "execution_count": 9,
   "metadata": {
    "id": "XSoGGrmduZ_7",
    "outputId": "a7f391ee-63ee-4288-949f-13dba7a0b713"
   },
   "outputs": [
    {
     "data": {
      "text/plain": [
       "DatetimeIndex(['2021-01-06', '2021-01-07', '2021-01-08', '2021-01-09',\n",
       "               '2021-01-10', '2021-01-11'],\n",
       "              dtype='datetime64[ns]', freq='D')"
      ]
     },
     "execution_count": 9,
     "metadata": {},
     "output_type": "execute_result"
    }
   ],
   "source": [
    "dates"
   ]
  },
  {
   "cell_type": "code",
   "execution_count": 10,
   "metadata": {
    "id": "D6FjeNb4uZ_8"
   },
   "outputs": [],
   "source": [
    "df = pd.DataFrame(np.random.randn(6,4), index = dates, columns = list(\"ABCD\"))"
   ]
  },
  {
   "cell_type": "code",
   "execution_count": 11,
   "metadata": {
    "id": "hqyfij9cuZ_8",
    "outputId": "617937e9-b4b1-440c-8530-4caef1bf04b1"
   },
   "outputs": [
    {
     "data": {
      "text/html": [
       "<div>\n",
       "<style scoped>\n",
       "    .dataframe tbody tr th:only-of-type {\n",
       "        vertical-align: middle;\n",
       "    }\n",
       "\n",
       "    .dataframe tbody tr th {\n",
       "        vertical-align: top;\n",
       "    }\n",
       "\n",
       "    .dataframe thead th {\n",
       "        text-align: right;\n",
       "    }\n",
       "</style>\n",
       "<table border=\"1\" class=\"dataframe\">\n",
       "  <thead>\n",
       "    <tr style=\"text-align: right;\">\n",
       "      <th></th>\n",
       "      <th>A</th>\n",
       "      <th>B</th>\n",
       "      <th>C</th>\n",
       "      <th>D</th>\n",
       "    </tr>\n",
       "  </thead>\n",
       "  <tbody>\n",
       "    <tr>\n",
       "      <th>2021-01-06</th>\n",
       "      <td>0.398769</td>\n",
       "      <td>-1.028387</td>\n",
       "      <td>0.821235</td>\n",
       "      <td>-0.068152</td>\n",
       "    </tr>\n",
       "    <tr>\n",
       "      <th>2021-01-07</th>\n",
       "      <td>-1.858927</td>\n",
       "      <td>1.407557</td>\n",
       "      <td>0.646231</td>\n",
       "      <td>0.678341</td>\n",
       "    </tr>\n",
       "    <tr>\n",
       "      <th>2021-01-08</th>\n",
       "      <td>-0.797984</td>\n",
       "      <td>-0.788728</td>\n",
       "      <td>2.290362</td>\n",
       "      <td>-0.250332</td>\n",
       "    </tr>\n",
       "    <tr>\n",
       "      <th>2021-01-09</th>\n",
       "      <td>0.114675</td>\n",
       "      <td>-2.729410</td>\n",
       "      <td>1.152098</td>\n",
       "      <td>0.992756</td>\n",
       "    </tr>\n",
       "    <tr>\n",
       "      <th>2021-01-10</th>\n",
       "      <td>-0.329168</td>\n",
       "      <td>-0.058051</td>\n",
       "      <td>-0.346103</td>\n",
       "      <td>-0.272864</td>\n",
       "    </tr>\n",
       "    <tr>\n",
       "      <th>2021-01-11</th>\n",
       "      <td>0.475726</td>\n",
       "      <td>1.232715</td>\n",
       "      <td>0.240063</td>\n",
       "      <td>0.206560</td>\n",
       "    </tr>\n",
       "  </tbody>\n",
       "</table>\n",
       "</div>"
      ],
      "text/plain": [
       "                   A         B         C         D\n",
       "2021-01-06  0.398769 -1.028387  0.821235 -0.068152\n",
       "2021-01-07 -1.858927  1.407557  0.646231  0.678341\n",
       "2021-01-08 -0.797984 -0.788728  2.290362 -0.250332\n",
       "2021-01-09  0.114675 -2.729410  1.152098  0.992756\n",
       "2021-01-10 -0.329168 -0.058051 -0.346103 -0.272864\n",
       "2021-01-11  0.475726  1.232715  0.240063  0.206560"
      ]
     },
     "execution_count": 11,
     "metadata": {},
     "output_type": "execute_result"
    }
   ],
   "source": [
    "df"
   ]
  },
  {
   "cell_type": "markdown",
   "metadata": {
    "id": "Tu-36-JLuZ_9"
   },
   "source": [
    "**DataFrame** from dict()"
   ]
  },
  {
   "cell_type": "code",
   "execution_count": 12,
   "metadata": {
    "id": "h25HbV9muZ_9"
   },
   "outputs": [],
   "source": [
    "df2 = pd.DataFrame(\n",
    "    {\n",
    "        \"A\": 1.0, \n",
    "        \"B\": pd.Timestamp(\"20210305\"), \n",
    "        \"C\": pd.Series(1, index = list(range(4)), dtype = \"float32\"),\n",
    "        \"D\": np.array([3] * 4, dtype = \"int32\"),\n",
    "        \"E\": pd.Categorical([\"test\",\"train\"] * 2),\n",
    "        \"F\": \"foo\"\n",
    "    })"
   ]
  },
  {
   "cell_type": "code",
   "execution_count": 13,
   "metadata": {
    "id": "rUMx6uZIuZ_-",
    "outputId": "d7931845-4e16-4b85-8e8a-352562aafcfc"
   },
   "outputs": [
    {
     "data": {
      "text/html": [
       "<div>\n",
       "<style scoped>\n",
       "    .dataframe tbody tr th:only-of-type {\n",
       "        vertical-align: middle;\n",
       "    }\n",
       "\n",
       "    .dataframe tbody tr th {\n",
       "        vertical-align: top;\n",
       "    }\n",
       "\n",
       "    .dataframe thead th {\n",
       "        text-align: right;\n",
       "    }\n",
       "</style>\n",
       "<table border=\"1\" class=\"dataframe\">\n",
       "  <thead>\n",
       "    <tr style=\"text-align: right;\">\n",
       "      <th></th>\n",
       "      <th>A</th>\n",
       "      <th>B</th>\n",
       "      <th>C</th>\n",
       "      <th>D</th>\n",
       "      <th>E</th>\n",
       "      <th>F</th>\n",
       "    </tr>\n",
       "  </thead>\n",
       "  <tbody>\n",
       "    <tr>\n",
       "      <th>0</th>\n",
       "      <td>1.0</td>\n",
       "      <td>2021-03-05</td>\n",
       "      <td>1.0</td>\n",
       "      <td>3</td>\n",
       "      <td>test</td>\n",
       "      <td>foo</td>\n",
       "    </tr>\n",
       "    <tr>\n",
       "      <th>1</th>\n",
       "      <td>1.0</td>\n",
       "      <td>2021-03-05</td>\n",
       "      <td>1.0</td>\n",
       "      <td>3</td>\n",
       "      <td>train</td>\n",
       "      <td>foo</td>\n",
       "    </tr>\n",
       "    <tr>\n",
       "      <th>2</th>\n",
       "      <td>1.0</td>\n",
       "      <td>2021-03-05</td>\n",
       "      <td>1.0</td>\n",
       "      <td>3</td>\n",
       "      <td>test</td>\n",
       "      <td>foo</td>\n",
       "    </tr>\n",
       "    <tr>\n",
       "      <th>3</th>\n",
       "      <td>1.0</td>\n",
       "      <td>2021-03-05</td>\n",
       "      <td>1.0</td>\n",
       "      <td>3</td>\n",
       "      <td>train</td>\n",
       "      <td>foo</td>\n",
       "    </tr>\n",
       "  </tbody>\n",
       "</table>\n",
       "</div>"
      ],
      "text/plain": [
       "     A          B    C  D      E    F\n",
       "0  1.0 2021-03-05  1.0  3   test  foo\n",
       "1  1.0 2021-03-05  1.0  3  train  foo\n",
       "2  1.0 2021-03-05  1.0  3   test  foo\n",
       "3  1.0 2021-03-05  1.0  3  train  foo"
      ]
     },
     "execution_count": 13,
     "metadata": {},
     "output_type": "execute_result"
    }
   ],
   "source": [
    "df2"
   ]
  },
  {
   "cell_type": "code",
   "execution_count": 14,
   "metadata": {
    "id": "ENRnar0RuZ_-",
    "outputId": "36054af9-06e9-4233-92a1-cc7084a9a663"
   },
   "outputs": [
    {
     "data": {
      "text/plain": [
       "A           float64\n",
       "B    datetime64[ns]\n",
       "C           float32\n",
       "D             int32\n",
       "E          category\n",
       "F            object\n",
       "dtype: object"
      ]
     },
     "execution_count": 14,
     "metadata": {},
     "output_type": "execute_result"
    }
   ],
   "source": [
    "df2.dtypes"
   ]
  },
  {
   "cell_type": "markdown",
   "metadata": {
    "id": "HKVZ_T-tuZ_-"
   },
   "source": [
    "### Viewing Data"
   ]
  },
  {
   "cell_type": "code",
   "execution_count": 15,
   "metadata": {
    "id": "qETMDK3juZ__",
    "outputId": "0b8daede-eb51-4d60-eb70-80400e0d708c"
   },
   "outputs": [
    {
     "data": {
      "text/html": [
       "<div>\n",
       "<style scoped>\n",
       "    .dataframe tbody tr th:only-of-type {\n",
       "        vertical-align: middle;\n",
       "    }\n",
       "\n",
       "    .dataframe tbody tr th {\n",
       "        vertical-align: top;\n",
       "    }\n",
       "\n",
       "    .dataframe thead th {\n",
       "        text-align: right;\n",
       "    }\n",
       "</style>\n",
       "<table border=\"1\" class=\"dataframe\">\n",
       "  <thead>\n",
       "    <tr style=\"text-align: right;\">\n",
       "      <th></th>\n",
       "      <th>A</th>\n",
       "      <th>B</th>\n",
       "      <th>C</th>\n",
       "      <th>D</th>\n",
       "    </tr>\n",
       "  </thead>\n",
       "  <tbody>\n",
       "    <tr>\n",
       "      <th>2021-01-06</th>\n",
       "      <td>0.398769</td>\n",
       "      <td>-1.028387</td>\n",
       "      <td>0.821235</td>\n",
       "      <td>-0.068152</td>\n",
       "    </tr>\n",
       "    <tr>\n",
       "      <th>2021-01-07</th>\n",
       "      <td>-1.858927</td>\n",
       "      <td>1.407557</td>\n",
       "      <td>0.646231</td>\n",
       "      <td>0.678341</td>\n",
       "    </tr>\n",
       "    <tr>\n",
       "      <th>2021-01-08</th>\n",
       "      <td>-0.797984</td>\n",
       "      <td>-0.788728</td>\n",
       "      <td>2.290362</td>\n",
       "      <td>-0.250332</td>\n",
       "    </tr>\n",
       "    <tr>\n",
       "      <th>2021-01-09</th>\n",
       "      <td>0.114675</td>\n",
       "      <td>-2.729410</td>\n",
       "      <td>1.152098</td>\n",
       "      <td>0.992756</td>\n",
       "    </tr>\n",
       "    <tr>\n",
       "      <th>2021-01-10</th>\n",
       "      <td>-0.329168</td>\n",
       "      <td>-0.058051</td>\n",
       "      <td>-0.346103</td>\n",
       "      <td>-0.272864</td>\n",
       "    </tr>\n",
       "  </tbody>\n",
       "</table>\n",
       "</div>"
      ],
      "text/plain": [
       "                   A         B         C         D\n",
       "2021-01-06  0.398769 -1.028387  0.821235 -0.068152\n",
       "2021-01-07 -1.858927  1.407557  0.646231  0.678341\n",
       "2021-01-08 -0.797984 -0.788728  2.290362 -0.250332\n",
       "2021-01-09  0.114675 -2.729410  1.152098  0.992756\n",
       "2021-01-10 -0.329168 -0.058051 -0.346103 -0.272864"
      ]
     },
     "execution_count": 15,
     "metadata": {},
     "output_type": "execute_result"
    }
   ],
   "source": [
    "df.head()"
   ]
  },
  {
   "cell_type": "code",
   "execution_count": 16,
   "metadata": {
    "id": "YN8Ios-PuZ__",
    "outputId": "fca6a2bc-0076-4cc5-d030-452eab260008"
   },
   "outputs": [
    {
     "data": {
      "text/html": [
       "<div>\n",
       "<style scoped>\n",
       "    .dataframe tbody tr th:only-of-type {\n",
       "        vertical-align: middle;\n",
       "    }\n",
       "\n",
       "    .dataframe tbody tr th {\n",
       "        vertical-align: top;\n",
       "    }\n",
       "\n",
       "    .dataframe thead th {\n",
       "        text-align: right;\n",
       "    }\n",
       "</style>\n",
       "<table border=\"1\" class=\"dataframe\">\n",
       "  <thead>\n",
       "    <tr style=\"text-align: right;\">\n",
       "      <th></th>\n",
       "      <th>A</th>\n",
       "      <th>B</th>\n",
       "      <th>C</th>\n",
       "      <th>D</th>\n",
       "    </tr>\n",
       "  </thead>\n",
       "  <tbody>\n",
       "    <tr>\n",
       "      <th>2021-01-09</th>\n",
       "      <td>0.114675</td>\n",
       "      <td>-2.729410</td>\n",
       "      <td>1.152098</td>\n",
       "      <td>0.992756</td>\n",
       "    </tr>\n",
       "    <tr>\n",
       "      <th>2021-01-10</th>\n",
       "      <td>-0.329168</td>\n",
       "      <td>-0.058051</td>\n",
       "      <td>-0.346103</td>\n",
       "      <td>-0.272864</td>\n",
       "    </tr>\n",
       "    <tr>\n",
       "      <th>2021-01-11</th>\n",
       "      <td>0.475726</td>\n",
       "      <td>1.232715</td>\n",
       "      <td>0.240063</td>\n",
       "      <td>0.206560</td>\n",
       "    </tr>\n",
       "  </tbody>\n",
       "</table>\n",
       "</div>"
      ],
      "text/plain": [
       "                   A         B         C         D\n",
       "2021-01-09  0.114675 -2.729410  1.152098  0.992756\n",
       "2021-01-10 -0.329168 -0.058051 -0.346103 -0.272864\n",
       "2021-01-11  0.475726  1.232715  0.240063  0.206560"
      ]
     },
     "execution_count": 16,
     "metadata": {},
     "output_type": "execute_result"
    }
   ],
   "source": [
    "df.tail(3)"
   ]
  },
  {
   "cell_type": "code",
   "execution_count": 17,
   "metadata": {
    "id": "0-qzRMZsuaAA",
    "outputId": "2ed17818-d1d3-4671-8bd4-4dfc143ee084"
   },
   "outputs": [
    {
     "data": {
      "text/plain": [
       "DatetimeIndex(['2021-01-06', '2021-01-07', '2021-01-08', '2021-01-09',\n",
       "               '2021-01-10', '2021-01-11'],\n",
       "              dtype='datetime64[ns]', freq='D')"
      ]
     },
     "execution_count": 17,
     "metadata": {},
     "output_type": "execute_result"
    }
   ],
   "source": [
    "df.index"
   ]
  },
  {
   "cell_type": "code",
   "execution_count": 18,
   "metadata": {
    "id": "BKds18gQuaAA",
    "outputId": "2b8433db-abf1-495b-e8ee-10f1823306b5"
   },
   "outputs": [
    {
     "data": {
      "text/plain": [
       "Index(['A', 'B', 'C', 'D'], dtype='object')"
      ]
     },
     "execution_count": 18,
     "metadata": {},
     "output_type": "execute_result"
    }
   ],
   "source": [
    "df.columns"
   ]
  },
  {
   "cell_type": "code",
   "execution_count": 19,
   "metadata": {
    "id": "fUMacWKMuaAA",
    "outputId": "dd8677f5-148c-4f2e-ed3e-9bc7260b162b"
   },
   "outputs": [
    {
     "data": {
      "text/plain": [
       "array([[ 0.39876932, -1.02838707,  0.821235  , -0.06815218],\n",
       "       [-1.85892746,  1.40755714,  0.64623121,  0.67834054],\n",
       "       [-0.79798422, -0.78872767,  2.29036163, -0.25033172],\n",
       "       [ 0.11467459, -2.72941033,  1.15209758,  0.99275649],\n",
       "       [-0.32916831, -0.05805118, -0.34610258, -0.27286414],\n",
       "       [ 0.47572573,  1.23271534,  0.24006322,  0.20656004]])"
      ]
     },
     "execution_count": 19,
     "metadata": {},
     "output_type": "execute_result"
    }
   ],
   "source": [
    "df.to_numpy()\n",
    "# Gives a numpy representation of the DataFrame"
   ]
  },
  {
   "cell_type": "code",
   "execution_count": 20,
   "metadata": {
    "id": "uDfwFUcKuaAB",
    "outputId": "c69c29c8-1c69-47db-ca9a-e68b7289eee1"
   },
   "outputs": [
    {
     "data": {
      "text/html": [
       "<div>\n",
       "<style scoped>\n",
       "    .dataframe tbody tr th:only-of-type {\n",
       "        vertical-align: middle;\n",
       "    }\n",
       "\n",
       "    .dataframe tbody tr th {\n",
       "        vertical-align: top;\n",
       "    }\n",
       "\n",
       "    .dataframe thead th {\n",
       "        text-align: right;\n",
       "    }\n",
       "</style>\n",
       "<table border=\"1\" class=\"dataframe\">\n",
       "  <thead>\n",
       "    <tr style=\"text-align: right;\">\n",
       "      <th></th>\n",
       "      <th>A</th>\n",
       "      <th>B</th>\n",
       "      <th>C</th>\n",
       "      <th>D</th>\n",
       "    </tr>\n",
       "  </thead>\n",
       "  <tbody>\n",
       "    <tr>\n",
       "      <th>count</th>\n",
       "      <td>6.000000</td>\n",
       "      <td>6.000000</td>\n",
       "      <td>6.000000</td>\n",
       "      <td>6.000000</td>\n",
       "    </tr>\n",
       "    <tr>\n",
       "      <th>mean</th>\n",
       "      <td>-0.332818</td>\n",
       "      <td>-0.327384</td>\n",
       "      <td>0.800648</td>\n",
       "      <td>0.214385</td>\n",
       "    </tr>\n",
       "    <tr>\n",
       "      <th>std</th>\n",
       "      <td>0.887087</td>\n",
       "      <td>1.548576</td>\n",
       "      <td>0.894016</td>\n",
       "      <td>0.520457</td>\n",
       "    </tr>\n",
       "    <tr>\n",
       "      <th>min</th>\n",
       "      <td>-1.858927</td>\n",
       "      <td>-2.729410</td>\n",
       "      <td>-0.346103</td>\n",
       "      <td>-0.272864</td>\n",
       "    </tr>\n",
       "    <tr>\n",
       "      <th>25%</th>\n",
       "      <td>-0.680780</td>\n",
       "      <td>-0.968472</td>\n",
       "      <td>0.341605</td>\n",
       "      <td>-0.204787</td>\n",
       "    </tr>\n",
       "    <tr>\n",
       "      <th>50%</th>\n",
       "      <td>-0.107247</td>\n",
       "      <td>-0.423389</td>\n",
       "      <td>0.733733</td>\n",
       "      <td>0.069204</td>\n",
       "    </tr>\n",
       "    <tr>\n",
       "      <th>75%</th>\n",
       "      <td>0.327746</td>\n",
       "      <td>0.910024</td>\n",
       "      <td>1.069382</td>\n",
       "      <td>0.560395</td>\n",
       "    </tr>\n",
       "    <tr>\n",
       "      <th>max</th>\n",
       "      <td>0.475726</td>\n",
       "      <td>1.407557</td>\n",
       "      <td>2.290362</td>\n",
       "      <td>0.992756</td>\n",
       "    </tr>\n",
       "  </tbody>\n",
       "</table>\n",
       "</div>"
      ],
      "text/plain": [
       "              A         B         C         D\n",
       "count  6.000000  6.000000  6.000000  6.000000\n",
       "mean  -0.332818 -0.327384  0.800648  0.214385\n",
       "std    0.887087  1.548576  0.894016  0.520457\n",
       "min   -1.858927 -2.729410 -0.346103 -0.272864\n",
       "25%   -0.680780 -0.968472  0.341605 -0.204787\n",
       "50%   -0.107247 -0.423389  0.733733  0.069204\n",
       "75%    0.327746  0.910024  1.069382  0.560395\n",
       "max    0.475726  1.407557  2.290362  0.992756"
      ]
     },
     "execution_count": 20,
     "metadata": {},
     "output_type": "execute_result"
    }
   ],
   "source": [
    "df.describe()\n",
    "# Shows a quick statistic summary of your data"
   ]
  },
  {
   "cell_type": "code",
   "execution_count": 21,
   "metadata": {
    "id": "CEq6eLgYuaAB",
    "outputId": "c3adb482-3c8e-4232-970d-7dd945ae8cd1"
   },
   "outputs": [
    {
     "data": {
      "text/html": [
       "<div>\n",
       "<style scoped>\n",
       "    .dataframe tbody tr th:only-of-type {\n",
       "        vertical-align: middle;\n",
       "    }\n",
       "\n",
       "    .dataframe tbody tr th {\n",
       "        vertical-align: top;\n",
       "    }\n",
       "\n",
       "    .dataframe thead th {\n",
       "        text-align: right;\n",
       "    }\n",
       "</style>\n",
       "<table border=\"1\" class=\"dataframe\">\n",
       "  <thead>\n",
       "    <tr style=\"text-align: right;\">\n",
       "      <th></th>\n",
       "      <th>2021-01-06</th>\n",
       "      <th>2021-01-07</th>\n",
       "      <th>2021-01-08</th>\n",
       "      <th>2021-01-09</th>\n",
       "      <th>2021-01-10</th>\n",
       "      <th>2021-01-11</th>\n",
       "    </tr>\n",
       "  </thead>\n",
       "  <tbody>\n",
       "    <tr>\n",
       "      <th>A</th>\n",
       "      <td>0.398769</td>\n",
       "      <td>-1.858927</td>\n",
       "      <td>-0.797984</td>\n",
       "      <td>0.114675</td>\n",
       "      <td>-0.329168</td>\n",
       "      <td>0.475726</td>\n",
       "    </tr>\n",
       "    <tr>\n",
       "      <th>B</th>\n",
       "      <td>-1.028387</td>\n",
       "      <td>1.407557</td>\n",
       "      <td>-0.788728</td>\n",
       "      <td>-2.729410</td>\n",
       "      <td>-0.058051</td>\n",
       "      <td>1.232715</td>\n",
       "    </tr>\n",
       "    <tr>\n",
       "      <th>C</th>\n",
       "      <td>0.821235</td>\n",
       "      <td>0.646231</td>\n",
       "      <td>2.290362</td>\n",
       "      <td>1.152098</td>\n",
       "      <td>-0.346103</td>\n",
       "      <td>0.240063</td>\n",
       "    </tr>\n",
       "    <tr>\n",
       "      <th>D</th>\n",
       "      <td>-0.068152</td>\n",
       "      <td>0.678341</td>\n",
       "      <td>-0.250332</td>\n",
       "      <td>0.992756</td>\n",
       "      <td>-0.272864</td>\n",
       "      <td>0.206560</td>\n",
       "    </tr>\n",
       "  </tbody>\n",
       "</table>\n",
       "</div>"
      ],
      "text/plain": [
       "   2021-01-06  2021-01-07  2021-01-08  2021-01-09  2021-01-10  2021-01-11\n",
       "A    0.398769   -1.858927   -0.797984    0.114675   -0.329168    0.475726\n",
       "B   -1.028387    1.407557   -0.788728   -2.729410   -0.058051    1.232715\n",
       "C    0.821235    0.646231    2.290362    1.152098   -0.346103    0.240063\n",
       "D   -0.068152    0.678341   -0.250332    0.992756   -0.272864    0.206560"
      ]
     },
     "execution_count": 21,
     "metadata": {},
     "output_type": "execute_result"
    }
   ],
   "source": [
    "df.T\n",
    "# Transposing your data using T"
   ]
  },
  {
   "cell_type": "code",
   "execution_count": 22,
   "metadata": {
    "id": "sbGbzAmsuaAB",
    "outputId": "825105e7-230e-4abf-fb8c-6a7e3ab0a65b"
   },
   "outputs": [
    {
     "data": {
      "text/html": [
       "<div>\n",
       "<style scoped>\n",
       "    .dataframe tbody tr th:only-of-type {\n",
       "        vertical-align: middle;\n",
       "    }\n",
       "\n",
       "    .dataframe tbody tr th {\n",
       "        vertical-align: top;\n",
       "    }\n",
       "\n",
       "    .dataframe thead th {\n",
       "        text-align: right;\n",
       "    }\n",
       "</style>\n",
       "<table border=\"1\" class=\"dataframe\">\n",
       "  <thead>\n",
       "    <tr style=\"text-align: right;\">\n",
       "      <th></th>\n",
       "      <th>D</th>\n",
       "      <th>C</th>\n",
       "      <th>B</th>\n",
       "      <th>A</th>\n",
       "    </tr>\n",
       "  </thead>\n",
       "  <tbody>\n",
       "    <tr>\n",
       "      <th>2021-01-06</th>\n",
       "      <td>-0.068152</td>\n",
       "      <td>0.821235</td>\n",
       "      <td>-1.028387</td>\n",
       "      <td>0.398769</td>\n",
       "    </tr>\n",
       "    <tr>\n",
       "      <th>2021-01-07</th>\n",
       "      <td>0.678341</td>\n",
       "      <td>0.646231</td>\n",
       "      <td>1.407557</td>\n",
       "      <td>-1.858927</td>\n",
       "    </tr>\n",
       "    <tr>\n",
       "      <th>2021-01-08</th>\n",
       "      <td>-0.250332</td>\n",
       "      <td>2.290362</td>\n",
       "      <td>-0.788728</td>\n",
       "      <td>-0.797984</td>\n",
       "    </tr>\n",
       "    <tr>\n",
       "      <th>2021-01-09</th>\n",
       "      <td>0.992756</td>\n",
       "      <td>1.152098</td>\n",
       "      <td>-2.729410</td>\n",
       "      <td>0.114675</td>\n",
       "    </tr>\n",
       "    <tr>\n",
       "      <th>2021-01-10</th>\n",
       "      <td>-0.272864</td>\n",
       "      <td>-0.346103</td>\n",
       "      <td>-0.058051</td>\n",
       "      <td>-0.329168</td>\n",
       "    </tr>\n",
       "    <tr>\n",
       "      <th>2021-01-11</th>\n",
       "      <td>0.206560</td>\n",
       "      <td>0.240063</td>\n",
       "      <td>1.232715</td>\n",
       "      <td>0.475726</td>\n",
       "    </tr>\n",
       "  </tbody>\n",
       "</table>\n",
       "</div>"
      ],
      "text/plain": [
       "                   D         C         B         A\n",
       "2021-01-06 -0.068152  0.821235 -1.028387  0.398769\n",
       "2021-01-07  0.678341  0.646231  1.407557 -1.858927\n",
       "2021-01-08 -0.250332  2.290362 -0.788728 -0.797984\n",
       "2021-01-09  0.992756  1.152098 -2.729410  0.114675\n",
       "2021-01-10 -0.272864 -0.346103 -0.058051 -0.329168\n",
       "2021-01-11  0.206560  0.240063  1.232715  0.475726"
      ]
     },
     "execution_count": 22,
     "metadata": {},
     "output_type": "execute_result"
    }
   ],
   "source": [
    "df.sort_index(axis=1,ascending=False)\n",
    "# sorting based on axis 1"
   ]
  },
  {
   "cell_type": "code",
   "execution_count": 23,
   "metadata": {
    "id": "kz2xwbINuaAC",
    "outputId": "fed72ca6-e968-40d6-f230-c73a89bcd80b"
   },
   "outputs": [
    {
     "data": {
      "text/html": [
       "<div>\n",
       "<style scoped>\n",
       "    .dataframe tbody tr th:only-of-type {\n",
       "        vertical-align: middle;\n",
       "    }\n",
       "\n",
       "    .dataframe tbody tr th {\n",
       "        vertical-align: top;\n",
       "    }\n",
       "\n",
       "    .dataframe thead th {\n",
       "        text-align: right;\n",
       "    }\n",
       "</style>\n",
       "<table border=\"1\" class=\"dataframe\">\n",
       "  <thead>\n",
       "    <tr style=\"text-align: right;\">\n",
       "      <th></th>\n",
       "      <th>A</th>\n",
       "      <th>B</th>\n",
       "      <th>C</th>\n",
       "      <th>D</th>\n",
       "    </tr>\n",
       "  </thead>\n",
       "  <tbody>\n",
       "    <tr>\n",
       "      <th>2021-01-10</th>\n",
       "      <td>-0.329168</td>\n",
       "      <td>-0.058051</td>\n",
       "      <td>-0.346103</td>\n",
       "      <td>-0.272864</td>\n",
       "    </tr>\n",
       "    <tr>\n",
       "      <th>2021-01-11</th>\n",
       "      <td>0.475726</td>\n",
       "      <td>1.232715</td>\n",
       "      <td>0.240063</td>\n",
       "      <td>0.206560</td>\n",
       "    </tr>\n",
       "    <tr>\n",
       "      <th>2021-01-07</th>\n",
       "      <td>-1.858927</td>\n",
       "      <td>1.407557</td>\n",
       "      <td>0.646231</td>\n",
       "      <td>0.678341</td>\n",
       "    </tr>\n",
       "    <tr>\n",
       "      <th>2021-01-06</th>\n",
       "      <td>0.398769</td>\n",
       "      <td>-1.028387</td>\n",
       "      <td>0.821235</td>\n",
       "      <td>-0.068152</td>\n",
       "    </tr>\n",
       "    <tr>\n",
       "      <th>2021-01-09</th>\n",
       "      <td>0.114675</td>\n",
       "      <td>-2.729410</td>\n",
       "      <td>1.152098</td>\n",
       "      <td>0.992756</td>\n",
       "    </tr>\n",
       "    <tr>\n",
       "      <th>2021-01-08</th>\n",
       "      <td>-0.797984</td>\n",
       "      <td>-0.788728</td>\n",
       "      <td>2.290362</td>\n",
       "      <td>-0.250332</td>\n",
       "    </tr>\n",
       "  </tbody>\n",
       "</table>\n",
       "</div>"
      ],
      "text/plain": [
       "                   A         B         C         D\n",
       "2021-01-10 -0.329168 -0.058051 -0.346103 -0.272864\n",
       "2021-01-11  0.475726  1.232715  0.240063  0.206560\n",
       "2021-01-07 -1.858927  1.407557  0.646231  0.678341\n",
       "2021-01-06  0.398769 -1.028387  0.821235 -0.068152\n",
       "2021-01-09  0.114675 -2.729410  1.152098  0.992756\n",
       "2021-01-08 -0.797984 -0.788728  2.290362 -0.250332"
      ]
     },
     "execution_count": 23,
     "metadata": {},
     "output_type": "execute_result"
    }
   ],
   "source": [
    "df.sort_values(by=\"C\")"
   ]
  },
  {
   "cell_type": "markdown",
   "metadata": {
    "id": "I-ALHQ1duaAC"
   },
   "source": [
    "#### Getting Data"
   ]
  },
  {
   "cell_type": "code",
   "execution_count": 24,
   "metadata": {
    "id": "DSPuBbYWuaAC",
    "outputId": "b292719c-358e-4fdd-fa24-814126b0932b"
   },
   "outputs": [
    {
     "data": {
      "text/plain": [
       "2021-01-06    0.398769\n",
       "2021-01-07   -1.858927\n",
       "2021-01-08   -0.797984\n",
       "2021-01-09    0.114675\n",
       "2021-01-10   -0.329168\n",
       "2021-01-11    0.475726\n",
       "Freq: D, Name: A, dtype: float64"
      ]
     },
     "execution_count": 24,
     "metadata": {},
     "output_type": "execute_result"
    }
   ],
   "source": [
    "df[\"A\"]\n",
    "# Getting a single column values"
   ]
  },
  {
   "cell_type": "code",
   "execution_count": 25,
   "metadata": {
    "id": "QFSNVFlPuaAD",
    "outputId": "cea18ab1-405b-4d97-8a82-f4615e1086da"
   },
   "outputs": [
    {
     "data": {
      "text/html": [
       "<div>\n",
       "<style scoped>\n",
       "    .dataframe tbody tr th:only-of-type {\n",
       "        vertical-align: middle;\n",
       "    }\n",
       "\n",
       "    .dataframe tbody tr th {\n",
       "        vertical-align: top;\n",
       "    }\n",
       "\n",
       "    .dataframe thead th {\n",
       "        text-align: right;\n",
       "    }\n",
       "</style>\n",
       "<table border=\"1\" class=\"dataframe\">\n",
       "  <thead>\n",
       "    <tr style=\"text-align: right;\">\n",
       "      <th></th>\n",
       "      <th>A</th>\n",
       "      <th>B</th>\n",
       "      <th>C</th>\n",
       "      <th>D</th>\n",
       "    </tr>\n",
       "  </thead>\n",
       "  <tbody>\n",
       "    <tr>\n",
       "      <th>2021-01-06</th>\n",
       "      <td>0.398769</td>\n",
       "      <td>-1.028387</td>\n",
       "      <td>0.821235</td>\n",
       "      <td>-0.068152</td>\n",
       "    </tr>\n",
       "    <tr>\n",
       "      <th>2021-01-07</th>\n",
       "      <td>-1.858927</td>\n",
       "      <td>1.407557</td>\n",
       "      <td>0.646231</td>\n",
       "      <td>0.678341</td>\n",
       "    </tr>\n",
       "    <tr>\n",
       "      <th>2021-01-08</th>\n",
       "      <td>-0.797984</td>\n",
       "      <td>-0.788728</td>\n",
       "      <td>2.290362</td>\n",
       "      <td>-0.250332</td>\n",
       "    </tr>\n",
       "  </tbody>\n",
       "</table>\n",
       "</div>"
      ],
      "text/plain": [
       "                   A         B         C         D\n",
       "2021-01-06  0.398769 -1.028387  0.821235 -0.068152\n",
       "2021-01-07 -1.858927  1.407557  0.646231  0.678341\n",
       "2021-01-08 -0.797984 -0.788728  2.290362 -0.250332"
      ]
     },
     "execution_count": 25,
     "metadata": {},
     "output_type": "execute_result"
    }
   ],
   "source": [
    "df[0:3]"
   ]
  },
  {
   "cell_type": "code",
   "execution_count": 26,
   "metadata": {
    "id": "hSipMAfFuaAD",
    "outputId": "9d6427f8-6a7c-44df-9c45-d623386aabd5"
   },
   "outputs": [
    {
     "data": {
      "text/html": [
       "<div>\n",
       "<style scoped>\n",
       "    .dataframe tbody tr th:only-of-type {\n",
       "        vertical-align: middle;\n",
       "    }\n",
       "\n",
       "    .dataframe tbody tr th {\n",
       "        vertical-align: top;\n",
       "    }\n",
       "\n",
       "    .dataframe thead th {\n",
       "        text-align: right;\n",
       "    }\n",
       "</style>\n",
       "<table border=\"1\" class=\"dataframe\">\n",
       "  <thead>\n",
       "    <tr style=\"text-align: right;\">\n",
       "      <th></th>\n",
       "      <th>A</th>\n",
       "      <th>B</th>\n",
       "      <th>C</th>\n",
       "      <th>D</th>\n",
       "    </tr>\n",
       "  </thead>\n",
       "  <tbody>\n",
       "    <tr>\n",
       "      <th>2021-01-08</th>\n",
       "      <td>-0.797984</td>\n",
       "      <td>-0.788728</td>\n",
       "      <td>2.290362</td>\n",
       "      <td>-0.250332</td>\n",
       "    </tr>\n",
       "    <tr>\n",
       "      <th>2021-01-09</th>\n",
       "      <td>0.114675</td>\n",
       "      <td>-2.729410</td>\n",
       "      <td>1.152098</td>\n",
       "      <td>0.992756</td>\n",
       "    </tr>\n",
       "    <tr>\n",
       "      <th>2021-01-10</th>\n",
       "      <td>-0.329168</td>\n",
       "      <td>-0.058051</td>\n",
       "      <td>-0.346103</td>\n",
       "      <td>-0.272864</td>\n",
       "    </tr>\n",
       "    <tr>\n",
       "      <th>2021-01-11</th>\n",
       "      <td>0.475726</td>\n",
       "      <td>1.232715</td>\n",
       "      <td>0.240063</td>\n",
       "      <td>0.206560</td>\n",
       "    </tr>\n",
       "  </tbody>\n",
       "</table>\n",
       "</div>"
      ],
      "text/plain": [
       "                   A         B         C         D\n",
       "2021-01-08 -0.797984 -0.788728  2.290362 -0.250332\n",
       "2021-01-09  0.114675 -2.729410  1.152098  0.992756\n",
       "2021-01-10 -0.329168 -0.058051 -0.346103 -0.272864\n",
       "2021-01-11  0.475726  1.232715  0.240063  0.206560"
      ]
     },
     "execution_count": 26,
     "metadata": {},
     "output_type": "execute_result"
    }
   ],
   "source": [
    "df[\"20210108\":]"
   ]
  },
  {
   "cell_type": "markdown",
   "metadata": {
    "id": "1szJ-NkmuaAD"
   },
   "source": [
    "#### Selection by label"
   ]
  },
  {
   "cell_type": "code",
   "execution_count": 27,
   "metadata": {
    "id": "8ZmV1G2vuaAD",
    "outputId": "f959774e-30f3-463f-c1ec-b1454de713d6"
   },
   "outputs": [
    {
     "data": {
      "text/plain": [
       "A   -0.797984\n",
       "B   -0.788728\n",
       "C    2.290362\n",
       "D   -0.250332\n",
       "Name: 2021-01-08 00:00:00, dtype: float64"
      ]
     },
     "execution_count": 27,
     "metadata": {},
     "output_type": "execute_result"
    }
   ],
   "source": [
    "df.loc[dates[2]]"
   ]
  },
  {
   "cell_type": "code",
   "execution_count": 28,
   "metadata": {
    "id": "Wy5xcBbxuaAD",
    "outputId": "11f775fb-b307-4a5e-8d2f-d90c5d90d583"
   },
   "outputs": [
    {
     "data": {
      "text/plain": [
       "1.4075571402761193"
      ]
     },
     "execution_count": 28,
     "metadata": {},
     "output_type": "execute_result"
    }
   ],
   "source": [
    "df.loc[dates[1],\"B\"]\n",
    "# To fetch a scalar value of DataFrame"
   ]
  },
  {
   "cell_type": "markdown",
   "metadata": {
    "id": "2PaAyAAEuaAE"
   },
   "source": [
    "#### Selection by Position\n",
    "\n",
    "* row and column"
   ]
  },
  {
   "cell_type": "code",
   "execution_count": 29,
   "metadata": {
    "id": "uluk48opuaAE",
    "outputId": "2f2264bb-9457-4944-a4ba-e4fdc60345a2"
   },
   "outputs": [
    {
     "data": {
      "text/plain": [
       "A   -0.797984\n",
       "B   -0.788728\n",
       "C    2.290362\n",
       "D   -0.250332\n",
       "Name: 2021-01-08 00:00:00, dtype: float64"
      ]
     },
     "execution_count": 29,
     "metadata": {},
     "output_type": "execute_result"
    }
   ],
   "source": [
    "df.iloc[2]"
   ]
  },
  {
   "cell_type": "code",
   "execution_count": 30,
   "metadata": {
    "id": "NcDd5sXIuaAE",
    "outputId": "796cde79-d7d8-4ce4-9858-442a73e737e4"
   },
   "outputs": [
    {
     "data": {
      "text/html": [
       "<div>\n",
       "<style scoped>\n",
       "    .dataframe tbody tr th:only-of-type {\n",
       "        vertical-align: middle;\n",
       "    }\n",
       "\n",
       "    .dataframe tbody tr th {\n",
       "        vertical-align: top;\n",
       "    }\n",
       "\n",
       "    .dataframe thead th {\n",
       "        text-align: right;\n",
       "    }\n",
       "</style>\n",
       "<table border=\"1\" class=\"dataframe\">\n",
       "  <thead>\n",
       "    <tr style=\"text-align: right;\">\n",
       "      <th></th>\n",
       "      <th>B</th>\n",
       "      <th>C</th>\n",
       "    </tr>\n",
       "  </thead>\n",
       "  <tbody>\n",
       "    <tr>\n",
       "      <th>2021-01-06</th>\n",
       "      <td>-1.028387</td>\n",
       "      <td>0.821235</td>\n",
       "    </tr>\n",
       "    <tr>\n",
       "      <th>2021-01-07</th>\n",
       "      <td>1.407557</td>\n",
       "      <td>0.646231</td>\n",
       "    </tr>\n",
       "    <tr>\n",
       "      <th>2021-01-08</th>\n",
       "      <td>-0.788728</td>\n",
       "      <td>2.290362</td>\n",
       "    </tr>\n",
       "    <tr>\n",
       "      <th>2021-01-09</th>\n",
       "      <td>-2.729410</td>\n",
       "      <td>1.152098</td>\n",
       "    </tr>\n",
       "    <tr>\n",
       "      <th>2021-01-10</th>\n",
       "      <td>-0.058051</td>\n",
       "      <td>-0.346103</td>\n",
       "    </tr>\n",
       "    <tr>\n",
       "      <th>2021-01-11</th>\n",
       "      <td>1.232715</td>\n",
       "      <td>0.240063</td>\n",
       "    </tr>\n",
       "  </tbody>\n",
       "</table>\n",
       "</div>"
      ],
      "text/plain": [
       "                   B         C\n",
       "2021-01-06 -1.028387  0.821235\n",
       "2021-01-07  1.407557  0.646231\n",
       "2021-01-08 -0.788728  2.290362\n",
       "2021-01-09 -2.729410  1.152098\n",
       "2021-01-10 -0.058051 -0.346103\n",
       "2021-01-11  1.232715  0.240063"
      ]
     },
     "execution_count": 30,
     "metadata": {},
     "output_type": "execute_result"
    }
   ],
   "source": [
    "df.iloc[:,1:3]"
   ]
  },
  {
   "cell_type": "markdown",
   "metadata": {
    "id": "b5GE7KNouaAE"
   },
   "source": [
    "#### Boolean Indexing"
   ]
  },
  {
   "cell_type": "code",
   "execution_count": 31,
   "metadata": {
    "id": "r16x6fJWuaAF",
    "outputId": "58f1d42b-a966-4769-b21f-3e5c520f966b"
   },
   "outputs": [
    {
     "data": {
      "text/html": [
       "<div>\n",
       "<style scoped>\n",
       "    .dataframe tbody tr th:only-of-type {\n",
       "        vertical-align: middle;\n",
       "    }\n",
       "\n",
       "    .dataframe tbody tr th {\n",
       "        vertical-align: top;\n",
       "    }\n",
       "\n",
       "    .dataframe thead th {\n",
       "        text-align: right;\n",
       "    }\n",
       "</style>\n",
       "<table border=\"1\" class=\"dataframe\">\n",
       "  <thead>\n",
       "    <tr style=\"text-align: right;\">\n",
       "      <th></th>\n",
       "      <th>A</th>\n",
       "      <th>B</th>\n",
       "      <th>C</th>\n",
       "      <th>D</th>\n",
       "    </tr>\n",
       "  </thead>\n",
       "  <tbody>\n",
       "    <tr>\n",
       "      <th>2021-01-06</th>\n",
       "      <td>0.398769</td>\n",
       "      <td>-1.028387</td>\n",
       "      <td>0.821235</td>\n",
       "      <td>-0.068152</td>\n",
       "    </tr>\n",
       "    <tr>\n",
       "      <th>2021-01-09</th>\n",
       "      <td>0.114675</td>\n",
       "      <td>-2.729410</td>\n",
       "      <td>1.152098</td>\n",
       "      <td>0.992756</td>\n",
       "    </tr>\n",
       "    <tr>\n",
       "      <th>2021-01-11</th>\n",
       "      <td>0.475726</td>\n",
       "      <td>1.232715</td>\n",
       "      <td>0.240063</td>\n",
       "      <td>0.206560</td>\n",
       "    </tr>\n",
       "  </tbody>\n",
       "</table>\n",
       "</div>"
      ],
      "text/plain": [
       "                   A         B         C         D\n",
       "2021-01-06  0.398769 -1.028387  0.821235 -0.068152\n",
       "2021-01-09  0.114675 -2.729410  1.152098  0.992756\n",
       "2021-01-11  0.475726  1.232715  0.240063  0.206560"
      ]
     },
     "execution_count": 31,
     "metadata": {},
     "output_type": "execute_result"
    }
   ],
   "source": [
    "df[df[\"A\"] > 0]"
   ]
  },
  {
   "cell_type": "code",
   "execution_count": 32,
   "metadata": {
    "id": "vGBdpidcuaAF",
    "outputId": "38c817ed-fe26-441a-b028-e5ddeb6d1295"
   },
   "outputs": [
    {
     "data": {
      "text/html": [
       "<div>\n",
       "<style scoped>\n",
       "    .dataframe tbody tr th:only-of-type {\n",
       "        vertical-align: middle;\n",
       "    }\n",
       "\n",
       "    .dataframe tbody tr th {\n",
       "        vertical-align: top;\n",
       "    }\n",
       "\n",
       "    .dataframe thead th {\n",
       "        text-align: right;\n",
       "    }\n",
       "</style>\n",
       "<table border=\"1\" class=\"dataframe\">\n",
       "  <thead>\n",
       "    <tr style=\"text-align: right;\">\n",
       "      <th></th>\n",
       "      <th>A</th>\n",
       "      <th>B</th>\n",
       "      <th>C</th>\n",
       "      <th>D</th>\n",
       "    </tr>\n",
       "  </thead>\n",
       "  <tbody>\n",
       "    <tr>\n",
       "      <th>2021-01-06</th>\n",
       "      <td>0.398769</td>\n",
       "      <td>NaN</td>\n",
       "      <td>0.821235</td>\n",
       "      <td>NaN</td>\n",
       "    </tr>\n",
       "    <tr>\n",
       "      <th>2021-01-07</th>\n",
       "      <td>NaN</td>\n",
       "      <td>1.407557</td>\n",
       "      <td>0.646231</td>\n",
       "      <td>0.678341</td>\n",
       "    </tr>\n",
       "    <tr>\n",
       "      <th>2021-01-08</th>\n",
       "      <td>NaN</td>\n",
       "      <td>NaN</td>\n",
       "      <td>2.290362</td>\n",
       "      <td>NaN</td>\n",
       "    </tr>\n",
       "    <tr>\n",
       "      <th>2021-01-09</th>\n",
       "      <td>0.114675</td>\n",
       "      <td>NaN</td>\n",
       "      <td>1.152098</td>\n",
       "      <td>0.992756</td>\n",
       "    </tr>\n",
       "    <tr>\n",
       "      <th>2021-01-10</th>\n",
       "      <td>NaN</td>\n",
       "      <td>NaN</td>\n",
       "      <td>NaN</td>\n",
       "      <td>NaN</td>\n",
       "    </tr>\n",
       "    <tr>\n",
       "      <th>2021-01-11</th>\n",
       "      <td>0.475726</td>\n",
       "      <td>1.232715</td>\n",
       "      <td>0.240063</td>\n",
       "      <td>0.206560</td>\n",
       "    </tr>\n",
       "  </tbody>\n",
       "</table>\n",
       "</div>"
      ],
      "text/plain": [
       "                   A         B         C         D\n",
       "2021-01-06  0.398769       NaN  0.821235       NaN\n",
       "2021-01-07       NaN  1.407557  0.646231  0.678341\n",
       "2021-01-08       NaN       NaN  2.290362       NaN\n",
       "2021-01-09  0.114675       NaN  1.152098  0.992756\n",
       "2021-01-10       NaN       NaN       NaN       NaN\n",
       "2021-01-11  0.475726  1.232715  0.240063  0.206560"
      ]
     },
     "execution_count": 32,
     "metadata": {},
     "output_type": "execute_result"
    }
   ],
   "source": [
    "df[df > 0]"
   ]
  },
  {
   "cell_type": "code",
   "execution_count": 33,
   "metadata": {
    "id": "Yo1-urPCuaAF"
   },
   "outputs": [],
   "source": [
    "df2 = df.copy()"
   ]
  },
  {
   "cell_type": "code",
   "execution_count": 34,
   "metadata": {
    "id": "32tTwhIKuaAF"
   },
   "outputs": [],
   "source": [
    "df2[\"E\"] = [\"one\",\"two\",\"three\",\"four\",\"five\",\"six\"]"
   ]
  },
  {
   "cell_type": "code",
   "execution_count": 35,
   "metadata": {
    "id": "Yt9-eDnduaAF",
    "outputId": "cbab995c-540c-4daa-db79-c6ea4c45d6b2"
   },
   "outputs": [
    {
     "data": {
      "text/html": [
       "<div>\n",
       "<style scoped>\n",
       "    .dataframe tbody tr th:only-of-type {\n",
       "        vertical-align: middle;\n",
       "    }\n",
       "\n",
       "    .dataframe tbody tr th {\n",
       "        vertical-align: top;\n",
       "    }\n",
       "\n",
       "    .dataframe thead th {\n",
       "        text-align: right;\n",
       "    }\n",
       "</style>\n",
       "<table border=\"1\" class=\"dataframe\">\n",
       "  <thead>\n",
       "    <tr style=\"text-align: right;\">\n",
       "      <th></th>\n",
       "      <th>A</th>\n",
       "      <th>B</th>\n",
       "      <th>C</th>\n",
       "      <th>D</th>\n",
       "      <th>E</th>\n",
       "    </tr>\n",
       "  </thead>\n",
       "  <tbody>\n",
       "    <tr>\n",
       "      <th>2021-01-06</th>\n",
       "      <td>0.398769</td>\n",
       "      <td>-1.028387</td>\n",
       "      <td>0.821235</td>\n",
       "      <td>-0.068152</td>\n",
       "      <td>one</td>\n",
       "    </tr>\n",
       "    <tr>\n",
       "      <th>2021-01-07</th>\n",
       "      <td>-1.858927</td>\n",
       "      <td>1.407557</td>\n",
       "      <td>0.646231</td>\n",
       "      <td>0.678341</td>\n",
       "      <td>two</td>\n",
       "    </tr>\n",
       "    <tr>\n",
       "      <th>2021-01-08</th>\n",
       "      <td>-0.797984</td>\n",
       "      <td>-0.788728</td>\n",
       "      <td>2.290362</td>\n",
       "      <td>-0.250332</td>\n",
       "      <td>three</td>\n",
       "    </tr>\n",
       "    <tr>\n",
       "      <th>2021-01-09</th>\n",
       "      <td>0.114675</td>\n",
       "      <td>-2.729410</td>\n",
       "      <td>1.152098</td>\n",
       "      <td>0.992756</td>\n",
       "      <td>four</td>\n",
       "    </tr>\n",
       "    <tr>\n",
       "      <th>2021-01-10</th>\n",
       "      <td>-0.329168</td>\n",
       "      <td>-0.058051</td>\n",
       "      <td>-0.346103</td>\n",
       "      <td>-0.272864</td>\n",
       "      <td>five</td>\n",
       "    </tr>\n",
       "    <tr>\n",
       "      <th>2021-01-11</th>\n",
       "      <td>0.475726</td>\n",
       "      <td>1.232715</td>\n",
       "      <td>0.240063</td>\n",
       "      <td>0.206560</td>\n",
       "      <td>six</td>\n",
       "    </tr>\n",
       "  </tbody>\n",
       "</table>\n",
       "</div>"
      ],
      "text/plain": [
       "                   A         B         C         D      E\n",
       "2021-01-06  0.398769 -1.028387  0.821235 -0.068152    one\n",
       "2021-01-07 -1.858927  1.407557  0.646231  0.678341    two\n",
       "2021-01-08 -0.797984 -0.788728  2.290362 -0.250332  three\n",
       "2021-01-09  0.114675 -2.729410  1.152098  0.992756   four\n",
       "2021-01-10 -0.329168 -0.058051 -0.346103 -0.272864   five\n",
       "2021-01-11  0.475726  1.232715  0.240063  0.206560    six"
      ]
     },
     "execution_count": 35,
     "metadata": {},
     "output_type": "execute_result"
    }
   ],
   "source": [
    "df2"
   ]
  },
  {
   "cell_type": "code",
   "execution_count": 36,
   "metadata": {
    "id": "jTwHSlysuaAG",
    "outputId": "4aa12489-df8f-48d9-b06e-eb9319a72823"
   },
   "outputs": [
    {
     "data": {
      "text/html": [
       "<div>\n",
       "<style scoped>\n",
       "    .dataframe tbody tr th:only-of-type {\n",
       "        vertical-align: middle;\n",
       "    }\n",
       "\n",
       "    .dataframe tbody tr th {\n",
       "        vertical-align: top;\n",
       "    }\n",
       "\n",
       "    .dataframe thead th {\n",
       "        text-align: right;\n",
       "    }\n",
       "</style>\n",
       "<table border=\"1\" class=\"dataframe\">\n",
       "  <thead>\n",
       "    <tr style=\"text-align: right;\">\n",
       "      <th></th>\n",
       "      <th>A</th>\n",
       "      <th>B</th>\n",
       "      <th>C</th>\n",
       "      <th>D</th>\n",
       "      <th>E</th>\n",
       "    </tr>\n",
       "  </thead>\n",
       "  <tbody>\n",
       "    <tr>\n",
       "      <th>2021-01-08</th>\n",
       "      <td>-0.797984</td>\n",
       "      <td>-0.788728</td>\n",
       "      <td>2.290362</td>\n",
       "      <td>-0.250332</td>\n",
       "      <td>three</td>\n",
       "    </tr>\n",
       "    <tr>\n",
       "      <th>2021-01-10</th>\n",
       "      <td>-0.329168</td>\n",
       "      <td>-0.058051</td>\n",
       "      <td>-0.346103</td>\n",
       "      <td>-0.272864</td>\n",
       "      <td>five</td>\n",
       "    </tr>\n",
       "  </tbody>\n",
       "</table>\n",
       "</div>"
      ],
      "text/plain": [
       "                   A         B         C         D      E\n",
       "2021-01-08 -0.797984 -0.788728  2.290362 -0.250332  three\n",
       "2021-01-10 -0.329168 -0.058051 -0.346103 -0.272864   five"
      ]
     },
     "execution_count": 36,
     "metadata": {},
     "output_type": "execute_result"
    }
   ],
   "source": [
    "df2[df2[\"E\"].isin([\"three\",\"five\"])]"
   ]
  },
  {
   "cell_type": "markdown",
   "metadata": {
    "id": "8fdGApGAuaAI"
   },
   "source": [
    "#### Setting"
   ]
  },
  {
   "cell_type": "code",
   "execution_count": 37,
   "metadata": {
    "id": "axKXdAeEuaAI"
   },
   "outputs": [],
   "source": [
    "s1 = pd.Series([1,2,3,4,5,6], index = pd.date_range(\"20210106\", periods=6))"
   ]
  },
  {
   "cell_type": "code",
   "execution_count": 38,
   "metadata": {
    "id": "91FYJEpUuaAI",
    "outputId": "942c5a8e-2787-4639-f1f0-11bbe4085ec2"
   },
   "outputs": [
    {
     "data": {
      "text/plain": [
       "2021-01-06    1\n",
       "2021-01-07    2\n",
       "2021-01-08    3\n",
       "2021-01-09    4\n",
       "2021-01-10    5\n",
       "2021-01-11    6\n",
       "Freq: D, dtype: int64"
      ]
     },
     "execution_count": 38,
     "metadata": {},
     "output_type": "execute_result"
    }
   ],
   "source": [
    "s1"
   ]
  },
  {
   "cell_type": "code",
   "execution_count": 39,
   "metadata": {
    "id": "YYdH_lTBuaAJ"
   },
   "outputs": [],
   "source": [
    "df[\"F\"] = s1"
   ]
  },
  {
   "cell_type": "code",
   "execution_count": 40,
   "metadata": {
    "id": "pykoJsCbuaAJ"
   },
   "outputs": [],
   "source": [
    "df.at[dates[0],\"A\"] = 2"
   ]
  },
  {
   "cell_type": "code",
   "execution_count": 41,
   "metadata": {
    "id": "AcjfP0jCuaAJ"
   },
   "outputs": [],
   "source": [
    "df.iat[0,1] = 0"
   ]
  },
  {
   "cell_type": "code",
   "execution_count": 42,
   "metadata": {
    "id": "8N-WTMrOuaAJ"
   },
   "outputs": [],
   "source": [
    "df.loc[:,\"D\"] = np.array([5] * len(df))"
   ]
  },
  {
   "cell_type": "code",
   "execution_count": 43,
   "metadata": {
    "id": "4TJAMTaluaAJ",
    "outputId": "7dd2f6f8-de77-4334-b4ef-c5e15a7c2af7"
   },
   "outputs": [
    {
     "data": {
      "text/html": [
       "<div>\n",
       "<style scoped>\n",
       "    .dataframe tbody tr th:only-of-type {\n",
       "        vertical-align: middle;\n",
       "    }\n",
       "\n",
       "    .dataframe tbody tr th {\n",
       "        vertical-align: top;\n",
       "    }\n",
       "\n",
       "    .dataframe thead th {\n",
       "        text-align: right;\n",
       "    }\n",
       "</style>\n",
       "<table border=\"1\" class=\"dataframe\">\n",
       "  <thead>\n",
       "    <tr style=\"text-align: right;\">\n",
       "      <th></th>\n",
       "      <th>A</th>\n",
       "      <th>B</th>\n",
       "      <th>C</th>\n",
       "      <th>D</th>\n",
       "      <th>F</th>\n",
       "    </tr>\n",
       "  </thead>\n",
       "  <tbody>\n",
       "    <tr>\n",
       "      <th>2021-01-06</th>\n",
       "      <td>2.000000</td>\n",
       "      <td>0.000000</td>\n",
       "      <td>0.821235</td>\n",
       "      <td>5</td>\n",
       "      <td>1</td>\n",
       "    </tr>\n",
       "    <tr>\n",
       "      <th>2021-01-07</th>\n",
       "      <td>-1.858927</td>\n",
       "      <td>1.407557</td>\n",
       "      <td>0.646231</td>\n",
       "      <td>5</td>\n",
       "      <td>2</td>\n",
       "    </tr>\n",
       "    <tr>\n",
       "      <th>2021-01-08</th>\n",
       "      <td>-0.797984</td>\n",
       "      <td>-0.788728</td>\n",
       "      <td>2.290362</td>\n",
       "      <td>5</td>\n",
       "      <td>3</td>\n",
       "    </tr>\n",
       "    <tr>\n",
       "      <th>2021-01-09</th>\n",
       "      <td>0.114675</td>\n",
       "      <td>-2.729410</td>\n",
       "      <td>1.152098</td>\n",
       "      <td>5</td>\n",
       "      <td>4</td>\n",
       "    </tr>\n",
       "    <tr>\n",
       "      <th>2021-01-10</th>\n",
       "      <td>-0.329168</td>\n",
       "      <td>-0.058051</td>\n",
       "      <td>-0.346103</td>\n",
       "      <td>5</td>\n",
       "      <td>5</td>\n",
       "    </tr>\n",
       "    <tr>\n",
       "      <th>2021-01-11</th>\n",
       "      <td>0.475726</td>\n",
       "      <td>1.232715</td>\n",
       "      <td>0.240063</td>\n",
       "      <td>5</td>\n",
       "      <td>6</td>\n",
       "    </tr>\n",
       "  </tbody>\n",
       "</table>\n",
       "</div>"
      ],
      "text/plain": [
       "                   A         B         C  D  F\n",
       "2021-01-06  2.000000  0.000000  0.821235  5  1\n",
       "2021-01-07 -1.858927  1.407557  0.646231  5  2\n",
       "2021-01-08 -0.797984 -0.788728  2.290362  5  3\n",
       "2021-01-09  0.114675 -2.729410  1.152098  5  4\n",
       "2021-01-10 -0.329168 -0.058051 -0.346103  5  5\n",
       "2021-01-11  0.475726  1.232715  0.240063  5  6"
      ]
     },
     "execution_count": 43,
     "metadata": {},
     "output_type": "execute_result"
    }
   ],
   "source": [
    "df"
   ]
  },
  {
   "cell_type": "code",
   "execution_count": 44,
   "metadata": {
    "id": "i9VsQmjiuaAK"
   },
   "outputs": [],
   "source": [
    "df2 = df.copy()"
   ]
  },
  {
   "cell_type": "code",
   "execution_count": 45,
   "metadata": {
    "id": "Yq_xqxNPuaAK"
   },
   "outputs": [],
   "source": [
    "df2[df2 > 0] = -df2"
   ]
  },
  {
   "cell_type": "code",
   "execution_count": 46,
   "metadata": {
    "id": "KEJeOhqIuaAK",
    "outputId": "f3425ea5-40bc-40d9-96e3-c545f653511b"
   },
   "outputs": [
    {
     "data": {
      "text/html": [
       "<div>\n",
       "<style scoped>\n",
       "    .dataframe tbody tr th:only-of-type {\n",
       "        vertical-align: middle;\n",
       "    }\n",
       "\n",
       "    .dataframe tbody tr th {\n",
       "        vertical-align: top;\n",
       "    }\n",
       "\n",
       "    .dataframe thead th {\n",
       "        text-align: right;\n",
       "    }\n",
       "</style>\n",
       "<table border=\"1\" class=\"dataframe\">\n",
       "  <thead>\n",
       "    <tr style=\"text-align: right;\">\n",
       "      <th></th>\n",
       "      <th>A</th>\n",
       "      <th>B</th>\n",
       "      <th>C</th>\n",
       "      <th>D</th>\n",
       "      <th>F</th>\n",
       "    </tr>\n",
       "  </thead>\n",
       "  <tbody>\n",
       "    <tr>\n",
       "      <th>2021-01-06</th>\n",
       "      <td>-2.000000</td>\n",
       "      <td>0.000000</td>\n",
       "      <td>-0.821235</td>\n",
       "      <td>-5</td>\n",
       "      <td>-1</td>\n",
       "    </tr>\n",
       "    <tr>\n",
       "      <th>2021-01-07</th>\n",
       "      <td>-1.858927</td>\n",
       "      <td>-1.407557</td>\n",
       "      <td>-0.646231</td>\n",
       "      <td>-5</td>\n",
       "      <td>-2</td>\n",
       "    </tr>\n",
       "    <tr>\n",
       "      <th>2021-01-08</th>\n",
       "      <td>-0.797984</td>\n",
       "      <td>-0.788728</td>\n",
       "      <td>-2.290362</td>\n",
       "      <td>-5</td>\n",
       "      <td>-3</td>\n",
       "    </tr>\n",
       "    <tr>\n",
       "      <th>2021-01-09</th>\n",
       "      <td>-0.114675</td>\n",
       "      <td>-2.729410</td>\n",
       "      <td>-1.152098</td>\n",
       "      <td>-5</td>\n",
       "      <td>-4</td>\n",
       "    </tr>\n",
       "    <tr>\n",
       "      <th>2021-01-10</th>\n",
       "      <td>-0.329168</td>\n",
       "      <td>-0.058051</td>\n",
       "      <td>-0.346103</td>\n",
       "      <td>-5</td>\n",
       "      <td>-5</td>\n",
       "    </tr>\n",
       "    <tr>\n",
       "      <th>2021-01-11</th>\n",
       "      <td>-0.475726</td>\n",
       "      <td>-1.232715</td>\n",
       "      <td>-0.240063</td>\n",
       "      <td>-5</td>\n",
       "      <td>-6</td>\n",
       "    </tr>\n",
       "  </tbody>\n",
       "</table>\n",
       "</div>"
      ],
      "text/plain": [
       "                   A         B         C  D  F\n",
       "2021-01-06 -2.000000  0.000000 -0.821235 -5 -1\n",
       "2021-01-07 -1.858927 -1.407557 -0.646231 -5 -2\n",
       "2021-01-08 -0.797984 -0.788728 -2.290362 -5 -3\n",
       "2021-01-09 -0.114675 -2.729410 -1.152098 -5 -4\n",
       "2021-01-10 -0.329168 -0.058051 -0.346103 -5 -5\n",
       "2021-01-11 -0.475726 -1.232715 -0.240063 -5 -6"
      ]
     },
     "execution_count": 46,
     "metadata": {},
     "output_type": "execute_result"
    }
   ],
   "source": [
    "df2"
   ]
  },
  {
   "cell_type": "code",
   "execution_count": null,
   "metadata": {
    "id": "ejc7Be55urAA"
   },
   "outputs": [],
   "source": []
  }
 ],
 "metadata": {
  "colab": {
   "name": "Go Through Concepts.ipynb",
   "provenance": []
  },
  "kernelspec": {
   "display_name": "Python 3",
   "language": "python",
   "name": "python3"
  },
  "language_info": {
   "codemirror_mode": {
    "name": "ipython",
    "version": 3
   },
   "file_extension": ".py",
   "mimetype": "text/x-python",
   "name": "python",
   "nbconvert_exporter": "python",
   "pygments_lexer": "ipython3",
   "version": "3.8.5"
  }
 },
 "nbformat": 4,
 "nbformat_minor": 1
}
