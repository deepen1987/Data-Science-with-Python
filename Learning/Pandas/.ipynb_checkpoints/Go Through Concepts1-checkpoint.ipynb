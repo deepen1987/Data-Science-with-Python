{
 "cells": [
  {
   "cell_type": "markdown",
   "metadata": {
    "id": "yV1xV96cuZ_4"
   },
   "source": [
    "Creating a **Series** by passing a list of values"
   ]
  },
  {
   "cell_type": "code",
   "execution_count": null,
   "metadata": {
    "id": "2MrtrlQPuZ_5"
   },
   "outputs": [],
   "source": [
    "import pandas as pd\n",
    "import numpy as np\n",
    "\n",
    "s = pd.Series([1,3,5,np.nan,6,8])"
   ]
  },
  {
   "cell_type": "code",
   "execution_count": null,
   "metadata": {
    "id": "7hdzrvEzuZ_5",
    "outputId": "bb779e3f-e057-4f96-f280-269217023165"
   },
   "outputs": [
    {
     "data": {
      "text/plain": [
       "0    1.0\n",
       "1    3.0\n",
       "2    5.0\n",
       "3    NaN\n",
       "4    6.0\n",
       "5    8.0\n",
       "dtype: float64"
      ]
     },
     "execution_count": 5,
     "metadata": {
      "tags": []
     },
     "output_type": "execute_result"
    }
   ],
   "source": [
    "s"
   ]
  },
  {
   "cell_type": "markdown",
   "metadata": {
    "id": "E-g8oSDzuZ_6"
   },
   "source": [
    "Creating a **DataFrame** using Numpy array, with a datetime index and labeld column"
   ]
  },
  {
   "cell_type": "code",
   "execution_count": null,
   "metadata": {
    "id": "OthBAZ-uuZ_7"
   },
   "outputs": [],
   "source": [
    "dates = pd.date_range(\"20210106\", periods=6)"
   ]
  },
  {
   "cell_type": "code",
   "execution_count": null,
   "metadata": {
    "id": "XSoGGrmduZ_7",
    "outputId": "a7f391ee-63ee-4288-949f-13dba7a0b713"
   },
   "outputs": [
    {
     "data": {
      "text/plain": [
       "DatetimeIndex(['2021-01-06', '2021-01-07', '2021-01-08', '2021-01-09',\n",
       "               '2021-01-10', '2021-01-11'],\n",
       "              dtype='datetime64[ns]', freq='D')"
      ]
     },
     "execution_count": 7,
     "metadata": {
      "tags": []
     },
     "output_type": "execute_result"
    }
   ],
   "source": [
    "dates"
   ]
  },
  {
   "cell_type": "code",
   "execution_count": null,
   "metadata": {
    "id": "D6FjeNb4uZ_8"
   },
   "outputs": [],
   "source": [
    "df = pd.DataFrame(np.random.randn(6,4), index = dates, columns = list(\"ABCD\"))"
   ]
  },
  {
   "cell_type": "code",
   "execution_count": null,
   "metadata": {
    "id": "hqyfij9cuZ_8",
    "outputId": "617937e9-b4b1-440c-8530-4caef1bf04b1"
   },
   "outputs": [
    {
     "data": {
      "text/html": [
       "<div>\n",
       "<style scoped>\n",
       "    .dataframe tbody tr th:only-of-type {\n",
       "        vertical-align: middle;\n",
       "    }\n",
       "\n",
       "    .dataframe tbody tr th {\n",
       "        vertical-align: top;\n",
       "    }\n",
       "\n",
       "    .dataframe thead th {\n",
       "        text-align: right;\n",
       "    }\n",
       "</style>\n",
       "<table border=\"1\" class=\"dataframe\">\n",
       "  <thead>\n",
       "    <tr style=\"text-align: right;\">\n",
       "      <th></th>\n",
       "      <th>A</th>\n",
       "      <th>B</th>\n",
       "      <th>C</th>\n",
       "      <th>D</th>\n",
       "    </tr>\n",
       "  </thead>\n",
       "  <tbody>\n",
       "    <tr>\n",
       "      <th>2021-01-06</th>\n",
       "      <td>1.067907</td>\n",
       "      <td>-0.308370</td>\n",
       "      <td>-2.556374</td>\n",
       "      <td>-0.479453</td>\n",
       "    </tr>\n",
       "    <tr>\n",
       "      <th>2021-01-07</th>\n",
       "      <td>-0.406669</td>\n",
       "      <td>1.527887</td>\n",
       "      <td>-0.530647</td>\n",
       "      <td>-1.747194</td>\n",
       "    </tr>\n",
       "    <tr>\n",
       "      <th>2021-01-08</th>\n",
       "      <td>-0.448772</td>\n",
       "      <td>2.024578</td>\n",
       "      <td>-1.654048</td>\n",
       "      <td>0.723015</td>\n",
       "    </tr>\n",
       "    <tr>\n",
       "      <th>2021-01-09</th>\n",
       "      <td>-0.348636</td>\n",
       "      <td>-1.013858</td>\n",
       "      <td>-0.022972</td>\n",
       "      <td>-0.691032</td>\n",
       "    </tr>\n",
       "    <tr>\n",
       "      <th>2021-01-10</th>\n",
       "      <td>-0.649714</td>\n",
       "      <td>0.099438</td>\n",
       "      <td>0.250337</td>\n",
       "      <td>-0.258712</td>\n",
       "    </tr>\n",
       "    <tr>\n",
       "      <th>2021-01-11</th>\n",
       "      <td>-0.354186</td>\n",
       "      <td>0.564028</td>\n",
       "      <td>-0.491385</td>\n",
       "      <td>-0.266737</td>\n",
       "    </tr>\n",
       "  </tbody>\n",
       "</table>\n",
       "</div>"
      ],
      "text/plain": [
       "                   A         B         C         D\n",
       "2021-01-06  1.067907 -0.308370 -2.556374 -0.479453\n",
       "2021-01-07 -0.406669  1.527887 -0.530647 -1.747194\n",
       "2021-01-08 -0.448772  2.024578 -1.654048  0.723015\n",
       "2021-01-09 -0.348636 -1.013858 -0.022972 -0.691032\n",
       "2021-01-10 -0.649714  0.099438  0.250337 -0.258712\n",
       "2021-01-11 -0.354186  0.564028 -0.491385 -0.266737"
      ]
     },
     "execution_count": 10,
     "metadata": {
      "tags": []
     },
     "output_type": "execute_result"
    }
   ],
   "source": [
    "df"
   ]
  },
  {
   "cell_type": "markdown",
   "metadata": {
    "id": "Tu-36-JLuZ_9"
   },
   "source": [
    "**DataFrame** from dict()"
   ]
  },
  {
   "cell_type": "code",
   "execution_count": null,
   "metadata": {
    "id": "h25HbV9muZ_9"
   },
   "outputs": [],
   "source": [
    "df2 = pd.DataFrame(\n",
    "    {\n",
    "        \"A\": 1.0, \n",
    "        \"B\": pd.Timestamp(\"20210305\"), \n",
    "        \"C\": pd.Series(1, index = list(range(4)), dtype = \"float32\"),\n",
    "        \"D\": np.array([3] * 4, dtype = \"int32\"),\n",
    "        \"E\": pd.Categorical([\"test\",\"train\"] * 2),\n",
    "        \"F\": \"foo\"\n",
    "    })"
   ]
  },
  {
   "cell_type": "code",
   "execution_count": null,
   "metadata": {
    "id": "rUMx6uZIuZ_-",
    "outputId": "d7931845-4e16-4b85-8e8a-352562aafcfc"
   },
   "outputs": [
    {
     "data": {
      "text/html": [
       "<div>\n",
       "<style scoped>\n",
       "    .dataframe tbody tr th:only-of-type {\n",
       "        vertical-align: middle;\n",
       "    }\n",
       "\n",
       "    .dataframe tbody tr th {\n",
       "        vertical-align: top;\n",
       "    }\n",
       "\n",
       "    .dataframe thead th {\n",
       "        text-align: right;\n",
       "    }\n",
       "</style>\n",
       "<table border=\"1\" class=\"dataframe\">\n",
       "  <thead>\n",
       "    <tr style=\"text-align: right;\">\n",
       "      <th></th>\n",
       "      <th>A</th>\n",
       "      <th>B</th>\n",
       "      <th>C</th>\n",
       "      <th>D</th>\n",
       "      <th>E</th>\n",
       "      <th>F</th>\n",
       "    </tr>\n",
       "  </thead>\n",
       "  <tbody>\n",
       "    <tr>\n",
       "      <th>0</th>\n",
       "      <td>1.0</td>\n",
       "      <td>2021-03-05</td>\n",
       "      <td>1.0</td>\n",
       "      <td>3</td>\n",
       "      <td>test</td>\n",
       "      <td>foo</td>\n",
       "    </tr>\n",
       "    <tr>\n",
       "      <th>1</th>\n",
       "      <td>1.0</td>\n",
       "      <td>2021-03-05</td>\n",
       "      <td>1.0</td>\n",
       "      <td>3</td>\n",
       "      <td>train</td>\n",
       "      <td>foo</td>\n",
       "    </tr>\n",
       "    <tr>\n",
       "      <th>2</th>\n",
       "      <td>1.0</td>\n",
       "      <td>2021-03-05</td>\n",
       "      <td>1.0</td>\n",
       "      <td>3</td>\n",
       "      <td>test</td>\n",
       "      <td>foo</td>\n",
       "    </tr>\n",
       "    <tr>\n",
       "      <th>3</th>\n",
       "      <td>1.0</td>\n",
       "      <td>2021-03-05</td>\n",
       "      <td>1.0</td>\n",
       "      <td>3</td>\n",
       "      <td>train</td>\n",
       "      <td>foo</td>\n",
       "    </tr>\n",
       "  </tbody>\n",
       "</table>\n",
       "</div>"
      ],
      "text/plain": [
       "     A          B    C  D      E    F\n",
       "0  1.0 2021-03-05  1.0  3   test  foo\n",
       "1  1.0 2021-03-05  1.0  3  train  foo\n",
       "2  1.0 2021-03-05  1.0  3   test  foo\n",
       "3  1.0 2021-03-05  1.0  3  train  foo"
      ]
     },
     "execution_count": 17,
     "metadata": {
      "tags": []
     },
     "output_type": "execute_result"
    }
   ],
   "source": [
    "df2"
   ]
  },
  {
   "cell_type": "code",
   "execution_count": null,
   "metadata": {
    "id": "ENRnar0RuZ_-",
    "outputId": "36054af9-06e9-4233-92a1-cc7084a9a663"
   },
   "outputs": [
    {
     "data": {
      "text/plain": [
       "A           float64\n",
       "B    datetime64[ns]\n",
       "C           float32\n",
       "D             int32\n",
       "E          category\n",
       "F            object\n",
       "dtype: object"
      ]
     },
     "execution_count": 18,
     "metadata": {
      "tags": []
     },
     "output_type": "execute_result"
    }
   ],
   "source": [
    "df2.dtypes"
   ]
  },
  {
   "cell_type": "markdown",
   "metadata": {
    "id": "HKVZ_T-tuZ_-"
   },
   "source": [
    "### Viewing Data"
   ]
  },
  {
   "cell_type": "code",
   "execution_count": null,
   "metadata": {
    "id": "qETMDK3juZ__",
    "outputId": "0b8daede-eb51-4d60-eb70-80400e0d708c"
   },
   "outputs": [
    {
     "data": {
      "text/html": [
       "<div>\n",
       "<style scoped>\n",
       "    .dataframe tbody tr th:only-of-type {\n",
       "        vertical-align: middle;\n",
       "    }\n",
       "\n",
       "    .dataframe tbody tr th {\n",
       "        vertical-align: top;\n",
       "    }\n",
       "\n",
       "    .dataframe thead th {\n",
       "        text-align: right;\n",
       "    }\n",
       "</style>\n",
       "<table border=\"1\" class=\"dataframe\">\n",
       "  <thead>\n",
       "    <tr style=\"text-align: right;\">\n",
       "      <th></th>\n",
       "      <th>A</th>\n",
       "      <th>B</th>\n",
       "      <th>C</th>\n",
       "      <th>D</th>\n",
       "    </tr>\n",
       "  </thead>\n",
       "  <tbody>\n",
       "    <tr>\n",
       "      <th>2021-01-06</th>\n",
       "      <td>1.067907</td>\n",
       "      <td>-0.308370</td>\n",
       "      <td>-2.556374</td>\n",
       "      <td>-0.479453</td>\n",
       "    </tr>\n",
       "    <tr>\n",
       "      <th>2021-01-07</th>\n",
       "      <td>-0.406669</td>\n",
       "      <td>1.527887</td>\n",
       "      <td>-0.530647</td>\n",
       "      <td>-1.747194</td>\n",
       "    </tr>\n",
       "    <tr>\n",
       "      <th>2021-01-08</th>\n",
       "      <td>-0.448772</td>\n",
       "      <td>2.024578</td>\n",
       "      <td>-1.654048</td>\n",
       "      <td>0.723015</td>\n",
       "    </tr>\n",
       "    <tr>\n",
       "      <th>2021-01-09</th>\n",
       "      <td>-0.348636</td>\n",
       "      <td>-1.013858</td>\n",
       "      <td>-0.022972</td>\n",
       "      <td>-0.691032</td>\n",
       "    </tr>\n",
       "    <tr>\n",
       "      <th>2021-01-10</th>\n",
       "      <td>-0.649714</td>\n",
       "      <td>0.099438</td>\n",
       "      <td>0.250337</td>\n",
       "      <td>-0.258712</td>\n",
       "    </tr>\n",
       "  </tbody>\n",
       "</table>\n",
       "</div>"
      ],
      "text/plain": [
       "                   A         B         C         D\n",
       "2021-01-06  1.067907 -0.308370 -2.556374 -0.479453\n",
       "2021-01-07 -0.406669  1.527887 -0.530647 -1.747194\n",
       "2021-01-08 -0.448772  2.024578 -1.654048  0.723015\n",
       "2021-01-09 -0.348636 -1.013858 -0.022972 -0.691032\n",
       "2021-01-10 -0.649714  0.099438  0.250337 -0.258712"
      ]
     },
     "execution_count": 19,
     "metadata": {
      "tags": []
     },
     "output_type": "execute_result"
    }
   ],
   "source": [
    "df.head()"
   ]
  },
  {
   "cell_type": "code",
   "execution_count": null,
   "metadata": {
    "id": "YN8Ios-PuZ__",
    "outputId": "fca6a2bc-0076-4cc5-d030-452eab260008"
   },
   "outputs": [
    {
     "data": {
      "text/html": [
       "<div>\n",
       "<style scoped>\n",
       "    .dataframe tbody tr th:only-of-type {\n",
       "        vertical-align: middle;\n",
       "    }\n",
       "\n",
       "    .dataframe tbody tr th {\n",
       "        vertical-align: top;\n",
       "    }\n",
       "\n",
       "    .dataframe thead th {\n",
       "        text-align: right;\n",
       "    }\n",
       "</style>\n",
       "<table border=\"1\" class=\"dataframe\">\n",
       "  <thead>\n",
       "    <tr style=\"text-align: right;\">\n",
       "      <th></th>\n",
       "      <th>A</th>\n",
       "      <th>B</th>\n",
       "      <th>C</th>\n",
       "      <th>D</th>\n",
       "    </tr>\n",
       "  </thead>\n",
       "  <tbody>\n",
       "    <tr>\n",
       "      <th>2021-01-09</th>\n",
       "      <td>-0.348636</td>\n",
       "      <td>-1.013858</td>\n",
       "      <td>-0.022972</td>\n",
       "      <td>-0.691032</td>\n",
       "    </tr>\n",
       "    <tr>\n",
       "      <th>2021-01-10</th>\n",
       "      <td>-0.649714</td>\n",
       "      <td>0.099438</td>\n",
       "      <td>0.250337</td>\n",
       "      <td>-0.258712</td>\n",
       "    </tr>\n",
       "    <tr>\n",
       "      <th>2021-01-11</th>\n",
       "      <td>-0.354186</td>\n",
       "      <td>0.564028</td>\n",
       "      <td>-0.491385</td>\n",
       "      <td>-0.266737</td>\n",
       "    </tr>\n",
       "  </tbody>\n",
       "</table>\n",
       "</div>"
      ],
      "text/plain": [
       "                   A         B         C         D\n",
       "2021-01-09 -0.348636 -1.013858 -0.022972 -0.691032\n",
       "2021-01-10 -0.649714  0.099438  0.250337 -0.258712\n",
       "2021-01-11 -0.354186  0.564028 -0.491385 -0.266737"
      ]
     },
     "execution_count": 20,
     "metadata": {
      "tags": []
     },
     "output_type": "execute_result"
    }
   ],
   "source": [
    "df.tail(3)"
   ]
  },
  {
   "cell_type": "code",
   "execution_count": null,
   "metadata": {
    "id": "0-qzRMZsuaAA",
    "outputId": "2ed17818-d1d3-4671-8bd4-4dfc143ee084"
   },
   "outputs": [
    {
     "data": {
      "text/plain": [
       "DatetimeIndex(['2021-01-06', '2021-01-07', '2021-01-08', '2021-01-09',\n",
       "               '2021-01-10', '2021-01-11'],\n",
       "              dtype='datetime64[ns]', freq='D')"
      ]
     },
     "execution_count": 21,
     "metadata": {
      "tags": []
     },
     "output_type": "execute_result"
    }
   ],
   "source": [
    "df.index"
   ]
  },
  {
   "cell_type": "code",
   "execution_count": null,
   "metadata": {
    "id": "BKds18gQuaAA",
    "outputId": "2b8433db-abf1-495b-e8ee-10f1823306b5"
   },
   "outputs": [
    {
     "data": {
      "text/plain": [
       "Index(['A', 'B', 'C', 'D'], dtype='object')"
      ]
     },
     "execution_count": 22,
     "metadata": {
      "tags": []
     },
     "output_type": "execute_result"
    }
   ],
   "source": [
    "df.columns"
   ]
  },
  {
   "cell_type": "code",
   "execution_count": null,
   "metadata": {
    "id": "fUMacWKMuaAA",
    "outputId": "dd8677f5-148c-4f2e-ed3e-9bc7260b162b"
   },
   "outputs": [
    {
     "data": {
      "text/plain": [
       "array([[ 1.06790673, -0.30837038, -2.55637425, -0.47945282],\n",
       "       [-0.40666925,  1.52788708, -0.53064658, -1.74719353],\n",
       "       [-0.44877157,  2.02457801, -1.65404805,  0.72301475],\n",
       "       [-0.34863644, -1.0138577 , -0.02297185, -0.69103236],\n",
       "       [-0.64971447,  0.09943791,  0.25033708, -0.25871192],\n",
       "       [-0.35418648,  0.56402774, -0.49138533, -0.26673704]])"
      ]
     },
     "execution_count": 26,
     "metadata": {
      "tags": []
     },
     "output_type": "execute_result"
    }
   ],
   "source": [
    "df.to_numpy()\n",
    "# Gives a numpy representation of the DataFrame"
   ]
  },
  {
   "cell_type": "code",
   "execution_count": null,
   "metadata": {
    "id": "uDfwFUcKuaAB",
    "outputId": "c69c29c8-1c69-47db-ca9a-e68b7289eee1"
   },
   "outputs": [
    {
     "data": {
      "text/html": [
       "<div>\n",
       "<style scoped>\n",
       "    .dataframe tbody tr th:only-of-type {\n",
       "        vertical-align: middle;\n",
       "    }\n",
       "\n",
       "    .dataframe tbody tr th {\n",
       "        vertical-align: top;\n",
       "    }\n",
       "\n",
       "    .dataframe thead th {\n",
       "        text-align: right;\n",
       "    }\n",
       "</style>\n",
       "<table border=\"1\" class=\"dataframe\">\n",
       "  <thead>\n",
       "    <tr style=\"text-align: right;\">\n",
       "      <th></th>\n",
       "      <th>A</th>\n",
       "      <th>B</th>\n",
       "      <th>C</th>\n",
       "      <th>D</th>\n",
       "    </tr>\n",
       "  </thead>\n",
       "  <tbody>\n",
       "    <tr>\n",
       "      <th>count</th>\n",
       "      <td>6.000000</td>\n",
       "      <td>6.000000</td>\n",
       "      <td>6.000000</td>\n",
       "      <td>6.000000</td>\n",
       "    </tr>\n",
       "    <tr>\n",
       "      <th>mean</th>\n",
       "      <td>-0.190012</td>\n",
       "      <td>0.482284</td>\n",
       "      <td>-0.834181</td>\n",
       "      <td>-0.453352</td>\n",
       "    </tr>\n",
       "    <tr>\n",
       "      <th>std</th>\n",
       "      <td>0.626051</td>\n",
       "      <td>1.139191</td>\n",
       "      <td>1.066022</td>\n",
       "      <td>0.798467</td>\n",
       "    </tr>\n",
       "    <tr>\n",
       "      <th>min</th>\n",
       "      <td>-0.649714</td>\n",
       "      <td>-1.013858</td>\n",
       "      <td>-2.556374</td>\n",
       "      <td>-1.747194</td>\n",
       "    </tr>\n",
       "    <tr>\n",
       "      <th>25%</th>\n",
       "      <td>-0.438246</td>\n",
       "      <td>-0.206418</td>\n",
       "      <td>-1.373198</td>\n",
       "      <td>-0.638137</td>\n",
       "    </tr>\n",
       "    <tr>\n",
       "      <th>50%</th>\n",
       "      <td>-0.380428</td>\n",
       "      <td>0.331733</td>\n",
       "      <td>-0.511016</td>\n",
       "      <td>-0.373095</td>\n",
       "    </tr>\n",
       "    <tr>\n",
       "      <th>75%</th>\n",
       "      <td>-0.350024</td>\n",
       "      <td>1.286922</td>\n",
       "      <td>-0.140075</td>\n",
       "      <td>-0.260718</td>\n",
       "    </tr>\n",
       "    <tr>\n",
       "      <th>max</th>\n",
       "      <td>1.067907</td>\n",
       "      <td>2.024578</td>\n",
       "      <td>0.250337</td>\n",
       "      <td>0.723015</td>\n",
       "    </tr>\n",
       "  </tbody>\n",
       "</table>\n",
       "</div>"
      ],
      "text/plain": [
       "              A         B         C         D\n",
       "count  6.000000  6.000000  6.000000  6.000000\n",
       "mean  -0.190012  0.482284 -0.834181 -0.453352\n",
       "std    0.626051  1.139191  1.066022  0.798467\n",
       "min   -0.649714 -1.013858 -2.556374 -1.747194\n",
       "25%   -0.438246 -0.206418 -1.373198 -0.638137\n",
       "50%   -0.380428  0.331733 -0.511016 -0.373095\n",
       "75%   -0.350024  1.286922 -0.140075 -0.260718\n",
       "max    1.067907  2.024578  0.250337  0.723015"
      ]
     },
     "execution_count": 25,
     "metadata": {
      "tags": []
     },
     "output_type": "execute_result"
    }
   ],
   "source": [
    "df.describe()\n",
    "# Shows a quick statistic summary of your data"
   ]
  },
  {
   "cell_type": "code",
   "execution_count": null,
   "metadata": {
    "id": "CEq6eLgYuaAB",
    "outputId": "c3adb482-3c8e-4232-970d-7dd945ae8cd1"
   },
   "outputs": [
    {
     "data": {
      "text/html": [
       "<div>\n",
       "<style scoped>\n",
       "    .dataframe tbody tr th:only-of-type {\n",
       "        vertical-align: middle;\n",
       "    }\n",
       "\n",
       "    .dataframe tbody tr th {\n",
       "        vertical-align: top;\n",
       "    }\n",
       "\n",
       "    .dataframe thead th {\n",
       "        text-align: right;\n",
       "    }\n",
       "</style>\n",
       "<table border=\"1\" class=\"dataframe\">\n",
       "  <thead>\n",
       "    <tr style=\"text-align: right;\">\n",
       "      <th></th>\n",
       "      <th>2021-01-06</th>\n",
       "      <th>2021-01-07</th>\n",
       "      <th>2021-01-08</th>\n",
       "      <th>2021-01-09</th>\n",
       "      <th>2021-01-10</th>\n",
       "      <th>2021-01-11</th>\n",
       "    </tr>\n",
       "  </thead>\n",
       "  <tbody>\n",
       "    <tr>\n",
       "      <th>A</th>\n",
       "      <td>1.067907</td>\n",
       "      <td>-0.406669</td>\n",
       "      <td>-0.448772</td>\n",
       "      <td>-0.348636</td>\n",
       "      <td>-0.649714</td>\n",
       "      <td>-0.354186</td>\n",
       "    </tr>\n",
       "    <tr>\n",
       "      <th>B</th>\n",
       "      <td>-0.308370</td>\n",
       "      <td>1.527887</td>\n",
       "      <td>2.024578</td>\n",
       "      <td>-1.013858</td>\n",
       "      <td>0.099438</td>\n",
       "      <td>0.564028</td>\n",
       "    </tr>\n",
       "    <tr>\n",
       "      <th>C</th>\n",
       "      <td>-2.556374</td>\n",
       "      <td>-0.530647</td>\n",
       "      <td>-1.654048</td>\n",
       "      <td>-0.022972</td>\n",
       "      <td>0.250337</td>\n",
       "      <td>-0.491385</td>\n",
       "    </tr>\n",
       "    <tr>\n",
       "      <th>D</th>\n",
       "      <td>-0.479453</td>\n",
       "      <td>-1.747194</td>\n",
       "      <td>0.723015</td>\n",
       "      <td>-0.691032</td>\n",
       "      <td>-0.258712</td>\n",
       "      <td>-0.266737</td>\n",
       "    </tr>\n",
       "  </tbody>\n",
       "</table>\n",
       "</div>"
      ],
      "text/plain": [
       "   2021-01-06  2021-01-07  2021-01-08  2021-01-09  2021-01-10  2021-01-11\n",
       "A    1.067907   -0.406669   -0.448772   -0.348636   -0.649714   -0.354186\n",
       "B   -0.308370    1.527887    2.024578   -1.013858    0.099438    0.564028\n",
       "C   -2.556374   -0.530647   -1.654048   -0.022972    0.250337   -0.491385\n",
       "D   -0.479453   -1.747194    0.723015   -0.691032   -0.258712   -0.266737"
      ]
     },
     "execution_count": 28,
     "metadata": {
      "tags": []
     },
     "output_type": "execute_result"
    }
   ],
   "source": [
    "df.T\n",
    "# Transposing your data using T"
   ]
  },
  {
   "cell_type": "code",
   "execution_count": null,
   "metadata": {
    "id": "sbGbzAmsuaAB",
    "outputId": "825105e7-230e-4abf-fb8c-6a7e3ab0a65b"
   },
   "outputs": [
    {
     "data": {
      "text/html": [
       "<div>\n",
       "<style scoped>\n",
       "    .dataframe tbody tr th:only-of-type {\n",
       "        vertical-align: middle;\n",
       "    }\n",
       "\n",
       "    .dataframe tbody tr th {\n",
       "        vertical-align: top;\n",
       "    }\n",
       "\n",
       "    .dataframe thead th {\n",
       "        text-align: right;\n",
       "    }\n",
       "</style>\n",
       "<table border=\"1\" class=\"dataframe\">\n",
       "  <thead>\n",
       "    <tr style=\"text-align: right;\">\n",
       "      <th></th>\n",
       "      <th>D</th>\n",
       "      <th>C</th>\n",
       "      <th>B</th>\n",
       "      <th>A</th>\n",
       "    </tr>\n",
       "  </thead>\n",
       "  <tbody>\n",
       "    <tr>\n",
       "      <th>2021-01-06</th>\n",
       "      <td>-0.479453</td>\n",
       "      <td>-2.556374</td>\n",
       "      <td>-0.308370</td>\n",
       "      <td>1.067907</td>\n",
       "    </tr>\n",
       "    <tr>\n",
       "      <th>2021-01-07</th>\n",
       "      <td>-1.747194</td>\n",
       "      <td>-0.530647</td>\n",
       "      <td>1.527887</td>\n",
       "      <td>-0.406669</td>\n",
       "    </tr>\n",
       "    <tr>\n",
       "      <th>2021-01-08</th>\n",
       "      <td>0.723015</td>\n",
       "      <td>-1.654048</td>\n",
       "      <td>2.024578</td>\n",
       "      <td>-0.448772</td>\n",
       "    </tr>\n",
       "    <tr>\n",
       "      <th>2021-01-09</th>\n",
       "      <td>-0.691032</td>\n",
       "      <td>-0.022972</td>\n",
       "      <td>-1.013858</td>\n",
       "      <td>-0.348636</td>\n",
       "    </tr>\n",
       "    <tr>\n",
       "      <th>2021-01-10</th>\n",
       "      <td>-0.258712</td>\n",
       "      <td>0.250337</td>\n",
       "      <td>0.099438</td>\n",
       "      <td>-0.649714</td>\n",
       "    </tr>\n",
       "    <tr>\n",
       "      <th>2021-01-11</th>\n",
       "      <td>-0.266737</td>\n",
       "      <td>-0.491385</td>\n",
       "      <td>0.564028</td>\n",
       "      <td>-0.354186</td>\n",
       "    </tr>\n",
       "  </tbody>\n",
       "</table>\n",
       "</div>"
      ],
      "text/plain": [
       "                   D         C         B         A\n",
       "2021-01-06 -0.479453 -2.556374 -0.308370  1.067907\n",
       "2021-01-07 -1.747194 -0.530647  1.527887 -0.406669\n",
       "2021-01-08  0.723015 -1.654048  2.024578 -0.448772\n",
       "2021-01-09 -0.691032 -0.022972 -1.013858 -0.348636\n",
       "2021-01-10 -0.258712  0.250337  0.099438 -0.649714\n",
       "2021-01-11 -0.266737 -0.491385  0.564028 -0.354186"
      ]
     },
     "execution_count": 31,
     "metadata": {
      "tags": []
     },
     "output_type": "execute_result"
    }
   ],
   "source": [
    "df.sort_index(axis=1,ascending=False)\n",
    "# sorting based on axis 1"
   ]
  },
  {
   "cell_type": "code",
   "execution_count": null,
   "metadata": {
    "id": "kz2xwbINuaAC",
    "outputId": "fed72ca6-e968-40d6-f230-c73a89bcd80b"
   },
   "outputs": [
    {
     "data": {
      "text/html": [
       "<div>\n",
       "<style scoped>\n",
       "    .dataframe tbody tr th:only-of-type {\n",
       "        vertical-align: middle;\n",
       "    }\n",
       "\n",
       "    .dataframe tbody tr th {\n",
       "        vertical-align: top;\n",
       "    }\n",
       "\n",
       "    .dataframe thead th {\n",
       "        text-align: right;\n",
       "    }\n",
       "</style>\n",
       "<table border=\"1\" class=\"dataframe\">\n",
       "  <thead>\n",
       "    <tr style=\"text-align: right;\">\n",
       "      <th></th>\n",
       "      <th>A</th>\n",
       "      <th>B</th>\n",
       "      <th>C</th>\n",
       "      <th>D</th>\n",
       "    </tr>\n",
       "  </thead>\n",
       "  <tbody>\n",
       "    <tr>\n",
       "      <th>2021-01-06</th>\n",
       "      <td>1.067907</td>\n",
       "      <td>-0.308370</td>\n",
       "      <td>-2.556374</td>\n",
       "      <td>-0.479453</td>\n",
       "    </tr>\n",
       "    <tr>\n",
       "      <th>2021-01-08</th>\n",
       "      <td>-0.448772</td>\n",
       "      <td>2.024578</td>\n",
       "      <td>-1.654048</td>\n",
       "      <td>0.723015</td>\n",
       "    </tr>\n",
       "    <tr>\n",
       "      <th>2021-01-07</th>\n",
       "      <td>-0.406669</td>\n",
       "      <td>1.527887</td>\n",
       "      <td>-0.530647</td>\n",
       "      <td>-1.747194</td>\n",
       "    </tr>\n",
       "    <tr>\n",
       "      <th>2021-01-11</th>\n",
       "      <td>-0.354186</td>\n",
       "      <td>0.564028</td>\n",
       "      <td>-0.491385</td>\n",
       "      <td>-0.266737</td>\n",
       "    </tr>\n",
       "    <tr>\n",
       "      <th>2021-01-09</th>\n",
       "      <td>-0.348636</td>\n",
       "      <td>-1.013858</td>\n",
       "      <td>-0.022972</td>\n",
       "      <td>-0.691032</td>\n",
       "    </tr>\n",
       "    <tr>\n",
       "      <th>2021-01-10</th>\n",
       "      <td>-0.649714</td>\n",
       "      <td>0.099438</td>\n",
       "      <td>0.250337</td>\n",
       "      <td>-0.258712</td>\n",
       "    </tr>\n",
       "  </tbody>\n",
       "</table>\n",
       "</div>"
      ],
      "text/plain": [
       "                   A         B         C         D\n",
       "2021-01-06  1.067907 -0.308370 -2.556374 -0.479453\n",
       "2021-01-08 -0.448772  2.024578 -1.654048  0.723015\n",
       "2021-01-07 -0.406669  1.527887 -0.530647 -1.747194\n",
       "2021-01-11 -0.354186  0.564028 -0.491385 -0.266737\n",
       "2021-01-09 -0.348636 -1.013858 -0.022972 -0.691032\n",
       "2021-01-10 -0.649714  0.099438  0.250337 -0.258712"
      ]
     },
     "execution_count": 32,
     "metadata": {
      "tags": []
     },
     "output_type": "execute_result"
    }
   ],
   "source": [
    "df.sort_values(by=\"C\")"
   ]
  },
  {
   "cell_type": "markdown",
   "metadata": {
    "id": "I-ALHQ1duaAC"
   },
   "source": [
    "#### Getting Data"
   ]
  },
  {
   "cell_type": "code",
   "execution_count": null,
   "metadata": {
    "id": "DSPuBbYWuaAC",
    "outputId": "b292719c-358e-4fdd-fa24-814126b0932b"
   },
   "outputs": [
    {
     "data": {
      "text/plain": [
       "2021-01-06    1.067907\n",
       "2021-01-07   -0.406669\n",
       "2021-01-08   -0.448772\n",
       "2021-01-09   -0.348636\n",
       "2021-01-10   -0.649714\n",
       "2021-01-11   -0.354186\n",
       "Freq: D, Name: A, dtype: float64"
      ]
     },
     "execution_count": 33,
     "metadata": {
      "tags": []
     },
     "output_type": "execute_result"
    }
   ],
   "source": [
    "df[\"A\"]\n",
    "# Getting a single column values"
   ]
  },
  {
   "cell_type": "code",
   "execution_count": null,
   "metadata": {
    "id": "QFSNVFlPuaAD",
    "outputId": "cea18ab1-405b-4d97-8a82-f4615e1086da"
   },
   "outputs": [
    {
     "data": {
      "text/html": [
       "<div>\n",
       "<style scoped>\n",
       "    .dataframe tbody tr th:only-of-type {\n",
       "        vertical-align: middle;\n",
       "    }\n",
       "\n",
       "    .dataframe tbody tr th {\n",
       "        vertical-align: top;\n",
       "    }\n",
       "\n",
       "    .dataframe thead th {\n",
       "        text-align: right;\n",
       "    }\n",
       "</style>\n",
       "<table border=\"1\" class=\"dataframe\">\n",
       "  <thead>\n",
       "    <tr style=\"text-align: right;\">\n",
       "      <th></th>\n",
       "      <th>A</th>\n",
       "      <th>B</th>\n",
       "      <th>C</th>\n",
       "      <th>D</th>\n",
       "    </tr>\n",
       "  </thead>\n",
       "  <tbody>\n",
       "    <tr>\n",
       "      <th>2021-01-06</th>\n",
       "      <td>1.067907</td>\n",
       "      <td>-0.308370</td>\n",
       "      <td>-2.556374</td>\n",
       "      <td>-0.479453</td>\n",
       "    </tr>\n",
       "    <tr>\n",
       "      <th>2021-01-07</th>\n",
       "      <td>-0.406669</td>\n",
       "      <td>1.527887</td>\n",
       "      <td>-0.530647</td>\n",
       "      <td>-1.747194</td>\n",
       "    </tr>\n",
       "    <tr>\n",
       "      <th>2021-01-08</th>\n",
       "      <td>-0.448772</td>\n",
       "      <td>2.024578</td>\n",
       "      <td>-1.654048</td>\n",
       "      <td>0.723015</td>\n",
       "    </tr>\n",
       "  </tbody>\n",
       "</table>\n",
       "</div>"
      ],
      "text/plain": [
       "                   A         B         C         D\n",
       "2021-01-06  1.067907 -0.308370 -2.556374 -0.479453\n",
       "2021-01-07 -0.406669  1.527887 -0.530647 -1.747194\n",
       "2021-01-08 -0.448772  2.024578 -1.654048  0.723015"
      ]
     },
     "execution_count": 34,
     "metadata": {
      "tags": []
     },
     "output_type": "execute_result"
    }
   ],
   "source": [
    "df[0:3]"
   ]
  },
  {
   "cell_type": "code",
   "execution_count": null,
   "metadata": {
    "id": "hSipMAfFuaAD",
    "outputId": "9d6427f8-6a7c-44df-9c45-d623386aabd5"
   },
   "outputs": [
    {
     "data": {
      "text/html": [
       "<div>\n",
       "<style scoped>\n",
       "    .dataframe tbody tr th:only-of-type {\n",
       "        vertical-align: middle;\n",
       "    }\n",
       "\n",
       "    .dataframe tbody tr th {\n",
       "        vertical-align: top;\n",
       "    }\n",
       "\n",
       "    .dataframe thead th {\n",
       "        text-align: right;\n",
       "    }\n",
       "</style>\n",
       "<table border=\"1\" class=\"dataframe\">\n",
       "  <thead>\n",
       "    <tr style=\"text-align: right;\">\n",
       "      <th></th>\n",
       "      <th>A</th>\n",
       "      <th>B</th>\n",
       "      <th>C</th>\n",
       "      <th>D</th>\n",
       "    </tr>\n",
       "  </thead>\n",
       "  <tbody>\n",
       "    <tr>\n",
       "      <th>2021-01-08</th>\n",
       "      <td>-0.448772</td>\n",
       "      <td>2.024578</td>\n",
       "      <td>-1.654048</td>\n",
       "      <td>0.723015</td>\n",
       "    </tr>\n",
       "    <tr>\n",
       "      <th>2021-01-09</th>\n",
       "      <td>-0.348636</td>\n",
       "      <td>-1.013858</td>\n",
       "      <td>-0.022972</td>\n",
       "      <td>-0.691032</td>\n",
       "    </tr>\n",
       "    <tr>\n",
       "      <th>2021-01-10</th>\n",
       "      <td>-0.649714</td>\n",
       "      <td>0.099438</td>\n",
       "      <td>0.250337</td>\n",
       "      <td>-0.258712</td>\n",
       "    </tr>\n",
       "    <tr>\n",
       "      <th>2021-01-11</th>\n",
       "      <td>-0.354186</td>\n",
       "      <td>0.564028</td>\n",
       "      <td>-0.491385</td>\n",
       "      <td>-0.266737</td>\n",
       "    </tr>\n",
       "  </tbody>\n",
       "</table>\n",
       "</div>"
      ],
      "text/plain": [
       "                   A         B         C         D\n",
       "2021-01-08 -0.448772  2.024578 -1.654048  0.723015\n",
       "2021-01-09 -0.348636 -1.013858 -0.022972 -0.691032\n",
       "2021-01-10 -0.649714  0.099438  0.250337 -0.258712\n",
       "2021-01-11 -0.354186  0.564028 -0.491385 -0.266737"
      ]
     },
     "execution_count": 35,
     "metadata": {
      "tags": []
     },
     "output_type": "execute_result"
    }
   ],
   "source": [
    "df[\"20210108\":]"
   ]
  },
  {
   "cell_type": "markdown",
   "metadata": {
    "id": "1szJ-NkmuaAD"
   },
   "source": [
    "#### Selection by label"
   ]
  },
  {
   "cell_type": "code",
   "execution_count": null,
   "metadata": {
    "id": "8ZmV1G2vuaAD",
    "outputId": "f959774e-30f3-463f-c1ec-b1454de713d6"
   },
   "outputs": [
    {
     "data": {
      "text/plain": [
       "A   -0.448772\n",
       "B    2.024578\n",
       "C   -1.654048\n",
       "D    0.723015\n",
       "Name: 2021-01-08 00:00:00, dtype: float64"
      ]
     },
     "execution_count": 37,
     "metadata": {
      "tags": []
     },
     "output_type": "execute_result"
    }
   ],
   "source": [
    "df.loc[dates[2]]"
   ]
  },
  {
   "cell_type": "code",
   "execution_count": null,
   "metadata": {
    "id": "Wy5xcBbxuaAD",
    "outputId": "11f775fb-b307-4a5e-8d2f-d90c5d90d583"
   },
   "outputs": [
    {
     "data": {
      "text/plain": [
       "1.5278870814867447"
      ]
     },
     "execution_count": 39,
     "metadata": {
      "tags": []
     },
     "output_type": "execute_result"
    }
   ],
   "source": [
    "df.loc[dates[1],\"B\"]\n",
    "# To fetch a scalar value of DataFrame"
   ]
  },
  {
   "cell_type": "markdown",
   "metadata": {
    "id": "2PaAyAAEuaAE"
   },
   "source": [
    "#### Selection by Position\n",
    "\n",
    "* row and column"
   ]
  },
  {
   "cell_type": "code",
   "execution_count": null,
   "metadata": {
    "id": "uluk48opuaAE",
    "outputId": "2f2264bb-9457-4944-a4ba-e4fdc60345a2"
   },
   "outputs": [
    {
     "data": {
      "text/plain": [
       "A   -0.448772\n",
       "B    2.024578\n",
       "C   -1.654048\n",
       "D    0.723015\n",
       "Name: 2021-01-08 00:00:00, dtype: float64"
      ]
     },
     "execution_count": 40,
     "metadata": {
      "tags": []
     },
     "output_type": "execute_result"
    }
   ],
   "source": [
    "df.iloc[2]"
   ]
  },
  {
   "cell_type": "code",
   "execution_count": null,
   "metadata": {
    "id": "NcDd5sXIuaAE",
    "outputId": "796cde79-d7d8-4ce4-9858-442a73e737e4"
   },
   "outputs": [
    {
     "data": {
      "text/html": [
       "<div>\n",
       "<style scoped>\n",
       "    .dataframe tbody tr th:only-of-type {\n",
       "        vertical-align: middle;\n",
       "    }\n",
       "\n",
       "    .dataframe tbody tr th {\n",
       "        vertical-align: top;\n",
       "    }\n",
       "\n",
       "    .dataframe thead th {\n",
       "        text-align: right;\n",
       "    }\n",
       "</style>\n",
       "<table border=\"1\" class=\"dataframe\">\n",
       "  <thead>\n",
       "    <tr style=\"text-align: right;\">\n",
       "      <th></th>\n",
       "      <th>B</th>\n",
       "      <th>C</th>\n",
       "    </tr>\n",
       "  </thead>\n",
       "  <tbody>\n",
       "    <tr>\n",
       "      <th>2021-01-06</th>\n",
       "      <td>-0.308370</td>\n",
       "      <td>-2.556374</td>\n",
       "    </tr>\n",
       "    <tr>\n",
       "      <th>2021-01-07</th>\n",
       "      <td>1.527887</td>\n",
       "      <td>-0.530647</td>\n",
       "    </tr>\n",
       "    <tr>\n",
       "      <th>2021-01-08</th>\n",
       "      <td>2.024578</td>\n",
       "      <td>-1.654048</td>\n",
       "    </tr>\n",
       "    <tr>\n",
       "      <th>2021-01-09</th>\n",
       "      <td>-1.013858</td>\n",
       "      <td>-0.022972</td>\n",
       "    </tr>\n",
       "    <tr>\n",
       "      <th>2021-01-10</th>\n",
       "      <td>0.099438</td>\n",
       "      <td>0.250337</td>\n",
       "    </tr>\n",
       "    <tr>\n",
       "      <th>2021-01-11</th>\n",
       "      <td>0.564028</td>\n",
       "      <td>-0.491385</td>\n",
       "    </tr>\n",
       "  </tbody>\n",
       "</table>\n",
       "</div>"
      ],
      "text/plain": [
       "                   B         C\n",
       "2021-01-06 -0.308370 -2.556374\n",
       "2021-01-07  1.527887 -0.530647\n",
       "2021-01-08  2.024578 -1.654048\n",
       "2021-01-09 -1.013858 -0.022972\n",
       "2021-01-10  0.099438  0.250337\n",
       "2021-01-11  0.564028 -0.491385"
      ]
     },
     "execution_count": 42,
     "metadata": {
      "tags": []
     },
     "output_type": "execute_result"
    }
   ],
   "source": [
    "df.iloc[:,1:3]"
   ]
  },
  {
   "cell_type": "markdown",
   "metadata": {
    "id": "b5GE7KNouaAE"
   },
   "source": [
    "#### Boolean Indexing"
   ]
  },
  {
   "cell_type": "code",
   "execution_count": null,
   "metadata": {
    "id": "r16x6fJWuaAF",
    "outputId": "58f1d42b-a966-4769-b21f-3e5c520f966b"
   },
   "outputs": [
    {
     "data": {
      "text/html": [
       "<div>\n",
       "<style scoped>\n",
       "    .dataframe tbody tr th:only-of-type {\n",
       "        vertical-align: middle;\n",
       "    }\n",
       "\n",
       "    .dataframe tbody tr th {\n",
       "        vertical-align: top;\n",
       "    }\n",
       "\n",
       "    .dataframe thead th {\n",
       "        text-align: right;\n",
       "    }\n",
       "</style>\n",
       "<table border=\"1\" class=\"dataframe\">\n",
       "  <thead>\n",
       "    <tr style=\"text-align: right;\">\n",
       "      <th></th>\n",
       "      <th>A</th>\n",
       "      <th>B</th>\n",
       "      <th>C</th>\n",
       "      <th>D</th>\n",
       "    </tr>\n",
       "  </thead>\n",
       "  <tbody>\n",
       "    <tr>\n",
       "      <th>2021-01-06</th>\n",
       "      <td>1.067907</td>\n",
       "      <td>-0.30837</td>\n",
       "      <td>-2.556374</td>\n",
       "      <td>-0.479453</td>\n",
       "    </tr>\n",
       "  </tbody>\n",
       "</table>\n",
       "</div>"
      ],
      "text/plain": [
       "                   A        B         C         D\n",
       "2021-01-06  1.067907 -0.30837 -2.556374 -0.479453"
      ]
     },
     "execution_count": 43,
     "metadata": {
      "tags": []
     },
     "output_type": "execute_result"
    }
   ],
   "source": [
    "df[df[\"A\"] > 0]"
   ]
  },
  {
   "cell_type": "code",
   "execution_count": null,
   "metadata": {
    "id": "vGBdpidcuaAF",
    "outputId": "38c817ed-fe26-441a-b028-e5ddeb6d1295"
   },
   "outputs": [
    {
     "data": {
      "text/html": [
       "<div>\n",
       "<style scoped>\n",
       "    .dataframe tbody tr th:only-of-type {\n",
       "        vertical-align: middle;\n",
       "    }\n",
       "\n",
       "    .dataframe tbody tr th {\n",
       "        vertical-align: top;\n",
       "    }\n",
       "\n",
       "    .dataframe thead th {\n",
       "        text-align: right;\n",
       "    }\n",
       "</style>\n",
       "<table border=\"1\" class=\"dataframe\">\n",
       "  <thead>\n",
       "    <tr style=\"text-align: right;\">\n",
       "      <th></th>\n",
       "      <th>A</th>\n",
       "      <th>B</th>\n",
       "      <th>C</th>\n",
       "      <th>D</th>\n",
       "    </tr>\n",
       "  </thead>\n",
       "  <tbody>\n",
       "    <tr>\n",
       "      <th>2021-01-06</th>\n",
       "      <td>1.067907</td>\n",
       "      <td>NaN</td>\n",
       "      <td>NaN</td>\n",
       "      <td>NaN</td>\n",
       "    </tr>\n",
       "    <tr>\n",
       "      <th>2021-01-07</th>\n",
       "      <td>NaN</td>\n",
       "      <td>1.527887</td>\n",
       "      <td>NaN</td>\n",
       "      <td>NaN</td>\n",
       "    </tr>\n",
       "    <tr>\n",
       "      <th>2021-01-08</th>\n",
       "      <td>NaN</td>\n",
       "      <td>2.024578</td>\n",
       "      <td>NaN</td>\n",
       "      <td>0.723015</td>\n",
       "    </tr>\n",
       "    <tr>\n",
       "      <th>2021-01-09</th>\n",
       "      <td>NaN</td>\n",
       "      <td>NaN</td>\n",
       "      <td>NaN</td>\n",
       "      <td>NaN</td>\n",
       "    </tr>\n",
       "    <tr>\n",
       "      <th>2021-01-10</th>\n",
       "      <td>NaN</td>\n",
       "      <td>0.099438</td>\n",
       "      <td>0.250337</td>\n",
       "      <td>NaN</td>\n",
       "    </tr>\n",
       "    <tr>\n",
       "      <th>2021-01-11</th>\n",
       "      <td>NaN</td>\n",
       "      <td>0.564028</td>\n",
       "      <td>NaN</td>\n",
       "      <td>NaN</td>\n",
       "    </tr>\n",
       "  </tbody>\n",
       "</table>\n",
       "</div>"
      ],
      "text/plain": [
       "                   A         B         C         D\n",
       "2021-01-06  1.067907       NaN       NaN       NaN\n",
       "2021-01-07       NaN  1.527887       NaN       NaN\n",
       "2021-01-08       NaN  2.024578       NaN  0.723015\n",
       "2021-01-09       NaN       NaN       NaN       NaN\n",
       "2021-01-10       NaN  0.099438  0.250337       NaN\n",
       "2021-01-11       NaN  0.564028       NaN       NaN"
      ]
     },
     "execution_count": 44,
     "metadata": {
      "tags": []
     },
     "output_type": "execute_result"
    }
   ],
   "source": [
    "df[df > 0]"
   ]
  },
  {
   "cell_type": "code",
   "execution_count": null,
   "metadata": {
    "id": "Yo1-urPCuaAF"
   },
   "outputs": [],
   "source": [
    "df2 = df.copy()"
   ]
  },
  {
   "cell_type": "code",
   "execution_count": null,
   "metadata": {
    "id": "32tTwhIKuaAF"
   },
   "outputs": [],
   "source": [
    "df2[\"E\"] = [\"one\",\"two\",\"three\",\"four\",\"five\",\"six\"]"
   ]
  },
  {
   "cell_type": "code",
   "execution_count": null,
   "metadata": {
    "id": "Yt9-eDnduaAF",
    "outputId": "cbab995c-540c-4daa-db79-c6ea4c45d6b2"
   },
   "outputs": [
    {
     "data": {
      "text/html": [
       "<div>\n",
       "<style scoped>\n",
       "    .dataframe tbody tr th:only-of-type {\n",
       "        vertical-align: middle;\n",
       "    }\n",
       "\n",
       "    .dataframe tbody tr th {\n",
       "        vertical-align: top;\n",
       "    }\n",
       "\n",
       "    .dataframe thead th {\n",
       "        text-align: right;\n",
       "    }\n",
       "</style>\n",
       "<table border=\"1\" class=\"dataframe\">\n",
       "  <thead>\n",
       "    <tr style=\"text-align: right;\">\n",
       "      <th></th>\n",
       "      <th>A</th>\n",
       "      <th>B</th>\n",
       "      <th>C</th>\n",
       "      <th>D</th>\n",
       "      <th>E</th>\n",
       "    </tr>\n",
       "  </thead>\n",
       "  <tbody>\n",
       "    <tr>\n",
       "      <th>2021-01-06</th>\n",
       "      <td>1.067907</td>\n",
       "      <td>-0.308370</td>\n",
       "      <td>-2.556374</td>\n",
       "      <td>-0.479453</td>\n",
       "      <td>one</td>\n",
       "    </tr>\n",
       "    <tr>\n",
       "      <th>2021-01-07</th>\n",
       "      <td>-0.406669</td>\n",
       "      <td>1.527887</td>\n",
       "      <td>-0.530647</td>\n",
       "      <td>-1.747194</td>\n",
       "      <td>two</td>\n",
       "    </tr>\n",
       "    <tr>\n",
       "      <th>2021-01-08</th>\n",
       "      <td>-0.448772</td>\n",
       "      <td>2.024578</td>\n",
       "      <td>-1.654048</td>\n",
       "      <td>0.723015</td>\n",
       "      <td>three</td>\n",
       "    </tr>\n",
       "    <tr>\n",
       "      <th>2021-01-09</th>\n",
       "      <td>-0.348636</td>\n",
       "      <td>-1.013858</td>\n",
       "      <td>-0.022972</td>\n",
       "      <td>-0.691032</td>\n",
       "      <td>four</td>\n",
       "    </tr>\n",
       "    <tr>\n",
       "      <th>2021-01-10</th>\n",
       "      <td>-0.649714</td>\n",
       "      <td>0.099438</td>\n",
       "      <td>0.250337</td>\n",
       "      <td>-0.258712</td>\n",
       "      <td>five</td>\n",
       "    </tr>\n",
       "    <tr>\n",
       "      <th>2021-01-11</th>\n",
       "      <td>-0.354186</td>\n",
       "      <td>0.564028</td>\n",
       "      <td>-0.491385</td>\n",
       "      <td>-0.266737</td>\n",
       "      <td>six</td>\n",
       "    </tr>\n",
       "  </tbody>\n",
       "</table>\n",
       "</div>"
      ],
      "text/plain": [
       "                   A         B         C         D      E\n",
       "2021-01-06  1.067907 -0.308370 -2.556374 -0.479453    one\n",
       "2021-01-07 -0.406669  1.527887 -0.530647 -1.747194    two\n",
       "2021-01-08 -0.448772  2.024578 -1.654048  0.723015  three\n",
       "2021-01-09 -0.348636 -1.013858 -0.022972 -0.691032   four\n",
       "2021-01-10 -0.649714  0.099438  0.250337 -0.258712   five\n",
       "2021-01-11 -0.354186  0.564028 -0.491385 -0.266737    six"
      ]
     },
     "execution_count": 47,
     "metadata": {
      "tags": []
     },
     "output_type": "execute_result"
    }
   ],
   "source": [
    "df2"
   ]
  },
  {
   "cell_type": "code",
   "execution_count": null,
   "metadata": {
    "id": "jTwHSlysuaAG",
    "outputId": "4aa12489-df8f-48d9-b06e-eb9319a72823"
   },
   "outputs": [
    {
     "data": {
      "text/html": [
       "<div>\n",
       "<style scoped>\n",
       "    .dataframe tbody tr th:only-of-type {\n",
       "        vertical-align: middle;\n",
       "    }\n",
       "\n",
       "    .dataframe tbody tr th {\n",
       "        vertical-align: top;\n",
       "    }\n",
       "\n",
       "    .dataframe thead th {\n",
       "        text-align: right;\n",
       "    }\n",
       "</style>\n",
       "<table border=\"1\" class=\"dataframe\">\n",
       "  <thead>\n",
       "    <tr style=\"text-align: right;\">\n",
       "      <th></th>\n",
       "      <th>A</th>\n",
       "      <th>B</th>\n",
       "      <th>C</th>\n",
       "      <th>D</th>\n",
       "      <th>E</th>\n",
       "    </tr>\n",
       "  </thead>\n",
       "  <tbody>\n",
       "    <tr>\n",
       "      <th>2021-01-08</th>\n",
       "      <td>-0.448772</td>\n",
       "      <td>2.024578</td>\n",
       "      <td>-1.654048</td>\n",
       "      <td>0.723015</td>\n",
       "      <td>three</td>\n",
       "    </tr>\n",
       "    <tr>\n",
       "      <th>2021-01-10</th>\n",
       "      <td>-0.649714</td>\n",
       "      <td>0.099438</td>\n",
       "      <td>0.250337</td>\n",
       "      <td>-0.258712</td>\n",
       "      <td>five</td>\n",
       "    </tr>\n",
       "  </tbody>\n",
       "</table>\n",
       "</div>"
      ],
      "text/plain": [
       "                   A         B         C         D      E\n",
       "2021-01-08 -0.448772  2.024578 -1.654048  0.723015  three\n",
       "2021-01-10 -0.649714  0.099438  0.250337 -0.258712   five"
      ]
     },
     "execution_count": 48,
     "metadata": {
      "tags": []
     },
     "output_type": "execute_result"
    }
   ],
   "source": [
    "df2[df2[\"E\"].isin([\"three\",\"five\"])]"
   ]
  },
  {
   "cell_type": "markdown",
   "metadata": {
    "id": "8fdGApGAuaAI"
   },
   "source": [
    "#### Setting"
   ]
  },
  {
   "cell_type": "code",
   "execution_count": null,
   "metadata": {
    "id": "axKXdAeEuaAI"
   },
   "outputs": [],
   "source": [
    "s1 = pd.Series([1,2,3,4,5,6], index = pd.date_range(\"20210106\", periods=6))"
   ]
  },
  {
   "cell_type": "code",
   "execution_count": null,
   "metadata": {
    "id": "91FYJEpUuaAI",
    "outputId": "942c5a8e-2787-4639-f1f0-11bbe4085ec2"
   },
   "outputs": [
    {
     "data": {
      "text/plain": [
       "2021-01-06    1\n",
       "2021-01-07    2\n",
       "2021-01-08    3\n",
       "2021-01-09    4\n",
       "2021-01-10    5\n",
       "2021-01-11    6\n",
       "Freq: D, dtype: int64"
      ]
     },
     "execution_count": 52,
     "metadata": {
      "tags": []
     },
     "output_type": "execute_result"
    }
   ],
   "source": [
    "s1"
   ]
  },
  {
   "cell_type": "code",
   "execution_count": null,
   "metadata": {
    "id": "YYdH_lTBuaAJ"
   },
   "outputs": [],
   "source": [
    "df[\"F\"] = s1"
   ]
  },
  {
   "cell_type": "code",
   "execution_count": null,
   "metadata": {
    "id": "pykoJsCbuaAJ"
   },
   "outputs": [],
   "source": [
    "df.at[dates[0],\"A\"] = 2"
   ]
  },
  {
   "cell_type": "code",
   "execution_count": null,
   "metadata": {
    "id": "AcjfP0jCuaAJ"
   },
   "outputs": [],
   "source": [
    "df.iat[0,1] = 0"
   ]
  },
  {
   "cell_type": "code",
   "execution_count": null,
   "metadata": {
    "id": "8N-WTMrOuaAJ"
   },
   "outputs": [],
   "source": [
    "df.loc[:,\"D\"] = np.array([5] * len(df))"
   ]
  },
  {
   "cell_type": "code",
   "execution_count": null,
   "metadata": {
    "id": "4TJAMTaluaAJ",
    "outputId": "7dd2f6f8-de77-4334-b4ef-c5e15a7c2af7"
   },
   "outputs": [
    {
     "data": {
      "text/html": [
       "<div>\n",
       "<style scoped>\n",
       "    .dataframe tbody tr th:only-of-type {\n",
       "        vertical-align: middle;\n",
       "    }\n",
       "\n",
       "    .dataframe tbody tr th {\n",
       "        vertical-align: top;\n",
       "    }\n",
       "\n",
       "    .dataframe thead th {\n",
       "        text-align: right;\n",
       "    }\n",
       "</style>\n",
       "<table border=\"1\" class=\"dataframe\">\n",
       "  <thead>\n",
       "    <tr style=\"text-align: right;\">\n",
       "      <th></th>\n",
       "      <th>A</th>\n",
       "      <th>B</th>\n",
       "      <th>C</th>\n",
       "      <th>D</th>\n",
       "      <th>F</th>\n",
       "    </tr>\n",
       "  </thead>\n",
       "  <tbody>\n",
       "    <tr>\n",
       "      <th>2021-01-06</th>\n",
       "      <td>2.000000</td>\n",
       "      <td>0.000000</td>\n",
       "      <td>-2.556374</td>\n",
       "      <td>5</td>\n",
       "      <td>1</td>\n",
       "    </tr>\n",
       "    <tr>\n",
       "      <th>2021-01-07</th>\n",
       "      <td>-0.406669</td>\n",
       "      <td>1.527887</td>\n",
       "      <td>-0.530647</td>\n",
       "      <td>5</td>\n",
       "      <td>2</td>\n",
       "    </tr>\n",
       "    <tr>\n",
       "      <th>2021-01-08</th>\n",
       "      <td>-0.448772</td>\n",
       "      <td>2.024578</td>\n",
       "      <td>-1.654048</td>\n",
       "      <td>5</td>\n",
       "      <td>3</td>\n",
       "    </tr>\n",
       "    <tr>\n",
       "      <th>2021-01-09</th>\n",
       "      <td>-0.348636</td>\n",
       "      <td>-1.013858</td>\n",
       "      <td>-0.022972</td>\n",
       "      <td>5</td>\n",
       "      <td>4</td>\n",
       "    </tr>\n",
       "    <tr>\n",
       "      <th>2021-01-10</th>\n",
       "      <td>-0.649714</td>\n",
       "      <td>0.099438</td>\n",
       "      <td>0.250337</td>\n",
       "      <td>5</td>\n",
       "      <td>5</td>\n",
       "    </tr>\n",
       "    <tr>\n",
       "      <th>2021-01-11</th>\n",
       "      <td>-0.354186</td>\n",
       "      <td>0.564028</td>\n",
       "      <td>-0.491385</td>\n",
       "      <td>5</td>\n",
       "      <td>6</td>\n",
       "    </tr>\n",
       "  </tbody>\n",
       "</table>\n",
       "</div>"
      ],
      "text/plain": [
       "                   A         B         C  D  F\n",
       "2021-01-06  2.000000  0.000000 -2.556374  5  1\n",
       "2021-01-07 -0.406669  1.527887 -0.530647  5  2\n",
       "2021-01-08 -0.448772  2.024578 -1.654048  5  3\n",
       "2021-01-09 -0.348636 -1.013858 -0.022972  5  4\n",
       "2021-01-10 -0.649714  0.099438  0.250337  5  5\n",
       "2021-01-11 -0.354186  0.564028 -0.491385  5  6"
      ]
     },
     "execution_count": 60,
     "metadata": {
      "tags": []
     },
     "output_type": "execute_result"
    }
   ],
   "source": [
    "df"
   ]
  },
  {
   "cell_type": "code",
   "execution_count": null,
   "metadata": {
    "id": "i9VsQmjiuaAK"
   },
   "outputs": [],
   "source": [
    "df2 = df.copy()"
   ]
  },
  {
   "cell_type": "code",
   "execution_count": null,
   "metadata": {
    "id": "Yq_xqxNPuaAK"
   },
   "outputs": [],
   "source": [
    "df2[df2 > 0] = -df2"
   ]
  },
  {
   "cell_type": "code",
   "execution_count": null,
   "metadata": {
    "id": "KEJeOhqIuaAK",
    "outputId": "f3425ea5-40bc-40d9-96e3-c545f653511b"
   },
   "outputs": [
    {
     "data": {
      "text/html": [
       "<div>\n",
       "<style scoped>\n",
       "    .dataframe tbody tr th:only-of-type {\n",
       "        vertical-align: middle;\n",
       "    }\n",
       "\n",
       "    .dataframe tbody tr th {\n",
       "        vertical-align: top;\n",
       "    }\n",
       "\n",
       "    .dataframe thead th {\n",
       "        text-align: right;\n",
       "    }\n",
       "</style>\n",
       "<table border=\"1\" class=\"dataframe\">\n",
       "  <thead>\n",
       "    <tr style=\"text-align: right;\">\n",
       "      <th></th>\n",
       "      <th>A</th>\n",
       "      <th>B</th>\n",
       "      <th>C</th>\n",
       "      <th>D</th>\n",
       "      <th>F</th>\n",
       "    </tr>\n",
       "  </thead>\n",
       "  <tbody>\n",
       "    <tr>\n",
       "      <th>2021-01-06</th>\n",
       "      <td>-2.000000</td>\n",
       "      <td>0.000000</td>\n",
       "      <td>-2.556374</td>\n",
       "      <td>-5</td>\n",
       "      <td>-1</td>\n",
       "    </tr>\n",
       "    <tr>\n",
       "      <th>2021-01-07</th>\n",
       "      <td>-0.406669</td>\n",
       "      <td>-1.527887</td>\n",
       "      <td>-0.530647</td>\n",
       "      <td>-5</td>\n",
       "      <td>-2</td>\n",
       "    </tr>\n",
       "    <tr>\n",
       "      <th>2021-01-08</th>\n",
       "      <td>-0.448772</td>\n",
       "      <td>-2.024578</td>\n",
       "      <td>-1.654048</td>\n",
       "      <td>-5</td>\n",
       "      <td>-3</td>\n",
       "    </tr>\n",
       "    <tr>\n",
       "      <th>2021-01-09</th>\n",
       "      <td>-0.348636</td>\n",
       "      <td>-1.013858</td>\n",
       "      <td>-0.022972</td>\n",
       "      <td>-5</td>\n",
       "      <td>-4</td>\n",
       "    </tr>\n",
       "    <tr>\n",
       "      <th>2021-01-10</th>\n",
       "      <td>-0.649714</td>\n",
       "      <td>-0.099438</td>\n",
       "      <td>-0.250337</td>\n",
       "      <td>-5</td>\n",
       "      <td>-5</td>\n",
       "    </tr>\n",
       "    <tr>\n",
       "      <th>2021-01-11</th>\n",
       "      <td>-0.354186</td>\n",
       "      <td>-0.564028</td>\n",
       "      <td>-0.491385</td>\n",
       "      <td>-5</td>\n",
       "      <td>-6</td>\n",
       "    </tr>\n",
       "  </tbody>\n",
       "</table>\n",
       "</div>"
      ],
      "text/plain": [
       "                   A         B         C  D  F\n",
       "2021-01-06 -2.000000  0.000000 -2.556374 -5 -1\n",
       "2021-01-07 -0.406669 -1.527887 -0.530647 -5 -2\n",
       "2021-01-08 -0.448772 -2.024578 -1.654048 -5 -3\n",
       "2021-01-09 -0.348636 -1.013858 -0.022972 -5 -4\n",
       "2021-01-10 -0.649714 -0.099438 -0.250337 -5 -5\n",
       "2021-01-11 -0.354186 -0.564028 -0.491385 -5 -6"
      ]
     },
     "execution_count": 63,
     "metadata": {
      "tags": []
     },
     "output_type": "execute_result"
    }
   ],
   "source": [
    "df2"
   ]
  },
  {
   "cell_type": "markdown",
   "metadata": {
    "id": "vlotgQwM_6th"
   },
   "source": [
    "#### Missing data"
   ]
  },
  {
   "cell_type": "code",
   "execution_count": 51,
   "metadata": {
    "id": "ejc7Be55urAA"
   },
   "outputs": [],
   "source": [
    "df1 = df.reindex(index=dates[0:4], columns=list(df.columns) + [\"E\"])"
   ]
  },
  {
   "cell_type": "code",
   "execution_count": 52,
   "metadata": {
    "id": "zKQhUyHEBcpz"
   },
   "outputs": [],
   "source": [
    "df1.loc[dates[0] : dates[1], \"E\"] = 1"
   ]
  },
  {
   "cell_type": "code",
   "execution_count": 53,
   "metadata": {
    "colab": {
     "base_uri": "https://localhost:8080/",
     "height": 173
    },
    "id": "7SfjQQ9DBc8q",
    "outputId": "6badf49c-1324-4c8f-e423-378d450efa26"
   },
   "outputs": [
    {
     "data": {
      "text/html": [
       "<div>\n",
       "<style scoped>\n",
       "    .dataframe tbody tr th:only-of-type {\n",
       "        vertical-align: middle;\n",
       "    }\n",
       "\n",
       "    .dataframe tbody tr th {\n",
       "        vertical-align: top;\n",
       "    }\n",
       "\n",
       "    .dataframe thead th {\n",
       "        text-align: right;\n",
       "    }\n",
       "</style>\n",
       "<table border=\"1\" class=\"dataframe\">\n",
       "  <thead>\n",
       "    <tr style=\"text-align: right;\">\n",
       "      <th></th>\n",
       "      <th>A</th>\n",
       "      <th>B</th>\n",
       "      <th>C</th>\n",
       "      <th>D</th>\n",
       "      <th>F</th>\n",
       "      <th>E</th>\n",
       "    </tr>\n",
       "  </thead>\n",
       "  <tbody>\n",
       "    <tr>\n",
       "      <th>2021-01-06</th>\n",
       "      <td>2.000000</td>\n",
       "      <td>0.000000</td>\n",
       "      <td>-1.233281</td>\n",
       "      <td>5</td>\n",
       "      <td>1</td>\n",
       "      <td>1.0</td>\n",
       "    </tr>\n",
       "    <tr>\n",
       "      <th>2021-01-07</th>\n",
       "      <td>-1.039917</td>\n",
       "      <td>0.639161</td>\n",
       "      <td>-0.082168</td>\n",
       "      <td>5</td>\n",
       "      <td>2</td>\n",
       "      <td>1.0</td>\n",
       "    </tr>\n",
       "    <tr>\n",
       "      <th>2021-01-08</th>\n",
       "      <td>-1.764941</td>\n",
       "      <td>-1.161919</td>\n",
       "      <td>1.159493</td>\n",
       "      <td>5</td>\n",
       "      <td>3</td>\n",
       "      <td>NaN</td>\n",
       "    </tr>\n",
       "    <tr>\n",
       "      <th>2021-01-09</th>\n",
       "      <td>0.625021</td>\n",
       "      <td>-1.137280</td>\n",
       "      <td>-0.706602</td>\n",
       "      <td>5</td>\n",
       "      <td>4</td>\n",
       "      <td>NaN</td>\n",
       "    </tr>\n",
       "  </tbody>\n",
       "</table>\n",
       "</div>"
      ],
      "text/plain": [
       "                   A         B         C  D  F    E\n",
       "2021-01-06  2.000000  0.000000 -1.233281  5  1  1.0\n",
       "2021-01-07 -1.039917  0.639161 -0.082168  5  2  1.0\n",
       "2021-01-08 -1.764941 -1.161919  1.159493  5  3  NaN\n",
       "2021-01-09  0.625021 -1.137280 -0.706602  5  4  NaN"
      ]
     },
     "execution_count": 53,
     "metadata": {
      "tags": []
     },
     "output_type": "execute_result"
    }
   ],
   "source": [
    "df1"
   ]
  },
  {
   "cell_type": "code",
   "execution_count": 54,
   "metadata": {
    "colab": {
     "base_uri": "https://localhost:8080/",
     "height": 111
    },
    "id": "3lfmlctTBdM6",
    "outputId": "3a541887-4898-4220-c69a-1b6ca1bcb8b4"
   },
   "outputs": [
    {
     "data": {
      "text/html": [
       "<div>\n",
       "<style scoped>\n",
       "    .dataframe tbody tr th:only-of-type {\n",
       "        vertical-align: middle;\n",
       "    }\n",
       "\n",
       "    .dataframe tbody tr th {\n",
       "        vertical-align: top;\n",
       "    }\n",
       "\n",
       "    .dataframe thead th {\n",
       "        text-align: right;\n",
       "    }\n",
       "</style>\n",
       "<table border=\"1\" class=\"dataframe\">\n",
       "  <thead>\n",
       "    <tr style=\"text-align: right;\">\n",
       "      <th></th>\n",
       "      <th>A</th>\n",
       "      <th>B</th>\n",
       "      <th>C</th>\n",
       "      <th>D</th>\n",
       "      <th>F</th>\n",
       "      <th>E</th>\n",
       "    </tr>\n",
       "  </thead>\n",
       "  <tbody>\n",
       "    <tr>\n",
       "      <th>2021-01-06</th>\n",
       "      <td>2.000000</td>\n",
       "      <td>0.000000</td>\n",
       "      <td>-1.233281</td>\n",
       "      <td>5</td>\n",
       "      <td>1</td>\n",
       "      <td>1.0</td>\n",
       "    </tr>\n",
       "    <tr>\n",
       "      <th>2021-01-07</th>\n",
       "      <td>-1.039917</td>\n",
       "      <td>0.639161</td>\n",
       "      <td>-0.082168</td>\n",
       "      <td>5</td>\n",
       "      <td>2</td>\n",
       "      <td>1.0</td>\n",
       "    </tr>\n",
       "  </tbody>\n",
       "</table>\n",
       "</div>"
      ],
      "text/plain": [
       "                   A         B         C  D  F    E\n",
       "2021-01-06  2.000000  0.000000 -1.233281  5  1  1.0\n",
       "2021-01-07 -1.039917  0.639161 -0.082168  5  2  1.0"
      ]
     },
     "execution_count": 54,
     "metadata": {
      "tags": []
     },
     "output_type": "execute_result"
    }
   ],
   "source": [
    "df1.dropna(how=\"any\")"
   ]
  },
  {
   "cell_type": "code",
   "execution_count": 56,
   "metadata": {
    "colab": {
     "base_uri": "https://localhost:8080/",
     "height": 173
    },
    "id": "AXqqJBKABddS",
    "outputId": "921799b9-6875-4480-d361-1c21d064e2ce"
   },
   "outputs": [
    {
     "data": {
      "text/html": [
       "<div>\n",
       "<style scoped>\n",
       "    .dataframe tbody tr th:only-of-type {\n",
       "        vertical-align: middle;\n",
       "    }\n",
       "\n",
       "    .dataframe tbody tr th {\n",
       "        vertical-align: top;\n",
       "    }\n",
       "\n",
       "    .dataframe thead th {\n",
       "        text-align: right;\n",
       "    }\n",
       "</style>\n",
       "<table border=\"1\" class=\"dataframe\">\n",
       "  <thead>\n",
       "    <tr style=\"text-align: right;\">\n",
       "      <th></th>\n",
       "      <th>A</th>\n",
       "      <th>B</th>\n",
       "      <th>C</th>\n",
       "      <th>D</th>\n",
       "      <th>F</th>\n",
       "      <th>E</th>\n",
       "    </tr>\n",
       "  </thead>\n",
       "  <tbody>\n",
       "    <tr>\n",
       "      <th>2021-01-06</th>\n",
       "      <td>2.000000</td>\n",
       "      <td>0.000000</td>\n",
       "      <td>-1.233281</td>\n",
       "      <td>5</td>\n",
       "      <td>1</td>\n",
       "      <td>1.0</td>\n",
       "    </tr>\n",
       "    <tr>\n",
       "      <th>2021-01-07</th>\n",
       "      <td>-1.039917</td>\n",
       "      <td>0.639161</td>\n",
       "      <td>-0.082168</td>\n",
       "      <td>5</td>\n",
       "      <td>2</td>\n",
       "      <td>1.0</td>\n",
       "    </tr>\n",
       "    <tr>\n",
       "      <th>2021-01-08</th>\n",
       "      <td>-1.764941</td>\n",
       "      <td>-1.161919</td>\n",
       "      <td>1.159493</td>\n",
       "      <td>5</td>\n",
       "      <td>3</td>\n",
       "      <td>5.0</td>\n",
       "    </tr>\n",
       "    <tr>\n",
       "      <th>2021-01-09</th>\n",
       "      <td>0.625021</td>\n",
       "      <td>-1.137280</td>\n",
       "      <td>-0.706602</td>\n",
       "      <td>5</td>\n",
       "      <td>4</td>\n",
       "      <td>5.0</td>\n",
       "    </tr>\n",
       "  </tbody>\n",
       "</table>\n",
       "</div>"
      ],
      "text/plain": [
       "                   A         B         C  D  F    E\n",
       "2021-01-06  2.000000  0.000000 -1.233281  5  1  1.0\n",
       "2021-01-07 -1.039917  0.639161 -0.082168  5  2  1.0\n",
       "2021-01-08 -1.764941 -1.161919  1.159493  5  3  5.0\n",
       "2021-01-09  0.625021 -1.137280 -0.706602  5  4  5.0"
      ]
     },
     "execution_count": 56,
     "metadata": {
      "tags": []
     },
     "output_type": "execute_result"
    }
   ],
   "source": [
    "df1.fillna(value=5)"
   ]
  },
  {
   "cell_type": "code",
   "execution_count": 57,
   "metadata": {
    "colab": {
     "base_uri": "https://localhost:8080/",
     "height": 173
    },
    "id": "8WhBWm75Bd4g",
    "outputId": "30c15026-6b4e-41d7-e92f-a7d28b1ba08b"
   },
   "outputs": [
    {
     "data": {
      "text/html": [
       "<div>\n",
       "<style scoped>\n",
       "    .dataframe tbody tr th:only-of-type {\n",
       "        vertical-align: middle;\n",
       "    }\n",
       "\n",
       "    .dataframe tbody tr th {\n",
       "        vertical-align: top;\n",
       "    }\n",
       "\n",
       "    .dataframe thead th {\n",
       "        text-align: right;\n",
       "    }\n",
       "</style>\n",
       "<table border=\"1\" class=\"dataframe\">\n",
       "  <thead>\n",
       "    <tr style=\"text-align: right;\">\n",
       "      <th></th>\n",
       "      <th>A</th>\n",
       "      <th>B</th>\n",
       "      <th>C</th>\n",
       "      <th>D</th>\n",
       "      <th>F</th>\n",
       "      <th>E</th>\n",
       "    </tr>\n",
       "  </thead>\n",
       "  <tbody>\n",
       "    <tr>\n",
       "      <th>2021-01-06</th>\n",
       "      <td>False</td>\n",
       "      <td>False</td>\n",
       "      <td>False</td>\n",
       "      <td>False</td>\n",
       "      <td>False</td>\n",
       "      <td>False</td>\n",
       "    </tr>\n",
       "    <tr>\n",
       "      <th>2021-01-07</th>\n",
       "      <td>False</td>\n",
       "      <td>False</td>\n",
       "      <td>False</td>\n",
       "      <td>False</td>\n",
       "      <td>False</td>\n",
       "      <td>False</td>\n",
       "    </tr>\n",
       "    <tr>\n",
       "      <th>2021-01-08</th>\n",
       "      <td>False</td>\n",
       "      <td>False</td>\n",
       "      <td>False</td>\n",
       "      <td>False</td>\n",
       "      <td>False</td>\n",
       "      <td>True</td>\n",
       "    </tr>\n",
       "    <tr>\n",
       "      <th>2021-01-09</th>\n",
       "      <td>False</td>\n",
       "      <td>False</td>\n",
       "      <td>False</td>\n",
       "      <td>False</td>\n",
       "      <td>False</td>\n",
       "      <td>True</td>\n",
       "    </tr>\n",
       "  </tbody>\n",
       "</table>\n",
       "</div>"
      ],
      "text/plain": [
       "                A      B      C      D      F      E\n",
       "2021-01-06  False  False  False  False  False  False\n",
       "2021-01-07  False  False  False  False  False  False\n",
       "2021-01-08  False  False  False  False  False   True\n",
       "2021-01-09  False  False  False  False  False   True"
      ]
     },
     "execution_count": 57,
     "metadata": {
      "tags": []
     },
     "output_type": "execute_result"
    }
   ],
   "source": [
    "pd.isna(df1)"
   ]
  },
  {
   "cell_type": "code",
   "execution_count": 59,
   "metadata": {
    "colab": {
     "base_uri": "https://localhost:8080/"
    },
    "id": "EJhS_TENHePq",
    "outputId": "9d70b8f2-f8dc-4018-da61-1cfc4418093e"
   },
   "outputs": [
    {
     "data": {
      "text/plain": [
       "A   -0.009501\n",
       "B   -0.203629\n",
       "C    0.348555\n",
       "D    5.000000\n",
       "F    3.500000\n",
       "dtype: float64"
      ]
     },
     "execution_count": 59,
     "metadata": {
      "tags": []
     },
     "output_type": "execute_result"
    }
   ],
   "source": [
    "# Operations in general exclude missing data\n",
    "df.mean()"
   ]
  },
  {
   "cell_type": "code",
   "execution_count": 60,
   "metadata": {
    "colab": {
     "base_uri": "https://localhost:8080/"
    },
    "id": "7nZsprZYHeah",
    "outputId": "791b54d5-3c9a-4574-d664-ca17cb5ce865"
   },
   "outputs": [
    {
     "data": {
      "text/plain": [
       "2021-01-06    1.294453\n",
       "2021-01-07    1.252846\n",
       "2021-01-08    1.246527\n",
       "2021-01-09    1.556228\n",
       "Freq: D, dtype: float64"
      ]
     },
     "execution_count": 60,
     "metadata": {
      "tags": []
     },
     "output_type": "execute_result"
    }
   ],
   "source": [
    "df1.mean(1)"
   ]
  },
  {
   "cell_type": "code",
   "execution_count": 61,
   "metadata": {
    "id": "4cKMawXhHekN"
   },
   "outputs": [],
   "source": [
    "s = pd.Series([1,3,5,np.nan,6,8], index=dates).shift(2)"
   ]
  },
  {
   "cell_type": "code",
   "execution_count": 62,
   "metadata": {
    "colab": {
     "base_uri": "https://localhost:8080/"
    },
    "id": "Uf2yS167Heru",
    "outputId": "1e936b22-d31b-4111-eb8e-8ed3939621ea"
   },
   "outputs": [
    {
     "data": {
      "text/plain": [
       "2021-01-06    NaN\n",
       "2021-01-07    NaN\n",
       "2021-01-08    1.0\n",
       "2021-01-09    3.0\n",
       "2021-01-10    5.0\n",
       "2021-01-11    NaN\n",
       "Freq: D, dtype: float64"
      ]
     },
     "execution_count": 62,
     "metadata": {
      "tags": []
     },
     "output_type": "execute_result"
    }
   ],
   "source": [
    "s"
   ]
  },
  {
   "cell_type": "code",
   "execution_count": 63,
   "metadata": {
    "colab": {
     "base_uri": "https://localhost:8080/",
     "height": 235
    },
    "id": "yFkNuolWHeyW",
    "outputId": "fade27ad-e59f-4fd1-d565-b8bd28b2d21e"
   },
   "outputs": [
    {
     "data": {
      "text/html": [
       "<div>\n",
       "<style scoped>\n",
       "    .dataframe tbody tr th:only-of-type {\n",
       "        vertical-align: middle;\n",
       "    }\n",
       "\n",
       "    .dataframe tbody tr th {\n",
       "        vertical-align: top;\n",
       "    }\n",
       "\n",
       "    .dataframe thead th {\n",
       "        text-align: right;\n",
       "    }\n",
       "</style>\n",
       "<table border=\"1\" class=\"dataframe\">\n",
       "  <thead>\n",
       "    <tr style=\"text-align: right;\">\n",
       "      <th></th>\n",
       "      <th>A</th>\n",
       "      <th>B</th>\n",
       "      <th>C</th>\n",
       "      <th>D</th>\n",
       "      <th>F</th>\n",
       "    </tr>\n",
       "  </thead>\n",
       "  <tbody>\n",
       "    <tr>\n",
       "      <th>2021-01-06</th>\n",
       "      <td>NaN</td>\n",
       "      <td>NaN</td>\n",
       "      <td>NaN</td>\n",
       "      <td>NaN</td>\n",
       "      <td>NaN</td>\n",
       "    </tr>\n",
       "    <tr>\n",
       "      <th>2021-01-07</th>\n",
       "      <td>NaN</td>\n",
       "      <td>NaN</td>\n",
       "      <td>NaN</td>\n",
       "      <td>NaN</td>\n",
       "      <td>NaN</td>\n",
       "    </tr>\n",
       "    <tr>\n",
       "      <th>2021-01-08</th>\n",
       "      <td>-2.764941</td>\n",
       "      <td>-2.161919</td>\n",
       "      <td>0.159493</td>\n",
       "      <td>4.0</td>\n",
       "      <td>2.0</td>\n",
       "    </tr>\n",
       "    <tr>\n",
       "      <th>2021-01-09</th>\n",
       "      <td>-2.374979</td>\n",
       "      <td>-4.137280</td>\n",
       "      <td>-3.706602</td>\n",
       "      <td>2.0</td>\n",
       "      <td>1.0</td>\n",
       "    </tr>\n",
       "    <tr>\n",
       "      <th>2021-01-10</th>\n",
       "      <td>-5.127768</td>\n",
       "      <td>-3.985697</td>\n",
       "      <td>-2.640157</td>\n",
       "      <td>0.0</td>\n",
       "      <td>0.0</td>\n",
       "    </tr>\n",
       "    <tr>\n",
       "      <th>2021-01-11</th>\n",
       "      <td>NaN</td>\n",
       "      <td>NaN</td>\n",
       "      <td>NaN</td>\n",
       "      <td>NaN</td>\n",
       "      <td>NaN</td>\n",
       "    </tr>\n",
       "  </tbody>\n",
       "</table>\n",
       "</div>"
      ],
      "text/plain": [
       "                   A         B         C    D    F\n",
       "2021-01-06       NaN       NaN       NaN  NaN  NaN\n",
       "2021-01-07       NaN       NaN       NaN  NaN  NaN\n",
       "2021-01-08 -2.764941 -2.161919  0.159493  4.0  2.0\n",
       "2021-01-09 -2.374979 -4.137280 -3.706602  2.0  1.0\n",
       "2021-01-10 -5.127768 -3.985697 -2.640157  0.0  0.0\n",
       "2021-01-11       NaN       NaN       NaN  NaN  NaN"
      ]
     },
     "execution_count": 63,
     "metadata": {
      "tags": []
     },
     "output_type": "execute_result"
    }
   ],
   "source": [
    "df.sub(s, axis=\"index\")"
   ]
  },
  {
   "cell_type": "code",
   "execution_count": 64,
   "metadata": {
    "colab": {
     "base_uri": "https://localhost:8080/",
     "height": 235
    },
    "id": "JBkDUGBDHe4G",
    "outputId": "eab57c10-202b-4379-d41e-5499cedd97a0"
   },
   "outputs": [
    {
     "data": {
      "text/html": [
       "<div>\n",
       "<style scoped>\n",
       "    .dataframe tbody tr th:only-of-type {\n",
       "        vertical-align: middle;\n",
       "    }\n",
       "\n",
       "    .dataframe tbody tr th {\n",
       "        vertical-align: top;\n",
       "    }\n",
       "\n",
       "    .dataframe thead th {\n",
       "        text-align: right;\n",
       "    }\n",
       "</style>\n",
       "<table border=\"1\" class=\"dataframe\">\n",
       "  <thead>\n",
       "    <tr style=\"text-align: right;\">\n",
       "      <th></th>\n",
       "      <th>A</th>\n",
       "      <th>B</th>\n",
       "      <th>C</th>\n",
       "      <th>D</th>\n",
       "      <th>F</th>\n",
       "    </tr>\n",
       "  </thead>\n",
       "  <tbody>\n",
       "    <tr>\n",
       "      <th>2021-01-06</th>\n",
       "      <td>2.000000</td>\n",
       "      <td>0.000000</td>\n",
       "      <td>-1.233281</td>\n",
       "      <td>5</td>\n",
       "      <td>1</td>\n",
       "    </tr>\n",
       "    <tr>\n",
       "      <th>2021-01-07</th>\n",
       "      <td>0.960083</td>\n",
       "      <td>0.639161</td>\n",
       "      <td>-1.315449</td>\n",
       "      <td>10</td>\n",
       "      <td>3</td>\n",
       "    </tr>\n",
       "    <tr>\n",
       "      <th>2021-01-08</th>\n",
       "      <td>-0.804858</td>\n",
       "      <td>-0.522757</td>\n",
       "      <td>-0.155956</td>\n",
       "      <td>15</td>\n",
       "      <td>6</td>\n",
       "    </tr>\n",
       "    <tr>\n",
       "      <th>2021-01-09</th>\n",
       "      <td>-0.179837</td>\n",
       "      <td>-1.660038</td>\n",
       "      <td>-0.862558</td>\n",
       "      <td>20</td>\n",
       "      <td>10</td>\n",
       "    </tr>\n",
       "    <tr>\n",
       "      <th>2021-01-10</th>\n",
       "      <td>-0.307605</td>\n",
       "      <td>-0.645735</td>\n",
       "      <td>1.497285</td>\n",
       "      <td>25</td>\n",
       "      <td>15</td>\n",
       "    </tr>\n",
       "    <tr>\n",
       "      <th>2021-01-11</th>\n",
       "      <td>-0.057006</td>\n",
       "      <td>-1.221775</td>\n",
       "      <td>2.091331</td>\n",
       "      <td>30</td>\n",
       "      <td>21</td>\n",
       "    </tr>\n",
       "  </tbody>\n",
       "</table>\n",
       "</div>"
      ],
      "text/plain": [
       "                   A         B         C   D   F\n",
       "2021-01-06  2.000000  0.000000 -1.233281   5   1\n",
       "2021-01-07  0.960083  0.639161 -1.315449  10   3\n",
       "2021-01-08 -0.804858 -0.522757 -0.155956  15   6\n",
       "2021-01-09 -0.179837 -1.660038 -0.862558  20  10\n",
       "2021-01-10 -0.307605 -0.645735  1.497285  25  15\n",
       "2021-01-11 -0.057006 -1.221775  2.091331  30  21"
      ]
     },
     "execution_count": 64,
     "metadata": {
      "tags": []
     },
     "output_type": "execute_result"
    }
   ],
   "source": [
    "df.apply()"
   ]
  },
  {
   "cell_type": "markdown",
   "metadata": {
    "id": "J4wathTyMPLC"
   },
   "source": [
    "#### String Methods"
   ]
  },
  {
   "cell_type": "code",
   "execution_count": 65,
   "metadata": {
    "id": "PBmSMkH8He-O"
   },
   "outputs": [],
   "source": [
    "s = pd.Series([\"A\",\"B\",\"C\",\"Abba\",\"Baca\",np.nan,\"CABA\"])"
   ]
  },
  {
   "cell_type": "code",
   "execution_count": 66,
   "metadata": {
    "colab": {
     "base_uri": "https://localhost:8080/"
    },
    "id": "rdBo6bU3HfDB",
    "outputId": "d77478a9-1c86-4ec1-c677-75d1a84ae297"
   },
   "outputs": [
    {
     "data": {
      "text/plain": [
       "0       a\n",
       "1       b\n",
       "2       c\n",
       "3    abba\n",
       "4    baca\n",
       "5     NaN\n",
       "6    caba\n",
       "dtype: object"
      ]
     },
     "execution_count": 66,
     "metadata": {
      "tags": []
     },
     "output_type": "execute_result"
    }
   ],
   "source": [
    "s.str.lower()"
   ]
  },
  {
   "cell_type": "markdown",
   "metadata": {
    "id": "CEJWrpfBVcq2"
   },
   "source": [
    "#### Concat pandas object\n",
    "\n",
    "* Concat keeps the indexing from the different object as it is."
   ]
  },
  {
   "cell_type": "code",
   "execution_count": 79,
   "metadata": {
    "id": "txf7KVXOHfH5"
   },
   "outputs": [],
   "source": [
    "df = pd.DataFrame(np.random.randn(10,4))"
   ]
  },
  {
   "cell_type": "code",
   "execution_count": 69,
   "metadata": {
    "colab": {
     "base_uri": "https://localhost:8080/",
     "height": 359
    },
    "id": "GRe97VDCHfMY",
    "outputId": "58f89545-f93e-48d1-906b-ea5e9dde237d"
   },
   "outputs": [
    {
     "data": {
      "text/html": [
       "<div>\n",
       "<style scoped>\n",
       "    .dataframe tbody tr th:only-of-type {\n",
       "        vertical-align: middle;\n",
       "    }\n",
       "\n",
       "    .dataframe tbody tr th {\n",
       "        vertical-align: top;\n",
       "    }\n",
       "\n",
       "    .dataframe thead th {\n",
       "        text-align: right;\n",
       "    }\n",
       "</style>\n",
       "<table border=\"1\" class=\"dataframe\">\n",
       "  <thead>\n",
       "    <tr style=\"text-align: right;\">\n",
       "      <th></th>\n",
       "      <th>0</th>\n",
       "      <th>1</th>\n",
       "      <th>2</th>\n",
       "      <th>3</th>\n",
       "    </tr>\n",
       "  </thead>\n",
       "  <tbody>\n",
       "    <tr>\n",
       "      <th>0</th>\n",
       "      <td>-0.432301</td>\n",
       "      <td>0.590735</td>\n",
       "      <td>1.615090</td>\n",
       "      <td>1.222890</td>\n",
       "    </tr>\n",
       "    <tr>\n",
       "      <th>1</th>\n",
       "      <td>0.627390</td>\n",
       "      <td>-0.514128</td>\n",
       "      <td>1.422393</td>\n",
       "      <td>1.678491</td>\n",
       "    </tr>\n",
       "    <tr>\n",
       "      <th>2</th>\n",
       "      <td>0.100067</td>\n",
       "      <td>-0.609705</td>\n",
       "      <td>0.761225</td>\n",
       "      <td>-0.224933</td>\n",
       "    </tr>\n",
       "    <tr>\n",
       "      <th>3</th>\n",
       "      <td>-0.076163</td>\n",
       "      <td>-0.285814</td>\n",
       "      <td>-1.319732</td>\n",
       "      <td>-1.964078</td>\n",
       "    </tr>\n",
       "    <tr>\n",
       "      <th>4</th>\n",
       "      <td>0.095517</td>\n",
       "      <td>-1.104230</td>\n",
       "      <td>-0.731411</td>\n",
       "      <td>1.738359</td>\n",
       "    </tr>\n",
       "    <tr>\n",
       "      <th>5</th>\n",
       "      <td>-0.275003</td>\n",
       "      <td>0.971759</td>\n",
       "      <td>0.194789</td>\n",
       "      <td>0.719807</td>\n",
       "    </tr>\n",
       "    <tr>\n",
       "      <th>6</th>\n",
       "      <td>-1.520591</td>\n",
       "      <td>0.573221</td>\n",
       "      <td>1.330478</td>\n",
       "      <td>-0.028202</td>\n",
       "    </tr>\n",
       "    <tr>\n",
       "      <th>7</th>\n",
       "      <td>1.505982</td>\n",
       "      <td>-0.291092</td>\n",
       "      <td>1.174140</td>\n",
       "      <td>-0.761478</td>\n",
       "    </tr>\n",
       "    <tr>\n",
       "      <th>8</th>\n",
       "      <td>1.925473</td>\n",
       "      <td>1.488456</td>\n",
       "      <td>0.065545</td>\n",
       "      <td>-1.343509</td>\n",
       "    </tr>\n",
       "    <tr>\n",
       "      <th>9</th>\n",
       "      <td>0.099426</td>\n",
       "      <td>-0.363542</td>\n",
       "      <td>0.271586</td>\n",
       "      <td>-0.895839</td>\n",
       "    </tr>\n",
       "  </tbody>\n",
       "</table>\n",
       "</div>"
      ],
      "text/plain": [
       "          0         1         2         3\n",
       "0 -0.432301  0.590735  1.615090  1.222890\n",
       "1  0.627390 -0.514128  1.422393  1.678491\n",
       "2  0.100067 -0.609705  0.761225 -0.224933\n",
       "3 -0.076163 -0.285814 -1.319732 -1.964078\n",
       "4  0.095517 -1.104230 -0.731411  1.738359\n",
       "5 -0.275003  0.971759  0.194789  0.719807\n",
       "6 -1.520591  0.573221  1.330478 -0.028202\n",
       "7  1.505982 -0.291092  1.174140 -0.761478\n",
       "8  1.925473  1.488456  0.065545 -1.343509\n",
       "9  0.099426 -0.363542  0.271586 -0.895839"
      ]
     },
     "execution_count": 69,
     "metadata": {
      "tags": []
     },
     "output_type": "execute_result"
    }
   ],
   "source": [
    "df"
   ]
  },
  {
   "cell_type": "code",
   "execution_count": 80,
   "metadata": {
    "id": "2jN3xwPIHfQo"
   },
   "outputs": [],
   "source": [
    "pieces = [df[:3],df[3:7],df[7:]]"
   ]
  },
  {
   "cell_type": "code",
   "execution_count": 81,
   "metadata": {
    "colab": {
     "base_uri": "https://localhost:8080/",
     "height": 359
    },
    "id": "2jvUbQ8pHfUx",
    "outputId": "2c1bdb9e-4457-4bb5-cb27-f01e12dbae5b"
   },
   "outputs": [
    {
     "data": {
      "text/html": [
       "<div>\n",
       "<style scoped>\n",
       "    .dataframe tbody tr th:only-of-type {\n",
       "        vertical-align: middle;\n",
       "    }\n",
       "\n",
       "    .dataframe tbody tr th {\n",
       "        vertical-align: top;\n",
       "    }\n",
       "\n",
       "    .dataframe thead th {\n",
       "        text-align: right;\n",
       "    }\n",
       "</style>\n",
       "<table border=\"1\" class=\"dataframe\">\n",
       "  <thead>\n",
       "    <tr style=\"text-align: right;\">\n",
       "      <th></th>\n",
       "      <th>0</th>\n",
       "      <th>1</th>\n",
       "      <th>2</th>\n",
       "      <th>3</th>\n",
       "    </tr>\n",
       "  </thead>\n",
       "  <tbody>\n",
       "    <tr>\n",
       "      <th>0</th>\n",
       "      <td>-0.317809</td>\n",
       "      <td>-0.192941</td>\n",
       "      <td>-1.416179</td>\n",
       "      <td>1.195075</td>\n",
       "    </tr>\n",
       "    <tr>\n",
       "      <th>1</th>\n",
       "      <td>0.296277</td>\n",
       "      <td>0.295111</td>\n",
       "      <td>-0.368593</td>\n",
       "      <td>1.354334</td>\n",
       "    </tr>\n",
       "    <tr>\n",
       "      <th>2</th>\n",
       "      <td>-0.356200</td>\n",
       "      <td>0.635304</td>\n",
       "      <td>0.091062</td>\n",
       "      <td>1.014288</td>\n",
       "    </tr>\n",
       "    <tr>\n",
       "      <th>3</th>\n",
       "      <td>-0.257395</td>\n",
       "      <td>1.146284</td>\n",
       "      <td>0.647549</td>\n",
       "      <td>-0.840460</td>\n",
       "    </tr>\n",
       "    <tr>\n",
       "      <th>4</th>\n",
       "      <td>0.810624</td>\n",
       "      <td>-0.299929</td>\n",
       "      <td>0.577410</td>\n",
       "      <td>0.138512</td>\n",
       "    </tr>\n",
       "    <tr>\n",
       "      <th>5</th>\n",
       "      <td>-1.947645</td>\n",
       "      <td>-0.871479</td>\n",
       "      <td>-0.067358</td>\n",
       "      <td>0.602588</td>\n",
       "    </tr>\n",
       "    <tr>\n",
       "      <th>6</th>\n",
       "      <td>0.615519</td>\n",
       "      <td>-0.339106</td>\n",
       "      <td>-1.318752</td>\n",
       "      <td>0.650193</td>\n",
       "    </tr>\n",
       "    <tr>\n",
       "      <th>7</th>\n",
       "      <td>-0.599134</td>\n",
       "      <td>-2.625518</td>\n",
       "      <td>-0.612502</td>\n",
       "      <td>-1.273615</td>\n",
       "    </tr>\n",
       "    <tr>\n",
       "      <th>8</th>\n",
       "      <td>-0.511269</td>\n",
       "      <td>-1.407373</td>\n",
       "      <td>1.084909</td>\n",
       "      <td>2.172842</td>\n",
       "    </tr>\n",
       "    <tr>\n",
       "      <th>9</th>\n",
       "      <td>0.517993</td>\n",
       "      <td>1.088953</td>\n",
       "      <td>0.847549</td>\n",
       "      <td>2.339750</td>\n",
       "    </tr>\n",
       "  </tbody>\n",
       "</table>\n",
       "</div>"
      ],
      "text/plain": [
       "          0         1         2         3\n",
       "0 -0.317809 -0.192941 -1.416179  1.195075\n",
       "1  0.296277  0.295111 -0.368593  1.354334\n",
       "2 -0.356200  0.635304  0.091062  1.014288\n",
       "3 -0.257395  1.146284  0.647549 -0.840460\n",
       "4  0.810624 -0.299929  0.577410  0.138512\n",
       "5 -1.947645 -0.871479 -0.067358  0.602588\n",
       "6  0.615519 -0.339106 -1.318752  0.650193\n",
       "7 -0.599134 -2.625518 -0.612502 -1.273615\n",
       "8 -0.511269 -1.407373  1.084909  2.172842\n",
       "9  0.517993  1.088953  0.847549  2.339750"
      ]
     },
     "execution_count": 81,
     "metadata": {
      "tags": []
     },
     "output_type": "execute_result"
    }
   ],
   "source": [
    "pd.concat(pieces)"
   ]
  },
  {
   "cell_type": "markdown",
   "metadata": {
    "id": "NyaNUJRgWrUd"
   },
   "source": [
    "#### Join\n",
    "\n",
    "* merge() reindex the two pandas object when merging"
   ]
  },
  {
   "cell_type": "code",
   "execution_count": 82,
   "metadata": {
    "id": "SFXQuYexHfZO"
   },
   "outputs": [],
   "source": [
    "left = pd.DataFrame({\"key\":[\"foo\",\"foo\"], \"lval\":[1,2]})"
   ]
  },
  {
   "cell_type": "code",
   "execution_count": 83,
   "metadata": {
    "id": "cwguc61cXah6"
   },
   "outputs": [],
   "source": [
    "right = pd.DataFrame({\"key\":[\"foo\",\"foo\"], \"rval\":[4,5]})"
   ]
  },
  {
   "cell_type": "code",
   "execution_count": 84,
   "metadata": {
    "colab": {
     "base_uri": "https://localhost:8080/",
     "height": 111
    },
    "id": "updmUZ7JXaoO",
    "outputId": "3592d790-cde3-4836-e71f-6d13a44cca8e"
   },
   "outputs": [
    {
     "data": {
      "text/html": [
       "<div>\n",
       "<style scoped>\n",
       "    .dataframe tbody tr th:only-of-type {\n",
       "        vertical-align: middle;\n",
       "    }\n",
       "\n",
       "    .dataframe tbody tr th {\n",
       "        vertical-align: top;\n",
       "    }\n",
       "\n",
       "    .dataframe thead th {\n",
       "        text-align: right;\n",
       "    }\n",
       "</style>\n",
       "<table border=\"1\" class=\"dataframe\">\n",
       "  <thead>\n",
       "    <tr style=\"text-align: right;\">\n",
       "      <th></th>\n",
       "      <th>key</th>\n",
       "      <th>lval</th>\n",
       "    </tr>\n",
       "  </thead>\n",
       "  <tbody>\n",
       "    <tr>\n",
       "      <th>0</th>\n",
       "      <td>foo</td>\n",
       "      <td>1</td>\n",
       "    </tr>\n",
       "    <tr>\n",
       "      <th>1</th>\n",
       "      <td>foo</td>\n",
       "      <td>2</td>\n",
       "    </tr>\n",
       "  </tbody>\n",
       "</table>\n",
       "</div>"
      ],
      "text/plain": [
       "   key  lval\n",
       "0  foo     1\n",
       "1  foo     2"
      ]
     },
     "execution_count": 84,
     "metadata": {
      "tags": []
     },
     "output_type": "execute_result"
    }
   ],
   "source": [
    "  left"
   ]
  },
  {
   "cell_type": "code",
   "execution_count": 85,
   "metadata": {
    "colab": {
     "base_uri": "https://localhost:8080/",
     "height": 111
    },
    "id": "1brpmi_MXat3",
    "outputId": "b3c5890f-75a3-4761-ac47-2c00240d4819"
   },
   "outputs": [
    {
     "data": {
      "text/html": [
       "<div>\n",
       "<style scoped>\n",
       "    .dataframe tbody tr th:only-of-type {\n",
       "        vertical-align: middle;\n",
       "    }\n",
       "\n",
       "    .dataframe tbody tr th {\n",
       "        vertical-align: top;\n",
       "    }\n",
       "\n",
       "    .dataframe thead th {\n",
       "        text-align: right;\n",
       "    }\n",
       "</style>\n",
       "<table border=\"1\" class=\"dataframe\">\n",
       "  <thead>\n",
       "    <tr style=\"text-align: right;\">\n",
       "      <th></th>\n",
       "      <th>key</th>\n",
       "      <th>rval</th>\n",
       "    </tr>\n",
       "  </thead>\n",
       "  <tbody>\n",
       "    <tr>\n",
       "      <th>0</th>\n",
       "      <td>foo</td>\n",
       "      <td>4</td>\n",
       "    </tr>\n",
       "    <tr>\n",
       "      <th>1</th>\n",
       "      <td>foo</td>\n",
       "      <td>5</td>\n",
       "    </tr>\n",
       "  </tbody>\n",
       "</table>\n",
       "</div>"
      ],
      "text/plain": [
       "   key  rval\n",
       "0  foo     4\n",
       "1  foo     5"
      ]
     },
     "execution_count": 85,
     "metadata": {
      "tags": []
     },
     "output_type": "execute_result"
    }
   ],
   "source": [
    "right"
   ]
  },
  {
   "cell_type": "code",
   "execution_count": 86,
   "metadata": {
    "colab": {
     "base_uri": "https://localhost:8080/",
     "height": 173
    },
    "id": "GTcAzO2tXazb",
    "outputId": "39711d94-5b16-4add-e007-3c633ab8bdb8"
   },
   "outputs": [
    {
     "data": {
      "text/html": [
       "<div>\n",
       "<style scoped>\n",
       "    .dataframe tbody tr th:only-of-type {\n",
       "        vertical-align: middle;\n",
       "    }\n",
       "\n",
       "    .dataframe tbody tr th {\n",
       "        vertical-align: top;\n",
       "    }\n",
       "\n",
       "    .dataframe thead th {\n",
       "        text-align: right;\n",
       "    }\n",
       "</style>\n",
       "<table border=\"1\" class=\"dataframe\">\n",
       "  <thead>\n",
       "    <tr style=\"text-align: right;\">\n",
       "      <th></th>\n",
       "      <th>key</th>\n",
       "      <th>lval</th>\n",
       "      <th>rval</th>\n",
       "    </tr>\n",
       "  </thead>\n",
       "  <tbody>\n",
       "    <tr>\n",
       "      <th>0</th>\n",
       "      <td>foo</td>\n",
       "      <td>1</td>\n",
       "      <td>4</td>\n",
       "    </tr>\n",
       "    <tr>\n",
       "      <th>1</th>\n",
       "      <td>foo</td>\n",
       "      <td>1</td>\n",
       "      <td>5</td>\n",
       "    </tr>\n",
       "    <tr>\n",
       "      <th>2</th>\n",
       "      <td>foo</td>\n",
       "      <td>2</td>\n",
       "      <td>4</td>\n",
       "    </tr>\n",
       "    <tr>\n",
       "      <th>3</th>\n",
       "      <td>foo</td>\n",
       "      <td>2</td>\n",
       "      <td>5</td>\n",
       "    </tr>\n",
       "  </tbody>\n",
       "</table>\n",
       "</div>"
      ],
      "text/plain": [
       "   key  lval  rval\n",
       "0  foo     1     4\n",
       "1  foo     1     5\n",
       "2  foo     2     4\n",
       "3  foo     2     5"
      ]
     },
     "execution_count": 86,
     "metadata": {
      "tags": []
     },
     "output_type": "execute_result"
    }
   ],
   "source": [
    "pd.merge(left,right,on=\"key\")"
   ]
  },
  {
   "cell_type": "code",
   "execution_count": null,
   "metadata": {
    "id": "D82HQCU4Xa5E"
   },
   "outputs": [],
   "source": []
  },
  {
   "cell_type": "code",
   "execution_count": null,
   "metadata": {
    "id": "Yj4gpB_QXbJB"
   },
   "outputs": [],
   "source": []
  },
  {
   "cell_type": "code",
   "execution_count": null,
   "metadata": {
    "id": "6S44MO-lXbTJ"
   },
   "outputs": [],
   "source": []
  },
  {
   "cell_type": "code",
   "execution_count": null,
   "metadata": {
    "id": "TqqSb7xuXbb5"
   },
   "outputs": [],
   "source": []
  }
 ],
 "metadata": {
  "colab": {
   "name": "Go Through Concepts.ipynb",
   "provenance": []
  },
  "kernelspec": {
   "display_name": "Python 3",
   "language": "python",
   "name": "python3"
  },
  "language_info": {
   "codemirror_mode": {
    "name": "ipython",
    "version": 3
   },
   "file_extension": ".py",
   "mimetype": "text/x-python",
   "name": "python",
   "nbconvert_exporter": "python",
   "pygments_lexer": "ipython3",
   "version": "3.8.5"
  }
 },
 "nbformat": 4,
 "nbformat_minor": 1
}
