{
 "cells": [
  {
   "cell_type": "code",
   "execution_count": 1831,
   "metadata": {},
   "outputs": [],
   "source": [
    "import pandas as pd\n",
    "import numpy as np\n",
    "import random\n",
    "import calendar"
   ]
  },
  {
   "cell_type": "code",
   "execution_count": 1832,
   "metadata": {},
   "outputs": [],
   "source": [
    "df_sap = pd.read_csv(\"SAP.csv\")\n",
    "df_spy = pd.read_csv(\"SPY.csv\")"
   ]
  },
  {
   "cell_type": "code",
   "execution_count": 1833,
   "metadata": {},
   "outputs": [],
   "source": [
    "df_sap[\"True Label\"] = np.where(df_sap[\"Return\"] >= 0, \"+\",\"-\")\n",
    "df_spy[\"True Label\"] = np.where(df_spy[\"Return\"] >= 0, \"+\",\"-\")"
   ]
  },
  {
   "cell_type": "markdown",
   "metadata": {},
   "source": [
    "## Question 1"
   ]
  },
  {
   "cell_type": "markdown",
   "metadata": {},
   "source": [
    "### 1. for each of the 5 years, compute the mean and standard deviation for the sets R, R- and R+ of daily returns for your stock for each day of the week"
   ]
  },
  {
   "cell_type": "markdown",
   "metadata": {},
   "source": [
    "#### Function calculating R, Mean and Standard Deviation "
   ]
  },
  {
   "cell_type": "code",
   "execution_count": 1835,
   "metadata": {},
   "outputs": [],
   "source": [
    "def calMean(df,day):\n",
    "    df = df\n",
    "    day = day\n",
    "    \n",
    "    df_R = pd.DataFrame([df[df[\"Weekday\"] == day][\"Return\"].agg({\"R\":\"count\",\"Mean R\":\"mean\",\"Std R\":\"std\"})], index=[day]) \n",
    "    \n",
    "    df_Rp = pd.DataFrame([df[(df[\"Weekday\"] == day) & (df[\"Return\"] >= 0)][\"Return\"].agg({\"Rp\":\"count\",\"Mean Rp\":\"mean\",\"Std Rp\":\"std\"})], index=[day]) \n",
    "   \n",
    "    \n",
    "    df_Rn = pd.DataFrame([df[(df[\"Weekday\"] == day) & (df[\"Return\"] < 0)][\"Return\"].agg({\"Rn\":\"count\",\"Mean Rn\":\"mean\",\"Std Rn\":\"std\"})], index=[day]) \n",
    "    \n",
    "    df_con = pd.concat([df_R, df_Rn, df_Rp], axis=1)\n",
    "   \n",
    "    df_con[\"Mean R\"] = round(df_con[\"Mean R\"] * 100,2)\n",
    "    df_con[\"Std R\"] = round(df_con[\"Std R\"] * 100,2)\n",
    "    \n",
    "    \n",
    "    df_con[\"Mean Rp\"] = round(df_con[\"Mean Rp\"] * 100,2)\n",
    "    df_con[\"Std Rp\"] = round(df_con[\"Std Rp\"] * 100,2)\n",
    "    df_con[\"Mean Rn\"] = round(df_con[\"Mean Rn\"] * 100,2)\n",
    "    df_con[\"Std Rn\"] = round(df_con[\"Std Rn\"] * 100,2)\n",
    "    \n",
    "    \n",
    "    df_con[\"Rn vs Rp\"] = np.where(df_con[\"Rn\"] > df_con[\"Rp\"],\"More Negative\", \"More Positive\")\n",
    "    df_con[\"Mean Rn vs Mean Rp\"] = np.where(abs(df_con[\"Mean Rn\"]) > df_con[\"Mean Rp\"],\"Lost more on Negative days\", \"Gained more on Positive days\")\n",
    "    \n",
    "    return df_con"
   ]
  },
  {
   "cell_type": "code",
   "execution_count": 1836,
   "metadata": {},
   "outputs": [],
   "source": [
    "weekdays = [\"Monday\",\"Tuesday\",\"Wednesday\",\"Thursday\",\"Friday\"]"
   ]
  },
  {
   "cell_type": "markdown",
   "metadata": {},
   "source": [
    "### 2. summarize your results in the table as shown below (5 tables total). Page"
   ]
  },
  {
   "cell_type": "markdown",
   "metadata": {},
   "source": [
    "### SAP"
   ]
  },
  {
   "cell_type": "markdown",
   "metadata": {},
   "source": [
    "#### Year - 2016"
   ]
  },
  {
   "cell_type": "code",
   "execution_count": 1837,
   "metadata": {},
   "outputs": [
    {
     "data": {
      "text/html": [
       "<div>\n",
       "<style scoped>\n",
       "    .dataframe tbody tr th:only-of-type {\n",
       "        vertical-align: middle;\n",
       "    }\n",
       "\n",
       "    .dataframe tbody tr th {\n",
       "        vertical-align: top;\n",
       "    }\n",
       "\n",
       "    .dataframe thead th {\n",
       "        text-align: right;\n",
       "    }\n",
       "</style>\n",
       "<table border=\"1\" class=\"dataframe\">\n",
       "  <thead>\n",
       "    <tr style=\"text-align: right;\">\n",
       "      <th></th>\n",
       "      <th>R</th>\n",
       "      <th>Mean R</th>\n",
       "      <th>Std R</th>\n",
       "      <th>Rn</th>\n",
       "      <th>Mean Rn</th>\n",
       "      <th>Std Rn</th>\n",
       "      <th>Rp</th>\n",
       "      <th>Mean Rp</th>\n",
       "      <th>Std Rp</th>\n",
       "      <th>Rn vs Rp</th>\n",
       "      <th>Mean Rn vs Mean Rp</th>\n",
       "    </tr>\n",
       "  </thead>\n",
       "  <tbody>\n",
       "    <tr>\n",
       "      <th>Monday</th>\n",
       "      <td>46.0</td>\n",
       "      <td>0.14</td>\n",
       "      <td>1.06</td>\n",
       "      <td>20.0</td>\n",
       "      <td>-0.78</td>\n",
       "      <td>0.75</td>\n",
       "      <td>26.0</td>\n",
       "      <td>0.85</td>\n",
       "      <td>0.64</td>\n",
       "      <td>More Positive</td>\n",
       "      <td>Gained more on Positive days</td>\n",
       "    </tr>\n",
       "    <tr>\n",
       "      <th>Tuesday</th>\n",
       "      <td>52.0</td>\n",
       "      <td>0.36</td>\n",
       "      <td>1.29</td>\n",
       "      <td>23.0</td>\n",
       "      <td>-0.77</td>\n",
       "      <td>0.72</td>\n",
       "      <td>29.0</td>\n",
       "      <td>1.27</td>\n",
       "      <td>0.86</td>\n",
       "      <td>More Positive</td>\n",
       "      <td>Gained more on Positive days</td>\n",
       "    </tr>\n",
       "    <tr>\n",
       "      <th>Wednesday</th>\n",
       "      <td>52.0</td>\n",
       "      <td>0.17</td>\n",
       "      <td>1.25</td>\n",
       "      <td>27.0</td>\n",
       "      <td>-0.70</td>\n",
       "      <td>0.57</td>\n",
       "      <td>25.0</td>\n",
       "      <td>1.12</td>\n",
       "      <td>1.09</td>\n",
       "      <td>More Negative</td>\n",
       "      <td>Gained more on Positive days</td>\n",
       "    </tr>\n",
       "    <tr>\n",
       "      <th>Thursday</th>\n",
       "      <td>51.0</td>\n",
       "      <td>-0.13</td>\n",
       "      <td>1.15</td>\n",
       "      <td>30.0</td>\n",
       "      <td>-0.83</td>\n",
       "      <td>0.76</td>\n",
       "      <td>21.0</td>\n",
       "      <td>0.87</td>\n",
       "      <td>0.84</td>\n",
       "      <td>More Negative</td>\n",
       "      <td>Gained more on Positive days</td>\n",
       "    </tr>\n",
       "    <tr>\n",
       "      <th>Friday</th>\n",
       "      <td>51.0</td>\n",
       "      <td>-0.24</td>\n",
       "      <td>1.85</td>\n",
       "      <td>25.0</td>\n",
       "      <td>-1.44</td>\n",
       "      <td>1.86</td>\n",
       "      <td>26.0</td>\n",
       "      <td>0.91</td>\n",
       "      <td>0.84</td>\n",
       "      <td>More Positive</td>\n",
       "      <td>Lost more on Negative days</td>\n",
       "    </tr>\n",
       "  </tbody>\n",
       "</table>\n",
       "</div>"
      ],
      "text/plain": [
       "              R  Mean R  Std R    Rn  Mean Rn  Std Rn    Rp  Mean Rp  Std Rp  \\\n",
       "Monday     46.0    0.14   1.06  20.0    -0.78    0.75  26.0     0.85    0.64   \n",
       "Tuesday    52.0    0.36   1.29  23.0    -0.77    0.72  29.0     1.27    0.86   \n",
       "Wednesday  52.0    0.17   1.25  27.0    -0.70    0.57  25.0     1.12    1.09   \n",
       "Thursday   51.0   -0.13   1.15  30.0    -0.83    0.76  21.0     0.87    0.84   \n",
       "Friday     51.0   -0.24   1.85  25.0    -1.44    1.86  26.0     0.91    0.84   \n",
       "\n",
       "                Rn vs Rp            Mean Rn vs Mean Rp  \n",
       "Monday     More Positive  Gained more on Positive days  \n",
       "Tuesday    More Positive  Gained more on Positive days  \n",
       "Wednesday  More Negative  Gained more on Positive days  \n",
       "Thursday   More Negative  Gained more on Positive days  \n",
       "Friday     More Positive    Lost more on Negative days  "
      ]
     },
     "execution_count": 1837,
     "metadata": {},
     "output_type": "execute_result"
    }
   ],
   "source": [
    "df1_sap_2016 = pd.DataFrame()\n",
    "for j in weekdays:\n",
    "    df1_sap_2016 = pd.concat([df1_sap_2016, calMean(df_sap[df_sap[\"Year\"] == 2016],j)])\n",
    "df1_sap_2016"
   ]
  },
  {
   "cell_type": "markdown",
   "metadata": {},
   "source": [
    "#### Year - 2017"
   ]
  },
  {
   "cell_type": "code",
   "execution_count": 1838,
   "metadata": {},
   "outputs": [
    {
     "data": {
      "text/html": [
       "<div>\n",
       "<style scoped>\n",
       "    .dataframe tbody tr th:only-of-type {\n",
       "        vertical-align: middle;\n",
       "    }\n",
       "\n",
       "    .dataframe tbody tr th {\n",
       "        vertical-align: top;\n",
       "    }\n",
       "\n",
       "    .dataframe thead th {\n",
       "        text-align: right;\n",
       "    }\n",
       "</style>\n",
       "<table border=\"1\" class=\"dataframe\">\n",
       "  <thead>\n",
       "    <tr style=\"text-align: right;\">\n",
       "      <th></th>\n",
       "      <th>R</th>\n",
       "      <th>Mean R</th>\n",
       "      <th>Std R</th>\n",
       "      <th>Rn</th>\n",
       "      <th>Mean Rn</th>\n",
       "      <th>Std Rn</th>\n",
       "      <th>Rp</th>\n",
       "      <th>Mean Rp</th>\n",
       "      <th>Std Rp</th>\n",
       "      <th>Rn vs Rp</th>\n",
       "      <th>Mean Rn vs Mean Rp</th>\n",
       "    </tr>\n",
       "  </thead>\n",
       "  <tbody>\n",
       "    <tr>\n",
       "      <th>Monday</th>\n",
       "      <td>46.0</td>\n",
       "      <td>0.12</td>\n",
       "      <td>1.04</td>\n",
       "      <td>23.0</td>\n",
       "      <td>-0.59</td>\n",
       "      <td>0.55</td>\n",
       "      <td>23.0</td>\n",
       "      <td>0.82</td>\n",
       "      <td>0.93</td>\n",
       "      <td>More Positive</td>\n",
       "      <td>Gained more on Positive days</td>\n",
       "    </tr>\n",
       "    <tr>\n",
       "      <th>Tuesday</th>\n",
       "      <td>51.0</td>\n",
       "      <td>0.06</td>\n",
       "      <td>0.60</td>\n",
       "      <td>25.0</td>\n",
       "      <td>-0.44</td>\n",
       "      <td>0.32</td>\n",
       "      <td>26.0</td>\n",
       "      <td>0.54</td>\n",
       "      <td>0.37</td>\n",
       "      <td>More Positive</td>\n",
       "      <td>Gained more on Positive days</td>\n",
       "    </tr>\n",
       "    <tr>\n",
       "      <th>Wednesday</th>\n",
       "      <td>52.0</td>\n",
       "      <td>0.12</td>\n",
       "      <td>0.87</td>\n",
       "      <td>21.0</td>\n",
       "      <td>-0.68</td>\n",
       "      <td>0.63</td>\n",
       "      <td>31.0</td>\n",
       "      <td>0.67</td>\n",
       "      <td>0.50</td>\n",
       "      <td>More Positive</td>\n",
       "      <td>Lost more on Negative days</td>\n",
       "    </tr>\n",
       "    <tr>\n",
       "      <th>Thursday</th>\n",
       "      <td>51.0</td>\n",
       "      <td>0.02</td>\n",
       "      <td>0.91</td>\n",
       "      <td>23.0</td>\n",
       "      <td>-0.73</td>\n",
       "      <td>0.70</td>\n",
       "      <td>28.0</td>\n",
       "      <td>0.64</td>\n",
       "      <td>0.51</td>\n",
       "      <td>More Positive</td>\n",
       "      <td>Lost more on Negative days</td>\n",
       "    </tr>\n",
       "    <tr>\n",
       "      <th>Friday</th>\n",
       "      <td>51.0</td>\n",
       "      <td>0.24</td>\n",
       "      <td>0.74</td>\n",
       "      <td>14.0</td>\n",
       "      <td>-0.62</td>\n",
       "      <td>0.52</td>\n",
       "      <td>37.0</td>\n",
       "      <td>0.57</td>\n",
       "      <td>0.50</td>\n",
       "      <td>More Positive</td>\n",
       "      <td>Lost more on Negative days</td>\n",
       "    </tr>\n",
       "  </tbody>\n",
       "</table>\n",
       "</div>"
      ],
      "text/plain": [
       "              R  Mean R  Std R    Rn  Mean Rn  Std Rn    Rp  Mean Rp  Std Rp  \\\n",
       "Monday     46.0    0.12   1.04  23.0    -0.59    0.55  23.0     0.82    0.93   \n",
       "Tuesday    51.0    0.06   0.60  25.0    -0.44    0.32  26.0     0.54    0.37   \n",
       "Wednesday  52.0    0.12   0.87  21.0    -0.68    0.63  31.0     0.67    0.50   \n",
       "Thursday   51.0    0.02   0.91  23.0    -0.73    0.70  28.0     0.64    0.51   \n",
       "Friday     51.0    0.24   0.74  14.0    -0.62    0.52  37.0     0.57    0.50   \n",
       "\n",
       "                Rn vs Rp            Mean Rn vs Mean Rp  \n",
       "Monday     More Positive  Gained more on Positive days  \n",
       "Tuesday    More Positive  Gained more on Positive days  \n",
       "Wednesday  More Positive    Lost more on Negative days  \n",
       "Thursday   More Positive    Lost more on Negative days  \n",
       "Friday     More Positive    Lost more on Negative days  "
      ]
     },
     "execution_count": 1838,
     "metadata": {},
     "output_type": "execute_result"
    }
   ],
   "source": [
    "df1_sap_2017 = pd.DataFrame()\n",
    "for j in weekdays:\n",
    "    df1_sap_2017 = pd.concat([df1_sap_2017, calMean(df_sap[df_sap[\"Year\"] == 2017],j)])\n",
    "df1_sap_2017"
   ]
  },
  {
   "cell_type": "markdown",
   "metadata": {},
   "source": [
    "#### Year - 2018"
   ]
  },
  {
   "cell_type": "code",
   "execution_count": 1839,
   "metadata": {},
   "outputs": [
    {
     "data": {
      "text/html": [
       "<div>\n",
       "<style scoped>\n",
       "    .dataframe tbody tr th:only-of-type {\n",
       "        vertical-align: middle;\n",
       "    }\n",
       "\n",
       "    .dataframe tbody tr th {\n",
       "        vertical-align: top;\n",
       "    }\n",
       "\n",
       "    .dataframe thead th {\n",
       "        text-align: right;\n",
       "    }\n",
       "</style>\n",
       "<table border=\"1\" class=\"dataframe\">\n",
       "  <thead>\n",
       "    <tr style=\"text-align: right;\">\n",
       "      <th></th>\n",
       "      <th>R</th>\n",
       "      <th>Mean R</th>\n",
       "      <th>Std R</th>\n",
       "      <th>Rn</th>\n",
       "      <th>Mean Rn</th>\n",
       "      <th>Std Rn</th>\n",
       "      <th>Rp</th>\n",
       "      <th>Mean Rp</th>\n",
       "      <th>Std Rp</th>\n",
       "      <th>Rn vs Rp</th>\n",
       "      <th>Mean Rn vs Mean Rp</th>\n",
       "    </tr>\n",
       "  </thead>\n",
       "  <tbody>\n",
       "    <tr>\n",
       "      <th>Monday</th>\n",
       "      <td>48.0</td>\n",
       "      <td>-0.24</td>\n",
       "      <td>1.56</td>\n",
       "      <td>27.0</td>\n",
       "      <td>-1.24</td>\n",
       "      <td>1.31</td>\n",
       "      <td>21.0</td>\n",
       "      <td>1.04</td>\n",
       "      <td>0.63</td>\n",
       "      <td>More Negative</td>\n",
       "      <td>Lost more on Negative days</td>\n",
       "    </tr>\n",
       "    <tr>\n",
       "      <th>Tuesday</th>\n",
       "      <td>51.0</td>\n",
       "      <td>0.07</td>\n",
       "      <td>1.40</td>\n",
       "      <td>23.0</td>\n",
       "      <td>-1.10</td>\n",
       "      <td>0.75</td>\n",
       "      <td>28.0</td>\n",
       "      <td>1.02</td>\n",
       "      <td>1.02</td>\n",
       "      <td>More Positive</td>\n",
       "      <td>Lost more on Negative days</td>\n",
       "    </tr>\n",
       "    <tr>\n",
       "      <th>Wednesday</th>\n",
       "      <td>50.0</td>\n",
       "      <td>0.24</td>\n",
       "      <td>1.65</td>\n",
       "      <td>15.0</td>\n",
       "      <td>-1.55</td>\n",
       "      <td>1.53</td>\n",
       "      <td>35.0</td>\n",
       "      <td>1.01</td>\n",
       "      <td>0.96</td>\n",
       "      <td>More Positive</td>\n",
       "      <td>Lost more on Negative days</td>\n",
       "    </tr>\n",
       "    <tr>\n",
       "      <th>Thursday</th>\n",
       "      <td>51.0</td>\n",
       "      <td>-0.20</td>\n",
       "      <td>1.69</td>\n",
       "      <td>23.0</td>\n",
       "      <td>-1.47</td>\n",
       "      <td>1.68</td>\n",
       "      <td>28.0</td>\n",
       "      <td>0.84</td>\n",
       "      <td>0.71</td>\n",
       "      <td>More Positive</td>\n",
       "      <td>Lost more on Negative days</td>\n",
       "    </tr>\n",
       "    <tr>\n",
       "      <th>Friday</th>\n",
       "      <td>51.0</td>\n",
       "      <td>-0.02</td>\n",
       "      <td>1.27</td>\n",
       "      <td>22.0</td>\n",
       "      <td>-1.18</td>\n",
       "      <td>0.97</td>\n",
       "      <td>29.0</td>\n",
       "      <td>0.86</td>\n",
       "      <td>0.56</td>\n",
       "      <td>More Positive</td>\n",
       "      <td>Lost more on Negative days</td>\n",
       "    </tr>\n",
       "  </tbody>\n",
       "</table>\n",
       "</div>"
      ],
      "text/plain": [
       "              R  Mean R  Std R    Rn  Mean Rn  Std Rn    Rp  Mean Rp  Std Rp  \\\n",
       "Monday     48.0   -0.24   1.56  27.0    -1.24    1.31  21.0     1.04    0.63   \n",
       "Tuesday    51.0    0.07   1.40  23.0    -1.10    0.75  28.0     1.02    1.02   \n",
       "Wednesday  50.0    0.24   1.65  15.0    -1.55    1.53  35.0     1.01    0.96   \n",
       "Thursday   51.0   -0.20   1.69  23.0    -1.47    1.68  28.0     0.84    0.71   \n",
       "Friday     51.0   -0.02   1.27  22.0    -1.18    0.97  29.0     0.86    0.56   \n",
       "\n",
       "                Rn vs Rp          Mean Rn vs Mean Rp  \n",
       "Monday     More Negative  Lost more on Negative days  \n",
       "Tuesday    More Positive  Lost more on Negative days  \n",
       "Wednesday  More Positive  Lost more on Negative days  \n",
       "Thursday   More Positive  Lost more on Negative days  \n",
       "Friday     More Positive  Lost more on Negative days  "
      ]
     },
     "execution_count": 1839,
     "metadata": {},
     "output_type": "execute_result"
    }
   ],
   "source": [
    "df1_sap_2018 = pd.DataFrame()\n",
    "for j in weekdays:\n",
    "    df1_sap_2018 = pd.concat([df1_sap_2018, calMean(df_sap[df_sap[\"Year\"] == 2018],j)])\n",
    "df1_sap_2018"
   ]
  },
  {
   "cell_type": "markdown",
   "metadata": {},
   "source": [
    "#### Year - 2019"
   ]
  },
  {
   "cell_type": "code",
   "execution_count": 1840,
   "metadata": {},
   "outputs": [
    {
     "data": {
      "text/html": [
       "<div>\n",
       "<style scoped>\n",
       "    .dataframe tbody tr th:only-of-type {\n",
       "        vertical-align: middle;\n",
       "    }\n",
       "\n",
       "    .dataframe tbody tr th {\n",
       "        vertical-align: top;\n",
       "    }\n",
       "\n",
       "    .dataframe thead th {\n",
       "        text-align: right;\n",
       "    }\n",
       "</style>\n",
       "<table border=\"1\" class=\"dataframe\">\n",
       "  <thead>\n",
       "    <tr style=\"text-align: right;\">\n",
       "      <th></th>\n",
       "      <th>R</th>\n",
       "      <th>Mean R</th>\n",
       "      <th>Std R</th>\n",
       "      <th>Rn</th>\n",
       "      <th>Mean Rn</th>\n",
       "      <th>Std Rn</th>\n",
       "      <th>Rp</th>\n",
       "      <th>Mean Rp</th>\n",
       "      <th>Std Rp</th>\n",
       "      <th>Rn vs Rp</th>\n",
       "      <th>Mean Rn vs Mean Rp</th>\n",
       "    </tr>\n",
       "  </thead>\n",
       "  <tbody>\n",
       "    <tr>\n",
       "      <th>Monday</th>\n",
       "      <td>48.0</td>\n",
       "      <td>-0.06</td>\n",
       "      <td>0.93</td>\n",
       "      <td>24.0</td>\n",
       "      <td>-0.76</td>\n",
       "      <td>0.66</td>\n",
       "      <td>24.0</td>\n",
       "      <td>0.63</td>\n",
       "      <td>0.56</td>\n",
       "      <td>More Positive</td>\n",
       "      <td>Lost more on Negative days</td>\n",
       "    </tr>\n",
       "    <tr>\n",
       "      <th>Tuesday</th>\n",
       "      <td>52.0</td>\n",
       "      <td>-0.16</td>\n",
       "      <td>1.55</td>\n",
       "      <td>29.0</td>\n",
       "      <td>-1.22</td>\n",
       "      <td>1.17</td>\n",
       "      <td>23.0</td>\n",
       "      <td>1.17</td>\n",
       "      <td>0.71</td>\n",
       "      <td>More Negative</td>\n",
       "      <td>Lost more on Negative days</td>\n",
       "    </tr>\n",
       "    <tr>\n",
       "      <th>Wednesday</th>\n",
       "      <td>51.0</td>\n",
       "      <td>0.45</td>\n",
       "      <td>2.09</td>\n",
       "      <td>22.0</td>\n",
       "      <td>-0.81</td>\n",
       "      <td>0.85</td>\n",
       "      <td>29.0</td>\n",
       "      <td>1.41</td>\n",
       "      <td>2.25</td>\n",
       "      <td>More Positive</td>\n",
       "      <td>Gained more on Positive days</td>\n",
       "    </tr>\n",
       "    <tr>\n",
       "      <th>Thursday</th>\n",
       "      <td>50.0</td>\n",
       "      <td>0.06</td>\n",
       "      <td>1.37</td>\n",
       "      <td>18.0</td>\n",
       "      <td>-1.15</td>\n",
       "      <td>1.36</td>\n",
       "      <td>32.0</td>\n",
       "      <td>0.75</td>\n",
       "      <td>0.78</td>\n",
       "      <td>More Positive</td>\n",
       "      <td>Lost more on Negative days</td>\n",
       "    </tr>\n",
       "    <tr>\n",
       "      <th>Friday</th>\n",
       "      <td>51.0</td>\n",
       "      <td>0.38</td>\n",
       "      <td>1.83</td>\n",
       "      <td>21.0</td>\n",
       "      <td>-1.05</td>\n",
       "      <td>0.68</td>\n",
       "      <td>30.0</td>\n",
       "      <td>1.38</td>\n",
       "      <td>1.72</td>\n",
       "      <td>More Positive</td>\n",
       "      <td>Gained more on Positive days</td>\n",
       "    </tr>\n",
       "  </tbody>\n",
       "</table>\n",
       "</div>"
      ],
      "text/plain": [
       "              R  Mean R  Std R    Rn  Mean Rn  Std Rn    Rp  Mean Rp  Std Rp  \\\n",
       "Monday     48.0   -0.06   0.93  24.0    -0.76    0.66  24.0     0.63    0.56   \n",
       "Tuesday    52.0   -0.16   1.55  29.0    -1.22    1.17  23.0     1.17    0.71   \n",
       "Wednesday  51.0    0.45   2.09  22.0    -0.81    0.85  29.0     1.41    2.25   \n",
       "Thursday   50.0    0.06   1.37  18.0    -1.15    1.36  32.0     0.75    0.78   \n",
       "Friday     51.0    0.38   1.83  21.0    -1.05    0.68  30.0     1.38    1.72   \n",
       "\n",
       "                Rn vs Rp            Mean Rn vs Mean Rp  \n",
       "Monday     More Positive    Lost more on Negative days  \n",
       "Tuesday    More Negative    Lost more on Negative days  \n",
       "Wednesday  More Positive  Gained more on Positive days  \n",
       "Thursday   More Positive    Lost more on Negative days  \n",
       "Friday     More Positive  Gained more on Positive days  "
      ]
     },
     "execution_count": 1840,
     "metadata": {},
     "output_type": "execute_result"
    }
   ],
   "source": [
    "df1_sap_2019 = pd.DataFrame()\n",
    "for j in weekdays:\n",
    "    df1_sap_2019 = pd.concat([df1_sap_2019, calMean(df_sap[df_sap[\"Year\"] == 2019],j)])\n",
    "df1_sap_2019"
   ]
  },
  {
   "cell_type": "markdown",
   "metadata": {},
   "source": [
    "#### Year - 2020"
   ]
  },
  {
   "cell_type": "code",
   "execution_count": 1841,
   "metadata": {
    "scrolled": true
   },
   "outputs": [
    {
     "data": {
      "text/html": [
       "<div>\n",
       "<style scoped>\n",
       "    .dataframe tbody tr th:only-of-type {\n",
       "        vertical-align: middle;\n",
       "    }\n",
       "\n",
       "    .dataframe tbody tr th {\n",
       "        vertical-align: top;\n",
       "    }\n",
       "\n",
       "    .dataframe thead th {\n",
       "        text-align: right;\n",
       "    }\n",
       "</style>\n",
       "<table border=\"1\" class=\"dataframe\">\n",
       "  <thead>\n",
       "    <tr style=\"text-align: right;\">\n",
       "      <th></th>\n",
       "      <th>R</th>\n",
       "      <th>Mean R</th>\n",
       "      <th>Std R</th>\n",
       "      <th>Rn</th>\n",
       "      <th>Mean Rn</th>\n",
       "      <th>Std Rn</th>\n",
       "      <th>Rp</th>\n",
       "      <th>Mean Rp</th>\n",
       "      <th>Std Rp</th>\n",
       "      <th>Rn vs Rp</th>\n",
       "      <th>Mean Rn vs Mean Rp</th>\n",
       "    </tr>\n",
       "  </thead>\n",
       "  <tbody>\n",
       "    <tr>\n",
       "      <th>Monday</th>\n",
       "      <td>48.0</td>\n",
       "      <td>-0.15</td>\n",
       "      <td>4.42</td>\n",
       "      <td>16.0</td>\n",
       "      <td>-3.88</td>\n",
       "      <td>5.81</td>\n",
       "      <td>32.0</td>\n",
       "      <td>1.72</td>\n",
       "      <td>1.58</td>\n",
       "      <td>More Positive</td>\n",
       "      <td>Lost more on Negative days</td>\n",
       "    </tr>\n",
       "    <tr>\n",
       "      <th>Tuesday</th>\n",
       "      <td>52.0</td>\n",
       "      <td>0.27</td>\n",
       "      <td>2.32</td>\n",
       "      <td>26.0</td>\n",
       "      <td>-1.36</td>\n",
       "      <td>1.23</td>\n",
       "      <td>26.0</td>\n",
       "      <td>1.89</td>\n",
       "      <td>2.00</td>\n",
       "      <td>More Positive</td>\n",
       "      <td>Gained more on Positive days</td>\n",
       "    </tr>\n",
       "    <tr>\n",
       "      <th>Wednesday</th>\n",
       "      <td>52.0</td>\n",
       "      <td>0.14</td>\n",
       "      <td>2.27</td>\n",
       "      <td>19.0</td>\n",
       "      <td>-2.16</td>\n",
       "      <td>1.98</td>\n",
       "      <td>33.0</td>\n",
       "      <td>1.47</td>\n",
       "      <td>1.03</td>\n",
       "      <td>More Positive</td>\n",
       "      <td>Lost more on Negative days</td>\n",
       "    </tr>\n",
       "    <tr>\n",
       "      <th>Thursday</th>\n",
       "      <td>52.0</td>\n",
       "      <td>-0.21</td>\n",
       "      <td>2.65</td>\n",
       "      <td>27.0</td>\n",
       "      <td>-1.92</td>\n",
       "      <td>2.03</td>\n",
       "      <td>25.0</td>\n",
       "      <td>1.64</td>\n",
       "      <td>1.90</td>\n",
       "      <td>More Negative</td>\n",
       "      <td>Lost more on Negative days</td>\n",
       "    </tr>\n",
       "    <tr>\n",
       "      <th>Friday</th>\n",
       "      <td>49.0</td>\n",
       "      <td>0.11</td>\n",
       "      <td>1.74</td>\n",
       "      <td>25.0</td>\n",
       "      <td>-1.10</td>\n",
       "      <td>0.91</td>\n",
       "      <td>24.0</td>\n",
       "      <td>1.37</td>\n",
       "      <td>1.50</td>\n",
       "      <td>More Negative</td>\n",
       "      <td>Gained more on Positive days</td>\n",
       "    </tr>\n",
       "  </tbody>\n",
       "</table>\n",
       "</div>"
      ],
      "text/plain": [
       "              R  Mean R  Std R    Rn  Mean Rn  Std Rn    Rp  Mean Rp  Std Rp  \\\n",
       "Monday     48.0   -0.15   4.42  16.0    -3.88    5.81  32.0     1.72    1.58   \n",
       "Tuesday    52.0    0.27   2.32  26.0    -1.36    1.23  26.0     1.89    2.00   \n",
       "Wednesday  52.0    0.14   2.27  19.0    -2.16    1.98  33.0     1.47    1.03   \n",
       "Thursday   52.0   -0.21   2.65  27.0    -1.92    2.03  25.0     1.64    1.90   \n",
       "Friday     49.0    0.11   1.74  25.0    -1.10    0.91  24.0     1.37    1.50   \n",
       "\n",
       "                Rn vs Rp            Mean Rn vs Mean Rp  \n",
       "Monday     More Positive    Lost more on Negative days  \n",
       "Tuesday    More Positive  Gained more on Positive days  \n",
       "Wednesday  More Positive    Lost more on Negative days  \n",
       "Thursday   More Negative    Lost more on Negative days  \n",
       "Friday     More Negative  Gained more on Positive days  "
      ]
     },
     "execution_count": 1841,
     "metadata": {},
     "output_type": "execute_result"
    }
   ],
   "source": [
    "df1_sap_2020 = pd.DataFrame()\n",
    "for j in weekdays:\n",
    "    df1_sap_2020 = pd.concat([df1_sap_2020, calMean(df_sap[df_sap[\"Year\"] == 2020],j)])\n",
    "df1_sap_2020"
   ]
  },
  {
   "cell_type": "markdown",
   "metadata": {},
   "source": [
    "### SPY"
   ]
  },
  {
   "cell_type": "markdown",
   "metadata": {},
   "source": [
    "#### Year - 2016"
   ]
  },
  {
   "cell_type": "code",
   "execution_count": 1842,
   "metadata": {},
   "outputs": [
    {
     "data": {
      "text/html": [
       "<div>\n",
       "<style scoped>\n",
       "    .dataframe tbody tr th:only-of-type {\n",
       "        vertical-align: middle;\n",
       "    }\n",
       "\n",
       "    .dataframe tbody tr th {\n",
       "        vertical-align: top;\n",
       "    }\n",
       "\n",
       "    .dataframe thead th {\n",
       "        text-align: right;\n",
       "    }\n",
       "</style>\n",
       "<table border=\"1\" class=\"dataframe\">\n",
       "  <thead>\n",
       "    <tr style=\"text-align: right;\">\n",
       "      <th></th>\n",
       "      <th>R</th>\n",
       "      <th>Mean R</th>\n",
       "      <th>Std R</th>\n",
       "      <th>Rn</th>\n",
       "      <th>Mean Rn</th>\n",
       "      <th>Std Rn</th>\n",
       "      <th>Rp</th>\n",
       "      <th>Mean Rp</th>\n",
       "      <th>Std Rp</th>\n",
       "      <th>Rn vs Rp</th>\n",
       "      <th>Mean Rn vs Mean Rp</th>\n",
       "    </tr>\n",
       "  </thead>\n",
       "  <tbody>\n",
       "    <tr>\n",
       "      <th>Monday</th>\n",
       "      <td>46.0</td>\n",
       "      <td>0.08</td>\n",
       "      <td>0.72</td>\n",
       "      <td>20.0</td>\n",
       "      <td>-0.48</td>\n",
       "      <td>0.53</td>\n",
       "      <td>26.0</td>\n",
       "      <td>0.51</td>\n",
       "      <td>0.53</td>\n",
       "      <td>More Positive</td>\n",
       "      <td>Gained more on Positive days</td>\n",
       "    </tr>\n",
       "    <tr>\n",
       "      <th>Tuesday</th>\n",
       "      <td>52.0</td>\n",
       "      <td>0.11</td>\n",
       "      <td>0.85</td>\n",
       "      <td>20.0</td>\n",
       "      <td>-0.70</td>\n",
       "      <td>0.50</td>\n",
       "      <td>32.0</td>\n",
       "      <td>0.61</td>\n",
       "      <td>0.59</td>\n",
       "      <td>More Positive</td>\n",
       "      <td>Lost more on Negative days</td>\n",
       "    </tr>\n",
       "    <tr>\n",
       "      <th>Wednesday</th>\n",
       "      <td>52.0</td>\n",
       "      <td>0.06</td>\n",
       "      <td>0.76</td>\n",
       "      <td>24.0</td>\n",
       "      <td>-0.54</td>\n",
       "      <td>0.57</td>\n",
       "      <td>28.0</td>\n",
       "      <td>0.58</td>\n",
       "      <td>0.46</td>\n",
       "      <td>More Positive</td>\n",
       "      <td>Gained more on Positive days</td>\n",
       "    </tr>\n",
       "    <tr>\n",
       "      <th>Thursday</th>\n",
       "      <td>51.0</td>\n",
       "      <td>0.04</td>\n",
       "      <td>0.69</td>\n",
       "      <td>23.0</td>\n",
       "      <td>-0.48</td>\n",
       "      <td>0.55</td>\n",
       "      <td>28.0</td>\n",
       "      <td>0.47</td>\n",
       "      <td>0.45</td>\n",
       "      <td>More Positive</td>\n",
       "      <td>Lost more on Negative days</td>\n",
       "    </tr>\n",
       "    <tr>\n",
       "      <th>Friday</th>\n",
       "      <td>51.0</td>\n",
       "      <td>-0.02</td>\n",
       "      <td>1.04</td>\n",
       "      <td>26.0</td>\n",
       "      <td>-0.68</td>\n",
       "      <td>0.87</td>\n",
       "      <td>25.0</td>\n",
       "      <td>0.67</td>\n",
       "      <td>0.70</td>\n",
       "      <td>More Negative</td>\n",
       "      <td>Lost more on Negative days</td>\n",
       "    </tr>\n",
       "  </tbody>\n",
       "</table>\n",
       "</div>"
      ],
      "text/plain": [
       "              R  Mean R  Std R    Rn  Mean Rn  Std Rn    Rp  Mean Rp  Std Rp  \\\n",
       "Monday     46.0    0.08   0.72  20.0    -0.48    0.53  26.0     0.51    0.53   \n",
       "Tuesday    52.0    0.11   0.85  20.0    -0.70    0.50  32.0     0.61    0.59   \n",
       "Wednesday  52.0    0.06   0.76  24.0    -0.54    0.57  28.0     0.58    0.46   \n",
       "Thursday   51.0    0.04   0.69  23.0    -0.48    0.55  28.0     0.47    0.45   \n",
       "Friday     51.0   -0.02   1.04  26.0    -0.68    0.87  25.0     0.67    0.70   \n",
       "\n",
       "                Rn vs Rp            Mean Rn vs Mean Rp  \n",
       "Monday     More Positive  Gained more on Positive days  \n",
       "Tuesday    More Positive    Lost more on Negative days  \n",
       "Wednesday  More Positive  Gained more on Positive days  \n",
       "Thursday   More Positive    Lost more on Negative days  \n",
       "Friday     More Negative    Lost more on Negative days  "
      ]
     },
     "execution_count": 1842,
     "metadata": {},
     "output_type": "execute_result"
    }
   ],
   "source": [
    "df1_spy_2016 = pd.DataFrame()\n",
    "for j in weekdays:\n",
    "    df1_spy_2016 = pd.concat([df1_spy_2016, calMean(df_spy[df_spy[\"Year\"] == 2016],j)])\n",
    "df1_spy_2016"
   ]
  },
  {
   "cell_type": "markdown",
   "metadata": {},
   "source": [
    "#### Year - 2017"
   ]
  },
  {
   "cell_type": "code",
   "execution_count": 1843,
   "metadata": {},
   "outputs": [
    {
     "data": {
      "text/html": [
       "<div>\n",
       "<style scoped>\n",
       "    .dataframe tbody tr th:only-of-type {\n",
       "        vertical-align: middle;\n",
       "    }\n",
       "\n",
       "    .dataframe tbody tr th {\n",
       "        vertical-align: top;\n",
       "    }\n",
       "\n",
       "    .dataframe thead th {\n",
       "        text-align: right;\n",
       "    }\n",
       "</style>\n",
       "<table border=\"1\" class=\"dataframe\">\n",
       "  <thead>\n",
       "    <tr style=\"text-align: right;\">\n",
       "      <th></th>\n",
       "      <th>R</th>\n",
       "      <th>Mean R</th>\n",
       "      <th>Std R</th>\n",
       "      <th>Rn</th>\n",
       "      <th>Mean Rn</th>\n",
       "      <th>Std Rn</th>\n",
       "      <th>Rp</th>\n",
       "      <th>Mean Rp</th>\n",
       "      <th>Std Rp</th>\n",
       "      <th>Rn vs Rp</th>\n",
       "      <th>Mean Rn vs Mean Rp</th>\n",
       "    </tr>\n",
       "  </thead>\n",
       "  <tbody>\n",
       "    <tr>\n",
       "      <th>Monday</th>\n",
       "      <td>46.0</td>\n",
       "      <td>0.13</td>\n",
       "      <td>0.39</td>\n",
       "      <td>20.0</td>\n",
       "      <td>-0.18</td>\n",
       "      <td>0.16</td>\n",
       "      <td>26.0</td>\n",
       "      <td>0.37</td>\n",
       "      <td>0.35</td>\n",
       "      <td>More Positive</td>\n",
       "      <td>Gained more on Positive days</td>\n",
       "    </tr>\n",
       "    <tr>\n",
       "      <th>Tuesday</th>\n",
       "      <td>51.0</td>\n",
       "      <td>0.04</td>\n",
       "      <td>0.45</td>\n",
       "      <td>23.0</td>\n",
       "      <td>-0.32</td>\n",
       "      <td>0.30</td>\n",
       "      <td>28.0</td>\n",
       "      <td>0.34</td>\n",
       "      <td>0.30</td>\n",
       "      <td>More Positive</td>\n",
       "      <td>Gained more on Positive days</td>\n",
       "    </tr>\n",
       "    <tr>\n",
       "      <th>Wednesday</th>\n",
       "      <td>52.0</td>\n",
       "      <td>0.11</td>\n",
       "      <td>0.45</td>\n",
       "      <td>19.0</td>\n",
       "      <td>-0.26</td>\n",
       "      <td>0.40</td>\n",
       "      <td>33.0</td>\n",
       "      <td>0.32</td>\n",
       "      <td>0.33</td>\n",
       "      <td>More Positive</td>\n",
       "      <td>Gained more on Positive days</td>\n",
       "    </tr>\n",
       "    <tr>\n",
       "      <th>Thursday</th>\n",
       "      <td>51.0</td>\n",
       "      <td>-0.02</td>\n",
       "      <td>0.50</td>\n",
       "      <td>25.0</td>\n",
       "      <td>-0.38</td>\n",
       "      <td>0.42</td>\n",
       "      <td>26.0</td>\n",
       "      <td>0.32</td>\n",
       "      <td>0.28</td>\n",
       "      <td>More Positive</td>\n",
       "      <td>Lost more on Negative days</td>\n",
       "    </tr>\n",
       "    <tr>\n",
       "      <th>Friday</th>\n",
       "      <td>51.0</td>\n",
       "      <td>0.14</td>\n",
       "      <td>0.30</td>\n",
       "      <td>20.0</td>\n",
       "      <td>-0.16</td>\n",
       "      <td>0.10</td>\n",
       "      <td>31.0</td>\n",
       "      <td>0.33</td>\n",
       "      <td>0.23</td>\n",
       "      <td>More Positive</td>\n",
       "      <td>Gained more on Positive days</td>\n",
       "    </tr>\n",
       "  </tbody>\n",
       "</table>\n",
       "</div>"
      ],
      "text/plain": [
       "              R  Mean R  Std R    Rn  Mean Rn  Std Rn    Rp  Mean Rp  Std Rp  \\\n",
       "Monday     46.0    0.13   0.39  20.0    -0.18    0.16  26.0     0.37    0.35   \n",
       "Tuesday    51.0    0.04   0.45  23.0    -0.32    0.30  28.0     0.34    0.30   \n",
       "Wednesday  52.0    0.11   0.45  19.0    -0.26    0.40  33.0     0.32    0.33   \n",
       "Thursday   51.0   -0.02   0.50  25.0    -0.38    0.42  26.0     0.32    0.28   \n",
       "Friday     51.0    0.14   0.30  20.0    -0.16    0.10  31.0     0.33    0.23   \n",
       "\n",
       "                Rn vs Rp            Mean Rn vs Mean Rp  \n",
       "Monday     More Positive  Gained more on Positive days  \n",
       "Tuesday    More Positive  Gained more on Positive days  \n",
       "Wednesday  More Positive  Gained more on Positive days  \n",
       "Thursday   More Positive    Lost more on Negative days  \n",
       "Friday     More Positive  Gained more on Positive days  "
      ]
     },
     "execution_count": 1843,
     "metadata": {},
     "output_type": "execute_result"
    }
   ],
   "source": [
    "df1_spy_2017 = pd.DataFrame()\n",
    "for j in weekdays:\n",
    "    df1_spy_2017 = pd.concat([df1_spy_2017, calMean(df_spy[df_spy[\"Year\"] == 2017],j)])\n",
    "df1_spy_2017"
   ]
  },
  {
   "cell_type": "markdown",
   "metadata": {},
   "source": [
    "#### Year - 2018"
   ]
  },
  {
   "cell_type": "code",
   "execution_count": 1844,
   "metadata": {},
   "outputs": [
    {
     "data": {
      "text/html": [
       "<div>\n",
       "<style scoped>\n",
       "    .dataframe tbody tr th:only-of-type {\n",
       "        vertical-align: middle;\n",
       "    }\n",
       "\n",
       "    .dataframe tbody tr th {\n",
       "        vertical-align: top;\n",
       "    }\n",
       "\n",
       "    .dataframe thead th {\n",
       "        text-align: right;\n",
       "    }\n",
       "</style>\n",
       "<table border=\"1\" class=\"dataframe\">\n",
       "  <thead>\n",
       "    <tr style=\"text-align: right;\">\n",
       "      <th></th>\n",
       "      <th>R</th>\n",
       "      <th>Mean R</th>\n",
       "      <th>Std R</th>\n",
       "      <th>Rn</th>\n",
       "      <th>Mean Rn</th>\n",
       "      <th>Std Rn</th>\n",
       "      <th>Rp</th>\n",
       "      <th>Mean Rp</th>\n",
       "      <th>Std Rp</th>\n",
       "      <th>Rn vs Rp</th>\n",
       "      <th>Mean Rn vs Mean Rp</th>\n",
       "    </tr>\n",
       "  </thead>\n",
       "  <tbody>\n",
       "    <tr>\n",
       "      <th>Monday</th>\n",
       "      <td>48.0</td>\n",
       "      <td>-0.09</td>\n",
       "      <td>1.20</td>\n",
       "      <td>21.0</td>\n",
       "      <td>-1.07</td>\n",
       "      <td>1.04</td>\n",
       "      <td>27.0</td>\n",
       "      <td>0.68</td>\n",
       "      <td>0.61</td>\n",
       "      <td>More Positive</td>\n",
       "      <td>Lost more on Negative days</td>\n",
       "    </tr>\n",
       "    <tr>\n",
       "      <th>Tuesday</th>\n",
       "      <td>51.0</td>\n",
       "      <td>0.01</td>\n",
       "      <td>0.94</td>\n",
       "      <td>21.0</td>\n",
       "      <td>-0.77</td>\n",
       "      <td>0.78</td>\n",
       "      <td>30.0</td>\n",
       "      <td>0.56</td>\n",
       "      <td>0.58</td>\n",
       "      <td>More Positive</td>\n",
       "      <td>Lost more on Negative days</td>\n",
       "    </tr>\n",
       "    <tr>\n",
       "      <th>Wednesday</th>\n",
       "      <td>50.0</td>\n",
       "      <td>0.11</td>\n",
       "      <td>1.21</td>\n",
       "      <td>24.0</td>\n",
       "      <td>-0.68</td>\n",
       "      <td>0.82</td>\n",
       "      <td>26.0</td>\n",
       "      <td>0.83</td>\n",
       "      <td>1.06</td>\n",
       "      <td>More Positive</td>\n",
       "      <td>Gained more on Positive days</td>\n",
       "    </tr>\n",
       "    <tr>\n",
       "      <th>Thursday</th>\n",
       "      <td>51.0</td>\n",
       "      <td>-0.01</td>\n",
       "      <td>1.02</td>\n",
       "      <td>27.0</td>\n",
       "      <td>-0.69</td>\n",
       "      <td>0.91</td>\n",
       "      <td>24.0</td>\n",
       "      <td>0.76</td>\n",
       "      <td>0.40</td>\n",
       "      <td>More Negative</td>\n",
       "      <td>Gained more on Positive days</td>\n",
       "    </tr>\n",
       "    <tr>\n",
       "      <th>Friday</th>\n",
       "      <td>51.0</td>\n",
       "      <td>-0.09</td>\n",
       "      <td>1.01</td>\n",
       "      <td>23.0</td>\n",
       "      <td>-0.91</td>\n",
       "      <td>0.83</td>\n",
       "      <td>28.0</td>\n",
       "      <td>0.58</td>\n",
       "      <td>0.53</td>\n",
       "      <td>More Positive</td>\n",
       "      <td>Lost more on Negative days</td>\n",
       "    </tr>\n",
       "  </tbody>\n",
       "</table>\n",
       "</div>"
      ],
      "text/plain": [
       "              R  Mean R  Std R    Rn  Mean Rn  Std Rn    Rp  Mean Rp  Std Rp  \\\n",
       "Monday     48.0   -0.09   1.20  21.0    -1.07    1.04  27.0     0.68    0.61   \n",
       "Tuesday    51.0    0.01   0.94  21.0    -0.77    0.78  30.0     0.56    0.58   \n",
       "Wednesday  50.0    0.11   1.21  24.0    -0.68    0.82  26.0     0.83    1.06   \n",
       "Thursday   51.0   -0.01   1.02  27.0    -0.69    0.91  24.0     0.76    0.40   \n",
       "Friday     51.0   -0.09   1.01  23.0    -0.91    0.83  28.0     0.58    0.53   \n",
       "\n",
       "                Rn vs Rp            Mean Rn vs Mean Rp  \n",
       "Monday     More Positive    Lost more on Negative days  \n",
       "Tuesday    More Positive    Lost more on Negative days  \n",
       "Wednesday  More Positive  Gained more on Positive days  \n",
       "Thursday   More Negative  Gained more on Positive days  \n",
       "Friday     More Positive    Lost more on Negative days  "
      ]
     },
     "execution_count": 1844,
     "metadata": {},
     "output_type": "execute_result"
    }
   ],
   "source": [
    "df1_spy_2018 = pd.DataFrame()\n",
    "for j in weekdays:\n",
    "    df1_spy_2018 = pd.concat([df1_spy_2018, calMean(df_spy[df_spy[\"Year\"] == 2018],j)])\n",
    "df1_spy_2018"
   ]
  },
  {
   "cell_type": "markdown",
   "metadata": {},
   "source": [
    "#### Year - 2019"
   ]
  },
  {
   "cell_type": "code",
   "execution_count": 1845,
   "metadata": {},
   "outputs": [
    {
     "data": {
      "text/html": [
       "<div>\n",
       "<style scoped>\n",
       "    .dataframe tbody tr th:only-of-type {\n",
       "        vertical-align: middle;\n",
       "    }\n",
       "\n",
       "    .dataframe tbody tr th {\n",
       "        vertical-align: top;\n",
       "    }\n",
       "\n",
       "    .dataframe thead th {\n",
       "        text-align: right;\n",
       "    }\n",
       "</style>\n",
       "<table border=\"1\" class=\"dataframe\">\n",
       "  <thead>\n",
       "    <tr style=\"text-align: right;\">\n",
       "      <th></th>\n",
       "      <th>R</th>\n",
       "      <th>Mean R</th>\n",
       "      <th>Std R</th>\n",
       "      <th>Rn</th>\n",
       "      <th>Mean Rn</th>\n",
       "      <th>Std Rn</th>\n",
       "      <th>Rp</th>\n",
       "      <th>Mean Rp</th>\n",
       "      <th>Std Rp</th>\n",
       "      <th>Rn vs Rp</th>\n",
       "      <th>Mean Rn vs Mean Rp</th>\n",
       "    </tr>\n",
       "  </thead>\n",
       "  <tbody>\n",
       "    <tr>\n",
       "      <th>Monday</th>\n",
       "      <td>48.0</td>\n",
       "      <td>-0.02</td>\n",
       "      <td>0.82</td>\n",
       "      <td>22.0</td>\n",
       "      <td>-0.62</td>\n",
       "      <td>0.76</td>\n",
       "      <td>26.0</td>\n",
       "      <td>0.49</td>\n",
       "      <td>0.42</td>\n",
       "      <td>More Positive</td>\n",
       "      <td>Lost more on Negative days</td>\n",
       "    </tr>\n",
       "    <tr>\n",
       "      <th>Tuesday</th>\n",
       "      <td>52.0</td>\n",
       "      <td>0.08</td>\n",
       "      <td>0.79</td>\n",
       "      <td>24.0</td>\n",
       "      <td>-0.54</td>\n",
       "      <td>0.51</td>\n",
       "      <td>28.0</td>\n",
       "      <td>0.61</td>\n",
       "      <td>0.56</td>\n",
       "      <td>More Positive</td>\n",
       "      <td>Gained more on Positive days</td>\n",
       "    </tr>\n",
       "    <tr>\n",
       "      <th>Wednesday</th>\n",
       "      <td>51.0</td>\n",
       "      <td>0.07</td>\n",
       "      <td>0.73</td>\n",
       "      <td>19.0</td>\n",
       "      <td>-0.59</td>\n",
       "      <td>0.71</td>\n",
       "      <td>32.0</td>\n",
       "      <td>0.46</td>\n",
       "      <td>0.36</td>\n",
       "      <td>More Positive</td>\n",
       "      <td>Lost more on Negative days</td>\n",
       "    </tr>\n",
       "    <tr>\n",
       "      <th>Thursday</th>\n",
       "      <td>50.0</td>\n",
       "      <td>0.18</td>\n",
       "      <td>0.71</td>\n",
       "      <td>19.0</td>\n",
       "      <td>-0.47</td>\n",
       "      <td>0.58</td>\n",
       "      <td>31.0</td>\n",
       "      <td>0.57</td>\n",
       "      <td>0.43</td>\n",
       "      <td>More Positive</td>\n",
       "      <td>Gained more on Positive days</td>\n",
       "    </tr>\n",
       "    <tr>\n",
       "      <th>Friday</th>\n",
       "      <td>51.0</td>\n",
       "      <td>0.24</td>\n",
       "      <td>0.90</td>\n",
       "      <td>18.0</td>\n",
       "      <td>-0.61</td>\n",
       "      <td>0.69</td>\n",
       "      <td>33.0</td>\n",
       "      <td>0.70</td>\n",
       "      <td>0.61</td>\n",
       "      <td>More Positive</td>\n",
       "      <td>Gained more on Positive days</td>\n",
       "    </tr>\n",
       "  </tbody>\n",
       "</table>\n",
       "</div>"
      ],
      "text/plain": [
       "              R  Mean R  Std R    Rn  Mean Rn  Std Rn    Rp  Mean Rp  Std Rp  \\\n",
       "Monday     48.0   -0.02   0.82  22.0    -0.62    0.76  26.0     0.49    0.42   \n",
       "Tuesday    52.0    0.08   0.79  24.0    -0.54    0.51  28.0     0.61    0.56   \n",
       "Wednesday  51.0    0.07   0.73  19.0    -0.59    0.71  32.0     0.46    0.36   \n",
       "Thursday   50.0    0.18   0.71  19.0    -0.47    0.58  31.0     0.57    0.43   \n",
       "Friday     51.0    0.24   0.90  18.0    -0.61    0.69  33.0     0.70    0.61   \n",
       "\n",
       "                Rn vs Rp            Mean Rn vs Mean Rp  \n",
       "Monday     More Positive    Lost more on Negative days  \n",
       "Tuesday    More Positive  Gained more on Positive days  \n",
       "Wednesday  More Positive    Lost more on Negative days  \n",
       "Thursday   More Positive  Gained more on Positive days  \n",
       "Friday     More Positive  Gained more on Positive days  "
      ]
     },
     "execution_count": 1845,
     "metadata": {},
     "output_type": "execute_result"
    }
   ],
   "source": [
    "df1_spy_2019 = pd.DataFrame()\n",
    "for j in weekdays:\n",
    "    df1_spy_2019 = pd.concat([df1_spy_2019, calMean(df_spy[df_spy[\"Year\"] == 2019],j)])\n",
    "df1_spy_2019"
   ]
  },
  {
   "cell_type": "markdown",
   "metadata": {},
   "source": [
    "#### Year - 2020"
   ]
  },
  {
   "cell_type": "code",
   "execution_count": 1846,
   "metadata": {
    "scrolled": true
   },
   "outputs": [
    {
     "data": {
      "text/html": [
       "<div>\n",
       "<style scoped>\n",
       "    .dataframe tbody tr th:only-of-type {\n",
       "        vertical-align: middle;\n",
       "    }\n",
       "\n",
       "    .dataframe tbody tr th {\n",
       "        vertical-align: top;\n",
       "    }\n",
       "\n",
       "    .dataframe thead th {\n",
       "        text-align: right;\n",
       "    }\n",
       "</style>\n",
       "<table border=\"1\" class=\"dataframe\">\n",
       "  <thead>\n",
       "    <tr style=\"text-align: right;\">\n",
       "      <th></th>\n",
       "      <th>R</th>\n",
       "      <th>Mean R</th>\n",
       "      <th>Std R</th>\n",
       "      <th>Rn</th>\n",
       "      <th>Mean Rn</th>\n",
       "      <th>Std Rn</th>\n",
       "      <th>Rp</th>\n",
       "      <th>Mean Rp</th>\n",
       "      <th>Std Rp</th>\n",
       "      <th>Rn vs Rp</th>\n",
       "      <th>Mean Rn vs Mean Rp</th>\n",
       "    </tr>\n",
       "  </thead>\n",
       "  <tbody>\n",
       "    <tr>\n",
       "      <th>Monday</th>\n",
       "      <td>48.0</td>\n",
       "      <td>0.15</td>\n",
       "      <td>2.63</td>\n",
       "      <td>16.0</td>\n",
       "      <td>-2.25</td>\n",
       "      <td>2.97</td>\n",
       "      <td>32.0</td>\n",
       "      <td>1.35</td>\n",
       "      <td>1.34</td>\n",
       "      <td>More Positive</td>\n",
       "      <td>Lost more on Negative days</td>\n",
       "    </tr>\n",
       "    <tr>\n",
       "      <th>Tuesday</th>\n",
       "      <td>52.0</td>\n",
       "      <td>0.36</td>\n",
       "      <td>2.04</td>\n",
       "      <td>24.0</td>\n",
       "      <td>-1.03</td>\n",
       "      <td>0.98</td>\n",
       "      <td>28.0</td>\n",
       "      <td>1.55</td>\n",
       "      <td>1.97</td>\n",
       "      <td>More Positive</td>\n",
       "      <td>Gained more on Positive days</td>\n",
       "    </tr>\n",
       "    <tr>\n",
       "      <th>Wednesday</th>\n",
       "      <td>52.0</td>\n",
       "      <td>0.11</td>\n",
       "      <td>1.87</td>\n",
       "      <td>20.0</td>\n",
       "      <td>-1.63</td>\n",
       "      <td>1.65</td>\n",
       "      <td>32.0</td>\n",
       "      <td>1.19</td>\n",
       "      <td>0.97</td>\n",
       "      <td>More Positive</td>\n",
       "      <td>Lost more on Negative days</td>\n",
       "    </tr>\n",
       "    <tr>\n",
       "      <th>Thursday</th>\n",
       "      <td>52.0</td>\n",
       "      <td>-0.18</td>\n",
       "      <td>2.13</td>\n",
       "      <td>23.0</td>\n",
       "      <td>-1.55</td>\n",
       "      <td>2.35</td>\n",
       "      <td>29.0</td>\n",
       "      <td>0.90</td>\n",
       "      <td>1.09</td>\n",
       "      <td>More Positive</td>\n",
       "      <td>Lost more on Negative days</td>\n",
       "    </tr>\n",
       "    <tr>\n",
       "      <th>Friday</th>\n",
       "      <td>49.0</td>\n",
       "      <td>0.01</td>\n",
       "      <td>1.82</td>\n",
       "      <td>24.0</td>\n",
       "      <td>-1.15</td>\n",
       "      <td>1.04</td>\n",
       "      <td>25.0</td>\n",
       "      <td>1.13</td>\n",
       "      <td>1.71</td>\n",
       "      <td>More Positive</td>\n",
       "      <td>Lost more on Negative days</td>\n",
       "    </tr>\n",
       "  </tbody>\n",
       "</table>\n",
       "</div>"
      ],
      "text/plain": [
       "              R  Mean R  Std R    Rn  Mean Rn  Std Rn    Rp  Mean Rp  Std Rp  \\\n",
       "Monday     48.0    0.15   2.63  16.0    -2.25    2.97  32.0     1.35    1.34   \n",
       "Tuesday    52.0    0.36   2.04  24.0    -1.03    0.98  28.0     1.55    1.97   \n",
       "Wednesday  52.0    0.11   1.87  20.0    -1.63    1.65  32.0     1.19    0.97   \n",
       "Thursday   52.0   -0.18   2.13  23.0    -1.55    2.35  29.0     0.90    1.09   \n",
       "Friday     49.0    0.01   1.82  24.0    -1.15    1.04  25.0     1.13    1.71   \n",
       "\n",
       "                Rn vs Rp            Mean Rn vs Mean Rp  \n",
       "Monday     More Positive    Lost more on Negative days  \n",
       "Tuesday    More Positive  Gained more on Positive days  \n",
       "Wednesday  More Positive    Lost more on Negative days  \n",
       "Thursday   More Positive    Lost more on Negative days  \n",
       "Friday     More Positive    Lost more on Negative days  "
      ]
     },
     "execution_count": 1846,
     "metadata": {},
     "output_type": "execute_result"
    }
   ],
   "source": [
    "df1_spy_2020 = pd.DataFrame()\n",
    "for j in weekdays:\n",
    "    df1_spy_2020 = pd.concat([df1_spy_2020, calMean(df_spy[df_spy[\"Year\"] == 2020],j)])\n",
    "df1_spy_2020"
   ]
  },
  {
   "cell_type": "markdown",
   "metadata": {},
   "source": [
    "### 3. are there more days with negative or non-negative returns?"
   ]
  },
  {
   "cell_type": "markdown",
   "metadata": {},
   "source": [
    "In general there are more positive days then negative days."
   ]
  },
  {
   "cell_type": "markdown",
   "metadata": {},
   "source": [
    "#### SAP"
   ]
  },
  {
   "cell_type": "markdown",
   "metadata": {},
   "source": [
    "#### 2016"
   ]
  },
  {
   "cell_type": "code",
   "execution_count": 1847,
   "metadata": {},
   "outputs": [
    {
     "data": {
      "text/html": [
       "<div>\n",
       "<style scoped>\n",
       "    .dataframe tbody tr th:only-of-type {\n",
       "        vertical-align: middle;\n",
       "    }\n",
       "\n",
       "    .dataframe tbody tr th {\n",
       "        vertical-align: top;\n",
       "    }\n",
       "\n",
       "    .dataframe thead th {\n",
       "        text-align: right;\n",
       "    }\n",
       "</style>\n",
       "<table border=\"1\" class=\"dataframe\">\n",
       "  <thead>\n",
       "    <tr style=\"text-align: right;\">\n",
       "      <th></th>\n",
       "      <th>Rn</th>\n",
       "      <th>Rp</th>\n",
       "      <th>Rn vs Rp</th>\n",
       "    </tr>\n",
       "  </thead>\n",
       "  <tbody>\n",
       "    <tr>\n",
       "      <th>Monday</th>\n",
       "      <td>20.0</td>\n",
       "      <td>26.0</td>\n",
       "      <td>More Positive</td>\n",
       "    </tr>\n",
       "    <tr>\n",
       "      <th>Tuesday</th>\n",
       "      <td>23.0</td>\n",
       "      <td>29.0</td>\n",
       "      <td>More Positive</td>\n",
       "    </tr>\n",
       "    <tr>\n",
       "      <th>Wednesday</th>\n",
       "      <td>27.0</td>\n",
       "      <td>25.0</td>\n",
       "      <td>More Negative</td>\n",
       "    </tr>\n",
       "    <tr>\n",
       "      <th>Thursday</th>\n",
       "      <td>30.0</td>\n",
       "      <td>21.0</td>\n",
       "      <td>More Negative</td>\n",
       "    </tr>\n",
       "    <tr>\n",
       "      <th>Friday</th>\n",
       "      <td>25.0</td>\n",
       "      <td>26.0</td>\n",
       "      <td>More Positive</td>\n",
       "    </tr>\n",
       "  </tbody>\n",
       "</table>\n",
       "</div>"
      ],
      "text/plain": [
       "             Rn    Rp       Rn vs Rp\n",
       "Monday     20.0  26.0  More Positive\n",
       "Tuesday    23.0  29.0  More Positive\n",
       "Wednesday  27.0  25.0  More Negative\n",
       "Thursday   30.0  21.0  More Negative\n",
       "Friday     25.0  26.0  More Positive"
      ]
     },
     "execution_count": 1847,
     "metadata": {},
     "output_type": "execute_result"
    }
   ],
   "source": [
    "df1_sap_2016[[\"Rn\",\"Rp\",\"Rn vs Rp\"]]"
   ]
  },
  {
   "cell_type": "markdown",
   "metadata": {},
   "source": [
    "#### 2017"
   ]
  },
  {
   "cell_type": "code",
   "execution_count": 1848,
   "metadata": {},
   "outputs": [
    {
     "data": {
      "text/html": [
       "<div>\n",
       "<style scoped>\n",
       "    .dataframe tbody tr th:only-of-type {\n",
       "        vertical-align: middle;\n",
       "    }\n",
       "\n",
       "    .dataframe tbody tr th {\n",
       "        vertical-align: top;\n",
       "    }\n",
       "\n",
       "    .dataframe thead th {\n",
       "        text-align: right;\n",
       "    }\n",
       "</style>\n",
       "<table border=\"1\" class=\"dataframe\">\n",
       "  <thead>\n",
       "    <tr style=\"text-align: right;\">\n",
       "      <th></th>\n",
       "      <th>Rn</th>\n",
       "      <th>Rp</th>\n",
       "      <th>Rn vs Rp</th>\n",
       "    </tr>\n",
       "  </thead>\n",
       "  <tbody>\n",
       "    <tr>\n",
       "      <th>Monday</th>\n",
       "      <td>23.0</td>\n",
       "      <td>23.0</td>\n",
       "      <td>More Positive</td>\n",
       "    </tr>\n",
       "    <tr>\n",
       "      <th>Tuesday</th>\n",
       "      <td>25.0</td>\n",
       "      <td>26.0</td>\n",
       "      <td>More Positive</td>\n",
       "    </tr>\n",
       "    <tr>\n",
       "      <th>Wednesday</th>\n",
       "      <td>21.0</td>\n",
       "      <td>31.0</td>\n",
       "      <td>More Positive</td>\n",
       "    </tr>\n",
       "    <tr>\n",
       "      <th>Thursday</th>\n",
       "      <td>23.0</td>\n",
       "      <td>28.0</td>\n",
       "      <td>More Positive</td>\n",
       "    </tr>\n",
       "    <tr>\n",
       "      <th>Friday</th>\n",
       "      <td>14.0</td>\n",
       "      <td>37.0</td>\n",
       "      <td>More Positive</td>\n",
       "    </tr>\n",
       "  </tbody>\n",
       "</table>\n",
       "</div>"
      ],
      "text/plain": [
       "             Rn    Rp       Rn vs Rp\n",
       "Monday     23.0  23.0  More Positive\n",
       "Tuesday    25.0  26.0  More Positive\n",
       "Wednesday  21.0  31.0  More Positive\n",
       "Thursday   23.0  28.0  More Positive\n",
       "Friday     14.0  37.0  More Positive"
      ]
     },
     "execution_count": 1848,
     "metadata": {},
     "output_type": "execute_result"
    }
   ],
   "source": [
    "df1_sap_2017[[\"Rn\",\"Rp\",\"Rn vs Rp\"]]"
   ]
  },
  {
   "cell_type": "markdown",
   "metadata": {},
   "source": [
    "#### 2018"
   ]
  },
  {
   "cell_type": "code",
   "execution_count": 1849,
   "metadata": {},
   "outputs": [
    {
     "data": {
      "text/html": [
       "<div>\n",
       "<style scoped>\n",
       "    .dataframe tbody tr th:only-of-type {\n",
       "        vertical-align: middle;\n",
       "    }\n",
       "\n",
       "    .dataframe tbody tr th {\n",
       "        vertical-align: top;\n",
       "    }\n",
       "\n",
       "    .dataframe thead th {\n",
       "        text-align: right;\n",
       "    }\n",
       "</style>\n",
       "<table border=\"1\" class=\"dataframe\">\n",
       "  <thead>\n",
       "    <tr style=\"text-align: right;\">\n",
       "      <th></th>\n",
       "      <th>Rn</th>\n",
       "      <th>Rp</th>\n",
       "      <th>Rn vs Rp</th>\n",
       "    </tr>\n",
       "  </thead>\n",
       "  <tbody>\n",
       "    <tr>\n",
       "      <th>Monday</th>\n",
       "      <td>27.0</td>\n",
       "      <td>21.0</td>\n",
       "      <td>More Negative</td>\n",
       "    </tr>\n",
       "    <tr>\n",
       "      <th>Tuesday</th>\n",
       "      <td>23.0</td>\n",
       "      <td>28.0</td>\n",
       "      <td>More Positive</td>\n",
       "    </tr>\n",
       "    <tr>\n",
       "      <th>Wednesday</th>\n",
       "      <td>15.0</td>\n",
       "      <td>35.0</td>\n",
       "      <td>More Positive</td>\n",
       "    </tr>\n",
       "    <tr>\n",
       "      <th>Thursday</th>\n",
       "      <td>23.0</td>\n",
       "      <td>28.0</td>\n",
       "      <td>More Positive</td>\n",
       "    </tr>\n",
       "    <tr>\n",
       "      <th>Friday</th>\n",
       "      <td>22.0</td>\n",
       "      <td>29.0</td>\n",
       "      <td>More Positive</td>\n",
       "    </tr>\n",
       "  </tbody>\n",
       "</table>\n",
       "</div>"
      ],
      "text/plain": [
       "             Rn    Rp       Rn vs Rp\n",
       "Monday     27.0  21.0  More Negative\n",
       "Tuesday    23.0  28.0  More Positive\n",
       "Wednesday  15.0  35.0  More Positive\n",
       "Thursday   23.0  28.0  More Positive\n",
       "Friday     22.0  29.0  More Positive"
      ]
     },
     "execution_count": 1849,
     "metadata": {},
     "output_type": "execute_result"
    }
   ],
   "source": [
    "df1_sap_2018[[\"Rn\",\"Rp\",\"Rn vs Rp\"]]"
   ]
  },
  {
   "cell_type": "markdown",
   "metadata": {},
   "source": [
    "#### 2019"
   ]
  },
  {
   "cell_type": "code",
   "execution_count": 1850,
   "metadata": {},
   "outputs": [
    {
     "data": {
      "text/html": [
       "<div>\n",
       "<style scoped>\n",
       "    .dataframe tbody tr th:only-of-type {\n",
       "        vertical-align: middle;\n",
       "    }\n",
       "\n",
       "    .dataframe tbody tr th {\n",
       "        vertical-align: top;\n",
       "    }\n",
       "\n",
       "    .dataframe thead th {\n",
       "        text-align: right;\n",
       "    }\n",
       "</style>\n",
       "<table border=\"1\" class=\"dataframe\">\n",
       "  <thead>\n",
       "    <tr style=\"text-align: right;\">\n",
       "      <th></th>\n",
       "      <th>Rn</th>\n",
       "      <th>Rp</th>\n",
       "      <th>Rn vs Rp</th>\n",
       "    </tr>\n",
       "  </thead>\n",
       "  <tbody>\n",
       "    <tr>\n",
       "      <th>Monday</th>\n",
       "      <td>24.0</td>\n",
       "      <td>24.0</td>\n",
       "      <td>More Positive</td>\n",
       "    </tr>\n",
       "    <tr>\n",
       "      <th>Tuesday</th>\n",
       "      <td>29.0</td>\n",
       "      <td>23.0</td>\n",
       "      <td>More Negative</td>\n",
       "    </tr>\n",
       "    <tr>\n",
       "      <th>Wednesday</th>\n",
       "      <td>22.0</td>\n",
       "      <td>29.0</td>\n",
       "      <td>More Positive</td>\n",
       "    </tr>\n",
       "    <tr>\n",
       "      <th>Thursday</th>\n",
       "      <td>18.0</td>\n",
       "      <td>32.0</td>\n",
       "      <td>More Positive</td>\n",
       "    </tr>\n",
       "    <tr>\n",
       "      <th>Friday</th>\n",
       "      <td>21.0</td>\n",
       "      <td>30.0</td>\n",
       "      <td>More Positive</td>\n",
       "    </tr>\n",
       "  </tbody>\n",
       "</table>\n",
       "</div>"
      ],
      "text/plain": [
       "             Rn    Rp       Rn vs Rp\n",
       "Monday     24.0  24.0  More Positive\n",
       "Tuesday    29.0  23.0  More Negative\n",
       "Wednesday  22.0  29.0  More Positive\n",
       "Thursday   18.0  32.0  More Positive\n",
       "Friday     21.0  30.0  More Positive"
      ]
     },
     "execution_count": 1850,
     "metadata": {},
     "output_type": "execute_result"
    }
   ],
   "source": [
    "df1_sap_2019[[\"Rn\",\"Rp\",\"Rn vs Rp\"]]"
   ]
  },
  {
   "cell_type": "markdown",
   "metadata": {},
   "source": [
    "#### 2020"
   ]
  },
  {
   "cell_type": "code",
   "execution_count": 1851,
   "metadata": {
    "scrolled": true
   },
   "outputs": [
    {
     "data": {
      "text/html": [
       "<div>\n",
       "<style scoped>\n",
       "    .dataframe tbody tr th:only-of-type {\n",
       "        vertical-align: middle;\n",
       "    }\n",
       "\n",
       "    .dataframe tbody tr th {\n",
       "        vertical-align: top;\n",
       "    }\n",
       "\n",
       "    .dataframe thead th {\n",
       "        text-align: right;\n",
       "    }\n",
       "</style>\n",
       "<table border=\"1\" class=\"dataframe\">\n",
       "  <thead>\n",
       "    <tr style=\"text-align: right;\">\n",
       "      <th></th>\n",
       "      <th>Rn</th>\n",
       "      <th>Rp</th>\n",
       "      <th>Rn vs Rp</th>\n",
       "    </tr>\n",
       "  </thead>\n",
       "  <tbody>\n",
       "    <tr>\n",
       "      <th>Monday</th>\n",
       "      <td>16.0</td>\n",
       "      <td>32.0</td>\n",
       "      <td>More Positive</td>\n",
       "    </tr>\n",
       "    <tr>\n",
       "      <th>Tuesday</th>\n",
       "      <td>26.0</td>\n",
       "      <td>26.0</td>\n",
       "      <td>More Positive</td>\n",
       "    </tr>\n",
       "    <tr>\n",
       "      <th>Wednesday</th>\n",
       "      <td>19.0</td>\n",
       "      <td>33.0</td>\n",
       "      <td>More Positive</td>\n",
       "    </tr>\n",
       "    <tr>\n",
       "      <th>Thursday</th>\n",
       "      <td>27.0</td>\n",
       "      <td>25.0</td>\n",
       "      <td>More Negative</td>\n",
       "    </tr>\n",
       "    <tr>\n",
       "      <th>Friday</th>\n",
       "      <td>25.0</td>\n",
       "      <td>24.0</td>\n",
       "      <td>More Negative</td>\n",
       "    </tr>\n",
       "  </tbody>\n",
       "</table>\n",
       "</div>"
      ],
      "text/plain": [
       "             Rn    Rp       Rn vs Rp\n",
       "Monday     16.0  32.0  More Positive\n",
       "Tuesday    26.0  26.0  More Positive\n",
       "Wednesday  19.0  33.0  More Positive\n",
       "Thursday   27.0  25.0  More Negative\n",
       "Friday     25.0  24.0  More Negative"
      ]
     },
     "execution_count": 1851,
     "metadata": {},
     "output_type": "execute_result"
    }
   ],
   "source": [
    "df1_sap_2020[[\"Rn\",\"Rp\",\"Rn vs Rp\"]]"
   ]
  },
  {
   "cell_type": "markdown",
   "metadata": {},
   "source": [
    "#### SPY"
   ]
  },
  {
   "cell_type": "markdown",
   "metadata": {},
   "source": [
    "#### 2016"
   ]
  },
  {
   "cell_type": "code",
   "execution_count": 1852,
   "metadata": {},
   "outputs": [
    {
     "data": {
      "text/html": [
       "<div>\n",
       "<style scoped>\n",
       "    .dataframe tbody tr th:only-of-type {\n",
       "        vertical-align: middle;\n",
       "    }\n",
       "\n",
       "    .dataframe tbody tr th {\n",
       "        vertical-align: top;\n",
       "    }\n",
       "\n",
       "    .dataframe thead th {\n",
       "        text-align: right;\n",
       "    }\n",
       "</style>\n",
       "<table border=\"1\" class=\"dataframe\">\n",
       "  <thead>\n",
       "    <tr style=\"text-align: right;\">\n",
       "      <th></th>\n",
       "      <th>Rn</th>\n",
       "      <th>Rp</th>\n",
       "      <th>Rn vs Rp</th>\n",
       "    </tr>\n",
       "  </thead>\n",
       "  <tbody>\n",
       "    <tr>\n",
       "      <th>Monday</th>\n",
       "      <td>20.0</td>\n",
       "      <td>26.0</td>\n",
       "      <td>More Positive</td>\n",
       "    </tr>\n",
       "    <tr>\n",
       "      <th>Tuesday</th>\n",
       "      <td>20.0</td>\n",
       "      <td>32.0</td>\n",
       "      <td>More Positive</td>\n",
       "    </tr>\n",
       "    <tr>\n",
       "      <th>Wednesday</th>\n",
       "      <td>24.0</td>\n",
       "      <td>28.0</td>\n",
       "      <td>More Positive</td>\n",
       "    </tr>\n",
       "    <tr>\n",
       "      <th>Thursday</th>\n",
       "      <td>23.0</td>\n",
       "      <td>28.0</td>\n",
       "      <td>More Positive</td>\n",
       "    </tr>\n",
       "    <tr>\n",
       "      <th>Friday</th>\n",
       "      <td>26.0</td>\n",
       "      <td>25.0</td>\n",
       "      <td>More Negative</td>\n",
       "    </tr>\n",
       "  </tbody>\n",
       "</table>\n",
       "</div>"
      ],
      "text/plain": [
       "             Rn    Rp       Rn vs Rp\n",
       "Monday     20.0  26.0  More Positive\n",
       "Tuesday    20.0  32.0  More Positive\n",
       "Wednesday  24.0  28.0  More Positive\n",
       "Thursday   23.0  28.0  More Positive\n",
       "Friday     26.0  25.0  More Negative"
      ]
     },
     "execution_count": 1852,
     "metadata": {},
     "output_type": "execute_result"
    }
   ],
   "source": [
    "df1_spy_2016[[\"Rn\",\"Rp\",\"Rn vs Rp\"]]"
   ]
  },
  {
   "cell_type": "markdown",
   "metadata": {},
   "source": [
    "#### 2017"
   ]
  },
  {
   "cell_type": "code",
   "execution_count": 1853,
   "metadata": {},
   "outputs": [
    {
     "data": {
      "text/html": [
       "<div>\n",
       "<style scoped>\n",
       "    .dataframe tbody tr th:only-of-type {\n",
       "        vertical-align: middle;\n",
       "    }\n",
       "\n",
       "    .dataframe tbody tr th {\n",
       "        vertical-align: top;\n",
       "    }\n",
       "\n",
       "    .dataframe thead th {\n",
       "        text-align: right;\n",
       "    }\n",
       "</style>\n",
       "<table border=\"1\" class=\"dataframe\">\n",
       "  <thead>\n",
       "    <tr style=\"text-align: right;\">\n",
       "      <th></th>\n",
       "      <th>Rn</th>\n",
       "      <th>Rp</th>\n",
       "      <th>Rn vs Rp</th>\n",
       "    </tr>\n",
       "  </thead>\n",
       "  <tbody>\n",
       "    <tr>\n",
       "      <th>Monday</th>\n",
       "      <td>20.0</td>\n",
       "      <td>26.0</td>\n",
       "      <td>More Positive</td>\n",
       "    </tr>\n",
       "    <tr>\n",
       "      <th>Tuesday</th>\n",
       "      <td>23.0</td>\n",
       "      <td>28.0</td>\n",
       "      <td>More Positive</td>\n",
       "    </tr>\n",
       "    <tr>\n",
       "      <th>Wednesday</th>\n",
       "      <td>19.0</td>\n",
       "      <td>33.0</td>\n",
       "      <td>More Positive</td>\n",
       "    </tr>\n",
       "    <tr>\n",
       "      <th>Thursday</th>\n",
       "      <td>25.0</td>\n",
       "      <td>26.0</td>\n",
       "      <td>More Positive</td>\n",
       "    </tr>\n",
       "    <tr>\n",
       "      <th>Friday</th>\n",
       "      <td>20.0</td>\n",
       "      <td>31.0</td>\n",
       "      <td>More Positive</td>\n",
       "    </tr>\n",
       "  </tbody>\n",
       "</table>\n",
       "</div>"
      ],
      "text/plain": [
       "             Rn    Rp       Rn vs Rp\n",
       "Monday     20.0  26.0  More Positive\n",
       "Tuesday    23.0  28.0  More Positive\n",
       "Wednesday  19.0  33.0  More Positive\n",
       "Thursday   25.0  26.0  More Positive\n",
       "Friday     20.0  31.0  More Positive"
      ]
     },
     "execution_count": 1853,
     "metadata": {},
     "output_type": "execute_result"
    }
   ],
   "source": [
    "df1_spy_2017[[\"Rn\",\"Rp\",\"Rn vs Rp\"]]"
   ]
  },
  {
   "cell_type": "markdown",
   "metadata": {},
   "source": [
    "#### 2018"
   ]
  },
  {
   "cell_type": "code",
   "execution_count": 1854,
   "metadata": {},
   "outputs": [
    {
     "data": {
      "text/html": [
       "<div>\n",
       "<style scoped>\n",
       "    .dataframe tbody tr th:only-of-type {\n",
       "        vertical-align: middle;\n",
       "    }\n",
       "\n",
       "    .dataframe tbody tr th {\n",
       "        vertical-align: top;\n",
       "    }\n",
       "\n",
       "    .dataframe thead th {\n",
       "        text-align: right;\n",
       "    }\n",
       "</style>\n",
       "<table border=\"1\" class=\"dataframe\">\n",
       "  <thead>\n",
       "    <tr style=\"text-align: right;\">\n",
       "      <th></th>\n",
       "      <th>Rn</th>\n",
       "      <th>Rp</th>\n",
       "      <th>Rn vs Rp</th>\n",
       "    </tr>\n",
       "  </thead>\n",
       "  <tbody>\n",
       "    <tr>\n",
       "      <th>Monday</th>\n",
       "      <td>21.0</td>\n",
       "      <td>27.0</td>\n",
       "      <td>More Positive</td>\n",
       "    </tr>\n",
       "    <tr>\n",
       "      <th>Tuesday</th>\n",
       "      <td>21.0</td>\n",
       "      <td>30.0</td>\n",
       "      <td>More Positive</td>\n",
       "    </tr>\n",
       "    <tr>\n",
       "      <th>Wednesday</th>\n",
       "      <td>24.0</td>\n",
       "      <td>26.0</td>\n",
       "      <td>More Positive</td>\n",
       "    </tr>\n",
       "    <tr>\n",
       "      <th>Thursday</th>\n",
       "      <td>27.0</td>\n",
       "      <td>24.0</td>\n",
       "      <td>More Negative</td>\n",
       "    </tr>\n",
       "    <tr>\n",
       "      <th>Friday</th>\n",
       "      <td>23.0</td>\n",
       "      <td>28.0</td>\n",
       "      <td>More Positive</td>\n",
       "    </tr>\n",
       "  </tbody>\n",
       "</table>\n",
       "</div>"
      ],
      "text/plain": [
       "             Rn    Rp       Rn vs Rp\n",
       "Monday     21.0  27.0  More Positive\n",
       "Tuesday    21.0  30.0  More Positive\n",
       "Wednesday  24.0  26.0  More Positive\n",
       "Thursday   27.0  24.0  More Negative\n",
       "Friday     23.0  28.0  More Positive"
      ]
     },
     "execution_count": 1854,
     "metadata": {},
     "output_type": "execute_result"
    }
   ],
   "source": [
    "df1_spy_2018[[\"Rn\",\"Rp\",\"Rn vs Rp\"]]"
   ]
  },
  {
   "cell_type": "markdown",
   "metadata": {},
   "source": [
    "#### 2019"
   ]
  },
  {
   "cell_type": "code",
   "execution_count": 1855,
   "metadata": {},
   "outputs": [
    {
     "data": {
      "text/html": [
       "<div>\n",
       "<style scoped>\n",
       "    .dataframe tbody tr th:only-of-type {\n",
       "        vertical-align: middle;\n",
       "    }\n",
       "\n",
       "    .dataframe tbody tr th {\n",
       "        vertical-align: top;\n",
       "    }\n",
       "\n",
       "    .dataframe thead th {\n",
       "        text-align: right;\n",
       "    }\n",
       "</style>\n",
       "<table border=\"1\" class=\"dataframe\">\n",
       "  <thead>\n",
       "    <tr style=\"text-align: right;\">\n",
       "      <th></th>\n",
       "      <th>Rn</th>\n",
       "      <th>Rp</th>\n",
       "      <th>Rn vs Rp</th>\n",
       "    </tr>\n",
       "  </thead>\n",
       "  <tbody>\n",
       "    <tr>\n",
       "      <th>Monday</th>\n",
       "      <td>22.0</td>\n",
       "      <td>26.0</td>\n",
       "      <td>More Positive</td>\n",
       "    </tr>\n",
       "    <tr>\n",
       "      <th>Tuesday</th>\n",
       "      <td>24.0</td>\n",
       "      <td>28.0</td>\n",
       "      <td>More Positive</td>\n",
       "    </tr>\n",
       "    <tr>\n",
       "      <th>Wednesday</th>\n",
       "      <td>19.0</td>\n",
       "      <td>32.0</td>\n",
       "      <td>More Positive</td>\n",
       "    </tr>\n",
       "    <tr>\n",
       "      <th>Thursday</th>\n",
       "      <td>19.0</td>\n",
       "      <td>31.0</td>\n",
       "      <td>More Positive</td>\n",
       "    </tr>\n",
       "    <tr>\n",
       "      <th>Friday</th>\n",
       "      <td>18.0</td>\n",
       "      <td>33.0</td>\n",
       "      <td>More Positive</td>\n",
       "    </tr>\n",
       "  </tbody>\n",
       "</table>\n",
       "</div>"
      ],
      "text/plain": [
       "             Rn    Rp       Rn vs Rp\n",
       "Monday     22.0  26.0  More Positive\n",
       "Tuesday    24.0  28.0  More Positive\n",
       "Wednesday  19.0  32.0  More Positive\n",
       "Thursday   19.0  31.0  More Positive\n",
       "Friday     18.0  33.0  More Positive"
      ]
     },
     "execution_count": 1855,
     "metadata": {},
     "output_type": "execute_result"
    }
   ],
   "source": [
    "df1_spy_2019[[\"Rn\",\"Rp\",\"Rn vs Rp\"]]"
   ]
  },
  {
   "cell_type": "markdown",
   "metadata": {},
   "source": [
    "#### 2020"
   ]
  },
  {
   "cell_type": "code",
   "execution_count": 1856,
   "metadata": {
    "scrolled": true
   },
   "outputs": [
    {
     "data": {
      "text/html": [
       "<div>\n",
       "<style scoped>\n",
       "    .dataframe tbody tr th:only-of-type {\n",
       "        vertical-align: middle;\n",
       "    }\n",
       "\n",
       "    .dataframe tbody tr th {\n",
       "        vertical-align: top;\n",
       "    }\n",
       "\n",
       "    .dataframe thead th {\n",
       "        text-align: right;\n",
       "    }\n",
       "</style>\n",
       "<table border=\"1\" class=\"dataframe\">\n",
       "  <thead>\n",
       "    <tr style=\"text-align: right;\">\n",
       "      <th></th>\n",
       "      <th>Rn</th>\n",
       "      <th>Rp</th>\n",
       "      <th>Rn vs Rp</th>\n",
       "    </tr>\n",
       "  </thead>\n",
       "  <tbody>\n",
       "    <tr>\n",
       "      <th>Monday</th>\n",
       "      <td>16.0</td>\n",
       "      <td>32.0</td>\n",
       "      <td>More Positive</td>\n",
       "    </tr>\n",
       "    <tr>\n",
       "      <th>Tuesday</th>\n",
       "      <td>24.0</td>\n",
       "      <td>28.0</td>\n",
       "      <td>More Positive</td>\n",
       "    </tr>\n",
       "    <tr>\n",
       "      <th>Wednesday</th>\n",
       "      <td>20.0</td>\n",
       "      <td>32.0</td>\n",
       "      <td>More Positive</td>\n",
       "    </tr>\n",
       "    <tr>\n",
       "      <th>Thursday</th>\n",
       "      <td>23.0</td>\n",
       "      <td>29.0</td>\n",
       "      <td>More Positive</td>\n",
       "    </tr>\n",
       "    <tr>\n",
       "      <th>Friday</th>\n",
       "      <td>24.0</td>\n",
       "      <td>25.0</td>\n",
       "      <td>More Positive</td>\n",
       "    </tr>\n",
       "  </tbody>\n",
       "</table>\n",
       "</div>"
      ],
      "text/plain": [
       "             Rn    Rp       Rn vs Rp\n",
       "Monday     16.0  32.0  More Positive\n",
       "Tuesday    24.0  28.0  More Positive\n",
       "Wednesday  20.0  32.0  More Positive\n",
       "Thursday   23.0  29.0  More Positive\n",
       "Friday     24.0  25.0  More Positive"
      ]
     },
     "execution_count": 1856,
     "metadata": {},
     "output_type": "execute_result"
    }
   ],
   "source": [
    "df1_spy_2020[[\"Rn\",\"Rp\",\"Rn vs Rp\"]]"
   ]
  },
  {
   "cell_type": "markdown",
   "metadata": {},
   "source": [
    "### 4. does your stock lose more on a \"down\" day than it gains on an \"up\" days."
   ]
  },
  {
   "cell_type": "markdown",
   "metadata": {},
   "source": [
    "Both the stock **SAP** and **SPY** lose more on a \"down day\" then they gain on a \"up day\""
   ]
  },
  {
   "cell_type": "markdown",
   "metadata": {},
   "source": [
    "#### SAP"
   ]
  },
  {
   "cell_type": "markdown",
   "metadata": {},
   "source": [
    "#### 2016"
   ]
  },
  {
   "cell_type": "code",
   "execution_count": 1857,
   "metadata": {},
   "outputs": [
    {
     "data": {
      "text/html": [
       "<div>\n",
       "<style scoped>\n",
       "    .dataframe tbody tr th:only-of-type {\n",
       "        vertical-align: middle;\n",
       "    }\n",
       "\n",
       "    .dataframe tbody tr th {\n",
       "        vertical-align: top;\n",
       "    }\n",
       "\n",
       "    .dataframe thead th {\n",
       "        text-align: right;\n",
       "    }\n",
       "</style>\n",
       "<table border=\"1\" class=\"dataframe\">\n",
       "  <thead>\n",
       "    <tr style=\"text-align: right;\">\n",
       "      <th></th>\n",
       "      <th>Mean Rn</th>\n",
       "      <th>Mean Rp</th>\n",
       "      <th>Mean Rn vs Mean Rp</th>\n",
       "    </tr>\n",
       "  </thead>\n",
       "  <tbody>\n",
       "    <tr>\n",
       "      <th>Monday</th>\n",
       "      <td>-0.78</td>\n",
       "      <td>0.85</td>\n",
       "      <td>Gained more on Positive days</td>\n",
       "    </tr>\n",
       "    <tr>\n",
       "      <th>Tuesday</th>\n",
       "      <td>-0.77</td>\n",
       "      <td>1.27</td>\n",
       "      <td>Gained more on Positive days</td>\n",
       "    </tr>\n",
       "    <tr>\n",
       "      <th>Wednesday</th>\n",
       "      <td>-0.70</td>\n",
       "      <td>1.12</td>\n",
       "      <td>Gained more on Positive days</td>\n",
       "    </tr>\n",
       "    <tr>\n",
       "      <th>Thursday</th>\n",
       "      <td>-0.83</td>\n",
       "      <td>0.87</td>\n",
       "      <td>Gained more on Positive days</td>\n",
       "    </tr>\n",
       "    <tr>\n",
       "      <th>Friday</th>\n",
       "      <td>-1.44</td>\n",
       "      <td>0.91</td>\n",
       "      <td>Lost more on Negative days</td>\n",
       "    </tr>\n",
       "  </tbody>\n",
       "</table>\n",
       "</div>"
      ],
      "text/plain": [
       "           Mean Rn  Mean Rp            Mean Rn vs Mean Rp\n",
       "Monday       -0.78     0.85  Gained more on Positive days\n",
       "Tuesday      -0.77     1.27  Gained more on Positive days\n",
       "Wednesday    -0.70     1.12  Gained more on Positive days\n",
       "Thursday     -0.83     0.87  Gained more on Positive days\n",
       "Friday       -1.44     0.91    Lost more on Negative days"
      ]
     },
     "execution_count": 1857,
     "metadata": {},
     "output_type": "execute_result"
    }
   ],
   "source": [
    "df1_sap_2016[[\"Mean Rn\",\"Mean Rp\",\"Mean Rn vs Mean Rp\"]]"
   ]
  },
  {
   "cell_type": "markdown",
   "metadata": {},
   "source": [
    "#### 2017"
   ]
  },
  {
   "cell_type": "code",
   "execution_count": 1858,
   "metadata": {},
   "outputs": [
    {
     "data": {
      "text/html": [
       "<div>\n",
       "<style scoped>\n",
       "    .dataframe tbody tr th:only-of-type {\n",
       "        vertical-align: middle;\n",
       "    }\n",
       "\n",
       "    .dataframe tbody tr th {\n",
       "        vertical-align: top;\n",
       "    }\n",
       "\n",
       "    .dataframe thead th {\n",
       "        text-align: right;\n",
       "    }\n",
       "</style>\n",
       "<table border=\"1\" class=\"dataframe\">\n",
       "  <thead>\n",
       "    <tr style=\"text-align: right;\">\n",
       "      <th></th>\n",
       "      <th>Mean Rn</th>\n",
       "      <th>Mean Rp</th>\n",
       "      <th>Mean Rn vs Mean Rp</th>\n",
       "    </tr>\n",
       "  </thead>\n",
       "  <tbody>\n",
       "    <tr>\n",
       "      <th>Monday</th>\n",
       "      <td>-0.59</td>\n",
       "      <td>0.82</td>\n",
       "      <td>Gained more on Positive days</td>\n",
       "    </tr>\n",
       "    <tr>\n",
       "      <th>Tuesday</th>\n",
       "      <td>-0.44</td>\n",
       "      <td>0.54</td>\n",
       "      <td>Gained more on Positive days</td>\n",
       "    </tr>\n",
       "    <tr>\n",
       "      <th>Wednesday</th>\n",
       "      <td>-0.68</td>\n",
       "      <td>0.67</td>\n",
       "      <td>Lost more on Negative days</td>\n",
       "    </tr>\n",
       "    <tr>\n",
       "      <th>Thursday</th>\n",
       "      <td>-0.73</td>\n",
       "      <td>0.64</td>\n",
       "      <td>Lost more on Negative days</td>\n",
       "    </tr>\n",
       "    <tr>\n",
       "      <th>Friday</th>\n",
       "      <td>-0.62</td>\n",
       "      <td>0.57</td>\n",
       "      <td>Lost more on Negative days</td>\n",
       "    </tr>\n",
       "  </tbody>\n",
       "</table>\n",
       "</div>"
      ],
      "text/plain": [
       "           Mean Rn  Mean Rp            Mean Rn vs Mean Rp\n",
       "Monday       -0.59     0.82  Gained more on Positive days\n",
       "Tuesday      -0.44     0.54  Gained more on Positive days\n",
       "Wednesday    -0.68     0.67    Lost more on Negative days\n",
       "Thursday     -0.73     0.64    Lost more on Negative days\n",
       "Friday       -0.62     0.57    Lost more on Negative days"
      ]
     },
     "execution_count": 1858,
     "metadata": {},
     "output_type": "execute_result"
    }
   ],
   "source": [
    "df1_sap_2017[[\"Mean Rn\",\"Mean Rp\",\"Mean Rn vs Mean Rp\"]]"
   ]
  },
  {
   "cell_type": "markdown",
   "metadata": {},
   "source": [
    "#### 2018"
   ]
  },
  {
   "cell_type": "code",
   "execution_count": 1859,
   "metadata": {},
   "outputs": [
    {
     "data": {
      "text/html": [
       "<div>\n",
       "<style scoped>\n",
       "    .dataframe tbody tr th:only-of-type {\n",
       "        vertical-align: middle;\n",
       "    }\n",
       "\n",
       "    .dataframe tbody tr th {\n",
       "        vertical-align: top;\n",
       "    }\n",
       "\n",
       "    .dataframe thead th {\n",
       "        text-align: right;\n",
       "    }\n",
       "</style>\n",
       "<table border=\"1\" class=\"dataframe\">\n",
       "  <thead>\n",
       "    <tr style=\"text-align: right;\">\n",
       "      <th></th>\n",
       "      <th>Mean Rn</th>\n",
       "      <th>Mean Rp</th>\n",
       "      <th>Mean Rn vs Mean Rp</th>\n",
       "    </tr>\n",
       "  </thead>\n",
       "  <tbody>\n",
       "    <tr>\n",
       "      <th>Monday</th>\n",
       "      <td>-1.24</td>\n",
       "      <td>1.04</td>\n",
       "      <td>Lost more on Negative days</td>\n",
       "    </tr>\n",
       "    <tr>\n",
       "      <th>Tuesday</th>\n",
       "      <td>-1.10</td>\n",
       "      <td>1.02</td>\n",
       "      <td>Lost more on Negative days</td>\n",
       "    </tr>\n",
       "    <tr>\n",
       "      <th>Wednesday</th>\n",
       "      <td>-1.55</td>\n",
       "      <td>1.01</td>\n",
       "      <td>Lost more on Negative days</td>\n",
       "    </tr>\n",
       "    <tr>\n",
       "      <th>Thursday</th>\n",
       "      <td>-1.47</td>\n",
       "      <td>0.84</td>\n",
       "      <td>Lost more on Negative days</td>\n",
       "    </tr>\n",
       "    <tr>\n",
       "      <th>Friday</th>\n",
       "      <td>-1.18</td>\n",
       "      <td>0.86</td>\n",
       "      <td>Lost more on Negative days</td>\n",
       "    </tr>\n",
       "  </tbody>\n",
       "</table>\n",
       "</div>"
      ],
      "text/plain": [
       "           Mean Rn  Mean Rp          Mean Rn vs Mean Rp\n",
       "Monday       -1.24     1.04  Lost more on Negative days\n",
       "Tuesday      -1.10     1.02  Lost more on Negative days\n",
       "Wednesday    -1.55     1.01  Lost more on Negative days\n",
       "Thursday     -1.47     0.84  Lost more on Negative days\n",
       "Friday       -1.18     0.86  Lost more on Negative days"
      ]
     },
     "execution_count": 1859,
     "metadata": {},
     "output_type": "execute_result"
    }
   ],
   "source": [
    "df1_sap_2018[[\"Mean Rn\",\"Mean Rp\",\"Mean Rn vs Mean Rp\"]]"
   ]
  },
  {
   "cell_type": "markdown",
   "metadata": {},
   "source": [
    "#### 2019"
   ]
  },
  {
   "cell_type": "code",
   "execution_count": 1860,
   "metadata": {},
   "outputs": [
    {
     "data": {
      "text/html": [
       "<div>\n",
       "<style scoped>\n",
       "    .dataframe tbody tr th:only-of-type {\n",
       "        vertical-align: middle;\n",
       "    }\n",
       "\n",
       "    .dataframe tbody tr th {\n",
       "        vertical-align: top;\n",
       "    }\n",
       "\n",
       "    .dataframe thead th {\n",
       "        text-align: right;\n",
       "    }\n",
       "</style>\n",
       "<table border=\"1\" class=\"dataframe\">\n",
       "  <thead>\n",
       "    <tr style=\"text-align: right;\">\n",
       "      <th></th>\n",
       "      <th>Mean Rn</th>\n",
       "      <th>Mean Rp</th>\n",
       "      <th>Mean Rn vs Mean Rp</th>\n",
       "    </tr>\n",
       "  </thead>\n",
       "  <tbody>\n",
       "    <tr>\n",
       "      <th>Monday</th>\n",
       "      <td>-0.76</td>\n",
       "      <td>0.63</td>\n",
       "      <td>Lost more on Negative days</td>\n",
       "    </tr>\n",
       "    <tr>\n",
       "      <th>Tuesday</th>\n",
       "      <td>-1.22</td>\n",
       "      <td>1.17</td>\n",
       "      <td>Lost more on Negative days</td>\n",
       "    </tr>\n",
       "    <tr>\n",
       "      <th>Wednesday</th>\n",
       "      <td>-0.81</td>\n",
       "      <td>1.41</td>\n",
       "      <td>Gained more on Positive days</td>\n",
       "    </tr>\n",
       "    <tr>\n",
       "      <th>Thursday</th>\n",
       "      <td>-1.15</td>\n",
       "      <td>0.75</td>\n",
       "      <td>Lost more on Negative days</td>\n",
       "    </tr>\n",
       "    <tr>\n",
       "      <th>Friday</th>\n",
       "      <td>-1.05</td>\n",
       "      <td>1.38</td>\n",
       "      <td>Gained more on Positive days</td>\n",
       "    </tr>\n",
       "  </tbody>\n",
       "</table>\n",
       "</div>"
      ],
      "text/plain": [
       "           Mean Rn  Mean Rp            Mean Rn vs Mean Rp\n",
       "Monday       -0.76     0.63    Lost more on Negative days\n",
       "Tuesday      -1.22     1.17    Lost more on Negative days\n",
       "Wednesday    -0.81     1.41  Gained more on Positive days\n",
       "Thursday     -1.15     0.75    Lost more on Negative days\n",
       "Friday       -1.05     1.38  Gained more on Positive days"
      ]
     },
     "execution_count": 1860,
     "metadata": {},
     "output_type": "execute_result"
    }
   ],
   "source": [
    "df1_sap_2019[[\"Mean Rn\",\"Mean Rp\",\"Mean Rn vs Mean Rp\"]]"
   ]
  },
  {
   "cell_type": "markdown",
   "metadata": {},
   "source": [
    "#### 2020"
   ]
  },
  {
   "cell_type": "code",
   "execution_count": 1861,
   "metadata": {},
   "outputs": [
    {
     "data": {
      "text/html": [
       "<div>\n",
       "<style scoped>\n",
       "    .dataframe tbody tr th:only-of-type {\n",
       "        vertical-align: middle;\n",
       "    }\n",
       "\n",
       "    .dataframe tbody tr th {\n",
       "        vertical-align: top;\n",
       "    }\n",
       "\n",
       "    .dataframe thead th {\n",
       "        text-align: right;\n",
       "    }\n",
       "</style>\n",
       "<table border=\"1\" class=\"dataframe\">\n",
       "  <thead>\n",
       "    <tr style=\"text-align: right;\">\n",
       "      <th></th>\n",
       "      <th>Mean Rn</th>\n",
       "      <th>Mean Rp</th>\n",
       "      <th>Mean Rn vs Mean Rp</th>\n",
       "    </tr>\n",
       "  </thead>\n",
       "  <tbody>\n",
       "    <tr>\n",
       "      <th>Monday</th>\n",
       "      <td>-3.88</td>\n",
       "      <td>1.72</td>\n",
       "      <td>Lost more on Negative days</td>\n",
       "    </tr>\n",
       "    <tr>\n",
       "      <th>Tuesday</th>\n",
       "      <td>-1.36</td>\n",
       "      <td>1.89</td>\n",
       "      <td>Gained more on Positive days</td>\n",
       "    </tr>\n",
       "    <tr>\n",
       "      <th>Wednesday</th>\n",
       "      <td>-2.16</td>\n",
       "      <td>1.47</td>\n",
       "      <td>Lost more on Negative days</td>\n",
       "    </tr>\n",
       "    <tr>\n",
       "      <th>Thursday</th>\n",
       "      <td>-1.92</td>\n",
       "      <td>1.64</td>\n",
       "      <td>Lost more on Negative days</td>\n",
       "    </tr>\n",
       "    <tr>\n",
       "      <th>Friday</th>\n",
       "      <td>-1.10</td>\n",
       "      <td>1.37</td>\n",
       "      <td>Gained more on Positive days</td>\n",
       "    </tr>\n",
       "  </tbody>\n",
       "</table>\n",
       "</div>"
      ],
      "text/plain": [
       "           Mean Rn  Mean Rp            Mean Rn vs Mean Rp\n",
       "Monday       -3.88     1.72    Lost more on Negative days\n",
       "Tuesday      -1.36     1.89  Gained more on Positive days\n",
       "Wednesday    -2.16     1.47    Lost more on Negative days\n",
       "Thursday     -1.92     1.64    Lost more on Negative days\n",
       "Friday       -1.10     1.37  Gained more on Positive days"
      ]
     },
     "execution_count": 1861,
     "metadata": {},
     "output_type": "execute_result"
    }
   ],
   "source": [
    "df1_sap_2020[[\"Mean Rn\",\"Mean Rp\",\"Mean Rn vs Mean Rp\"]]"
   ]
  },
  {
   "cell_type": "markdown",
   "metadata": {},
   "source": [
    "#### SPY"
   ]
  },
  {
   "cell_type": "markdown",
   "metadata": {},
   "source": [
    "#### 2016"
   ]
  },
  {
   "cell_type": "code",
   "execution_count": 1862,
   "metadata": {
    "scrolled": true
   },
   "outputs": [
    {
     "data": {
      "text/html": [
       "<div>\n",
       "<style scoped>\n",
       "    .dataframe tbody tr th:only-of-type {\n",
       "        vertical-align: middle;\n",
       "    }\n",
       "\n",
       "    .dataframe tbody tr th {\n",
       "        vertical-align: top;\n",
       "    }\n",
       "\n",
       "    .dataframe thead th {\n",
       "        text-align: right;\n",
       "    }\n",
       "</style>\n",
       "<table border=\"1\" class=\"dataframe\">\n",
       "  <thead>\n",
       "    <tr style=\"text-align: right;\">\n",
       "      <th></th>\n",
       "      <th>Mean Rn</th>\n",
       "      <th>Mean Rp</th>\n",
       "      <th>Mean Rn vs Mean Rp</th>\n",
       "    </tr>\n",
       "  </thead>\n",
       "  <tbody>\n",
       "    <tr>\n",
       "      <th>Monday</th>\n",
       "      <td>-0.48</td>\n",
       "      <td>0.51</td>\n",
       "      <td>Gained more on Positive days</td>\n",
       "    </tr>\n",
       "    <tr>\n",
       "      <th>Tuesday</th>\n",
       "      <td>-0.70</td>\n",
       "      <td>0.61</td>\n",
       "      <td>Lost more on Negative days</td>\n",
       "    </tr>\n",
       "    <tr>\n",
       "      <th>Wednesday</th>\n",
       "      <td>-0.54</td>\n",
       "      <td>0.58</td>\n",
       "      <td>Gained more on Positive days</td>\n",
       "    </tr>\n",
       "    <tr>\n",
       "      <th>Thursday</th>\n",
       "      <td>-0.48</td>\n",
       "      <td>0.47</td>\n",
       "      <td>Lost more on Negative days</td>\n",
       "    </tr>\n",
       "    <tr>\n",
       "      <th>Friday</th>\n",
       "      <td>-0.68</td>\n",
       "      <td>0.67</td>\n",
       "      <td>Lost more on Negative days</td>\n",
       "    </tr>\n",
       "  </tbody>\n",
       "</table>\n",
       "</div>"
      ],
      "text/plain": [
       "           Mean Rn  Mean Rp            Mean Rn vs Mean Rp\n",
       "Monday       -0.48     0.51  Gained more on Positive days\n",
       "Tuesday      -0.70     0.61    Lost more on Negative days\n",
       "Wednesday    -0.54     0.58  Gained more on Positive days\n",
       "Thursday     -0.48     0.47    Lost more on Negative days\n",
       "Friday       -0.68     0.67    Lost more on Negative days"
      ]
     },
     "execution_count": 1862,
     "metadata": {},
     "output_type": "execute_result"
    }
   ],
   "source": [
    "df1_spy_2016[[\"Mean Rn\",\"Mean Rp\",\"Mean Rn vs Mean Rp\"]]"
   ]
  },
  {
   "cell_type": "markdown",
   "metadata": {},
   "source": [
    "#### 2017"
   ]
  },
  {
   "cell_type": "code",
   "execution_count": 1863,
   "metadata": {},
   "outputs": [
    {
     "data": {
      "text/html": [
       "<div>\n",
       "<style scoped>\n",
       "    .dataframe tbody tr th:only-of-type {\n",
       "        vertical-align: middle;\n",
       "    }\n",
       "\n",
       "    .dataframe tbody tr th {\n",
       "        vertical-align: top;\n",
       "    }\n",
       "\n",
       "    .dataframe thead th {\n",
       "        text-align: right;\n",
       "    }\n",
       "</style>\n",
       "<table border=\"1\" class=\"dataframe\">\n",
       "  <thead>\n",
       "    <tr style=\"text-align: right;\">\n",
       "      <th></th>\n",
       "      <th>Mean Rn</th>\n",
       "      <th>Mean Rp</th>\n",
       "      <th>Mean Rn vs Mean Rp</th>\n",
       "    </tr>\n",
       "  </thead>\n",
       "  <tbody>\n",
       "    <tr>\n",
       "      <th>Monday</th>\n",
       "      <td>-0.18</td>\n",
       "      <td>0.37</td>\n",
       "      <td>Gained more on Positive days</td>\n",
       "    </tr>\n",
       "    <tr>\n",
       "      <th>Tuesday</th>\n",
       "      <td>-0.32</td>\n",
       "      <td>0.34</td>\n",
       "      <td>Gained more on Positive days</td>\n",
       "    </tr>\n",
       "    <tr>\n",
       "      <th>Wednesday</th>\n",
       "      <td>-0.26</td>\n",
       "      <td>0.32</td>\n",
       "      <td>Gained more on Positive days</td>\n",
       "    </tr>\n",
       "    <tr>\n",
       "      <th>Thursday</th>\n",
       "      <td>-0.38</td>\n",
       "      <td>0.32</td>\n",
       "      <td>Lost more on Negative days</td>\n",
       "    </tr>\n",
       "    <tr>\n",
       "      <th>Friday</th>\n",
       "      <td>-0.16</td>\n",
       "      <td>0.33</td>\n",
       "      <td>Gained more on Positive days</td>\n",
       "    </tr>\n",
       "  </tbody>\n",
       "</table>\n",
       "</div>"
      ],
      "text/plain": [
       "           Mean Rn  Mean Rp            Mean Rn vs Mean Rp\n",
       "Monday       -0.18     0.37  Gained more on Positive days\n",
       "Tuesday      -0.32     0.34  Gained more on Positive days\n",
       "Wednesday    -0.26     0.32  Gained more on Positive days\n",
       "Thursday     -0.38     0.32    Lost more on Negative days\n",
       "Friday       -0.16     0.33  Gained more on Positive days"
      ]
     },
     "execution_count": 1863,
     "metadata": {},
     "output_type": "execute_result"
    }
   ],
   "source": [
    "df1_spy_2017[[\"Mean Rn\",\"Mean Rp\",\"Mean Rn vs Mean Rp\"]]"
   ]
  },
  {
   "cell_type": "markdown",
   "metadata": {},
   "source": [
    "#### 2018"
   ]
  },
  {
   "cell_type": "code",
   "execution_count": 1864,
   "metadata": {},
   "outputs": [
    {
     "data": {
      "text/html": [
       "<div>\n",
       "<style scoped>\n",
       "    .dataframe tbody tr th:only-of-type {\n",
       "        vertical-align: middle;\n",
       "    }\n",
       "\n",
       "    .dataframe tbody tr th {\n",
       "        vertical-align: top;\n",
       "    }\n",
       "\n",
       "    .dataframe thead th {\n",
       "        text-align: right;\n",
       "    }\n",
       "</style>\n",
       "<table border=\"1\" class=\"dataframe\">\n",
       "  <thead>\n",
       "    <tr style=\"text-align: right;\">\n",
       "      <th></th>\n",
       "      <th>Mean Rn</th>\n",
       "      <th>Mean Rp</th>\n",
       "      <th>Mean Rn vs Mean Rp</th>\n",
       "    </tr>\n",
       "  </thead>\n",
       "  <tbody>\n",
       "    <tr>\n",
       "      <th>Monday</th>\n",
       "      <td>-1.07</td>\n",
       "      <td>0.68</td>\n",
       "      <td>Lost more on Negative days</td>\n",
       "    </tr>\n",
       "    <tr>\n",
       "      <th>Tuesday</th>\n",
       "      <td>-0.77</td>\n",
       "      <td>0.56</td>\n",
       "      <td>Lost more on Negative days</td>\n",
       "    </tr>\n",
       "    <tr>\n",
       "      <th>Wednesday</th>\n",
       "      <td>-0.68</td>\n",
       "      <td>0.83</td>\n",
       "      <td>Gained more on Positive days</td>\n",
       "    </tr>\n",
       "    <tr>\n",
       "      <th>Thursday</th>\n",
       "      <td>-0.69</td>\n",
       "      <td>0.76</td>\n",
       "      <td>Gained more on Positive days</td>\n",
       "    </tr>\n",
       "    <tr>\n",
       "      <th>Friday</th>\n",
       "      <td>-0.91</td>\n",
       "      <td>0.58</td>\n",
       "      <td>Lost more on Negative days</td>\n",
       "    </tr>\n",
       "  </tbody>\n",
       "</table>\n",
       "</div>"
      ],
      "text/plain": [
       "           Mean Rn  Mean Rp            Mean Rn vs Mean Rp\n",
       "Monday       -1.07     0.68    Lost more on Negative days\n",
       "Tuesday      -0.77     0.56    Lost more on Negative days\n",
       "Wednesday    -0.68     0.83  Gained more on Positive days\n",
       "Thursday     -0.69     0.76  Gained more on Positive days\n",
       "Friday       -0.91     0.58    Lost more on Negative days"
      ]
     },
     "execution_count": 1864,
     "metadata": {},
     "output_type": "execute_result"
    }
   ],
   "source": [
    "df1_spy_2018[[\"Mean Rn\",\"Mean Rp\",\"Mean Rn vs Mean Rp\"]]"
   ]
  },
  {
   "cell_type": "markdown",
   "metadata": {},
   "source": [
    "#### 2019"
   ]
  },
  {
   "cell_type": "code",
   "execution_count": 1865,
   "metadata": {},
   "outputs": [
    {
     "data": {
      "text/html": [
       "<div>\n",
       "<style scoped>\n",
       "    .dataframe tbody tr th:only-of-type {\n",
       "        vertical-align: middle;\n",
       "    }\n",
       "\n",
       "    .dataframe tbody tr th {\n",
       "        vertical-align: top;\n",
       "    }\n",
       "\n",
       "    .dataframe thead th {\n",
       "        text-align: right;\n",
       "    }\n",
       "</style>\n",
       "<table border=\"1\" class=\"dataframe\">\n",
       "  <thead>\n",
       "    <tr style=\"text-align: right;\">\n",
       "      <th></th>\n",
       "      <th>Mean Rn</th>\n",
       "      <th>Mean Rp</th>\n",
       "      <th>Mean Rn vs Mean Rp</th>\n",
       "    </tr>\n",
       "  </thead>\n",
       "  <tbody>\n",
       "    <tr>\n",
       "      <th>Monday</th>\n",
       "      <td>-0.62</td>\n",
       "      <td>0.49</td>\n",
       "      <td>Lost more on Negative days</td>\n",
       "    </tr>\n",
       "    <tr>\n",
       "      <th>Tuesday</th>\n",
       "      <td>-0.54</td>\n",
       "      <td>0.61</td>\n",
       "      <td>Gained more on Positive days</td>\n",
       "    </tr>\n",
       "    <tr>\n",
       "      <th>Wednesday</th>\n",
       "      <td>-0.59</td>\n",
       "      <td>0.46</td>\n",
       "      <td>Lost more on Negative days</td>\n",
       "    </tr>\n",
       "    <tr>\n",
       "      <th>Thursday</th>\n",
       "      <td>-0.47</td>\n",
       "      <td>0.57</td>\n",
       "      <td>Gained more on Positive days</td>\n",
       "    </tr>\n",
       "    <tr>\n",
       "      <th>Friday</th>\n",
       "      <td>-0.61</td>\n",
       "      <td>0.70</td>\n",
       "      <td>Gained more on Positive days</td>\n",
       "    </tr>\n",
       "  </tbody>\n",
       "</table>\n",
       "</div>"
      ],
      "text/plain": [
       "           Mean Rn  Mean Rp            Mean Rn vs Mean Rp\n",
       "Monday       -0.62     0.49    Lost more on Negative days\n",
       "Tuesday      -0.54     0.61  Gained more on Positive days\n",
       "Wednesday    -0.59     0.46    Lost more on Negative days\n",
       "Thursday     -0.47     0.57  Gained more on Positive days\n",
       "Friday       -0.61     0.70  Gained more on Positive days"
      ]
     },
     "execution_count": 1865,
     "metadata": {},
     "output_type": "execute_result"
    }
   ],
   "source": [
    "df1_spy_2019[[\"Mean Rn\",\"Mean Rp\",\"Mean Rn vs Mean Rp\"]]"
   ]
  },
  {
   "cell_type": "markdown",
   "metadata": {},
   "source": [
    "#### 2020"
   ]
  },
  {
   "cell_type": "code",
   "execution_count": 1866,
   "metadata": {
    "scrolled": true
   },
   "outputs": [
    {
     "data": {
      "text/html": [
       "<div>\n",
       "<style scoped>\n",
       "    .dataframe tbody tr th:only-of-type {\n",
       "        vertical-align: middle;\n",
       "    }\n",
       "\n",
       "    .dataframe tbody tr th {\n",
       "        vertical-align: top;\n",
       "    }\n",
       "\n",
       "    .dataframe thead th {\n",
       "        text-align: right;\n",
       "    }\n",
       "</style>\n",
       "<table border=\"1\" class=\"dataframe\">\n",
       "  <thead>\n",
       "    <tr style=\"text-align: right;\">\n",
       "      <th></th>\n",
       "      <th>Mean Rn</th>\n",
       "      <th>Mean Rp</th>\n",
       "      <th>Mean Rn vs Mean Rp</th>\n",
       "    </tr>\n",
       "  </thead>\n",
       "  <tbody>\n",
       "    <tr>\n",
       "      <th>Monday</th>\n",
       "      <td>-2.25</td>\n",
       "      <td>1.35</td>\n",
       "      <td>Lost more on Negative days</td>\n",
       "    </tr>\n",
       "    <tr>\n",
       "      <th>Tuesday</th>\n",
       "      <td>-1.03</td>\n",
       "      <td>1.55</td>\n",
       "      <td>Gained more on Positive days</td>\n",
       "    </tr>\n",
       "    <tr>\n",
       "      <th>Wednesday</th>\n",
       "      <td>-1.63</td>\n",
       "      <td>1.19</td>\n",
       "      <td>Lost more on Negative days</td>\n",
       "    </tr>\n",
       "    <tr>\n",
       "      <th>Thursday</th>\n",
       "      <td>-1.55</td>\n",
       "      <td>0.90</td>\n",
       "      <td>Lost more on Negative days</td>\n",
       "    </tr>\n",
       "    <tr>\n",
       "      <th>Friday</th>\n",
       "      <td>-1.15</td>\n",
       "      <td>1.13</td>\n",
       "      <td>Lost more on Negative days</td>\n",
       "    </tr>\n",
       "  </tbody>\n",
       "</table>\n",
       "</div>"
      ],
      "text/plain": [
       "           Mean Rn  Mean Rp            Mean Rn vs Mean Rp\n",
       "Monday       -2.25     1.35    Lost more on Negative days\n",
       "Tuesday      -1.03     1.55  Gained more on Positive days\n",
       "Wednesday    -1.63     1.19    Lost more on Negative days\n",
       "Thursday     -1.55     0.90    Lost more on Negative days\n",
       "Friday       -1.15     1.13    Lost more on Negative days"
      ]
     },
     "execution_count": 1866,
     "metadata": {},
     "output_type": "execute_result"
    }
   ],
   "source": [
    "df1_spy_2020[[\"Mean Rn\",\"Mean Rp\",\"Mean Rn vs Mean Rp\"]]"
   ]
  },
  {
   "cell_type": "markdown",
   "metadata": {},
   "source": [
    "#### 5.are these results the same across days of the week?"
   ]
  },
  {
   "cell_type": "markdown",
   "metadata": {},
   "source": [
    "* **SAP**\n",
    "\n",
    "* **SPY**\n",
    "    \n",
    "The results are not same for both SAP and SPY, each year no. of up days and no of down days vary for both of them in respect to weekdays."
   ]
  },
  {
   "cell_type": "markdown",
   "metadata": {},
   "source": [
    "## Question 2"
   ]
  },
  {
   "cell_type": "markdown",
   "metadata": {},
   "source": [
    "### 1. are there any patterns across days of the week?"
   ]
  },
  {
   "cell_type": "markdown",
   "metadata": {},
   "source": [
    "* All though we see More positive days then negative days in generall across all days of the week for all 5 years, there is one pattern I see is that Mean Negative return is more than the Mean positive return on most days of the week for all 5 years."
   ]
  },
  {
   "cell_type": "markdown",
   "metadata": {},
   "source": [
    "### 2. are there any patterns across different years for the same day of the week?"
   ]
  },
  {
   "cell_type": "markdown",
   "metadata": {},
   "source": [
    "* **SAP** - Below are loss/gain average of 5 years for each day\n",
    "    * Mon - Majority loss on \n",
    "    * Tue - Majority Gain on \n",
    "    * Wed - Majority loss on\n",
    "    * Thur - Majority loss on\n",
    "    * Fri - Majority loss on\n",
    "\n",
    "\n",
    "For SAP has all 5 days as negative days as a majority for the year 2018.\n",
    "\n",
    "* **SPY** - Below are loss/gain average of 5 years for each day\n",
    "    * Mon - Majority loss on \n",
    "    * Tue - Majority Gain on \n",
    "    * Wed - Majority Gain on\n",
    "    * Thur - Majority loss on\n",
    "    * Fri - Majority loss on\n",
    "\n",
    "\n",
    "For SPY has all 4 days as positive days as a majority for the year 2017."
   ]
  },
  {
   "cell_type": "markdown",
   "metadata": {},
   "source": [
    "### 3. what are the best and worst days of the week to be invested for each year?"
   ]
  },
  {
   "cell_type": "code",
   "execution_count": 1867,
   "metadata": {},
   "outputs": [
    {
     "name": "stdout",
     "output_type": "stream",
     "text": [
      "\n",
      "Best and Worst days of the week year by year.\n",
      "\n"
     ]
    },
    {
     "data": {
      "text/html": [
       "<div>\n",
       "<style scoped>\n",
       "    .dataframe tbody tr th:only-of-type {\n",
       "        vertical-align: middle;\n",
       "    }\n",
       "\n",
       "    .dataframe tbody tr th {\n",
       "        vertical-align: top;\n",
       "    }\n",
       "\n",
       "    .dataframe thead th {\n",
       "        text-align: right;\n",
       "    }\n",
       "</style>\n",
       "<table border=\"1\" class=\"dataframe\">\n",
       "  <thead>\n",
       "    <tr style=\"text-align: right;\">\n",
       "      <th></th>\n",
       "      <th>0</th>\n",
       "      <th>1</th>\n",
       "      <th>2</th>\n",
       "      <th>3</th>\n",
       "      <th>4</th>\n",
       "    </tr>\n",
       "  </thead>\n",
       "  <tbody>\n",
       "    <tr>\n",
       "      <th>Year</th>\n",
       "      <td>2020</td>\n",
       "      <td>2019</td>\n",
       "      <td>2018</td>\n",
       "      <td>2017</td>\n",
       "      <td>2016</td>\n",
       "    </tr>\n",
       "    <tr>\n",
       "      <th>Best Day</th>\n",
       "      <td>Tue</td>\n",
       "      <td>Fri</td>\n",
       "      <td>Wed</td>\n",
       "      <td>Fri</td>\n",
       "      <td>Tue</td>\n",
       "    </tr>\n",
       "    <tr>\n",
       "      <th>Worst Day</th>\n",
       "      <td>Thur</td>\n",
       "      <td>Mon</td>\n",
       "      <td>Mon &amp; Fri</td>\n",
       "      <td>Thur</td>\n",
       "      <td>Fri</td>\n",
       "    </tr>\n",
       "  </tbody>\n",
       "</table>\n",
       "</div>"
      ],
      "text/plain": [
       "              0     1          2     3     4\n",
       "Year       2020  2019       2018  2017  2016\n",
       "Best Day    Tue   Fri        Wed   Fri   Tue\n",
       "Worst Day  Thur   Mon  Mon & Fri  Thur   Fri"
      ]
     },
     "execution_count": 1867,
     "metadata": {},
     "output_type": "execute_result"
    }
   ],
   "source": [
    "year = [2020,2019,2018,2017,2016]\n",
    "spy_b = [\"Tue\",\"Fri\",\"Wed\",\"Fri\",\"Tue\"]\n",
    "spy_w = [\"Thur\",\"Mon\",\"Mon & Fri\",\"Thur\",\"Fri\"]\n",
    "\n",
    "df_b_w_spy = pd.DataFrame([year, spy_b, spy_w], index=[\"Year\", \"Best Day\", \"Worst Day\"])\n",
    "print(\"\"\"\n",
    "Best and Worst days of the week year by year.\n",
    "\"\"\")\n",
    "\n",
    "df_b_w_spy"
   ]
  },
  {
   "cell_type": "code",
   "execution_count": 1868,
   "metadata": {},
   "outputs": [
    {
     "name": "stdout",
     "output_type": "stream",
     "text": [
      "\n",
      "Best and Worst days of the week year by year.\n",
      "\n"
     ]
    },
    {
     "data": {
      "text/html": [
       "<div>\n",
       "<style scoped>\n",
       "    .dataframe tbody tr th:only-of-type {\n",
       "        vertical-align: middle;\n",
       "    }\n",
       "\n",
       "    .dataframe tbody tr th {\n",
       "        vertical-align: top;\n",
       "    }\n",
       "\n",
       "    .dataframe thead th {\n",
       "        text-align: right;\n",
       "    }\n",
       "</style>\n",
       "<table border=\"1\" class=\"dataframe\">\n",
       "  <thead>\n",
       "    <tr style=\"text-align: right;\">\n",
       "      <th></th>\n",
       "      <th>0</th>\n",
       "      <th>1</th>\n",
       "      <th>2</th>\n",
       "      <th>3</th>\n",
       "      <th>4</th>\n",
       "    </tr>\n",
       "  </thead>\n",
       "  <tbody>\n",
       "    <tr>\n",
       "      <th>Year</th>\n",
       "      <td>2020</td>\n",
       "      <td>2019</td>\n",
       "      <td>2018</td>\n",
       "      <td>2017</td>\n",
       "      <td>2016</td>\n",
       "    </tr>\n",
       "    <tr>\n",
       "      <th>Best Day</th>\n",
       "      <td>Tue</td>\n",
       "      <td>Wed</td>\n",
       "      <td>Wed</td>\n",
       "      <td>Fri</td>\n",
       "      <td>Tue</td>\n",
       "    </tr>\n",
       "    <tr>\n",
       "      <th>Worst Day</th>\n",
       "      <td>Thur</td>\n",
       "      <td>Tue</td>\n",
       "      <td>Mon</td>\n",
       "      <td>Thur</td>\n",
       "      <td>Fri</td>\n",
       "    </tr>\n",
       "  </tbody>\n",
       "</table>\n",
       "</div>"
      ],
      "text/plain": [
       "              0     1     2     3     4\n",
       "Year       2020  2019  2018  2017  2016\n",
       "Best Day    Tue   Wed   Wed   Fri   Tue\n",
       "Worst Day  Thur   Tue   Mon  Thur   Fri"
      ]
     },
     "execution_count": 1868,
     "metadata": {},
     "output_type": "execute_result"
    }
   ],
   "source": [
    "sap_b = [\"Tue\",\"Wed\",\"Wed\",\"Fri\",\"Tue\"]\n",
    "sap_w = [\"Thur\",\"Tue\",\"Mon\",\"Thur\",\"Fri\"]\n",
    "\n",
    "df_b_w_sap = pd.DataFrame([year, sap_b, sap_w], index=[\"Year\", \"Best Day\", \"Worst Day\"])\n",
    "\n",
    "print(\"\"\"\n",
    "Best and Worst days of the week year by year.\n",
    "\"\"\")\n",
    "\n",
    "df_b_w_sap"
   ]
  },
  {
   "cell_type": "markdown",
   "metadata": {},
   "source": [
    "### 4. do these days change from year to year for your stock?"
   ]
  },
  {
   "cell_type": "markdown",
   "metadata": {},
   "source": [
    "#### SAP\n",
    "\n",
    "* Best\n",
    "    * Tuesday and Wednesday remains to be the best day over 5 years to invest\n",
    "    \n",
    "* Worst\n",
    "    * Thursday turns out to be the worst day over 5 years.\n",
    "    \n",
    "This days do change over the years."
   ]
  },
  {
   "cell_type": "markdown",
   "metadata": {},
   "source": [
    "#### SPY\n",
    "\n",
    "* Best\n",
    "    * Tuesday and Friday remains to be the best day over 5 years for SPY\n",
    "* Worst \n",
    "    * Monday remains to be the worst day to invest over 5 year in average.\n",
    "    \n",
    "This days do change over year - year."
   ]
  },
  {
   "cell_type": "markdown",
   "metadata": {},
   "source": [
    "## Question 3"
   ]
  },
  {
   "cell_type": "markdown",
   "metadata": {},
   "source": [
    "### 1. what is the best and worst days of the week for each?"
   ]
  },
  {
   "cell_type": "code",
   "execution_count": 1869,
   "metadata": {},
   "outputs": [
    {
     "data": {
      "text/html": [
       "<div>\n",
       "<style scoped>\n",
       "    .dataframe tbody tr th:only-of-type {\n",
       "        vertical-align: middle;\n",
       "    }\n",
       "\n",
       "    .dataframe tbody tr th {\n",
       "        vertical-align: top;\n",
       "    }\n",
       "\n",
       "    .dataframe thead th {\n",
       "        text-align: right;\n",
       "    }\n",
       "</style>\n",
       "<table border=\"1\" class=\"dataframe\">\n",
       "  <thead>\n",
       "    <tr style=\"text-align: right;\">\n",
       "      <th></th>\n",
       "      <th>R</th>\n",
       "      <th>Mean R</th>\n",
       "      <th>Std R</th>\n",
       "      <th>Rn</th>\n",
       "      <th>Mean Rn</th>\n",
       "      <th>Std Rn</th>\n",
       "      <th>Rp</th>\n",
       "      <th>Mean Rp</th>\n",
       "      <th>Std Rp</th>\n",
       "      <th>Rn vs Rp</th>\n",
       "      <th>Mean Rn vs Mean Rp</th>\n",
       "    </tr>\n",
       "  </thead>\n",
       "  <tbody>\n",
       "    <tr>\n",
       "      <th>Monday</th>\n",
       "      <td>236.0</td>\n",
       "      <td>-0.04</td>\n",
       "      <td>2.24</td>\n",
       "      <td>110.0</td>\n",
       "      <td>-1.30</td>\n",
       "      <td>2.55</td>\n",
       "      <td>126.0</td>\n",
       "      <td>1.06</td>\n",
       "      <td>1.07</td>\n",
       "      <td>More Positive</td>\n",
       "      <td>Lost more on Negative days</td>\n",
       "    </tr>\n",
       "    <tr>\n",
       "      <th>Tuesday</th>\n",
       "      <td>258.0</td>\n",
       "      <td>0.12</td>\n",
       "      <td>1.54</td>\n",
       "      <td>126.0</td>\n",
       "      <td>-0.99</td>\n",
       "      <td>0.97</td>\n",
       "      <td>132.0</td>\n",
       "      <td>1.18</td>\n",
       "      <td>1.20</td>\n",
       "      <td>More Positive</td>\n",
       "      <td>Gained more on Positive days</td>\n",
       "    </tr>\n",
       "    <tr>\n",
       "      <th>Wednesday</th>\n",
       "      <td>257.0</td>\n",
       "      <td>0.23</td>\n",
       "      <td>1.70</td>\n",
       "      <td>104.0</td>\n",
       "      <td>-1.11</td>\n",
       "      <td>1.28</td>\n",
       "      <td>153.0</td>\n",
       "      <td>1.13</td>\n",
       "      <td>1.30</td>\n",
       "      <td>More Positive</td>\n",
       "      <td>Gained more on Positive days</td>\n",
       "    </tr>\n",
       "    <tr>\n",
       "      <th>Thursday</th>\n",
       "      <td>255.0</td>\n",
       "      <td>-0.09</td>\n",
       "      <td>1.67</td>\n",
       "      <td>121.0</td>\n",
       "      <td>-1.22</td>\n",
       "      <td>1.45</td>\n",
       "      <td>134.0</td>\n",
       "      <td>0.93</td>\n",
       "      <td>1.09</td>\n",
       "      <td>More Positive</td>\n",
       "      <td>Lost more on Negative days</td>\n",
       "    </tr>\n",
       "    <tr>\n",
       "      <th>Friday</th>\n",
       "      <td>253.0</td>\n",
       "      <td>0.09</td>\n",
       "      <td>1.55</td>\n",
       "      <td>107.0</td>\n",
       "      <td>-1.12</td>\n",
       "      <td>1.16</td>\n",
       "      <td>146.0</td>\n",
       "      <td>0.99</td>\n",
       "      <td>1.14</td>\n",
       "      <td>More Positive</td>\n",
       "      <td>Lost more on Negative days</td>\n",
       "    </tr>\n",
       "  </tbody>\n",
       "</table>\n",
       "</div>"
      ],
      "text/plain": [
       "               R  Mean R  Std R     Rn  Mean Rn  Std Rn     Rp  Mean Rp  \\\n",
       "Monday     236.0   -0.04   2.24  110.0    -1.30    2.55  126.0     1.06   \n",
       "Tuesday    258.0    0.12   1.54  126.0    -0.99    0.97  132.0     1.18   \n",
       "Wednesday  257.0    0.23   1.70  104.0    -1.11    1.28  153.0     1.13   \n",
       "Thursday   255.0   -0.09   1.67  121.0    -1.22    1.45  134.0     0.93   \n",
       "Friday     253.0    0.09   1.55  107.0    -1.12    1.16  146.0     0.99   \n",
       "\n",
       "           Std Rp       Rn vs Rp            Mean Rn vs Mean Rp  \n",
       "Monday       1.07  More Positive    Lost more on Negative days  \n",
       "Tuesday      1.20  More Positive  Gained more on Positive days  \n",
       "Wednesday    1.30  More Positive  Gained more on Positive days  \n",
       "Thursday     1.09  More Positive    Lost more on Negative days  \n",
       "Friday       1.14  More Positive    Lost more on Negative days  "
      ]
     },
     "execution_count": 1869,
     "metadata": {},
     "output_type": "execute_result"
    }
   ],
   "source": [
    "sap_5y = pd.DataFrame()\n",
    "for j in weekdays:\n",
    "    sap_5y = pd.concat([sap_5y, calMean(df_sap,j)])\n",
    "sap_5y"
   ]
  },
  {
   "cell_type": "markdown",
   "metadata": {},
   "source": [
    "#### SAP\n",
    "\n",
    "* Best Day = Wednesday\n",
    "* Worst Day = Thursday"
   ]
  },
  {
   "cell_type": "code",
   "execution_count": 1870,
   "metadata": {},
   "outputs": [
    {
     "data": {
      "text/html": [
       "<div>\n",
       "<style scoped>\n",
       "    .dataframe tbody tr th:only-of-type {\n",
       "        vertical-align: middle;\n",
       "    }\n",
       "\n",
       "    .dataframe tbody tr th {\n",
       "        vertical-align: top;\n",
       "    }\n",
       "\n",
       "    .dataframe thead th {\n",
       "        text-align: right;\n",
       "    }\n",
       "</style>\n",
       "<table border=\"1\" class=\"dataframe\">\n",
       "  <thead>\n",
       "    <tr style=\"text-align: right;\">\n",
       "      <th></th>\n",
       "      <th>R</th>\n",
       "      <th>Mean R</th>\n",
       "      <th>Std R</th>\n",
       "      <th>Rn</th>\n",
       "      <th>Mean Rn</th>\n",
       "      <th>Std Rn</th>\n",
       "      <th>Rp</th>\n",
       "      <th>Mean Rp</th>\n",
       "      <th>Std Rp</th>\n",
       "      <th>Rn vs Rp</th>\n",
       "      <th>Mean Rn vs Mean Rp</th>\n",
       "    </tr>\n",
       "  </thead>\n",
       "  <tbody>\n",
       "    <tr>\n",
       "      <th>Monday</th>\n",
       "      <td>236.0</td>\n",
       "      <td>0.05</td>\n",
       "      <td>1.39</td>\n",
       "      <td>99.0</td>\n",
       "      <td>-0.86</td>\n",
       "      <td>1.49</td>\n",
       "      <td>137.0</td>\n",
       "      <td>0.71</td>\n",
       "      <td>0.85</td>\n",
       "      <td>More Positive</td>\n",
       "      <td>Lost more on Negative days</td>\n",
       "    </tr>\n",
       "    <tr>\n",
       "      <th>Tuesday</th>\n",
       "      <td>258.0</td>\n",
       "      <td>0.12</td>\n",
       "      <td>1.15</td>\n",
       "      <td>112.0</td>\n",
       "      <td>-0.67</td>\n",
       "      <td>0.70</td>\n",
       "      <td>146.0</td>\n",
       "      <td>0.73</td>\n",
       "      <td>1.05</td>\n",
       "      <td>More Positive</td>\n",
       "      <td>Gained more on Positive days</td>\n",
       "    </tr>\n",
       "    <tr>\n",
       "      <th>Wednesday</th>\n",
       "      <td>257.0</td>\n",
       "      <td>0.09</td>\n",
       "      <td>1.11</td>\n",
       "      <td>106.0</td>\n",
       "      <td>-0.74</td>\n",
       "      <td>1.02</td>\n",
       "      <td>151.0</td>\n",
       "      <td>0.67</td>\n",
       "      <td>0.75</td>\n",
       "      <td>More Positive</td>\n",
       "      <td>Lost more on Negative days</td>\n",
       "    </tr>\n",
       "    <tr>\n",
       "      <th>Thursday</th>\n",
       "      <td>255.0</td>\n",
       "      <td>-0.00</td>\n",
       "      <td>1.17</td>\n",
       "      <td>117.0</td>\n",
       "      <td>-0.71</td>\n",
       "      <td>1.25</td>\n",
       "      <td>138.0</td>\n",
       "      <td>0.60</td>\n",
       "      <td>0.64</td>\n",
       "      <td>More Positive</td>\n",
       "      <td>Lost more on Negative days</td>\n",
       "    </tr>\n",
       "    <tr>\n",
       "      <th>Friday</th>\n",
       "      <td>253.0</td>\n",
       "      <td>0.06</td>\n",
       "      <td>1.11</td>\n",
       "      <td>111.0</td>\n",
       "      <td>-0.73</td>\n",
       "      <td>0.85</td>\n",
       "      <td>142.0</td>\n",
       "      <td>0.67</td>\n",
       "      <td>0.89</td>\n",
       "      <td>More Positive</td>\n",
       "      <td>Lost more on Negative days</td>\n",
       "    </tr>\n",
       "  </tbody>\n",
       "</table>\n",
       "</div>"
      ],
      "text/plain": [
       "               R  Mean R  Std R     Rn  Mean Rn  Std Rn     Rp  Mean Rp  \\\n",
       "Monday     236.0    0.05   1.39   99.0    -0.86    1.49  137.0     0.71   \n",
       "Tuesday    258.0    0.12   1.15  112.0    -0.67    0.70  146.0     0.73   \n",
       "Wednesday  257.0    0.09   1.11  106.0    -0.74    1.02  151.0     0.67   \n",
       "Thursday   255.0   -0.00   1.17  117.0    -0.71    1.25  138.0     0.60   \n",
       "Friday     253.0    0.06   1.11  111.0    -0.73    0.85  142.0     0.67   \n",
       "\n",
       "           Std Rp       Rn vs Rp            Mean Rn vs Mean Rp  \n",
       "Monday       0.85  More Positive    Lost more on Negative days  \n",
       "Tuesday      1.05  More Positive  Gained more on Positive days  \n",
       "Wednesday    0.75  More Positive    Lost more on Negative days  \n",
       "Thursday     0.64  More Positive    Lost more on Negative days  \n",
       "Friday       0.89  More Positive    Lost more on Negative days  "
      ]
     },
     "execution_count": 1870,
     "metadata": {},
     "output_type": "execute_result"
    }
   ],
   "source": [
    "spy_5y = pd.DataFrame()\n",
    "for j in weekdays:\n",
    "    spy_5y = pd.concat([spy_5y, calMean(df_spy,j)])  \n",
    "spy_5y"
   ]
  },
  {
   "cell_type": "markdown",
   "metadata": {},
   "source": [
    "#### SPY\n",
    "\n",
    "* Best Day = Tuesday\n",
    "* Worst Day = Thursday"
   ]
  },
  {
   "cell_type": "markdown",
   "metadata": {},
   "source": [
    "### 2. are these days the same for your stock as they are for S&P-500?"
   ]
  },
  {
   "cell_type": "markdown",
   "metadata": {},
   "source": [
    "No, SAP's best day is different then that of SPY-500, but SAP's worst day matches that of SPY-500"
   ]
  },
  {
   "cell_type": "markdown",
   "metadata": {},
   "source": [
    "### 3. If daily returns were normally distributed with mean and standard de-viation"
   ]
  },
  {
   "cell_type": "code",
   "execution_count": 1871,
   "metadata": {},
   "outputs": [],
   "source": [
    "sap_n1 = np.mean(df_sap[\"Return\"]) - (2 * np.std(df_sap[\"Return\"]))\n",
    "sap_n2 = np.mean(df_sap[\"Return\"]) + (2 * np.std(df_sap[\"Return\"]))"
   ]
  },
  {
   "cell_type": "code",
   "execution_count": 1872,
   "metadata": {},
   "outputs": [],
   "source": [
    "spy_n1 = np.mean(df_spy[\"Return\"]) - (2 * np.std(df_spy[\"Return\"]) )\n",
    "spy_n2 = np.mean(df_spy[\"Return\"]) + (2 * np.std(df_spy[\"Return\"]) )"
   ]
  },
  {
   "cell_type": "code",
   "execution_count": 1873,
   "metadata": {},
   "outputs": [],
   "source": [
    "sap_day = np.where((df_sap[\"Return\"] < sap_n1) | (df_sap[\"Return\"] > sap_n2),1,0)\n",
    "spy_day = np.where((df_spy[\"Return\"] < spy_n1) | (df_spy[\"Return\"] > spy_n2),1,0)"
   ]
  },
  {
   "cell_type": "code",
   "execution_count": 1981,
   "metadata": {},
   "outputs": [
    {
     "name": "stdout",
     "output_type": "stream",
     "text": [
      "\n",
      "For SAP normally distributed days: 53 \n",
      "distribution percentage 4.21%\n",
      "\n",
      "For SPY normally distributed days: 58 \n",
      "distribution percentage 4.61%\n",
      "\n"
     ]
    }
   ],
   "source": [
    "print(f\"\"\"\n",
    "For SAP normally distributed days: {sap_day.sum()} \n",
    "distribution percentage {round(sap_day.sum()/len(sap_day)*100,2)}%\n",
    "\n",
    "For SPY normally distributed days: {spy_day.sum()} \n",
    "distribution percentage {round(spy_day.sum()/len(spy_day)*100,2)}%\n",
    "\"\"\")"
   ]
  },
  {
   "cell_type": "markdown",
   "metadata": {},
   "source": [
    "## Question 4"
   ]
  },
  {
   "cell_type": "code",
   "execution_count": 1875,
   "metadata": {},
   "outputs": [],
   "source": [
    "def invCal(amt,daily_ret):\n",
    "    amount = amt\n",
    "    for i in range(len(daily_ret)):\n",
    "        if daily_ret[i] >= 0:\n",
    "            amount = amount * (1 + daily_ret[i])\n",
    "        else:\n",
    "            amount\n",
    "    return amount"
   ]
  },
  {
   "cell_type": "markdown",
   "metadata": {},
   "source": [
    "#### Let p = 1"
   ]
  },
  {
   "cell_type": "markdown",
   "metadata": {},
   "source": [
    "#### 1. Your Stock"
   ]
  },
  {
   "cell_type": "code",
   "execution_count": 1982,
   "metadata": {},
   "outputs": [
    {
     "name": "stdout",
     "output_type": "stream",
     "text": [
      "SAP investment from $100 after 5 years went upto $137488.43\n"
     ]
    }
   ],
   "source": [
    "sap_p1_return = round(invCal(100,df_sap[\"Return\"]),2)\n",
    "print(f\"SAP investment from $100 after 5 years went upto ${sap_p1_return}\")"
   ]
  },
  {
   "cell_type": "markdown",
   "metadata": {},
   "source": [
    "#### 2. S&P-500"
   ]
  },
  {
   "cell_type": "code",
   "execution_count": 1983,
   "metadata": {},
   "outputs": [
    {
     "name": "stdout",
     "output_type": "stream",
     "text": [
      "SAP investment from $100 after 5 years went to $12045.96\n"
     ]
    }
   ],
   "source": [
    "spy_p1_return = round(invCal(100,df_spy[\"Return\"]),2)\n",
    "print(f\"SAP investment from $100 after 5 years went to ${spy_p1_return}\")"
   ]
  },
  {
   "cell_type": "markdown",
   "metadata": {},
   "source": [
    "#### 3. take the last two digits of your BU id"
   ]
  },
  {
   "cell_type": "code",
   "execution_count": 1878,
   "metadata": {},
   "outputs": [
    {
     "name": "stdout",
     "output_type": "stream",
     "text": [
      "It will take 54 days for SAP stock to get to the amount of $100 + $25(BU ID)\n"
     ]
    }
   ],
   "source": [
    "amt = 100\n",
    "bu_amt = amt + 25\n",
    "sap_day_count = 0\n",
    "\n",
    "for i in range(len(df_sap[\"Return\"])):\n",
    "        if df_sap[\"Return\"][i] >= 0:\n",
    "            amt = amt * (1 + df_sap[\"Return\"][i])\n",
    "            sap_day_count += 1\n",
    "        if amt >= bu_amt:\n",
    "            break\n",
    "        else:\n",
    "            sap_day_count += 1\n",
    "print(f\"It will take {sap_day_count} days for SAP stock to get to the amount of $100 + $25(BU ID)\")\n"
   ]
  },
  {
   "cell_type": "code",
   "execution_count": 1879,
   "metadata": {},
   "outputs": [
    {
     "name": "stdout",
     "output_type": "stream",
     "text": [
      "It will take 66 days for SPY-500 stock to get to the amount of $100 + $25(BU ID)\n"
     ]
    }
   ],
   "source": [
    "amt = 100\n",
    "bu_amt = amt + 25\n",
    "spy_day_count = 0\n",
    "\n",
    "for i in range(len(df_spy[\"Return\"])):\n",
    "        if df_spy[\"Return\"][i] >= 0:\n",
    "            amt = amt * (1 + df_spy[\"Return\"][i])\n",
    "            spy_day_count += 1\n",
    "        if amt >= bu_amt:\n",
    "            break\n",
    "        else:\n",
    "            spy_day_count += 1\n",
    "print(f\"It will take {spy_day_count} days for SPY-500 stock to get to the amount of $100 + $25(BU ID)\")"
   ]
  },
  {
   "cell_type": "markdown",
   "metadata": {},
   "source": [
    "## Question 5"
   ]
  },
  {
   "cell_type": "code",
   "execution_count": 1880,
   "metadata": {},
   "outputs": [],
   "source": [
    "def invBHCal(amt,daily_ret):\n",
    "    amount = amt\n",
    "    for i in range(len(daily_ret)):\n",
    "        amount = amount * (1 + daily_ret[i])\n",
    "    return amount"
   ]
  },
  {
   "cell_type": "markdown",
   "metadata": {},
   "source": [
    "#### 1. how much money will you have on the last trading day of year 5?"
   ]
  },
  {
   "cell_type": "code",
   "execution_count": 1881,
   "metadata": {},
   "outputs": [
    {
     "name": "stdout",
     "output_type": "stream",
     "text": [
      "\n",
      "For Buy and Hold investment return for SAP: $181.81\n",
      "For Buy and Hold investment return for SPY-500: $204.85\n",
      "\n"
     ]
    }
   ],
   "source": [
    "sap_BH_5 = round(invBHCal(100,df_sap[\"Return\"]),2)\n",
    "spy_BH_5 = round(invBHCal(100,df_spy[\"Return\"]),2)\n",
    "\n",
    "print(f\"\"\"\n",
    "For Buy and Hold investment return for SAP: ${sap_BH_5}\n",
    "For Buy and Hold investment return for SPY-500: ${spy_BH_5}\n",
    "\"\"\")"
   ]
  },
  {
   "cell_type": "markdown",
   "metadata": {},
   "source": [
    "#### 2. how do these results compare with results obtained in question 4?"
   ]
  },
  {
   "cell_type": "code",
   "execution_count": 1882,
   "metadata": {},
   "outputs": [
    {
     "data": {
      "text/html": [
       "<div>\n",
       "<style scoped>\n",
       "    .dataframe tbody tr th:only-of-type {\n",
       "        vertical-align: middle;\n",
       "    }\n",
       "\n",
       "    .dataframe tbody tr th {\n",
       "        vertical-align: top;\n",
       "    }\n",
       "\n",
       "    .dataframe thead th {\n",
       "        text-align: right;\n",
       "    }\n",
       "</style>\n",
       "<table border=\"1\" class=\"dataframe\">\n",
       "  <thead>\n",
       "    <tr style=\"text-align: right;\">\n",
       "      <th></th>\n",
       "      <th>Strategy</th>\n",
       "      <th>SAP</th>\n",
       "      <th>SPY</th>\n",
       "    </tr>\n",
       "  </thead>\n",
       "  <tbody>\n",
       "    <tr>\n",
       "      <th>1</th>\n",
       "      <td>Buy &amp; Hold</td>\n",
       "      <td>181.81</td>\n",
       "      <td>204.85</td>\n",
       "    </tr>\n",
       "    <tr>\n",
       "      <th>2</th>\n",
       "      <td>P1</td>\n",
       "      <td>137488.43</td>\n",
       "      <td>12045.96</td>\n",
       "    </tr>\n",
       "  </tbody>\n",
       "</table>\n",
       "</div>"
      ],
      "text/plain": [
       "     Strategy        SAP       SPY\n",
       "1  Buy & Hold     181.81    204.85\n",
       "2          P1  137488.43  12045.96"
      ]
     },
     "execution_count": 1882,
     "metadata": {},
     "output_type": "execute_result"
    }
   ],
   "source": [
    "bh_p_df = pd.DataFrame({\"Strategy\":[\"Buy & Hold\",\"P1\"], \"SAP\":[sap_BH_5,sap_p1_return], \"SPY\":[spy_BH_5,spy_p1_return]}, index=[1,2])\n",
    "bh_p_df"
   ]
  },
  {
   "cell_type": "markdown",
   "metadata": {},
   "source": [
    "#### 3. Summer Vacation for your stock?"
   ]
  },
  {
   "cell_type": "code",
   "execution_count": 1883,
   "metadata": {},
   "outputs": [
    {
     "data": {
      "text/plain": [
       "129.4"
      ]
     },
     "execution_count": 1883,
     "metadata": {},
     "output_type": "execute_result"
    }
   ],
   "source": [
    "sap_summer_df = pd.concat([df_sap[df_sap[\"Month\"] < 6],df_sap[df_sap[\"Month\"] > 8]]).reset_index(drop=True)\n",
    "sap_summer = round(invBHCal(100,sap_summer_df[\"Return\"]),2)\n",
    "sap_summer"
   ]
  },
  {
   "cell_type": "code",
   "execution_count": 1884,
   "metadata": {},
   "outputs": [
    {
     "data": {
      "text/plain": [
       "144.17"
      ]
     },
     "execution_count": 1884,
     "metadata": {},
     "output_type": "execute_result"
    }
   ],
   "source": [
    "spy_summer_df = pd.concat([df_spy[df_spy[\"Month\"] < 6],df_spy[df_spy[\"Month\"] > 8]]).reset_index(drop=True)\n",
    "spy_summer = round(invBHCal(100,spy_summer_df[\"Return\"]),2) \n",
    "spy_summer"
   ]
  },
  {
   "cell_type": "code",
   "execution_count": 1885,
   "metadata": {},
   "outputs": [
    {
     "name": "stdout",
     "output_type": "stream",
     "text": [
      "This is not a good strategy as overall profits have shrinked\n"
     ]
    },
    {
     "data": {
      "text/html": [
       "<div>\n",
       "<style scoped>\n",
       "    .dataframe tbody tr th:only-of-type {\n",
       "        vertical-align: middle;\n",
       "    }\n",
       "\n",
       "    .dataframe tbody tr th {\n",
       "        vertical-align: top;\n",
       "    }\n",
       "\n",
       "    .dataframe thead th {\n",
       "        text-align: right;\n",
       "    }\n",
       "</style>\n",
       "<table border=\"1\" class=\"dataframe\">\n",
       "  <thead>\n",
       "    <tr style=\"text-align: right;\">\n",
       "      <th></th>\n",
       "      <th>Strategy</th>\n",
       "      <th>SAP</th>\n",
       "      <th>SPY</th>\n",
       "    </tr>\n",
       "  </thead>\n",
       "  <tbody>\n",
       "    <tr>\n",
       "      <th>1</th>\n",
       "      <td>Buy &amp; Hold</td>\n",
       "      <td>181.81</td>\n",
       "      <td>204.85</td>\n",
       "    </tr>\n",
       "    <tr>\n",
       "      <th>2</th>\n",
       "      <td>Buy &amp; Hold with Summer Vacation</td>\n",
       "      <td>129.40</td>\n",
       "      <td>144.17</td>\n",
       "    </tr>\n",
       "  </tbody>\n",
       "</table>\n",
       "</div>"
      ],
      "text/plain": [
       "                          Strategy     SAP     SPY\n",
       "1                       Buy & Hold  181.81  204.85\n",
       "2  Buy & Hold with Summer Vacation  129.40  144.17"
      ]
     },
     "execution_count": 1885,
     "metadata": {},
     "output_type": "execute_result"
    }
   ],
   "source": [
    "print(\"This is not a good strategy as overall profits have shrinked\")\n",
    "pd.DataFrame({\"Strategy\":[\"Buy & Hold\",\"Buy & Hold with Summer Vacation\"],\\\n",
    "              \"SAP\":[sap_BH_5,sap_summer], \"SPY\":[spy_BH_5,spy_summer]}, index=[1,2])"
   ]
  },
  {
   "cell_type": "markdown",
   "metadata": {},
   "source": [
    "#### 4. Monthly Vacation for your stock?"
   ]
  },
  {
   "cell_type": "code",
   "execution_count": 1886,
   "metadata": {},
   "outputs": [],
   "source": [
    "strategy_name = []\n",
    "for i in range(1,13):\n",
    "    strategy_name.append (\"B&H without \" + calendar.month_name[i])"
   ]
  },
  {
   "cell_type": "code",
   "execution_count": 1887,
   "metadata": {},
   "outputs": [],
   "source": [
    "sap_month = []\n",
    "spy_month = []\n",
    "for i in range(1,13):\n",
    "    sap_month.append(round(invBHCal(100,df_sap[df_sap[\"Month\"] != i].reset_index(drop=True)[\"Return\"]),2))\n",
    "    spy_month.append(round(invBHCal(100,df_spy[df_sap[\"Month\"] != i].reset_index(drop=True)[\"Return\"]),2))"
   ]
  },
  {
   "cell_type": "code",
   "execution_count": 1888,
   "metadata": {},
   "outputs": [
    {
     "data": {
      "text/html": [
       "<div>\n",
       "<style scoped>\n",
       "    .dataframe tbody tr th:only-of-type {\n",
       "        vertical-align: middle;\n",
       "    }\n",
       "\n",
       "    .dataframe tbody tr th {\n",
       "        vertical-align: top;\n",
       "    }\n",
       "\n",
       "    .dataframe thead th {\n",
       "        text-align: right;\n",
       "    }\n",
       "</style>\n",
       "<table border=\"1\" class=\"dataframe\">\n",
       "  <thead>\n",
       "    <tr style=\"text-align: right;\">\n",
       "      <th></th>\n",
       "      <th>Strategy</th>\n",
       "      <th>SAP</th>\n",
       "      <th>SPY</th>\n",
       "    </tr>\n",
       "  </thead>\n",
       "  <tbody>\n",
       "    <tr>\n",
       "      <th>0</th>\n",
       "      <td>Buy and Hold(B&amp;H)</td>\n",
       "      <td>181.81</td>\n",
       "      <td>204.85</td>\n",
       "    </tr>\n",
       "    <tr>\n",
       "      <th>1</th>\n",
       "      <td>B&amp;H without January</td>\n",
       "      <td>162.43</td>\n",
       "      <td>183.11</td>\n",
       "    </tr>\n",
       "    <tr>\n",
       "      <th>2</th>\n",
       "      <td>B&amp;H without February</td>\n",
       "      <td>209.39</td>\n",
       "      <td>215.33</td>\n",
       "    </tr>\n",
       "    <tr>\n",
       "      <th>3</th>\n",
       "      <td>B&amp;H without March</td>\n",
       "      <td>166.69</td>\n",
       "      <td>221.22</td>\n",
       "    </tr>\n",
       "    <tr>\n",
       "      <th>4</th>\n",
       "      <td>B&amp;H without April</td>\n",
       "      <td>144.43</td>\n",
       "      <td>171.35</td>\n",
       "    </tr>\n",
       "    <tr>\n",
       "      <th>5</th>\n",
       "      <td>B&amp;H without May</td>\n",
       "      <td>145.35</td>\n",
       "      <td>197.70</td>\n",
       "    </tr>\n",
       "    <tr>\n",
       "      <th>6</th>\n",
       "      <td>B&amp;H without June</td>\n",
       "      <td>162.08</td>\n",
       "      <td>185.28</td>\n",
       "    </tr>\n",
       "    <tr>\n",
       "      <th>7</th>\n",
       "      <td>B&amp;H without July</td>\n",
       "      <td>150.40</td>\n",
       "      <td>173.73</td>\n",
       "    </tr>\n",
       "    <tr>\n",
       "      <th>8</th>\n",
       "      <td>B&amp;H without August</td>\n",
       "      <td>175.46</td>\n",
       "      <td>187.95</td>\n",
       "    </tr>\n",
       "    <tr>\n",
       "      <th>9</th>\n",
       "      <td>B&amp;H without September</td>\n",
       "      <td>174.95</td>\n",
       "      <td>203.41</td>\n",
       "    </tr>\n",
       "    <tr>\n",
       "      <th>10</th>\n",
       "      <td>B&amp;H without October</td>\n",
       "      <td>270.12</td>\n",
       "      <td>219.53</td>\n",
       "    </tr>\n",
       "    <tr>\n",
       "      <th>11</th>\n",
       "      <td>B&amp;H without November</td>\n",
       "      <td>171.99</td>\n",
       "      <td>163.83</td>\n",
       "    </tr>\n",
       "    <tr>\n",
       "      <th>12</th>\n",
       "      <td>B&amp;H without December</td>\n",
       "      <td>173.41</td>\n",
       "      <td>203.83</td>\n",
       "    </tr>\n",
       "  </tbody>\n",
       "</table>\n",
       "</div>"
      ],
      "text/plain": [
       "                 Strategy     SAP     SPY\n",
       "0       Buy and Hold(B&H)  181.81  204.85\n",
       "1     B&H without January  162.43  183.11\n",
       "2    B&H without February  209.39  215.33\n",
       "3       B&H without March  166.69  221.22\n",
       "4       B&H without April  144.43  171.35\n",
       "5         B&H without May  145.35  197.70\n",
       "6        B&H without June  162.08  185.28\n",
       "7        B&H without July  150.40  173.73\n",
       "8      B&H without August  175.46  187.95\n",
       "9   B&H without September  174.95  203.41\n",
       "10    B&H without October  270.12  219.53\n",
       "11   B&H without November  171.99  163.83\n",
       "12   B&H without December  173.41  203.83"
      ]
     },
     "execution_count": 1888,
     "metadata": {},
     "output_type": "execute_result"
    }
   ],
   "source": [
    "month_df = pd.concat([pd.DataFrame({\"Strategy\":\"Buy and Hold(B&H)\",\"SAP\":[sap_BH_5], \"SPY\":[spy_BH_5]}, index=[1]),\\\n",
    "          pd.DataFrame(list(zip(strategy_name,sap_month,spy_month)), columns=[\"Strategy\",\"SAP\",\"SPY\"])]).reset_index(drop=True)\n",
    "month_df"
   ]
  },
  {
   "cell_type": "markdown",
   "metadata": {},
   "source": [
    "* SAP Best Month to avoid **October** and Worst Month avoid **April**\n",
    "* SPY-500 Best Month avoid **March** and Worst Month avoid **November**\n"
   ]
  },
  {
   "cell_type": "markdown",
   "metadata": {},
   "source": [
    "## Question 6"
   ]
  },
  {
   "cell_type": "code",
   "execution_count": 1968,
   "metadata": {},
   "outputs": [],
   "source": [
    "def invPCal(amt,daily_ret,p):\n",
    "    amount = amt\n",
    "    for i in range(len(daily_ret)):\n",
    "        rand = random.random()\n",
    "        if p==1:\n",
    "            if daily_ret[i] >= 0:\n",
    "                amount = amount * (1 + daily_ret[i])\n",
    "        if rand <= p and p!=1:\n",
    "            if daily_ret[i] >= 0:\n",
    "                amount = amount * (1 + daily_ret[i])\n",
    "        if rand > p:\n",
    "            if daily_ret[i] < 0:\n",
    "                amount = amount * (1 + daily_ret[i])\n",
    "    return amount"
   ]
  },
  {
   "cell_type": "code",
   "execution_count": 1969,
   "metadata": {},
   "outputs": [],
   "source": [
    "p = [0,0.1,0.2,0.3,0.4,0.5,0.6,0.7,0.8,0.9,1.0]\n",
    "p_strategy = [\"p=0\",\"p=0.1\",\"p=0.2\",\"p=0.3\",\"p=0.4\",\"p=0.5\",\"p=0.6\",\"p=0.7\",\"p=0.8\",\"p=0.9\",\"p=1\"]\n",
    "sap_p = []\n",
    "spy_p = []\n",
    "\n",
    "for i in p:\n",
    "    sap_p.append(round(invPCal(100,df_sap[\"Return\"],i),2))\n",
    "    spy_p.append(round(invPCal(100,df_spy[\"Return\"],i),2))"
   ]
  },
  {
   "cell_type": "code",
   "execution_count": 1970,
   "metadata": {},
   "outputs": [
    {
     "data": {
      "text/html": [
       "<div>\n",
       "<style scoped>\n",
       "    .dataframe tbody tr th:only-of-type {\n",
       "        vertical-align: middle;\n",
       "    }\n",
       "\n",
       "    .dataframe tbody tr th {\n",
       "        vertical-align: top;\n",
       "    }\n",
       "\n",
       "    .dataframe thead th {\n",
       "        text-align: right;\n",
       "    }\n",
       "</style>\n",
       "<table border=\"1\" class=\"dataframe\">\n",
       "  <thead>\n",
       "    <tr style=\"text-align: right;\">\n",
       "      <th></th>\n",
       "      <th>Strategy</th>\n",
       "      <th>SAP</th>\n",
       "      <th>SPY</th>\n",
       "    </tr>\n",
       "  </thead>\n",
       "  <tbody>\n",
       "    <tr>\n",
       "      <th>0</th>\n",
       "      <td>Buy and Hold(B&amp;H)</td>\n",
       "      <td>181.81</td>\n",
       "      <td>204.85</td>\n",
       "    </tr>\n",
       "    <tr>\n",
       "      <th>1</th>\n",
       "      <td>p=0</td>\n",
       "      <td>0.13</td>\n",
       "      <td>1.70</td>\n",
       "    </tr>\n",
       "    <tr>\n",
       "      <th>2</th>\n",
       "      <td>p=0.1</td>\n",
       "      <td>0.47</td>\n",
       "      <td>3.91</td>\n",
       "    </tr>\n",
       "    <tr>\n",
       "      <th>3</th>\n",
       "      <td>p=0.2</td>\n",
       "      <td>2.04</td>\n",
       "      <td>10.11</td>\n",
       "    </tr>\n",
       "    <tr>\n",
       "      <th>4</th>\n",
       "      <td>p=0.3</td>\n",
       "      <td>9.03</td>\n",
       "      <td>26.29</td>\n",
       "    </tr>\n",
       "    <tr>\n",
       "      <th>5</th>\n",
       "      <td>p=0.4</td>\n",
       "      <td>20.76</td>\n",
       "      <td>65.35</td>\n",
       "    </tr>\n",
       "    <tr>\n",
       "      <th>6</th>\n",
       "      <td>p=0.5</td>\n",
       "      <td>150.53</td>\n",
       "      <td>171.57</td>\n",
       "    </tr>\n",
       "    <tr>\n",
       "      <th>7</th>\n",
       "      <td>p=0.6</td>\n",
       "      <td>472.85</td>\n",
       "      <td>300.03</td>\n",
       "    </tr>\n",
       "    <tr>\n",
       "      <th>8</th>\n",
       "      <td>p=0.7</td>\n",
       "      <td>2436.95</td>\n",
       "      <td>1072.37</td>\n",
       "    </tr>\n",
       "    <tr>\n",
       "      <th>9</th>\n",
       "      <td>p=0.8</td>\n",
       "      <td>11019.89</td>\n",
       "      <td>1840.19</td>\n",
       "    </tr>\n",
       "    <tr>\n",
       "      <th>10</th>\n",
       "      <td>p=0.9</td>\n",
       "      <td>41466.67</td>\n",
       "      <td>4705.62</td>\n",
       "    </tr>\n",
       "    <tr>\n",
       "      <th>11</th>\n",
       "      <td>p=1</td>\n",
       "      <td>137488.43</td>\n",
       "      <td>12045.96</td>\n",
       "    </tr>\n",
       "  </tbody>\n",
       "</table>\n",
       "</div>"
      ],
      "text/plain": [
       "             Strategy        SAP       SPY\n",
       "0   Buy and Hold(B&H)     181.81    204.85\n",
       "1                 p=0       0.13      1.70\n",
       "2               p=0.1       0.47      3.91\n",
       "3               p=0.2       2.04     10.11\n",
       "4               p=0.3       9.03     26.29\n",
       "5               p=0.4      20.76     65.35\n",
       "6               p=0.5     150.53    171.57\n",
       "7               p=0.6     472.85    300.03\n",
       "8               p=0.7    2436.95   1072.37\n",
       "9               p=0.8   11019.89   1840.19\n",
       "10              p=0.9   41466.67   4705.62\n",
       "11                p=1  137488.43  12045.96"
      ]
     },
     "execution_count": 1970,
     "metadata": {},
     "output_type": "execute_result"
    }
   ],
   "source": [
    "p_df = pd.concat([pd.DataFrame({\"Strategy\":\"Buy and Hold(B&H)\",\"SAP\":[sap_BH_5], \"SPY\":[spy_BH_5]}, index=[1]),\\\n",
    "          pd.DataFrame(list(zip(p_strategy,sap_p,spy_p)), columns=[\"Strategy\",\"SAP\",\"SPY\"])]).reset_index(drop=True)\n",
    "p_df"
   ]
  },
  {
   "cell_type": "markdown",
   "metadata": {},
   "source": [
    "#### 1. for what value of p, the results are comparable to buy-and-hold strategy. Is this value the same for your stock sa as it is for SP=500?"
   ]
  },
  {
   "cell_type": "markdown",
   "metadata": {},
   "source": [
    "* SAP\n",
    "    * p = 0.5 gives results comparable to Buy and Hold strategy.\n",
    "* SPY 500\n",
    "    * p = 0.5 gives results comparable to  Buy and Hold strategy.\n",
    "\n",
    "**Although the value changes and the above probability can change as we are using random values to generate probability.**"
   ]
  },
  {
   "cell_type": "markdown",
   "metadata": {},
   "source": [
    "#### 2. examine your table. Any patterns?"
   ]
  },
  {
   "cell_type": "markdown",
   "metadata": {},
   "source": [
    "* I see a exponential growth as we near to perfect oracle p = 1."
   ]
  },
  {
   "cell_type": "markdown",
   "metadata": {},
   "source": [
    "## Question 7"
   ]
  },
  {
   "cell_type": "code",
   "execution_count": 1971,
   "metadata": {},
   "outputs": [],
   "source": [
    "def invBWCal(amt,daily_pred,daily_ret):\n",
    "    amount = amt\n",
    "    for i in range(len(daily_pred)):\n",
    "        if daily_pred[i] == \"+\":\n",
    "            amount = amount * (1 + daily_ret[i])\n",
    "    return round(amount,2)"
   ]
  },
  {
   "cell_type": "code",
   "execution_count": 1972,
   "metadata": {},
   "outputs": [],
   "source": [
    "df_sap_10_b = df_sap.copy()\n",
    "for i in df_sap_10_b.sort_values(by=[\"Return\"],ascending=False).head(10).index:\n",
    "    df_sap_10_b.at[i,\"True Label\"] = \"-\"\n",
    "    \n",
    "    \n",
    "df_spy_10_b = df_spy.copy()\n",
    "for i in df_spy_10_b.sort_values(by=[\"Return\"],ascending=False).head(10).index:\n",
    "    df_spy_10_b.at[i,\"True Label\"] = \"-\"\n",
    "    \n",
    "    \n",
    "df_sap_10_w = df_sap.copy()\n",
    "for i in df_sap_10_w.sort_values(by=[\"Return\"]).head(10).index:\n",
    "    df_sap_10_w.at[i,\"True Label\"] = \"+\"\n",
    "    \n",
    "    \n",
    "df_spy_10_w = df_spy.copy()\n",
    "for i in df_spy_10_w.sort_values(by=[\"Return\"]).head(10).index:\n",
    "    df_spy_10_w.at[i,\"True Label\"] = \"+\"\n",
    "    \n",
    "    \n",
    "df_sap_5_bw = df_sap.copy()\n",
    "for i in df_sap_5_bw.sort_values(by=[\"Return\"]).head(5).index:\n",
    "    df_sap_5_bw.at[i,\"True Label\"] = \"+\"\n",
    "for i in df_sap_5_bw.sort_values(by=[\"Return\"],ascending=False).head(5).index:\n",
    "    df_sap_5_bw.at[i,\"True Label\"] = \"-\"\n",
    "    \n",
    "df_spy_5_bw = df_spy.copy()\n",
    "for i in df_spy_5_bw.sort_values(by=[\"Return\"]).head(5).index:\n",
    "    df_spy_5_bw.at[i,\"True Label\"] = \"+\"\n",
    "for i in df_spy_5_bw.sort_values(by=[\"Return\"],ascending=False).head(5).index:\n",
    "    df_spy_5_bw.at[i,\"True Label\"] = \"-\""
   ]
  },
  {
   "cell_type": "code",
   "execution_count": 1973,
   "metadata": {},
   "outputs": [],
   "source": [
    "sap_10b = invBWCal(100,df_sap_10_b[\"True Label\"],df_sap_10_b[\"Return\"])\n",
    "sap_10w = invBWCal(100,df_sap_10_w[\"True Label\"],df_sap_10_w[\"Return\"])\n",
    "\n",
    "spy_10b = invBWCal(100,df_spy_10_b[\"True Label\"],df_spy_10_b[\"Return\"])\n",
    "spy_10w = invBWCal(100,df_spy_10_w[\"True Label\"],df_spy_10_w[\"Return\"])\n",
    "\n",
    "sap_5bw = invBWCal(100,df_sap_5_bw[\"True Label\"],df_sap_5_bw[\"Return\"])\n",
    "spy_5bw = invBWCal(100,df_spy_5_bw[\"True Label\"],df_spy_5_bw[\"Return\"])"
   ]
  },
  {
   "cell_type": "code",
   "execution_count": 1974,
   "metadata": {},
   "outputs": [],
   "source": [
    "sap_str_bw = [\"missed 10 best days\",\"invested during 10 worst days\",\"missed 5 best days and invested during 5 worst days\"]\n",
    "sap_bw = [sap_10b,sap_10w,sap_5bw]\n",
    "spy_bw = [spy_10b,spy_10w,spy_5bw]"
   ]
  },
  {
   "cell_type": "markdown",
   "metadata": {},
   "source": [
    "#### 1. Summarize your results in the following table:"
   ]
  },
  {
   "cell_type": "code",
   "execution_count": 1988,
   "metadata": {
    "scrolled": true
   },
   "outputs": [
    {
     "data": {
      "text/html": [
       "<div>\n",
       "<style scoped>\n",
       "    .dataframe tbody tr th:only-of-type {\n",
       "        vertical-align: middle;\n",
       "    }\n",
       "\n",
       "    .dataframe tbody tr th {\n",
       "        vertical-align: top;\n",
       "    }\n",
       "\n",
       "    .dataframe thead th {\n",
       "        text-align: right;\n",
       "    }\n",
       "</style>\n",
       "<table border=\"1\" class=\"dataframe\">\n",
       "  <thead>\n",
       "    <tr style=\"text-align: right;\">\n",
       "      <th></th>\n",
       "      <th>Strategy</th>\n",
       "      <th>SAP</th>\n",
       "      <th>SPY</th>\n",
       "    </tr>\n",
       "  </thead>\n",
       "  <tbody>\n",
       "    <tr>\n",
       "      <th>0</th>\n",
       "      <td>Buy &amp; Hold</td>\n",
       "      <td>181.81</td>\n",
       "      <td>204.85</td>\n",
       "    </tr>\n",
       "    <tr>\n",
       "      <th>1</th>\n",
       "      <td>P1</td>\n",
       "      <td>137488.43</td>\n",
       "      <td>12045.96</td>\n",
       "    </tr>\n",
       "    <tr>\n",
       "      <th>2</th>\n",
       "      <td>missed 10 best days</td>\n",
       "      <td>67551.30</td>\n",
       "      <td>6884.72</td>\n",
       "    </tr>\n",
       "    <tr>\n",
       "      <th>3</th>\n",
       "      <td>invested during 10 worst days</td>\n",
       "      <td>52192.91</td>\n",
       "      <td>6365.38</td>\n",
       "    </tr>\n",
       "    <tr>\n",
       "      <th>4</th>\n",
       "      <td>missed 5 best days and invested during 5 worst...</td>\n",
       "      <td>46683.00</td>\n",
       "      <td>5677.58</td>\n",
       "    </tr>\n",
       "  </tbody>\n",
       "</table>\n",
       "</div>"
      ],
      "text/plain": [
       "                                            Strategy        SAP       SPY\n",
       "0                                         Buy & Hold     181.81    204.85\n",
       "1                                                 P1  137488.43  12045.96\n",
       "2                                missed 10 best days   67551.30   6884.72\n",
       "3                      invested during 10 worst days   52192.91   6365.38\n",
       "4  missed 5 best days and invested during 5 worst...   46683.00   5677.58"
      ]
     },
     "execution_count": 1988,
     "metadata": {},
     "output_type": "execute_result"
    }
   ],
   "source": [
    "df_bw = pd.concat([bh_p_df,\\\n",
    "          pd.DataFrame(list(zip(sap_str_bw,sap_bw,spy_bw)), columns=[\"Strategy\",\"SAP\",\"SPY\"])]).reset_index(drop=True)\n",
    "df_bw"
   ]
  },
  {
   "cell_type": "markdown",
   "metadata": {},
   "source": [
    "#### 2. do you lose more by missing the best days or by being invested on the worst days?"
   ]
  },
  {
   "cell_type": "markdown",
   "metadata": {},
   "source": [
    "Lost more by investing on the worst days for both **SAP** and **SPY**."
   ]
  },
  {
   "cell_type": "markdown",
   "metadata": {},
   "source": [
    "#### 3. for each part (a),(b) and (c) what are your estimates for the probability p if you used statistical oracle instead of an angry one."
   ]
  },
  {
   "cell_type": "markdown",
   "metadata": {},
   "source": [
    "* p = 0.9 has the closest values for \n",
    "    * missed 10 best days\n",
    "    * invested during 10 worst days\n",
    "    * missed 5 best days and invested during 5 worst days"
   ]
  },
  {
   "cell_type": "code",
   "execution_count": null,
   "metadata": {},
   "outputs": [],
   "source": []
  },
  {
   "cell_type": "code",
   "execution_count": null,
   "metadata": {},
   "outputs": [],
   "source": []
  }
 ],
 "metadata": {
  "kernelspec": {
   "display_name": "Python 3",
   "language": "python",
   "name": "python3"
  },
  "language_info": {
   "codemirror_mode": {
    "name": "ipython",
    "version": 3
   },
   "file_extension": ".py",
   "mimetype": "text/x-python",
   "name": "python",
   "nbconvert_exporter": "python",
   "pygments_lexer": "ipython3",
   "version": "3.8.5"
  }
 },
 "nbformat": 4,
 "nbformat_minor": 4
}
