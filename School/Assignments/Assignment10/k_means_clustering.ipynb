{
 "cells": [
  {
   "cell_type": "code",
   "execution_count": 16,
   "id": "00da42b0",
   "metadata": {},
   "outputs": [],
   "source": [
    "import pandas as pd\n",
    "import numpy as np\n",
    "import matplotlib.pyplot as plt\n",
    "from sklearn.preprocessing import StandardScaler\n",
    "from sklearn.model_selection import train_test_split\n",
    "from sklearn.cluster import KMeans"
   ]
  },
  {
   "cell_type": "code",
   "execution_count": 17,
   "id": "2101f473",
   "metadata": {},
   "outputs": [
    {
     "data": {
      "text/html": [
       "<div>\n",
       "<style scoped>\n",
       "    .dataframe tbody tr th:only-of-type {\n",
       "        vertical-align: middle;\n",
       "    }\n",
       "\n",
       "    .dataframe tbody tr th {\n",
       "        vertical-align: top;\n",
       "    }\n",
       "\n",
       "    .dataframe thead th {\n",
       "        text-align: right;\n",
       "    }\n",
       "</style>\n",
       "<table border=\"1\" class=\"dataframe\">\n",
       "  <thead>\n",
       "    <tr style=\"text-align: right;\">\n",
       "      <th></th>\n",
       "      <th>Year</th>\n",
       "      <th>Week_Number</th>\n",
       "      <th>mean_return</th>\n",
       "      <th>volatility</th>\n",
       "      <th>label</th>\n",
       "    </tr>\n",
       "  </thead>\n",
       "  <tbody>\n",
       "    <tr>\n",
       "      <th>0</th>\n",
       "      <td>2019</td>\n",
       "      <td>0</td>\n",
       "      <td>-0.1050</td>\n",
       "      <td>3.594650</td>\n",
       "      <td>0</td>\n",
       "    </tr>\n",
       "    <tr>\n",
       "      <th>1</th>\n",
       "      <td>2019</td>\n",
       "      <td>1</td>\n",
       "      <td>0.6532</td>\n",
       "      <td>1.153409</td>\n",
       "      <td>1</td>\n",
       "    </tr>\n",
       "    <tr>\n",
       "      <th>2</th>\n",
       "      <td>2019</td>\n",
       "      <td>2</td>\n",
       "      <td>0.7326</td>\n",
       "      <td>1.198802</td>\n",
       "      <td>1</td>\n",
       "    </tr>\n",
       "    <tr>\n",
       "      <th>3</th>\n",
       "      <td>2019</td>\n",
       "      <td>3</td>\n",
       "      <td>0.0735</td>\n",
       "      <td>1.593999</td>\n",
       "      <td>0</td>\n",
       "    </tr>\n",
       "    <tr>\n",
       "      <th>4</th>\n",
       "      <td>2019</td>\n",
       "      <td>4</td>\n",
       "      <td>-0.3746</td>\n",
       "      <td>2.056743</td>\n",
       "      <td>0</td>\n",
       "    </tr>\n",
       "  </tbody>\n",
       "</table>\n",
       "</div>"
      ],
      "text/plain": [
       "   Year  Week_Number  mean_return  volatility  label\n",
       "0  2019            0      -0.1050    3.594650      0\n",
       "1  2019            1       0.6532    1.153409      1\n",
       "2  2019            2       0.7326    1.198802      1\n",
       "3  2019            3       0.0735    1.593999      0\n",
       "4  2019            4      -0.3746    2.056743      0"
      ]
     },
     "execution_count": 17,
     "metadata": {},
     "output_type": "execute_result"
    }
   ],
   "source": [
    "df_week = pd.read_csv(\"SAP_weekly_return_volatility.csv\")\n",
    "df_week.head(5)"
   ]
  },
  {
   "cell_type": "code",
   "execution_count": 18,
   "id": "11e53413",
   "metadata": {},
   "outputs": [
    {
     "data": {
      "text/html": [
       "<div>\n",
       "<style scoped>\n",
       "    .dataframe tbody tr th:only-of-type {\n",
       "        vertical-align: middle;\n",
       "    }\n",
       "\n",
       "    .dataframe tbody tr th {\n",
       "        vertical-align: top;\n",
       "    }\n",
       "\n",
       "    .dataframe thead th {\n",
       "        text-align: right;\n",
       "    }\n",
       "</style>\n",
       "<table border=\"1\" class=\"dataframe\">\n",
       "  <thead>\n",
       "    <tr style=\"text-align: right;\">\n",
       "      <th></th>\n",
       "      <th>High</th>\n",
       "      <th>Low</th>\n",
       "      <th>Open</th>\n",
       "      <th>Close</th>\n",
       "      <th>Volume</th>\n",
       "      <th>Adj Close</th>\n",
       "      <th>Return</th>\n",
       "      <th>Date</th>\n",
       "      <th>Week_Number</th>\n",
       "      <th>Year</th>\n",
       "      <th>Day</th>\n",
       "      <th>Weekday</th>\n",
       "      <th>mean_return</th>\n",
       "      <th>volatility</th>\n",
       "    </tr>\n",
       "  </thead>\n",
       "  <tbody>\n",
       "    <tr>\n",
       "      <th>0</th>\n",
       "      <td>99.559998</td>\n",
       "      <td>98.339996</td>\n",
       "      <td>98.570000</td>\n",
       "      <td>99.180000</td>\n",
       "      <td>506300.0</td>\n",
       "      <td>94.896118</td>\n",
       "      <td>0.000</td>\n",
       "      <td>2019-01-02</td>\n",
       "      <td>0</td>\n",
       "      <td>2019</td>\n",
       "      <td>2</td>\n",
       "      <td>Wednesday</td>\n",
       "      <td>-0.1050</td>\n",
       "      <td>3.594650</td>\n",
       "    </tr>\n",
       "    <tr>\n",
       "      <th>1</th>\n",
       "      <td>96.830002</td>\n",
       "      <td>95.449997</td>\n",
       "      <td>96.730003</td>\n",
       "      <td>95.459999</td>\n",
       "      <td>807800.0</td>\n",
       "      <td>91.336800</td>\n",
       "      <td>-3.751</td>\n",
       "      <td>2019-01-03</td>\n",
       "      <td>0</td>\n",
       "      <td>2019</td>\n",
       "      <td>3</td>\n",
       "      <td>Thursday</td>\n",
       "      <td>-0.1050</td>\n",
       "      <td>3.594650</td>\n",
       "    </tr>\n",
       "    <tr>\n",
       "      <th>2</th>\n",
       "      <td>99.199997</td>\n",
       "      <td>96.910004</td>\n",
       "      <td>97.339996</td>\n",
       "      <td>98.739998</td>\n",
       "      <td>1038100.0</td>\n",
       "      <td>94.475128</td>\n",
       "      <td>3.436</td>\n",
       "      <td>2019-01-04</td>\n",
       "      <td>0</td>\n",
       "      <td>2019</td>\n",
       "      <td>4</td>\n",
       "      <td>Friday</td>\n",
       "      <td>-0.1050</td>\n",
       "      <td>3.594650</td>\n",
       "    </tr>\n",
       "    <tr>\n",
       "      <th>3</th>\n",
       "      <td>100.190002</td>\n",
       "      <td>98.760002</td>\n",
       "      <td>99.440002</td>\n",
       "      <td>99.709999</td>\n",
       "      <td>861600.0</td>\n",
       "      <td>95.403229</td>\n",
       "      <td>0.982</td>\n",
       "      <td>2019-01-07</td>\n",
       "      <td>1</td>\n",
       "      <td>2019</td>\n",
       "      <td>7</td>\n",
       "      <td>Monday</td>\n",
       "      <td>0.6532</td>\n",
       "      <td>1.153409</td>\n",
       "    </tr>\n",
       "    <tr>\n",
       "      <th>4</th>\n",
       "      <td>101.480003</td>\n",
       "      <td>100.430000</td>\n",
       "      <td>101.370003</td>\n",
       "      <td>101.269997</td>\n",
       "      <td>548600.0</td>\n",
       "      <td>96.895844</td>\n",
       "      <td>1.565</td>\n",
       "      <td>2019-01-08</td>\n",
       "      <td>1</td>\n",
       "      <td>2019</td>\n",
       "      <td>8</td>\n",
       "      <td>Tuesday</td>\n",
       "      <td>0.6532</td>\n",
       "      <td>1.153409</td>\n",
       "    </tr>\n",
       "  </tbody>\n",
       "</table>\n",
       "</div>"
      ],
      "text/plain": [
       "         High         Low        Open       Close     Volume  Adj Close  \\\n",
       "0   99.559998   98.339996   98.570000   99.180000   506300.0  94.896118   \n",
       "1   96.830002   95.449997   96.730003   95.459999   807800.0  91.336800   \n",
       "2   99.199997   96.910004   97.339996   98.739998  1038100.0  94.475128   \n",
       "3  100.190002   98.760002   99.440002   99.709999   861600.0  95.403229   \n",
       "4  101.480003  100.430000  101.370003  101.269997   548600.0  96.895844   \n",
       "\n",
       "   Return        Date  Week_Number  Year  Day    Weekday  mean_return  \\\n",
       "0   0.000  2019-01-02            0  2019    2  Wednesday      -0.1050   \n",
       "1  -3.751  2019-01-03            0  2019    3   Thursday      -0.1050   \n",
       "2   3.436  2019-01-04            0  2019    4     Friday      -0.1050   \n",
       "3   0.982  2019-01-07            1  2019    7     Monday       0.6532   \n",
       "4   1.565  2019-01-08            1  2019    8    Tuesday       0.6532   \n",
       "\n",
       "   volatility  \n",
       "0    3.594650  \n",
       "1    3.594650  \n",
       "2    3.594650  \n",
       "3    1.153409  \n",
       "4    1.153409  "
      ]
     },
     "execution_count": 18,
     "metadata": {},
     "output_type": "execute_result"
    }
   ],
   "source": [
    "df_daily = pd.read_csv(\"SAP_weekly_return_volatility_detailed.csv\")\n",
    "df_daily.head(5)"
   ]
  },
  {
   "cell_type": "code",
   "execution_count": 19,
   "id": "94e7842d",
   "metadata": {},
   "outputs": [],
   "source": [
    "df_week_2019 = df_week[df_week[\"Year\"] == 2019].reset_index(drop = True)\n",
    "df_week_2020 = df_week[df_week[\"Year\"] == 2020].reset_index(drop = True)"
   ]
  },
  {
   "cell_type": "markdown",
   "id": "77017488",
   "metadata": {},
   "source": [
    "### 1. take k = 3 and use k-means sklearn library routing for k- means (random initialization and use the defaults). Take k = 1,2,...7,8 and compute the distortion vs. k. Use the ”knee” method to find out the best k."
   ]
  },
  {
   "cell_type": "code",
   "execution_count": 20,
   "id": "0a1623f2",
   "metadata": {},
   "outputs": [],
   "source": [
    "# x_train_19, x_test_19, y_train_19, y_test_19 = train_test_split( \\\n",
    "#                     df_week_2019[[\"mean_return\",\"volatility\"]].values, \\\n",
    "#                     df_week_2019[\"label\"].values, test_size = 0.3, random_state = 5)"
   ]
  },
  {
   "cell_type": "code",
   "execution_count": 21,
   "id": "7d4a6c58",
   "metadata": {},
   "outputs": [],
   "source": [
    "x_19 = df_week_2019[[\"mean_return\",\"volatility\"]].values\n",
    "inertia_list = list()\n",
    "\n",
    "for k in range(1,9):\n",
    "    kmeans = KMeans(n_clusters = k)\n",
    "    y_kmeans = kmeans.fit_predict(x_19)\n",
    "    inertia_19 = kmeans.inertia_\n",
    "    inertia_list.append(inertia_19)\n",
    "    "
   ]
  },
  {
   "cell_type": "code",
   "execution_count": 22,
   "id": "fbca353d",
   "metadata": {},
   "outputs": [
    {
     "data": {
      "image/png": "[encoded data removed]",
      "text/plain": [
       "<Figure size 432x288 with 1 Axes>"
      ]
     },
     "metadata": {
      "needs_background": "light"
     },
     "output_type": "display_data"
    }
   ],
   "source": [
    "plt.plot(range(1,9), inertia_list, marker = \"*\", color = \"green\")\n",
    "plt.title(\"Plot to compute k using knee method\")\n",
    "plt.xlabel(\"number of clusters: k\")\n",
    "plt.ylabel(\"inertia\")\n",
    "plt.tight_layout()\n",
    "plt.show()"
   ]
  },
  {
   "cell_type": "markdown",
   "id": "c9c400fc",
   "metadata": {},
   "source": [
    "From above plot we can see after k = 3 there is linear decline in the inertia's value. so we will choose k = 4 as our optimal value for further analysis."
   ]
  },
  {
   "cell_type": "markdown",
   "id": "ed72a93e",
   "metadata": {},
   "source": [
    "### 2. for this optimal k, examine your clusters and for each cluster compute the percentage of ”green” and ”red” weeks in that cluster."
   ]
  },
  {
   "cell_type": "code",
   "execution_count": 81,
   "id": "8bdbb231",
   "metadata": {},
   "outputs": [
    {
     "data": {
      "text/html": [
       "<div>\n",
       "<style scoped>\n",
       "    .dataframe tbody tr th:only-of-type {\n",
       "        vertical-align: middle;\n",
       "    }\n",
       "\n",
       "    .dataframe tbody tr th {\n",
       "        vertical-align: top;\n",
       "    }\n",
       "\n",
       "    .dataframe thead th {\n",
       "        text-align: right;\n",
       "    }\n",
       "</style>\n",
       "<table border=\"1\" class=\"dataframe\">\n",
       "  <thead>\n",
       "    <tr style=\"text-align: right;\">\n",
       "      <th></th>\n",
       "      <th>Year</th>\n",
       "      <th>Week_Number</th>\n",
       "      <th>mean_return</th>\n",
       "      <th>volatility</th>\n",
       "      <th>label</th>\n",
       "      <th>cluster</th>\n",
       "    </tr>\n",
       "  </thead>\n",
       "  <tbody>\n",
       "    <tr>\n",
       "      <th>0</th>\n",
       "      <td>2020</td>\n",
       "      <td>0</td>\n",
       "      <td>0.01800</td>\n",
       "      <td>2.951464</td>\n",
       "      <td>0</td>\n",
       "      <td>0</td>\n",
       "    </tr>\n",
       "    <tr>\n",
       "      <th>1</th>\n",
       "      <td>2020</td>\n",
       "      <td>1</td>\n",
       "      <td>0.44680</td>\n",
       "      <td>0.825564</td>\n",
       "      <td>1</td>\n",
       "      <td>0</td>\n",
       "    </tr>\n",
       "    <tr>\n",
       "      <th>2</th>\n",
       "      <td>2020</td>\n",
       "      <td>2</td>\n",
       "      <td>0.43660</td>\n",
       "      <td>1.142404</td>\n",
       "      <td>1</td>\n",
       "      <td>0</td>\n",
       "    </tr>\n",
       "    <tr>\n",
       "      <th>3</th>\n",
       "      <td>2020</td>\n",
       "      <td>3</td>\n",
       "      <td>-0.15925</td>\n",
       "      <td>0.706630</td>\n",
       "      <td>1</td>\n",
       "      <td>0</td>\n",
       "    </tr>\n",
       "    <tr>\n",
       "      <th>4</th>\n",
       "      <td>2020</td>\n",
       "      <td>4</td>\n",
       "      <td>-1.21700</td>\n",
       "      <td>1.127360</td>\n",
       "      <td>0</td>\n",
       "      <td>0</td>\n",
       "    </tr>\n",
       "  </tbody>\n",
       "</table>\n",
       "</div>"
      ],
      "text/plain": [
       "   Year  Week_Number  mean_return  volatility  label  cluster\n",
       "0  2020            0      0.01800    2.951464      0        0\n",
       "1  2020            1      0.44680    0.825564      1        0\n",
       "2  2020            2      0.43660    1.142404      1        0\n",
       "3  2020            3     -0.15925    0.706630      1        0\n",
       "4  2020            4     -1.21700    1.127360      0        0"
      ]
     },
     "execution_count": 81,
     "metadata": {},
     "output_type": "execute_result"
    }
   ],
   "source": [
    "x_20 = df_week_2020[[\"mean_return\",\"volatility\"]].values\n",
    "\n",
    "kmeans_20 = KMeans(n_clusters = 3)\n",
    "cluster_predict = kmeans_20.fit_predict(x_20)\n",
    "df_week_2020[\"cluster\"] = cluster_predict\n",
    "df_week_2020.head(5)"
   ]
  },
  {
   "cell_type": "code",
   "execution_count": 82,
   "id": "2078492c",
   "metadata": {},
   "outputs": [
    {
     "data": {
      "text/html": [
       "<div>\n",
       "<style scoped>\n",
       "    .dataframe tbody tr th:only-of-type {\n",
       "        vertical-align: middle;\n",
       "    }\n",
       "\n",
       "    .dataframe tbody tr th {\n",
       "        vertical-align: top;\n",
       "    }\n",
       "\n",
       "    .dataframe thead th {\n",
       "        text-align: right;\n",
       "    }\n",
       "</style>\n",
       "<table border=\"1\" class=\"dataframe\">\n",
       "  <thead>\n",
       "    <tr style=\"text-align: right;\">\n",
       "      <th>cluster</th>\n",
       "      <th>0</th>\n",
       "      <th>1</th>\n",
       "      <th>2</th>\n",
       "    </tr>\n",
       "    <tr>\n",
       "      <th>label</th>\n",
       "      <th></th>\n",
       "      <th></th>\n",
       "      <th></th>\n",
       "    </tr>\n",
       "  </thead>\n",
       "  <tbody>\n",
       "    <tr>\n",
       "      <th>0</th>\n",
       "      <td>61.7</td>\n",
       "      <td>100.0</td>\n",
       "      <td>33.33</td>\n",
       "    </tr>\n",
       "    <tr>\n",
       "      <th>1</th>\n",
       "      <td>38.3</td>\n",
       "      <td>0.0</td>\n",
       "      <td>66.67</td>\n",
       "    </tr>\n",
       "  </tbody>\n",
       "</table>\n",
       "</div>"
      ],
      "text/plain": [
       "cluster     0      1      2\n",
       "label                      \n",
       "0        61.7  100.0  33.33\n",
       "1        38.3    0.0  66.67"
      ]
     },
     "execution_count": 82,
     "metadata": {},
     "output_type": "execute_result"
    }
   ],
   "source": [
    "pd.crosstab(df_week_2020[\"label\"],df_week_2020[\"cluster\"])\\\n",
    ".apply(lambda x: round((x * 100) / x.sum(),2))"
   ]
  },
  {
   "cell_type": "markdown",
   "id": "f8d12ac4",
   "metadata": {},
   "source": [
    "#### Above we can see all the percentage for each cluster for green(1) and red(0) labels."
   ]
  },
  {
   "cell_type": "markdown",
   "id": "caf8a862",
   "metadata": {},
   "source": [
    "### 3. does your k-means clustering find any ”pure” clusters (percent of red or green weeks in a cluster is more than, say, 90% of all weeks in that cluster)?"
   ]
  },
  {
   "cell_type": "markdown",
   "id": "939af5d9",
   "metadata": {},
   "source": [
    "* Cluster 1 is pure cluster with 100% Red(0) labels in it."
   ]
  },
  {
   "cell_type": "code",
   "execution_count": null,
   "id": "c2ca1f24",
   "metadata": {},
   "outputs": [],
   "source": []
  },
  {
   "cell_type": "code",
   "execution_count": null,
   "id": "4403d384",
   "metadata": {},
   "outputs": [],
   "source": []
  },
  {
   "cell_type": "code",
   "execution_count": null,
   "id": "1163f54a",
   "metadata": {},
   "outputs": [],
   "source": []
  },
  {
   "cell_type": "code",
   "execution_count": null,
   "id": "fa519671",
   "metadata": {},
   "outputs": [],
   "source": []
  },
  {
   "cell_type": "code",
   "execution_count": null,
   "id": "5321faed",
   "metadata": {},
   "outputs": [],
   "source": []
  },
  {
   "cell_type": "code",
   "execution_count": null,
   "id": "3b4db2cb",
   "metadata": {},
   "outputs": [],
   "source": []
  },
  {
   "cell_type": "code",
   "execution_count": null,
   "id": "c35992a0",
   "metadata": {},
   "outputs": [],
   "source": []
  }
 ],
 "metadata": {
  "kernelspec": {
   "display_name": "Python 3",
   "language": "python",
   "name": "python3"
  },
  "language_info": {
   "codemirror_mode": {
    "name": "ipython",
    "version": 3
   },
   "file_extension": ".py",
   "mimetype": "text/x-python",
   "name": "python",
   "nbconvert_exporter": "python",
   "pygments_lexer": "ipython3",
   "version": "3.8.8"
  }
 },
 "nbformat": 4,
 "nbformat_minor": 5
}
