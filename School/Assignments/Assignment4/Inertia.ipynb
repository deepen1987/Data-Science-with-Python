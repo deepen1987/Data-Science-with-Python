{
 "cells": [
  {
   "cell_type": "code",
   "execution_count": 647,
   "metadata": {},
   "outputs": [],
   "source": [
    "import pandas as pd\n",
    "import numpy as np\n",
    "import matplotlib.pyplot as plt"
   ]
  },
  {
   "cell_type": "code",
   "execution_count": 648,
   "metadata": {},
   "outputs": [
    {
     "data": {
      "text/html": [
       "<div>\n",
       "<style scoped>\n",
       "    .dataframe tbody tr th:only-of-type {\n",
       "        vertical-align: middle;\n",
       "    }\n",
       "\n",
       "    .dataframe tbody tr th {\n",
       "        vertical-align: top;\n",
       "    }\n",
       "\n",
       "    .dataframe thead th {\n",
       "        text-align: right;\n",
       "    }\n",
       "</style>\n",
       "<table border=\"1\" class=\"dataframe\">\n",
       "  <thead>\n",
       "    <tr style=\"text-align: right;\">\n",
       "      <th></th>\n",
       "      <th>Date</th>\n",
       "      <th>Year</th>\n",
       "      <th>Month</th>\n",
       "      <th>Day</th>\n",
       "      <th>Weekday</th>\n",
       "      <th>Week_Number</th>\n",
       "      <th>Year_Week</th>\n",
       "      <th>Open</th>\n",
       "      <th>High</th>\n",
       "      <th>Low</th>\n",
       "      <th>Close</th>\n",
       "      <th>Volume</th>\n",
       "      <th>Adj Close</th>\n",
       "      <th>Return</th>\n",
       "      <th>Short_MA</th>\n",
       "      <th>Long_MA</th>\n",
       "    </tr>\n",
       "  </thead>\n",
       "  <tbody>\n",
       "    <tr>\n",
       "      <th>0</th>\n",
       "      <td>2016-01-04</td>\n",
       "      <td>2016</td>\n",
       "      <td>1</td>\n",
       "      <td>4</td>\n",
       "      <td>Monday</td>\n",
       "      <td>1</td>\n",
       "      <td>2016-01</td>\n",
       "      <td>76.74</td>\n",
       "      <td>77.18</td>\n",
       "      <td>75.89</td>\n",
       "      <td>77.14</td>\n",
       "      <td>1075400.0</td>\n",
       "      <td>70.56</td>\n",
       "      <td>0.000000</td>\n",
       "      <td>70.560000</td>\n",
       "      <td>70.560000</td>\n",
       "    </tr>\n",
       "    <tr>\n",
       "      <th>1</th>\n",
       "      <td>2016-01-05</td>\n",
       "      <td>2016</td>\n",
       "      <td>1</td>\n",
       "      <td>5</td>\n",
       "      <td>Tuesday</td>\n",
       "      <td>1</td>\n",
       "      <td>2016-01</td>\n",
       "      <td>76.33</td>\n",
       "      <td>77.10</td>\n",
       "      <td>76.16</td>\n",
       "      <td>76.97</td>\n",
       "      <td>1392000.0</td>\n",
       "      <td>70.40</td>\n",
       "      <td>-0.002204</td>\n",
       "      <td>70.480000</td>\n",
       "      <td>70.480000</td>\n",
       "    </tr>\n",
       "    <tr>\n",
       "      <th>2</th>\n",
       "      <td>2016-01-06</td>\n",
       "      <td>2016</td>\n",
       "      <td>1</td>\n",
       "      <td>6</td>\n",
       "      <td>Wednesday</td>\n",
       "      <td>1</td>\n",
       "      <td>2016-01</td>\n",
       "      <td>76.81</td>\n",
       "      <td>77.79</td>\n",
       "      <td>76.66</td>\n",
       "      <td>77.65</td>\n",
       "      <td>1031600.0</td>\n",
       "      <td>71.03</td>\n",
       "      <td>0.008835</td>\n",
       "      <td>70.663333</td>\n",
       "      <td>70.663333</td>\n",
       "    </tr>\n",
       "    <tr>\n",
       "      <th>3</th>\n",
       "      <td>2016-01-07</td>\n",
       "      <td>2016</td>\n",
       "      <td>1</td>\n",
       "      <td>7</td>\n",
       "      <td>Thursday</td>\n",
       "      <td>1</td>\n",
       "      <td>2016-01</td>\n",
       "      <td>76.90</td>\n",
       "      <td>77.97</td>\n",
       "      <td>76.68</td>\n",
       "      <td>77.21</td>\n",
       "      <td>1670200.0</td>\n",
       "      <td>70.62</td>\n",
       "      <td>-0.005666</td>\n",
       "      <td>70.652500</td>\n",
       "      <td>70.652500</td>\n",
       "    </tr>\n",
       "    <tr>\n",
       "      <th>4</th>\n",
       "      <td>2016-01-08</td>\n",
       "      <td>2016</td>\n",
       "      <td>1</td>\n",
       "      <td>8</td>\n",
       "      <td>Friday</td>\n",
       "      <td>1</td>\n",
       "      <td>2016-01</td>\n",
       "      <td>78.27</td>\n",
       "      <td>78.35</td>\n",
       "      <td>76.76</td>\n",
       "      <td>76.90</td>\n",
       "      <td>1186800.0</td>\n",
       "      <td>70.34</td>\n",
       "      <td>-0.004015</td>\n",
       "      <td>70.590000</td>\n",
       "      <td>70.590000</td>\n",
       "    </tr>\n",
       "  </tbody>\n",
       "</table>\n",
       "</div>"
      ],
      "text/plain": [
       "         Date  Year  Month  Day    Weekday  Week_Number Year_Week   Open  \\\n",
       "0  2016-01-04  2016      1    4     Monday            1   2016-01  76.74   \n",
       "1  2016-01-05  2016      1    5    Tuesday            1   2016-01  76.33   \n",
       "2  2016-01-06  2016      1    6  Wednesday            1   2016-01  76.81   \n",
       "3  2016-01-07  2016      1    7   Thursday            1   2016-01  76.90   \n",
       "4  2016-01-08  2016      1    8     Friday            1   2016-01  78.27   \n",
       "\n",
       "    High    Low  Close     Volume  Adj Close    Return   Short_MA    Long_MA  \n",
       "0  77.18  75.89  77.14  1075400.0      70.56  0.000000  70.560000  70.560000  \n",
       "1  77.10  76.16  76.97  1392000.0      70.40 -0.002204  70.480000  70.480000  \n",
       "2  77.79  76.66  77.65  1031600.0      71.03  0.008835  70.663333  70.663333  \n",
       "3  77.97  76.68  77.21  1670200.0      70.62 -0.005666  70.652500  70.652500  \n",
       "4  78.35  76.76  76.90  1186800.0      70.34 -0.004015  70.590000  70.590000  "
      ]
     },
     "execution_count": 648,
     "metadata": {},
     "output_type": "execute_result"
    }
   ],
   "source": [
    "df_sap = pd.read_csv(\"SAP.csv\")\n",
    "df_sap.head(5)"
   ]
  },
  {
   "cell_type": "code",
   "execution_count": 649,
   "metadata": {},
   "outputs": [
    {
     "data": {
      "text/html": [
       "<div>\n",
       "<style scoped>\n",
       "    .dataframe tbody tr th:only-of-type {\n",
       "        vertical-align: middle;\n",
       "    }\n",
       "\n",
       "    .dataframe tbody tr th {\n",
       "        vertical-align: top;\n",
       "    }\n",
       "\n",
       "    .dataframe thead th {\n",
       "        text-align: right;\n",
       "    }\n",
       "</style>\n",
       "<table border=\"1\" class=\"dataframe\">\n",
       "  <thead>\n",
       "    <tr style=\"text-align: right;\">\n",
       "      <th></th>\n",
       "      <th>Date</th>\n",
       "      <th>Year</th>\n",
       "      <th>Month</th>\n",
       "      <th>Day</th>\n",
       "      <th>Weekday</th>\n",
       "      <th>Week_Number</th>\n",
       "      <th>Year_Week</th>\n",
       "      <th>Open</th>\n",
       "      <th>High</th>\n",
       "      <th>Low</th>\n",
       "      <th>Close</th>\n",
       "      <th>Volume</th>\n",
       "      <th>Adj Close</th>\n",
       "      <th>Return</th>\n",
       "      <th>Short_MA</th>\n",
       "      <th>Long_MA</th>\n",
       "    </tr>\n",
       "  </thead>\n",
       "  <tbody>\n",
       "    <tr>\n",
       "      <th>0</th>\n",
       "      <td>2016-01-04</td>\n",
       "      <td>2016</td>\n",
       "      <td>1</td>\n",
       "      <td>4</td>\n",
       "      <td>Monday</td>\n",
       "      <td>1</td>\n",
       "      <td>2016-01</td>\n",
       "      <td>200.49</td>\n",
       "      <td>201.03</td>\n",
       "      <td>198.59</td>\n",
       "      <td>201.02</td>\n",
       "      <td>222353500.0</td>\n",
       "      <td>182.51</td>\n",
       "      <td>0.000000</td>\n",
       "      <td>182.510</td>\n",
       "      <td>182.510</td>\n",
       "    </tr>\n",
       "    <tr>\n",
       "      <th>1</th>\n",
       "      <td>2016-01-05</td>\n",
       "      <td>2016</td>\n",
       "      <td>1</td>\n",
       "      <td>5</td>\n",
       "      <td>Tuesday</td>\n",
       "      <td>1</td>\n",
       "      <td>2016-01</td>\n",
       "      <td>201.40</td>\n",
       "      <td>201.90</td>\n",
       "      <td>200.05</td>\n",
       "      <td>201.36</td>\n",
       "      <td>110845800.0</td>\n",
       "      <td>182.82</td>\n",
       "      <td>0.001691</td>\n",
       "      <td>182.665</td>\n",
       "      <td>182.665</td>\n",
       "    </tr>\n",
       "    <tr>\n",
       "      <th>2</th>\n",
       "      <td>2016-01-06</td>\n",
       "      <td>2016</td>\n",
       "      <td>1</td>\n",
       "      <td>6</td>\n",
       "      <td>Wednesday</td>\n",
       "      <td>1</td>\n",
       "      <td>2016-01</td>\n",
       "      <td>198.34</td>\n",
       "      <td>200.06</td>\n",
       "      <td>197.60</td>\n",
       "      <td>198.82</td>\n",
       "      <td>152112600.0</td>\n",
       "      <td>180.52</td>\n",
       "      <td>-0.012614</td>\n",
       "      <td>181.950</td>\n",
       "      <td>181.950</td>\n",
       "    </tr>\n",
       "    <tr>\n",
       "      <th>3</th>\n",
       "      <td>2016-01-07</td>\n",
       "      <td>2016</td>\n",
       "      <td>1</td>\n",
       "      <td>7</td>\n",
       "      <td>Thursday</td>\n",
       "      <td>1</td>\n",
       "      <td>2016-01</td>\n",
       "      <td>195.33</td>\n",
       "      <td>197.44</td>\n",
       "      <td>193.59</td>\n",
       "      <td>194.05</td>\n",
       "      <td>213436100.0</td>\n",
       "      <td>176.19</td>\n",
       "      <td>-0.023991</td>\n",
       "      <td>180.510</td>\n",
       "      <td>180.510</td>\n",
       "    </tr>\n",
       "    <tr>\n",
       "      <th>4</th>\n",
       "      <td>2016-01-08</td>\n",
       "      <td>2016</td>\n",
       "      <td>1</td>\n",
       "      <td>8</td>\n",
       "      <td>Friday</td>\n",
       "      <td>1</td>\n",
       "      <td>2016-01</td>\n",
       "      <td>195.19</td>\n",
       "      <td>195.85</td>\n",
       "      <td>191.58</td>\n",
       "      <td>191.92</td>\n",
       "      <td>209817200.0</td>\n",
       "      <td>174.25</td>\n",
       "      <td>-0.010977</td>\n",
       "      <td>179.258</td>\n",
       "      <td>179.258</td>\n",
       "    </tr>\n",
       "  </tbody>\n",
       "</table>\n",
       "</div>"
      ],
      "text/plain": [
       "         Date  Year  Month  Day    Weekday  Week_Number Year_Week    Open  \\\n",
       "0  2016-01-04  2016      1    4     Monday            1   2016-01  200.49   \n",
       "1  2016-01-05  2016      1    5    Tuesday            1   2016-01  201.40   \n",
       "2  2016-01-06  2016      1    6  Wednesday            1   2016-01  198.34   \n",
       "3  2016-01-07  2016      1    7   Thursday            1   2016-01  195.33   \n",
       "4  2016-01-08  2016      1    8     Friday            1   2016-01  195.19   \n",
       "\n",
       "     High     Low   Close       Volume  Adj Close    Return  Short_MA  Long_MA  \n",
       "0  201.03  198.59  201.02  222353500.0     182.51  0.000000   182.510  182.510  \n",
       "1  201.90  200.05  201.36  110845800.0     182.82  0.001691   182.665  182.665  \n",
       "2  200.06  197.60  198.82  152112600.0     180.52 -0.012614   181.950  181.950  \n",
       "3  197.44  193.59  194.05  213436100.0     176.19 -0.023991   180.510  180.510  \n",
       "4  195.85  191.58  191.92  209817200.0     174.25 -0.010977   179.258  179.258  "
      ]
     },
     "execution_count": 649,
     "metadata": {},
     "output_type": "execute_result"
    }
   ],
   "source": [
    "df_spy = pd.read_csv(\"SPY.csv\")\n",
    "df_spy.head(5)"
   ]
  },
  {
   "cell_type": "markdown",
   "metadata": {},
   "source": [
    "#### Adding decision, overnight % and P/L columns to new Dataframe"
   ]
  },
  {
   "cell_type": "code",
   "execution_count": 650,
   "metadata": {},
   "outputs": [],
   "source": [
    "df_sap_in = df_sap.copy()\n",
    "df_spy_in = df_spy.copy()"
   ]
  },
  {
   "cell_type": "code",
   "execution_count": 651,
   "metadata": {},
   "outputs": [],
   "source": [
    "def dec_pl(d_frame):\n",
    "    ret_li1 = list()\n",
    "    ret_li2 = list()\n",
    "    ret_li3 = list()\n",
    "    for i in range(len(d_frame)):\n",
    "        if i == 0:\n",
    "            ret_li1.append(None)\n",
    "            ret_li2.append(0)\n",
    "            ret_li3.append(0)\n",
    "        elif d_frame[\"Open\"][i] > d_frame[\"Close\"][i-1]:\n",
    "            ret_li1.append(\"long\")\n",
    "            ret_li2.append(round((100 / d_frame[\"Open\"][i]) * (d_frame[\"Close\"][i] - d_frame[\"Open\"][i]),2))\n",
    "            ret_li3.append(d_frame[\"Close\"][i] - d_frame[\"Open\"][i])\n",
    "        elif d_frame[\"Open\"][i] == d_frame[\"Close\"][i-1]:\n",
    "            ret_li1.append(None)\n",
    "            ret_li2.append(0)\n",
    "            ret_li3.append(0)\n",
    "        elif d_frame[\"Open\"][i] < d_frame[\"Close\"][i-1]:\n",
    "            ret_li1.append(\"short\")\n",
    "            ret_li2.append(round((100 / d_frame[\"Open\"][i]) * (d_frame[\"Open\"][i] - d_frame[\"Close\"][i]),2))\n",
    "            ret_li3.append(d_frame[\"Open\"][i] - d_frame[\"Close\"][i])\n",
    "            \n",
    "    return [ret_li1,ret_li2,ret_li3]\n",
    "     "
   ]
  },
  {
   "cell_type": "code",
   "execution_count": 652,
   "metadata": {},
   "outputs": [],
   "source": [
    "df_sap_in[\"decision\"], df_sap_in[\"Overnight %\"], df_sap_in[\"p/l\"] = dec_pl(df_sap_in)\n",
    "df_spy_in[\"decision\"], df_spy_in[\"Overnight %\"], df_spy_in[\"p/l\"] = dec_pl(df_spy_in)"
   ]
  },
  {
   "cell_type": "code",
   "execution_count": 653,
   "metadata": {
    "scrolled": true
   },
   "outputs": [
    {
     "data": {
      "text/html": [
       "<div>\n",
       "<style scoped>\n",
       "    .dataframe tbody tr th:only-of-type {\n",
       "        vertical-align: middle;\n",
       "    }\n",
       "\n",
       "    .dataframe tbody tr th {\n",
       "        vertical-align: top;\n",
       "    }\n",
       "\n",
       "    .dataframe thead th {\n",
       "        text-align: right;\n",
       "    }\n",
       "</style>\n",
       "<table border=\"1\" class=\"dataframe\">\n",
       "  <thead>\n",
       "    <tr style=\"text-align: right;\">\n",
       "      <th></th>\n",
       "      <th>Date</th>\n",
       "      <th>Year</th>\n",
       "      <th>Month</th>\n",
       "      <th>Day</th>\n",
       "      <th>Weekday</th>\n",
       "      <th>Week_Number</th>\n",
       "      <th>Year_Week</th>\n",
       "      <th>Open</th>\n",
       "      <th>High</th>\n",
       "      <th>Low</th>\n",
       "      <th>Close</th>\n",
       "      <th>Volume</th>\n",
       "      <th>Adj Close</th>\n",
       "      <th>Return</th>\n",
       "      <th>Short_MA</th>\n",
       "      <th>Long_MA</th>\n",
       "      <th>decision</th>\n",
       "      <th>Overnight %</th>\n",
       "      <th>p/l</th>\n",
       "    </tr>\n",
       "  </thead>\n",
       "  <tbody>\n",
       "    <tr>\n",
       "      <th>1254</th>\n",
       "      <td>2020-12-24</td>\n",
       "      <td>2020</td>\n",
       "      <td>12</td>\n",
       "      <td>24</td>\n",
       "      <td>Thursday</td>\n",
       "      <td>51</td>\n",
       "      <td>2020-51</td>\n",
       "      <td>125.92</td>\n",
       "      <td>126.31</td>\n",
       "      <td>125.60</td>\n",
       "      <td>126.06</td>\n",
       "      <td>223500.0</td>\n",
       "      <td>124.02</td>\n",
       "      <td>0.000476</td>\n",
       "      <td>122.470000</td>\n",
       "      <td>121.5332</td>\n",
       "      <td>short</td>\n",
       "      <td>-0.11</td>\n",
       "      <td>-0.14</td>\n",
       "    </tr>\n",
       "    <tr>\n",
       "      <th>1255</th>\n",
       "      <td>2020-12-28</td>\n",
       "      <td>2020</td>\n",
       "      <td>12</td>\n",
       "      <td>28</td>\n",
       "      <td>Monday</td>\n",
       "      <td>52</td>\n",
       "      <td>2020-52</td>\n",
       "      <td>129.34</td>\n",
       "      <td>131.00</td>\n",
       "      <td>128.08</td>\n",
       "      <td>130.91</td>\n",
       "      <td>1626100.0</td>\n",
       "      <td>128.80</td>\n",
       "      <td>0.038474</td>\n",
       "      <td>123.010714</td>\n",
       "      <td>121.0828</td>\n",
       "      <td>long</td>\n",
       "      <td>1.21</td>\n",
       "      <td>1.57</td>\n",
       "    </tr>\n",
       "    <tr>\n",
       "      <th>1256</th>\n",
       "      <td>2020-12-29</td>\n",
       "      <td>2020</td>\n",
       "      <td>12</td>\n",
       "      <td>29</td>\n",
       "      <td>Tuesday</td>\n",
       "      <td>52</td>\n",
       "      <td>2020-52</td>\n",
       "      <td>131.95</td>\n",
       "      <td>132.36</td>\n",
       "      <td>129.81</td>\n",
       "      <td>129.95</td>\n",
       "      <td>1058500.0</td>\n",
       "      <td>127.85</td>\n",
       "      <td>-0.007333</td>\n",
       "      <td>123.429286</td>\n",
       "      <td>120.5876</td>\n",
       "      <td>long</td>\n",
       "      <td>-1.52</td>\n",
       "      <td>-2.00</td>\n",
       "    </tr>\n",
       "    <tr>\n",
       "      <th>1257</th>\n",
       "      <td>2020-12-30</td>\n",
       "      <td>2020</td>\n",
       "      <td>12</td>\n",
       "      <td>30</td>\n",
       "      <td>Wednesday</td>\n",
       "      <td>52</td>\n",
       "      <td>2020-52</td>\n",
       "      <td>130.55</td>\n",
       "      <td>131.31</td>\n",
       "      <td>130.33</td>\n",
       "      <td>130.64</td>\n",
       "      <td>407200.0</td>\n",
       "      <td>128.53</td>\n",
       "      <td>0.005310</td>\n",
       "      <td>123.967857</td>\n",
       "      <td>120.1572</td>\n",
       "      <td>long</td>\n",
       "      <td>0.07</td>\n",
       "      <td>0.09</td>\n",
       "    </tr>\n",
       "    <tr>\n",
       "      <th>1258</th>\n",
       "      <td>2020-12-31</td>\n",
       "      <td>2020</td>\n",
       "      <td>12</td>\n",
       "      <td>31</td>\n",
       "      <td>Thursday</td>\n",
       "      <td>52</td>\n",
       "      <td>2020-52</td>\n",
       "      <td>130.67</td>\n",
       "      <td>130.86</td>\n",
       "      <td>129.65</td>\n",
       "      <td>130.39</td>\n",
       "      <td>379000.0</td>\n",
       "      <td>128.28</td>\n",
       "      <td>-0.001914</td>\n",
       "      <td>124.487143</td>\n",
       "      <td>119.7582</td>\n",
       "      <td>long</td>\n",
       "      <td>-0.21</td>\n",
       "      <td>-0.28</td>\n",
       "    </tr>\n",
       "  </tbody>\n",
       "</table>\n",
       "</div>"
      ],
      "text/plain": [
       "            Date  Year  Month  Day    Weekday  Week_Number Year_Week    Open  \\\n",
       "1254  2020-12-24  2020     12   24   Thursday           51   2020-51  125.92   \n",
       "1255  2020-12-28  2020     12   28     Monday           52   2020-52  129.34   \n",
       "1256  2020-12-29  2020     12   29    Tuesday           52   2020-52  131.95   \n",
       "1257  2020-12-30  2020     12   30  Wednesday           52   2020-52  130.55   \n",
       "1258  2020-12-31  2020     12   31   Thursday           52   2020-52  130.67   \n",
       "\n",
       "        High     Low   Close     Volume  Adj Close    Return    Short_MA  \\\n",
       "1254  126.31  125.60  126.06   223500.0     124.02  0.000476  122.470000   \n",
       "1255  131.00  128.08  130.91  1626100.0     128.80  0.038474  123.010714   \n",
       "1256  132.36  129.81  129.95  1058500.0     127.85 -0.007333  123.429286   \n",
       "1257  131.31  130.33  130.64   407200.0     128.53  0.005310  123.967857   \n",
       "1258  130.86  129.65  130.39   379000.0     128.28 -0.001914  124.487143   \n",
       "\n",
       "       Long_MA decision  Overnight %   p/l  \n",
       "1254  121.5332    short        -0.11 -0.14  \n",
       "1255  121.0828     long         1.21  1.57  \n",
       "1256  120.5876     long        -1.52 -2.00  \n",
       "1257  120.1572     long         0.07  0.09  \n",
       "1258  119.7582     long        -0.21 -0.28  "
      ]
     },
     "execution_count": 653,
     "metadata": {},
     "output_type": "execute_result"
    }
   ],
   "source": [
    "df_sap_in.tail(5)"
   ]
  },
  {
   "cell_type": "code",
   "execution_count": 654,
   "metadata": {
    "scrolled": true
   },
   "outputs": [
    {
     "data": {
      "text/html": [
       "<div>\n",
       "<style scoped>\n",
       "    .dataframe tbody tr th:only-of-type {\n",
       "        vertical-align: middle;\n",
       "    }\n",
       "\n",
       "    .dataframe tbody tr th {\n",
       "        vertical-align: top;\n",
       "    }\n",
       "\n",
       "    .dataframe thead th {\n",
       "        text-align: right;\n",
       "    }\n",
       "</style>\n",
       "<table border=\"1\" class=\"dataframe\">\n",
       "  <thead>\n",
       "    <tr style=\"text-align: right;\">\n",
       "      <th></th>\n",
       "      <th>Date</th>\n",
       "      <th>Year</th>\n",
       "      <th>Month</th>\n",
       "      <th>Day</th>\n",
       "      <th>Weekday</th>\n",
       "      <th>Week_Number</th>\n",
       "      <th>Year_Week</th>\n",
       "      <th>Open</th>\n",
       "      <th>High</th>\n",
       "      <th>Low</th>\n",
       "      <th>Close</th>\n",
       "      <th>Volume</th>\n",
       "      <th>Adj Close</th>\n",
       "      <th>Return</th>\n",
       "      <th>Short_MA</th>\n",
       "      <th>Long_MA</th>\n",
       "      <th>decision</th>\n",
       "      <th>Overnight %</th>\n",
       "      <th>p/l</th>\n",
       "    </tr>\n",
       "  </thead>\n",
       "  <tbody>\n",
       "    <tr>\n",
       "      <th>0</th>\n",
       "      <td>2016-01-04</td>\n",
       "      <td>2016</td>\n",
       "      <td>1</td>\n",
       "      <td>4</td>\n",
       "      <td>Monday</td>\n",
       "      <td>1</td>\n",
       "      <td>2016-01</td>\n",
       "      <td>200.49</td>\n",
       "      <td>201.03</td>\n",
       "      <td>198.59</td>\n",
       "      <td>201.02</td>\n",
       "      <td>222353500.0</td>\n",
       "      <td>182.51</td>\n",
       "      <td>0.000000</td>\n",
       "      <td>182.510</td>\n",
       "      <td>182.510</td>\n",
       "      <td>None</td>\n",
       "      <td>0.00</td>\n",
       "      <td>0.00</td>\n",
       "    </tr>\n",
       "    <tr>\n",
       "      <th>1</th>\n",
       "      <td>2016-01-05</td>\n",
       "      <td>2016</td>\n",
       "      <td>1</td>\n",
       "      <td>5</td>\n",
       "      <td>Tuesday</td>\n",
       "      <td>1</td>\n",
       "      <td>2016-01</td>\n",
       "      <td>201.40</td>\n",
       "      <td>201.90</td>\n",
       "      <td>200.05</td>\n",
       "      <td>201.36</td>\n",
       "      <td>110845800.0</td>\n",
       "      <td>182.82</td>\n",
       "      <td>0.001691</td>\n",
       "      <td>182.665</td>\n",
       "      <td>182.665</td>\n",
       "      <td>long</td>\n",
       "      <td>-0.02</td>\n",
       "      <td>-0.04</td>\n",
       "    </tr>\n",
       "    <tr>\n",
       "      <th>2</th>\n",
       "      <td>2016-01-06</td>\n",
       "      <td>2016</td>\n",
       "      <td>1</td>\n",
       "      <td>6</td>\n",
       "      <td>Wednesday</td>\n",
       "      <td>1</td>\n",
       "      <td>2016-01</td>\n",
       "      <td>198.34</td>\n",
       "      <td>200.06</td>\n",
       "      <td>197.60</td>\n",
       "      <td>198.82</td>\n",
       "      <td>152112600.0</td>\n",
       "      <td>180.52</td>\n",
       "      <td>-0.012614</td>\n",
       "      <td>181.950</td>\n",
       "      <td>181.950</td>\n",
       "      <td>short</td>\n",
       "      <td>-0.24</td>\n",
       "      <td>-0.48</td>\n",
       "    </tr>\n",
       "    <tr>\n",
       "      <th>3</th>\n",
       "      <td>2016-01-07</td>\n",
       "      <td>2016</td>\n",
       "      <td>1</td>\n",
       "      <td>7</td>\n",
       "      <td>Thursday</td>\n",
       "      <td>1</td>\n",
       "      <td>2016-01</td>\n",
       "      <td>195.33</td>\n",
       "      <td>197.44</td>\n",
       "      <td>193.59</td>\n",
       "      <td>194.05</td>\n",
       "      <td>213436100.0</td>\n",
       "      <td>176.19</td>\n",
       "      <td>-0.023991</td>\n",
       "      <td>180.510</td>\n",
       "      <td>180.510</td>\n",
       "      <td>short</td>\n",
       "      <td>0.66</td>\n",
       "      <td>1.28</td>\n",
       "    </tr>\n",
       "    <tr>\n",
       "      <th>4</th>\n",
       "      <td>2016-01-08</td>\n",
       "      <td>2016</td>\n",
       "      <td>1</td>\n",
       "      <td>8</td>\n",
       "      <td>Friday</td>\n",
       "      <td>1</td>\n",
       "      <td>2016-01</td>\n",
       "      <td>195.19</td>\n",
       "      <td>195.85</td>\n",
       "      <td>191.58</td>\n",
       "      <td>191.92</td>\n",
       "      <td>209817200.0</td>\n",
       "      <td>174.25</td>\n",
       "      <td>-0.010977</td>\n",
       "      <td>179.258</td>\n",
       "      <td>179.258</td>\n",
       "      <td>long</td>\n",
       "      <td>-1.68</td>\n",
       "      <td>-3.27</td>\n",
       "    </tr>\n",
       "  </tbody>\n",
       "</table>\n",
       "</div>"
      ],
      "text/plain": [
       "         Date  Year  Month  Day    Weekday  Week_Number Year_Week    Open  \\\n",
       "0  2016-01-04  2016      1    4     Monday            1   2016-01  200.49   \n",
       "1  2016-01-05  2016      1    5    Tuesday            1   2016-01  201.40   \n",
       "2  2016-01-06  2016      1    6  Wednesday            1   2016-01  198.34   \n",
       "3  2016-01-07  2016      1    7   Thursday            1   2016-01  195.33   \n",
       "4  2016-01-08  2016      1    8     Friday            1   2016-01  195.19   \n",
       "\n",
       "     High     Low   Close       Volume  Adj Close    Return  Short_MA  \\\n",
       "0  201.03  198.59  201.02  222353500.0     182.51  0.000000   182.510   \n",
       "1  201.90  200.05  201.36  110845800.0     182.82  0.001691   182.665   \n",
       "2  200.06  197.60  198.82  152112600.0     180.52 -0.012614   181.950   \n",
       "3  197.44  193.59  194.05  213436100.0     176.19 -0.023991   180.510   \n",
       "4  195.85  191.58  191.92  209817200.0     174.25 -0.010977   179.258   \n",
       "\n",
       "   Long_MA decision  Overnight %   p/l  \n",
       "0  182.510     None         0.00  0.00  \n",
       "1  182.665     long        -0.02 -0.04  \n",
       "2  181.950    short        -0.24 -0.48  \n",
       "3  180.510    short         0.66  1.28  \n",
       "4  179.258     long        -1.68 -3.27  "
      ]
     },
     "execution_count": 654,
     "metadata": {},
     "output_type": "execute_result"
    }
   ],
   "source": [
    "df_spy_in.head(5)"
   ]
  },
  {
   "cell_type": "markdown",
   "metadata": {},
   "source": [
    "#### Function to compute and create dataframe for summarizing each stock"
   ]
  },
  {
   "cell_type": "code",
   "execution_count": 655,
   "metadata": {},
   "outputs": [],
   "source": [
    "years = [2016,2017,2018,2019,2020]\n",
    "\n",
    "def day_sl(d_frame):\n",
    "    ret_s = list()\n",
    "    ret_l = list()\n",
    "    ret_Ps = list()\n",
    "    ret_Pl = list()\n",
    "    ret_Pss = list()\n",
    "    ret_Pll = list()\n",
    "    for i in years:\n",
    "        ret_s.append(d_frame[(d_frame[\"Year\"] == i) & (d_frame[\"decision\"] == \"short\")][\"decision\"].count())\n",
    "        ret_l.append(d_frame[(d_frame[\"Year\"] == i) & (d_frame[\"decision\"] == \"long\")][\"decision\"].count())\n",
    "        ret_Ps.append(d_frame[(d_frame[\"Year\"] == i) & (d_frame[\"decision\"] == \"short\")][\"p/l\"].sum())\n",
    "        ret_Pl.append(d_frame[(d_frame[\"Year\"] == i) & (d_frame[\"decision\"] == \"long\")][\"p/l\"].sum())\n",
    "        ret_Pss.append(d_frame[(d_frame[\"Year\"] == i) & (d_frame[\"decision\"] == \"short\")][\"p/l\"].mean())\n",
    "        ret_Pll.append(d_frame[(d_frame[\"Year\"] == i) & (d_frame[\"decision\"] == \"long\")][\"p/l\"].mean()) \n",
    "    ret_s.append(sum(ret_s))\n",
    "    ret_l.append(sum(ret_l))\n",
    "    ret_Ps.append(sum(ret_Ps))\n",
    "    ret_Pl.append(sum(ret_Pl))\n",
    "    ret_Pss.append(sum(ret_Pss))\n",
    "    ret_Pll.append(sum(ret_Pll))\n",
    "    df = pd.DataFrame({\"|S|\":ret_s,\"P(S)\":ret_Ps,\"P(S)/|S|\":ret_Pss,\"|L|\":ret_l, \\\n",
    "                             \"P(L)\":ret_Pl,\"P(L)/|L|\":ret_Pll},index = [\"1\",\"2\",\"3\",\"4\",\"5\",\"1-5\"])\n",
    "    return df"
   ]
  },
  {
   "cell_type": "code",
   "execution_count": 686,
   "metadata": {},
   "outputs": [
    {
     "name": "stdout",
     "output_type": "stream",
     "text": [
      "SAP Summary Table\n"
     ]
    },
    {
     "data": {
      "text/html": [
       "<div>\n",
       "<style scoped>\n",
       "    .dataframe tbody tr th:only-of-type {\n",
       "        vertical-align: middle;\n",
       "    }\n",
       "\n",
       "    .dataframe tbody tr th {\n",
       "        vertical-align: top;\n",
       "    }\n",
       "\n",
       "    .dataframe thead th {\n",
       "        text-align: right;\n",
       "    }\n",
       "</style>\n",
       "<table border=\"1\" class=\"dataframe\">\n",
       "  <thead>\n",
       "    <tr style=\"text-align: right;\">\n",
       "      <th></th>\n",
       "      <th>|S|</th>\n",
       "      <th>P(S)</th>\n",
       "      <th>P(S)/|S|</th>\n",
       "      <th>|L|</th>\n",
       "      <th>P(L)</th>\n",
       "      <th>P(L)/|L|</th>\n",
       "    </tr>\n",
       "  </thead>\n",
       "  <tbody>\n",
       "    <tr>\n",
       "      <th>1</th>\n",
       "      <td>133</td>\n",
       "      <td>-19.14</td>\n",
       "      <td>-0.14</td>\n",
       "      <td>115</td>\n",
       "      <td>-0.06</td>\n",
       "      <td>-0.00</td>\n",
       "    </tr>\n",
       "    <tr>\n",
       "      <th>2</th>\n",
       "      <td>128</td>\n",
       "      <td>-19.98</td>\n",
       "      <td>-0.16</td>\n",
       "      <td>118</td>\n",
       "      <td>3.22</td>\n",
       "      <td>0.03</td>\n",
       "    </tr>\n",
       "    <tr>\n",
       "      <th>3</th>\n",
       "      <td>106</td>\n",
       "      <td>5.15</td>\n",
       "      <td>0.05</td>\n",
       "      <td>144</td>\n",
       "      <td>-4.30</td>\n",
       "      <td>-0.03</td>\n",
       "    </tr>\n",
       "    <tr>\n",
       "      <th>4</th>\n",
       "      <td>126</td>\n",
       "      <td>-11.28</td>\n",
       "      <td>-0.09</td>\n",
       "      <td>125</td>\n",
       "      <td>3.27</td>\n",
       "      <td>0.03</td>\n",
       "    </tr>\n",
       "    <tr>\n",
       "      <th>5</th>\n",
       "      <td>110</td>\n",
       "      <td>-1.77</td>\n",
       "      <td>-0.02</td>\n",
       "      <td>142</td>\n",
       "      <td>-14.56</td>\n",
       "      <td>-0.10</td>\n",
       "    </tr>\n",
       "    <tr>\n",
       "      <th>1-5</th>\n",
       "      <td>603</td>\n",
       "      <td>-47.02</td>\n",
       "      <td>-0.36</td>\n",
       "      <td>644</td>\n",
       "      <td>-12.43</td>\n",
       "      <td>-0.08</td>\n",
       "    </tr>\n",
       "  </tbody>\n",
       "</table>\n",
       "</div>"
      ],
      "text/plain": [
       "     |S|   P(S)  P(S)/|S|  |L|   P(L)  P(L)/|L|\n",
       "1    133 -19.14     -0.14  115  -0.06     -0.00\n",
       "2    128 -19.98     -0.16  118   3.22      0.03\n",
       "3    106   5.15      0.05  144  -4.30     -0.03\n",
       "4    126 -11.28     -0.09  125   3.27      0.03\n",
       "5    110  -1.77     -0.02  142 -14.56     -0.10\n",
       "1-5  603 -47.02     -0.36  644 -12.43     -0.08"
      ]
     },
     "execution_count": 686,
     "metadata": {},
     "output_type": "execute_result"
    }
   ],
   "source": [
    "df_sap_table = day_sl(df_sap_in)\n",
    "print(\"SAP Summary Table\")\n",
    "df_sap_table.round({\"P(S)\":2,\"P(S)/|S|\":2,\"P(L)\":2,\"P(L)/|L|\":2})"
   ]
  },
  {
   "cell_type": "code",
   "execution_count": 687,
   "metadata": {},
   "outputs": [
    {
     "name": "stdout",
     "output_type": "stream",
     "text": [
      "S&P 500 Summary Table\n"
     ]
    },
    {
     "data": {
      "text/html": [
       "<div>\n",
       "<style scoped>\n",
       "    .dataframe tbody tr th:only-of-type {\n",
       "        vertical-align: middle;\n",
       "    }\n",
       "\n",
       "    .dataframe tbody tr th {\n",
       "        vertical-align: top;\n",
       "    }\n",
       "\n",
       "    .dataframe thead th {\n",
       "        text-align: right;\n",
       "    }\n",
       "</style>\n",
       "<table border=\"1\" class=\"dataframe\">\n",
       "  <thead>\n",
       "    <tr style=\"text-align: right;\">\n",
       "      <th></th>\n",
       "      <th>|S|</th>\n",
       "      <th>P(S)</th>\n",
       "      <th>P(S)/|S|</th>\n",
       "      <th>|L|</th>\n",
       "      <th>P(L)</th>\n",
       "      <th>P(L)/|L|</th>\n",
       "    </tr>\n",
       "  </thead>\n",
       "  <tbody>\n",
       "    <tr>\n",
       "      <th>1</th>\n",
       "      <td>113</td>\n",
       "      <td>-9.19</td>\n",
       "      <td>-0.08</td>\n",
       "      <td>128</td>\n",
       "      <td>8.92</td>\n",
       "      <td>0.07</td>\n",
       "    </tr>\n",
       "    <tr>\n",
       "      <th>2</th>\n",
       "      <td>96</td>\n",
       "      <td>-11.68</td>\n",
       "      <td>-0.12</td>\n",
       "      <td>142</td>\n",
       "      <td>3.34</td>\n",
       "      <td>0.02</td>\n",
       "    </tr>\n",
       "    <tr>\n",
       "      <th>3</th>\n",
       "      <td>110</td>\n",
       "      <td>28.48</td>\n",
       "      <td>0.26</td>\n",
       "      <td>141</td>\n",
       "      <td>-20.60</td>\n",
       "      <td>-0.15</td>\n",
       "    </tr>\n",
       "    <tr>\n",
       "      <th>4</th>\n",
       "      <td>104</td>\n",
       "      <td>-18.63</td>\n",
       "      <td>-0.18</td>\n",
       "      <td>147</td>\n",
       "      <td>17.04</td>\n",
       "      <td>0.12</td>\n",
       "    </tr>\n",
       "    <tr>\n",
       "      <th>5</th>\n",
       "      <td>109</td>\n",
       "      <td>-4.91</td>\n",
       "      <td>-0.05</td>\n",
       "      <td>144</td>\n",
       "      <td>1.12</td>\n",
       "      <td>0.01</td>\n",
       "    </tr>\n",
       "    <tr>\n",
       "      <th>1-5</th>\n",
       "      <td>532</td>\n",
       "      <td>-15.93</td>\n",
       "      <td>-0.17</td>\n",
       "      <td>702</td>\n",
       "      <td>9.82</td>\n",
       "      <td>0.07</td>\n",
       "    </tr>\n",
       "  </tbody>\n",
       "</table>\n",
       "</div>"
      ],
      "text/plain": [
       "     |S|   P(S)  P(S)/|S|  |L|   P(L)  P(L)/|L|\n",
       "1    113  -9.19     -0.08  128   8.92      0.07\n",
       "2     96 -11.68     -0.12  142   3.34      0.02\n",
       "3    110  28.48      0.26  141 -20.60     -0.15\n",
       "4    104 -18.63     -0.18  147  17.04      0.12\n",
       "5    109  -4.91     -0.05  144   1.12      0.01\n",
       "1-5  532 -15.93     -0.17  702   9.82      0.07"
      ]
     },
     "execution_count": 687,
     "metadata": {},
     "output_type": "execute_result"
    }
   ],
   "source": [
    "df_spy_table = day_sl(df_spy_in)\n",
    "print(\"S&P 500 Summary Table\")\n",
    "df_spy_table.round({\"P(S)\":2,\"P(S)/|S|\":2,\"P(L)\":2,\"P(L)/|L|\":2})"
   ]
  },
  {
   "cell_type": "markdown",
   "metadata": {},
   "source": [
    "### 1. what is the average daily profit for your stock and \"spy\"?"
   ]
  },
  {
   "cell_type": "code",
   "execution_count": 658,
   "metadata": {},
   "outputs": [
    {
     "name": "stdout",
     "output_type": "stream",
     "text": [
      "\n",
      "Daily average for my stock SAP-0.437 and \n",
      "Daily average for SPY-0.097\n",
      "\n"
     ]
    }
   ],
   "source": [
    "print(f\"\"\"\n",
    "Daily average for my stock SAP{round(df_sap_table.loc[\"1-5\"][\"P(S)/|S|\"] + df_sap_table.loc[\"1-5\"][\"P(L)/|L|\"],3)} and \n",
    "Daily average for SPY{round(df_spy_table.loc[\"1-5\"][\"P(S)/|S|\"] + df_spy_table.loc[\"1-5\"][\"P(L)/|L|\"],3)}\n",
    "\"\"\")"
   ]
  },
  {
   "cell_type": "markdown",
   "metadata": {},
   "source": [
    "### 2. is the profit from \"long\" positions (when you buy) higher or lower than your profit from 'short\" positions (when you sell short)? What is more profitable: long or short positions?"
   ]
  },
  {
   "cell_type": "markdown",
   "metadata": {},
   "source": [
    "* My Stock SAP \n",
    "    * Short trading gave me Total loss of \\$ 47.02\n",
    "    * Long trading gave me Total loss of \\$ 12.43\n",
    "* SPY\n",
    "    * Short trading gave me Total loss of \\$ 15.93\n",
    "    * Long trading gave me Total Profit of \\$ 9.82\n",
    "    \n",
    "**Long position was better than the short position for both My stock and S&P500**"
   ]
  },
  {
   "cell_type": "markdown",
   "metadata": {},
   "source": [
    "### 3. We would like to investigate the impact of this hyperparameter x. Take 100 points for x from 0 to 10% and plot the average profit per trade P(S + L)=|S + L| (over 5 years). Discuss your findings. Any patterns? Any optimal values for x?"
   ]
  },
  {
   "cell_type": "code",
   "execution_count": 659,
   "metadata": {},
   "outputs": [],
   "source": [
    "def ovrnig_ret(d_frame,part):\n",
    "    pct_points = np.arange(0.1,10.1,0.1)\n",
    "    ret_li1 = list()\n",
    "    for i in pct_points:\n",
    "        if part == \"longshort\":\n",
    "            if len(d_frame[d_frame[\"Overnight %\"] > i][\"p/l\"]) > 0:\n",
    "                ret_li1.append(d_frame[abs(d_frame[\"Overnight %\"]) > i][\"p/l\"].mean())\n",
    "            else:\n",
    "                ret_li1.append(0)\n",
    "        elif part == \"short\":\n",
    "            if len(d_frame[(d_frame[\"Overnight %\"] > i) & (d_frame[\"decision\"] == \"short\")][\"p/l\"]) > 0:\n",
    "                ret_li1.append(d_frame[abs(d_frame[\"Overnight %\"]) > i][\"p/l\"].mean())\n",
    "            else:\n",
    "                ret_li1.append(0)\n",
    "        elif part == \"long\":\n",
    "            if len(d_frame[(d_frame[\"Overnight %\"] > i) & (d_frame[\"decision\"] == \"long\")][\"p/l\"]) > 0:\n",
    "                ret_li1.append(d_frame[abs(d_frame[\"Overnight %\"]) > i][\"p/l\"].mean())\n",
    "            else:\n",
    "                ret_li1.append(0)            \n",
    "            \n",
    "            \n",
    "    ret_df1 = pd.DataFrame(ret_li1, index=pct_points, columns=[\"Avg profit per trade\"])\n",
    "    return ret_df1"
   ]
  },
  {
   "cell_type": "code",
   "execution_count": 674,
   "metadata": {},
   "outputs": [
    {
     "data": {
      "image/png": "[encoded data removed]",
      "text/plain": [
       "<Figure size 432x288 with 1 Axes>"
      ]
     },
     "metadata": {
      "needs_background": "light"
     },
     "output_type": "display_data"
    }
   ],
   "source": [
    "avg_p_sap = ovrnig_ret(df_sap_in,\"longshort\")\n",
    "avg_p_sap.plot()\n",
    "plt.xlabel(\"Trading % from 0 to 10\",fontsize = 14)\n",
    "plt.ylabel(\"Avg profit in \\$$\",fontsize = 14)\n",
    "plt.title(\"Avg Profit per trades for Ticker SAP\",fontsize = 16)\n",
    "plt.show()"
   ]
  },
  {
   "cell_type": "code",
   "execution_count": 675,
   "metadata": {},
   "outputs": [
    {
     "data": {
      "image/png": "[encoded data removed]",
      "text/plain": [
       "<Figure size 432x288 with 1 Axes>"
      ]
     },
     "metadata": {
      "needs_background": "light"
     },
     "output_type": "display_data"
    }
   ],
   "source": [
    "avg_p_spy = ovrnig_ret(df_spy_in,\"longshort\")\n",
    "avg_p_spy.plot()\n",
    "plt.xlabel(\"Trading % from 0 to 10\",fontsize = 14)\n",
    "plt.ylabel(\"Avg profit in \\$$\",fontsize = 14)\n",
    "plt.title(\"Avg Profit per trades for Ticker S&P 500\",fontsize = 16)\n",
    "plt.show()"
   ]
  },
  {
   "cell_type": "markdown",
   "metadata": {},
   "source": []
  },
  {
   "cell_type": "markdown",
   "metadata": {},
   "source": [
    "### 4. perform the above analysis separately for long and short positions (both your stock and S&P-500). Discuss your findings."
   ]
  },
  {
   "cell_type": "markdown",
   "metadata": {},
   "source": [
    "### Short Position"
   ]
  },
  {
   "cell_type": "code",
   "execution_count": 662,
   "metadata": {},
   "outputs": [
    {
     "data": {
      "image/png": "[encoded data removed]",
      "text/plain": [
       "<Figure size 432x288 with 1 Axes>"
      ]
     },
     "metadata": {
      "needs_background": "light"
     },
     "output_type": "display_data"
    }
   ],
   "source": [
    "avg_p_sap = ovrnig_ret(df_sap_in,\"short\")\n",
    "avg_p_sap.plot()\n",
    "plt.xlabel(\"Trading % from 0 to 10\",fontsize = 14)\n",
    "plt.ylabel(\"Avg profit in \\$$\",fontsize = 14)\n",
    "plt.title(\"Avg Profit per trades for Ticker SAP on short position\",fontsize = 16)\n",
    "plt.show()"
   ]
  },
  {
   "cell_type": "code",
   "execution_count": 663,
   "metadata": {},
   "outputs": [
    {
     "data": {
      "image/png": "[encoded data removed]",
      "text/plain": [
       "<Figure size 432x288 with 1 Axes>"
      ]
     },
     "metadata": {
      "needs_background": "light"
     },
     "output_type": "display_data"
    }
   ],
   "source": [
    "avg_p_spy = ovrnig_ret(df_spy_in,\"short\")\n",
    "avg_p_spy.plot()\n",
    "plt.xlabel(\"Trading % from 0 to 10\",fontsize = 14)\n",
    "plt.ylabel(\"Avg profit in \\$$\",fontsize = 14)\n",
    "plt.title(\"Avg Profit per trades for Ticker S&P 500 on short position\",fontsize = 16)\n",
    "plt.show()"
   ]
  },
  {
   "cell_type": "markdown",
   "metadata": {},
   "source": [
    "### Long Position"
   ]
  },
  {
   "cell_type": "code",
   "execution_count": 664,
   "metadata": {},
   "outputs": [
    {
     "data": {
      "image/png": "[encoded data removed]",
      "text/plain": [
       "<Figure size 432x288 with 1 Axes>"
      ]
     },
     "metadata": {
      "needs_background": "light"
     },
     "output_type": "display_data"
    }
   ],
   "source": [
    "avg_p_sap = ovrnig_ret(df_sap_in,\"long\")\n",
    "avg_p_sap.plot()\n",
    "plt.xlabel(\"Trading % from 0 to 10\",fontsize = 14)\n",
    "plt.ylabel(\"Avg profit in \\$$\",fontsize = 14)\n",
    "plt.title(\"Avg Profit per trades for Ticker SAP on long position\",fontsize = 16)\n",
    "plt.show()"
   ]
  },
  {
   "cell_type": "code",
   "execution_count": 665,
   "metadata": {},
   "outputs": [
    {
     "data": {
      "image/png": "[encoded data removed]",
      "text/plain": [
       "<Figure size 432x288 with 1 Axes>"
      ]
     },
     "metadata": {
      "needs_background": "light"
     },
     "output_type": "display_data"
    }
   ],
   "source": [
    "avg_p_spy = ovrnig_ret(df_spy_in,\"long\")\n",
    "avg_p_spy.plot()\n",
    "plt.xlabel(\"Trading % from 0 to 10\",fontsize = 14)\n",
    "plt.ylabel(\"Avg profit in \\$$\",fontsize = 14)\n",
    "plt.title(\"Avg Profit per trades for Ticker S&P 500 on long position\",fontsize = 16)\n",
    "plt.show()"
   ]
  },
  {
   "cell_type": "markdown",
   "metadata": {},
   "source": [
    "* Long position has given more average per trade profit for both SAP and SPY\n",
    "* We can see negative profit for both long and short position for SPY.\n",
    "* SAP has a relatively higher daily overnight return % then SPY."
   ]
  },
  {
   "cell_type": "markdown",
   "metadata": {},
   "source": [
    "### 5. plot two histograms on the distribution of last digit (cent position) for the \"Open\" prices for your stock and for S&P-500. What digit has the highest and the lowest frequency? For which security, the distribution seems to be more uni- form?"
   ]
  },
  {
   "cell_type": "code",
   "execution_count": 666,
   "metadata": {},
   "outputs": [],
   "source": [
    "equal = {}\n",
    "for i in range(1,10):\n",
    "    equal[i] = 11.1\n",
    "df_equal = pd.DataFrame(equal, index = [\"Equal%\"])\n",
    "df_equal = df_equal.T"
   ]
  },
  {
   "cell_type": "code",
   "execution_count": 667,
   "metadata": {},
   "outputs": [],
   "source": [
    "def cent_pos(d_frame):\n",
    "    last_digit = list()\n",
    "    for i in d_frame[\"Open\"]:\n",
    "        last_digit.append(int(str(i)[-1]))    \n",
    "    last_digit = pd.Series(last_digit)\n",
    "    \n",
    "    actual = dict()\n",
    "    for i in range(1,10):\n",
    "        actual[i] = round((sum(np.where(last_digit == i, 1,0)) / len(d_frame[d_frame[\"Open\"] > 1] )) * 100, 2)\n",
    "    df_cent = pd.DataFrame(actual, index = [\"Actual%\"]).T\n",
    "    return df_cent"
   ]
  },
  {
   "cell_type": "code",
   "execution_count": 668,
   "metadata": {},
   "outputs": [],
   "source": [
    "df_cent_sap = cent_pos(df_sap_in)\n",
    "df_cent_spy = cent_pos(df_spy_in)"
   ]
  },
  {
   "cell_type": "code",
   "execution_count": 669,
   "metadata": {},
   "outputs": [
    {
     "data": {
      "image/png": "[encoded data removed]",
      "text/plain": [
       "<Figure size 432x288 with 1 Axes>"
      ]
     },
     "metadata": {
      "needs_background": "light"
     },
     "output_type": "display_data"
    }
   ],
   "source": [
    "df_equal.plot.bar(rot = 0)\n",
    "plt.xlabel(\"No. distribution 1 - 9\",fontsize = 14)\n",
    "plt.ylabel(\"No. distribution in %\",fontsize = 14)\n",
    "plt.title(\"Equal Weight number distribution\",fontsize = 16)\n",
    "plt.show()"
   ]
  },
  {
   "cell_type": "code",
   "execution_count": 670,
   "metadata": {},
   "outputs": [
    {
     "data": {
      "text/html": [
       "<div>\n",
       "<style scoped>\n",
       "    .dataframe tbody tr th:only-of-type {\n",
       "        vertical-align: middle;\n",
       "    }\n",
       "\n",
       "    .dataframe tbody tr th {\n",
       "        vertical-align: top;\n",
       "    }\n",
       "\n",
       "    .dataframe thead th {\n",
       "        text-align: right;\n",
       "    }\n",
       "</style>\n",
       "<table border=\"1\" class=\"dataframe\">\n",
       "  <thead>\n",
       "    <tr style=\"text-align: right;\">\n",
       "      <th></th>\n",
       "      <th>Actual%</th>\n",
       "    </tr>\n",
       "  </thead>\n",
       "  <tbody>\n",
       "    <tr>\n",
       "      <th>1</th>\n",
       "      <td>9.93</td>\n",
       "    </tr>\n",
       "    <tr>\n",
       "      <th>2</th>\n",
       "      <td>11.60</td>\n",
       "    </tr>\n",
       "    <tr>\n",
       "      <th>3</th>\n",
       "      <td>10.09</td>\n",
       "    </tr>\n",
       "    <tr>\n",
       "      <th>4</th>\n",
       "      <td>10.25</td>\n",
       "    </tr>\n",
       "    <tr>\n",
       "      <th>5</th>\n",
       "      <td>10.96</td>\n",
       "    </tr>\n",
       "    <tr>\n",
       "      <th>6</th>\n",
       "      <td>11.52</td>\n",
       "    </tr>\n",
       "    <tr>\n",
       "      <th>7</th>\n",
       "      <td>11.91</td>\n",
       "    </tr>\n",
       "    <tr>\n",
       "      <th>8</th>\n",
       "      <td>12.71</td>\n",
       "    </tr>\n",
       "    <tr>\n",
       "      <th>9</th>\n",
       "      <td>9.85</td>\n",
       "    </tr>\n",
       "  </tbody>\n",
       "</table>\n",
       "</div>"
      ],
      "text/plain": [
       "   Actual%\n",
       "1     9.93\n",
       "2    11.60\n",
       "3    10.09\n",
       "4    10.25\n",
       "5    10.96\n",
       "6    11.52\n",
       "7    11.91\n",
       "8    12.71\n",
       "9     9.85"
      ]
     },
     "execution_count": 670,
     "metadata": {},
     "output_type": "execute_result"
    }
   ],
   "source": [
    "df_cent_sap"
   ]
  },
  {
   "cell_type": "code",
   "execution_count": 671,
   "metadata": {
    "scrolled": true
   },
   "outputs": [
    {
     "data": {
      "image/png": "[encoded data removed]",
      "text/plain": [
       "<Figure size 432x288 with 1 Axes>"
      ]
     },
     "metadata": {
      "needs_background": "light"
     },
     "output_type": "display_data"
    }
   ],
   "source": [
    "df_cent_sap.plot.bar(rot = 0)\n",
    "plt.xlabel(\"No. distribution 1 - 9\",fontsize = 14)\n",
    "plt.ylabel(\"No. distribution in %\",fontsize = 14)\n",
    "plt.title(\"SAP last digit distribution\",fontsize = 16)\n",
    "plt.show()"
   ]
  },
  {
   "cell_type": "markdown",
   "metadata": {},
   "source": [
    "#### SAP Stock\n",
    "\n",
    "* Digit 8 has the highest frequency 12.71%\n",
    "* Digit 1 has the lowest frequency 9.93%"
   ]
  },
  {
   "cell_type": "code",
   "execution_count": 672,
   "metadata": {},
   "outputs": [
    {
     "data": {
      "text/html": [
       "<div>\n",
       "<style scoped>\n",
       "    .dataframe tbody tr th:only-of-type {\n",
       "        vertical-align: middle;\n",
       "    }\n",
       "\n",
       "    .dataframe tbody tr th {\n",
       "        vertical-align: top;\n",
       "    }\n",
       "\n",
       "    .dataframe thead th {\n",
       "        text-align: right;\n",
       "    }\n",
       "</style>\n",
       "<table border=\"1\" class=\"dataframe\">\n",
       "  <thead>\n",
       "    <tr style=\"text-align: right;\">\n",
       "      <th></th>\n",
       "      <th>Actual%</th>\n",
       "    </tr>\n",
       "  </thead>\n",
       "  <tbody>\n",
       "    <tr>\n",
       "      <th>1</th>\n",
       "      <td>11.68</td>\n",
       "    </tr>\n",
       "    <tr>\n",
       "      <th>2</th>\n",
       "      <td>10.80</td>\n",
       "    </tr>\n",
       "    <tr>\n",
       "      <th>3</th>\n",
       "      <td>9.93</td>\n",
       "    </tr>\n",
       "    <tr>\n",
       "      <th>4</th>\n",
       "      <td>12.79</td>\n",
       "    </tr>\n",
       "    <tr>\n",
       "      <th>5</th>\n",
       "      <td>9.93</td>\n",
       "    </tr>\n",
       "    <tr>\n",
       "      <th>6</th>\n",
       "      <td>11.60</td>\n",
       "    </tr>\n",
       "    <tr>\n",
       "      <th>7</th>\n",
       "      <td>12.31</td>\n",
       "    </tr>\n",
       "    <tr>\n",
       "      <th>8</th>\n",
       "      <td>9.29</td>\n",
       "    </tr>\n",
       "    <tr>\n",
       "      <th>9</th>\n",
       "      <td>9.93</td>\n",
       "    </tr>\n",
       "  </tbody>\n",
       "</table>\n",
       "</div>"
      ],
      "text/plain": [
       "   Actual%\n",
       "1    11.68\n",
       "2    10.80\n",
       "3     9.93\n",
       "4    12.79\n",
       "5     9.93\n",
       "6    11.60\n",
       "7    12.31\n",
       "8     9.29\n",
       "9     9.93"
      ]
     },
     "execution_count": 672,
     "metadata": {},
     "output_type": "execute_result"
    }
   ],
   "source": [
    "df_cent_spy"
   ]
  },
  {
   "cell_type": "code",
   "execution_count": 673,
   "metadata": {
    "scrolled": false
   },
   "outputs": [
    {
     "data": {
      "image/png": "[encoded data removed]",
      "text/plain": [
       "<Figure size 432x288 with 1 Axes>"
      ]
     },
     "metadata": {
      "needs_background": "light"
     },
     "output_type": "display_data"
    }
   ],
   "source": [
    "df_cent_spy.plot.bar(rot = 0)\n",
    "plt.xlabel(\"No. distribution 1 - 9\",fontsize = 14)\n",
    "plt.ylabel(\"No. distribution in %\",fontsize = 14)\n",
    "plt.title(\"S&P 500 last digit distribution\",fontsize = 16)\n",
    "plt.show()"
   ]
  },
  {
   "cell_type": "markdown",
   "metadata": {},
   "source": [
    "#### S&P 500 Stock\n",
    "\n",
    "* Digit 4 has the highest frequency 12.79%\n",
    "* Digit 8 has the lowest frequency 9.29%"
   ]
  },
  {
   "cell_type": "markdown",
   "metadata": {},
   "source": [
    "#### SAP seems to have more uniform distribution between the two security"
   ]
  }
 ],
 "metadata": {
  "kernelspec": {
   "display_name": "Python 3",
   "language": "python",
   "name": "python3"
  },
  "language_info": {
   "codemirror_mode": {
    "name": "ipython",
    "version": 3
   },
   "file_extension": ".py",
   "mimetype": "text/x-python",
   "name": "python",
   "nbconvert_exporter": "python",
   "pygments_lexer": "ipython3",
   "version": "3.8.8"
  }
 },
 "nbformat": 4,
 "nbformat_minor": 4
}
