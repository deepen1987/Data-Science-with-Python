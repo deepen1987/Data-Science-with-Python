{
 "cells": [
  {
   "cell_type": "code",
   "execution_count": 348,
   "metadata": {},
   "outputs": [],
   "source": [
    "import pandas as pd\n",
    "import numpy as np\n",
    "import matplotlib.pyplot as plt"
   ]
  },
  {
   "cell_type": "code",
   "execution_count": 349,
   "metadata": {},
   "outputs": [],
   "source": [
    "df_week = pd.read_csv(\"SAP_weekly_return_volatility.csv\")\n",
    "df_daily = pd.read_csv(\"SAP_weekly_return_volatility_detailed.csv\")"
   ]
  },
  {
   "cell_type": "code",
   "execution_count": 350,
   "metadata": {},
   "outputs": [
    {
     "data": {
      "text/html": [
       "<div>\n",
       "<style scoped>\n",
       "    .dataframe tbody tr th:only-of-type {\n",
       "        vertical-align: middle;\n",
       "    }\n",
       "\n",
       "    .dataframe tbody tr th {\n",
       "        vertical-align: top;\n",
       "    }\n",
       "\n",
       "    .dataframe thead th {\n",
       "        text-align: right;\n",
       "    }\n",
       "</style>\n",
       "<table border=\"1\" class=\"dataframe\">\n",
       "  <thead>\n",
       "    <tr style=\"text-align: right;\">\n",
       "      <th></th>\n",
       "      <th>Year</th>\n",
       "      <th>Week_Number</th>\n",
       "      <th>mean_return</th>\n",
       "      <th>volatility</th>\n",
       "      <th>label</th>\n",
       "    </tr>\n",
       "  </thead>\n",
       "  <tbody>\n",
       "    <tr>\n",
       "      <th>0</th>\n",
       "      <td>2019</td>\n",
       "      <td>0</td>\n",
       "      <td>-0.1050</td>\n",
       "      <td>3.594650</td>\n",
       "      <td>0</td>\n",
       "    </tr>\n",
       "    <tr>\n",
       "      <th>1</th>\n",
       "      <td>2019</td>\n",
       "      <td>1</td>\n",
       "      <td>0.6532</td>\n",
       "      <td>1.153409</td>\n",
       "      <td>1</td>\n",
       "    </tr>\n",
       "    <tr>\n",
       "      <th>2</th>\n",
       "      <td>2019</td>\n",
       "      <td>2</td>\n",
       "      <td>0.7326</td>\n",
       "      <td>1.198802</td>\n",
       "      <td>1</td>\n",
       "    </tr>\n",
       "    <tr>\n",
       "      <th>3</th>\n",
       "      <td>2019</td>\n",
       "      <td>3</td>\n",
       "      <td>0.0735</td>\n",
       "      <td>1.593999</td>\n",
       "      <td>0</td>\n",
       "    </tr>\n",
       "    <tr>\n",
       "      <th>4</th>\n",
       "      <td>2019</td>\n",
       "      <td>4</td>\n",
       "      <td>-0.3746</td>\n",
       "      <td>2.056743</td>\n",
       "      <td>0</td>\n",
       "    </tr>\n",
       "  </tbody>\n",
       "</table>\n",
       "</div>"
      ],
      "text/plain": [
       "   Year  Week_Number  mean_return  volatility  label\n",
       "0  2019            0      -0.1050    3.594650      0\n",
       "1  2019            1       0.6532    1.153409      1\n",
       "2  2019            2       0.7326    1.198802      1\n",
       "3  2019            3       0.0735    1.593999      0\n",
       "4  2019            4      -0.3746    2.056743      0"
      ]
     },
     "execution_count": 350,
     "metadata": {},
     "output_type": "execute_result"
    }
   ],
   "source": [
    "df_week.head(5)"
   ]
  },
  {
   "cell_type": "code",
   "execution_count": 351,
   "metadata": {},
   "outputs": [
    {
     "data": {
      "text/html": [
       "<div>\n",
       "<style scoped>\n",
       "    .dataframe tbody tr th:only-of-type {\n",
       "        vertical-align: middle;\n",
       "    }\n",
       "\n",
       "    .dataframe tbody tr th {\n",
       "        vertical-align: top;\n",
       "    }\n",
       "\n",
       "    .dataframe thead th {\n",
       "        text-align: right;\n",
       "    }\n",
       "</style>\n",
       "<table border=\"1\" class=\"dataframe\">\n",
       "  <thead>\n",
       "    <tr style=\"text-align: right;\">\n",
       "      <th></th>\n",
       "      <th>High</th>\n",
       "      <th>Low</th>\n",
       "      <th>Open</th>\n",
       "      <th>Close</th>\n",
       "      <th>Volume</th>\n",
       "      <th>Adj Close</th>\n",
       "      <th>Return</th>\n",
       "      <th>Date</th>\n",
       "      <th>Week_Number</th>\n",
       "      <th>Year</th>\n",
       "      <th>Day</th>\n",
       "      <th>Weekday</th>\n",
       "      <th>mean_return</th>\n",
       "      <th>volatility</th>\n",
       "    </tr>\n",
       "  </thead>\n",
       "  <tbody>\n",
       "    <tr>\n",
       "      <th>0</th>\n",
       "      <td>99.559998</td>\n",
       "      <td>98.339996</td>\n",
       "      <td>98.570000</td>\n",
       "      <td>99.180000</td>\n",
       "      <td>506300.0</td>\n",
       "      <td>94.896118</td>\n",
       "      <td>0.000</td>\n",
       "      <td>2019-01-02</td>\n",
       "      <td>0</td>\n",
       "      <td>2019</td>\n",
       "      <td>2</td>\n",
       "      <td>Wednesday</td>\n",
       "      <td>-0.1050</td>\n",
       "      <td>3.594650</td>\n",
       "    </tr>\n",
       "    <tr>\n",
       "      <th>1</th>\n",
       "      <td>96.830002</td>\n",
       "      <td>95.449997</td>\n",
       "      <td>96.730003</td>\n",
       "      <td>95.459999</td>\n",
       "      <td>807800.0</td>\n",
       "      <td>91.336800</td>\n",
       "      <td>-3.751</td>\n",
       "      <td>2019-01-03</td>\n",
       "      <td>0</td>\n",
       "      <td>2019</td>\n",
       "      <td>3</td>\n",
       "      <td>Thursday</td>\n",
       "      <td>-0.1050</td>\n",
       "      <td>3.594650</td>\n",
       "    </tr>\n",
       "    <tr>\n",
       "      <th>2</th>\n",
       "      <td>99.199997</td>\n",
       "      <td>96.910004</td>\n",
       "      <td>97.339996</td>\n",
       "      <td>98.739998</td>\n",
       "      <td>1038100.0</td>\n",
       "      <td>94.475128</td>\n",
       "      <td>3.436</td>\n",
       "      <td>2019-01-04</td>\n",
       "      <td>0</td>\n",
       "      <td>2019</td>\n",
       "      <td>4</td>\n",
       "      <td>Friday</td>\n",
       "      <td>-0.1050</td>\n",
       "      <td>3.594650</td>\n",
       "    </tr>\n",
       "    <tr>\n",
       "      <th>3</th>\n",
       "      <td>100.190002</td>\n",
       "      <td>98.760002</td>\n",
       "      <td>99.440002</td>\n",
       "      <td>99.709999</td>\n",
       "      <td>861600.0</td>\n",
       "      <td>95.403229</td>\n",
       "      <td>0.982</td>\n",
       "      <td>2019-01-07</td>\n",
       "      <td>1</td>\n",
       "      <td>2019</td>\n",
       "      <td>7</td>\n",
       "      <td>Monday</td>\n",
       "      <td>0.6532</td>\n",
       "      <td>1.153409</td>\n",
       "    </tr>\n",
       "    <tr>\n",
       "      <th>4</th>\n",
       "      <td>101.480003</td>\n",
       "      <td>100.430000</td>\n",
       "      <td>101.370003</td>\n",
       "      <td>101.269997</td>\n",
       "      <td>548600.0</td>\n",
       "      <td>96.895844</td>\n",
       "      <td>1.565</td>\n",
       "      <td>2019-01-08</td>\n",
       "      <td>1</td>\n",
       "      <td>2019</td>\n",
       "      <td>8</td>\n",
       "      <td>Tuesday</td>\n",
       "      <td>0.6532</td>\n",
       "      <td>1.153409</td>\n",
       "    </tr>\n",
       "  </tbody>\n",
       "</table>\n",
       "</div>"
      ],
      "text/plain": [
       "         High         Low        Open       Close     Volume  Adj Close  \\\n",
       "0   99.559998   98.339996   98.570000   99.180000   506300.0  94.896118   \n",
       "1   96.830002   95.449997   96.730003   95.459999   807800.0  91.336800   \n",
       "2   99.199997   96.910004   97.339996   98.739998  1038100.0  94.475128   \n",
       "3  100.190002   98.760002   99.440002   99.709999   861600.0  95.403229   \n",
       "4  101.480003  100.430000  101.370003  101.269997   548600.0  96.895844   \n",
       "\n",
       "   Return        Date  Week_Number  Year  Day    Weekday  mean_return  \\\n",
       "0   0.000  2019-01-02            0  2019    2  Wednesday      -0.1050   \n",
       "1  -3.751  2019-01-03            0  2019    3   Thursday      -0.1050   \n",
       "2   3.436  2019-01-04            0  2019    4     Friday      -0.1050   \n",
       "3   0.982  2019-01-07            1  2019    7     Monday       0.6532   \n",
       "4   1.565  2019-01-08            1  2019    8    Tuesday       0.6532   \n",
       "\n",
       "   volatility  \n",
       "0    3.594650  \n",
       "1    3.594650  \n",
       "2    3.594650  \n",
       "3    1.153409  \n",
       "4    1.153409  "
      ]
     },
     "execution_count": 351,
     "metadata": {},
     "output_type": "execute_result"
    }
   ],
   "source": [
    "df_daily.head(5)"
   ]
  },
  {
   "cell_type": "markdown",
   "metadata": {},
   "source": [
    "#### 1. implement a \"buy-and-hold\" strategy for year 2 - you invest 100 on the first trading day (at the opening price) and sell at the last trading day at the (adjusted) closing price."
   ]
  },
  {
   "cell_type": "code",
   "execution_count": 379,
   "metadata": {},
   "outputs": [],
   "source": [
    "def buyhold(ret_list):\n",
    "    ret = round(((ret_list / 100) + 1).cumprod() * 100,2)\n",
    "    \n",
    "    return ret"
   ]
  },
  {
   "cell_type": "code",
   "execution_count": 380,
   "metadata": {
    "scrolled": true
   },
   "outputs": [
    {
     "data": {
      "text/plain": [
       "98.71"
      ]
     },
     "execution_count": 380,
     "metadata": {},
     "output_type": "execute_result"
    }
   ],
   "source": [
    "hold = buyhold(df_daily[(df_daily[\"Year\"] == 2020)][\"Return\"])\n",
    "hold.values[-1]"
   ]
  },
  {
   "cell_type": "markdown",
   "metadata": {},
   "source": [
    "* Total Return using Hold and Buy strategy for 2020 returns \\$98.71"
   ]
  },
  {
   "cell_type": "markdown",
   "metadata": {},
   "source": [
    "#### 2. implement a trading strategy based on your labels for year 2 and compare the performance with the \"buy-and-hold\" strategy. Which strategy results in a larger amount at the end of the year?"
   ]
  },
  {
   "cell_type": "code",
   "execution_count": 376,
   "metadata": {},
   "outputs": [],
   "source": [
    "def compute_daily_ret(d_frame1, amt):\n",
    "    ret = round(((d_frame1[\"Return\"] / 100) + 1).cumprod() * amt,2)\n",
    "\n",
    "    return round(ret.values[-1],2)"
   ]
  },
  {
   "cell_type": "code",
   "execution_count": 377,
   "metadata": {},
   "outputs": [],
   "source": [
    "def weekDaily(d_frame_week,d_frame_daily,lbl):\n",
    "    total_ret = list()\n",
    "    for i in range(len(d_frame_week)):\n",
    "        if i > 0:\n",
    "            year = d_frame_week.loc[i][\"Year\"]\n",
    "\n",
    "            week = d_frame_week.loc[i][\"Week_Number\"]\n",
    "\n",
    "            prv_week = d_frame_week.loc[i - 1][\"Week_Number\"]\n",
    "\n",
    "            frame = d_frame_daily[(d_frame_daily[\"Week_Number\"] == week)]\n",
    "\n",
    "            if d_frame_week.loc[i - 1][lbl] == 0 and d_frame_week.loc[i][lbl] == 1:\n",
    "\n",
    "                amount = total_ret[i - 1] \n",
    "                total_ret.append(compute_daily_ret(frame, amount))\n",
    "                \n",
    "            elif d_frame_week.loc[i - 1][lbl] == 1 and d_frame_week.loc[i][lbl] == 1:\n",
    "\n",
    "                amount = total_ret[i - 1]\n",
    "                total_ret.append(compute_daily_ret(frame, amount))\n",
    "            else:\n",
    "                total_ret.append(total_ret[i - 1])\n",
    "        else:     \n",
    "            total_ret.append(100)\n",
    "    return total_ret"
   ]
  },
  {
   "cell_type": "code",
   "execution_count": 378,
   "metadata": {},
   "outputs": [
    {
     "data": {
      "text/plain": [
       "214.6"
      ]
     },
     "execution_count": 378,
     "metadata": {},
     "output_type": "execute_result"
    }
   ],
   "source": [
    "daily_ret = weekDaily(df_week[df_week[\"Year\"] == 2020].reset_index(drop=True),\\\n",
    "                      df_daily[(df_daily[\"Year\"] == 2020)].reset_index(drop=True),\"label\")\n",
    "daily_ret[-1]"
   ]
  },
  {
   "cell_type": "markdown",
   "metadata": {},
   "source": [
    "* My Strategy is better than the Buy and Hold strategy.\n",
    "    * Buy and Hold = \\$ 98.69\n",
    "    * My Strategy = \\$ 214.6"
   ]
  },
  {
   "cell_type": "code",
   "execution_count": null,
   "metadata": {},
   "outputs": [],
   "source": []
  }
 ],
 "metadata": {
  "kernelspec": {
   "display_name": "Python 3",
   "language": "python",
   "name": "python3"
  },
  "language_info": {
   "codemirror_mode": {
    "name": "ipython",
    "version": 3
   },
   "file_extension": ".py",
   "mimetype": "text/x-python",
   "name": "python",
   "nbconvert_exporter": "python",
   "pygments_lexer": "ipython3",
   "version": "3.8.5"
  }
 },
 "nbformat": 4,
 "nbformat_minor": 4
}
