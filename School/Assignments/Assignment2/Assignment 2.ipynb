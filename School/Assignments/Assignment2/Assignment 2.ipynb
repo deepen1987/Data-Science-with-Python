{
 "cells": [
  {
   "cell_type": "code",
   "execution_count": 2,
   "metadata": {},
   "outputs": [],
   "source": [
    "import pandas as pd\n",
    "import numpy as np\n",
    "import datetime as dt\n",
    "import matplotlib.pyplot as plt\n",
    "import matplotlib.dates as mdates"
   ]
  },
  {
   "cell_type": "markdown",
   "metadata": {},
   "source": [
    "## Question 1"
   ]
  },
  {
   "cell_type": "markdown",
   "metadata": {},
   "source": [
    "### 1. Reading both SAP CSV and SPY CSV."
   ]
  },
  {
   "cell_type": "code",
   "execution_count": 3,
   "metadata": {},
   "outputs": [],
   "source": [
    "df_SAP = pd.read_csv('SAP.csv')\n",
    "df_SPY = pd.read_csv('SPY.csv')"
   ]
  },
  {
   "cell_type": "code",
   "execution_count": 4,
   "metadata": {},
   "outputs": [],
   "source": [
    "df_SAP[\"True Label\"] = np.where(df_SAP[\"Return\"] >= 0, \"+\",\"-\")"
   ]
  },
  {
   "cell_type": "code",
   "execution_count": 5,
   "metadata": {},
   "outputs": [],
   "source": [
    "df_SPY[\"True Label\"] = np.where(df_SPY[\"Return\"] >= 0, \"+\",\"-\")"
   ]
  },
  {
   "cell_type": "markdown",
   "metadata": {},
   "source": [
    "#### * True Label column added to SAP ticker"
   ]
  },
  {
   "cell_type": "code",
   "execution_count": 6,
   "metadata": {},
   "outputs": [
    {
     "data": {
      "text/html": [
       "<div>\n",
       "<style scoped>\n",
       "    .dataframe tbody tr th:only-of-type {\n",
       "        vertical-align: middle;\n",
       "    }\n",
       "\n",
       "    .dataframe tbody tr th {\n",
       "        vertical-align: top;\n",
       "    }\n",
       "\n",
       "    .dataframe thead th {\n",
       "        text-align: right;\n",
       "    }\n",
       "</style>\n",
       "<table border=\"1\" class=\"dataframe\">\n",
       "  <thead>\n",
       "    <tr style=\"text-align: right;\">\n",
       "      <th></th>\n",
       "      <th>Date</th>\n",
       "      <th>Year</th>\n",
       "      <th>Month</th>\n",
       "      <th>Day</th>\n",
       "      <th>Weekday</th>\n",
       "      <th>Week_Number</th>\n",
       "      <th>Year_Week</th>\n",
       "      <th>Open</th>\n",
       "      <th>High</th>\n",
       "      <th>Low</th>\n",
       "      <th>Close</th>\n",
       "      <th>Volume</th>\n",
       "      <th>Adj Close</th>\n",
       "      <th>Return</th>\n",
       "      <th>Short_MA</th>\n",
       "      <th>Long_MA</th>\n",
       "      <th>True Label</th>\n",
       "    </tr>\n",
       "  </thead>\n",
       "  <tbody>\n",
       "    <tr>\n",
       "      <th>0</th>\n",
       "      <td>2016-01-04</td>\n",
       "      <td>2016</td>\n",
       "      <td>1</td>\n",
       "      <td>4</td>\n",
       "      <td>Monday</td>\n",
       "      <td>1</td>\n",
       "      <td>2016-01</td>\n",
       "      <td>76.74</td>\n",
       "      <td>77.18</td>\n",
       "      <td>75.89</td>\n",
       "      <td>77.14</td>\n",
       "      <td>1075400.0</td>\n",
       "      <td>70.56</td>\n",
       "      <td>0.000000</td>\n",
       "      <td>70.560000</td>\n",
       "      <td>70.560000</td>\n",
       "      <td>+</td>\n",
       "    </tr>\n",
       "    <tr>\n",
       "      <th>1</th>\n",
       "      <td>2016-01-05</td>\n",
       "      <td>2016</td>\n",
       "      <td>1</td>\n",
       "      <td>5</td>\n",
       "      <td>Tuesday</td>\n",
       "      <td>1</td>\n",
       "      <td>2016-01</td>\n",
       "      <td>76.33</td>\n",
       "      <td>77.10</td>\n",
       "      <td>76.16</td>\n",
       "      <td>76.97</td>\n",
       "      <td>1392000.0</td>\n",
       "      <td>70.40</td>\n",
       "      <td>-0.002204</td>\n",
       "      <td>70.480000</td>\n",
       "      <td>70.480000</td>\n",
       "      <td>-</td>\n",
       "    </tr>\n",
       "    <tr>\n",
       "      <th>2</th>\n",
       "      <td>2016-01-06</td>\n",
       "      <td>2016</td>\n",
       "      <td>1</td>\n",
       "      <td>6</td>\n",
       "      <td>Wednesday</td>\n",
       "      <td>1</td>\n",
       "      <td>2016-01</td>\n",
       "      <td>76.81</td>\n",
       "      <td>77.79</td>\n",
       "      <td>76.66</td>\n",
       "      <td>77.65</td>\n",
       "      <td>1031600.0</td>\n",
       "      <td>71.03</td>\n",
       "      <td>0.008835</td>\n",
       "      <td>70.663333</td>\n",
       "      <td>70.663333</td>\n",
       "      <td>+</td>\n",
       "    </tr>\n",
       "    <tr>\n",
       "      <th>3</th>\n",
       "      <td>2016-01-07</td>\n",
       "      <td>2016</td>\n",
       "      <td>1</td>\n",
       "      <td>7</td>\n",
       "      <td>Thursday</td>\n",
       "      <td>1</td>\n",
       "      <td>2016-01</td>\n",
       "      <td>76.90</td>\n",
       "      <td>77.97</td>\n",
       "      <td>76.68</td>\n",
       "      <td>77.21</td>\n",
       "      <td>1670200.0</td>\n",
       "      <td>70.62</td>\n",
       "      <td>-0.005666</td>\n",
       "      <td>70.652500</td>\n",
       "      <td>70.652500</td>\n",
       "      <td>-</td>\n",
       "    </tr>\n",
       "  </tbody>\n",
       "</table>\n",
       "</div>"
      ],
      "text/plain": [
       "         Date  Year  Month  Day    Weekday  Week_Number Year_Week   Open  \\\n",
       "0  2016-01-04  2016      1    4     Monday            1   2016-01  76.74   \n",
       "1  2016-01-05  2016      1    5    Tuesday            1   2016-01  76.33   \n",
       "2  2016-01-06  2016      1    6  Wednesday            1   2016-01  76.81   \n",
       "3  2016-01-07  2016      1    7   Thursday            1   2016-01  76.90   \n",
       "\n",
       "    High    Low  Close     Volume  Adj Close    Return   Short_MA    Long_MA  \\\n",
       "0  77.18  75.89  77.14  1075400.0      70.56  0.000000  70.560000  70.560000   \n",
       "1  77.10  76.16  76.97  1392000.0      70.40 -0.002204  70.480000  70.480000   \n",
       "2  77.79  76.66  77.65  1031600.0      71.03  0.008835  70.663333  70.663333   \n",
       "3  77.97  76.68  77.21  1670200.0      70.62 -0.005666  70.652500  70.652500   \n",
       "\n",
       "  True Label  \n",
       "0          +  \n",
       "1          -  \n",
       "2          +  \n",
       "3          -  "
      ]
     },
     "execution_count": 6,
     "metadata": {},
     "output_type": "execute_result"
    }
   ],
   "source": [
    "df_SAP.head(4)"
   ]
  },
  {
   "cell_type": "markdown",
   "metadata": {},
   "source": [
    "#### * True Label column added to SPY ticker"
   ]
  },
  {
   "cell_type": "code",
   "execution_count": 7,
   "metadata": {
    "scrolled": true
   },
   "outputs": [
    {
     "data": {
      "text/html": [
       "<div>\n",
       "<style scoped>\n",
       "    .dataframe tbody tr th:only-of-type {\n",
       "        vertical-align: middle;\n",
       "    }\n",
       "\n",
       "    .dataframe tbody tr th {\n",
       "        vertical-align: top;\n",
       "    }\n",
       "\n",
       "    .dataframe thead th {\n",
       "        text-align: right;\n",
       "    }\n",
       "</style>\n",
       "<table border=\"1\" class=\"dataframe\">\n",
       "  <thead>\n",
       "    <tr style=\"text-align: right;\">\n",
       "      <th></th>\n",
       "      <th>Date</th>\n",
       "      <th>Year</th>\n",
       "      <th>Month</th>\n",
       "      <th>Day</th>\n",
       "      <th>Weekday</th>\n",
       "      <th>Week_Number</th>\n",
       "      <th>Year_Week</th>\n",
       "      <th>Open</th>\n",
       "      <th>High</th>\n",
       "      <th>Low</th>\n",
       "      <th>Close</th>\n",
       "      <th>Volume</th>\n",
       "      <th>Adj Close</th>\n",
       "      <th>Return</th>\n",
       "      <th>Short_MA</th>\n",
       "      <th>Long_MA</th>\n",
       "      <th>True Label</th>\n",
       "    </tr>\n",
       "  </thead>\n",
       "  <tbody>\n",
       "    <tr>\n",
       "      <th>0</th>\n",
       "      <td>2016-01-04</td>\n",
       "      <td>2016</td>\n",
       "      <td>1</td>\n",
       "      <td>4</td>\n",
       "      <td>Monday</td>\n",
       "      <td>1</td>\n",
       "      <td>2016-01</td>\n",
       "      <td>200.49</td>\n",
       "      <td>201.03</td>\n",
       "      <td>198.59</td>\n",
       "      <td>201.02</td>\n",
       "      <td>222353500.0</td>\n",
       "      <td>182.51</td>\n",
       "      <td>0.000000</td>\n",
       "      <td>182.510</td>\n",
       "      <td>182.510</td>\n",
       "      <td>+</td>\n",
       "    </tr>\n",
       "    <tr>\n",
       "      <th>1</th>\n",
       "      <td>2016-01-05</td>\n",
       "      <td>2016</td>\n",
       "      <td>1</td>\n",
       "      <td>5</td>\n",
       "      <td>Tuesday</td>\n",
       "      <td>1</td>\n",
       "      <td>2016-01</td>\n",
       "      <td>201.40</td>\n",
       "      <td>201.90</td>\n",
       "      <td>200.05</td>\n",
       "      <td>201.36</td>\n",
       "      <td>110845800.0</td>\n",
       "      <td>182.82</td>\n",
       "      <td>0.001691</td>\n",
       "      <td>182.665</td>\n",
       "      <td>182.665</td>\n",
       "      <td>+</td>\n",
       "    </tr>\n",
       "    <tr>\n",
       "      <th>2</th>\n",
       "      <td>2016-01-06</td>\n",
       "      <td>2016</td>\n",
       "      <td>1</td>\n",
       "      <td>6</td>\n",
       "      <td>Wednesday</td>\n",
       "      <td>1</td>\n",
       "      <td>2016-01</td>\n",
       "      <td>198.34</td>\n",
       "      <td>200.06</td>\n",
       "      <td>197.60</td>\n",
       "      <td>198.82</td>\n",
       "      <td>152112600.0</td>\n",
       "      <td>180.52</td>\n",
       "      <td>-0.012614</td>\n",
       "      <td>181.950</td>\n",
       "      <td>181.950</td>\n",
       "      <td>-</td>\n",
       "    </tr>\n",
       "    <tr>\n",
       "      <th>3</th>\n",
       "      <td>2016-01-07</td>\n",
       "      <td>2016</td>\n",
       "      <td>1</td>\n",
       "      <td>7</td>\n",
       "      <td>Thursday</td>\n",
       "      <td>1</td>\n",
       "      <td>2016-01</td>\n",
       "      <td>195.33</td>\n",
       "      <td>197.44</td>\n",
       "      <td>193.59</td>\n",
       "      <td>194.05</td>\n",
       "      <td>213436100.0</td>\n",
       "      <td>176.19</td>\n",
       "      <td>-0.023991</td>\n",
       "      <td>180.510</td>\n",
       "      <td>180.510</td>\n",
       "      <td>-</td>\n",
       "    </tr>\n",
       "  </tbody>\n",
       "</table>\n",
       "</div>"
      ],
      "text/plain": [
       "         Date  Year  Month  Day    Weekday  Week_Number Year_Week    Open  \\\n",
       "0  2016-01-04  2016      1    4     Monday            1   2016-01  200.49   \n",
       "1  2016-01-05  2016      1    5    Tuesday            1   2016-01  201.40   \n",
       "2  2016-01-06  2016      1    6  Wednesday            1   2016-01  198.34   \n",
       "3  2016-01-07  2016      1    7   Thursday            1   2016-01  195.33   \n",
       "\n",
       "     High     Low   Close       Volume  Adj Close    Return  Short_MA  \\\n",
       "0  201.03  198.59  201.02  222353500.0     182.51  0.000000   182.510   \n",
       "1  201.90  200.05  201.36  110845800.0     182.82  0.001691   182.665   \n",
       "2  200.06  197.60  198.82  152112600.0     180.52 -0.012614   181.950   \n",
       "3  197.44  193.59  194.05  213436100.0     176.19 -0.023991   180.510   \n",
       "\n",
       "   Long_MA True Label  \n",
       "0  182.510          +  \n",
       "1  182.665          +  \n",
       "2  181.950          -  \n",
       "3  180.510          -  "
      ]
     },
     "execution_count": 7,
     "metadata": {},
     "output_type": "execute_result"
    }
   ],
   "source": [
    "df_SPY.head(4)"
   ]
  },
  {
   "cell_type": "markdown",
   "metadata": {},
   "source": [
    "### 2. Taking years 1,2 and 3 data"
   ]
  },
  {
   "cell_type": "markdown",
   "metadata": {},
   "source": [
    "#### Total Trading days for both ticker"
   ]
  },
  {
   "cell_type": "code",
   "execution_count": 8,
   "metadata": {},
   "outputs": [
    {
     "data": {
      "text/plain": [
       "754"
      ]
     },
     "execution_count": 8,
     "metadata": {},
     "output_type": "execute_result"
    }
   ],
   "source": [
    "sap_L = len(df_SAP[df_SAP[\"Date\"] < \"2019-01-01\"])\n",
    "sap_L"
   ]
  },
  {
   "cell_type": "code",
   "execution_count": 9,
   "metadata": {},
   "outputs": [
    {
     "data": {
      "text/plain": [
       "754"
      ]
     },
     "execution_count": 9,
     "metadata": {},
     "output_type": "execute_result"
    }
   ],
   "source": [
    "spy_L = len(df_SPY[df_SPY[\"Date\"] < \"2019-01-01\"])\n",
    "spy_L"
   ]
  },
  {
   "cell_type": "markdown",
   "metadata": {},
   "source": [
    "#### Each True Label Count stored in a list"
   ]
  },
  {
   "cell_type": "code",
   "execution_count": 10,
   "metadata": {},
   "outputs": [
    {
     "data": {
      "text/plain": [
       "+    413\n",
       "-    341\n",
       "Name: True Label, dtype: int64"
      ]
     },
     "execution_count": 10,
     "metadata": {},
     "output_type": "execute_result"
    }
   ],
   "source": [
    "sap_l_count = df_SAP[df_SAP[\"Date\"] < \"2019-01-01\"][\"True Label\"].value_counts()\n",
    "sap_l_count"
   ]
  },
  {
   "cell_type": "code",
   "execution_count": 11,
   "metadata": {},
   "outputs": [
    {
     "data": {
      "text/plain": [
       "+    418\n",
       "-    336\n",
       "Name: True Label, dtype: int64"
      ]
     },
     "execution_count": 11,
     "metadata": {},
     "output_type": "execute_result"
    }
   ],
   "source": [
    "spy_l_count = df_SPY[df_SPY[\"Date\"] < \"2019-01-01\"][\"True Label\"].value_counts()\n",
    "spy_l_count"
   ]
  },
  {
   "cell_type": "markdown",
   "metadata": {},
   "source": [
    "#### Default probability p* that the next day is up"
   ]
  },
  {
   "cell_type": "code",
   "execution_count": 12,
   "metadata": {},
   "outputs": [
    {
     "data": {
      "text/plain": [
       "0.5477453580901857"
      ]
     },
     "execution_count": 12,
     "metadata": {},
     "output_type": "execute_result"
    }
   ],
   "source": [
    "sap_up = sap_l_count[0] / sap_L\n",
    "sap_up"
   ]
  },
  {
   "cell_type": "code",
   "execution_count": 13,
   "metadata": {},
   "outputs": [
    {
     "data": {
      "text/plain": [
       "0.5543766578249337"
      ]
     },
     "execution_count": 13,
     "metadata": {},
     "output_type": "execute_result"
    }
   ],
   "source": [
    "spy_up = spy_l_count[0] / spy_L\n",
    "spy_up"
   ]
  },
  {
   "cell_type": "markdown",
   "metadata": {},
   "source": [
    "### 3. Probability after k consecutive \"down days\""
   ]
  },
  {
   "cell_type": "code",
   "execution_count": 14,
   "metadata": {},
   "outputs": [],
   "source": [
    "def conDays(k, label_list, label):\n",
    "    up = 0                                      # to keep count of \"+\"\n",
    "    down = 0                                    # to keep count of \"-\"\n",
    "    for i in range(len(label_list)):\n",
    "        pattern = \"\"                            # will store the pattern here to verify k+1 element\n",
    "        k_plus = \"\"                             # will store the k+1 element\n",
    "        if i == len(label_list) - 1:            # Verifying list out of bound\n",
    "            break;\n",
    "        for j in range(k):\n",
    "            if (i + j) == len(label_list) - 1:  # Verifying list out of bound\n",
    "                break;\n",
    "            if label_list[i+j] == label:\n",
    "                pattern += label_list[i+j]       # Based on value of k will create a pattern e.g., \"---\"\n",
    "                k_plus = label_list[i+j + 1]     # Storing k + 1 element for later processing\n",
    "            else:\n",
    "                pattern = \"\"\n",
    "                k_plus = \"\"\n",
    "        if len(pattern) == k:                    # If len of pattern matches value of k verifying k+1 element\n",
    "            if k_plus == \"+\":\n",
    "                up += 1\n",
    "            else:\n",
    "                down += 1\n",
    "    return [up, down]"
   ]
  },
  {
   "cell_type": "code",
   "execution_count": 15,
   "metadata": {},
   "outputs": [],
   "source": [
    "sap_l_list = df_SAP[df_SAP[\"Date\"] < \"2019-01-01\"][\"True Label\"]\n",
    "spy_l_list = df_SPY[df_SPY[\"Date\"] < \"2019-01-01\"][\"True Label\"]"
   ]
  },
  {
   "cell_type": "markdown",
   "metadata": {},
   "source": [
    "#### Checking for k = 1 consecutive \"down days\""
   ]
  },
  {
   "cell_type": "code",
   "execution_count": 16,
   "metadata": {},
   "outputs": [
    {
     "name": "stdout",
     "output_type": "stream",
     "text": [
      "\n",
      "SAP: [193, 148], SPY: [200, 136]\n",
      "\n",
      "Probability of up day after 1 consecutive down day for SAP: 0.566\n",
      "Probability of down day after 1 consecutive down day for SAP: 0.434\n",
      "Probability of up day after 1 consecutive down day for SPY: 0.595\n",
      "Probability of down day after 1 consecutive down day for SPY: 0.405\n"
     ]
    }
   ],
   "source": [
    "sap_con = conDays(1, sap_l_list, \"-\")\n",
    "spy_con = conDays(1, spy_l_list, \"-\")\n",
    "\n",
    "print(f'''\n",
    "SAP: {sap_con}, SPY: {spy_con}\n",
    "''')\n",
    "print(f\"Probability of up day after 1 consecutive down day for SAP: {round(sap_con[0] / (np.sum(sap_con)),3)}\")\n",
    "print(f\"Probability of down day after 1 consecutive down day for SAP: {round(sap_con[1] / (np.sum(sap_con)),3)}\")\n",
    "print(f\"Probability of up day after 1 consecutive down day for SPY: {round(spy_con[0] / (np.sum(spy_con)),3)}\")\n",
    "print(f\"Probability of down day after 1 consecutive down day for SPY: {round(spy_con[1] / (np.sum(spy_con)),3)}\")"
   ]
  },
  {
   "cell_type": "markdown",
   "metadata": {},
   "source": [
    "#### Checking for k = 2 consecutive \"down days\""
   ]
  },
  {
   "cell_type": "code",
   "execution_count": 17,
   "metadata": {},
   "outputs": [
    {
     "name": "stdout",
     "output_type": "stream",
     "text": [
      "\n",
      "SAP: [88, 60], SPY: [81, 55]\n",
      "\n",
      "Probability of up day after 2 consecutive down day for SAP: 0.595\n",
      "Probability of down day after 2 consecutive down day for SAP: 0.405\n",
      "Probability of up day after 2 consecutive down day for SPY: 0.596\n",
      "Probability of down day after 2 consecutive down day for SPY: 0.404\n"
     ]
    }
   ],
   "source": [
    "sap_con = conDays(2, sap_l_list, \"-\")\n",
    "spy_con = conDays(2, spy_l_list, \"-\")\n",
    "\n",
    "print(f'''\n",
    "SAP: {sap_con}, SPY: {spy_con}\n",
    "''')\n",
    "print(f\"Probability of up day after 2 consecutive down day for SAP: {round(sap_con[0] / (np.sum(sap_con)),3)}\")\n",
    "print(f\"Probability of down day after 2 consecutive down day for SAP: {round(sap_con[1] / (np.sum(sap_con)),3)}\")\n",
    "print(f\"Probability of up day after 2 consecutive down day for SPY: {round(spy_con[0] / (np.sum(spy_con)),3)}\")\n",
    "print(f\"Probability of down day after 2 consecutive down day for SPY: {round(spy_con[1] / (np.sum(spy_con)),3)}\")"
   ]
  },
  {
   "cell_type": "markdown",
   "metadata": {},
   "source": [
    "#### Checking for k = 3 consecutive \"down days\""
   ]
  },
  {
   "cell_type": "code",
   "execution_count": 18,
   "metadata": {},
   "outputs": [
    {
     "name": "stdout",
     "output_type": "stream",
     "text": [
      "\n",
      "SAP: [37, 23], SPY: [35, 20]\n",
      "\n",
      "Probability of up day after 3 consecutive down day for SAP: 0.617\n",
      "Probability of down day after 3 consecutive down day for SAP: 0.383\n",
      "Probability of up day after 3 consecutive down day for SPY: 0.636\n",
      "Probability of down day after 3 consecutive down day for SPY: 0.364\n"
     ]
    }
   ],
   "source": [
    "sap_con = conDays(3, sap_l_list, \"-\")\n",
    "spy_con = conDays(3, spy_l_list, \"-\")\n",
    "\n",
    "print(f'''\n",
    "SAP: {sap_con}, SPY: {spy_con}\n",
    "''')\n",
    "print(f\"Probability of up day after 3 consecutive down day for SAP: {round(sap_con[0] / (np.sum(sap_con)),3)}\")\n",
    "print(f\"Probability of down day after 3 consecutive down day for SAP: {round(sap_con[1] / (np.sum(sap_con)),3)}\")\n",
    "print(f\"Probability of up day after 3 consecutive down day for SPY: {round(spy_con[0] / (np.sum(spy_con)),3)}\")\n",
    "print(f\"Probability of down day after 3 consecutive down day for SPY: {round(spy_con[1] / (np.sum(spy_con)),3)}\")"
   ]
  },
  {
   "cell_type": "markdown",
   "metadata": {},
   "source": [
    "### 4. Probability after k consucute \"up days\""
   ]
  },
  {
   "cell_type": "markdown",
   "metadata": {},
   "source": [
    "#### Checking for k = 1 consecutive \"up days\""
   ]
  },
  {
   "cell_type": "code",
   "execution_count": 19,
   "metadata": {},
   "outputs": [
    {
     "name": "stdout",
     "output_type": "stream",
     "text": [
      "\n",
      "SAP: [219, 193], SPY: [217, 200]\n",
      "\n",
      "Probability of up day after 1 consecutive up day for SAP: 0.532\n",
      "Probability of down day after 1 consecutive up day for SAP: 0.468\n",
      "Probability of up day after 1 consecutive up day for SPY: 0.52\n",
      "Probability of down day after 1 consecutive up day for SPY: 0.48\n"
     ]
    }
   ],
   "source": [
    "sap_con = conDays(1, sap_l_list, \"+\")\n",
    "spy_con = conDays(1, spy_l_list, \"+\")\n",
    "\n",
    "print(f'''\n",
    "SAP: {sap_con}, SPY: {spy_con}\n",
    "''')\n",
    "print(f\"Probability of up day after 1 consecutive up day for SAP: {round(sap_con[0] / (np.sum(sap_con)),3)}\")\n",
    "print(f\"Probability of down day after 1 consecutive up day for SAP: {round(sap_con[1] / (np.sum(sap_con)),3)}\")\n",
    "print(f\"Probability of up day after 1 consecutive up day for SPY: {round(spy_con[0] / (np.sum(spy_con)),3)}\")\n",
    "print(f\"Probability of down day after 1 consecutive up day for SPY: {round(spy_con[1] / (np.sum(spy_con)),3)}\")"
   ]
  },
  {
   "cell_type": "markdown",
   "metadata": {},
   "source": [
    "#### Checking for k = 2 consecutive \"up days\""
   ]
  },
  {
   "cell_type": "code",
   "execution_count": 20,
   "metadata": {},
   "outputs": [
    {
     "name": "stdout",
     "output_type": "stream",
     "text": [
      "\n",
      "SAP: [122, 96], SPY: [109, 108]\n",
      "\n",
      "Probability of up day after 2 consecutive up day for SAP: 0.56\n",
      "Probability of down day after 2 consecutive up day for SAP: 0.44\n",
      "Probability of up day after 2 consecutive up day for SPY: 0.502\n",
      "Probability of down day after 2 consecutive up day for SPY: 0.498\n"
     ]
    }
   ],
   "source": [
    "sap_con = conDays(2, sap_l_list, \"+\")\n",
    "spy_con = conDays(2, spy_l_list, \"+\")\n",
    "\n",
    "print(f'''\n",
    "SAP: {sap_con}, SPY: {spy_con}\n",
    "''')\n",
    "print(f\"Probability of up day after 2 consecutive up day for SAP: {round(sap_con[0] / (np.sum(sap_con)),3)}\")\n",
    "print(f\"Probability of down day after 2 consecutive up day for SAP: {round(sap_con[1] / (np.sum(sap_con)),3)}\")\n",
    "print(f\"Probability of up day after 2 consecutive up day for SPY: {round(spy_con[0] / (np.sum(spy_con)),3)}\")\n",
    "print(f\"Probability of down day after 2 consecutive up day for SPY: {round(spy_con[1] / (np.sum(spy_con)),3)}\")"
   ]
  },
  {
   "cell_type": "markdown",
   "metadata": {},
   "source": [
    "#### Checking for k = 3 consecutive \"up days\""
   ]
  },
  {
   "cell_type": "code",
   "execution_count": 21,
   "metadata": {
    "scrolled": true
   },
   "outputs": [
    {
     "name": "stdout",
     "output_type": "stream",
     "text": [
      "\n",
      "SAP: [66, 55], SPY: [51, 58]\n",
      "\n",
      "Probability of up day after 3 consecutive up day for SAP: 0.545\n",
      "Probability of down day after 3 consecutive up day for SAP: 0.455\n",
      "Probability of up day after 3 consecutive up day for SPY: 0.468\n",
      "Probability of down day after 3 consecutive up day for SPY: 0.532\n"
     ]
    }
   ],
   "source": [
    "sap_con = conDays(3, sap_l_list, \"+\")\n",
    "spy_con = conDays(3, spy_l_list, \"+\")\n",
    "\n",
    "print(f'''\n",
    "SAP: {sap_con}, SPY: {spy_con}\n",
    "''')\n",
    "print(f\"Probability of up day after 3 consecutive up day for SAP: {round(sap_con[0] / (np.sum(sap_con)),3)}\")\n",
    "print(f\"Probability of down day after 3 consecutive up day for SAP: {round(sap_con[1] / (np.sum(sap_con)),3)}\")\n",
    "print(f\"Probability of up day after 3 consecutive up day for SPY: {round(spy_con[0] / (np.sum(spy_con)),3)}\")\n",
    "print(f\"Probability of down day after 3 consecutive up day for SPY: {round(spy_con[1] / (np.sum(spy_con)),3)}\")"
   ]
  },
  {
   "cell_type": "markdown",
   "metadata": {},
   "source": [
    "## Question 2"
   ]
  },
  {
   "cell_type": "markdown",
   "metadata": {},
   "source": [
    "### Predicting labels"
   ]
  },
  {
   "cell_type": "markdown",
   "metadata": {},
   "source": [
    "**Below are the total patterns**"
   ]
  },
  {
   "cell_type": "code",
   "execution_count": 22,
   "metadata": {},
   "outputs": [],
   "source": [
    "w2_pattern = [\"++\",\"+-\",\"-+\",\"--\"]"
   ]
  },
  {
   "cell_type": "code",
   "execution_count": 23,
   "metadata": {},
   "outputs": [],
   "source": [
    "w3_pattern = [\"+++\",\"++-\",\"+-+\",\"-++\",\"+--\",\"-+-\",\"--+\",\"---\"]"
   ]
  },
  {
   "cell_type": "code",
   "execution_count": 24,
   "metadata": {},
   "outputs": [],
   "source": [
    "w4_pattern = [\"++++\",\"+++-\",\"++-+\",\"+-++\",\"++--\",\"+-+-\",\"+---\",\"----\",\"---+\",\"--+-\",\"-+--\",\"--++\",\"-+-+\",\"-+++\",\"-++-\",\"+--+\"]"
   ]
  },
  {
   "cell_type": "code",
   "execution_count": 25,
   "metadata": {},
   "outputs": [],
   "source": [
    "patterns = w2_pattern + w3_pattern + w4_pattern"
   ]
  },
  {
   "cell_type": "markdown",
   "metadata": {},
   "source": [
    "**Creating a dataframe to store all patterns with their probabilities**"
   ]
  },
  {
   "cell_type": "code",
   "execution_count": 26,
   "metadata": {},
   "outputs": [],
   "source": [
    "sap_p_lbl = pd.DataFrame(index=patterns ,columns=[\"+\",\"-\",\"+prob\",\"-prob\"] )\n",
    "spy_p_lbl = pd.DataFrame(index=patterns ,columns=[\"+\",\"-\",\"+prob\",\"-prob\"] )"
   ]
  },
  {
   "cell_type": "markdown",
   "metadata": {},
   "source": [
    "**Function returns value to calculate probability** "
   ]
  },
  {
   "cell_type": "code",
   "execution_count": 27,
   "metadata": {},
   "outputs": [],
   "source": [
    "def cal_prob(k, label_list, pat):\n",
    "    up = 0                                      # to keep count of \"+\"\n",
    "    down = 0                                    # to keep count of \"-\"\n",
    "    for i in range(len(label_list)):\n",
    "        pattern = \"\"                            # will store the pattern here to verify k+1 element\n",
    "        k_plus = \"\"                             # will store the k+1 element\n",
    "        if i == len(label_list) - 1:            # Verifying list out of bound\n",
    "            break;\n",
    "        for j in range(k):\n",
    "            if (i + j) == len(label_list) - 1:  # Verifying list out of bound\n",
    "                break;\n",
    "            if label_list[i+j] in pat:\n",
    "                pattern += label_list[i+j]       # Based on value of k will create a pattern e.g., \"---\"\n",
    "                k_plus = label_list[i+j + 1]     # Storing k + 1 element for later processing\n",
    "            else:\n",
    "                pattern = \"\"\n",
    "                k_plus = \"\"\n",
    "        if pattern == pat:                       # If pattern matches value to pat verifying k+1 element\n",
    "            if k_plus == \"+\":\n",
    "                up += 1\n",
    "            else:\n",
    "                down += 1\n",
    "    return [up, down]"
   ]
  },
  {
   "cell_type": "code",
   "execution_count": 28,
   "metadata": {},
   "outputs": [],
   "source": [
    "for i in sap_p_lbl.index:\n",
    "    updown = cal_prob(len(i),sap_l_list,i)\n",
    "    sap_p_lbl.at[i,\"+\"] = updown[0]\n",
    "    sap_p_lbl.at[i,\"-\"] = updown[1]\n",
    "    sap_p_lbl.at[i,\"+prob\"] = round(updown[0] / (updown[0] + updown[1]),3)\n",
    "    sap_p_lbl.at[i,\"-prob\"] = round(updown[1] / (updown[0] + updown[1]),3)"
   ]
  },
  {
   "cell_type": "code",
   "execution_count": 29,
   "metadata": {},
   "outputs": [],
   "source": [
    "for i in spy_p_lbl.index:\n",
    "    updown = cal_prob(len(i),spy_l_list,i)\n",
    "    spy_p_lbl.at[i,\"+\"] = updown[0]\n",
    "    spy_p_lbl.at[i,\"-\"] = updown[1]\n",
    "    spy_p_lbl.at[i,\"+prob\"] = round(updown[0] / (updown[0] + updown[1]),3)\n",
    "    spy_p_lbl.at[i,\"-prob\"] = round(updown[1] / (updown[0] + updown[1]),3)"
   ]
  },
  {
   "cell_type": "code",
   "execution_count": 30,
   "metadata": {},
   "outputs": [
    {
     "name": "stdout",
     "output_type": "stream",
     "text": [
      "SAP first 3 rows\n",
      "      +   -  +prob  -prob\n",
      "++  122  96   0.56   0.44\n",
      "+-  105  88  0.544  0.456\n",
      "-+   97  96  0.503  0.497\n",
      "\n",
      "SPY first 3 rows\n",
      "       +   -  +prob  -prob\n",
      "-+-+  31  25  0.554  0.446\n",
      "-+++  25  33  0.431  0.569\n",
      "-++-  25  24   0.51   0.49\n",
      "+--+  27  19  0.587  0.413\n",
      "\n"
     ]
    }
   ],
   "source": [
    "print(f\"\"\"SAP first 3 rows\n",
    "{sap_p_lbl.head(3)}\n",
    "\"\"\")\n",
    "\n",
    "print(f\"\"\"SPY first 3 rows\n",
    "{spy_p_lbl.tail(4)}\n",
    "\"\"\")"
   ]
  },
  {
   "cell_type": "markdown",
   "metadata": {},
   "source": [
    "### 1. Predicted labels for each day for year 4 and 5."
   ]
  },
  {
   "cell_type": "code",
   "execution_count": 31,
   "metadata": {},
   "outputs": [],
   "source": [
    "sap_l_list45 = pd.concat([df_SAP[df_SAP[\"Date\"] < \"2019-01-01\"].tail(4) , df_SAP[df_SAP[\"Date\"] >= \"2019-01-01\"]]).reset_index(drop=True)\n",
    "spy_l_list45 = pd.concat([df_SPY[df_SPY[\"Date\"] < \"2019-01-01\"].tail(4), df_SPY[df_SPY[\"Date\"] >= \"2019-01-01\"]]).reset_index(drop=True)"
   ]
  },
  {
   "cell_type": "code",
   "execution_count": 32,
   "metadata": {},
   "outputs": [],
   "source": [
    "for i in range(4,len(sap_l_list45)+1):\n",
    "    pattern = \"\"                            \n",
    "    if i == len(sap_l_list45):           \n",
    "        break;\n",
    "    for j in range(1,3):\n",
    "        pattern += sap_l_list45[\"True Label\"][i - j]\n",
    "    sap_l_list45.at[i,\"W2\"] = \"+\" if sap_p_lbl.at[pattern[::-1],\"+prob\"] >= sap_p_lbl.at[pattern[::-1],\"-prob\"] else \"-\" "
   ]
  },
  {
   "cell_type": "code",
   "execution_count": 33,
   "metadata": {
    "scrolled": true
   },
   "outputs": [],
   "source": [
    "for i in range(4,len(sap_l_list45)+1):\n",
    "    pattern = \"\"                            \n",
    "    if i == len(sap_l_list45):           \n",
    "        break;\n",
    "    for j in range(1,4):\n",
    "        pattern += sap_l_list45[\"True Label\"][i - j]\n",
    "    sap_l_list45.at[i,\"W3\"] = \"+\" if sap_p_lbl.at[pattern[::-1],\"+prob\"] >= sap_p_lbl.at[pattern[::-1],\"-prob\"] else \"-\" "
   ]
  },
  {
   "cell_type": "code",
   "execution_count": 34,
   "metadata": {},
   "outputs": [],
   "source": [
    "for i in range(4,len(sap_l_list45)+1):\n",
    "    pattern = \"\"                            \n",
    "    if i == len(sap_l_list45):           \n",
    "        break;\n",
    "    for j in range(1,5):\n",
    "        pattern += sap_l_list45[\"True Label\"][i - j]\n",
    "    sap_l_list45.at[i,\"W4\"] = \"+\" if sap_p_lbl.at[pattern[::-1],\"+prob\"] >= sap_p_lbl.at[pattern[::-1],\"-prob\"] else \"-\" "
   ]
  },
  {
   "cell_type": "markdown",
   "metadata": {},
   "source": [
    "**Predicted label for SAP ticker**"
   ]
  },
  {
   "cell_type": "code",
   "execution_count": 35,
   "metadata": {},
   "outputs": [
    {
     "data": {
      "text/html": [
       "<div>\n",
       "<style scoped>\n",
       "    .dataframe tbody tr th:only-of-type {\n",
       "        vertical-align: middle;\n",
       "    }\n",
       "\n",
       "    .dataframe tbody tr th {\n",
       "        vertical-align: top;\n",
       "    }\n",
       "\n",
       "    .dataframe thead th {\n",
       "        text-align: right;\n",
       "    }\n",
       "</style>\n",
       "<table border=\"1\" class=\"dataframe\">\n",
       "  <thead>\n",
       "    <tr style=\"text-align: right;\">\n",
       "      <th></th>\n",
       "      <th>Date</th>\n",
       "      <th>Year</th>\n",
       "      <th>Month</th>\n",
       "      <th>Day</th>\n",
       "      <th>Weekday</th>\n",
       "      <th>Week_Number</th>\n",
       "      <th>Year_Week</th>\n",
       "      <th>Open</th>\n",
       "      <th>High</th>\n",
       "      <th>Low</th>\n",
       "      <th>Close</th>\n",
       "      <th>Volume</th>\n",
       "      <th>Adj Close</th>\n",
       "      <th>Return</th>\n",
       "      <th>Short_MA</th>\n",
       "      <th>Long_MA</th>\n",
       "      <th>True Label</th>\n",
       "      <th>W2</th>\n",
       "      <th>W3</th>\n",
       "      <th>W4</th>\n",
       "    </tr>\n",
       "  </thead>\n",
       "  <tbody>\n",
       "    <tr>\n",
       "      <th>0</th>\n",
       "      <td>2019-01-02</td>\n",
       "      <td>2019</td>\n",
       "      <td>1</td>\n",
       "      <td>2</td>\n",
       "      <td>Wednesday</td>\n",
       "      <td>0</td>\n",
       "      <td>2019-00</td>\n",
       "      <td>98.57</td>\n",
       "      <td>99.56</td>\n",
       "      <td>98.34</td>\n",
       "      <td>99.18</td>\n",
       "      <td>506300.0</td>\n",
       "      <td>94.90</td>\n",
       "      <td>-0.003717</td>\n",
       "      <td>95.282143</td>\n",
       "      <td>98.7508</td>\n",
       "      <td>-</td>\n",
       "      <td>+</td>\n",
       "      <td>+</td>\n",
       "      <td>-</td>\n",
       "    </tr>\n",
       "    <tr>\n",
       "      <th>1</th>\n",
       "      <td>2019-01-03</td>\n",
       "      <td>2019</td>\n",
       "      <td>1</td>\n",
       "      <td>3</td>\n",
       "      <td>Thursday</td>\n",
       "      <td>0</td>\n",
       "      <td>2019-00</td>\n",
       "      <td>96.73</td>\n",
       "      <td>96.83</td>\n",
       "      <td>95.45</td>\n",
       "      <td>95.46</td>\n",
       "      <td>807800.0</td>\n",
       "      <td>91.34</td>\n",
       "      <td>-0.037508</td>\n",
       "      <td>94.743571</td>\n",
       "      <td>98.4914</td>\n",
       "      <td>-</td>\n",
       "      <td>+</td>\n",
       "      <td>+</td>\n",
       "      <td>+</td>\n",
       "    </tr>\n",
       "    <tr>\n",
       "      <th>2</th>\n",
       "      <td>2019-01-04</td>\n",
       "      <td>2019</td>\n",
       "      <td>1</td>\n",
       "      <td>4</td>\n",
       "      <td>Friday</td>\n",
       "      <td>0</td>\n",
       "      <td>2019-00</td>\n",
       "      <td>97.34</td>\n",
       "      <td>99.20</td>\n",
       "      <td>96.91</td>\n",
       "      <td>98.74</td>\n",
       "      <td>1038100.0</td>\n",
       "      <td>94.48</td>\n",
       "      <td>0.034360</td>\n",
       "      <td>94.421429</td>\n",
       "      <td>98.3024</td>\n",
       "      <td>+</td>\n",
       "      <td>+</td>\n",
       "      <td>+</td>\n",
       "      <td>+</td>\n",
       "    </tr>\n",
       "    <tr>\n",
       "      <th>3</th>\n",
       "      <td>2019-01-07</td>\n",
       "      <td>2019</td>\n",
       "      <td>1</td>\n",
       "      <td>7</td>\n",
       "      <td>Monday</td>\n",
       "      <td>1</td>\n",
       "      <td>2019-01</td>\n",
       "      <td>99.44</td>\n",
       "      <td>100.19</td>\n",
       "      <td>98.76</td>\n",
       "      <td>99.71</td>\n",
       "      <td>861600.0</td>\n",
       "      <td>95.40</td>\n",
       "      <td>0.009824</td>\n",
       "      <td>94.333571</td>\n",
       "      <td>98.1486</td>\n",
       "      <td>+</td>\n",
       "      <td>+</td>\n",
       "      <td>-</td>\n",
       "      <td>-</td>\n",
       "    </tr>\n",
       "    <tr>\n",
       "      <th>4</th>\n",
       "      <td>2019-01-08</td>\n",
       "      <td>2019</td>\n",
       "      <td>1</td>\n",
       "      <td>8</td>\n",
       "      <td>Tuesday</td>\n",
       "      <td>1</td>\n",
       "      <td>2019-01</td>\n",
       "      <td>101.37</td>\n",
       "      <td>101.48</td>\n",
       "      <td>100.43</td>\n",
       "      <td>101.27</td>\n",
       "      <td>548600.0</td>\n",
       "      <td>96.90</td>\n",
       "      <td>0.015645</td>\n",
       "      <td>94.446429</td>\n",
       "      <td>98.1084</td>\n",
       "      <td>+</td>\n",
       "      <td>+</td>\n",
       "      <td>+</td>\n",
       "      <td>+</td>\n",
       "    </tr>\n",
       "    <tr>\n",
       "      <th>...</th>\n",
       "      <td>...</td>\n",
       "      <td>...</td>\n",
       "      <td>...</td>\n",
       "      <td>...</td>\n",
       "      <td>...</td>\n",
       "      <td>...</td>\n",
       "      <td>...</td>\n",
       "      <td>...</td>\n",
       "      <td>...</td>\n",
       "      <td>...</td>\n",
       "      <td>...</td>\n",
       "      <td>...</td>\n",
       "      <td>...</td>\n",
       "      <td>...</td>\n",
       "      <td>...</td>\n",
       "      <td>...</td>\n",
       "      <td>...</td>\n",
       "      <td>...</td>\n",
       "      <td>...</td>\n",
       "      <td>...</td>\n",
       "    </tr>\n",
       "    <tr>\n",
       "      <th>500</th>\n",
       "      <td>2020-12-24</td>\n",
       "      <td>2020</td>\n",
       "      <td>12</td>\n",
       "      <td>24</td>\n",
       "      <td>Thursday</td>\n",
       "      <td>51</td>\n",
       "      <td>2020-51</td>\n",
       "      <td>125.92</td>\n",
       "      <td>126.31</td>\n",
       "      <td>125.60</td>\n",
       "      <td>126.06</td>\n",
       "      <td>223500.0</td>\n",
       "      <td>124.02</td>\n",
       "      <td>0.000476</td>\n",
       "      <td>122.470000</td>\n",
       "      <td>121.5332</td>\n",
       "      <td>+</td>\n",
       "      <td>+</td>\n",
       "      <td>+</td>\n",
       "      <td>+</td>\n",
       "    </tr>\n",
       "    <tr>\n",
       "      <th>501</th>\n",
       "      <td>2020-12-28</td>\n",
       "      <td>2020</td>\n",
       "      <td>12</td>\n",
       "      <td>28</td>\n",
       "      <td>Monday</td>\n",
       "      <td>52</td>\n",
       "      <td>2020-52</td>\n",
       "      <td>129.34</td>\n",
       "      <td>131.00</td>\n",
       "      <td>128.08</td>\n",
       "      <td>130.91</td>\n",
       "      <td>1626100.0</td>\n",
       "      <td>128.80</td>\n",
       "      <td>0.038474</td>\n",
       "      <td>123.010714</td>\n",
       "      <td>121.0828</td>\n",
       "      <td>+</td>\n",
       "      <td>+</td>\n",
       "      <td>+</td>\n",
       "      <td>+</td>\n",
       "    </tr>\n",
       "    <tr>\n",
       "      <th>502</th>\n",
       "      <td>2020-12-29</td>\n",
       "      <td>2020</td>\n",
       "      <td>12</td>\n",
       "      <td>29</td>\n",
       "      <td>Tuesday</td>\n",
       "      <td>52</td>\n",
       "      <td>2020-52</td>\n",
       "      <td>131.95</td>\n",
       "      <td>132.36</td>\n",
       "      <td>129.81</td>\n",
       "      <td>129.95</td>\n",
       "      <td>1058500.0</td>\n",
       "      <td>127.85</td>\n",
       "      <td>-0.007333</td>\n",
       "      <td>123.429286</td>\n",
       "      <td>120.5876</td>\n",
       "      <td>-</td>\n",
       "      <td>+</td>\n",
       "      <td>+</td>\n",
       "      <td>-</td>\n",
       "    </tr>\n",
       "    <tr>\n",
       "      <th>503</th>\n",
       "      <td>2020-12-30</td>\n",
       "      <td>2020</td>\n",
       "      <td>12</td>\n",
       "      <td>30</td>\n",
       "      <td>Wednesday</td>\n",
       "      <td>52</td>\n",
       "      <td>2020-52</td>\n",
       "      <td>130.55</td>\n",
       "      <td>131.31</td>\n",
       "      <td>130.33</td>\n",
       "      <td>130.64</td>\n",
       "      <td>407200.0</td>\n",
       "      <td>128.53</td>\n",
       "      <td>0.005310</td>\n",
       "      <td>123.967857</td>\n",
       "      <td>120.1572</td>\n",
       "      <td>+</td>\n",
       "      <td>+</td>\n",
       "      <td>+</td>\n",
       "      <td>+</td>\n",
       "    </tr>\n",
       "    <tr>\n",
       "      <th>504</th>\n",
       "      <td>2020-12-31</td>\n",
       "      <td>2020</td>\n",
       "      <td>12</td>\n",
       "      <td>31</td>\n",
       "      <td>Thursday</td>\n",
       "      <td>52</td>\n",
       "      <td>2020-52</td>\n",
       "      <td>130.67</td>\n",
       "      <td>130.86</td>\n",
       "      <td>129.65</td>\n",
       "      <td>130.39</td>\n",
       "      <td>379000.0</td>\n",
       "      <td>128.28</td>\n",
       "      <td>-0.001914</td>\n",
       "      <td>124.487143</td>\n",
       "      <td>119.7582</td>\n",
       "      <td>-</td>\n",
       "      <td>+</td>\n",
       "      <td>+</td>\n",
       "      <td>+</td>\n",
       "    </tr>\n",
       "  </tbody>\n",
       "</table>\n",
       "<p>505 rows × 20 columns</p>\n",
       "</div>"
      ],
      "text/plain": [
       "           Date  Year  Month  Day    Weekday  Week_Number Year_Week    Open  \\\n",
       "0    2019-01-02  2019      1    2  Wednesday            0   2019-00   98.57   \n",
       "1    2019-01-03  2019      1    3   Thursday            0   2019-00   96.73   \n",
       "2    2019-01-04  2019      1    4     Friday            0   2019-00   97.34   \n",
       "3    2019-01-07  2019      1    7     Monday            1   2019-01   99.44   \n",
       "4    2019-01-08  2019      1    8    Tuesday            1   2019-01  101.37   \n",
       "..          ...   ...    ...  ...        ...          ...       ...     ...   \n",
       "500  2020-12-24  2020     12   24   Thursday           51   2020-51  125.92   \n",
       "501  2020-12-28  2020     12   28     Monday           52   2020-52  129.34   \n",
       "502  2020-12-29  2020     12   29    Tuesday           52   2020-52  131.95   \n",
       "503  2020-12-30  2020     12   30  Wednesday           52   2020-52  130.55   \n",
       "504  2020-12-31  2020     12   31   Thursday           52   2020-52  130.67   \n",
       "\n",
       "       High     Low   Close     Volume  Adj Close    Return    Short_MA  \\\n",
       "0     99.56   98.34   99.18   506300.0      94.90 -0.003717   95.282143   \n",
       "1     96.83   95.45   95.46   807800.0      91.34 -0.037508   94.743571   \n",
       "2     99.20   96.91   98.74  1038100.0      94.48  0.034360   94.421429   \n",
       "3    100.19   98.76   99.71   861600.0      95.40  0.009824   94.333571   \n",
       "4    101.48  100.43  101.27   548600.0      96.90  0.015645   94.446429   \n",
       "..      ...     ...     ...        ...        ...       ...         ...   \n",
       "500  126.31  125.60  126.06   223500.0     124.02  0.000476  122.470000   \n",
       "501  131.00  128.08  130.91  1626100.0     128.80  0.038474  123.010714   \n",
       "502  132.36  129.81  129.95  1058500.0     127.85 -0.007333  123.429286   \n",
       "503  131.31  130.33  130.64   407200.0     128.53  0.005310  123.967857   \n",
       "504  130.86  129.65  130.39   379000.0     128.28 -0.001914  124.487143   \n",
       "\n",
       "      Long_MA True Label W2 W3 W4  \n",
       "0     98.7508          -  +  +  -  \n",
       "1     98.4914          -  +  +  +  \n",
       "2     98.3024          +  +  +  +  \n",
       "3     98.1486          +  +  -  -  \n",
       "4     98.1084          +  +  +  +  \n",
       "..        ...        ... .. .. ..  \n",
       "500  121.5332          +  +  +  +  \n",
       "501  121.0828          +  +  +  +  \n",
       "502  120.5876          -  +  +  -  \n",
       "503  120.1572          +  +  +  +  \n",
       "504  119.7582          -  +  +  +  \n",
       "\n",
       "[505 rows x 20 columns]"
      ]
     },
     "execution_count": 35,
     "metadata": {},
     "output_type": "execute_result"
    }
   ],
   "source": [
    "sap_l_list4_5 = sap_l_list45[4:].reset_index(drop=True)\n",
    "sap_l_list4_5"
   ]
  },
  {
   "cell_type": "code",
   "execution_count": 36,
   "metadata": {},
   "outputs": [],
   "source": [
    "for i in range(4,len(spy_l_list45)+1):\n",
    "    pattern = \"\"                            \n",
    "    if i == len(spy_l_list45):           \n",
    "        break;\n",
    "    for j in range(1,3):\n",
    "        pattern += spy_l_list45[\"True Label\"][i - j]\n",
    "    spy_l_list45.at[i,\"W2\"] = \"+\" if spy_p_lbl.at[pattern[::-1],\"+prob\"] >= spy_p_lbl.at[pattern[::-1],\"-prob\"] else \"-\" "
   ]
  },
  {
   "cell_type": "code",
   "execution_count": 37,
   "metadata": {},
   "outputs": [],
   "source": [
    "for i in range(4,len(spy_l_list45)+1):\n",
    "    pattern = \"\"                            \n",
    "    if i == len(spy_l_list45):           \n",
    "        break;\n",
    "    for j in range(1,4):\n",
    "        pattern += spy_l_list45[\"True Label\"][i - j]\n",
    "    spy_l_list45.at[i,\"W3\"] = \"+\" if spy_p_lbl.at[pattern[::-1],\"+prob\"] >= spy_p_lbl.at[pattern[::-1],\"-prob\"] else \"-\" "
   ]
  },
  {
   "cell_type": "code",
   "execution_count": 38,
   "metadata": {},
   "outputs": [],
   "source": [
    "for i in range(4,len(spy_l_list45)+1):\n",
    "    pattern = \"\"                            \n",
    "    if i == len(spy_l_list45):           \n",
    "        break;\n",
    "    for j in range(1,5):\n",
    "        pattern += spy_l_list45[\"True Label\"][i - j]\n",
    "    spy_l_list45.at[i,\"W4\"] = \"+\" if spy_p_lbl.at[pattern[::-1],\"+prob\"] >= spy_p_lbl.at[pattern[::-1],\"-prob\"] else \"-\" "
   ]
  },
  {
   "cell_type": "markdown",
   "metadata": {},
   "source": [
    "**Predicted label for SPY ticker**"
   ]
  },
  {
   "cell_type": "code",
   "execution_count": 39,
   "metadata": {
    "scrolled": true
   },
   "outputs": [
    {
     "data": {
      "text/html": [
       "<div>\n",
       "<style scoped>\n",
       "    .dataframe tbody tr th:only-of-type {\n",
       "        vertical-align: middle;\n",
       "    }\n",
       "\n",
       "    .dataframe tbody tr th {\n",
       "        vertical-align: top;\n",
       "    }\n",
       "\n",
       "    .dataframe thead th {\n",
       "        text-align: right;\n",
       "    }\n",
       "</style>\n",
       "<table border=\"1\" class=\"dataframe\">\n",
       "  <thead>\n",
       "    <tr style=\"text-align: right;\">\n",
       "      <th></th>\n",
       "      <th>Date</th>\n",
       "      <th>Year</th>\n",
       "      <th>Month</th>\n",
       "      <th>Day</th>\n",
       "      <th>Weekday</th>\n",
       "      <th>Week_Number</th>\n",
       "      <th>Year_Week</th>\n",
       "      <th>Open</th>\n",
       "      <th>High</th>\n",
       "      <th>Low</th>\n",
       "      <th>Close</th>\n",
       "      <th>Volume</th>\n",
       "      <th>Adj Close</th>\n",
       "      <th>Return</th>\n",
       "      <th>Short_MA</th>\n",
       "      <th>Long_MA</th>\n",
       "      <th>True Label</th>\n",
       "      <th>W2</th>\n",
       "      <th>W3</th>\n",
       "      <th>W4</th>\n",
       "    </tr>\n",
       "  </thead>\n",
       "  <tbody>\n",
       "    <tr>\n",
       "      <th>0</th>\n",
       "      <td>2019-01-02</td>\n",
       "      <td>2019</td>\n",
       "      <td>1</td>\n",
       "      <td>2</td>\n",
       "      <td>Wednesday</td>\n",
       "      <td>0</td>\n",
       "      <td>2019-00</td>\n",
       "      <td>245.98</td>\n",
       "      <td>251.21</td>\n",
       "      <td>245.95</td>\n",
       "      <td>250.18</td>\n",
       "      <td>126925200.0</td>\n",
       "      <td>241.03</td>\n",
       "      <td>0.001040</td>\n",
       "      <td>241.329286</td>\n",
       "      <td>254.4522</td>\n",
       "      <td>+</td>\n",
       "      <td>+</td>\n",
       "      <td>+</td>\n",
       "      <td>-</td>\n",
       "    </tr>\n",
       "    <tr>\n",
       "      <th>1</th>\n",
       "      <td>2019-01-03</td>\n",
       "      <td>2019</td>\n",
       "      <td>1</td>\n",
       "      <td>3</td>\n",
       "      <td>Thursday</td>\n",
       "      <td>0</td>\n",
       "      <td>2019-00</td>\n",
       "      <td>248.23</td>\n",
       "      <td>248.57</td>\n",
       "      <td>243.67</td>\n",
       "      <td>244.21</td>\n",
       "      <td>144140700.0</td>\n",
       "      <td>235.28</td>\n",
       "      <td>-0.023863</td>\n",
       "      <td>239.972857</td>\n",
       "      <td>253.8658</td>\n",
       "      <td>-</td>\n",
       "      <td>+</td>\n",
       "      <td>+</td>\n",
       "      <td>+</td>\n",
       "    </tr>\n",
       "    <tr>\n",
       "      <th>2</th>\n",
       "      <td>2019-01-04</td>\n",
       "      <td>2019</td>\n",
       "      <td>1</td>\n",
       "      <td>4</td>\n",
       "      <td>Friday</td>\n",
       "      <td>0</td>\n",
       "      <td>2019-00</td>\n",
       "      <td>247.59</td>\n",
       "      <td>253.11</td>\n",
       "      <td>247.17</td>\n",
       "      <td>252.39</td>\n",
       "      <td>142628800.0</td>\n",
       "      <td>243.16</td>\n",
       "      <td>0.033496</td>\n",
       "      <td>239.185714</td>\n",
       "      <td>253.4608</td>\n",
       "      <td>+</td>\n",
       "      <td>+</td>\n",
       "      <td>+</td>\n",
       "      <td>+</td>\n",
       "    </tr>\n",
       "    <tr>\n",
       "      <th>3</th>\n",
       "      <td>2019-01-07</td>\n",
       "      <td>2019</td>\n",
       "      <td>1</td>\n",
       "      <td>7</td>\n",
       "      <td>Monday</td>\n",
       "      <td>1</td>\n",
       "      <td>2019-01</td>\n",
       "      <td>252.69</td>\n",
       "      <td>255.95</td>\n",
       "      <td>251.69</td>\n",
       "      <td>254.38</td>\n",
       "      <td>103139100.0</td>\n",
       "      <td>245.08</td>\n",
       "      <td>0.007885</td>\n",
       "      <td>238.870714</td>\n",
       "      <td>253.1210</td>\n",
       "      <td>+</td>\n",
       "      <td>+</td>\n",
       "      <td>+</td>\n",
       "      <td>-</td>\n",
       "    </tr>\n",
       "    <tr>\n",
       "      <th>4</th>\n",
       "      <td>2019-01-08</td>\n",
       "      <td>2019</td>\n",
       "      <td>1</td>\n",
       "      <td>8</td>\n",
       "      <td>Tuesday</td>\n",
       "      <td>1</td>\n",
       "      <td>2019-01</td>\n",
       "      <td>256.82</td>\n",
       "      <td>257.31</td>\n",
       "      <td>254.00</td>\n",
       "      <td>256.77</td>\n",
       "      <td>102512600.0</td>\n",
       "      <td>247.38</td>\n",
       "      <td>0.009395</td>\n",
       "      <td>239.070000</td>\n",
       "      <td>252.9860</td>\n",
       "      <td>+</td>\n",
       "      <td>+</td>\n",
       "      <td>+</td>\n",
       "      <td>+</td>\n",
       "    </tr>\n",
       "    <tr>\n",
       "      <th>...</th>\n",
       "      <td>...</td>\n",
       "      <td>...</td>\n",
       "      <td>...</td>\n",
       "      <td>...</td>\n",
       "      <td>...</td>\n",
       "      <td>...</td>\n",
       "      <td>...</td>\n",
       "      <td>...</td>\n",
       "      <td>...</td>\n",
       "      <td>...</td>\n",
       "      <td>...</td>\n",
       "      <td>...</td>\n",
       "      <td>...</td>\n",
       "      <td>...</td>\n",
       "      <td>...</td>\n",
       "      <td>...</td>\n",
       "      <td>...</td>\n",
       "      <td>...</td>\n",
       "      <td>...</td>\n",
       "      <td>...</td>\n",
       "    </tr>\n",
       "    <tr>\n",
       "      <th>500</th>\n",
       "      <td>2020-12-24</td>\n",
       "      <td>2020</td>\n",
       "      <td>12</td>\n",
       "      <td>24</td>\n",
       "      <td>Thursday</td>\n",
       "      <td>51</td>\n",
       "      <td>2020-51</td>\n",
       "      <td>368.08</td>\n",
       "      <td>369.03</td>\n",
       "      <td>367.45</td>\n",
       "      <td>369.00</td>\n",
       "      <td>26457900.0</td>\n",
       "      <td>369.00</td>\n",
       "      <td>0.003890</td>\n",
       "      <td>367.326429</td>\n",
       "      <td>354.4158</td>\n",
       "      <td>+</td>\n",
       "      <td>+</td>\n",
       "      <td>+</td>\n",
       "      <td>+</td>\n",
       "    </tr>\n",
       "    <tr>\n",
       "      <th>501</th>\n",
       "      <td>2020-12-28</td>\n",
       "      <td>2020</td>\n",
       "      <td>12</td>\n",
       "      <td>28</td>\n",
       "      <td>Monday</td>\n",
       "      <td>52</td>\n",
       "      <td>2020-52</td>\n",
       "      <td>371.74</td>\n",
       "      <td>372.59</td>\n",
       "      <td>371.07</td>\n",
       "      <td>372.17</td>\n",
       "      <td>39000400.0</td>\n",
       "      <td>372.17</td>\n",
       "      <td>0.008591</td>\n",
       "      <td>367.658571</td>\n",
       "      <td>354.9386</td>\n",
       "      <td>+</td>\n",
       "      <td>+</td>\n",
       "      <td>+</td>\n",
       "      <td>+</td>\n",
       "    </tr>\n",
       "    <tr>\n",
       "      <th>502</th>\n",
       "      <td>2020-12-29</td>\n",
       "      <td>2020</td>\n",
       "      <td>12</td>\n",
       "      <td>29</td>\n",
       "      <td>Tuesday</td>\n",
       "      <td>52</td>\n",
       "      <td>2020-52</td>\n",
       "      <td>373.81</td>\n",
       "      <td>374.00</td>\n",
       "      <td>370.83</td>\n",
       "      <td>371.46</td>\n",
       "      <td>53680500.0</td>\n",
       "      <td>371.46</td>\n",
       "      <td>-0.001908</td>\n",
       "      <td>367.862857</td>\n",
       "      <td>355.4514</td>\n",
       "      <td>-</td>\n",
       "      <td>+</td>\n",
       "      <td>-</td>\n",
       "      <td>-</td>\n",
       "    </tr>\n",
       "    <tr>\n",
       "      <th>503</th>\n",
       "      <td>2020-12-30</td>\n",
       "      <td>2020</td>\n",
       "      <td>12</td>\n",
       "      <td>30</td>\n",
       "      <td>Wednesday</td>\n",
       "      <td>52</td>\n",
       "      <td>2020-52</td>\n",
       "      <td>372.34</td>\n",
       "      <td>373.10</td>\n",
       "      <td>371.57</td>\n",
       "      <td>371.99</td>\n",
       "      <td>49455300.0</td>\n",
       "      <td>371.99</td>\n",
       "      <td>0.001427</td>\n",
       "      <td>368.341429</td>\n",
       "      <td>356.0800</td>\n",
       "      <td>+</td>\n",
       "      <td>+</td>\n",
       "      <td>+</td>\n",
       "      <td>+</td>\n",
       "    </tr>\n",
       "    <tr>\n",
       "      <th>504</th>\n",
       "      <td>2020-12-31</td>\n",
       "      <td>2020</td>\n",
       "      <td>12</td>\n",
       "      <td>31</td>\n",
       "      <td>Thursday</td>\n",
       "      <td>52</td>\n",
       "      <td>2020-52</td>\n",
       "      <td>371.78</td>\n",
       "      <td>374.66</td>\n",
       "      <td>371.23</td>\n",
       "      <td>373.88</td>\n",
       "      <td>78469000.0</td>\n",
       "      <td>373.88</td>\n",
       "      <td>0.005081</td>\n",
       "      <td>368.963571</td>\n",
       "      <td>356.7192</td>\n",
       "      <td>+</td>\n",
       "      <td>+</td>\n",
       "      <td>+</td>\n",
       "      <td>-</td>\n",
       "    </tr>\n",
       "  </tbody>\n",
       "</table>\n",
       "<p>505 rows × 20 columns</p>\n",
       "</div>"
      ],
      "text/plain": [
       "           Date  Year  Month  Day    Weekday  Week_Number Year_Week    Open  \\\n",
       "0    2019-01-02  2019      1    2  Wednesday            0   2019-00  245.98   \n",
       "1    2019-01-03  2019      1    3   Thursday            0   2019-00  248.23   \n",
       "2    2019-01-04  2019      1    4     Friday            0   2019-00  247.59   \n",
       "3    2019-01-07  2019      1    7     Monday            1   2019-01  252.69   \n",
       "4    2019-01-08  2019      1    8    Tuesday            1   2019-01  256.82   \n",
       "..          ...   ...    ...  ...        ...          ...       ...     ...   \n",
       "500  2020-12-24  2020     12   24   Thursday           51   2020-51  368.08   \n",
       "501  2020-12-28  2020     12   28     Monday           52   2020-52  371.74   \n",
       "502  2020-12-29  2020     12   29    Tuesday           52   2020-52  373.81   \n",
       "503  2020-12-30  2020     12   30  Wednesday           52   2020-52  372.34   \n",
       "504  2020-12-31  2020     12   31   Thursday           52   2020-52  371.78   \n",
       "\n",
       "       High     Low   Close       Volume  Adj Close    Return    Short_MA  \\\n",
       "0    251.21  245.95  250.18  126925200.0     241.03  0.001040  241.329286   \n",
       "1    248.57  243.67  244.21  144140700.0     235.28 -0.023863  239.972857   \n",
       "2    253.11  247.17  252.39  142628800.0     243.16  0.033496  239.185714   \n",
       "3    255.95  251.69  254.38  103139100.0     245.08  0.007885  238.870714   \n",
       "4    257.31  254.00  256.77  102512600.0     247.38  0.009395  239.070000   \n",
       "..      ...     ...     ...          ...        ...       ...         ...   \n",
       "500  369.03  367.45  369.00   26457900.0     369.00  0.003890  367.326429   \n",
       "501  372.59  371.07  372.17   39000400.0     372.17  0.008591  367.658571   \n",
       "502  374.00  370.83  371.46   53680500.0     371.46 -0.001908  367.862857   \n",
       "503  373.10  371.57  371.99   49455300.0     371.99  0.001427  368.341429   \n",
       "504  374.66  371.23  373.88   78469000.0     373.88  0.005081  368.963571   \n",
       "\n",
       "      Long_MA True Label W2 W3 W4  \n",
       "0    254.4522          +  +  +  -  \n",
       "1    253.8658          -  +  +  +  \n",
       "2    253.4608          +  +  +  +  \n",
       "3    253.1210          +  +  +  -  \n",
       "4    252.9860          +  +  +  +  \n",
       "..        ...        ... .. .. ..  \n",
       "500  354.4158          +  +  +  +  \n",
       "501  354.9386          +  +  +  +  \n",
       "502  355.4514          -  +  -  -  \n",
       "503  356.0800          +  +  +  +  \n",
       "504  356.7192          +  +  +  -  \n",
       "\n",
       "[505 rows x 20 columns]"
      ]
     },
     "execution_count": 39,
     "metadata": {},
     "output_type": "execute_result"
    }
   ],
   "source": [
    "spy_l_list4_5 = spy_l_list45[4:].reset_index(drop=True)\n",
    "spy_l_list4_5"
   ]
  },
  {
   "cell_type": "markdown",
   "metadata": {},
   "source": [
    "### 2. Percentage of correctly predicted label against true labels"
   ]
  },
  {
   "cell_type": "code",
   "execution_count": 40,
   "metadata": {},
   "outputs": [
    {
     "name": "stdout",
     "output_type": "stream",
     "text": [
      "SAP W2 Accuracy: 55.05%\n"
     ]
    }
   ],
   "source": [
    "w2percent = 0\n",
    "w2percent += np.where(sap_l_list4_5[\"True Label\"] == sap_l_list4_5[\"W2\"],1,0)\n",
    "w2percent = round(np.sum(w2percent) / len(sap_l_list4_5) * 100, 2)\n",
    "print(f\"SAP W2 Accuracy: {w2percent}%\")"
   ]
  },
  {
   "cell_type": "code",
   "execution_count": 41,
   "metadata": {},
   "outputs": [
    {
     "name": "stdout",
     "output_type": "stream",
     "text": [
      "SAP W3 Accuracy: 53.07%\n"
     ]
    }
   ],
   "source": [
    "w3percent = 0\n",
    "w3percent += np.where(sap_l_list4_5[\"True Label\"] == sap_l_list4_5[\"W3\"],1,0)\n",
    "w3percent = round(np.sum(w3percent) / len(sap_l_list4_5) * 100, 2)\n",
    "print(f\"SAP W3 Accuracy: {w3percent}%\")"
   ]
  },
  {
   "cell_type": "code",
   "execution_count": 42,
   "metadata": {
    "scrolled": true
   },
   "outputs": [
    {
     "name": "stdout",
     "output_type": "stream",
     "text": [
      "SAP W4 Accuracy: 54.06%\n"
     ]
    }
   ],
   "source": [
    "w4percent = 0\n",
    "w4percent += np.where(sap_l_list4_5[\"True Label\"] == sap_l_list4_5[\"W4\"],1,0)\n",
    "w4percent = round(np.sum(w4percent) / len(sap_l_list4_5) * 100, 2)\n",
    "print(f\"SAP W4 Accuracy: {w4percent}%\")"
   ]
  },
  {
   "cell_type": "code",
   "execution_count": 43,
   "metadata": {},
   "outputs": [
    {
     "name": "stdout",
     "output_type": "stream",
     "text": [
      "SPY W2 Accuracy: 58.61%\n"
     ]
    }
   ],
   "source": [
    "w2Per = 0\n",
    "w2Per += np.where(spy_l_list4_5[\"True Label\"] == spy_l_list4_5[\"W2\"],1,0)\n",
    "w2Per = round(np.sum(w2Per) / len(spy_l_list4_5) * 100, 2)\n",
    "print(f\"SPY W2 Accuracy: {w2Per}%\")"
   ]
  },
  {
   "cell_type": "code",
   "execution_count": 44,
   "metadata": {},
   "outputs": [
    {
     "name": "stdout",
     "output_type": "stream",
     "text": [
      "SPY W3 Accuracy: 58.61%\n"
     ]
    }
   ],
   "source": [
    "w3Per = 0\n",
    "w3Per += np.where(spy_l_list4_5[\"True Label\"] == spy_l_list4_5[\"W3\"],1,0)\n",
    "w3Per = round(np.sum(w3Per) / len(spy_l_list4_5) * 100, 2)\n",
    "print(f\"SPY W3 Accuracy: {w3Per}%\")"
   ]
  },
  {
   "cell_type": "code",
   "execution_count": 45,
   "metadata": {},
   "outputs": [
    {
     "name": "stdout",
     "output_type": "stream",
     "text": [
      "SPY W4 Accuracy: 57.43%\n"
     ]
    }
   ],
   "source": [
    "w4Per = 0\n",
    "w4Per += np.where(spy_l_list4_5[\"True Label\"] == spy_l_list4_5[\"W4\"],1,0)\n",
    "w4Per = round(np.sum(w4Per) / len(spy_l_list4_5) * 100, 2)\n",
    "print(f\"SPY W4 Accuracy: {w4Per}%\")"
   ]
  },
  {
   "cell_type": "markdown",
   "metadata": {},
   "source": [
    "### 3. Which W gave the highest accuracy"
   ]
  },
  {
   "cell_type": "code",
   "execution_count": 46,
   "metadata": {},
   "outputs": [
    {
     "name": "stdout",
     "output_type": "stream",
     "text": [
      "For my Stock SAP W2: 55.05% gave the highest accuracy\n"
     ]
    }
   ],
   "source": [
    "print(f\"For my Stock SAP W2: {w2percent}% gave the highest accuracy\")"
   ]
  },
  {
   "cell_type": "code",
   "execution_count": 47,
   "metadata": {
    "scrolled": true
   },
   "outputs": [
    {
     "name": "stdout",
     "output_type": "stream",
     "text": [
      "For SPY W2 and W3: 58.61% gave the highest accuracy\n"
     ]
    }
   ],
   "source": [
    "print(f\"For SPY W2 and W3: {w3Per}% gave the highest accuracy\")"
   ]
  },
  {
   "cell_type": "markdown",
   "metadata": {},
   "source": [
    "## Question 3"
   ]
  },
  {
   "cell_type": "markdown",
   "metadata": {},
   "source": [
    "**Ensemble Label**"
   ]
  },
  {
   "cell_type": "markdown",
   "metadata": {},
   "source": [
    "### 1. compute ensemble labels for year 4 and 5 for both your stock and S&P-500"
   ]
  },
  {
   "cell_type": "markdown",
   "metadata": {},
   "source": [
    "**Ensemble Label for SAP**"
   ]
  },
  {
   "cell_type": "code",
   "execution_count": 48,
   "metadata": {
    "scrolled": false
   },
   "outputs": [
    {
     "data": {
      "text/html": [
       "<div>\n",
       "<style scoped>\n",
       "    .dataframe tbody tr th:only-of-type {\n",
       "        vertical-align: middle;\n",
       "    }\n",
       "\n",
       "    .dataframe tbody tr th {\n",
       "        vertical-align: top;\n",
       "    }\n",
       "\n",
       "    .dataframe thead th {\n",
       "        text-align: right;\n",
       "    }\n",
       "</style>\n",
       "<table border=\"1\" class=\"dataframe\">\n",
       "  <thead>\n",
       "    <tr style=\"text-align: right;\">\n",
       "      <th></th>\n",
       "      <th>Date</th>\n",
       "      <th>Year</th>\n",
       "      <th>Month</th>\n",
       "      <th>Day</th>\n",
       "      <th>Weekday</th>\n",
       "      <th>Week_Number</th>\n",
       "      <th>Year_Week</th>\n",
       "      <th>Open</th>\n",
       "      <th>High</th>\n",
       "      <th>Low</th>\n",
       "      <th>...</th>\n",
       "      <th>Volume</th>\n",
       "      <th>Adj Close</th>\n",
       "      <th>Return</th>\n",
       "      <th>Short_MA</th>\n",
       "      <th>Long_MA</th>\n",
       "      <th>True Label</th>\n",
       "      <th>W2</th>\n",
       "      <th>W3</th>\n",
       "      <th>W4</th>\n",
       "      <th>ensem</th>\n",
       "    </tr>\n",
       "  </thead>\n",
       "  <tbody>\n",
       "    <tr>\n",
       "      <th>500</th>\n",
       "      <td>2020-12-24</td>\n",
       "      <td>2020</td>\n",
       "      <td>12</td>\n",
       "      <td>24</td>\n",
       "      <td>Thursday</td>\n",
       "      <td>51</td>\n",
       "      <td>2020-51</td>\n",
       "      <td>125.92</td>\n",
       "      <td>126.31</td>\n",
       "      <td>125.60</td>\n",
       "      <td>...</td>\n",
       "      <td>223500.0</td>\n",
       "      <td>124.02</td>\n",
       "      <td>0.000476</td>\n",
       "      <td>122.470000</td>\n",
       "      <td>121.5332</td>\n",
       "      <td>+</td>\n",
       "      <td>+</td>\n",
       "      <td>+</td>\n",
       "      <td>+</td>\n",
       "      <td>+</td>\n",
       "    </tr>\n",
       "    <tr>\n",
       "      <th>501</th>\n",
       "      <td>2020-12-28</td>\n",
       "      <td>2020</td>\n",
       "      <td>12</td>\n",
       "      <td>28</td>\n",
       "      <td>Monday</td>\n",
       "      <td>52</td>\n",
       "      <td>2020-52</td>\n",
       "      <td>129.34</td>\n",
       "      <td>131.00</td>\n",
       "      <td>128.08</td>\n",
       "      <td>...</td>\n",
       "      <td>1626100.0</td>\n",
       "      <td>128.80</td>\n",
       "      <td>0.038474</td>\n",
       "      <td>123.010714</td>\n",
       "      <td>121.0828</td>\n",
       "      <td>+</td>\n",
       "      <td>+</td>\n",
       "      <td>+</td>\n",
       "      <td>+</td>\n",
       "      <td>+</td>\n",
       "    </tr>\n",
       "    <tr>\n",
       "      <th>502</th>\n",
       "      <td>2020-12-29</td>\n",
       "      <td>2020</td>\n",
       "      <td>12</td>\n",
       "      <td>29</td>\n",
       "      <td>Tuesday</td>\n",
       "      <td>52</td>\n",
       "      <td>2020-52</td>\n",
       "      <td>131.95</td>\n",
       "      <td>132.36</td>\n",
       "      <td>129.81</td>\n",
       "      <td>...</td>\n",
       "      <td>1058500.0</td>\n",
       "      <td>127.85</td>\n",
       "      <td>-0.007333</td>\n",
       "      <td>123.429286</td>\n",
       "      <td>120.5876</td>\n",
       "      <td>-</td>\n",
       "      <td>+</td>\n",
       "      <td>+</td>\n",
       "      <td>-</td>\n",
       "      <td>+</td>\n",
       "    </tr>\n",
       "    <tr>\n",
       "      <th>503</th>\n",
       "      <td>2020-12-30</td>\n",
       "      <td>2020</td>\n",
       "      <td>12</td>\n",
       "      <td>30</td>\n",
       "      <td>Wednesday</td>\n",
       "      <td>52</td>\n",
       "      <td>2020-52</td>\n",
       "      <td>130.55</td>\n",
       "      <td>131.31</td>\n",
       "      <td>130.33</td>\n",
       "      <td>...</td>\n",
       "      <td>407200.0</td>\n",
       "      <td>128.53</td>\n",
       "      <td>0.005310</td>\n",
       "      <td>123.967857</td>\n",
       "      <td>120.1572</td>\n",
       "      <td>+</td>\n",
       "      <td>+</td>\n",
       "      <td>+</td>\n",
       "      <td>+</td>\n",
       "      <td>+</td>\n",
       "    </tr>\n",
       "    <tr>\n",
       "      <th>504</th>\n",
       "      <td>2020-12-31</td>\n",
       "      <td>2020</td>\n",
       "      <td>12</td>\n",
       "      <td>31</td>\n",
       "      <td>Thursday</td>\n",
       "      <td>52</td>\n",
       "      <td>2020-52</td>\n",
       "      <td>130.67</td>\n",
       "      <td>130.86</td>\n",
       "      <td>129.65</td>\n",
       "      <td>...</td>\n",
       "      <td>379000.0</td>\n",
       "      <td>128.28</td>\n",
       "      <td>-0.001914</td>\n",
       "      <td>124.487143</td>\n",
       "      <td>119.7582</td>\n",
       "      <td>-</td>\n",
       "      <td>+</td>\n",
       "      <td>+</td>\n",
       "      <td>+</td>\n",
       "      <td>+</td>\n",
       "    </tr>\n",
       "  </tbody>\n",
       "</table>\n",
       "<p>5 rows × 21 columns</p>\n",
       "</div>"
      ],
      "text/plain": [
       "           Date  Year  Month  Day    Weekday  Week_Number Year_Week    Open  \\\n",
       "500  2020-12-24  2020     12   24   Thursday           51   2020-51  125.92   \n",
       "501  2020-12-28  2020     12   28     Monday           52   2020-52  129.34   \n",
       "502  2020-12-29  2020     12   29    Tuesday           52   2020-52  131.95   \n",
       "503  2020-12-30  2020     12   30  Wednesday           52   2020-52  130.55   \n",
       "504  2020-12-31  2020     12   31   Thursday           52   2020-52  130.67   \n",
       "\n",
       "       High     Low  ...     Volume  Adj Close    Return    Short_MA  \\\n",
       "500  126.31  125.60  ...   223500.0     124.02  0.000476  122.470000   \n",
       "501  131.00  128.08  ...  1626100.0     128.80  0.038474  123.010714   \n",
       "502  132.36  129.81  ...  1058500.0     127.85 -0.007333  123.429286   \n",
       "503  131.31  130.33  ...   407200.0     128.53  0.005310  123.967857   \n",
       "504  130.86  129.65  ...   379000.0     128.28 -0.001914  124.487143   \n",
       "\n",
       "      Long_MA  True Label W2 W3 W4 ensem  \n",
       "500  121.5332           +  +  +  +     +  \n",
       "501  121.0828           +  +  +  +     +  \n",
       "502  120.5876           -  +  +  -     +  \n",
       "503  120.1572           +  +  +  +     +  \n",
       "504  119.7582           -  +  +  +     +  \n",
       "\n",
       "[5 rows x 21 columns]"
      ]
     },
     "execution_count": 48,
     "metadata": {},
     "output_type": "execute_result"
    }
   ],
   "source": [
    "arr = []\n",
    "for i in range(len(sap_l_list4_5)):\n",
    "    arr += \"+\" if list(sap_l_list4_5[[\"W2\",\"W3\",\"W4\"]].iloc[i]).count(\"+\") > 1 else \"-\"\n",
    "\n",
    "sap_l_list4_5[\"ensem\"] = arr\n",
    "sap_l_list4_5.tail(5)"
   ]
  },
  {
   "cell_type": "markdown",
   "metadata": {},
   "source": [
    "**Emsemble Label for SPY**"
   ]
  },
  {
   "cell_type": "code",
   "execution_count": 49,
   "metadata": {
    "scrolled": true
   },
   "outputs": [
    {
     "data": {
      "text/html": [
       "<div>\n",
       "<style scoped>\n",
       "    .dataframe tbody tr th:only-of-type {\n",
       "        vertical-align: middle;\n",
       "    }\n",
       "\n",
       "    .dataframe tbody tr th {\n",
       "        vertical-align: top;\n",
       "    }\n",
       "\n",
       "    .dataframe thead th {\n",
       "        text-align: right;\n",
       "    }\n",
       "</style>\n",
       "<table border=\"1\" class=\"dataframe\">\n",
       "  <thead>\n",
       "    <tr style=\"text-align: right;\">\n",
       "      <th></th>\n",
       "      <th>Date</th>\n",
       "      <th>Year</th>\n",
       "      <th>Month</th>\n",
       "      <th>Day</th>\n",
       "      <th>Weekday</th>\n",
       "      <th>Week_Number</th>\n",
       "      <th>Year_Week</th>\n",
       "      <th>Open</th>\n",
       "      <th>High</th>\n",
       "      <th>Low</th>\n",
       "      <th>...</th>\n",
       "      <th>Volume</th>\n",
       "      <th>Adj Close</th>\n",
       "      <th>Return</th>\n",
       "      <th>Short_MA</th>\n",
       "      <th>Long_MA</th>\n",
       "      <th>True Label</th>\n",
       "      <th>W2</th>\n",
       "      <th>W3</th>\n",
       "      <th>W4</th>\n",
       "      <th>ensem</th>\n",
       "    </tr>\n",
       "  </thead>\n",
       "  <tbody>\n",
       "    <tr>\n",
       "      <th>0</th>\n",
       "      <td>2019-01-02</td>\n",
       "      <td>2019</td>\n",
       "      <td>1</td>\n",
       "      <td>2</td>\n",
       "      <td>Wednesday</td>\n",
       "      <td>0</td>\n",
       "      <td>2019-00</td>\n",
       "      <td>245.98</td>\n",
       "      <td>251.21</td>\n",
       "      <td>245.95</td>\n",
       "      <td>...</td>\n",
       "      <td>126925200.0</td>\n",
       "      <td>241.03</td>\n",
       "      <td>0.001040</td>\n",
       "      <td>241.329286</td>\n",
       "      <td>254.4522</td>\n",
       "      <td>+</td>\n",
       "      <td>+</td>\n",
       "      <td>+</td>\n",
       "      <td>-</td>\n",
       "      <td>+</td>\n",
       "    </tr>\n",
       "    <tr>\n",
       "      <th>1</th>\n",
       "      <td>2019-01-03</td>\n",
       "      <td>2019</td>\n",
       "      <td>1</td>\n",
       "      <td>3</td>\n",
       "      <td>Thursday</td>\n",
       "      <td>0</td>\n",
       "      <td>2019-00</td>\n",
       "      <td>248.23</td>\n",
       "      <td>248.57</td>\n",
       "      <td>243.67</td>\n",
       "      <td>...</td>\n",
       "      <td>144140700.0</td>\n",
       "      <td>235.28</td>\n",
       "      <td>-0.023863</td>\n",
       "      <td>239.972857</td>\n",
       "      <td>253.8658</td>\n",
       "      <td>-</td>\n",
       "      <td>+</td>\n",
       "      <td>+</td>\n",
       "      <td>+</td>\n",
       "      <td>+</td>\n",
       "    </tr>\n",
       "    <tr>\n",
       "      <th>2</th>\n",
       "      <td>2019-01-04</td>\n",
       "      <td>2019</td>\n",
       "      <td>1</td>\n",
       "      <td>4</td>\n",
       "      <td>Friday</td>\n",
       "      <td>0</td>\n",
       "      <td>2019-00</td>\n",
       "      <td>247.59</td>\n",
       "      <td>253.11</td>\n",
       "      <td>247.17</td>\n",
       "      <td>...</td>\n",
       "      <td>142628800.0</td>\n",
       "      <td>243.16</td>\n",
       "      <td>0.033496</td>\n",
       "      <td>239.185714</td>\n",
       "      <td>253.4608</td>\n",
       "      <td>+</td>\n",
       "      <td>+</td>\n",
       "      <td>+</td>\n",
       "      <td>+</td>\n",
       "      <td>+</td>\n",
       "    </tr>\n",
       "    <tr>\n",
       "      <th>3</th>\n",
       "      <td>2019-01-07</td>\n",
       "      <td>2019</td>\n",
       "      <td>1</td>\n",
       "      <td>7</td>\n",
       "      <td>Monday</td>\n",
       "      <td>1</td>\n",
       "      <td>2019-01</td>\n",
       "      <td>252.69</td>\n",
       "      <td>255.95</td>\n",
       "      <td>251.69</td>\n",
       "      <td>...</td>\n",
       "      <td>103139100.0</td>\n",
       "      <td>245.08</td>\n",
       "      <td>0.007885</td>\n",
       "      <td>238.870714</td>\n",
       "      <td>253.1210</td>\n",
       "      <td>+</td>\n",
       "      <td>+</td>\n",
       "      <td>+</td>\n",
       "      <td>-</td>\n",
       "      <td>+</td>\n",
       "    </tr>\n",
       "    <tr>\n",
       "      <th>4</th>\n",
       "      <td>2019-01-08</td>\n",
       "      <td>2019</td>\n",
       "      <td>1</td>\n",
       "      <td>8</td>\n",
       "      <td>Tuesday</td>\n",
       "      <td>1</td>\n",
       "      <td>2019-01</td>\n",
       "      <td>256.82</td>\n",
       "      <td>257.31</td>\n",
       "      <td>254.00</td>\n",
       "      <td>...</td>\n",
       "      <td>102512600.0</td>\n",
       "      <td>247.38</td>\n",
       "      <td>0.009395</td>\n",
       "      <td>239.070000</td>\n",
       "      <td>252.9860</td>\n",
       "      <td>+</td>\n",
       "      <td>+</td>\n",
       "      <td>+</td>\n",
       "      <td>+</td>\n",
       "      <td>+</td>\n",
       "    </tr>\n",
       "    <tr>\n",
       "      <th>5</th>\n",
       "      <td>2019-01-09</td>\n",
       "      <td>2019</td>\n",
       "      <td>1</td>\n",
       "      <td>9</td>\n",
       "      <td>Wednesday</td>\n",
       "      <td>1</td>\n",
       "      <td>2019-01</td>\n",
       "      <td>257.56</td>\n",
       "      <td>258.91</td>\n",
       "      <td>256.19</td>\n",
       "      <td>...</td>\n",
       "      <td>95006600.0</td>\n",
       "      <td>248.53</td>\n",
       "      <td>0.004674</td>\n",
       "      <td>239.370714</td>\n",
       "      <td>252.7828</td>\n",
       "      <td>+</td>\n",
       "      <td>+</td>\n",
       "      <td>-</td>\n",
       "      <td>-</td>\n",
       "      <td>-</td>\n",
       "    </tr>\n",
       "    <tr>\n",
       "      <th>6</th>\n",
       "      <td>2019-01-10</td>\n",
       "      <td>2019</td>\n",
       "      <td>1</td>\n",
       "      <td>10</td>\n",
       "      <td>Thursday</td>\n",
       "      <td>1</td>\n",
       "      <td>2019-01</td>\n",
       "      <td>256.26</td>\n",
       "      <td>259.16</td>\n",
       "      <td>255.50</td>\n",
       "      <td>...</td>\n",
       "      <td>96823900.0</td>\n",
       "      <td>249.41</td>\n",
       "      <td>0.003528</td>\n",
       "      <td>239.995714</td>\n",
       "      <td>252.6882</td>\n",
       "      <td>+</td>\n",
       "      <td>+</td>\n",
       "      <td>-</td>\n",
       "      <td>+</td>\n",
       "      <td>+</td>\n",
       "    </tr>\n",
       "    <tr>\n",
       "      <th>7</th>\n",
       "      <td>2019-01-11</td>\n",
       "      <td>2019</td>\n",
       "      <td>1</td>\n",
       "      <td>11</td>\n",
       "      <td>Friday</td>\n",
       "      <td>1</td>\n",
       "      <td>2019-01</td>\n",
       "      <td>257.68</td>\n",
       "      <td>259.01</td>\n",
       "      <td>257.03</td>\n",
       "      <td>...</td>\n",
       "      <td>73858100.0</td>\n",
       "      <td>249.51</td>\n",
       "      <td>0.000386</td>\n",
       "      <td>240.907143</td>\n",
       "      <td>252.6238</td>\n",
       "      <td>+</td>\n",
       "      <td>+</td>\n",
       "      <td>-</td>\n",
       "      <td>+</td>\n",
       "      <td>+</td>\n",
       "    </tr>\n",
       "  </tbody>\n",
       "</table>\n",
       "<p>8 rows × 21 columns</p>\n",
       "</div>"
      ],
      "text/plain": [
       "         Date  Year  Month  Day    Weekday  Week_Number Year_Week    Open  \\\n",
       "0  2019-01-02  2019      1    2  Wednesday            0   2019-00  245.98   \n",
       "1  2019-01-03  2019      1    3   Thursday            0   2019-00  248.23   \n",
       "2  2019-01-04  2019      1    4     Friday            0   2019-00  247.59   \n",
       "3  2019-01-07  2019      1    7     Monday            1   2019-01  252.69   \n",
       "4  2019-01-08  2019      1    8    Tuesday            1   2019-01  256.82   \n",
       "5  2019-01-09  2019      1    9  Wednesday            1   2019-01  257.56   \n",
       "6  2019-01-10  2019      1   10   Thursday            1   2019-01  256.26   \n",
       "7  2019-01-11  2019      1   11     Friday            1   2019-01  257.68   \n",
       "\n",
       "     High     Low  ...       Volume  Adj Close    Return    Short_MA  \\\n",
       "0  251.21  245.95  ...  126925200.0     241.03  0.001040  241.329286   \n",
       "1  248.57  243.67  ...  144140700.0     235.28 -0.023863  239.972857   \n",
       "2  253.11  247.17  ...  142628800.0     243.16  0.033496  239.185714   \n",
       "3  255.95  251.69  ...  103139100.0     245.08  0.007885  238.870714   \n",
       "4  257.31  254.00  ...  102512600.0     247.38  0.009395  239.070000   \n",
       "5  258.91  256.19  ...   95006600.0     248.53  0.004674  239.370714   \n",
       "6  259.16  255.50  ...   96823900.0     249.41  0.003528  239.995714   \n",
       "7  259.01  257.03  ...   73858100.0     249.51  0.000386  240.907143   \n",
       "\n",
       "    Long_MA  True Label W2 W3 W4 ensem  \n",
       "0  254.4522           +  +  +  -     +  \n",
       "1  253.8658           -  +  +  +     +  \n",
       "2  253.4608           +  +  +  +     +  \n",
       "3  253.1210           +  +  +  -     +  \n",
       "4  252.9860           +  +  +  +     +  \n",
       "5  252.7828           +  +  -  -     -  \n",
       "6  252.6882           +  +  -  +     +  \n",
       "7  252.6238           +  +  -  +     +  \n",
       "\n",
       "[8 rows x 21 columns]"
      ]
     },
     "execution_count": 49,
     "metadata": {},
     "output_type": "execute_result"
    }
   ],
   "source": [
    "arr = []\n",
    "for i in range(len(spy_l_list4_5)):\n",
    "    arr += \"+\" if list(spy_l_list4_5[[\"W2\",\"W3\",\"W4\"]].iloc[i]).count(\"+\") > 1 else \"-\"\n",
    "        \n",
    "spy_l_list4_5[\"ensem\"] = arr\n",
    "spy_l_list4_5.head(8)"
   ]
  },
  {
   "cell_type": "markdown",
   "metadata": {},
   "source": [
    "### 2. Accuracy percentage for ensemble label for year 4 & 5"
   ]
  },
  {
   "cell_type": "code",
   "execution_count": 50,
   "metadata": {},
   "outputs": [
    {
     "name": "stdout",
     "output_type": "stream",
     "text": [
      "SAP ensemble Accuracy: 53.47%\n"
     ]
    }
   ],
   "source": [
    "ensem_Percent = 0\n",
    "ensem_Percent += np.where(sap_l_list4_5[\"True Label\"] == sap_l_list4_5[\"ensem\"],1,0)\n",
    "ensem_Percent = round(np.sum(ensem_Percent) / len(sap_l_list4_5) * 100, 2)\n",
    "print(f\"SAP ensemble Accuracy: {ensem_Percent}%\")"
   ]
  },
  {
   "cell_type": "code",
   "execution_count": 51,
   "metadata": {},
   "outputs": [
    {
     "name": "stdout",
     "output_type": "stream",
     "text": [
      "SPY ensemble Accuracy: 59.01%\n"
     ]
    }
   ],
   "source": [
    "ensem_Per = 0\n",
    "ensem_Per += np.where(spy_l_list4_5[\"True Label\"] == spy_l_list4_5[\"ensem\"],1,0)\n",
    "ensem_Per = round(np.sum(ensem_Per) / len(spy_l_list4_5) * 100, 2)\n",
    "print(f\"SPY ensemble Accuracy: {ensem_Per}%\")"
   ]
  },
  {
   "cell_type": "markdown",
   "metadata": {},
   "source": [
    "### 3. did you improve your accuracy on predicting \"-\" labels by using ensemble compared to W = 2; 3; 4?"
   ]
  },
  {
   "cell_type": "code",
   "execution_count": 52,
   "metadata": {},
   "outputs": [
    {
     "name": "stdout",
     "output_type": "stream",
     "text": [
      "W2 Accuracy predicting '-' label: 0.0%\n"
     ]
    }
   ],
   "source": [
    "sap_w2_TN = np.sum(np.where(((sap_l_list4_5[\"True Label\"] == \"-\") & (sap_l_list4_5[\"W2\"] == \"-\")),1,0))\n",
    "\n",
    "sap_w2_TN_acc = round((sap_w2_TN / list(sap_l_list4_5[\"True Label\"]).count(\"-\")) * 100,2)\n",
    "print(f\"W2 Accuracy predicting '-' label: {sap_w2_TN_acc}%\") "
   ]
  },
  {
   "cell_type": "code",
   "execution_count": 53,
   "metadata": {},
   "outputs": [
    {
     "name": "stdout",
     "output_type": "stream",
     "text": [
      "W3 Accuracy predicting '-' label: 26.43%\n"
     ]
    }
   ],
   "source": [
    "sap_w3_TN = np.sum(np.where(((sap_l_list4_5[\"True Label\"] == \"-\") & (sap_l_list4_5[\"W3\"] == \"-\")),1,0))\n",
    "\n",
    "sap_w3_TN_acc = round((sap_w3_TN / list(sap_l_list4_5[\"True Label\"]).count(\"-\")) * 100,2)\n",
    "print(f\"W3 Accuracy predicting '-' label: {sap_w3_TN_acc}%\") "
   ]
  },
  {
   "cell_type": "code",
   "execution_count": 54,
   "metadata": {},
   "outputs": [
    {
     "name": "stdout",
     "output_type": "stream",
     "text": [
      "W4 Accuracy predicting '-' label: 27.31%\n"
     ]
    }
   ],
   "source": [
    "sap_w4_TN = np.sum(np.where(((sap_l_list4_5[\"True Label\"] == \"-\") & (sap_l_list4_5[\"W4\"] == \"-\")),1,0))\n",
    "\n",
    "sap_w4_TN_acc = round((sap_w4_TN / list(sap_l_list4_5[\"True Label\"]).count(\"-\")) * 100,2)\n",
    "print(f\"W4 Accuracy predicting '-' label: {sap_w4_TN_acc}%\") "
   ]
  },
  {
   "cell_type": "code",
   "execution_count": 55,
   "metadata": {
    "scrolled": true
   },
   "outputs": [
    {
     "name": "stdout",
     "output_type": "stream",
     "text": [
      "Ensemble Accuracy predicting '-' label: 17.62%\n"
     ]
    }
   ],
   "source": [
    "sap_ensem_TN = np.sum(np.where(((sap_l_list4_5[\"True Label\"] == \"-\") & (sap_l_list4_5[\"ensem\"] == \"-\")),1,0))\n",
    "\n",
    "sap_ensem_TN_acc = round((sap_ensem_TN / list(sap_l_list4_5[\"True Label\"]).count(\"-\")) * 100,2)\n",
    "print(f\"Ensemble Accuracy predicting '-' label: {sap_ensem_TN_acc}%\") "
   ]
  },
  {
   "cell_type": "code",
   "execution_count": 56,
   "metadata": {},
   "outputs": [
    {
     "name": "stdout",
     "output_type": "stream",
     "text": [
      "Ensemble Accuracy for my Stock did not improve compared to W3 and W4. Below are all the accuracy percentages\n"
     ]
    },
    {
     "data": {
      "text/html": [
       "<div>\n",
       "<style scoped>\n",
       "    .dataframe tbody tr th:only-of-type {\n",
       "        vertical-align: middle;\n",
       "    }\n",
       "\n",
       "    .dataframe tbody tr th {\n",
       "        vertical-align: top;\n",
       "    }\n",
       "\n",
       "    .dataframe thead th {\n",
       "        text-align: right;\n",
       "    }\n",
       "</style>\n",
       "<table border=\"1\" class=\"dataframe\">\n",
       "  <thead>\n",
       "    <tr style=\"text-align: right;\">\n",
       "      <th></th>\n",
       "      <th>W2</th>\n",
       "      <th>W3</th>\n",
       "      <th>W4</th>\n",
       "      <th>Ensem</th>\n",
       "    </tr>\n",
       "  </thead>\n",
       "  <tbody>\n",
       "    <tr>\n",
       "      <th>0</th>\n",
       "      <td>0.0</td>\n",
       "      <td>26.43</td>\n",
       "      <td>27.31</td>\n",
       "      <td>17.62</td>\n",
       "    </tr>\n",
       "  </tbody>\n",
       "</table>\n",
       "</div>"
      ],
      "text/plain": [
       "    W2     W3     W4  Ensem\n",
       "0  0.0  26.43  27.31  17.62"
      ]
     },
     "execution_count": 56,
     "metadata": {},
     "output_type": "execute_result"
    }
   ],
   "source": [
    "df = pd.DataFrame({\n",
    "    \"W2\":[sap_w2_TN_acc],\n",
    "    \"W3\":[sap_w3_TN_acc],\n",
    "    \"W4\":[sap_w4_TN_acc],\n",
    "    \"Ensem\":[sap_ensem_TN_acc]})\n",
    "print(\"Ensemble Accuracy for my Stock did not improve compared to W3 and W4. Below are all the accuracy percentages\")\n",
    "df"
   ]
  },
  {
   "cell_type": "code",
   "execution_count": 57,
   "metadata": {},
   "outputs": [
    {
     "name": "stdout",
     "output_type": "stream",
     "text": [
      "W2 Accuracy predicting '-' label: 0.0%\n"
     ]
    }
   ],
   "source": [
    "spy_w2_TN = np.sum(np.where(((spy_l_list4_5[\"True Label\"] == \"-\") & (spy_l_list4_5[\"W2\"] == \"-\")),1,0))\n",
    "\n",
    "spy_w2_TN_acc = round((sap_w2_TN / list(spy_l_list4_5[\"True Label\"]).count(\"-\")) * 100,2)\n",
    "print(f\"W2 Accuracy predicting '-' label: {spy_w2_TN_acc}%\") "
   ]
  },
  {
   "cell_type": "code",
   "execution_count": 58,
   "metadata": {},
   "outputs": [
    {
     "name": "stdout",
     "output_type": "stream",
     "text": [
      "W3 Accuracy predicting '-' label: 28.71%\n"
     ]
    }
   ],
   "source": [
    "spy_w3_TN = np.sum(np.where(((spy_l_list4_5[\"True Label\"] == \"-\") & (spy_l_list4_5[\"W3\"] == \"-\")),1,0))\n",
    "\n",
    "spy_w3_TN_acc = round((sap_w3_TN / list(spy_l_list4_5[\"True Label\"]).count(\"-\")) * 100,2)\n",
    "print(f\"W3 Accuracy predicting '-' label: {spy_w3_TN_acc}%\") "
   ]
  },
  {
   "cell_type": "code",
   "execution_count": 59,
   "metadata": {},
   "outputs": [
    {
     "name": "stdout",
     "output_type": "stream",
     "text": [
      "W4 Accuracy predicting '-' label: 29.67%\n"
     ]
    }
   ],
   "source": [
    "spy_w4_TN = np.sum(np.where(((spy_l_list4_5[\"True Label\"] == \"-\") & (spy_l_list4_5[\"W4\"] == \"-\")),1,0))\n",
    "\n",
    "spy_w4_TN_acc = round((sap_w4_TN / list(spy_l_list4_5[\"True Label\"]).count(\"-\")) * 100,2)\n",
    "print(f\"W4 Accuracy predicting '-' label: {spy_w4_TN_acc}%\") "
   ]
  },
  {
   "cell_type": "code",
   "execution_count": 60,
   "metadata": {},
   "outputs": [
    {
     "name": "stdout",
     "output_type": "stream",
     "text": [
      "Ensemble Accuracy predicting '-' label: 19.14%\n"
     ]
    }
   ],
   "source": [
    "spy_ensem_TN = np.sum(np.where(((spy_l_list4_5[\"True Label\"] == \"-\") & (spy_l_list4_5[\"ensem\"] == \"-\")),1,0))\n",
    "\n",
    "spy_ensem_TN_acc = round((sap_ensem_TN / list(spy_l_list4_5[\"True Label\"]).count(\"-\")) * 100,2)\n",
    "print(f\"Ensemble Accuracy predicting '-' label: {spy_ensem_TN_acc}%\") "
   ]
  },
  {
   "cell_type": "code",
   "execution_count": 61,
   "metadata": {},
   "outputs": [
    {
     "name": "stdout",
     "output_type": "stream",
     "text": [
      "Ensemble Accuracy for SPY did not improve compared to W3 and W4. Below are all the accuracy percentages\n"
     ]
    },
    {
     "data": {
      "text/html": [
       "<div>\n",
       "<style scoped>\n",
       "    .dataframe tbody tr th:only-of-type {\n",
       "        vertical-align: middle;\n",
       "    }\n",
       "\n",
       "    .dataframe tbody tr th {\n",
       "        vertical-align: top;\n",
       "    }\n",
       "\n",
       "    .dataframe thead th {\n",
       "        text-align: right;\n",
       "    }\n",
       "</style>\n",
       "<table border=\"1\" class=\"dataframe\">\n",
       "  <thead>\n",
       "    <tr style=\"text-align: right;\">\n",
       "      <th></th>\n",
       "      <th>W2</th>\n",
       "      <th>W3</th>\n",
       "      <th>W4</th>\n",
       "      <th>Ensem</th>\n",
       "    </tr>\n",
       "  </thead>\n",
       "  <tbody>\n",
       "    <tr>\n",
       "      <th>0</th>\n",
       "      <td>0.0</td>\n",
       "      <td>28.71</td>\n",
       "      <td>29.67</td>\n",
       "      <td>19.14</td>\n",
       "    </tr>\n",
       "  </tbody>\n",
       "</table>\n",
       "</div>"
      ],
      "text/plain": [
       "    W2     W3     W4  Ensem\n",
       "0  0.0  28.71  29.67  19.14"
      ]
     },
     "execution_count": 61,
     "metadata": {},
     "output_type": "execute_result"
    }
   ],
   "source": [
    "df = pd.DataFrame({\n",
    "    \"W2\":[spy_w2_TN_acc],\n",
    "    \"W3\":[spy_w3_TN_acc],\n",
    "    \"W4\":[spy_w4_TN_acc],\n",
    "    \"Ensem\":[spy_ensem_TN_acc]})\n",
    "print(\"Ensemble Accuracy for SPY did not improve compared to W3 and W4. Below are all the accuracy percentages\")\n",
    "df"
   ]
  },
  {
   "cell_type": "markdown",
   "metadata": {},
   "source": [
    "### 4. did you improve your accuracy on predicting \"+\" labels by using ensemble compared to W = 2; 3; 4?"
   ]
  },
  {
   "cell_type": "code",
   "execution_count": 62,
   "metadata": {},
   "outputs": [
    {
     "name": "stdout",
     "output_type": "stream",
     "text": [
      "W2 Accuracy predicting '+' label: 100.0%\n"
     ]
    }
   ],
   "source": [
    "sap_w2_TP = np.sum(np.where(((sap_l_list4_5[\"True Label\"] == \"+\") & (sap_l_list4_5[\"W2\"] == \"+\")),1,0))\n",
    "\n",
    "sap_w2_TP_acc = round((sap_w2_TP / list(sap_l_list4_5[\"True Label\"]).count(\"+\")) * 100,2)\n",
    "print(f\"W2 Accuracy predicting '+' label: {sap_w2_TP_acc}%\") "
   ]
  },
  {
   "cell_type": "code",
   "execution_count": 63,
   "metadata": {},
   "outputs": [
    {
     "name": "stdout",
     "output_type": "stream",
     "text": [
      "W3 Accuracy predicting '+' label: 74.82%\n"
     ]
    }
   ],
   "source": [
    "sap_w3_TP = np.sum(np.where(((sap_l_list4_5[\"True Label\"] == \"+\") & (sap_l_list4_5[\"W3\"] == \"+\")),1,0))\n",
    "\n",
    "sap_w3_TP_acc = round((sap_w3_TP / list(sap_l_list4_5[\"True Label\"]).count(\"+\")) * 100,2)\n",
    "print(f\"W3 Accuracy predicting '+' label: {sap_w3_TP_acc}%\") "
   ]
  },
  {
   "cell_type": "code",
   "execution_count": 64,
   "metadata": {},
   "outputs": [
    {
     "name": "stdout",
     "output_type": "stream",
     "text": [
      "W4 Accuracy predicting '+' label: 75.9%\n"
     ]
    }
   ],
   "source": [
    "sap_w4_TP = np.sum(np.where(((sap_l_list4_5[\"True Label\"] == \"+\") & (sap_l_list4_5[\"W4\"] == \"+\")),1,0))\n",
    "\n",
    "sap_w4_TP_acc = round((sap_w4_TP / list(sap_l_list4_5[\"True Label\"]).count(\"+\")) * 100,2)\n",
    "print(f\"W4 Accuracy predicting '+' label: {sap_w4_TP_acc}%\") "
   ]
  },
  {
   "cell_type": "code",
   "execution_count": 65,
   "metadata": {},
   "outputs": [
    {
     "name": "stdout",
     "output_type": "stream",
     "text": [
      "Ensemble Accuracy predicting '+' label: 82.73%\n"
     ]
    }
   ],
   "source": [
    "sap_ensem_TP = np.sum(np.where(((sap_l_list4_5[\"True Label\"] == \"+\") & (sap_l_list4_5[\"ensem\"] == \"+\")),1,0))\n",
    "\n",
    "sap_ensem_TP_acc = round((sap_ensem_TP / list(sap_l_list4_5[\"True Label\"]).count(\"+\")) * 100,2)\n",
    "print(f\"Ensemble Accuracy predicting '+' label: {sap_ensem_TP_acc}%\") "
   ]
  },
  {
   "cell_type": "code",
   "execution_count": 66,
   "metadata": {},
   "outputs": [
    {
     "name": "stdout",
     "output_type": "stream",
     "text": [
      "Ensemble Accuracy for my stock was lower to W2 but did improve over W3 and W4\n"
     ]
    },
    {
     "data": {
      "text/html": [
       "<div>\n",
       "<style scoped>\n",
       "    .dataframe tbody tr th:only-of-type {\n",
       "        vertical-align: middle;\n",
       "    }\n",
       "\n",
       "    .dataframe tbody tr th {\n",
       "        vertical-align: top;\n",
       "    }\n",
       "\n",
       "    .dataframe thead th {\n",
       "        text-align: right;\n",
       "    }\n",
       "</style>\n",
       "<table border=\"1\" class=\"dataframe\">\n",
       "  <thead>\n",
       "    <tr style=\"text-align: right;\">\n",
       "      <th></th>\n",
       "      <th>W2</th>\n",
       "      <th>W3</th>\n",
       "      <th>W4</th>\n",
       "      <th>Ensem</th>\n",
       "    </tr>\n",
       "  </thead>\n",
       "  <tbody>\n",
       "    <tr>\n",
       "      <th>0</th>\n",
       "      <td>100.0</td>\n",
       "      <td>74.82</td>\n",
       "      <td>75.9</td>\n",
       "      <td>82.73</td>\n",
       "    </tr>\n",
       "  </tbody>\n",
       "</table>\n",
       "</div>"
      ],
      "text/plain": [
       "      W2     W3    W4  Ensem\n",
       "0  100.0  74.82  75.9  82.73"
      ]
     },
     "execution_count": 66,
     "metadata": {},
     "output_type": "execute_result"
    }
   ],
   "source": [
    "df = pd.DataFrame({\n",
    "    \"W2\":[sap_w2_TP_acc],\n",
    "    \"W3\":[sap_w3_TP_acc],\n",
    "    \"W4\":[sap_w4_TP_acc],\n",
    "    \"Ensem\":[sap_ensem_TP_acc]})\n",
    "print(\"Ensemble Accuracy for my stock was lower to W2 but did improve over W3 and W4\")\n",
    "df"
   ]
  },
  {
   "cell_type": "code",
   "execution_count": 67,
   "metadata": {},
   "outputs": [
    {
     "name": "stdout",
     "output_type": "stream",
     "text": [
      "Ensemble Accuracy predicting '+' label: 100.0%\n"
     ]
    }
   ],
   "source": [
    "spy_w2_TP = np.sum(np.where(((spy_l_list4_5[\"True Label\"] == \"+\") & (spy_l_list4_5[\"W2\"] == \"+\")),1,0))\n",
    "\n",
    "spy_w2_TP_acc = round((spy_w2_TP / list(spy_l_list4_5[\"True Label\"]).count(\"+\")) * 100,2)\n",
    "print(f\"Ensemble Accuracy predicting '+' label: {spy_w2_TP_acc}%\") "
   ]
  },
  {
   "cell_type": "code",
   "execution_count": 68,
   "metadata": {},
   "outputs": [
    {
     "name": "stdout",
     "output_type": "stream",
     "text": [
      "Ensemble Accuracy predicting '+' label: 83.78%\n"
     ]
    }
   ],
   "source": [
    "spy_w3_TP = np.sum(np.where(((spy_l_list4_5[\"True Label\"] == \"+\") & (spy_l_list4_5[\"W3\"] == \"+\")),1,0))\n",
    "\n",
    "spy_w3_TP_acc = round((spy_w3_TP / list(spy_l_list4_5[\"True Label\"]).count(\"+\")) * 100,2)\n",
    "print(f\"Ensemble Accuracy predicting '+' label: {spy_w3_TP_acc}%\") "
   ]
  },
  {
   "cell_type": "code",
   "execution_count": 69,
   "metadata": {},
   "outputs": [
    {
     "name": "stdout",
     "output_type": "stream",
     "text": [
      "Ensemble Accuracy predicting '+' label: 79.73%\n"
     ]
    }
   ],
   "source": [
    "spy_w4_TP = np.sum(np.where(((spy_l_list4_5[\"True Label\"] == \"+\") & (spy_l_list4_5[\"W4\"] == \"+\")),1,0))\n",
    "\n",
    "spy_w4_TP_acc = round((spy_w4_TP / list(spy_l_list4_5[\"True Label\"]).count(\"+\")) * 100,2)\n",
    "print(f\"Ensemble Accuracy predicting '+' label: {spy_w4_TP_acc}%\") "
   ]
  },
  {
   "cell_type": "code",
   "execution_count": 70,
   "metadata": {},
   "outputs": [
    {
     "name": "stdout",
     "output_type": "stream",
     "text": [
      "Ensemble Accuracy predicting '+' label: 92.23%\n"
     ]
    }
   ],
   "source": [
    "spy_ensem_TP = np.sum(np.where(((spy_l_list4_5[\"True Label\"] == \"+\") & (spy_l_list4_5[\"ensem\"] == \"+\")),1,0))\n",
    "\n",
    "spy_ensem_TP_acc = round((spy_ensem_TP / list(spy_l_list4_5[\"True Label\"]).count(\"+\")) * 100,2)\n",
    "print(f\"Ensemble Accuracy predicting '+' label: {spy_ensem_TP_acc}%\") "
   ]
  },
  {
   "cell_type": "code",
   "execution_count": 71,
   "metadata": {},
   "outputs": [
    {
     "name": "stdout",
     "output_type": "stream",
     "text": [
      "Ensemble Accuracy for SPY was lower to W2 but did improve over W3 and W4\n"
     ]
    },
    {
     "data": {
      "text/html": [
       "<div>\n",
       "<style scoped>\n",
       "    .dataframe tbody tr th:only-of-type {\n",
       "        vertical-align: middle;\n",
       "    }\n",
       "\n",
       "    .dataframe tbody tr th {\n",
       "        vertical-align: top;\n",
       "    }\n",
       "\n",
       "    .dataframe thead th {\n",
       "        text-align: right;\n",
       "    }\n",
       "</style>\n",
       "<table border=\"1\" class=\"dataframe\">\n",
       "  <thead>\n",
       "    <tr style=\"text-align: right;\">\n",
       "      <th></th>\n",
       "      <th>W2</th>\n",
       "      <th>W3</th>\n",
       "      <th>W4</th>\n",
       "      <th>Ensem</th>\n",
       "    </tr>\n",
       "  </thead>\n",
       "  <tbody>\n",
       "    <tr>\n",
       "      <th>0</th>\n",
       "      <td>100.0</td>\n",
       "      <td>83.78</td>\n",
       "      <td>79.73</td>\n",
       "      <td>92.23</td>\n",
       "    </tr>\n",
       "  </tbody>\n",
       "</table>\n",
       "</div>"
      ],
      "text/plain": [
       "      W2     W3     W4  Ensem\n",
       "0  100.0  83.78  79.73  92.23"
      ]
     },
     "execution_count": 71,
     "metadata": {},
     "output_type": "execute_result"
    }
   ],
   "source": [
    "df = pd.DataFrame({\n",
    "    \"W2\":[spy_w2_TP_acc],\n",
    "    \"W3\":[spy_w3_TP_acc],\n",
    "    \"W4\":[spy_w4_TP_acc],\n",
    "    \"Ensem\":[spy_ensem_TP_acc]})\n",
    "print(\"Ensemble Accuracy for SPY was lower to W2 but did improve over W3 and W4\")\n",
    "df"
   ]
  },
  {
   "cell_type": "markdown",
   "metadata": {},
   "source": [
    "## Question 4"
   ]
  },
  {
   "cell_type": "markdown",
   "metadata": {},
   "source": [
    "### 1. TP - true positives"
   ]
  },
  {
   "cell_type": "code",
   "execution_count": 72,
   "metadata": {},
   "outputs": [
    {
     "name": "stdout",
     "output_type": "stream",
     "text": [
      "SAP True Positives\n"
     ]
    },
    {
     "data": {
      "text/html": [
       "<div>\n",
       "<style scoped>\n",
       "    .dataframe tbody tr th:only-of-type {\n",
       "        vertical-align: middle;\n",
       "    }\n",
       "\n",
       "    .dataframe tbody tr th {\n",
       "        vertical-align: top;\n",
       "    }\n",
       "\n",
       "    .dataframe thead th {\n",
       "        text-align: right;\n",
       "    }\n",
       "</style>\n",
       "<table border=\"1\" class=\"dataframe\">\n",
       "  <thead>\n",
       "    <tr style=\"text-align: right;\">\n",
       "      <th></th>\n",
       "      <th>TP</th>\n",
       "    </tr>\n",
       "  </thead>\n",
       "  <tbody>\n",
       "    <tr>\n",
       "      <th>W2</th>\n",
       "      <td>278</td>\n",
       "    </tr>\n",
       "    <tr>\n",
       "      <th>W3</th>\n",
       "      <td>208</td>\n",
       "    </tr>\n",
       "    <tr>\n",
       "      <th>W4</th>\n",
       "      <td>211</td>\n",
       "    </tr>\n",
       "    <tr>\n",
       "      <th>ensem</th>\n",
       "      <td>230</td>\n",
       "    </tr>\n",
       "  </tbody>\n",
       "</table>\n",
       "</div>"
      ],
      "text/plain": [
       "        TP\n",
       "W2     278\n",
       "W3     208\n",
       "W4     211\n",
       "ensem  230"
      ]
     },
     "execution_count": 72,
     "metadata": {},
     "output_type": "execute_result"
    }
   ],
   "source": [
    "sap_tp_df = pd.DataFrame([sap_w2_TP,sap_w3_TP,sap_w4_TP,sap_ensem_TP], index=[\"W2\",\"W3\",\"W4\",\"ensem\"], columns=[\"TP\"])\n",
    "print(\"SAP True Positives\")\n",
    "sap_tp_df"
   ]
  },
  {
   "cell_type": "code",
   "execution_count": 73,
   "metadata": {},
   "outputs": [
    {
     "name": "stdout",
     "output_type": "stream",
     "text": [
      "SPY True Positives\n"
     ]
    },
    {
     "data": {
      "text/html": [
       "<div>\n",
       "<style scoped>\n",
       "    .dataframe tbody tr th:only-of-type {\n",
       "        vertical-align: middle;\n",
       "    }\n",
       "\n",
       "    .dataframe tbody tr th {\n",
       "        vertical-align: top;\n",
       "    }\n",
       "\n",
       "    .dataframe thead th {\n",
       "        text-align: right;\n",
       "    }\n",
       "</style>\n",
       "<table border=\"1\" class=\"dataframe\">\n",
       "  <thead>\n",
       "    <tr style=\"text-align: right;\">\n",
       "      <th></th>\n",
       "      <th>TP</th>\n",
       "    </tr>\n",
       "  </thead>\n",
       "  <tbody>\n",
       "    <tr>\n",
       "      <th>W2</th>\n",
       "      <td>296</td>\n",
       "    </tr>\n",
       "    <tr>\n",
       "      <th>W3</th>\n",
       "      <td>248</td>\n",
       "    </tr>\n",
       "    <tr>\n",
       "      <th>W4</th>\n",
       "      <td>236</td>\n",
       "    </tr>\n",
       "    <tr>\n",
       "      <th>ensem</th>\n",
       "      <td>273</td>\n",
       "    </tr>\n",
       "  </tbody>\n",
       "</table>\n",
       "</div>"
      ],
      "text/plain": [
       "        TP\n",
       "W2     296\n",
       "W3     248\n",
       "W4     236\n",
       "ensem  273"
      ]
     },
     "execution_count": 73,
     "metadata": {},
     "output_type": "execute_result"
    }
   ],
   "source": [
    "spy_tp_df = pd.DataFrame([spy_w2_TP,spy_w3_TP,spy_w4_TP,spy_ensem_TP], index=[\"W2\",\"W3\",\"W4\",\"ensem\"], columns=[\"TP\"])\n",
    "print(\"SPY True Positives\")\n",
    "spy_tp_df"
   ]
  },
  {
   "cell_type": "markdown",
   "metadata": {},
   "source": [
    "### 2. FP - false positives"
   ]
  },
  {
   "cell_type": "code",
   "execution_count": 74,
   "metadata": {},
   "outputs": [],
   "source": [
    "sap_w2_FP = list(sap_l_list4_5[\"True Label\"]).count(\"-\") - sap_w2_TN\n",
    "sap_w3_FP = list(sap_l_list4_5[\"True Label\"]).count(\"-\") - sap_w3_TN\n",
    "sap_w4_FP = list(sap_l_list4_5[\"True Label\"]).count(\"-\") - sap_w4_TN\n",
    "sap_ensem_FP = list(sap_l_list4_5[\"True Label\"]).count(\"-\") - sap_ensem_TN"
   ]
  },
  {
   "cell_type": "code",
   "execution_count": 75,
   "metadata": {},
   "outputs": [
    {
     "name": "stdout",
     "output_type": "stream",
     "text": [
      "SAP False Positives\n"
     ]
    },
    {
     "data": {
      "text/html": [
       "<div>\n",
       "<style scoped>\n",
       "    .dataframe tbody tr th:only-of-type {\n",
       "        vertical-align: middle;\n",
       "    }\n",
       "\n",
       "    .dataframe tbody tr th {\n",
       "        vertical-align: top;\n",
       "    }\n",
       "\n",
       "    .dataframe thead th {\n",
       "        text-align: right;\n",
       "    }\n",
       "</style>\n",
       "<table border=\"1\" class=\"dataframe\">\n",
       "  <thead>\n",
       "    <tr style=\"text-align: right;\">\n",
       "      <th></th>\n",
       "      <th>FP</th>\n",
       "    </tr>\n",
       "  </thead>\n",
       "  <tbody>\n",
       "    <tr>\n",
       "      <th>W2</th>\n",
       "      <td>227</td>\n",
       "    </tr>\n",
       "    <tr>\n",
       "      <th>W3</th>\n",
       "      <td>167</td>\n",
       "    </tr>\n",
       "    <tr>\n",
       "      <th>W4</th>\n",
       "      <td>165</td>\n",
       "    </tr>\n",
       "    <tr>\n",
       "      <th>ensem</th>\n",
       "      <td>187</td>\n",
       "    </tr>\n",
       "  </tbody>\n",
       "</table>\n",
       "</div>"
      ],
      "text/plain": [
       "        FP\n",
       "W2     227\n",
       "W3     167\n",
       "W4     165\n",
       "ensem  187"
      ]
     },
     "execution_count": 75,
     "metadata": {},
     "output_type": "execute_result"
    }
   ],
   "source": [
    "sap_fp_df = pd.DataFrame([sap_w2_FP,sap_w3_FP,sap_w4_FP,sap_ensem_FP], index=[\"W2\",\"W3\",\"W4\",\"ensem\"], columns=[\"FP\"])\n",
    "print(\"SAP False Positives\")\n",
    "sap_fp_df"
   ]
  },
  {
   "cell_type": "code",
   "execution_count": 76,
   "metadata": {},
   "outputs": [],
   "source": [
    "spy_w2_FP = list(spy_l_list4_5[\"True Label\"]).count(\"-\") - spy_w2_TN\n",
    "spy_w3_FP = list(spy_l_list4_5[\"True Label\"]).count(\"-\") - spy_w3_TN\n",
    "spy_w4_FP = list(spy_l_list4_5[\"True Label\"]).count(\"-\") - spy_w4_TN\n",
    "spy_ensem_FP = list(spy_l_list4_5[\"True Label\"]).count(\"-\") - spy_ensem_TN"
   ]
  },
  {
   "cell_type": "code",
   "execution_count": 77,
   "metadata": {},
   "outputs": [
    {
     "name": "stdout",
     "output_type": "stream",
     "text": [
      "SPY False Positives\n"
     ]
    },
    {
     "data": {
      "text/html": [
       "<div>\n",
       "<style scoped>\n",
       "    .dataframe tbody tr th:only-of-type {\n",
       "        vertical-align: middle;\n",
       "    }\n",
       "\n",
       "    .dataframe tbody tr th {\n",
       "        vertical-align: top;\n",
       "    }\n",
       "\n",
       "    .dataframe thead th {\n",
       "        text-align: right;\n",
       "    }\n",
       "</style>\n",
       "<table border=\"1\" class=\"dataframe\">\n",
       "  <thead>\n",
       "    <tr style=\"text-align: right;\">\n",
       "      <th></th>\n",
       "      <th>FP</th>\n",
       "    </tr>\n",
       "  </thead>\n",
       "  <tbody>\n",
       "    <tr>\n",
       "      <th>W2</th>\n",
       "      <td>209</td>\n",
       "    </tr>\n",
       "    <tr>\n",
       "      <th>W3</th>\n",
       "      <td>161</td>\n",
       "    </tr>\n",
       "    <tr>\n",
       "      <th>W4</th>\n",
       "      <td>155</td>\n",
       "    </tr>\n",
       "    <tr>\n",
       "      <th>ensem</th>\n",
       "      <td>184</td>\n",
       "    </tr>\n",
       "  </tbody>\n",
       "</table>\n",
       "</div>"
      ],
      "text/plain": [
       "        FP\n",
       "W2     209\n",
       "W3     161\n",
       "W4     155\n",
       "ensem  184"
      ]
     },
     "execution_count": 77,
     "metadata": {},
     "output_type": "execute_result"
    }
   ],
   "source": [
    "spy_fp_df = pd.DataFrame([spy_w2_FP,spy_w3_FP,spy_w4_FP,spy_ensem_FP], index=[\"W2\",\"W3\",\"W4\",\"ensem\"], columns=[\"FP\"])\n",
    "print(\"SPY False Positives\")\n",
    "spy_fp_df"
   ]
  },
  {
   "cell_type": "markdown",
   "metadata": {},
   "source": [
    "### 3. TN - true negative"
   ]
  },
  {
   "cell_type": "code",
   "execution_count": 78,
   "metadata": {},
   "outputs": [
    {
     "name": "stdout",
     "output_type": "stream",
     "text": [
      "SAP True Negative\n"
     ]
    },
    {
     "data": {
      "text/html": [
       "<div>\n",
       "<style scoped>\n",
       "    .dataframe tbody tr th:only-of-type {\n",
       "        vertical-align: middle;\n",
       "    }\n",
       "\n",
       "    .dataframe tbody tr th {\n",
       "        vertical-align: top;\n",
       "    }\n",
       "\n",
       "    .dataframe thead th {\n",
       "        text-align: right;\n",
       "    }\n",
       "</style>\n",
       "<table border=\"1\" class=\"dataframe\">\n",
       "  <thead>\n",
       "    <tr style=\"text-align: right;\">\n",
       "      <th></th>\n",
       "      <th>TN</th>\n",
       "    </tr>\n",
       "  </thead>\n",
       "  <tbody>\n",
       "    <tr>\n",
       "      <th>W2</th>\n",
       "      <td>0</td>\n",
       "    </tr>\n",
       "    <tr>\n",
       "      <th>W3</th>\n",
       "      <td>60</td>\n",
       "    </tr>\n",
       "    <tr>\n",
       "      <th>W4</th>\n",
       "      <td>62</td>\n",
       "    </tr>\n",
       "    <tr>\n",
       "      <th>ensem</th>\n",
       "      <td>40</td>\n",
       "    </tr>\n",
       "  </tbody>\n",
       "</table>\n",
       "</div>"
      ],
      "text/plain": [
       "       TN\n",
       "W2      0\n",
       "W3     60\n",
       "W4     62\n",
       "ensem  40"
      ]
     },
     "execution_count": 78,
     "metadata": {},
     "output_type": "execute_result"
    }
   ],
   "source": [
    "sap_tn_df = pd.DataFrame([sap_w2_TN,sap_w3_TN,sap_w4_TN,sap_ensem_TN], index=[\"W2\",\"W3\",\"W4\",\"ensem\"], columns=[\"TN\"])\n",
    "print(\"SAP True Negative\")\n",
    "sap_tn_df"
   ]
  },
  {
   "cell_type": "code",
   "execution_count": 79,
   "metadata": {},
   "outputs": [
    {
     "name": "stdout",
     "output_type": "stream",
     "text": [
      "SPY True Negative\n"
     ]
    },
    {
     "data": {
      "text/html": [
       "<div>\n",
       "<style scoped>\n",
       "    .dataframe tbody tr th:only-of-type {\n",
       "        vertical-align: middle;\n",
       "    }\n",
       "\n",
       "    .dataframe tbody tr th {\n",
       "        vertical-align: top;\n",
       "    }\n",
       "\n",
       "    .dataframe thead th {\n",
       "        text-align: right;\n",
       "    }\n",
       "</style>\n",
       "<table border=\"1\" class=\"dataframe\">\n",
       "  <thead>\n",
       "    <tr style=\"text-align: right;\">\n",
       "      <th></th>\n",
       "      <th>TN</th>\n",
       "    </tr>\n",
       "  </thead>\n",
       "  <tbody>\n",
       "    <tr>\n",
       "      <th>W2</th>\n",
       "      <td>0</td>\n",
       "    </tr>\n",
       "    <tr>\n",
       "      <th>W3</th>\n",
       "      <td>48</td>\n",
       "    </tr>\n",
       "    <tr>\n",
       "      <th>W4</th>\n",
       "      <td>54</td>\n",
       "    </tr>\n",
       "    <tr>\n",
       "      <th>ensem</th>\n",
       "      <td>25</td>\n",
       "    </tr>\n",
       "  </tbody>\n",
       "</table>\n",
       "</div>"
      ],
      "text/plain": [
       "       TN\n",
       "W2      0\n",
       "W3     48\n",
       "W4     54\n",
       "ensem  25"
      ]
     },
     "execution_count": 79,
     "metadata": {},
     "output_type": "execute_result"
    }
   ],
   "source": [
    "spy_tn_df = pd.DataFrame([spy_w2_TN,spy_w3_TN,spy_w4_TN,spy_ensem_TN], index=[\"W2\",\"W3\",\"W4\",\"ensem\"], columns=[\"TN\"])\n",
    "print(\"SPY True Negative\")\n",
    "spy_tn_df"
   ]
  },
  {
   "cell_type": "markdown",
   "metadata": {},
   "source": [
    "### 4. FN - false negatives"
   ]
  },
  {
   "cell_type": "code",
   "execution_count": 80,
   "metadata": {},
   "outputs": [],
   "source": [
    "sap_w2_FN = list(sap_l_list4_5[\"True Label\"]).count(\"+\") - sap_w2_TP\n",
    "sap_w3_FN = list(sap_l_list4_5[\"True Label\"]).count(\"+\") - sap_w3_TP\n",
    "sap_w4_FN = list(sap_l_list4_5[\"True Label\"]).count(\"+\") - sap_w4_TP\n",
    "sap_ensem_FN = list(sap_l_list4_5[\"True Label\"]).count(\"+\") - sap_ensem_TP"
   ]
  },
  {
   "cell_type": "code",
   "execution_count": 81,
   "metadata": {},
   "outputs": [
    {
     "name": "stdout",
     "output_type": "stream",
     "text": [
      "SAP False Negative\n"
     ]
    },
    {
     "data": {
      "text/html": [
       "<div>\n",
       "<style scoped>\n",
       "    .dataframe tbody tr th:only-of-type {\n",
       "        vertical-align: middle;\n",
       "    }\n",
       "\n",
       "    .dataframe tbody tr th {\n",
       "        vertical-align: top;\n",
       "    }\n",
       "\n",
       "    .dataframe thead th {\n",
       "        text-align: right;\n",
       "    }\n",
       "</style>\n",
       "<table border=\"1\" class=\"dataframe\">\n",
       "  <thead>\n",
       "    <tr style=\"text-align: right;\">\n",
       "      <th></th>\n",
       "      <th>FN</th>\n",
       "    </tr>\n",
       "  </thead>\n",
       "  <tbody>\n",
       "    <tr>\n",
       "      <th>W2</th>\n",
       "      <td>0</td>\n",
       "    </tr>\n",
       "    <tr>\n",
       "      <th>W3</th>\n",
       "      <td>70</td>\n",
       "    </tr>\n",
       "    <tr>\n",
       "      <th>W4</th>\n",
       "      <td>67</td>\n",
       "    </tr>\n",
       "    <tr>\n",
       "      <th>ensem</th>\n",
       "      <td>48</td>\n",
       "    </tr>\n",
       "  </tbody>\n",
       "</table>\n",
       "</div>"
      ],
      "text/plain": [
       "       FN\n",
       "W2      0\n",
       "W3     70\n",
       "W4     67\n",
       "ensem  48"
      ]
     },
     "execution_count": 81,
     "metadata": {},
     "output_type": "execute_result"
    }
   ],
   "source": [
    "sap_fn_df = pd.DataFrame([sap_w2_FN,sap_w3_FN,sap_w4_FN,sap_ensem_FN], index=[\"W2\",\"W3\",\"W4\",\"ensem\"], columns=[\"FN\"])\n",
    "print(\"SAP False Negative\")\n",
    "sap_fn_df"
   ]
  },
  {
   "cell_type": "code",
   "execution_count": 82,
   "metadata": {},
   "outputs": [],
   "source": [
    "spy_w2_FN = list(spy_l_list4_5[\"True Label\"]).count(\"+\") - spy_w2_TP\n",
    "spy_w3_FN = list(spy_l_list4_5[\"True Label\"]).count(\"+\") - spy_w3_TP\n",
    "spy_w4_FN = list(spy_l_list4_5[\"True Label\"]).count(\"+\") - spy_w4_TP\n",
    "spy_ensem_FN = list(spy_l_list4_5[\"True Label\"]).count(\"+\") - spy_ensem_TP"
   ]
  },
  {
   "cell_type": "code",
   "execution_count": 83,
   "metadata": {
    "scrolled": true
   },
   "outputs": [
    {
     "name": "stdout",
     "output_type": "stream",
     "text": [
      "Spy False Negative\n"
     ]
    },
    {
     "data": {
      "text/html": [
       "<div>\n",
       "<style scoped>\n",
       "    .dataframe tbody tr th:only-of-type {\n",
       "        vertical-align: middle;\n",
       "    }\n",
       "\n",
       "    .dataframe tbody tr th {\n",
       "        vertical-align: top;\n",
       "    }\n",
       "\n",
       "    .dataframe thead th {\n",
       "        text-align: right;\n",
       "    }\n",
       "</style>\n",
       "<table border=\"1\" class=\"dataframe\">\n",
       "  <thead>\n",
       "    <tr style=\"text-align: right;\">\n",
       "      <th></th>\n",
       "      <th>FN</th>\n",
       "    </tr>\n",
       "  </thead>\n",
       "  <tbody>\n",
       "    <tr>\n",
       "      <th>W2</th>\n",
       "      <td>0</td>\n",
       "    </tr>\n",
       "    <tr>\n",
       "      <th>W3</th>\n",
       "      <td>48</td>\n",
       "    </tr>\n",
       "    <tr>\n",
       "      <th>W4</th>\n",
       "      <td>60</td>\n",
       "    </tr>\n",
       "    <tr>\n",
       "      <th>ensem</th>\n",
       "      <td>23</td>\n",
       "    </tr>\n",
       "  </tbody>\n",
       "</table>\n",
       "</div>"
      ],
      "text/plain": [
       "       FN\n",
       "W2      0\n",
       "W3     48\n",
       "W4     60\n",
       "ensem  23"
      ]
     },
     "execution_count": 83,
     "metadata": {},
     "output_type": "execute_result"
    }
   ],
   "source": [
    "spy_fn_df = pd.DataFrame([spy_w2_FN,spy_w3_FN,spy_w4_FN,spy_ensem_FN], index=[\"W2\",\"W3\",\"W4\",\"ensem\"], columns=[\"FN\"])\n",
    "print(\"Spy False Negative\")\n",
    "spy_fn_df"
   ]
  },
  {
   "cell_type": "markdown",
   "metadata": {},
   "source": [
    "### 5. TPR = TP/(TP + FN) - true positive rate"
   ]
  },
  {
   "cell_type": "code",
   "execution_count": 84,
   "metadata": {},
   "outputs": [],
   "source": [
    "sap_w2_tpr = round(sap_w2_TP/ (sap_w2_TP + sap_w2_FN) * 100,2)\n",
    "sap_w3_tpr = round(sap_w3_TP/ (sap_w3_TP + sap_w2_FN) * 100,2)\n",
    "sap_w4_tpr = round(sap_w3_TP/ (sap_w4_TP + sap_w4_FN) * 100,2)\n",
    "sap_ensem_tpr = round(sap_ensem_TP/ (sap_ensem_TP + sap_ensem_FN) * 100,2)"
   ]
  },
  {
   "cell_type": "code",
   "execution_count": 85,
   "metadata": {},
   "outputs": [
    {
     "name": "stdout",
     "output_type": "stream",
     "text": [
      "SAP TPR\n"
     ]
    },
    {
     "data": {
      "text/html": [
       "<div>\n",
       "<style scoped>\n",
       "    .dataframe tbody tr th:only-of-type {\n",
       "        vertical-align: middle;\n",
       "    }\n",
       "\n",
       "    .dataframe tbody tr th {\n",
       "        vertical-align: top;\n",
       "    }\n",
       "\n",
       "    .dataframe thead th {\n",
       "        text-align: right;\n",
       "    }\n",
       "</style>\n",
       "<table border=\"1\" class=\"dataframe\">\n",
       "  <thead>\n",
       "    <tr style=\"text-align: right;\">\n",
       "      <th></th>\n",
       "      <th>TPR %</th>\n",
       "    </tr>\n",
       "  </thead>\n",
       "  <tbody>\n",
       "    <tr>\n",
       "      <th>W2</th>\n",
       "      <td>100.00</td>\n",
       "    </tr>\n",
       "    <tr>\n",
       "      <th>W3</th>\n",
       "      <td>100.00</td>\n",
       "    </tr>\n",
       "    <tr>\n",
       "      <th>W4</th>\n",
       "      <td>74.82</td>\n",
       "    </tr>\n",
       "    <tr>\n",
       "      <th>ensem</th>\n",
       "      <td>82.73</td>\n",
       "    </tr>\n",
       "  </tbody>\n",
       "</table>\n",
       "</div>"
      ],
      "text/plain": [
       "        TPR %\n",
       "W2     100.00\n",
       "W3     100.00\n",
       "W4      74.82\n",
       "ensem   82.73"
      ]
     },
     "execution_count": 85,
     "metadata": {},
     "output_type": "execute_result"
    }
   ],
   "source": [
    "sap_tpr_df = pd.DataFrame([sap_w2_tpr,sap_w3_tpr,sap_w4_tpr,sap_ensem_tpr], index=[\"W2\",\"W3\",\"W4\",\"ensem\"], columns=[\"TPR %\"])\n",
    "print(\"SAP TPR\")\n",
    "sap_tpr_df"
   ]
  },
  {
   "cell_type": "code",
   "execution_count": 86,
   "metadata": {},
   "outputs": [],
   "source": [
    "spy_w2_tpr = round(spy_w2_TP/ (spy_w2_TP + spy_w2_FN) * 100,2)\n",
    "spy_w3_tpr = round(spy_w3_TP/ (spy_w3_TP + spy_w3_FN) * 100,2)\n",
    "spy_w4_tpr = round(spy_w4_TP/ (spy_w4_TP + spy_w4_FN) * 100,2)\n",
    "spy_ensem_tpr = round(spy_ensem_TP/ (spy_ensem_TP + spy_ensem_FN) * 100,2)"
   ]
  },
  {
   "cell_type": "code",
   "execution_count": 87,
   "metadata": {},
   "outputs": [
    {
     "name": "stdout",
     "output_type": "stream",
     "text": [
      "SPY TPR\n"
     ]
    },
    {
     "data": {
      "text/html": [
       "<div>\n",
       "<style scoped>\n",
       "    .dataframe tbody tr th:only-of-type {\n",
       "        vertical-align: middle;\n",
       "    }\n",
       "\n",
       "    .dataframe tbody tr th {\n",
       "        vertical-align: top;\n",
       "    }\n",
       "\n",
       "    .dataframe thead th {\n",
       "        text-align: right;\n",
       "    }\n",
       "</style>\n",
       "<table border=\"1\" class=\"dataframe\">\n",
       "  <thead>\n",
       "    <tr style=\"text-align: right;\">\n",
       "      <th></th>\n",
       "      <th>TPR %</th>\n",
       "    </tr>\n",
       "  </thead>\n",
       "  <tbody>\n",
       "    <tr>\n",
       "      <th>W2</th>\n",
       "      <td>100.00</td>\n",
       "    </tr>\n",
       "    <tr>\n",
       "      <th>W3</th>\n",
       "      <td>83.78</td>\n",
       "    </tr>\n",
       "    <tr>\n",
       "      <th>W4</th>\n",
       "      <td>79.73</td>\n",
       "    </tr>\n",
       "    <tr>\n",
       "      <th>ensem</th>\n",
       "      <td>92.23</td>\n",
       "    </tr>\n",
       "  </tbody>\n",
       "</table>\n",
       "</div>"
      ],
      "text/plain": [
       "        TPR %\n",
       "W2     100.00\n",
       "W3      83.78\n",
       "W4      79.73\n",
       "ensem   92.23"
      ]
     },
     "execution_count": 87,
     "metadata": {},
     "output_type": "execute_result"
    }
   ],
   "source": [
    "spy_tpr_df = pd.DataFrame([spy_w2_tpr,spy_w3_tpr,spy_w4_tpr,spy_ensem_tpr], index=[\"W2\",\"W3\",\"W4\",\"ensem\"], columns=[\"TPR %\"])\n",
    "print(\"SPY TPR\")\n",
    "spy_tpr_df"
   ]
  },
  {
   "cell_type": "markdown",
   "metadata": {},
   "source": [
    "### 6. TNR = TN/(TN + FP) - true negative rate."
   ]
  },
  {
   "cell_type": "code",
   "execution_count": 88,
   "metadata": {},
   "outputs": [],
   "source": [
    "sap_w2_tnr = round(sap_w2_TN/ (sap_w2_TN + sap_w2_FP) * 100,2)\n",
    "sap_w3_tnr = round(sap_w3_TN/ (sap_w3_TN + sap_w2_FP) * 100,2)\n",
    "sap_w4_tnr = round(sap_w3_TN/ (sap_w4_TN + sap_w4_FP) * 100,2)\n",
    "sap_ensem_tnr = round(sap_ensem_TN/ (sap_ensem_TN + sap_ensem_FP) * 100,2)"
   ]
  },
  {
   "cell_type": "code",
   "execution_count": 89,
   "metadata": {},
   "outputs": [
    {
     "name": "stdout",
     "output_type": "stream",
     "text": [
      "SAP TNR\n"
     ]
    },
    {
     "data": {
      "text/html": [
       "<div>\n",
       "<style scoped>\n",
       "    .dataframe tbody tr th:only-of-type {\n",
       "        vertical-align: middle;\n",
       "    }\n",
       "\n",
       "    .dataframe tbody tr th {\n",
       "        vertical-align: top;\n",
       "    }\n",
       "\n",
       "    .dataframe thead th {\n",
       "        text-align: right;\n",
       "    }\n",
       "</style>\n",
       "<table border=\"1\" class=\"dataframe\">\n",
       "  <thead>\n",
       "    <tr style=\"text-align: right;\">\n",
       "      <th></th>\n",
       "      <th>TNR %</th>\n",
       "    </tr>\n",
       "  </thead>\n",
       "  <tbody>\n",
       "    <tr>\n",
       "      <th>W2</th>\n",
       "      <td>0.00</td>\n",
       "    </tr>\n",
       "    <tr>\n",
       "      <th>W3</th>\n",
       "      <td>20.91</td>\n",
       "    </tr>\n",
       "    <tr>\n",
       "      <th>W4</th>\n",
       "      <td>26.43</td>\n",
       "    </tr>\n",
       "    <tr>\n",
       "      <th>ensem</th>\n",
       "      <td>17.62</td>\n",
       "    </tr>\n",
       "  </tbody>\n",
       "</table>\n",
       "</div>"
      ],
      "text/plain": [
       "       TNR %\n",
       "W2      0.00\n",
       "W3     20.91\n",
       "W4     26.43\n",
       "ensem  17.62"
      ]
     },
     "execution_count": 89,
     "metadata": {},
     "output_type": "execute_result"
    }
   ],
   "source": [
    "sap_tnr_df = pd.DataFrame([sap_w2_tnr,sap_w3_tnr,sap_w4_tnr,sap_ensem_tnr], index=[\"W2\",\"W3\",\"W4\",\"ensem\"], columns=[\"TNR %\"])\n",
    "print(\"SAP TNR\")\n",
    "sap_tnr_df"
   ]
  },
  {
   "cell_type": "code",
   "execution_count": 90,
   "metadata": {},
   "outputs": [],
   "source": [
    "spy_w2_tnr = round(spy_w2_TN/ (spy_w2_TN + spy_w2_FP) * 100,2)\n",
    "spy_w3_tnr = round(spy_w3_TN/ (spy_w3_TN + spy_w3_FP) * 100,2)\n",
    "spy_w4_tnr = round(spy_w4_TN/ (spy_w4_TN + spy_w4_FP) * 100,2)\n",
    "spy_ensem_tnr = round(spy_ensem_TN/ (spy_ensem_TN + spy_ensem_FP) * 100,2)"
   ]
  },
  {
   "cell_type": "code",
   "execution_count": 91,
   "metadata": {},
   "outputs": [
    {
     "name": "stdout",
     "output_type": "stream",
     "text": [
      "SPY TNR\n"
     ]
    },
    {
     "data": {
      "text/html": [
       "<div>\n",
       "<style scoped>\n",
       "    .dataframe tbody tr th:only-of-type {\n",
       "        vertical-align: middle;\n",
       "    }\n",
       "\n",
       "    .dataframe tbody tr th {\n",
       "        vertical-align: top;\n",
       "    }\n",
       "\n",
       "    .dataframe thead th {\n",
       "        text-align: right;\n",
       "    }\n",
       "</style>\n",
       "<table border=\"1\" class=\"dataframe\">\n",
       "  <thead>\n",
       "    <tr style=\"text-align: right;\">\n",
       "      <th></th>\n",
       "      <th>TNR %</th>\n",
       "    </tr>\n",
       "  </thead>\n",
       "  <tbody>\n",
       "    <tr>\n",
       "      <th>W2</th>\n",
       "      <td>0.00</td>\n",
       "    </tr>\n",
       "    <tr>\n",
       "      <th>W3</th>\n",
       "      <td>22.97</td>\n",
       "    </tr>\n",
       "    <tr>\n",
       "      <th>W4</th>\n",
       "      <td>25.84</td>\n",
       "    </tr>\n",
       "    <tr>\n",
       "      <th>ensem</th>\n",
       "      <td>11.96</td>\n",
       "    </tr>\n",
       "  </tbody>\n",
       "</table>\n",
       "</div>"
      ],
      "text/plain": [
       "       TNR %\n",
       "W2      0.00\n",
       "W3     22.97\n",
       "W4     25.84\n",
       "ensem  11.96"
      ]
     },
     "execution_count": 91,
     "metadata": {},
     "output_type": "execute_result"
    }
   ],
   "source": [
    "spy_tnr_df = pd.DataFrame([spy_w2_tnr,spy_w3_tnr,spy_w4_tnr,spy_ensem_tnr], index=[\"W2\",\"W3\",\"W4\",\"ensem\"], columns=[\"TNR %\"])\n",
    "print(\"SPY TNR\")\n",
    "spy_tnr_df"
   ]
  },
  {
   "cell_type": "markdown",
   "metadata": {},
   "source": [
    "### 7. summarize your findings in the table"
   ]
  },
  {
   "cell_type": "code",
   "execution_count": 92,
   "metadata": {},
   "outputs": [],
   "source": [
    "sap_ticker = pd.DataFrame(([\"SAP\"]*4),index=[\"W2\",\"W3\",\"W4\",\"ensem\"], columns=[\"ticker\"])\n",
    "spy_ticker = pd.DataFrame(([\"S&P-500\"]*4),index=[\"W2\",\"W3\",\"W4\",\"ensem\"], columns=[\"ticker\"])"
   ]
  },
  {
   "cell_type": "code",
   "execution_count": 93,
   "metadata": {},
   "outputs": [],
   "source": [
    "sap_acc = pd.DataFrame([w2percent,w3percent,w4percent,ensem_Percent],index=[\"W2\",\"W3\",\"W4\",\"ensem\"], columns=[\"Accuracy %\"])\n",
    "spy_acc = pd.DataFrame([w2Per,w3Per,w4Per,ensem_Per],index=[\"W2\",\"W3\",\"W4\",\"ensem\"], columns=[\"Accuracy %\"])"
   ]
  },
  {
   "cell_type": "code",
   "execution_count": 94,
   "metadata": {},
   "outputs": [],
   "source": [
    "sap_df = pd.concat([sap_ticker,sap_tp_df,sap_fp_df,sap_tn_df,sap_fn_df,sap_acc,sap_tpr_df,sap_tnr_df], axis=1)\n",
    "spy_df = pd.concat([spy_ticker,spy_tp_df,spy_fp_df,spy_tn_df,spy_fn_df,spy_acc,spy_tpr_df,spy_tnr_df], axis=1)"
   ]
  },
  {
   "cell_type": "code",
   "execution_count": 95,
   "metadata": {
    "scrolled": false
   },
   "outputs": [
    {
     "data": {
      "text/html": [
       "<div>\n",
       "<style scoped>\n",
       "    .dataframe tbody tr th:only-of-type {\n",
       "        vertical-align: middle;\n",
       "    }\n",
       "\n",
       "    .dataframe tbody tr th {\n",
       "        vertical-align: top;\n",
       "    }\n",
       "\n",
       "    .dataframe thead th {\n",
       "        text-align: right;\n",
       "    }\n",
       "</style>\n",
       "<table border=\"1\" class=\"dataframe\">\n",
       "  <thead>\n",
       "    <tr style=\"text-align: right;\">\n",
       "      <th></th>\n",
       "      <th>ticker</th>\n",
       "      <th>TP</th>\n",
       "      <th>FP</th>\n",
       "      <th>TN</th>\n",
       "      <th>FN</th>\n",
       "      <th>Accuracy %</th>\n",
       "      <th>TPR %</th>\n",
       "      <th>TNR %</th>\n",
       "    </tr>\n",
       "  </thead>\n",
       "  <tbody>\n",
       "    <tr>\n",
       "      <th>W2</th>\n",
       "      <td>S&amp;P-500</td>\n",
       "      <td>296</td>\n",
       "      <td>209</td>\n",
       "      <td>0</td>\n",
       "      <td>0</td>\n",
       "      <td>58.61</td>\n",
       "      <td>100.00</td>\n",
       "      <td>0.00</td>\n",
       "    </tr>\n",
       "    <tr>\n",
       "      <th>W3</th>\n",
       "      <td>S&amp;P-500</td>\n",
       "      <td>248</td>\n",
       "      <td>161</td>\n",
       "      <td>48</td>\n",
       "      <td>48</td>\n",
       "      <td>58.61</td>\n",
       "      <td>83.78</td>\n",
       "      <td>22.97</td>\n",
       "    </tr>\n",
       "    <tr>\n",
       "      <th>W4</th>\n",
       "      <td>S&amp;P-500</td>\n",
       "      <td>236</td>\n",
       "      <td>155</td>\n",
       "      <td>54</td>\n",
       "      <td>60</td>\n",
       "      <td>57.43</td>\n",
       "      <td>79.73</td>\n",
       "      <td>25.84</td>\n",
       "    </tr>\n",
       "    <tr>\n",
       "      <th>ensem</th>\n",
       "      <td>S&amp;P-500</td>\n",
       "      <td>273</td>\n",
       "      <td>184</td>\n",
       "      <td>25</td>\n",
       "      <td>23</td>\n",
       "      <td>59.01</td>\n",
       "      <td>92.23</td>\n",
       "      <td>11.96</td>\n",
       "    </tr>\n",
       "    <tr>\n",
       "      <th>W2</th>\n",
       "      <td>SAP</td>\n",
       "      <td>278</td>\n",
       "      <td>227</td>\n",
       "      <td>0</td>\n",
       "      <td>0</td>\n",
       "      <td>55.05</td>\n",
       "      <td>100.00</td>\n",
       "      <td>0.00</td>\n",
       "    </tr>\n",
       "    <tr>\n",
       "      <th>W3</th>\n",
       "      <td>SAP</td>\n",
       "      <td>208</td>\n",
       "      <td>167</td>\n",
       "      <td>60</td>\n",
       "      <td>70</td>\n",
       "      <td>53.07</td>\n",
       "      <td>100.00</td>\n",
       "      <td>20.91</td>\n",
       "    </tr>\n",
       "    <tr>\n",
       "      <th>W4</th>\n",
       "      <td>SAP</td>\n",
       "      <td>211</td>\n",
       "      <td>165</td>\n",
       "      <td>62</td>\n",
       "      <td>67</td>\n",
       "      <td>54.06</td>\n",
       "      <td>74.82</td>\n",
       "      <td>26.43</td>\n",
       "    </tr>\n",
       "    <tr>\n",
       "      <th>ensem</th>\n",
       "      <td>SAP</td>\n",
       "      <td>230</td>\n",
       "      <td>187</td>\n",
       "      <td>40</td>\n",
       "      <td>48</td>\n",
       "      <td>53.47</td>\n",
       "      <td>82.73</td>\n",
       "      <td>17.62</td>\n",
       "    </tr>\n",
       "  </tbody>\n",
       "</table>\n",
       "</div>"
      ],
      "text/plain": [
       "        ticker   TP   FP  TN  FN  Accuracy %   TPR %  TNR %\n",
       "W2     S&P-500  296  209   0   0       58.61  100.00   0.00\n",
       "W3     S&P-500  248  161  48  48       58.61   83.78  22.97\n",
       "W4     S&P-500  236  155  54  60       57.43   79.73  25.84\n",
       "ensem  S&P-500  273  184  25  23       59.01   92.23  11.96\n",
       "W2         SAP  278  227   0   0       55.05  100.00   0.00\n",
       "W3         SAP  208  167  60  70       53.07  100.00  20.91\n",
       "W4         SAP  211  165  62  67       54.06   74.82  26.43\n",
       "ensem      SAP  230  187  40  48       53.47   82.73  17.62"
      ]
     },
     "execution_count": 95,
     "metadata": {},
     "output_type": "execute_result"
    }
   ],
   "source": [
    "summary = pd.concat([spy_df,sap_df])\n",
    "summary"
   ]
  },
  {
   "cell_type": "markdown",
   "metadata": {},
   "source": [
    "### 8. Discuss your findings"
   ]
  },
  {
   "cell_type": "markdown",
   "metadata": {},
   "source": [
    "* **My Stock: 'SAP'**\n",
    "    * W2 gave me the highest accuracy, although I would not consider it to be a good metric as it was not able to distinguish between True Positive and True Negative at all.\n",
    "    \n",
    "    \n",
    "* **S&P 500: 'SPY'**\n",
    "    * W2 and W3 gave me the same accuracy closely followed by W4.\n",
    "    * Ensemble gave me the highest accuracy.\n",
    "    * I have used W3 for analysis from all W's as it gives a good ratio of positives and negatives for data."
   ]
  },
  {
   "cell_type": "markdown",
   "metadata": {},
   "source": [
    "## Question 5"
   ]
  },
  {
   "cell_type": "markdown",
   "metadata": {},
   "source": [
    "**Calculating cumulative product for my Stock and SPY**"
   ]
  },
  {
   "cell_type": "code",
   "execution_count": 96,
   "metadata": {},
   "outputs": [],
   "source": [
    "sap_l_list4_5[\"Hold\"] = (sap_l_list4_5[\"Return\"] + 1).cumprod() * 100\n",
    "spy_l_list4_5[\"Hold\"] = (spy_l_list4_5[\"Return\"] + 1).cumprod() * 100"
   ]
  },
  {
   "cell_type": "markdown",
   "metadata": {},
   "source": [
    "**Function which returns list of investments for all days passed**"
   ]
  },
  {
   "cell_type": "code",
   "execution_count": 97,
   "metadata": {},
   "outputs": [],
   "source": [
    "def invCal(amt,daily_pred,daily_ret):\n",
    "    amount = amt\n",
    "    ret = []\n",
    "    for i in range(len(daily_pred)):\n",
    "        if daily_pred[i] == \"+\":\n",
    "            amount = amount * (1 + daily_ret[i])\n",
    "            ret.append(amount)\n",
    "        else:\n",
    "            ret.append(amount)\n",
    "    return ret"
   ]
  },
  {
   "cell_type": "markdown",
   "metadata": {},
   "source": [
    "**Calculating return on 100 dollar investment based on W* for my Stock and SPY**\n",
    "* Using W2 for my stock\n",
    "* Using W3 for SPY"
   ]
  },
  {
   "cell_type": "code",
   "execution_count": 98,
   "metadata": {
    "scrolled": true
   },
   "outputs": [],
   "source": [
    "sap_l_list4_5[\"W*\"] =  invCal(100,sap_l_list4_5[\"W2\"],sap_l_list4_5[\"Return\"])\n",
    "spy_l_list4_5[\"W*\"] =  invCal(100,spy_l_list4_5[\"W3\"],spy_l_list4_5[\"Return\"])"
   ]
  },
  {
   "cell_type": "markdown",
   "metadata": {},
   "source": [
    "**Calculating return on 100 dollar investment based on Ensemble for my Stock and SPY**"
   ]
  },
  {
   "cell_type": "code",
   "execution_count": 99,
   "metadata": {},
   "outputs": [],
   "source": [
    "sap_l_list4_5[\"Ensem Trade\"] =  invCal(100,sap_l_list4_5[\"ensem\"],sap_l_list4_5[\"Return\"])\n",
    "spy_l_list4_5[\"Ensem Trade\"] =  invCal(100,spy_l_list4_5[\"ensem\"],spy_l_list4_5[\"Return\"])"
   ]
  },
  {
   "cell_type": "code",
   "execution_count": 100,
   "metadata": {},
   "outputs": [
    {
     "data": {
      "text/html": [
       "<div>\n",
       "<style scoped>\n",
       "    .dataframe tbody tr th:only-of-type {\n",
       "        vertical-align: middle;\n",
       "    }\n",
       "\n",
       "    .dataframe tbody tr th {\n",
       "        vertical-align: top;\n",
       "    }\n",
       "\n",
       "    .dataframe thead th {\n",
       "        text-align: right;\n",
       "    }\n",
       "</style>\n",
       "<table border=\"1\" class=\"dataframe\">\n",
       "  <thead>\n",
       "    <tr style=\"text-align: right;\">\n",
       "      <th></th>\n",
       "      <th>Date</th>\n",
       "      <th>Year</th>\n",
       "      <th>Month</th>\n",
       "      <th>Day</th>\n",
       "      <th>Weekday</th>\n",
       "      <th>Week_Number</th>\n",
       "      <th>Year_Week</th>\n",
       "      <th>Open</th>\n",
       "      <th>High</th>\n",
       "      <th>Low</th>\n",
       "      <th>...</th>\n",
       "      <th>Short_MA</th>\n",
       "      <th>Long_MA</th>\n",
       "      <th>True Label</th>\n",
       "      <th>W2</th>\n",
       "      <th>W3</th>\n",
       "      <th>W4</th>\n",
       "      <th>ensem</th>\n",
       "      <th>Hold</th>\n",
       "      <th>W*</th>\n",
       "      <th>Ensem Trade</th>\n",
       "    </tr>\n",
       "  </thead>\n",
       "  <tbody>\n",
       "    <tr>\n",
       "      <th>500</th>\n",
       "      <td>2020-12-24</td>\n",
       "      <td>2020</td>\n",
       "      <td>12</td>\n",
       "      <td>24</td>\n",
       "      <td>Thursday</td>\n",
       "      <td>51</td>\n",
       "      <td>2020-51</td>\n",
       "      <td>125.92</td>\n",
       "      <td>126.31</td>\n",
       "      <td>125.60</td>\n",
       "      <td>...</td>\n",
       "      <td>122.470000</td>\n",
       "      <td>121.5332</td>\n",
       "      <td>+</td>\n",
       "      <td>+</td>\n",
       "      <td>+</td>\n",
       "      <td>+</td>\n",
       "      <td>+</td>\n",
       "      <td>130.208199</td>\n",
       "      <td>130.208199</td>\n",
       "      <td>156.224539</td>\n",
       "    </tr>\n",
       "    <tr>\n",
       "      <th>501</th>\n",
       "      <td>2020-12-28</td>\n",
       "      <td>2020</td>\n",
       "      <td>12</td>\n",
       "      <td>28</td>\n",
       "      <td>Monday</td>\n",
       "      <td>52</td>\n",
       "      <td>2020-52</td>\n",
       "      <td>129.34</td>\n",
       "      <td>131.00</td>\n",
       "      <td>128.08</td>\n",
       "      <td>...</td>\n",
       "      <td>123.010714</td>\n",
       "      <td>121.0828</td>\n",
       "      <td>+</td>\n",
       "      <td>+</td>\n",
       "      <td>+</td>\n",
       "      <td>+</td>\n",
       "      <td>+</td>\n",
       "      <td>135.217800</td>\n",
       "      <td>135.217800</td>\n",
       "      <td>162.235087</td>\n",
       "    </tr>\n",
       "    <tr>\n",
       "      <th>502</th>\n",
       "      <td>2020-12-29</td>\n",
       "      <td>2020</td>\n",
       "      <td>12</td>\n",
       "      <td>29</td>\n",
       "      <td>Tuesday</td>\n",
       "      <td>52</td>\n",
       "      <td>2020-52</td>\n",
       "      <td>131.95</td>\n",
       "      <td>132.36</td>\n",
       "      <td>129.81</td>\n",
       "      <td>...</td>\n",
       "      <td>123.429286</td>\n",
       "      <td>120.5876</td>\n",
       "      <td>-</td>\n",
       "      <td>+</td>\n",
       "      <td>+</td>\n",
       "      <td>-</td>\n",
       "      <td>+</td>\n",
       "      <td>134.226205</td>\n",
       "      <td>134.226205</td>\n",
       "      <td>161.045365</td>\n",
       "    </tr>\n",
       "    <tr>\n",
       "      <th>503</th>\n",
       "      <td>2020-12-30</td>\n",
       "      <td>2020</td>\n",
       "      <td>12</td>\n",
       "      <td>30</td>\n",
       "      <td>Wednesday</td>\n",
       "      <td>52</td>\n",
       "      <td>2020-52</td>\n",
       "      <td>130.55</td>\n",
       "      <td>131.31</td>\n",
       "      <td>130.33</td>\n",
       "      <td>...</td>\n",
       "      <td>123.967857</td>\n",
       "      <td>120.1572</td>\n",
       "      <td>+</td>\n",
       "      <td>+</td>\n",
       "      <td>+</td>\n",
       "      <td>+</td>\n",
       "      <td>+</td>\n",
       "      <td>134.938913</td>\n",
       "      <td>134.938913</td>\n",
       "      <td>161.900477</td>\n",
       "    </tr>\n",
       "    <tr>\n",
       "      <th>504</th>\n",
       "      <td>2020-12-31</td>\n",
       "      <td>2020</td>\n",
       "      <td>12</td>\n",
       "      <td>31</td>\n",
       "      <td>Thursday</td>\n",
       "      <td>52</td>\n",
       "      <td>2020-52</td>\n",
       "      <td>130.67</td>\n",
       "      <td>130.86</td>\n",
       "      <td>129.65</td>\n",
       "      <td>...</td>\n",
       "      <td>124.487143</td>\n",
       "      <td>119.7582</td>\n",
       "      <td>-</td>\n",
       "      <td>+</td>\n",
       "      <td>+</td>\n",
       "      <td>+</td>\n",
       "      <td>+</td>\n",
       "      <td>134.680692</td>\n",
       "      <td>134.680692</td>\n",
       "      <td>161.590661</td>\n",
       "    </tr>\n",
       "  </tbody>\n",
       "</table>\n",
       "<p>5 rows × 24 columns</p>\n",
       "</div>"
      ],
      "text/plain": [
       "           Date  Year  Month  Day    Weekday  Week_Number Year_Week    Open  \\\n",
       "500  2020-12-24  2020     12   24   Thursday           51   2020-51  125.92   \n",
       "501  2020-12-28  2020     12   28     Monday           52   2020-52  129.34   \n",
       "502  2020-12-29  2020     12   29    Tuesday           52   2020-52  131.95   \n",
       "503  2020-12-30  2020     12   30  Wednesday           52   2020-52  130.55   \n",
       "504  2020-12-31  2020     12   31   Thursday           52   2020-52  130.67   \n",
       "\n",
       "       High     Low  ...    Short_MA   Long_MA  True Label  W2  W3  W4 ensem  \\\n",
       "500  126.31  125.60  ...  122.470000  121.5332           +   +   +   +     +   \n",
       "501  131.00  128.08  ...  123.010714  121.0828           +   +   +   +     +   \n",
       "502  132.36  129.81  ...  123.429286  120.5876           -   +   +   -     +   \n",
       "503  131.31  130.33  ...  123.967857  120.1572           +   +   +   +     +   \n",
       "504  130.86  129.65  ...  124.487143  119.7582           -   +   +   +     +   \n",
       "\n",
       "           Hold          W* Ensem Trade  \n",
       "500  130.208199  130.208199  156.224539  \n",
       "501  135.217800  135.217800  162.235087  \n",
       "502  134.226205  134.226205  161.045365  \n",
       "503  134.938913  134.938913  161.900477  \n",
       "504  134.680692  134.680692  161.590661  \n",
       "\n",
       "[5 rows x 24 columns]"
      ]
     },
     "execution_count": 100,
     "metadata": {},
     "output_type": "execute_result"
    }
   ],
   "source": [
    "sap_l_list4_5.tail(5)"
   ]
  },
  {
   "cell_type": "code",
   "execution_count": 101,
   "metadata": {
    "scrolled": true
   },
   "outputs": [
    {
     "data": {
      "text/html": [
       "<div>\n",
       "<style scoped>\n",
       "    .dataframe tbody tr th:only-of-type {\n",
       "        vertical-align: middle;\n",
       "    }\n",
       "\n",
       "    .dataframe tbody tr th {\n",
       "        vertical-align: top;\n",
       "    }\n",
       "\n",
       "    .dataframe thead th {\n",
       "        text-align: right;\n",
       "    }\n",
       "</style>\n",
       "<table border=\"1\" class=\"dataframe\">\n",
       "  <thead>\n",
       "    <tr style=\"text-align: right;\">\n",
       "      <th></th>\n",
       "      <th>Date</th>\n",
       "      <th>Year</th>\n",
       "      <th>Month</th>\n",
       "      <th>Day</th>\n",
       "      <th>Weekday</th>\n",
       "      <th>Week_Number</th>\n",
       "      <th>Year_Week</th>\n",
       "      <th>Open</th>\n",
       "      <th>High</th>\n",
       "      <th>Low</th>\n",
       "      <th>...</th>\n",
       "      <th>Short_MA</th>\n",
       "      <th>Long_MA</th>\n",
       "      <th>True Label</th>\n",
       "      <th>W2</th>\n",
       "      <th>W3</th>\n",
       "      <th>W4</th>\n",
       "      <th>ensem</th>\n",
       "      <th>Hold</th>\n",
       "      <th>W*</th>\n",
       "      <th>Ensem Trade</th>\n",
       "    </tr>\n",
       "  </thead>\n",
       "  <tbody>\n",
       "    <tr>\n",
       "      <th>500</th>\n",
       "      <td>2020-12-24</td>\n",
       "      <td>2020</td>\n",
       "      <td>12</td>\n",
       "      <td>24</td>\n",
       "      <td>Thursday</td>\n",
       "      <td>51</td>\n",
       "      <td>2020-51</td>\n",
       "      <td>368.08</td>\n",
       "      <td>369.03</td>\n",
       "      <td>367.45</td>\n",
       "      <td>...</td>\n",
       "      <td>367.326429</td>\n",
       "      <td>354.4158</td>\n",
       "      <td>+</td>\n",
       "      <td>+</td>\n",
       "      <td>+</td>\n",
       "      <td>+</td>\n",
       "      <td>+</td>\n",
       "      <td>153.252563</td>\n",
       "      <td>150.576227</td>\n",
       "      <td>149.668204</td>\n",
       "    </tr>\n",
       "    <tr>\n",
       "      <th>501</th>\n",
       "      <td>2020-12-28</td>\n",
       "      <td>2020</td>\n",
       "      <td>12</td>\n",
       "      <td>28</td>\n",
       "      <td>Monday</td>\n",
       "      <td>52</td>\n",
       "      <td>2020-52</td>\n",
       "      <td>371.74</td>\n",
       "      <td>372.59</td>\n",
       "      <td>371.07</td>\n",
       "      <td>...</td>\n",
       "      <td>367.658571</td>\n",
       "      <td>354.9386</td>\n",
       "      <td>+</td>\n",
       "      <td>+</td>\n",
       "      <td>+</td>\n",
       "      <td>+</td>\n",
       "      <td>+</td>\n",
       "      <td>154.569129</td>\n",
       "      <td>151.869801</td>\n",
       "      <td>150.953977</td>\n",
       "    </tr>\n",
       "    <tr>\n",
       "      <th>502</th>\n",
       "      <td>2020-12-29</td>\n",
       "      <td>2020</td>\n",
       "      <td>12</td>\n",
       "      <td>29</td>\n",
       "      <td>Tuesday</td>\n",
       "      <td>52</td>\n",
       "      <td>2020-52</td>\n",
       "      <td>373.81</td>\n",
       "      <td>374.00</td>\n",
       "      <td>370.83</td>\n",
       "      <td>...</td>\n",
       "      <td>367.862857</td>\n",
       "      <td>355.4514</td>\n",
       "      <td>-</td>\n",
       "      <td>+</td>\n",
       "      <td>-</td>\n",
       "      <td>-</td>\n",
       "      <td>-</td>\n",
       "      <td>154.274243</td>\n",
       "      <td>151.869801</td>\n",
       "      <td>150.953977</td>\n",
       "    </tr>\n",
       "    <tr>\n",
       "      <th>503</th>\n",
       "      <td>2020-12-30</td>\n",
       "      <td>2020</td>\n",
       "      <td>12</td>\n",
       "      <td>30</td>\n",
       "      <td>Wednesday</td>\n",
       "      <td>52</td>\n",
       "      <td>2020-52</td>\n",
       "      <td>372.34</td>\n",
       "      <td>373.10</td>\n",
       "      <td>371.57</td>\n",
       "      <td>...</td>\n",
       "      <td>368.341429</td>\n",
       "      <td>356.0800</td>\n",
       "      <td>+</td>\n",
       "      <td>+</td>\n",
       "      <td>+</td>\n",
       "      <td>+</td>\n",
       "      <td>+</td>\n",
       "      <td>154.494362</td>\n",
       "      <td>152.086488</td>\n",
       "      <td>151.169358</td>\n",
       "    </tr>\n",
       "    <tr>\n",
       "      <th>504</th>\n",
       "      <td>2020-12-31</td>\n",
       "      <td>2020</td>\n",
       "      <td>12</td>\n",
       "      <td>31</td>\n",
       "      <td>Thursday</td>\n",
       "      <td>52</td>\n",
       "      <td>2020-52</td>\n",
       "      <td>371.78</td>\n",
       "      <td>374.66</td>\n",
       "      <td>371.23</td>\n",
       "      <td>...</td>\n",
       "      <td>368.963571</td>\n",
       "      <td>356.7192</td>\n",
       "      <td>+</td>\n",
       "      <td>+</td>\n",
       "      <td>+</td>\n",
       "      <td>-</td>\n",
       "      <td>+</td>\n",
       "      <td>155.279320</td>\n",
       "      <td>152.859213</td>\n",
       "      <td>151.937422</td>\n",
       "    </tr>\n",
       "  </tbody>\n",
       "</table>\n",
       "<p>5 rows × 24 columns</p>\n",
       "</div>"
      ],
      "text/plain": [
       "           Date  Year  Month  Day    Weekday  Week_Number Year_Week    Open  \\\n",
       "500  2020-12-24  2020     12   24   Thursday           51   2020-51  368.08   \n",
       "501  2020-12-28  2020     12   28     Monday           52   2020-52  371.74   \n",
       "502  2020-12-29  2020     12   29    Tuesday           52   2020-52  373.81   \n",
       "503  2020-12-30  2020     12   30  Wednesday           52   2020-52  372.34   \n",
       "504  2020-12-31  2020     12   31   Thursday           52   2020-52  371.78   \n",
       "\n",
       "       High     Low  ...    Short_MA   Long_MA  True Label  W2  W3  W4 ensem  \\\n",
       "500  369.03  367.45  ...  367.326429  354.4158           +   +   +   +     +   \n",
       "501  372.59  371.07  ...  367.658571  354.9386           +   +   +   +     +   \n",
       "502  374.00  370.83  ...  367.862857  355.4514           -   +   -   -     -   \n",
       "503  373.10  371.57  ...  368.341429  356.0800           +   +   +   +     +   \n",
       "504  374.66  371.23  ...  368.963571  356.7192           +   +   +   -     +   \n",
       "\n",
       "           Hold          W* Ensem Trade  \n",
       "500  153.252563  150.576227  149.668204  \n",
       "501  154.569129  151.869801  150.953977  \n",
       "502  154.274243  151.869801  150.953977  \n",
       "503  154.494362  152.086488  151.169358  \n",
       "504  155.279320  152.859213  151.937422  \n",
       "\n",
       "[5 rows x 24 columns]"
      ]
     },
     "execution_count": 101,
     "metadata": {},
     "output_type": "execute_result"
    }
   ],
   "source": [
    "spy_l_list4_5.tail(5)"
   ]
  },
  {
   "cell_type": "markdown",
   "metadata": {},
   "source": [
    "### 1. Plot the growth of your amount for 2 years"
   ]
  },
  {
   "cell_type": "markdown",
   "metadata": {},
   "source": [
    "### Plotting for my Stock SAP"
   ]
  },
  {
   "cell_type": "code",
   "execution_count": 102,
   "metadata": {},
   "outputs": [],
   "source": [
    "sap_df = sap_l_list4_5[['Date', 'Hold', 'W*', 'Ensem Trade']]"
   ]
  },
  {
   "cell_type": "code",
   "execution_count": 103,
   "metadata": {},
   "outputs": [
    {
     "data": {
      "image/png": "[encoded data removed]",
      "text/plain": [
       "<Figure size 864x576 with 1 Axes>"
      ]
     },
     "metadata": {
      "needs_background": "light"
     },
     "output_type": "display_data"
    }
   ],
   "source": [
    "ax = plt.gca()\n",
    "sap_df.plot(x=\"Date\", y=[\"W*\"], color=\"red\", rot=45, ax=ax, lw=5)\n",
    "sap_df.plot(x=\"Date\", y=[\"Hold\",\"Ensem Trade\"], figsize=(12,8), rot=45, ax=ax)\n",
    "plt.xlabel(\"Trading Days\",fontsize = 14)\n",
    "plt.ylabel(\"Invested Amount\",fontsize = 14)\n",
    "plt.title(\"Trading Stratagies for Ticker SAP\",fontsize = 16)\n",
    "plt.show()"
   ]
  },
  {
   "cell_type": "markdown",
   "metadata": {},
   "source": []
  },
  {
   "cell_type": "markdown",
   "metadata": {},
   "source": [
    "### Plotting for SPY"
   ]
  },
  {
   "cell_type": "code",
   "execution_count": 104,
   "metadata": {},
   "outputs": [],
   "source": [
    "spy_df = spy_l_list4_5[['Date', 'Hold', 'W*', 'Ensem Trade']]"
   ]
  },
  {
   "cell_type": "code",
   "execution_count": 105,
   "metadata": {},
   "outputs": [
    {
     "data": {
      "image/png": "[encoded data removed]",
      "text/plain": [
       "<Figure size 864x576 with 1 Axes>"
      ]
     },
     "metadata": {
      "needs_background": "light"
     },
     "output_type": "display_data"
    }
   ],
   "source": [
    "spy_df.plot(x=\"Date\", y=[\"Hold\",\"W*\",\"Ensem Trade\"], figsize=(12,8), rot=45)\n",
    "plt.xlabel(\"Trading Days\",fontsize = 14)\n",
    "plt.ylabel(\"Invested Amount\",fontsize = 14)\n",
    "plt.title(\"Trading Stratagies for Ticker SPY\",fontsize = 16)\n",
    "plt.show()"
   ]
  },
  {
   "cell_type": "markdown",
   "metadata": {},
   "source": [
    "### 2. examine your chart. Any patterns?"
   ]
  },
  {
   "cell_type": "markdown",
   "metadata": {},
   "source": [
    "Do not see a majorly unique pattern apart from the major drop at the start of pandemic."
   ]
  },
  {
   "cell_type": "markdown",
   "metadata": {},
   "source": [
    "* **SAP**\n",
    "    * Hold and W2 gives me excatly similar pattern while trading.\n",
    "    * Ensemble gives me most profit at the end of trading year.\n",
    "  \n",
    "  \n",
    "* **S&P 500**\n",
    "    * For S&P 500 the all the 3 stratagies are pretty similar in pattern, although we do see a big dip during the start of pandemic year."
   ]
  },
  {
   "cell_type": "code",
   "execution_count": 106,
   "metadata": {},
   "outputs": [
    {
     "data": {
      "text/html": [
       "<div>\n",
       "<style scoped>\n",
       "    .dataframe tbody tr th:only-of-type {\n",
       "        vertical-align: middle;\n",
       "    }\n",
       "\n",
       "    .dataframe tbody tr th {\n",
       "        vertical-align: top;\n",
       "    }\n",
       "\n",
       "    .dataframe thead th {\n",
       "        text-align: right;\n",
       "    }\n",
       "</style>\n",
       "<table border=\"1\" class=\"dataframe\">\n",
       "  <thead>\n",
       "    <tr style=\"text-align: right;\">\n",
       "      <th></th>\n",
       "      <th>Date</th>\n",
       "      <th>Hold</th>\n",
       "      <th>W*</th>\n",
       "      <th>Ensem Trade</th>\n",
       "    </tr>\n",
       "  </thead>\n",
       "  <tbody>\n",
       "    <tr>\n",
       "      <th>0</th>\n",
       "      <td>2019-01-02</td>\n",
       "      <td>100.104026</td>\n",
       "      <td>100.104026</td>\n",
       "      <td>100.104026</td>\n",
       "    </tr>\n",
       "    <tr>\n",
       "      <th>1</th>\n",
       "      <td>2019-01-03</td>\n",
       "      <td>97.715260</td>\n",
       "      <td>97.715260</td>\n",
       "      <td>97.715260</td>\n",
       "    </tr>\n",
       "    <tr>\n",
       "      <th>2</th>\n",
       "      <td>2019-01-04</td>\n",
       "      <td>100.988315</td>\n",
       "      <td>100.988315</td>\n",
       "      <td>100.988315</td>\n",
       "    </tr>\n",
       "    <tr>\n",
       "      <th>3</th>\n",
       "      <td>2019-01-07</td>\n",
       "      <td>101.784572</td>\n",
       "      <td>101.784572</td>\n",
       "      <td>101.784572</td>\n",
       "    </tr>\n",
       "    <tr>\n",
       "      <th>4</th>\n",
       "      <td>2019-01-08</td>\n",
       "      <td>102.740864</td>\n",
       "      <td>102.740864</td>\n",
       "      <td>102.740864</td>\n",
       "    </tr>\n",
       "    <tr>\n",
       "      <th>...</th>\n",
       "      <td>...</td>\n",
       "      <td>...</td>\n",
       "      <td>...</td>\n",
       "      <td>...</td>\n",
       "    </tr>\n",
       "    <tr>\n",
       "      <th>500</th>\n",
       "      <td>2020-12-24</td>\n",
       "      <td>153.252563</td>\n",
       "      <td>150.576227</td>\n",
       "      <td>149.668204</td>\n",
       "    </tr>\n",
       "    <tr>\n",
       "      <th>501</th>\n",
       "      <td>2020-12-28</td>\n",
       "      <td>154.569129</td>\n",
       "      <td>151.869801</td>\n",
       "      <td>150.953977</td>\n",
       "    </tr>\n",
       "    <tr>\n",
       "      <th>502</th>\n",
       "      <td>2020-12-29</td>\n",
       "      <td>154.274243</td>\n",
       "      <td>151.869801</td>\n",
       "      <td>150.953977</td>\n",
       "    </tr>\n",
       "    <tr>\n",
       "      <th>503</th>\n",
       "      <td>2020-12-30</td>\n",
       "      <td>154.494362</td>\n",
       "      <td>152.086488</td>\n",
       "      <td>151.169358</td>\n",
       "    </tr>\n",
       "    <tr>\n",
       "      <th>504</th>\n",
       "      <td>2020-12-31</td>\n",
       "      <td>155.279320</td>\n",
       "      <td>152.859213</td>\n",
       "      <td>151.937422</td>\n",
       "    </tr>\n",
       "  </tbody>\n",
       "</table>\n",
       "<p>505 rows × 4 columns</p>\n",
       "</div>"
      ],
      "text/plain": [
       "           Date        Hold          W*  Ensem Trade\n",
       "0    2019-01-02  100.104026  100.104026   100.104026\n",
       "1    2019-01-03   97.715260   97.715260    97.715260\n",
       "2    2019-01-04  100.988315  100.988315   100.988315\n",
       "3    2019-01-07  101.784572  101.784572   101.784572\n",
       "4    2019-01-08  102.740864  102.740864   102.740864\n",
       "..          ...         ...         ...          ...\n",
       "500  2020-12-24  153.252563  150.576227   149.668204\n",
       "501  2020-12-28  154.569129  151.869801   150.953977\n",
       "502  2020-12-29  154.274243  151.869801   150.953977\n",
       "503  2020-12-30  154.494362  152.086488   151.169358\n",
       "504  2020-12-31  155.279320  152.859213   151.937422\n",
       "\n",
       "[505 rows x 4 columns]"
      ]
     },
     "execution_count": 106,
     "metadata": {},
     "output_type": "execute_result"
    }
   ],
   "source": [
    "spy_df"
   ]
  }
 ],
 "metadata": {
  "kernelspec": {
   "display_name": "Python 3",
   "language": "python",
   "name": "python3"
  },
  "language_info": {
   "codemirror_mode": {
    "name": "ipython",
    "version": 3
   },
   "file_extension": ".py",
   "mimetype": "text/x-python",
   "name": "python",
   "nbconvert_exporter": "python",
   "pygments_lexer": "ipython3",
   "version": "3.8.5"
  }
 },
 "nbformat": 4,
 "nbformat_minor": 4
}
