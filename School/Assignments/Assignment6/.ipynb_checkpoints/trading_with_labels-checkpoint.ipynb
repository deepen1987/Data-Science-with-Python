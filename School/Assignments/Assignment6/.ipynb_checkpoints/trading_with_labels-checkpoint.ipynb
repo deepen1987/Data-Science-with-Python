{
 "cells": [
  {
   "cell_type": "code",
   "execution_count": 31,
   "metadata": {},
   "outputs": [],
   "source": [
    "import pandas as pd\n",
    "import numpy as np\n",
    "import matplotlib.pyplot as plt\n",
    "import seaborn as sns"
   ]
  },
  {
   "cell_type": "code",
   "execution_count": 32,
   "metadata": {},
   "outputs": [],
   "source": [
    "df_sap = pd.read_csv(\"SAP_weekly_return_volatility.csv\")\n",
    "df_daily = pd.read_csv(\"SAP_weekly_return_volatility_detailed.csv\")"
   ]
  },
  {
   "cell_type": "code",
   "execution_count": 33,
   "metadata": {},
   "outputs": [],
   "source": [
    "df_sap_2019 = df_sap[(df_sap[\"Year\"] == 2019)].copy()\n",
    "df_sap_2020 = df_sap[(df_sap[\"Year\"] == 2020)].copy().reset_index(drop=True)"
   ]
  },
  {
   "cell_type": "markdown",
   "metadata": {},
   "source": [
    "# Part 1 - Examine Labels"
   ]
  },
  {
   "cell_type": "markdown",
   "metadata": {},
   "source": [
    "* Labels defined as below:\n",
    "    * red = 0\n",
    "    * green = 1"
   ]
  },
  {
   "cell_type": "code",
   "execution_count": 34,
   "metadata": {
    "scrolled": true
   },
   "outputs": [
    {
     "data": {
      "text/html": [
       "<div>\n",
       "<style scoped>\n",
       "    .dataframe tbody tr th:only-of-type {\n",
       "        vertical-align: middle;\n",
       "    }\n",
       "\n",
       "    .dataframe tbody tr th {\n",
       "        vertical-align: top;\n",
       "    }\n",
       "\n",
       "    .dataframe thead th {\n",
       "        text-align: right;\n",
       "    }\n",
       "</style>\n",
       "<table border=\"1\" class=\"dataframe\">\n",
       "  <thead>\n",
       "    <tr style=\"text-align: right;\">\n",
       "      <th></th>\n",
       "      <th>Year</th>\n",
       "      <th>Week_Number</th>\n",
       "      <th>mean_return</th>\n",
       "      <th>volatility</th>\n",
       "      <th>label</th>\n",
       "    </tr>\n",
       "  </thead>\n",
       "  <tbody>\n",
       "    <tr>\n",
       "      <th>0</th>\n",
       "      <td>2019</td>\n",
       "      <td>0</td>\n",
       "      <td>-0.1050</td>\n",
       "      <td>3.594650</td>\n",
       "      <td>0</td>\n",
       "    </tr>\n",
       "    <tr>\n",
       "      <th>1</th>\n",
       "      <td>2019</td>\n",
       "      <td>1</td>\n",
       "      <td>0.6532</td>\n",
       "      <td>1.153409</td>\n",
       "      <td>1</td>\n",
       "    </tr>\n",
       "    <tr>\n",
       "      <th>2</th>\n",
       "      <td>2019</td>\n",
       "      <td>2</td>\n",
       "      <td>0.7326</td>\n",
       "      <td>1.198802</td>\n",
       "      <td>1</td>\n",
       "    </tr>\n",
       "    <tr>\n",
       "      <th>3</th>\n",
       "      <td>2019</td>\n",
       "      <td>3</td>\n",
       "      <td>0.0735</td>\n",
       "      <td>1.593999</td>\n",
       "      <td>0</td>\n",
       "    </tr>\n",
       "    <tr>\n",
       "      <th>4</th>\n",
       "      <td>2019</td>\n",
       "      <td>4</td>\n",
       "      <td>-0.3746</td>\n",
       "      <td>2.056743</td>\n",
       "      <td>0</td>\n",
       "    </tr>\n",
       "  </tbody>\n",
       "</table>\n",
       "</div>"
      ],
      "text/plain": [
       "   Year  Week_Number  mean_return  volatility  label\n",
       "0  2019            0      -0.1050    3.594650      0\n",
       "1  2019            1       0.6532    1.153409      1\n",
       "2  2019            2       0.7326    1.198802      1\n",
       "3  2019            3       0.0735    1.593999      0\n",
       "4  2019            4      -0.3746    2.056743      0"
      ]
     },
     "execution_count": 34,
     "metadata": {},
     "output_type": "execute_result"
    }
   ],
   "source": [
    "df_sap.head(5)"
   ]
  },
  {
   "cell_type": "code",
   "execution_count": 35,
   "metadata": {},
   "outputs": [
    {
     "data": {
      "text/html": [
       "<div>\n",
       "<style scoped>\n",
       "    .dataframe tbody tr th:only-of-type {\n",
       "        vertical-align: middle;\n",
       "    }\n",
       "\n",
       "    .dataframe tbody tr th {\n",
       "        vertical-align: top;\n",
       "    }\n",
       "\n",
       "    .dataframe thead th {\n",
       "        text-align: right;\n",
       "    }\n",
       "</style>\n",
       "<table border=\"1\" class=\"dataframe\">\n",
       "  <thead>\n",
       "    <tr style=\"text-align: right;\">\n",
       "      <th></th>\n",
       "      <th>High</th>\n",
       "      <th>Low</th>\n",
       "      <th>Open</th>\n",
       "      <th>Close</th>\n",
       "      <th>Volume</th>\n",
       "      <th>Adj Close</th>\n",
       "      <th>Return</th>\n",
       "      <th>Date</th>\n",
       "      <th>Week_Number</th>\n",
       "      <th>Year</th>\n",
       "      <th>Day</th>\n",
       "      <th>Weekday</th>\n",
       "      <th>mean_return</th>\n",
       "      <th>volatility</th>\n",
       "    </tr>\n",
       "  </thead>\n",
       "  <tbody>\n",
       "    <tr>\n",
       "      <th>0</th>\n",
       "      <td>99.559998</td>\n",
       "      <td>98.339996</td>\n",
       "      <td>98.570000</td>\n",
       "      <td>99.180000</td>\n",
       "      <td>506300.0</td>\n",
       "      <td>94.896118</td>\n",
       "      <td>0.000</td>\n",
       "      <td>2019-01-02</td>\n",
       "      <td>0</td>\n",
       "      <td>2019</td>\n",
       "      <td>2</td>\n",
       "      <td>Wednesday</td>\n",
       "      <td>-0.1050</td>\n",
       "      <td>3.594650</td>\n",
       "    </tr>\n",
       "    <tr>\n",
       "      <th>1</th>\n",
       "      <td>96.830002</td>\n",
       "      <td>95.449997</td>\n",
       "      <td>96.730003</td>\n",
       "      <td>95.459999</td>\n",
       "      <td>807800.0</td>\n",
       "      <td>91.336800</td>\n",
       "      <td>-3.751</td>\n",
       "      <td>2019-01-03</td>\n",
       "      <td>0</td>\n",
       "      <td>2019</td>\n",
       "      <td>3</td>\n",
       "      <td>Thursday</td>\n",
       "      <td>-0.1050</td>\n",
       "      <td>3.594650</td>\n",
       "    </tr>\n",
       "    <tr>\n",
       "      <th>2</th>\n",
       "      <td>99.199997</td>\n",
       "      <td>96.910004</td>\n",
       "      <td>97.339996</td>\n",
       "      <td>98.739998</td>\n",
       "      <td>1038100.0</td>\n",
       "      <td>94.475128</td>\n",
       "      <td>3.436</td>\n",
       "      <td>2019-01-04</td>\n",
       "      <td>0</td>\n",
       "      <td>2019</td>\n",
       "      <td>4</td>\n",
       "      <td>Friday</td>\n",
       "      <td>-0.1050</td>\n",
       "      <td>3.594650</td>\n",
       "    </tr>\n",
       "    <tr>\n",
       "      <th>3</th>\n",
       "      <td>100.190002</td>\n",
       "      <td>98.760002</td>\n",
       "      <td>99.440002</td>\n",
       "      <td>99.709999</td>\n",
       "      <td>861600.0</td>\n",
       "      <td>95.403229</td>\n",
       "      <td>0.982</td>\n",
       "      <td>2019-01-07</td>\n",
       "      <td>1</td>\n",
       "      <td>2019</td>\n",
       "      <td>7</td>\n",
       "      <td>Monday</td>\n",
       "      <td>0.6532</td>\n",
       "      <td>1.153409</td>\n",
       "    </tr>\n",
       "    <tr>\n",
       "      <th>4</th>\n",
       "      <td>101.480003</td>\n",
       "      <td>100.430000</td>\n",
       "      <td>101.370003</td>\n",
       "      <td>101.269997</td>\n",
       "      <td>548600.0</td>\n",
       "      <td>96.895844</td>\n",
       "      <td>1.565</td>\n",
       "      <td>2019-01-08</td>\n",
       "      <td>1</td>\n",
       "      <td>2019</td>\n",
       "      <td>8</td>\n",
       "      <td>Tuesday</td>\n",
       "      <td>0.6532</td>\n",
       "      <td>1.153409</td>\n",
       "    </tr>\n",
       "  </tbody>\n",
       "</table>\n",
       "</div>"
      ],
      "text/plain": [
       "         High         Low        Open       Close     Volume  Adj Close  \\\n",
       "0   99.559998   98.339996   98.570000   99.180000   506300.0  94.896118   \n",
       "1   96.830002   95.449997   96.730003   95.459999   807800.0  91.336800   \n",
       "2   99.199997   96.910004   97.339996   98.739998  1038100.0  94.475128   \n",
       "3  100.190002   98.760002   99.440002   99.709999   861600.0  95.403229   \n",
       "4  101.480003  100.430000  101.370003  101.269997   548600.0  96.895844   \n",
       "\n",
       "   Return        Date  Week_Number  Year  Day    Weekday  mean_return  \\\n",
       "0   0.000  2019-01-02            0  2019    2  Wednesday      -0.1050   \n",
       "1  -3.751  2019-01-03            0  2019    3   Thursday      -0.1050   \n",
       "2   3.436  2019-01-04            0  2019    4     Friday      -0.1050   \n",
       "3   0.982  2019-01-07            1  2019    7     Monday       0.6532   \n",
       "4   1.565  2019-01-08            1  2019    8    Tuesday       0.6532   \n",
       "\n",
       "   volatility  \n",
       "0    3.594650  \n",
       "1    3.594650  \n",
       "2    3.594650  \n",
       "3    1.153409  \n",
       "4    1.153409  "
      ]
     },
     "execution_count": 35,
     "metadata": {},
     "output_type": "execute_result"
    }
   ],
   "source": [
    "df_daily.head(5)"
   ]
  },
  {
   "cell_type": "code",
   "execution_count": 36,
   "metadata": {},
   "outputs": [
    {
     "data": {
      "image/png": "[encoded data removed]",
      "text/plain": [
       "<Figure size 1008x432 with 1 Axes>"
      ]
     },
     "metadata": {
      "needs_background": "light"
     },
     "output_type": "display_data"
    }
   ],
   "source": [
    "x1 = df_sap_2019[\"mean_return\"].values\n",
    "y1 = df_sap_2019[\"volatility\"].values\n",
    "text1 = df_sap_2019[\"Week_Number\"].values\n",
    "lbl1 = df_sap_2019[\"label\"].values\n",
    "\n",
    "plt.figure(figsize=(14, 6))\n",
    "sns.scatterplot(x = x1, y = y1, hue = lbl1, palette = ['red','green'])\n",
    "\n",
    "for i in range(len(x1)):\n",
    "    plt.annotate(text1[i], (x1[i],y1[i]))\n",
    "    \n",
    "plt.xlabel(\"Mean\", fontsize = 14)\n",
    "plt.ylabel(\"Std. Deviation\", fontsize = 14)\n",
    "plt.title(\"Year 2019 Scatter Plot\", fontsize = 14)\n",
    "plt.show()"
   ]
  },
  {
   "cell_type": "code",
   "execution_count": 37,
   "metadata": {},
   "outputs": [
    {
     "data": {
      "image/png": "[encoded data removed]",
      "text/plain": [
       "<Figure size 1008x432 with 1 Axes>"
      ]
     },
     "metadata": {
      "needs_background": "light"
     },
     "output_type": "display_data"
    }
   ],
   "source": [
    "x2 = df_sap_2020[\"mean_return\"].values\n",
    "y2 = df_sap_2020[\"volatility\"].values\n",
    "text2 = df_sap_2020[\"Week_Number\"].values\n",
    "lbl2 = df_sap_2020[\"label\"].values\n",
    "\n",
    "plt.figure(figsize=(14, 6))\n",
    "sns.scatterplot(x = x2, y = y2, hue = lbl2, palette = ['red','green'])\n",
    "\n",
    "for i in range(len(x2)):\n",
    "    plt.annotate(text2[i], (x2[i],y2[i]))\n",
    "    \n",
    "plt.xlabel(\"Mean\", fontsize = 14)\n",
    "plt.ylabel(\"Std. Deviation\", fontsize = 14)\n",
    "plt.title(\"Year 2020 Scatter Plot\", fontsize = 14)\n",
    "plt.show()"
   ]
  },
  {
   "cell_type": "markdown",
   "metadata": {},
   "source": [
    "#### 1. Are there any \"obvious\" patterns? For example, for higher std and mean are there more green points?"
   ]
  },
  {
   "cell_type": "markdown",
   "metadata": {},
   "source": [
    "* For both 2019 and 2020 higher the Std deviation you will see more <font color=red>__red__</font>. dots then <font color=green>__green__</font>., with couple of outliers.\n",
    "* For 2019 Mean range **0 - 1** and std deviation range from **0 - 1** for most green points.\n",
    "* For 2020 Mean range **0 - 1.5** and std deviation range from **0 - 1.5** for most green points."
   ]
  },
  {
   "cell_type": "markdown",
   "metadata": {},
   "source": [
    "#### 2. are points of the same color located close to each other?"
   ]
  },
  {
   "cell_type": "markdown",
   "metadata": {},
   "source": [
    "* 2019 :\n",
    "    * Points of same color are mostly clustered with __few__ exceptions\n",
    "* 2020 :\n",
    "    * Points of same color are mostly clustered with __very few__ exceptions"
   ]
  },
  {
   "cell_type": "markdown",
   "metadata": {},
   "source": [
    "#### 3. do patterns repeat from year 1 to year 2?"
   ]
  },
  {
   "cell_type": "markdown",
   "metadata": {},
   "source": [
    "* For both the years I can see when mean is in range of 0 - 2 and std. deviation is low we see a increase in green dots."
   ]
  },
  {
   "cell_type": "markdown",
   "metadata": {},
   "source": [
    "#### 4. do you expect nearest-neighbor classifier trained in year 1 to do well in year 2?"
   ]
  },
  {
   "cell_type": "markdown",
   "metadata": {},
   "source": [
    "* Yes, I think KNN will be able to predict with a higher accuracy then flipping a coin."
   ]
  },
  {
   "cell_type": "markdown",
   "metadata": {},
   "source": [
    "# Part 2 - Separate points"
   ]
  },
  {
   "cell_type": "markdown",
   "metadata": {},
   "source": [
    "#### 1. take year 1 and examine the plot of your labels. Construct a reduced dataset by removing some green and red points so thatyou can draw a line separating the points. Compute the equation of such a line (many solutiuons are possible)"
   ]
  },
  {
   "cell_type": "code",
   "execution_count": 38,
   "metadata": {},
   "outputs": [
    {
     "data": {
      "text/html": [
       "<div>\n",
       "<style scoped>\n",
       "    .dataframe tbody tr th:only-of-type {\n",
       "        vertical-align: middle;\n",
       "    }\n",
       "\n",
       "    .dataframe tbody tr th {\n",
       "        vertical-align: top;\n",
       "    }\n",
       "\n",
       "    .dataframe thead th {\n",
       "        text-align: right;\n",
       "    }\n",
       "</style>\n",
       "<table border=\"1\" class=\"dataframe\">\n",
       "  <thead>\n",
       "    <tr style=\"text-align: right;\">\n",
       "      <th></th>\n",
       "      <th>Year</th>\n",
       "      <th>Week_Number</th>\n",
       "      <th>mean_return</th>\n",
       "      <th>volatility</th>\n",
       "      <th>label</th>\n",
       "    </tr>\n",
       "  </thead>\n",
       "  <tbody>\n",
       "    <tr>\n",
       "      <th>0</th>\n",
       "      <td>2019</td>\n",
       "      <td>0</td>\n",
       "      <td>-0.1050</td>\n",
       "      <td>3.594650</td>\n",
       "      <td>0</td>\n",
       "    </tr>\n",
       "    <tr>\n",
       "      <th>1</th>\n",
       "      <td>2019</td>\n",
       "      <td>3</td>\n",
       "      <td>0.0735</td>\n",
       "      <td>1.593999</td>\n",
       "      <td>0</td>\n",
       "    </tr>\n",
       "    <tr>\n",
       "      <th>2</th>\n",
       "      <td>2019</td>\n",
       "      <td>4</td>\n",
       "      <td>-0.3746</td>\n",
       "      <td>2.056743</td>\n",
       "      <td>0</td>\n",
       "    </tr>\n",
       "    <tr>\n",
       "      <th>3</th>\n",
       "      <td>2019</td>\n",
       "      <td>5</td>\n",
       "      <td>0.0236</td>\n",
       "      <td>1.424104</td>\n",
       "      <td>0</td>\n",
       "    </tr>\n",
       "    <tr>\n",
       "      <th>4</th>\n",
       "      <td>2019</td>\n",
       "      <td>11</td>\n",
       "      <td>-0.1292</td>\n",
       "      <td>1.404907</td>\n",
       "      <td>0</td>\n",
       "    </tr>\n",
       "  </tbody>\n",
       "</table>\n",
       "</div>"
      ],
      "text/plain": [
       "   Year  Week_Number  mean_return  volatility  label\n",
       "0  2019            0      -0.1050    3.594650      0\n",
       "1  2019            3       0.0735    1.593999      0\n",
       "2  2019            4      -0.3746    2.056743      0\n",
       "3  2019            5       0.0236    1.424104      0\n",
       "4  2019           11      -0.1292    1.404907      0"
      ]
     },
     "execution_count": 38,
     "metadata": {},
     "output_type": "execute_result"
    }
   ],
   "source": [
    "reduced = pd.DataFrame()\n",
    "for i in df_sap_2019[\"mean_return\"]:\n",
    "    y = (0.5 * i) + 1.4\n",
    "    reduced0 = df_sap_2019[((df_sap_2019[\"volatility\"] > y) & (df_sap_2019[\"label\"] == 0))]\n",
    "    reduced1 = df_sap_2019[((df_sap_2019[\"volatility\"] < y) & (df_sap_2019[\"label\"] == 1))]\n",
    "    reduced = pd.concat([reduced0,reduced1]).reset_index(drop=True)\n",
    "reduced.head(5)"
   ]
  },
  {
   "cell_type": "code",
   "execution_count": 39,
   "metadata": {},
   "outputs": [
    {
     "data": {
      "image/png": "[encoded data removed]",
      "text/plain": [
       "<Figure size 1008x432 with 1 Axes>"
      ]
     },
     "metadata": {
      "needs_background": "light"
     },
     "output_type": "display_data"
    }
   ],
   "source": [
    "x3 = reduced[\"mean_return\"].values\n",
    "y3 = reduced[\"volatility\"].values\n",
    "text3 = reduced[\"Week_Number\"].values\n",
    "lbl3 = reduced[\"label\"].values\n",
    "\n",
    "plt.figure(figsize=(14, 6))\n",
    "sns.scatterplot(x = x3, y = y3, hue = lbl3, palette = ['red','green'])\n",
    "\n",
    "for i in range(len(x3)):\n",
    "    plt.annotate(text3[i], (x3[i],y3[i]))\n",
    "    \n",
    "plt.xlabel(\"Mean\", fontsize = 14)\n",
    "plt.ylabel(\"Std. Deviation\", fontsize = 14)\n",
    "plt.title(\"Year 2019 Scatter Plot\", fontsize = 14)\n",
    "plt.show()"
   ]
  },
  {
   "cell_type": "markdown",
   "metadata": {},
   "source": [
    "#### 2. take this line and use it to assign labels for year 2"
   ]
  },
  {
   "cell_type": "code",
   "execution_count": 40,
   "metadata": {},
   "outputs": [
    {
     "data": {
      "text/html": [
       "<div>\n",
       "<style scoped>\n",
       "    .dataframe tbody tr th:only-of-type {\n",
       "        vertical-align: middle;\n",
       "    }\n",
       "\n",
       "    .dataframe tbody tr th {\n",
       "        vertical-align: top;\n",
       "    }\n",
       "\n",
       "    .dataframe thead th {\n",
       "        text-align: right;\n",
       "    }\n",
       "</style>\n",
       "<table border=\"1\" class=\"dataframe\">\n",
       "  <thead>\n",
       "    <tr style=\"text-align: right;\">\n",
       "      <th></th>\n",
       "      <th>Year</th>\n",
       "      <th>Week_Number</th>\n",
       "      <th>mean_return</th>\n",
       "      <th>volatility</th>\n",
       "      <th>label</th>\n",
       "      <th>prediction</th>\n",
       "    </tr>\n",
       "  </thead>\n",
       "  <tbody>\n",
       "    <tr>\n",
       "      <th>0</th>\n",
       "      <td>2020</td>\n",
       "      <td>0</td>\n",
       "      <td>0.01800</td>\n",
       "      <td>2.951464</td>\n",
       "      <td>0</td>\n",
       "      <td>0</td>\n",
       "    </tr>\n",
       "    <tr>\n",
       "      <th>1</th>\n",
       "      <td>2020</td>\n",
       "      <td>1</td>\n",
       "      <td>0.44680</td>\n",
       "      <td>0.825564</td>\n",
       "      <td>1</td>\n",
       "      <td>1</td>\n",
       "    </tr>\n",
       "    <tr>\n",
       "      <th>2</th>\n",
       "      <td>2020</td>\n",
       "      <td>2</td>\n",
       "      <td>0.43660</td>\n",
       "      <td>1.142404</td>\n",
       "      <td>1</td>\n",
       "      <td>1</td>\n",
       "    </tr>\n",
       "    <tr>\n",
       "      <th>3</th>\n",
       "      <td>2020</td>\n",
       "      <td>3</td>\n",
       "      <td>-0.15925</td>\n",
       "      <td>0.706630</td>\n",
       "      <td>1</td>\n",
       "      <td>0</td>\n",
       "    </tr>\n",
       "    <tr>\n",
       "      <th>4</th>\n",
       "      <td>2020</td>\n",
       "      <td>4</td>\n",
       "      <td>-1.21700</td>\n",
       "      <td>1.127360</td>\n",
       "      <td>0</td>\n",
       "      <td>0</td>\n",
       "    </tr>\n",
       "  </tbody>\n",
       "</table>\n",
       "</div>"
      ],
      "text/plain": [
       "   Year  Week_Number  mean_return  volatility  label  prediction\n",
       "0  2020            0      0.01800    2.951464      0           0\n",
       "1  2020            1      0.44680    0.825564      1           1\n",
       "2  2020            2      0.43660    1.142404      1           1\n",
       "3  2020            3     -0.15925    0.706630      1           0\n",
       "4  2020            4     -1.21700    1.127360      0           0"
      ]
     },
     "execution_count": 40,
     "metadata": {},
     "output_type": "execute_result"
    }
   ],
   "source": [
    "df_sap_2020[\"prediction\"] = np.where( df_sap_2019[\"volatility\"] > (0.5 * df_sap_2020[\"mean_return\"]) + 1.4,0,1)\n",
    "df_sap_2020.head(5)"
   ]
  },
  {
   "cell_type": "markdown",
   "metadata": {},
   "source": [
    "#### 3. implement a trading strategy based on your labels for year 2."
   ]
  },
  {
   "cell_type": "code",
   "execution_count": 41,
   "metadata": {},
   "outputs": [],
   "source": [
    "def compute_daily_ret(d_frame1, amt):\n",
    "    ret = round(((d_frame1[\"Return\"] / 100) + 1).cumprod() * amt,2)\n",
    "\n",
    "    return round(ret.values[-1],2)"
   ]
  },
  {
   "cell_type": "code",
   "execution_count": 42,
   "metadata": {},
   "outputs": [],
   "source": [
    "def weekDaily(d_frame_week,d_frame_daily,lbl):\n",
    "    total_ret = list()\n",
    "    for i in range(len(d_frame_week)):\n",
    "        if i > 0:\n",
    "            year = d_frame_week.loc[i][\"Year\"]\n",
    "\n",
    "            week = d_frame_week.loc[i][\"Week_Number\"]\n",
    "\n",
    "            prv_week = d_frame_week.loc[i - 1][\"Week_Number\"]\n",
    "\n",
    "            frame = d_frame_daily[(d_frame_daily[\"Week_Number\"] == week)]\n",
    "\n",
    "            if d_frame_week.loc[i - 1][lbl] == 0 and d_frame_week.loc[i][lbl] == 1:\n",
    "\n",
    "                amount = total_ret[i - 1] \n",
    "                total_ret.append(compute_daily_ret(frame, amount))\n",
    "                \n",
    "            elif d_frame_week.loc[i - 1][lbl] == 1 and d_frame_week.loc[i][lbl] == 1:\n",
    "\n",
    "                amount = total_ret[i - 1]\n",
    "                total_ret.append(compute_daily_ret(frame, amount))\n",
    "            else:\n",
    "                total_ret.append(total_ret[i - 1])\n",
    "        else:     \n",
    "            total_ret.append(100)\n",
    "    return total_ret"
   ]
  },
  {
   "cell_type": "code",
   "execution_count": 43,
   "metadata": {},
   "outputs": [
    {
     "name": "stdout",
     "output_type": "stream",
     "text": [
      "Total return for $ 100 using the prediction for 2020 is $ 235.66\n"
     ]
    }
   ],
   "source": [
    "daily_ret = weekDaily(df_sap_2020,\\\n",
    "                      df_daily[(df_daily[\"Year\"] == 2020)].reset_index(drop=True),\"prediction\")\n",
    "\n",
    "print(f\"Total return for $ 100 using the prediction for 2020 is $ {daily_ret[-1]}\")\n"
   ]
  },
  {
   "cell_type": "code",
   "execution_count": null,
   "metadata": {},
   "outputs": [],
   "source": []
  }
 ],
 "metadata": {
  "kernelspec": {
   "display_name": "Python 3",
   "language": "python",
   "name": "python3"
  },
  "language_info": {
   "codemirror_mode": {
    "name": "ipython",
    "version": 3
   },
   "file_extension": ".py",
   "mimetype": "text/x-python",
   "name": "python",
   "nbconvert_exporter": "python",
   "pygments_lexer": "ipython3",
   "version": "3.8.5"
  }
 },
 "nbformat": 4,
 "nbformat_minor": 4
}
