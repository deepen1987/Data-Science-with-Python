{
 "cells": [
  {
   "cell_type": "code",
   "execution_count": 41,
   "metadata": {},
   "outputs": [],
   "source": [
    "import pandas as pd\n",
    "import numpy as np\n",
    "import matplotlib.pyplot as plt\n",
    "import seaborn as sns\n",
    "from sklearn . metrics import mean_squared_error , r2_score\n",
    "from sklearn.model_selection import train_test_split"
   ]
  },
  {
   "cell_type": "code",
   "execution_count": 42,
   "metadata": {
    "scrolled": true
   },
   "outputs": [
    {
     "data": {
      "text/html": [
       "<div>\n",
       "<style scoped>\n",
       "    .dataframe tbody tr th:only-of-type {\n",
       "        vertical-align: middle;\n",
       "    }\n",
       "\n",
       "    .dataframe tbody tr th {\n",
       "        vertical-align: top;\n",
       "    }\n",
       "\n",
       "    .dataframe thead th {\n",
       "        text-align: right;\n",
       "    }\n",
       "</style>\n",
       "<table border=\"1\" class=\"dataframe\">\n",
       "  <thead>\n",
       "    <tr style=\"text-align: right;\">\n",
       "      <th></th>\n",
       "      <th>age</th>\n",
       "      <th>anaemia</th>\n",
       "      <th>creatinine_phosphokinase</th>\n",
       "      <th>diabetes</th>\n",
       "      <th>ejection_fraction</th>\n",
       "      <th>high_blood_pressure</th>\n",
       "      <th>platelets</th>\n",
       "      <th>serum_creatinine</th>\n",
       "      <th>serum_sodium</th>\n",
       "      <th>sex</th>\n",
       "      <th>smoking</th>\n",
       "      <th>time</th>\n",
       "      <th>DEATH_EVENT</th>\n",
       "    </tr>\n",
       "  </thead>\n",
       "  <tbody>\n",
       "    <tr>\n",
       "      <th>0</th>\n",
       "      <td>75.0</td>\n",
       "      <td>0</td>\n",
       "      <td>582</td>\n",
       "      <td>0</td>\n",
       "      <td>20</td>\n",
       "      <td>1</td>\n",
       "      <td>265000.00</td>\n",
       "      <td>1.9</td>\n",
       "      <td>130</td>\n",
       "      <td>1</td>\n",
       "      <td>0</td>\n",
       "      <td>4</td>\n",
       "      <td>1</td>\n",
       "    </tr>\n",
       "    <tr>\n",
       "      <th>1</th>\n",
       "      <td>55.0</td>\n",
       "      <td>0</td>\n",
       "      <td>7861</td>\n",
       "      <td>0</td>\n",
       "      <td>38</td>\n",
       "      <td>0</td>\n",
       "      <td>263358.03</td>\n",
       "      <td>1.1</td>\n",
       "      <td>136</td>\n",
       "      <td>1</td>\n",
       "      <td>0</td>\n",
       "      <td>6</td>\n",
       "      <td>1</td>\n",
       "    </tr>\n",
       "    <tr>\n",
       "      <th>2</th>\n",
       "      <td>65.0</td>\n",
       "      <td>0</td>\n",
       "      <td>146</td>\n",
       "      <td>0</td>\n",
       "      <td>20</td>\n",
       "      <td>0</td>\n",
       "      <td>162000.00</td>\n",
       "      <td>1.3</td>\n",
       "      <td>129</td>\n",
       "      <td>1</td>\n",
       "      <td>1</td>\n",
       "      <td>7</td>\n",
       "      <td>1</td>\n",
       "    </tr>\n",
       "    <tr>\n",
       "      <th>3</th>\n",
       "      <td>50.0</td>\n",
       "      <td>1</td>\n",
       "      <td>111</td>\n",
       "      <td>0</td>\n",
       "      <td>20</td>\n",
       "      <td>0</td>\n",
       "      <td>210000.00</td>\n",
       "      <td>1.9</td>\n",
       "      <td>137</td>\n",
       "      <td>1</td>\n",
       "      <td>0</td>\n",
       "      <td>7</td>\n",
       "      <td>1</td>\n",
       "    </tr>\n",
       "    <tr>\n",
       "      <th>4</th>\n",
       "      <td>65.0</td>\n",
       "      <td>1</td>\n",
       "      <td>160</td>\n",
       "      <td>1</td>\n",
       "      <td>20</td>\n",
       "      <td>0</td>\n",
       "      <td>327000.00</td>\n",
       "      <td>2.7</td>\n",
       "      <td>116</td>\n",
       "      <td>0</td>\n",
       "      <td>0</td>\n",
       "      <td>8</td>\n",
       "      <td>1</td>\n",
       "    </tr>\n",
       "  </tbody>\n",
       "</table>\n",
       "</div>"
      ],
      "text/plain": [
       "    age  anaemia  creatinine_phosphokinase  diabetes  ejection_fraction  \\\n",
       "0  75.0        0                       582         0                 20   \n",
       "1  55.0        0                      7861         0                 38   \n",
       "2  65.0        0                       146         0                 20   \n",
       "3  50.0        1                       111         0                 20   \n",
       "4  65.0        1                       160         1                 20   \n",
       "\n",
       "   high_blood_pressure  platelets  serum_creatinine  serum_sodium  sex  \\\n",
       "0                    1  265000.00               1.9           130    1   \n",
       "1                    0  263358.03               1.1           136    1   \n",
       "2                    0  162000.00               1.3           129    1   \n",
       "3                    0  210000.00               1.9           137    1   \n",
       "4                    0  327000.00               2.7           116    0   \n",
       "\n",
       "   smoking  time  DEATH_EVENT  \n",
       "0        0     4            1  \n",
       "1        0     6            1  \n",
       "2        1     7            1  \n",
       "3        0     7            1  \n",
       "4        0     8            1  "
      ]
     },
     "execution_count": 42,
     "metadata": {},
     "output_type": "execute_result"
    }
   ],
   "source": [
    "df_health = pd.read_csv(\"heart_failure_clinical_records_dataset.csv\")\n",
    "df_health.head(5)"
   ]
  },
  {
   "cell_type": "markdown",
   "metadata": {},
   "source": [
    "## Question 1"
   ]
  },
  {
   "cell_type": "markdown",
   "metadata": {},
   "source": [
    "### 1. load the data into Pandas dataframe. Extract two dataframes with the above 4 features: df 0 for surviving patients (DEATH EVENT = 0) and df 1 for deceased patients (DEATH EVENT = 1)"
   ]
  },
  {
   "cell_type": "code",
   "execution_count": 43,
   "metadata": {},
   "outputs": [],
   "source": [
    "df_0 = df_health[df_health[\"DEATH_EVENT\"] == 0]\\\n",
    "[[\"creatinine_phosphokinase\",\"serum_creatinine\", \"serum_sodium\",\"platelets\", \"DEATH_EVENT\"]].reset_index(drop=True)\n",
    "df_1 = df_health[df_health[\"DEATH_EVENT\"] == 1][[\"creatinine_phosphokinase\",\"serum_creatinine\", \"serum_sodium\",\"platelets\", \"DEATH_EVENT\"]].reset_index(drop=True)"
   ]
  },
  {
   "cell_type": "code",
   "execution_count": 44,
   "metadata": {},
   "outputs": [
    {
     "data": {
      "text/html": [
       "<div>\n",
       "<style scoped>\n",
       "    .dataframe tbody tr th:only-of-type {\n",
       "        vertical-align: middle;\n",
       "    }\n",
       "\n",
       "    .dataframe tbody tr th {\n",
       "        vertical-align: top;\n",
       "    }\n",
       "\n",
       "    .dataframe thead th {\n",
       "        text-align: right;\n",
       "    }\n",
       "</style>\n",
       "<table border=\"1\" class=\"dataframe\">\n",
       "  <thead>\n",
       "    <tr style=\"text-align: right;\">\n",
       "      <th></th>\n",
       "      <th>creatinine_phosphokinase</th>\n",
       "      <th>serum_creatinine</th>\n",
       "      <th>serum_sodium</th>\n",
       "      <th>platelets</th>\n",
       "      <th>DEATH_EVENT</th>\n",
       "    </tr>\n",
       "  </thead>\n",
       "  <tbody>\n",
       "    <tr>\n",
       "      <th>0</th>\n",
       "      <td>80</td>\n",
       "      <td>1.0</td>\n",
       "      <td>138</td>\n",
       "      <td>427000.0</td>\n",
       "      <td>0</td>\n",
       "    </tr>\n",
       "    <tr>\n",
       "      <th>1</th>\n",
       "      <td>52</td>\n",
       "      <td>1.3</td>\n",
       "      <td>137</td>\n",
       "      <td>276000.0</td>\n",
       "      <td>0</td>\n",
       "    </tr>\n",
       "    <tr>\n",
       "      <th>2</th>\n",
       "      <td>63</td>\n",
       "      <td>0.8</td>\n",
       "      <td>135</td>\n",
       "      <td>368000.0</td>\n",
       "      <td>0</td>\n",
       "    </tr>\n",
       "    <tr>\n",
       "      <th>3</th>\n",
       "      <td>159</td>\n",
       "      <td>1.2</td>\n",
       "      <td>138</td>\n",
       "      <td>302000.0</td>\n",
       "      <td>0</td>\n",
       "    </tr>\n",
       "    <tr>\n",
       "      <th>4</th>\n",
       "      <td>2656</td>\n",
       "      <td>2.3</td>\n",
       "      <td>137</td>\n",
       "      <td>305000.0</td>\n",
       "      <td>0</td>\n",
       "    </tr>\n",
       "  </tbody>\n",
       "</table>\n",
       "</div>"
      ],
      "text/plain": [
       "   creatinine_phosphokinase  serum_creatinine  serum_sodium  platelets  \\\n",
       "0                        80               1.0           138   427000.0   \n",
       "1                        52               1.3           137   276000.0   \n",
       "2                        63               0.8           135   368000.0   \n",
       "3                       159               1.2           138   302000.0   \n",
       "4                      2656               2.3           137   305000.0   \n",
       "\n",
       "   DEATH_EVENT  \n",
       "0            0  \n",
       "1            0  \n",
       "2            0  \n",
       "3            0  \n",
       "4            0  "
      ]
     },
     "execution_count": 44,
     "metadata": {},
     "output_type": "execute_result"
    }
   ],
   "source": [
    "df_0.head(5)"
   ]
  },
  {
   "cell_type": "code",
   "execution_count": 45,
   "metadata": {},
   "outputs": [
    {
     "data": {
      "text/html": [
       "<div>\n",
       "<style scoped>\n",
       "    .dataframe tbody tr th:only-of-type {\n",
       "        vertical-align: middle;\n",
       "    }\n",
       "\n",
       "    .dataframe tbody tr th {\n",
       "        vertical-align: top;\n",
       "    }\n",
       "\n",
       "    .dataframe thead th {\n",
       "        text-align: right;\n",
       "    }\n",
       "</style>\n",
       "<table border=\"1\" class=\"dataframe\">\n",
       "  <thead>\n",
       "    <tr style=\"text-align: right;\">\n",
       "      <th></th>\n",
       "      <th>creatinine_phosphokinase</th>\n",
       "      <th>serum_creatinine</th>\n",
       "      <th>serum_sodium</th>\n",
       "      <th>platelets</th>\n",
       "      <th>DEATH_EVENT</th>\n",
       "    </tr>\n",
       "  </thead>\n",
       "  <tbody>\n",
       "    <tr>\n",
       "      <th>0</th>\n",
       "      <td>582</td>\n",
       "      <td>1.9</td>\n",
       "      <td>130</td>\n",
       "      <td>265000.00</td>\n",
       "      <td>1</td>\n",
       "    </tr>\n",
       "    <tr>\n",
       "      <th>1</th>\n",
       "      <td>7861</td>\n",
       "      <td>1.1</td>\n",
       "      <td>136</td>\n",
       "      <td>263358.03</td>\n",
       "      <td>1</td>\n",
       "    </tr>\n",
       "    <tr>\n",
       "      <th>2</th>\n",
       "      <td>146</td>\n",
       "      <td>1.3</td>\n",
       "      <td>129</td>\n",
       "      <td>162000.00</td>\n",
       "      <td>1</td>\n",
       "    </tr>\n",
       "    <tr>\n",
       "      <th>3</th>\n",
       "      <td>111</td>\n",
       "      <td>1.9</td>\n",
       "      <td>137</td>\n",
       "      <td>210000.00</td>\n",
       "      <td>1</td>\n",
       "    </tr>\n",
       "    <tr>\n",
       "      <th>4</th>\n",
       "      <td>160</td>\n",
       "      <td>2.7</td>\n",
       "      <td>116</td>\n",
       "      <td>327000.00</td>\n",
       "      <td>1</td>\n",
       "    </tr>\n",
       "  </tbody>\n",
       "</table>\n",
       "</div>"
      ],
      "text/plain": [
       "   creatinine_phosphokinase  serum_creatinine  serum_sodium  platelets  \\\n",
       "0                       582               1.9           130  265000.00   \n",
       "1                      7861               1.1           136  263358.03   \n",
       "2                       146               1.3           129  162000.00   \n",
       "3                       111               1.9           137  210000.00   \n",
       "4                       160               2.7           116  327000.00   \n",
       "\n",
       "   DEATH_EVENT  \n",
       "0            1  \n",
       "1            1  \n",
       "2            1  \n",
       "3            1  \n",
       "4            1  "
      ]
     },
     "execution_count": 45,
     "metadata": {},
     "output_type": "execute_result"
    }
   ],
   "source": [
    "df_1.head(5)"
   ]
  },
  {
   "cell_type": "markdown",
   "metadata": {},
   "source": [
    "### 2. for each dataset, construct the visual representations of correponding correlation matrices M0 (from df 0) and M1 (from df 1) and save the plots into two separate files"
   ]
  },
  {
   "cell_type": "code",
   "execution_count": 46,
   "metadata": {},
   "outputs": [
    {
     "data": {
      "text/html": [
       "<style  type=\"text/css\" >\n",
       "#T_442e44c2_deaa_11eb_b25a_415645000030row0_col0,#T_442e44c2_deaa_11eb_b25a_415645000030row1_col1,#T_442e44c2_deaa_11eb_b25a_415645000030row2_col2,#T_442e44c2_deaa_11eb_b25a_415645000030row3_col3{\n",
       "            background-color:  #08306b;\n",
       "            color:  #f1f1f1;\n",
       "        }#T_442e44c2_deaa_11eb_b25a_415645000030row0_col1,#T_442e44c2_deaa_11eb_b25a_415645000030row1_col0{\n",
       "            background-color:  #dbe9f6;\n",
       "            color:  #000000;\n",
       "        }#T_442e44c2_deaa_11eb_b25a_415645000030row0_col2,#T_442e44c2_deaa_11eb_b25a_415645000030row2_col0{\n",
       "            background-color:  #d5e5f4;\n",
       "            color:  #000000;\n",
       "        }#T_442e44c2_deaa_11eb_b25a_415645000030row0_col3,#T_442e44c2_deaa_11eb_b25a_415645000030row3_col0{\n",
       "            background-color:  #d6e6f4;\n",
       "            color:  #000000;\n",
       "        }#T_442e44c2_deaa_11eb_b25a_415645000030row1_col2,#T_442e44c2_deaa_11eb_b25a_415645000030row2_col1{\n",
       "            background-color:  #f7fbff;\n",
       "            color:  #000000;\n",
       "        }#T_442e44c2_deaa_11eb_b25a_415645000030row1_col3,#T_442e44c2_deaa_11eb_b25a_415645000030row3_col1{\n",
       "            background-color:  #d9e8f5;\n",
       "            color:  #000000;\n",
       "        }#T_442e44c2_deaa_11eb_b25a_415645000030row2_col3,#T_442e44c2_deaa_11eb_b25a_415645000030row3_col2{\n",
       "            background-color:  #d4e4f4;\n",
       "            color:  #000000;\n",
       "        }</style><table id=\"T_442e44c2_deaa_11eb_b25a_415645000030\" ><thead>    <tr>        <th class=\"blank level0\" ></th>        <th class=\"col_heading level0 col0\" >creatinine_phosphokinase</th>        <th class=\"col_heading level0 col1\" >serum_creatinine</th>        <th class=\"col_heading level0 col2\" >serum_sodium</th>        <th class=\"col_heading level0 col3\" >platelets</th>    </tr></thead><tbody>\n",
       "                <tr>\n",
       "                        <th id=\"T_442e44c2_deaa_11eb_b25a_415645000030level0_row0\" class=\"row_heading level0 row0\" >creatinine_phosphokinase</th>\n",
       "                        <td id=\"T_442e44c2_deaa_11eb_b25a_415645000030row0_col0\" class=\"data row0 col0\" >1.000000</td>\n",
       "                        <td id=\"T_442e44c2_deaa_11eb_b25a_415645000030row0_col1\" class=\"data row0 col1\" >-0.043110</td>\n",
       "                        <td id=\"T_442e44c2_deaa_11eb_b25a_415645000030row0_col2\" class=\"data row0 col2\" >-0.002474</td>\n",
       "                        <td id=\"T_442e44c2_deaa_11eb_b25a_415645000030row0_col3\" class=\"data row0 col3\" >-0.012940</td>\n",
       "            </tr>\n",
       "            <tr>\n",
       "                        <th id=\"T_442e44c2_deaa_11eb_b25a_415645000030level0_row1\" class=\"row_heading level0 row1\" >serum_creatinine</th>\n",
       "                        <td id=\"T_442e44c2_deaa_11eb_b25a_415645000030row1_col0\" class=\"data row1 col0\" >-0.043110</td>\n",
       "                        <td id=\"T_442e44c2_deaa_11eb_b25a_415645000030row1_col1\" class=\"data row1 col1\" >1.000000</td>\n",
       "                        <td id=\"T_442e44c2_deaa_11eb_b25a_415645000030row1_col2\" class=\"data row1 col2\" >-0.215651</td>\n",
       "                        <td id=\"T_442e44c2_deaa_11eb_b25a_415645000030row1_col3\" class=\"data row1 col3\" >-0.031217</td>\n",
       "            </tr>\n",
       "            <tr>\n",
       "                        <th id=\"T_442e44c2_deaa_11eb_b25a_415645000030level0_row2\" class=\"row_heading level0 row2\" >serum_sodium</th>\n",
       "                        <td id=\"T_442e44c2_deaa_11eb_b25a_415645000030row2_col0\" class=\"data row2 col0\" >-0.002474</td>\n",
       "                        <td id=\"T_442e44c2_deaa_11eb_b25a_415645000030row2_col1\" class=\"data row2 col1\" >-0.215651</td>\n",
       "                        <td id=\"T_442e44c2_deaa_11eb_b25a_415645000030row2_col2\" class=\"data row2 col2\" >1.000000</td>\n",
       "                        <td id=\"T_442e44c2_deaa_11eb_b25a_415645000030row2_col3\" class=\"data row2 col3\" >0.001807</td>\n",
       "            </tr>\n",
       "            <tr>\n",
       "                        <th id=\"T_442e44c2_deaa_11eb_b25a_415645000030level0_row3\" class=\"row_heading level0 row3\" >platelets</th>\n",
       "                        <td id=\"T_442e44c2_deaa_11eb_b25a_415645000030row3_col0\" class=\"data row3 col0\" >-0.012940</td>\n",
       "                        <td id=\"T_442e44c2_deaa_11eb_b25a_415645000030row3_col1\" class=\"data row3 col1\" >-0.031217</td>\n",
       "                        <td id=\"T_442e44c2_deaa_11eb_b25a_415645000030row3_col2\" class=\"data row3 col2\" >0.001807</td>\n",
       "                        <td id=\"T_442e44c2_deaa_11eb_b25a_415645000030row3_col3\" class=\"data row3 col3\" >1.000000</td>\n",
       "            </tr>\n",
       "    </tbody></table>"
      ],
      "text/plain": [
       "<pandas.io.formats.style.Styler at 0x1d8226a12e0>"
      ]
     },
     "execution_count": 46,
     "metadata": {},
     "output_type": "execute_result"
    }
   ],
   "source": [
    "df_0.iloc[0:,:4].corr().style.background_gradient(cmap='Blues', axis=None)"
   ]
  },
  {
   "cell_type": "code",
   "execution_count": 47,
   "metadata": {},
   "outputs": [
    {
     "data": {
      "text/html": [
       "<style  type=\"text/css\" >\n",
       "#T_44312cb4_deaa_11eb_b00d_415645000030row0_col0,#T_44312cb4_deaa_11eb_b00d_415645000030row1_col1,#T_44312cb4_deaa_11eb_b00d_415645000030row2_col2,#T_44312cb4_deaa_11eb_b00d_415645000030row3_col3{\n",
       "            background-color:  #08306b;\n",
       "            color:  #f1f1f1;\n",
       "        }#T_44312cb4_deaa_11eb_b00d_415645000030row0_col1,#T_44312cb4_deaa_11eb_b00d_415645000030row1_col0{\n",
       "            background-color:  #ecf4fb;\n",
       "            color:  #000000;\n",
       "        }#T_44312cb4_deaa_11eb_b00d_415645000030row0_col2,#T_44312cb4_deaa_11eb_b00d_415645000030row2_col0{\n",
       "            background-color:  #ccdff1;\n",
       "            color:  #000000;\n",
       "        }#T_44312cb4_deaa_11eb_b00d_415645000030row0_col3,#T_44312cb4_deaa_11eb_b00d_415645000030row3_col0{\n",
       "            background-color:  #d8e7f5;\n",
       "            color:  #000000;\n",
       "        }#T_44312cb4_deaa_11eb_b00d_415645000030row1_col2,#T_44312cb4_deaa_11eb_b00d_415645000030row2_col1{\n",
       "            background-color:  #f7fbff;\n",
       "            color:  #000000;\n",
       "        }#T_44312cb4_deaa_11eb_b00d_415645000030row1_col3,#T_44312cb4_deaa_11eb_b00d_415645000030row3_col1{\n",
       "            background-color:  #ebf3fb;\n",
       "            color:  #000000;\n",
       "        }#T_44312cb4_deaa_11eb_b00d_415645000030row2_col3,#T_44312cb4_deaa_11eb_b00d_415645000030row3_col2{\n",
       "            background-color:  #cddff1;\n",
       "            color:  #000000;\n",
       "        }</style><table id=\"T_44312cb4_deaa_11eb_b00d_415645000030\" ><thead>    <tr>        <th class=\"blank level0\" ></th>        <th class=\"col_heading level0 col0\" >creatinine_phosphokinase</th>        <th class=\"col_heading level0 col1\" >serum_creatinine</th>        <th class=\"col_heading level0 col2\" >serum_sodium</th>        <th class=\"col_heading level0 col3\" >platelets</th>    </tr></thead><tbody>\n",
       "                <tr>\n",
       "                        <th id=\"T_44312cb4_deaa_11eb_b00d_415645000030level0_row0\" class=\"row_heading level0 row0\" >creatinine_phosphokinase</th>\n",
       "                        <td id=\"T_44312cb4_deaa_11eb_b00d_415645000030row0_col0\" class=\"data row0 col0\" >1.000000</td>\n",
       "                        <td id=\"T_44312cb4_deaa_11eb_b00d_415645000030row0_col1\" class=\"data row0 col1\" >-0.033407</td>\n",
       "                        <td id=\"T_44312cb4_deaa_11eb_b00d_415645000030row0_col2\" class=\"data row0 col2\" >0.148823</td>\n",
       "                        <td id=\"T_44312cb4_deaa_11eb_b00d_415645000030row0_col3\" class=\"data row0 col3\" >0.078808</td>\n",
       "            </tr>\n",
       "            <tr>\n",
       "                        <th id=\"T_44312cb4_deaa_11eb_b00d_415645000030level0_row1\" class=\"row_heading level0 row1\" >serum_creatinine</th>\n",
       "                        <td id=\"T_44312cb4_deaa_11eb_b00d_415645000030row1_col0\" class=\"data row1 col0\" >-0.033407</td>\n",
       "                        <td id=\"T_44312cb4_deaa_11eb_b00d_415645000030row1_col1\" class=\"data row1 col1\" >1.000000</td>\n",
       "                        <td id=\"T_44312cb4_deaa_11eb_b00d_415645000030row1_col2\" class=\"data row1 col2\" >-0.094011</td>\n",
       "                        <td id=\"T_44312cb4_deaa_11eb_b00d_415645000030row1_col3\" class=\"data row1 col3\" >-0.029384</td>\n",
       "            </tr>\n",
       "            <tr>\n",
       "                        <th id=\"T_44312cb4_deaa_11eb_b00d_415645000030level0_row2\" class=\"row_heading level0 row2\" >serum_sodium</th>\n",
       "                        <td id=\"T_44312cb4_deaa_11eb_b00d_415645000030row2_col0\" class=\"data row2 col0\" >0.148823</td>\n",
       "                        <td id=\"T_44312cb4_deaa_11eb_b00d_415645000030row2_col1\" class=\"data row2 col1\" >-0.094011</td>\n",
       "                        <td id=\"T_44312cb4_deaa_11eb_b00d_415645000030row2_col2\" class=\"data row2 col2\" >1.000000</td>\n",
       "                        <td id=\"T_44312cb4_deaa_11eb_b00d_415645000030row2_col3\" class=\"data row2 col3\" >0.141284</td>\n",
       "            </tr>\n",
       "            <tr>\n",
       "                        <th id=\"T_44312cb4_deaa_11eb_b00d_415645000030level0_row3\" class=\"row_heading level0 row3\" >platelets</th>\n",
       "                        <td id=\"T_44312cb4_deaa_11eb_b00d_415645000030row3_col0\" class=\"data row3 col0\" >0.078808</td>\n",
       "                        <td id=\"T_44312cb4_deaa_11eb_b00d_415645000030row3_col1\" class=\"data row3 col1\" >-0.029384</td>\n",
       "                        <td id=\"T_44312cb4_deaa_11eb_b00d_415645000030row3_col2\" class=\"data row3 col2\" >0.141284</td>\n",
       "                        <td id=\"T_44312cb4_deaa_11eb_b00d_415645000030row3_col3\" class=\"data row3 col3\" >1.000000</td>\n",
       "            </tr>\n",
       "    </tbody></table>"
      ],
      "text/plain": [
       "<pandas.io.formats.style.Styler at 0x1d8226a1a30>"
      ]
     },
     "execution_count": 47,
     "metadata": {},
     "output_type": "execute_result"
    }
   ],
   "source": [
    "df_1.iloc[0:,:4].corr().style.background_gradient(cmap='Blues', axis=None)"
   ]
  },
  {
   "cell_type": "markdown",
   "metadata": {},
   "source": [
    "### 3. examine your correlation matrix plots visually and answer the following:"
   ]
  },
  {
   "cell_type": "markdown",
   "metadata": {},
   "source": [
    "* Considering highest means the stronget correlation.\n",
    "* Considering lowest means the weakest correlation."
   ]
  },
  {
   "cell_type": "markdown",
   "metadata": {},
   "source": [
    "#### 1. which features have the highest correlation for surviving patients?"
   ]
  },
  {
   "cell_type": "markdown",
   "metadata": {},
   "source": [
    "* serum_sodium\n",
    "* serum_creatinine"
   ]
  },
  {
   "cell_type": "markdown",
   "metadata": {},
   "source": [
    "#### 2. which features have the lowest correlation for surviving patients?"
   ]
  },
  {
   "cell_type": "markdown",
   "metadata": {},
   "source": [
    "* platelets\n",
    "* serum_sodium"
   ]
  },
  {
   "cell_type": "markdown",
   "metadata": {},
   "source": [
    "#### 3. which features have the highest correlation for deceased patients?"
   ]
  },
  {
   "cell_type": "markdown",
   "metadata": {},
   "source": [
    "* creatinine_phosphokinase\n",
    "* serum_sodium"
   ]
  },
  {
   "cell_type": "markdown",
   "metadata": {},
   "source": [
    "#### 4. which features have the lowest correlation for deceased patients?"
   ]
  },
  {
   "cell_type": "markdown",
   "metadata": {},
   "source": [
    "* platelets\n",
    "* serum_creatinine"
   ]
  },
  {
   "cell_type": "markdown",
   "metadata": {},
   "source": [
    "#### 5. are results the same for both cases?"
   ]
  },
  {
   "cell_type": "markdown",
   "metadata": {},
   "source": [
    "The correlation features which has the highest and lowest values for Surviving and deceases pastients are not same."
   ]
  },
  {
   "cell_type": "markdown",
   "metadata": {},
   "source": [
    "## Question 2"
   ]
  },
  {
   "cell_type": "markdown",
   "metadata": {},
   "source": [
    "#### Group 3: X: serum sodium, Y : serum creatinine"
   ]
  },
  {
   "cell_type": "code",
   "execution_count": 48,
   "metadata": {},
   "outputs": [],
   "source": [
    "df_0_g3 = df_0.iloc[0:,[1,2]]\n",
    "df_1_g3 = df_1.iloc[0:,[1,2]]"
   ]
  },
  {
   "cell_type": "code",
   "execution_count": 49,
   "metadata": {},
   "outputs": [
    {
     "data": {
      "text/html": [
       "<div>\n",
       "<style scoped>\n",
       "    .dataframe tbody tr th:only-of-type {\n",
       "        vertical-align: middle;\n",
       "    }\n",
       "\n",
       "    .dataframe tbody tr th {\n",
       "        vertical-align: top;\n",
       "    }\n",
       "\n",
       "    .dataframe thead th {\n",
       "        text-align: right;\n",
       "    }\n",
       "</style>\n",
       "<table border=\"1\" class=\"dataframe\">\n",
       "  <thead>\n",
       "    <tr style=\"text-align: right;\">\n",
       "      <th></th>\n",
       "      <th>serum_creatinine</th>\n",
       "      <th>serum_sodium</th>\n",
       "    </tr>\n",
       "  </thead>\n",
       "  <tbody>\n",
       "    <tr>\n",
       "      <th>0</th>\n",
       "      <td>1.0</td>\n",
       "      <td>138</td>\n",
       "    </tr>\n",
       "    <tr>\n",
       "      <th>1</th>\n",
       "      <td>1.3</td>\n",
       "      <td>137</td>\n",
       "    </tr>\n",
       "    <tr>\n",
       "      <th>2</th>\n",
       "      <td>0.8</td>\n",
       "      <td>135</td>\n",
       "    </tr>\n",
       "    <tr>\n",
       "      <th>3</th>\n",
       "      <td>1.2</td>\n",
       "      <td>138</td>\n",
       "    </tr>\n",
       "    <tr>\n",
       "      <th>4</th>\n",
       "      <td>2.3</td>\n",
       "      <td>137</td>\n",
       "    </tr>\n",
       "  </tbody>\n",
       "</table>\n",
       "</div>"
      ],
      "text/plain": [
       "   serum_creatinine  serum_sodium\n",
       "0               1.0           138\n",
       "1               1.3           137\n",
       "2               0.8           135\n",
       "3               1.2           138\n",
       "4               2.3           137"
      ]
     },
     "execution_count": 49,
     "metadata": {},
     "output_type": "execute_result"
    }
   ],
   "source": [
    "df_0_g3.head(5)"
   ]
  },
  {
   "cell_type": "code",
   "execution_count": 50,
   "metadata": {
    "scrolled": true
   },
   "outputs": [
    {
     "data": {
      "text/html": [
       "<div>\n",
       "<style scoped>\n",
       "    .dataframe tbody tr th:only-of-type {\n",
       "        vertical-align: middle;\n",
       "    }\n",
       "\n",
       "    .dataframe tbody tr th {\n",
       "        vertical-align: top;\n",
       "    }\n",
       "\n",
       "    .dataframe thead th {\n",
       "        text-align: right;\n",
       "    }\n",
       "</style>\n",
       "<table border=\"1\" class=\"dataframe\">\n",
       "  <thead>\n",
       "    <tr style=\"text-align: right;\">\n",
       "      <th></th>\n",
       "      <th>serum_creatinine</th>\n",
       "      <th>serum_sodium</th>\n",
       "    </tr>\n",
       "  </thead>\n",
       "  <tbody>\n",
       "    <tr>\n",
       "      <th>0</th>\n",
       "      <td>1.9</td>\n",
       "      <td>130</td>\n",
       "    </tr>\n",
       "    <tr>\n",
       "      <th>1</th>\n",
       "      <td>1.1</td>\n",
       "      <td>136</td>\n",
       "    </tr>\n",
       "    <tr>\n",
       "      <th>2</th>\n",
       "      <td>1.3</td>\n",
       "      <td>129</td>\n",
       "    </tr>\n",
       "    <tr>\n",
       "      <th>3</th>\n",
       "      <td>1.9</td>\n",
       "      <td>137</td>\n",
       "    </tr>\n",
       "    <tr>\n",
       "      <th>4</th>\n",
       "      <td>2.7</td>\n",
       "      <td>116</td>\n",
       "    </tr>\n",
       "  </tbody>\n",
       "</table>\n",
       "</div>"
      ],
      "text/plain": [
       "   serum_creatinine  serum_sodium\n",
       "0               1.9           130\n",
       "1               1.1           136\n",
       "2               1.3           129\n",
       "3               1.9           137\n",
       "4               2.7           116"
      ]
     },
     "execution_count": 50,
     "metadata": {},
     "output_type": "execute_result"
    }
   ],
   "source": [
    "df_1_g3.head(5)"
   ]
  },
  {
   "cell_type": "code",
   "execution_count": 51,
   "metadata": {},
   "outputs": [],
   "source": [
    "def sse(x, y, deg):\n",
    "    x_tr, x_te, y_tr, y_te = train_test_split(x, y, test_size = 0.5,random_state=5)\n",
    "    \n",
    "    weights = np.polyfit(x_tr, y_tr, deg)\n",
    "    print(f\"Weights: {weights}\")\n",
    "    model = np.poly1d(weights)\n",
    "    predicted = model(x_te)\n",
    "    \n",
    "    rmse = np.sqrt(mean_squared_error(y_te, predicted))\n",
    "    r2 = r2_score(y_te, predicted)\n",
    "    sse = np.sum((y_te - predicted)**2)\n",
    "    \n",
    "    return sse"
   ]
  },
  {
   "cell_type": "markdown",
   "metadata": {},
   "source": [
    "#### 1. y = ax + b (simple linear regression)"
   ]
  },
  {
   "cell_type": "code",
   "execution_count": 52,
   "metadata": {},
   "outputs": [
    {
     "name": "stdout",
     "output_type": "stream",
     "text": [
      "Weights: [-0.04269339  6.96906298]\n",
      "Surviving patients SSE:\n",
      "55.131125456097976\n",
      "\n",
      "Weights: [-0.0497511   8.60098158]\n",
      "Deceased patients SSE:\n",
      "77.22846637946805\n",
      "\n"
     ]
    }
   ],
   "source": [
    "y1_0 = sse(df_0_g3[\"serum_sodium\"].values, df_0_g3[\"serum_creatinine\"].values, 1)\n",
    "print(f\"\"\"Surviving patients SSE:\n",
    "{y1_0}\n",
    "\"\"\")\n",
    "\n",
    "y1_1 = sse(df_1_g3[\"serum_sodium\"].values, df_1_g3[\"serum_creatinine\"].values, 1)\n",
    "print(f\"\"\"Deceased patients SSE:\n",
    "{y1_1}\n",
    "\"\"\")"
   ]
  },
  {
   "cell_type": "markdown",
   "metadata": {},
   "source": [
    "#### 2. y = ax2 + bx + c (quadratic)"
   ]
  },
  {
   "cell_type": "code",
   "execution_count": 53,
   "metadata": {},
   "outputs": [
    {
     "name": "stdout",
     "output_type": "stream",
     "text": [
      "Weights: [ 8.68480151e-04 -2.73661409e-01  2.22965498e+01]\n",
      "Surviving patients SSE:\n",
      "54.70529563746042\n",
      "\n",
      "Weights: [-2.57628743e-03  6.31294066e-01 -3.63139604e+01]\n",
      "deceased patients SSE:\n",
      "81.8891644020097\n",
      "\n"
     ]
    }
   ],
   "source": [
    "y2_0 = sse(df_0_g3[\"serum_sodium\"].values, df_0_g3[\"serum_creatinine\"].values, 2)\n",
    "print(f\"\"\"Surviving patients SSE:\n",
    "{y2_0}\n",
    "\"\"\")\n",
    "\n",
    "y2_1 = sse(df_1_g3[\"serum_sodium\"].values, df_1_g3[\"serum_creatinine\"].values, 2)\n",
    "print(f\"\"\"deceased patients SSE:\n",
    "{y2_1}\n",
    "\"\"\")"
   ]
  },
  {
   "cell_type": "markdown",
   "metadata": {},
   "source": [
    "#### 3. y = ax3 + bx2 + cx + d (cubic spline)"
   ]
  },
  {
   "cell_type": "code",
   "execution_count": 54,
   "metadata": {},
   "outputs": [
    {
     "name": "stdout",
     "output_type": "stream",
     "text": [
      "Weights: [ 3.51393518e-04 -1.36994959e-01  1.76914114e+01 -7.54986675e+02]\n",
      "Surviving patients SSE:\n",
      "53.94301459693621\n",
      "\n",
      "Weights: [-5.07086063e-05  1.73651777e-02 -1.97605342e+00  7.70157313e+01]\n",
      "deceased patients SSE:\n",
      "82.98481762537577\n",
      "\n"
     ]
    }
   ],
   "source": [
    "y3_0 = sse(df_0_g3[\"serum_sodium\"].values, df_0_g3[\"serum_creatinine\"].values, 3)\n",
    "print(f\"\"\"Surviving patients SSE:\n",
    "{y3_0}\n",
    "\"\"\")\n",
    "\n",
    "y3_1 = sse(df_1_g3[\"serum_sodium\"].values, df_1_g3[\"serum_creatinine\"].values, 3)\n",
    "print(f\"\"\"deceased patients SSE:\n",
    "{y3_1}\n",
    "\"\"\")"
   ]
  },
  {
   "cell_type": "markdown",
   "metadata": {},
   "source": [
    "#### 4. y = a log x + b (GLM - generalized linear model)"
   ]
  },
  {
   "cell_type": "code",
   "execution_count": 55,
   "metadata": {},
   "outputs": [
    {
     "name": "stdout",
     "output_type": "stream",
     "text": [
      "Weights: [-5.69581834 29.14068586]\n",
      "Surviving patients SSE:\n",
      "55.0538494345751\n",
      "\n",
      "Weights: [-6.43124927 33.42644397]\n",
      "deceased patients SSE:\n",
      "76.86008279375076\n",
      "\n"
     ]
    }
   ],
   "source": [
    "y4_0 = sse(np.log(df_0_g3[\"serum_sodium\"].values), df_0_g3[\"serum_creatinine\"].values, 1)\n",
    "print(f\"\"\"Surviving patients SSE:\n",
    "{y4_0}\n",
    "\"\"\")\n",
    "\n",
    "y4_1 = sse(np.log(df_1_g3[\"serum_sodium\"].values), df_1_g3[\"serum_creatinine\"].values, 1)\n",
    "print(f\"\"\"deceased patients SSE:\n",
    "{y4_1}\n",
    "\"\"\")"
   ]
  },
  {
   "cell_type": "markdown",
   "metadata": {},
   "source": [
    "#### 5. log y = a log x + b (GLM - generalized linear model)"
   ]
  },
  {
   "cell_type": "code",
   "execution_count": 56,
   "metadata": {},
   "outputs": [
    {
     "name": "stdout",
     "output_type": "stream",
     "text": [
      "Weights: [-3.20389717 15.8093994 ]\n",
      "Surviving patients SSE:\n",
      "16.292146139166928\n",
      "\n",
      "Weights: [-3.85655819 19.36151758]\n",
      "deceased patients SSE:\n",
      "12.795122201149123\n",
      "\n"
     ]
    }
   ],
   "source": [
    "y5_0 = sse(np.log(df_0_g3[\"serum_sodium\"].values), np.log(df_0_g3[\"serum_creatinine\"].values), 1)\n",
    "print(f\"\"\"Surviving patients SSE:\n",
    "{y5_0}\n",
    "\"\"\")\n",
    "\n",
    "y5_1 = sse(np.log(df_1_g3[\"serum_sodium\"].values), np.log(df_1_g3[\"serum_creatinine\"].values), 1)\n",
    "print(f\"\"\"deceased patients SSE:\n",
    "{y5_1}\n",
    "\"\"\")"
   ]
  },
  {
   "cell_type": "code",
   "execution_count": 57,
   "metadata": {},
   "outputs": [],
   "source": [
    "col = [\"y = ax + b\", \"y = ax2 + bx + c\", \"y = ax3 + bx2 + cx + d\", \"y = a log x + b\", \"log y = a log x + b\"]"
   ]
  },
  {
   "cell_type": "code",
   "execution_count": 58,
   "metadata": {},
   "outputs": [],
   "source": [
    "sur_sse = [y1_0, y2_0, y3_0, y4_0, y5_0]"
   ]
  },
  {
   "cell_type": "code",
   "execution_count": 59,
   "metadata": {},
   "outputs": [],
   "source": [
    "dec_sse = [y1_1, y2_1, y3_1, y4_1, y5_1]"
   ]
  },
  {
   "cell_type": "markdown",
   "metadata": {},
   "source": [
    "## Question 3"
   ]
  },
  {
   "cell_type": "markdown",
   "metadata": {},
   "source": [
    "#### Summarize your results from question 2 in a table like shown below:"
   ]
  },
  {
   "cell_type": "code",
   "execution_count": 60,
   "metadata": {},
   "outputs": [
    {
     "data": {
      "text/html": [
       "<div>\n",
       "<style scoped>\n",
       "    .dataframe tbody tr th:only-of-type {\n",
       "        vertical-align: middle;\n",
       "    }\n",
       "\n",
       "    .dataframe tbody tr th {\n",
       "        vertical-align: top;\n",
       "    }\n",
       "\n",
       "    .dataframe thead th {\n",
       "        text-align: right;\n",
       "    }\n",
       "</style>\n",
       "<table border=\"1\" class=\"dataframe\">\n",
       "  <thead>\n",
       "    <tr style=\"text-align: right;\">\n",
       "      <th></th>\n",
       "      <th>Model</th>\n",
       "      <th>SSE (death_event = 0)</th>\n",
       "      <th>SSE (death_event = 1)</th>\n",
       "    </tr>\n",
       "  </thead>\n",
       "  <tbody>\n",
       "    <tr>\n",
       "      <th>0</th>\n",
       "      <td>y = ax + b</td>\n",
       "      <td>55.1311</td>\n",
       "      <td>77.2285</td>\n",
       "    </tr>\n",
       "    <tr>\n",
       "      <th>1</th>\n",
       "      <td>y = ax2 + bx + c</td>\n",
       "      <td>54.7053</td>\n",
       "      <td>81.8892</td>\n",
       "    </tr>\n",
       "    <tr>\n",
       "      <th>2</th>\n",
       "      <td>y = ax3 + bx2 + cx + d</td>\n",
       "      <td>53.943</td>\n",
       "      <td>82.9848</td>\n",
       "    </tr>\n",
       "    <tr>\n",
       "      <th>3</th>\n",
       "      <td>y = a log x + b</td>\n",
       "      <td>55.0538</td>\n",
       "      <td>76.8601</td>\n",
       "    </tr>\n",
       "    <tr>\n",
       "      <th>4</th>\n",
       "      <td>log y = a log x + b</td>\n",
       "      <td>16.2921</td>\n",
       "      <td>12.7951</td>\n",
       "    </tr>\n",
       "  </tbody>\n",
       "</table>\n",
       "</div>"
      ],
      "text/plain": [
       "                    Model SSE (death_event = 0) SSE (death_event = 1)\n",
       "0              y = ax + b               55.1311               77.2285\n",
       "1        y = ax2 + bx + c               54.7053               81.8892\n",
       "2  y = ax3 + bx2 + cx + d                53.943               82.9848\n",
       "3         y = a log x + b               55.0538               76.8601\n",
       "4     log y = a log x + b               16.2921               12.7951"
      ]
     },
     "execution_count": 60,
     "metadata": {},
     "output_type": "execute_result"
    }
   ],
   "source": [
    "pd.DataFrame([col, sur_sse, dec_sse], index = [\"Model\", \"SSE (death_event = 0)\", \"SSE (death_event = 1)\"]).T"
   ]
  },
  {
   "cell_type": "markdown",
   "metadata": {},
   "source": [
    "#### 1. which model was the best (smallest SSE) for surviving patients? for deceased patients?"
   ]
  },
  {
   "cell_type": "markdown",
   "metadata": {},
   "source": [
    "The best model for both Surviving and deceased patients was : <font color=green>__log y = a log x + b__</font>"
   ]
  },
  {
   "cell_type": "markdown",
   "metadata": {},
   "source": [
    "#### 2. which model was the worst (largest SSE) for surving patients? for deceased patients?"
   ]
  },
  {
   "cell_type": "markdown",
   "metadata": {},
   "source": [
    "* The worst model for Surviving patients was : <font color=red>__y = ax + b__</font>\n",
    "* The worst model for deceased patients was : <font color=red>__y = ax3 + bx2 + cx + d__</font>"
   ]
  }
 ],
 "metadata": {
  "kernelspec": {
   "display_name": "Python 3",
   "language": "python",
   "name": "python3"
  },
  "language_info": {
   "codemirror_mode": {
    "name": "ipython",
    "version": 3
   },
   "file_extension": ".py",
   "mimetype": "text/x-python",
   "name": "python",
   "nbconvert_exporter": "python",
   "pygments_lexer": "ipython3",
   "version": "3.8.5"
  }
 },
 "nbformat": 4,
 "nbformat_minor": 4
}
