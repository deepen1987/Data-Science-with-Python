{
 "cells": [
  {
   "cell_type": "code",
   "execution_count": 332,
   "id": "30a78f72",
   "metadata": {},
   "outputs": [],
   "source": [
    "import pandas as pd \n",
    "import numpy as np\n",
    "import matplotlib as plt\n",
    "import seaborn as sns\n",
    "from sklearn.metrics import confusion_matrix\n",
    "from sklearn.model_selection import train_test_split\n",
    "from sklearn.preprocessing import StandardScaler\n",
    "from sklearn.neighbors import KNeighborsClassifier\n",
    "from sklearn.linear_model import LogisticRegression\n",
    "from sklearn.linear_model import LinearRegression\n",
    "from sklearn.preprocessing import StandardScaler,LabelEncoder"
   ]
  },
  {
   "cell_type": "code",
   "execution_count": 333,
   "id": "54c2a21d",
   "metadata": {},
   "outputs": [
    {
     "data": {
      "text/html": [
       "<div>\n",
       "<style scoped>\n",
       "    .dataframe tbody tr th:only-of-type {\n",
       "        vertical-align: middle;\n",
       "    }\n",
       "\n",
       "    .dataframe tbody tr th {\n",
       "        vertical-align: top;\n",
       "    }\n",
       "\n",
       "    .dataframe thead th {\n",
       "        text-align: right;\n",
       "    }\n",
       "</style>\n",
       "<table border=\"1\" class=\"dataframe\">\n",
       "  <thead>\n",
       "    <tr style=\"text-align: right;\">\n",
       "      <th></th>\n",
       "      <th>Year</th>\n",
       "      <th>Week_Number</th>\n",
       "      <th>mean_return</th>\n",
       "      <th>volatility</th>\n",
       "      <th>label</th>\n",
       "    </tr>\n",
       "  </thead>\n",
       "  <tbody>\n",
       "    <tr>\n",
       "      <th>0</th>\n",
       "      <td>2019</td>\n",
       "      <td>0</td>\n",
       "      <td>-0.1050</td>\n",
       "      <td>3.594650</td>\n",
       "      <td>0</td>\n",
       "    </tr>\n",
       "    <tr>\n",
       "      <th>1</th>\n",
       "      <td>2019</td>\n",
       "      <td>1</td>\n",
       "      <td>0.6532</td>\n",
       "      <td>1.153409</td>\n",
       "      <td>1</td>\n",
       "    </tr>\n",
       "    <tr>\n",
       "      <th>2</th>\n",
       "      <td>2019</td>\n",
       "      <td>2</td>\n",
       "      <td>0.7326</td>\n",
       "      <td>1.198802</td>\n",
       "      <td>1</td>\n",
       "    </tr>\n",
       "    <tr>\n",
       "      <th>3</th>\n",
       "      <td>2019</td>\n",
       "      <td>3</td>\n",
       "      <td>0.0735</td>\n",
       "      <td>1.593999</td>\n",
       "      <td>0</td>\n",
       "    </tr>\n",
       "    <tr>\n",
       "      <th>4</th>\n",
       "      <td>2019</td>\n",
       "      <td>4</td>\n",
       "      <td>-0.3746</td>\n",
       "      <td>2.056743</td>\n",
       "      <td>0</td>\n",
       "    </tr>\n",
       "  </tbody>\n",
       "</table>\n",
       "</div>"
      ],
      "text/plain": [
       "   Year  Week_Number  mean_return  volatility  label\n",
       "0  2019            0      -0.1050    3.594650      0\n",
       "1  2019            1       0.6532    1.153409      1\n",
       "2  2019            2       0.7326    1.198802      1\n",
       "3  2019            3       0.0735    1.593999      0\n",
       "4  2019            4      -0.3746    2.056743      0"
      ]
     },
     "execution_count": 333,
     "metadata": {},
     "output_type": "execute_result"
    }
   ],
   "source": [
    "df_weekly = pd.read_csv(\"SAP_weekly_return_volatility.csv\")\n",
    "df_weekly.head(5)"
   ]
  },
  {
   "cell_type": "code",
   "execution_count": 334,
   "id": "6d69d9be",
   "metadata": {},
   "outputs": [
    {
     "data": {
      "text/html": [
       "<div>\n",
       "<style scoped>\n",
       "    .dataframe tbody tr th:only-of-type {\n",
       "        vertical-align: middle;\n",
       "    }\n",
       "\n",
       "    .dataframe tbody tr th {\n",
       "        vertical-align: top;\n",
       "    }\n",
       "\n",
       "    .dataframe thead th {\n",
       "        text-align: right;\n",
       "    }\n",
       "</style>\n",
       "<table border=\"1\" class=\"dataframe\">\n",
       "  <thead>\n",
       "    <tr style=\"text-align: right;\">\n",
       "      <th></th>\n",
       "      <th>High</th>\n",
       "      <th>Low</th>\n",
       "      <th>Open</th>\n",
       "      <th>Close</th>\n",
       "      <th>Volume</th>\n",
       "      <th>Adj Close</th>\n",
       "      <th>Return</th>\n",
       "      <th>Date</th>\n",
       "      <th>Week_Number</th>\n",
       "      <th>Year</th>\n",
       "      <th>Day</th>\n",
       "      <th>Weekday</th>\n",
       "      <th>mean_return</th>\n",
       "      <th>volatility</th>\n",
       "    </tr>\n",
       "  </thead>\n",
       "  <tbody>\n",
       "    <tr>\n",
       "      <th>0</th>\n",
       "      <td>99.559998</td>\n",
       "      <td>98.339996</td>\n",
       "      <td>98.570000</td>\n",
       "      <td>99.180000</td>\n",
       "      <td>506300.0</td>\n",
       "      <td>94.896118</td>\n",
       "      <td>0.000</td>\n",
       "      <td>2019-01-02</td>\n",
       "      <td>0</td>\n",
       "      <td>2019</td>\n",
       "      <td>2</td>\n",
       "      <td>Wednesday</td>\n",
       "      <td>-0.1050</td>\n",
       "      <td>3.594650</td>\n",
       "    </tr>\n",
       "    <tr>\n",
       "      <th>1</th>\n",
       "      <td>96.830002</td>\n",
       "      <td>95.449997</td>\n",
       "      <td>96.730003</td>\n",
       "      <td>95.459999</td>\n",
       "      <td>807800.0</td>\n",
       "      <td>91.336800</td>\n",
       "      <td>-3.751</td>\n",
       "      <td>2019-01-03</td>\n",
       "      <td>0</td>\n",
       "      <td>2019</td>\n",
       "      <td>3</td>\n",
       "      <td>Thursday</td>\n",
       "      <td>-0.1050</td>\n",
       "      <td>3.594650</td>\n",
       "    </tr>\n",
       "    <tr>\n",
       "      <th>2</th>\n",
       "      <td>99.199997</td>\n",
       "      <td>96.910004</td>\n",
       "      <td>97.339996</td>\n",
       "      <td>98.739998</td>\n",
       "      <td>1038100.0</td>\n",
       "      <td>94.475128</td>\n",
       "      <td>3.436</td>\n",
       "      <td>2019-01-04</td>\n",
       "      <td>0</td>\n",
       "      <td>2019</td>\n",
       "      <td>4</td>\n",
       "      <td>Friday</td>\n",
       "      <td>-0.1050</td>\n",
       "      <td>3.594650</td>\n",
       "    </tr>\n",
       "    <tr>\n",
       "      <th>3</th>\n",
       "      <td>100.190002</td>\n",
       "      <td>98.760002</td>\n",
       "      <td>99.440002</td>\n",
       "      <td>99.709999</td>\n",
       "      <td>861600.0</td>\n",
       "      <td>95.403229</td>\n",
       "      <td>0.982</td>\n",
       "      <td>2019-01-07</td>\n",
       "      <td>1</td>\n",
       "      <td>2019</td>\n",
       "      <td>7</td>\n",
       "      <td>Monday</td>\n",
       "      <td>0.6532</td>\n",
       "      <td>1.153409</td>\n",
       "    </tr>\n",
       "    <tr>\n",
       "      <th>4</th>\n",
       "      <td>101.480003</td>\n",
       "      <td>100.430000</td>\n",
       "      <td>101.370003</td>\n",
       "      <td>101.269997</td>\n",
       "      <td>548600.0</td>\n",
       "      <td>96.895844</td>\n",
       "      <td>1.565</td>\n",
       "      <td>2019-01-08</td>\n",
       "      <td>1</td>\n",
       "      <td>2019</td>\n",
       "      <td>8</td>\n",
       "      <td>Tuesday</td>\n",
       "      <td>0.6532</td>\n",
       "      <td>1.153409</td>\n",
       "    </tr>\n",
       "  </tbody>\n",
       "</table>\n",
       "</div>"
      ],
      "text/plain": [
       "         High         Low        Open       Close     Volume  Adj Close  \\\n",
       "0   99.559998   98.339996   98.570000   99.180000   506300.0  94.896118   \n",
       "1   96.830002   95.449997   96.730003   95.459999   807800.0  91.336800   \n",
       "2   99.199997   96.910004   97.339996   98.739998  1038100.0  94.475128   \n",
       "3  100.190002   98.760002   99.440002   99.709999   861600.0  95.403229   \n",
       "4  101.480003  100.430000  101.370003  101.269997   548600.0  96.895844   \n",
       "\n",
       "   Return        Date  Week_Number  Year  Day    Weekday  mean_return  \\\n",
       "0   0.000  2019-01-02            0  2019    2  Wednesday      -0.1050   \n",
       "1  -3.751  2019-01-03            0  2019    3   Thursday      -0.1050   \n",
       "2   3.436  2019-01-04            0  2019    4     Friday      -0.1050   \n",
       "3   0.982  2019-01-07            1  2019    7     Monday       0.6532   \n",
       "4   1.565  2019-01-08            1  2019    8    Tuesday       0.6532   \n",
       "\n",
       "   volatility  \n",
       "0    3.594650  \n",
       "1    3.594650  \n",
       "2    3.594650  \n",
       "3    1.153409  \n",
       "4    1.153409  "
      ]
     },
     "execution_count": 334,
     "metadata": {},
     "output_type": "execute_result"
    }
   ],
   "source": [
    "df_daily = pd.read_csv(\"SAP_weekly_return_volatility_detailed.csv\")\n",
    "df_daily.head(5)"
   ]
  },
  {
   "cell_type": "code",
   "execution_count": 335,
   "id": "9dbc94ce",
   "metadata": {},
   "outputs": [],
   "source": [
    "df_week_2019 = df_weekly[df_weekly[\"Year\"] == 2019].reset_index(drop = True)\n",
    "df_week_2020 = df_weekly[df_weekly[\"Year\"] == 2020].reset_index(drop = True)"
   ]
  },
  {
   "cell_type": "markdown",
   "id": "311227d6",
   "metadata": {},
   "source": [
    "### 1. compute the contributions of μ and σ for logistic regression, Euclidean kNN and (degree 1) linear model. Summarize them in a table and discuss your findings."
   ]
  },
  {
   "cell_type": "markdown",
   "id": "05b3323f",
   "metadata": {},
   "source": [
    "### KNN"
   ]
  },
  {
   "cell_type": "code",
   "execution_count": 336,
   "id": "cbdb7c2e",
   "metadata": {},
   "outputs": [],
   "source": [
    "def knn_label(x_train_knn,y_train_knn,x_test_knn,y_test_knn, k):  \n",
    "    x = x_train_knn.values\n",
    "    y = y_train_knn.values\n",
    "    \n",
    "    scaler = StandardScaler().fit(x)\n",
    "    x = scaler.transform(x)\n",
    "    \n",
    "    neigh = KNeighborsClassifier(n_neighbors = k)\n",
    "    neigh.fit(x,y)\n",
    "    \n",
    "    new_scaled_x_test = scaler.transform(x_test_knn)\n",
    "    y_predict = neigh.predict(new_scaled_x_test)\n",
    "    acc = round(np.mean(y_test_knn.values == y_predict) * 100,2)\n",
    "    \n",
    "    return [acc]"
   ]
  },
  {
   "cell_type": "code",
   "execution_count": 337,
   "id": "93e2f0cf",
   "metadata": {},
   "outputs": [
    {
     "data": {
      "text/plain": [
       "86.79"
      ]
     },
     "execution_count": 337,
     "metadata": {},
     "output_type": "execute_result"
    }
   ],
   "source": [
    "x_knn_train_mv = df_week_2019[[\"mean_return\",\"volatility\"]]\n",
    "y_knn_train_mv = df_week_2019[\"label\"]\n",
    "\n",
    "x_knn_test_mv = df_week_2020[[\"mean_return\",\"volatility\"]]\n",
    "\n",
    "y_knn_test_mv = df_week_2020[\"label\"]\n",
    "\n",
    "knn_ret_mv_acc = knn_label(x_knn_train_mv, y_knn_train_mv, x_knn_test_mv ,y_knn_test_mv, 3)\n",
    "knn_ret_mv_acc[0]"
   ]
  },
  {
   "cell_type": "code",
   "execution_count": 338,
   "id": "0e404186",
   "metadata": {},
   "outputs": [
    {
     "data": {
      "text/plain": [
       "84.91"
      ]
     },
     "execution_count": 338,
     "metadata": {},
     "output_type": "execute_result"
    }
   ],
   "source": [
    "x_knn_train_m = df_week_2019[[\"mean_return\"]]\n",
    "y_knn_train_m = df_week_2019[\"label\"]\n",
    "\n",
    "x_knn_test_m = df_week_2020[[\"mean_return\"]]\n",
    "\n",
    "y_knn_test_m = df_week_2020[\"label\"]\n",
    "\n",
    "knn_ret_m_acc = knn_label(x_knn_train_m, y_knn_train_m, x_knn_test_m ,y_knn_test_m, 3)\n",
    "knn_ret_m_acc[0]"
   ]
  },
  {
   "cell_type": "code",
   "execution_count": 339,
   "id": "76e94589",
   "metadata": {},
   "outputs": [
    {
     "data": {
      "text/plain": [
       "66.04"
      ]
     },
     "execution_count": 339,
     "metadata": {},
     "output_type": "execute_result"
    }
   ],
   "source": [
    "x_knn_train_v = df_week_2019[[\"volatility\"]]\n",
    "y_knn_train_v = df_week_2019[\"label\"]\n",
    "\n",
    "x_knn_test_v = df_week_2020[[\"volatility\"]]\n",
    "\n",
    "y_knn_test_v = df_week_2020[\"label\"]\n",
    "\n",
    "knn_ret_v_acc = knn_label(x_knn_train_v, y_knn_train_v, x_knn_test_v ,y_knn_test_v, 3)\n",
    "knn_ret_v_acc[0]"
   ]
  },
  {
   "cell_type": "markdown",
   "id": "23103002",
   "metadata": {},
   "source": [
    "### Logistic Regression"
   ]
  },
  {
   "cell_type": "code",
   "execution_count": 340,
   "id": "c2c03643",
   "metadata": {},
   "outputs": [],
   "source": [
    "def lr_prediction(x_train_lr, y_train_lr, x_test_lr, y_test_lr):   \n",
    "    x_lr = x_train_lr.values\n",
    "    y_lr = y_train_lr.values\n",
    "    \n",
    "    scaler_lr = StandardScaler().fit(x_lr)\n",
    "    x_lr = scaler_lr.transform(x_lr)\n",
    "    \n",
    "    log_reg_clss = LogisticRegression()\n",
    "    log_reg_clss.fit(x_lr,y_lr)\n",
    "    \n",
    "    new_scaled_x_lr = scaler_lr.transform(np.asmatrix(x_test_lr))\n",
    "    p_lr = log_reg_clss.predict(new_scaled_x_lr)\n",
    "    acc_lr = round(log_reg_clss.score(x_lr, y_lr) * 100,2)\n",
    "    \n",
    "    return [y_test_lr.values,p_lr,acc_lr] "
   ]
  },
  {
   "cell_type": "code",
   "execution_count": 341,
   "id": "134cf110",
   "metadata": {},
   "outputs": [
    {
     "data": {
      "text/plain": [
       "86.79"
      ]
     },
     "execution_count": 341,
     "metadata": {},
     "output_type": "execute_result"
    }
   ],
   "source": [
    "x_lr_train_mv = df_week_2019[[\"mean_return\",\"volatility\"]]\n",
    "y_lr_train_mv = df_week_2019[\"label\"]\n",
    "\n",
    "x_lr_test_mv = df_week_2020[[\"mean_return\",\"volatility\"]]\n",
    "\n",
    "y_lr_test_mv = df_week_2020[\"label\"]\n",
    "\n",
    "lr_mv_acc = lr_prediction(x_lr_train_mv, y_lr_train_mv, x_lr_test_mv ,y_lr_test_mv)[-1]\n",
    "lr_mv_acc"
   ]
  },
  {
   "cell_type": "code",
   "execution_count": 342,
   "id": "decdfee7",
   "metadata": {},
   "outputs": [
    {
     "data": {
      "text/plain": [
       "71.7"
      ]
     },
     "execution_count": 342,
     "metadata": {},
     "output_type": "execute_result"
    }
   ],
   "source": [
    "x_lr_train_m = df_week_2019[[\"mean_return\"]]\n",
    "y_lr_train_m = df_week_2019[\"label\"]\n",
    "\n",
    "x_lr_test_m = df_week_2020[[\"mean_return\"]]\n",
    "\n",
    "y_lr_test_m = df_week_2020[\"label\"]\n",
    "\n",
    "lr_m_acc = lr_prediction(x_lr_train_m, y_lr_train_m, x_lr_test_m ,y_lr_test_m)[-1]\n",
    "lr_m_acc"
   ]
  },
  {
   "cell_type": "code",
   "execution_count": 343,
   "id": "3021d192",
   "metadata": {},
   "outputs": [
    {
     "data": {
      "text/plain": [
       "64.15"
      ]
     },
     "execution_count": 343,
     "metadata": {},
     "output_type": "execute_result"
    }
   ],
   "source": [
    "x_lr_train_v = df_week_2019[[\"volatility\"]]\n",
    "y_lr_train_v = df_week_2019[\"label\"]\n",
    "\n",
    "x_lr_test_v = df_week_2020[[\"volatility\"]]\n",
    "\n",
    "y_lr_test_v = df_week_2020[\"label\"]\n",
    "\n",
    "lr_v_acc = lr_prediction(x_lr_train_v, y_lr_train_v, x_lr_test_v ,y_lr_test_v)[-1]\n",
    "lr_v_acc"
   ]
  },
  {
   "cell_type": "markdown",
   "id": "5a61f017",
   "metadata": {},
   "source": [
    "### Linear regression"
   ]
  },
  {
   "cell_type": "code",
   "execution_count": 344,
   "id": "96b9f8a4",
   "metadata": {},
   "outputs": [],
   "source": [
    "def linn_regg(x_train_lir, y_train_lir, x_test_lir):\n",
    "    x = x_train_lir\n",
    "    y = y_train_lir\n",
    "    \n",
    "    lin_reg = LinearRegression( fit_intercept = True )\n",
    "    lin_reg.fit(x , y)\n",
    "    prediction = lin_reg.predict(x_test_lir)\n",
    "    \n",
    "    return prediction"
   ]
  },
  {
   "cell_type": "code",
   "execution_count": 345,
   "id": "6d4fc4ba",
   "metadata": {},
   "outputs": [],
   "source": [
    "x_li_train_mv = df_week_2019[[\"mean_return\",\"volatility\"]].values\n",
    "y_li_train_mv = np.array(df_week_2019[\"label\"])\n",
    "\n",
    "x_li_test_mv = df_week_2020[[\"mean_return\",\"volatility\"]].values\n",
    "\n",
    "y_li_test_mv = np.array(df_week_2020[\"label\"])\n",
    "\n",
    "li_ret_mv = linn_regg(x_li_train_mv, y_li_train_mv, x_li_test_mv)\n",
    "li_mv_acc = round(np.mean(y_li_test_mv == li_ret_mv) * 100,2)\n"
   ]
  },
  {
   "cell_type": "markdown",
   "id": "8b3ebc16",
   "metadata": {},
   "source": [
    "### 2. take IRIS dataset."
   ]
  },
  {
   "cell_type": "code",
   "execution_count": 346,
   "id": "8a1c959a",
   "metadata": {},
   "outputs": [
    {
     "data": {
      "text/html": [
       "<div>\n",
       "<style scoped>\n",
       "    .dataframe tbody tr th:only-of-type {\n",
       "        vertical-align: middle;\n",
       "    }\n",
       "\n",
       "    .dataframe tbody tr th {\n",
       "        vertical-align: top;\n",
       "    }\n",
       "\n",
       "    .dataframe thead th {\n",
       "        text-align: right;\n",
       "    }\n",
       "</style>\n",
       "<table border=\"1\" class=\"dataframe\">\n",
       "  <thead>\n",
       "    <tr style=\"text-align: right;\">\n",
       "      <th></th>\n",
       "      <th>Id</th>\n",
       "      <th>SepalLengthCm</th>\n",
       "      <th>SepalWidthCm</th>\n",
       "      <th>PetalLengthCm</th>\n",
       "      <th>PetalWidthCm</th>\n",
       "      <th>Species</th>\n",
       "    </tr>\n",
       "  </thead>\n",
       "  <tbody>\n",
       "    <tr>\n",
       "      <th>0</th>\n",
       "      <td>1</td>\n",
       "      <td>5.1</td>\n",
       "      <td>3.5</td>\n",
       "      <td>1.4</td>\n",
       "      <td>0.2</td>\n",
       "      <td>Iris-setosa</td>\n",
       "    </tr>\n",
       "    <tr>\n",
       "      <th>1</th>\n",
       "      <td>2</td>\n",
       "      <td>4.9</td>\n",
       "      <td>3.0</td>\n",
       "      <td>1.4</td>\n",
       "      <td>0.2</td>\n",
       "      <td>Iris-setosa</td>\n",
       "    </tr>\n",
       "    <tr>\n",
       "      <th>2</th>\n",
       "      <td>3</td>\n",
       "      <td>4.7</td>\n",
       "      <td>3.2</td>\n",
       "      <td>1.3</td>\n",
       "      <td>0.2</td>\n",
       "      <td>Iris-setosa</td>\n",
       "    </tr>\n",
       "    <tr>\n",
       "      <th>3</th>\n",
       "      <td>4</td>\n",
       "      <td>4.6</td>\n",
       "      <td>3.1</td>\n",
       "      <td>1.5</td>\n",
       "      <td>0.2</td>\n",
       "      <td>Iris-setosa</td>\n",
       "    </tr>\n",
       "    <tr>\n",
       "      <th>4</th>\n",
       "      <td>5</td>\n",
       "      <td>5.0</td>\n",
       "      <td>3.6</td>\n",
       "      <td>1.4</td>\n",
       "      <td>0.2</td>\n",
       "      <td>Iris-setosa</td>\n",
       "    </tr>\n",
       "  </tbody>\n",
       "</table>\n",
       "</div>"
      ],
      "text/plain": [
       "   Id  SepalLengthCm  SepalWidthCm  PetalLengthCm  PetalWidthCm      Species\n",
       "0   1            5.1           3.5            1.4           0.2  Iris-setosa\n",
       "1   2            4.9           3.0            1.4           0.2  Iris-setosa\n",
       "2   3            4.7           3.2            1.3           0.2  Iris-setosa\n",
       "3   4            4.6           3.1            1.5           0.2  Iris-setosa\n",
       "4   5            5.0           3.6            1.4           0.2  Iris-setosa"
      ]
     },
     "execution_count": 346,
     "metadata": {},
     "output_type": "execute_result"
    }
   ],
   "source": [
    "df_iris = pd.read_csv(\"Iris.csv\")\n",
    "df_iris.head(5)"
   ]
  },
  {
   "cell_type": "code",
   "execution_count": 347,
   "id": "e9407a3d",
   "metadata": {},
   "outputs": [],
   "source": [
    "df_setosa = df_iris.copy().reset_index(drop = True)\n",
    "df_setosa[\"label\"] = np.where(df_setosa[\"Species\"] == \"Iris-setosa\",1,0)\n",
    "\n",
    "df_virginica = df_iris.copy().reset_index(drop = True)\n",
    "df_virginica[\"label\"] = np.where(df_setosa[\"Species\"] == \"Iris-virginica\",1,0)\n",
    "\n",
    "df_versicolor = df_iris.copy().reset_index(drop = True)\n",
    "df_versicolor[\"label\"] = np.where(df_setosa[\"Species\"] == \"Iris-versicolor\",1,0)"
   ]
  },
  {
   "cell_type": "markdown",
   "id": "07ee6568",
   "metadata": {},
   "source": [
    "### Logistic Regression for IRIS"
   ]
  },
  {
   "cell_type": "code",
   "execution_count": 348,
   "id": "7e590543",
   "metadata": {},
   "outputs": [],
   "source": [
    "def data_split(tts):\n",
    "    x_train, x_test, y_train, y_test = tts\n",
    "    return [x_train, y_train, x_test, y_test]"
   ]
  },
  {
   "cell_type": "code",
   "execution_count": 349,
   "id": "61a64837",
   "metadata": {},
   "outputs": [
    {
     "data": {
      "text/plain": [
       "100.0"
      ]
     },
     "execution_count": 349,
     "metadata": {},
     "output_type": "execute_result"
    }
   ],
   "source": [
    "setosa = data_split(train_test_split(df_setosa[[\"SepalLengthCm\",\"SepalWidthCm\",\"PetalLengthCm\",\"PetalWidthCm\"]],\\\n",
    "                                     df_setosa[\"label\"], test_size = 0.5,random_state=0))\n",
    "setosa_acc = lr_prediction(setosa[0],setosa[1],setosa[2],setosa[3])\n",
    "setosa_acc[2]"
   ]
  },
  {
   "cell_type": "markdown",
   "id": "8c5a831d",
   "metadata": {},
   "source": [
    "#### Setosa's calculation"
   ]
  },
  {
   "cell_type": "code",
   "execution_count": 350,
   "id": "ce7cd0aa",
   "metadata": {},
   "outputs": [],
   "source": [
    "setosa_sl = data_split(train_test_split(df_setosa[[\"SepalWidthCm\",\"PetalLengthCm\",\"PetalWidthCm\"]],\\\n",
    "                                     df_setosa[\"label\"], test_size = 0.5,random_state=0))\n",
    "setosa_sl_acc = lr_prediction(setosa_sl[0],setosa_sl[1],setosa_sl[2],setosa_sl[3])\n",
    "\n",
    "setosa_sw = data_split(train_test_split(df_setosa[[\"SepalLengthCm\",\"PetalLengthCm\",\"PetalWidthCm\"]],\\\n",
    "                                     df_setosa[\"label\"], test_size = 0.5,random_state=0))\n",
    "setosa_sw_acc = lr_prediction(setosa_sw[0],setosa_sw[1],setosa_sw[2],setosa_sw[3])\n",
    "\n",
    "setosa_pl = data_split(train_test_split(df_setosa[[\"SepalLengthCm\",\"SepalWidthCm\",\"PetalWidthCm\"]],\\\n",
    "                                     df_setosa[\"label\"], test_size = 0.5,random_state=0))\n",
    "setosa_pl_acc = lr_prediction(setosa_pl[0],setosa_pl[1],setosa_pl[2],setosa_pl[3])\n",
    "\n",
    "setosa_pw = data_split(train_test_split(df_setosa[[\"SepalLengthCm\",\"SepalWidthCm\",\"PetalLengthCm\"]],\\\n",
    "                                     df_setosa[\"label\"], test_size = 0.5,random_state=0))\n",
    "setosa_pw_acc = lr_prediction(setosa_pw[0],setosa_pw[1],setosa_pw[2],setosa_pw[3])"
   ]
  },
  {
   "cell_type": "code",
   "execution_count": 367,
   "id": "f39d8d1c",
   "metadata": {},
   "outputs": [],
   "source": [
    "s_sl = setosa_acc[2] - setosa_sl_acc[2]\n",
    "s_sw = setosa_acc[2] - setosa_sw_acc[2]\n",
    "s_pl = setosa_acc[2] - setosa_pl_acc[2]\n",
    "s_pw = setosa_acc[2] - setosa_pw_acc[2]\n",
    "s_list = [s_sl,s_sw,s_pl,s_pw]\n",
    "\n",
    "s_list_per = [setosa_acc[2],setosa_sl_acc[2],setosa_sw_acc[2],setosa_pl_acc[2],setosa_pw_acc[2]]"
   ]
  },
  {
   "cell_type": "markdown",
   "id": "a82e88df",
   "metadata": {},
   "source": [
    "#### Virginica calculations"
   ]
  },
  {
   "cell_type": "code",
   "execution_count": 352,
   "id": "92f907c4",
   "metadata": {},
   "outputs": [],
   "source": [
    "virginica = data_split(train_test_split(df_virginica[[\"SepalLengthCm\",\"SepalWidthCm\",\"PetalLengthCm\",\"PetalWidthCm\"]],\\\n",
    "                                     df_virginica[\"label\"], test_size = 0.5,random_state=0))\n",
    "virginica_acc = lr_prediction(virginica[0],virginica[1],virginica[2],virginica[3])\n",
    "\n",
    "virginica_sl = data_split(train_test_split(df_virginica[[\"SepalWidthCm\",\"PetalLengthCm\",\"PetalWidthCm\"]],\\\n",
    "                                     df_virginica[\"label\"], test_size = 0.5,random_state=0))\n",
    "virginica_sl_acc = lr_prediction(virginica_sl[0],virginica_sl[1],virginica_sl[2],virginica_sl[3])\n",
    "\n",
    "virginica_sw = data_split(train_test_split(df_virginica[[\"SepalLengthCm\",\"PetalLengthCm\",\"PetalWidthCm\"]],\\\n",
    "                                     df_virginica[\"label\"], test_size = 0.5,random_state=0))\n",
    "virginica_sw_acc = lr_prediction(virginica_sw[0],virginica_sw[1],virginica_sw[2],virginica_sw[3])\n",
    "\n",
    "virginica_pl = data_split(train_test_split(df_virginica[[\"SepalLengthCm\",\"SepalWidthCm\",\"PetalWidthCm\"]],\\\n",
    "                                     df_virginica[\"label\"], test_size = 0.5,random_state=0))\n",
    "virginica_pl_acc = lr_prediction(virginica_pl[0],virginica_pl[1],virginica_pl[2],virginica_pl[3])\n",
    "\n",
    "virginica_pw = data_split(train_test_split(df_virginica[[\"SepalLengthCm\",\"SepalWidthCm\",\"PetalLengthCm\"]],\\\n",
    "                                     df_virginica[\"label\"], test_size = 0.5,random_state=0))\n",
    "virginica_pw_acc = lr_prediction(virginica_pw[0],virginica_pw[1],virginica_pw[2],virginica_pw[3])\n"
   ]
  },
  {
   "cell_type": "code",
   "execution_count": 366,
   "id": "d8c782e8",
   "metadata": {},
   "outputs": [],
   "source": [
    "vi_sl = virginica_acc[2] - virginica_sl_acc[2]\n",
    "vi_sw = virginica_acc[2] - virginica_sw_acc[2]\n",
    "vi_pl = virginica_acc[2] - virginica_pl_acc[2]\n",
    "vi_pw = virginica_acc[2] - virginica_pw_acc[2]\n",
    "v_list = [vi_sl,vi_sw,vi_pl,vi_pw]\n",
    "\n",
    "v_list_per = [virginica_acc[2],virginica_sl_acc[2],virginica_sw_acc[2],virginica_pl_acc[2],virginica_pw_acc[2]]"
   ]
  },
  {
   "cell_type": "code",
   "execution_count": 354,
   "id": "cd077593",
   "metadata": {},
   "outputs": [],
   "source": [
    "versicolor = data_split(train_test_split(df_versicolor[[\"SepalLengthCm\",\"SepalWidthCm\",\"PetalLengthCm\",\"PetalWidthCm\"]],\\\n",
    "                                     df_versicolor[\"label\"], test_size = 0.5,random_state=0))\n",
    "versicolor_acc = lr_prediction(versicolor[0],versicolor[1],versicolor[2],versicolor[3])\n",
    "\n",
    "versicolor_sl = data_split(train_test_split(df_versicolor[[\"SepalWidthCm\",\"PetalLengthCm\",\"PetalWidthCm\"]],\\\n",
    "                                     df_versicolor[\"label\"], test_size = 0.5,random_state=0))\n",
    "versicolor_sl_acc = lr_prediction(versicolor_sl[0],versicolor_sl[1],versicolor_sl[2],versicolor_sl[3])\n",
    "\n",
    "versicolor_sw = data_split(train_test_split(df_versicolor[[\"SepalLengthCm\",\"PetalLengthCm\",\"PetalWidthCm\"]],\\\n",
    "                                     df_versicolor[\"label\"], test_size = 0.5,random_state=0))\n",
    "versicolor_sw_acc = lr_prediction(versicolor_sw[0],versicolor_sw[1],versicolor_sw[2],versicolor_sw[3])\n",
    "\n",
    "versicolor_pl = data_split(train_test_split(df_versicolor[[\"SepalLengthCm\",\"SepalWidthCm\",\"PetalWidthCm\"]],\\\n",
    "                                     df_versicolor[\"label\"], test_size = 0.5,random_state=0))\n",
    "versicolor_pl_acc = lr_prediction(versicolor_pl[0],versicolor_pl[1],versicolor_pl[2],versicolor_pl[3])\n",
    "\n",
    "versicolor_pw = data_split(train_test_split(df_versicolor[[\"SepalLengthCm\",\"SepalWidthCm\",\"PetalLengthCm\"]],\\\n",
    "                                     df_versicolor[\"label\"], test_size = 0.5,random_state=0))\n",
    "versicolor_pw_acc = lr_prediction(versicolor_pw[0],versicolor_pw[1],versicolor_pw[2],versicolor_pw[3])\n"
   ]
  },
  {
   "cell_type": "code",
   "execution_count": 365,
   "id": "db374a45",
   "metadata": {},
   "outputs": [],
   "source": [
    "ve_sl = versicolor_acc[2] - versicolor_sl_acc[2]\n",
    "ve_sw = versicolor_acc[2] - versicolor_sw_acc[2]\n",
    "ve_pl = versicolor_acc[2] - versicolor_pl_acc[2]\n",
    "ve_pw = versicolor_acc[2] - versicolor_pw_acc[2]\n",
    "ve_list = [ve_sl,ve_sw,ve_pl,ve_pw]\n",
    "\n",
    "ve_list_per = [versicolor_acc[2],versicolor_sl_acc[2],versicolor_sw_acc[2],versicolor_pl_acc[2],versicolor_pw_acc[2]]"
   ]
  },
  {
   "cell_type": "code",
   "execution_count": 370,
   "id": "9ab01622",
   "metadata": {},
   "outputs": [],
   "source": [
    "flower = [\"Sepal Length\",\"Sepal Width\",\"Petal Length\",\"Petal Width\"]\n",
    "marginal = pd.DataFrame([flower,s_list,v_list,ve_list], index = [\"Flower\",\"Setosa\",\"Virginica\",\"Versicolor\"],).T"
   ]
  },
  {
   "cell_type": "code",
   "execution_count": 373,
   "id": "0560b641",
   "metadata": {},
   "outputs": [
    {
     "data": {
      "text/html": [
       "<div>\n",
       "<style scoped>\n",
       "    .dataframe tbody tr th:only-of-type {\n",
       "        vertical-align: middle;\n",
       "    }\n",
       "\n",
       "    .dataframe tbody tr th {\n",
       "        vertical-align: top;\n",
       "    }\n",
       "\n",
       "    .dataframe thead th {\n",
       "        text-align: right;\n",
       "    }\n",
       "</style>\n",
       "<table border=\"1\" class=\"dataframe\">\n",
       "  <thead>\n",
       "    <tr style=\"text-align: right;\">\n",
       "      <th></th>\n",
       "      <th>Flower</th>\n",
       "      <th>Setosa</th>\n",
       "      <th>Virginica</th>\n",
       "      <th>Versicolor</th>\n",
       "    </tr>\n",
       "  </thead>\n",
       "  <tbody>\n",
       "    <tr>\n",
       "      <th>0</th>\n",
       "      <td>All Features</td>\n",
       "      <td>100.0</td>\n",
       "      <td>97.33</td>\n",
       "      <td>82.67</td>\n",
       "    </tr>\n",
       "    <tr>\n",
       "      <th>1</th>\n",
       "      <td>Sepal Length</td>\n",
       "      <td>100.0</td>\n",
       "      <td>97.33</td>\n",
       "      <td>82.67</td>\n",
       "    </tr>\n",
       "    <tr>\n",
       "      <th>2</th>\n",
       "      <td>Sepal Width</td>\n",
       "      <td>100.0</td>\n",
       "      <td>97.33</td>\n",
       "      <td>73.33</td>\n",
       "    </tr>\n",
       "    <tr>\n",
       "      <th>3</th>\n",
       "      <td>Petal Length</td>\n",
       "      <td>100.0</td>\n",
       "      <td>97.33</td>\n",
       "      <td>82.67</td>\n",
       "    </tr>\n",
       "    <tr>\n",
       "      <th>4</th>\n",
       "      <td>Petal Width</td>\n",
       "      <td>100.0</td>\n",
       "      <td>93.33</td>\n",
       "      <td>81.33</td>\n",
       "    </tr>\n",
       "  </tbody>\n",
       "</table>\n",
       "</div>"
      ],
      "text/plain": [
       "         Flower Setosa Virginica Versicolor\n",
       "0  All Features  100.0     97.33      82.67\n",
       "1  Sepal Length  100.0     97.33      82.67\n",
       "2   Sepal Width  100.0     97.33      73.33\n",
       "3  Petal Length  100.0     97.33      82.67\n",
       "4   Petal Width  100.0     93.33      81.33"
      ]
     },
     "execution_count": 373,
     "metadata": {},
     "output_type": "execute_result"
    }
   ],
   "source": [
    "features = [\"All Features\",\"Sepal Length\",\"Sepal Width\",\"Petal Length\",\"Petal Width\"]\n",
    "percentage = pd.DataFrame([features,s_list_per,v_list_per,ve_list_per], index = [\"Flower\",\"Setosa\",\"Virginica\",\"Versicolor\"],).T\n",
    "percentage"
   ]
  },
  {
   "cell_type": "code",
   "execution_count": 371,
   "id": "9ebcc3da",
   "metadata": {},
   "outputs": [
    {
     "data": {
      "text/html": [
       "<div>\n",
       "<style scoped>\n",
       "    .dataframe tbody tr th:only-of-type {\n",
       "        vertical-align: middle;\n",
       "    }\n",
       "\n",
       "    .dataframe tbody tr th {\n",
       "        vertical-align: top;\n",
       "    }\n",
       "\n",
       "    .dataframe thead th {\n",
       "        text-align: right;\n",
       "    }\n",
       "</style>\n",
       "<table border=\"1\" class=\"dataframe\">\n",
       "  <thead>\n",
       "    <tr style=\"text-align: right;\">\n",
       "      <th></th>\n",
       "      <th>Flower</th>\n",
       "      <th>Setosa</th>\n",
       "      <th>Virginica</th>\n",
       "      <th>Versicolor</th>\n",
       "    </tr>\n",
       "  </thead>\n",
       "  <tbody>\n",
       "    <tr>\n",
       "      <th>0</th>\n",
       "      <td>Sepal Length</td>\n",
       "      <td>0.0</td>\n",
       "      <td>0.0</td>\n",
       "      <td>0.0</td>\n",
       "    </tr>\n",
       "    <tr>\n",
       "      <th>1</th>\n",
       "      <td>Sepal Width</td>\n",
       "      <td>0.0</td>\n",
       "      <td>0.0</td>\n",
       "      <td>9.34</td>\n",
       "    </tr>\n",
       "    <tr>\n",
       "      <th>2</th>\n",
       "      <td>Petal Length</td>\n",
       "      <td>0.0</td>\n",
       "      <td>0.0</td>\n",
       "      <td>0.0</td>\n",
       "    </tr>\n",
       "    <tr>\n",
       "      <th>3</th>\n",
       "      <td>Petal Width</td>\n",
       "      <td>0.0</td>\n",
       "      <td>4.0</td>\n",
       "      <td>1.34</td>\n",
       "    </tr>\n",
       "  </tbody>\n",
       "</table>\n",
       "</div>"
      ],
      "text/plain": [
       "         Flower Setosa Virginica Versicolor\n",
       "0  Sepal Length    0.0       0.0        0.0\n",
       "1   Sepal Width    0.0       0.0       9.34\n",
       "2  Petal Length    0.0       0.0        0.0\n",
       "3   Petal Width    0.0       4.0       1.34"
      ]
     },
     "execution_count": 371,
     "metadata": {},
     "output_type": "execute_result"
    }
   ],
   "source": [
    "marginal"
   ]
  },
  {
   "cell_type": "code",
   "execution_count": null,
   "id": "c940b5f7",
   "metadata": {},
   "outputs": [],
   "source": []
  }
 ],
 "metadata": {
  "kernelspec": {
   "display_name": "Python 3",
   "language": "python",
   "name": "python3"
  },
  "language_info": {
   "codemirror_mode": {
    "name": "ipython",
    "version": 3
   },
   "file_extension": ".py",
   "mimetype": "text/x-python",
   "name": "python",
   "nbconvert_exporter": "python",
   "pygments_lexer": "ipython3",
   "version": "3.8.8"
  }
 },
 "nbformat": 4,
 "nbformat_minor": 5
}
