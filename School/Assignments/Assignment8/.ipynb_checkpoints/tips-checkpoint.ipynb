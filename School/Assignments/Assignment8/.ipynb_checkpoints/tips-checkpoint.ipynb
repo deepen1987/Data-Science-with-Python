{
 "cells": [
  {
   "cell_type": "code",
   "execution_count": 55,
   "id": "a219a4fe",
   "metadata": {},
   "outputs": [],
   "source": [
    "import pandas as pd\n",
    "import numpy as np\n",
    "import matplotlib.pyplot as plt\n",
    "from sklearn.linear_model import LinearRegression"
   ]
  },
  {
   "cell_type": "code",
   "execution_count": 30,
   "id": "e385e9f4",
   "metadata": {},
   "outputs": [
    {
     "data": {
      "text/html": [
       "<div>\n",
       "<style scoped>\n",
       "    .dataframe tbody tr th:only-of-type {\n",
       "        vertical-align: middle;\n",
       "    }\n",
       "\n",
       "    .dataframe tbody tr th {\n",
       "        vertical-align: top;\n",
       "    }\n",
       "\n",
       "    .dataframe thead th {\n",
       "        text-align: right;\n",
       "    }\n",
       "</style>\n",
       "<table border=\"1\" class=\"dataframe\">\n",
       "  <thead>\n",
       "    <tr style=\"text-align: right;\">\n",
       "      <th></th>\n",
       "      <th>total_bill</th>\n",
       "      <th>tip</th>\n",
       "      <th>sex</th>\n",
       "      <th>smoker</th>\n",
       "      <th>day</th>\n",
       "      <th>time</th>\n",
       "      <th>size</th>\n",
       "    </tr>\n",
       "  </thead>\n",
       "  <tbody>\n",
       "    <tr>\n",
       "      <th>0</th>\n",
       "      <td>16.99</td>\n",
       "      <td>1.01</td>\n",
       "      <td>Female</td>\n",
       "      <td>No</td>\n",
       "      <td>Sun</td>\n",
       "      <td>Dinner</td>\n",
       "      <td>2</td>\n",
       "    </tr>\n",
       "    <tr>\n",
       "      <th>1</th>\n",
       "      <td>10.34</td>\n",
       "      <td>1.66</td>\n",
       "      <td>Male</td>\n",
       "      <td>No</td>\n",
       "      <td>Sun</td>\n",
       "      <td>Dinner</td>\n",
       "      <td>3</td>\n",
       "    </tr>\n",
       "    <tr>\n",
       "      <th>2</th>\n",
       "      <td>21.01</td>\n",
       "      <td>3.50</td>\n",
       "      <td>Male</td>\n",
       "      <td>No</td>\n",
       "      <td>Sun</td>\n",
       "      <td>Dinner</td>\n",
       "      <td>3</td>\n",
       "    </tr>\n",
       "    <tr>\n",
       "      <th>3</th>\n",
       "      <td>23.68</td>\n",
       "      <td>3.31</td>\n",
       "      <td>Male</td>\n",
       "      <td>No</td>\n",
       "      <td>Sun</td>\n",
       "      <td>Dinner</td>\n",
       "      <td>2</td>\n",
       "    </tr>\n",
       "    <tr>\n",
       "      <th>4</th>\n",
       "      <td>24.59</td>\n",
       "      <td>3.61</td>\n",
       "      <td>Female</td>\n",
       "      <td>No</td>\n",
       "      <td>Sun</td>\n",
       "      <td>Dinner</td>\n",
       "      <td>4</td>\n",
       "    </tr>\n",
       "  </tbody>\n",
       "</table>\n",
       "</div>"
      ],
      "text/plain": [
       "   total_bill   tip     sex smoker  day    time  size\n",
       "0       16.99  1.01  Female     No  Sun  Dinner     2\n",
       "1       10.34  1.66    Male     No  Sun  Dinner     3\n",
       "2       21.01  3.50    Male     No  Sun  Dinner     3\n",
       "3       23.68  3.31    Male     No  Sun  Dinner     2\n",
       "4       24.59  3.61  Female     No  Sun  Dinner     4"
      ]
     },
     "execution_count": 30,
     "metadata": {},
     "output_type": "execute_result"
    }
   ],
   "source": [
    "df_tips = pd.read_csv(\"tips.csv\")\n",
    "df_tips.head(5)"
   ]
  },
  {
   "cell_type": "markdown",
   "id": "3da464f9",
   "metadata": {},
   "source": [
    "#### 1. what is the average tip (as a percentage of meal cost) for for lunch and for dinner?"
   ]
  },
  {
   "cell_type": "code",
   "execution_count": 31,
   "id": "36175265",
   "metadata": {},
   "outputs": [],
   "source": [
    "def avg_tip_meal(tip,t_bill):\n",
    "    empty_array = np.empty([0,0])\n",
    "    for i in range(len(tip)):\n",
    "        empty_array = np.append(empty_array,[(round((tip[i] / t_bill[i]) * 100,2))])\n",
    "        \n",
    "    return empty_array"
   ]
  },
  {
   "cell_type": "code",
   "execution_count": 32,
   "id": "50bfb015",
   "metadata": {},
   "outputs": [
    {
     "data": {
      "text/html": [
       "<div>\n",
       "<style scoped>\n",
       "    .dataframe tbody tr th:only-of-type {\n",
       "        vertical-align: middle;\n",
       "    }\n",
       "\n",
       "    .dataframe tbody tr th {\n",
       "        vertical-align: top;\n",
       "    }\n",
       "\n",
       "    .dataframe thead th {\n",
       "        text-align: right;\n",
       "    }\n",
       "</style>\n",
       "<table border=\"1\" class=\"dataframe\">\n",
       "  <thead>\n",
       "    <tr style=\"text-align: right;\">\n",
       "      <th></th>\n",
       "      <th>total_bill</th>\n",
       "      <th>tip</th>\n",
       "      <th>sex</th>\n",
       "      <th>smoker</th>\n",
       "      <th>day</th>\n",
       "      <th>time</th>\n",
       "      <th>size</th>\n",
       "      <th>tip_meal_%</th>\n",
       "    </tr>\n",
       "  </thead>\n",
       "  <tbody>\n",
       "    <tr>\n",
       "      <th>0</th>\n",
       "      <td>16.99</td>\n",
       "      <td>1.01</td>\n",
       "      <td>Female</td>\n",
       "      <td>No</td>\n",
       "      <td>Sun</td>\n",
       "      <td>Dinner</td>\n",
       "      <td>2</td>\n",
       "      <td>5.94</td>\n",
       "    </tr>\n",
       "    <tr>\n",
       "      <th>1</th>\n",
       "      <td>10.34</td>\n",
       "      <td>1.66</td>\n",
       "      <td>Male</td>\n",
       "      <td>No</td>\n",
       "      <td>Sun</td>\n",
       "      <td>Dinner</td>\n",
       "      <td>3</td>\n",
       "      <td>16.05</td>\n",
       "    </tr>\n",
       "    <tr>\n",
       "      <th>2</th>\n",
       "      <td>21.01</td>\n",
       "      <td>3.50</td>\n",
       "      <td>Male</td>\n",
       "      <td>No</td>\n",
       "      <td>Sun</td>\n",
       "      <td>Dinner</td>\n",
       "      <td>3</td>\n",
       "      <td>16.66</td>\n",
       "    </tr>\n",
       "    <tr>\n",
       "      <th>3</th>\n",
       "      <td>23.68</td>\n",
       "      <td>3.31</td>\n",
       "      <td>Male</td>\n",
       "      <td>No</td>\n",
       "      <td>Sun</td>\n",
       "      <td>Dinner</td>\n",
       "      <td>2</td>\n",
       "      <td>13.98</td>\n",
       "    </tr>\n",
       "    <tr>\n",
       "      <th>4</th>\n",
       "      <td>24.59</td>\n",
       "      <td>3.61</td>\n",
       "      <td>Female</td>\n",
       "      <td>No</td>\n",
       "      <td>Sun</td>\n",
       "      <td>Dinner</td>\n",
       "      <td>4</td>\n",
       "      <td>14.68</td>\n",
       "    </tr>\n",
       "  </tbody>\n",
       "</table>\n",
       "</div>"
      ],
      "text/plain": [
       "   total_bill   tip     sex smoker  day    time  size  tip_meal_%\n",
       "0       16.99  1.01  Female     No  Sun  Dinner     2        5.94\n",
       "1       10.34  1.66    Male     No  Sun  Dinner     3       16.05\n",
       "2       21.01  3.50    Male     No  Sun  Dinner     3       16.66\n",
       "3       23.68  3.31    Male     No  Sun  Dinner     2       13.98\n",
       "4       24.59  3.61  Female     No  Sun  Dinner     4       14.68"
      ]
     },
     "execution_count": 32,
     "metadata": {},
     "output_type": "execute_result"
    }
   ],
   "source": [
    "df_tips_copy = df_tips.copy()\n",
    "df_tips_copy[\"tip_meal_%\"] = avg_tip_meal(df_tips[\"tip\"],df_tips[\"total_bill\"])\n",
    "df_tips_copy.head(5)"
   ]
  },
  {
   "cell_type": "code",
   "execution_count": 33,
   "id": "07ff90d8",
   "metadata": {},
   "outputs": [],
   "source": [
    "avg_lunch = np.mean(df_tips_copy[df_tips_copy[\"time\"] == \"Lunch\"][\"tip_meal_%\"])\n",
    "avg_dinner = np.mean(df_tips_copy[df_tips_copy[\"time\"] == \"Dinner\"][\"tip_meal_%\"])"
   ]
  },
  {
   "cell_type": "code",
   "execution_count": 34,
   "id": "529081a1",
   "metadata": {},
   "outputs": [
    {
     "name": "stdout",
     "output_type": "stream",
     "text": [
      "\n",
      "Average Tip - \n",
      "Lunch: 16.41%\n",
      "Dinner: 15.95%\n",
      "\n"
     ]
    }
   ],
   "source": [
    "print(f\"\"\"\n",
    "Average Tip - \n",
    "Lunch: {avg_lunch:.2f}%\n",
    "Dinner: {avg_dinner:.2f}%\n",
    "\"\"\")"
   ]
  },
  {
   "cell_type": "markdown",
   "id": "f8aeb5d4",
   "metadata": {},
   "source": [
    "#### 2. what is average tip for each day of the week (as a percentage of meal cost)?"
   ]
  },
  {
   "cell_type": "code",
   "execution_count": 35,
   "id": "50bf97f1",
   "metadata": {},
   "outputs": [
    {
     "data": {
      "text/plain": [
       "day\n",
       "Fri     16.99\n",
       "Sat     15.31\n",
       "Sun     16.69\n",
       "Thur    16.13\n",
       "Name: tip_meal_%, dtype: float64"
      ]
     },
     "execution_count": 35,
     "metadata": {},
     "output_type": "execute_result"
    }
   ],
   "source": [
    "daily_tips = df_tips_copy.groupby([\"day\"])[\"tip_meal_%\"].mean().round(2)\n",
    "daily_tips"
   ]
  },
  {
   "cell_type": "code",
   "execution_count": 51,
   "id": "5ba674f7",
   "metadata": {},
   "outputs": [
    {
     "data": {
      "image/png": "[encoded data removed]",
      "text/plain": [
       "<Figure size 432x288 with 1 Axes>"
      ]
     },
     "metadata": {
      "needs_background": "light"
     },
     "output_type": "display_data"
    }
   ],
   "source": [
    "x_avg = daily_tips.index\n",
    "y_avg = daily_tips.values\n",
    "plt.plot(x_avg, y_avg)\n",
    "plt.xlabel(\"Days\",fontsize = 14)\n",
    "plt.ylabel(\"Tips in %\",fontsize = 14)\n",
    "plt.title(\"Average Tip Percentage each Day\",fontsize = 16)\n",
    "plt.show()"
   ]
  },
  {
   "cell_type": "markdown",
   "id": "d7e1f18b",
   "metadata": {},
   "source": [
    "#### 3. when are tips highest (which day and time)?"
   ]
  },
  {
   "cell_type": "code",
   "execution_count": 37,
   "id": "528e8fe4",
   "metadata": {},
   "outputs": [
    {
     "data": {
      "text/html": [
       "<div>\n",
       "<style scoped>\n",
       "    .dataframe tbody tr th:only-of-type {\n",
       "        vertical-align: middle;\n",
       "    }\n",
       "\n",
       "    .dataframe tbody tr th {\n",
       "        vertical-align: top;\n",
       "    }\n",
       "\n",
       "    .dataframe thead th {\n",
       "        text-align: right;\n",
       "    }\n",
       "</style>\n",
       "<table border=\"1\" class=\"dataframe\">\n",
       "  <thead>\n",
       "    <tr style=\"text-align: right;\">\n",
       "      <th></th>\n",
       "      <th></th>\n",
       "      <th>tip_meal_%</th>\n",
       "    </tr>\n",
       "    <tr>\n",
       "      <th>day</th>\n",
       "      <th>time</th>\n",
       "      <th></th>\n",
       "    </tr>\n",
       "  </thead>\n",
       "  <tbody>\n",
       "    <tr>\n",
       "      <th rowspan=\"2\" valign=\"top\">Fri</th>\n",
       "      <th>Dinner</th>\n",
       "      <td>15.89</td>\n",
       "    </tr>\n",
       "    <tr>\n",
       "      <th>Lunch</th>\n",
       "      <td>18.88</td>\n",
       "    </tr>\n",
       "    <tr>\n",
       "      <th>Sat</th>\n",
       "      <th>Dinner</th>\n",
       "      <td>15.31</td>\n",
       "    </tr>\n",
       "    <tr>\n",
       "      <th>Sun</th>\n",
       "      <th>Dinner</th>\n",
       "      <td>16.69</td>\n",
       "    </tr>\n",
       "    <tr>\n",
       "      <th rowspan=\"2\" valign=\"top\">Thur</th>\n",
       "      <th>Dinner</th>\n",
       "      <td>15.97</td>\n",
       "    </tr>\n",
       "    <tr>\n",
       "      <th>Lunch</th>\n",
       "      <td>16.13</td>\n",
       "    </tr>\n",
       "  </tbody>\n",
       "</table>\n",
       "</div>"
      ],
      "text/plain": [
       "             tip_meal_%\n",
       "day  time              \n",
       "Fri  Dinner       15.89\n",
       "     Lunch        18.88\n",
       "Sat  Dinner       15.31\n",
       "Sun  Dinner       16.69\n",
       "Thur Dinner       15.97\n",
       "     Lunch        16.13"
      ]
     },
     "execution_count": 37,
     "metadata": {},
     "output_type": "execute_result"
    }
   ],
   "source": [
    "df_day_time = pd.DataFrame(df_tips_copy.groupby([\"day\",\"time\"])[\"tip_meal_%\"].mean().round(2))\n",
    "df_day_time"
   ]
  },
  {
   "cell_type": "code",
   "execution_count": 38,
   "id": "892fe1db",
   "metadata": {},
   "outputs": [
    {
     "data": {
      "image/png": "[encoded data removed]",
      "text/plain": [
       "<Figure size 864x576 with 1 Axes>"
      ]
     },
     "metadata": {
      "needs_background": "light"
     },
     "output_type": "display_data"
    }
   ],
   "source": [
    "x2 = [\"Fri-Dinner\",\"Fri-Lunch\",\"Sat-Dinner\",\"Sun-Dinner\",\"Thur-Dinner\",\"Thur-Lunch\"]\n",
    "y2 = df_day_time.values\n",
    "plt.figure(figsize=(12,8))\n",
    "plt.plot(x2, y2)\n",
    "plt.xlabel(\"Days & Time\",fontsize = 14)\n",
    "plt.ylabel(\"Tips in %\",fontsize = 14)\n",
    "plt.title(\"Average Tip Percentage each Day and Time\",fontsize = 16)\n",
    "plt.show()"
   ]
  },
  {
   "cell_type": "markdown",
   "id": "ddbeeee2",
   "metadata": {},
   "source": [
    "* The tips are highest on **Friday** during **Lunch** time."
   ]
  },
  {
   "cell_type": "markdown",
   "id": "b01e1370",
   "metadata": {},
   "source": [
    "#### 4. compute the correlation between meal prices and tips"
   ]
  },
  {
   "cell_type": "code",
   "execution_count": 39,
   "id": "1b627bd9",
   "metadata": {},
   "outputs": [
    {
     "name": "stdout",
     "output_type": "stream",
     "text": [
      " As our correlation is 0.68 its a strong positve correlation\n"
     ]
    }
   ],
   "source": [
    "mp_tip_corr = df_tips[\"total_bill\"].corr(df_tips[\"tip\"])\n",
    "\n",
    "print(f\"\"\" As our correlation is {mp_tip_corr:.2f} its a strong positve correlation\"\"\")"
   ]
  },
  {
   "cell_type": "markdown",
   "id": "4c6c6315",
   "metadata": {},
   "source": [
    "#### 5. is there any relationship between tips and size of the group?"
   ]
  },
  {
   "cell_type": "code",
   "execution_count": 40,
   "id": "6bba2db3",
   "metadata": {},
   "outputs": [
    {
     "name": "stdout",
     "output_type": "stream",
     "text": [
      "As our correlation is -0.14 its a weak negative correlation\n"
     ]
    }
   ],
   "source": [
    "grp_size_tip = df_tips_copy[\"size\"].corr(df_tips_copy[\"tip_meal_%\"])\n",
    "print(f\"As our correlation is {grp_size_tip:.2f} its a weak negative correlation\")"
   ]
  },
  {
   "cell_type": "markdown",
   "id": "131d50b6",
   "metadata": {},
   "source": [
    "#### 6. what percentage of people are smoking?"
   ]
  },
  {
   "cell_type": "code",
   "execution_count": 41,
   "id": "7aefc89d",
   "metadata": {},
   "outputs": [
    {
     "data": {
      "text/plain": [
       "'Percentage of Smokers: 35.73%'"
      ]
     },
     "execution_count": 41,
     "metadata": {},
     "output_type": "execute_result"
    }
   ],
   "source": [
    "smokers = df_tips.groupby([\"smoker\"])[\"size\"].sum()[1] \n",
    "total_patrons = df_tips.groupby([\"smoker\"])[\"size\"].sum()[1] + df_tips.groupby([\"smoker\"])[\"size\"].sum()[0]\n",
    "percent_smoker = round((smokers / total_patrons) * 100,2)\n",
    "(f\"\"\"Percentage of Smokers: {percent_smoker}%\"\"\")"
   ]
  },
  {
   "cell_type": "markdown",
   "id": "c8651aef",
   "metadata": {},
   "source": [
    "#### 7. assume that rows in the tips.csv file are arranged in time. Are tips increasing with time in each day?"
   ]
  },
  {
   "cell_type": "code",
   "execution_count": 57,
   "id": "89e0d0b5",
   "metadata": {},
   "outputs": [],
   "source": [
    "def linn_regg(x1,y1):\n",
    "    x = x1\n",
    "    y = y1\n",
    "    x_2 = x[:, np. newaxis ]\n",
    "    \n",
    "    lin_reg = LinearRegression ( fit_intercept = True )\n",
    "    lin_reg.fit(x_2 , y)\n",
    "    slope = lin_reg.coef_\n",
    "    \n",
    "    return slope"
   ]
  },
  {
   "cell_type": "code",
   "execution_count": 60,
   "id": "dcdc26ac",
   "metadata": {},
   "outputs": [
    {
     "data": {
      "text/plain": [
       "array([0.34638596])"
      ]
     },
     "execution_count": 60,
     "metadata": {},
     "output_type": "execute_result"
    }
   ],
   "source": [
    "x_inr = np.array(df_tips_copy[:19].index)\n",
    "y_inr = df_tips_copy[:19][\"tip_meal_%\"].values\n",
    "\n",
    "slope1 = linn_regg(x_inr,y_inr)\n",
    "slope1"
   ]
  },
  {
   "cell_type": "code",
   "execution_count": 95,
   "id": "88e08afb",
   "metadata": {},
   "outputs": [
    {
     "data": {
      "text/plain": [
       "{'Sun0': 0.3463859649122807,\n",
       " 'Sat1': -0.11937888198757761,\n",
       " 'Sun2': 0.03696428571428574,\n",
       " 'Sat3': 0.2015324675324676,\n",
       " 'Thur4': 0.3146153846153846,\n",
       " 'Fri5': 0.20458041958041953,\n",
       " 'Sat6': 1.1149696969696972,\n",
       " 'Sun7': 2.2430000000000003,\n",
       " 'Thur8': 0.08722927807486631,\n",
       " 'Sun9': -0.0021775025799793766,\n",
       " 'Sat10': 1.5239999999999996,\n",
       " 'Sun11': -0.9545789473684213,\n",
       " 'Thur12': 0.09114285714285719,\n",
       " 'Sat13': 0.21639560439560435,\n",
       " 'Fri14': -0.9478571428571426,\n",
       " 'Sat15': -0.5484117647058823}"
      ]
     },
     "execution_count": 95,
     "metadata": {},
     "output_type": "execute_result"
    }
   ],
   "source": [
    "count = 0\n",
    "lin_slope = dict()\n",
    "count1 = 0\n",
    "\n",
    "for i in range(len(df_tips_copy) - 1):\n",
    "    if df_tips_copy.iloc[i][\"day\"] == df_tips_copy.iloc[i + 1][\"day\"]:\n",
    "        continue\n",
    "    else:\n",
    "#         print(df_tips_copy[count:i + 1][\"day\"] + \"\\t\")\n",
    "        x_inr = np.array(df_tips_copy[count:i + 1].index)\n",
    "        y_inr = df_tips_copy[count: i + 1][\"tip_meal_%\"].values\n",
    "        \n",
    "        key = df_tips_copy.iloc[i][\"day\"] + str(count1)\n",
    "        count1 += 1\n",
    "\n",
    "        lin_slope[key] = linn_regg(x_inr,y_inr)[0]\n",
    "        count = i + 1\n",
    "        \n",
    "lin_slope\n"
   ]
  },
  {
   "cell_type": "markdown",
   "id": "11bd73cf",
   "metadata": {},
   "source": [
    "* By looking at above data:\n",
    "    * Sunday is mostly Positive\n",
    "    * Saturday is mostly Positive\n",
    "    * Thursday is mostly Positive\n",
    "    * Friday is neutral nor positve or negative"
   ]
  },
  {
   "cell_type": "markdown",
   "id": "bf527fe1",
   "metadata": {},
   "source": [
    "#### 8. is there any difference in correlation between tip amounts from smokers and non-smokers?"
   ]
  },
  {
   "cell_type": "code",
   "execution_count": 42,
   "id": "4127a7fc",
   "metadata": {},
   "outputs": [
    {
     "name": "stdout",
     "output_type": "stream",
     "text": [
      " \n",
      "Smokers average tip per person : $1.25\n",
      "Non Smokers average tip per person : $1.12\n",
      "\n"
     ]
    }
   ],
   "source": [
    "sm_mp_tip_avg = df_tips[df_tips[\"smoker\"] == \"Yes\"][\"tip\"].sum() / df_tips[df_tips[\"smoker\"] == \"Yes\"][\"size\"].sum()\n",
    "nsm_mp_tip_avg = df_tips[df_tips[\"smoker\"] == \"No\"][\"tip\"].sum() / df_tips[df_tips[\"smoker\"] == \"No\"][\"size\"].sum()\n",
    "\n",
    "print(f\"\"\" \n",
    "Smokers average tip per person : ${sm_mp_tip_avg:.2f}\n",
    "Non Smokers average tip per person : ${nsm_mp_tip_avg:.2f}\n",
    "\"\"\")"
   ]
  },
  {
   "cell_type": "code",
   "execution_count": null,
   "id": "4d185877",
   "metadata": {},
   "outputs": [],
   "source": []
  },
  {
   "cell_type": "code",
   "execution_count": null,
   "id": "051914dd",
   "metadata": {},
   "outputs": [],
   "source": []
  }
 ],
 "metadata": {
  "kernelspec": {
   "display_name": "Python 3",
   "language": "python",
   "name": "python3"
  },
  "language_info": {
   "codemirror_mode": {
    "name": "ipython",
    "version": 3
   },
   "file_extension": ".py",
   "mimetype": "text/x-python",
   "name": "python",
   "nbconvert_exporter": "python",
   "pygments_lexer": "ipython3",
   "version": "3.8.8"
  }
 },
 "nbformat": 4,
 "nbformat_minor": 5
}
