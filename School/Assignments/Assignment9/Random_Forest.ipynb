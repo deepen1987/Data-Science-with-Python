{
 "cells": [
  {
   "cell_type": "code",
   "execution_count": 1,
   "id": "37e228e8",
   "metadata": {},
   "outputs": [],
   "source": [
    "import pandas as pd\n",
    "import numpy as np\n",
    "import matplotlib.pyplot as plt\n",
    "from sklearn.model_selection import train_test_split\n",
    "from sklearn.metrics import confusion_matrix\n",
    "from sklearn.ensemble import RandomForestClassifier as RFC"
   ]
  },
  {
   "cell_type": "code",
   "execution_count": 2,
   "id": "0d84fe38",
   "metadata": {},
   "outputs": [
    {
     "data": {
      "text/html": [
       "<div>\n",
       "<style scoped>\n",
       "    .dataframe tbody tr th:only-of-type {\n",
       "        vertical-align: middle;\n",
       "    }\n",
       "\n",
       "    .dataframe tbody tr th {\n",
       "        vertical-align: top;\n",
       "    }\n",
       "\n",
       "    .dataframe thead th {\n",
       "        text-align: right;\n",
       "    }\n",
       "</style>\n",
       "<table border=\"1\" class=\"dataframe\">\n",
       "  <thead>\n",
       "    <tr style=\"text-align: right;\">\n",
       "      <th></th>\n",
       "      <th>Year</th>\n",
       "      <th>Week_Number</th>\n",
       "      <th>mean_return</th>\n",
       "      <th>volatility</th>\n",
       "      <th>label</th>\n",
       "    </tr>\n",
       "  </thead>\n",
       "  <tbody>\n",
       "    <tr>\n",
       "      <th>0</th>\n",
       "      <td>2019</td>\n",
       "      <td>0</td>\n",
       "      <td>-0.1050</td>\n",
       "      <td>3.594650</td>\n",
       "      <td>0</td>\n",
       "    </tr>\n",
       "    <tr>\n",
       "      <th>1</th>\n",
       "      <td>2019</td>\n",
       "      <td>1</td>\n",
       "      <td>0.6532</td>\n",
       "      <td>1.153409</td>\n",
       "      <td>1</td>\n",
       "    </tr>\n",
       "    <tr>\n",
       "      <th>2</th>\n",
       "      <td>2019</td>\n",
       "      <td>2</td>\n",
       "      <td>0.7326</td>\n",
       "      <td>1.198802</td>\n",
       "      <td>1</td>\n",
       "    </tr>\n",
       "    <tr>\n",
       "      <th>3</th>\n",
       "      <td>2019</td>\n",
       "      <td>3</td>\n",
       "      <td>0.0735</td>\n",
       "      <td>1.593999</td>\n",
       "      <td>0</td>\n",
       "    </tr>\n",
       "    <tr>\n",
       "      <th>4</th>\n",
       "      <td>2019</td>\n",
       "      <td>4</td>\n",
       "      <td>-0.3746</td>\n",
       "      <td>2.056743</td>\n",
       "      <td>0</td>\n",
       "    </tr>\n",
       "  </tbody>\n",
       "</table>\n",
       "</div>"
      ],
      "text/plain": [
       "   Year  Week_Number  mean_return  volatility  label\n",
       "0  2019            0      -0.1050    3.594650      0\n",
       "1  2019            1       0.6532    1.153409      1\n",
       "2  2019            2       0.7326    1.198802      1\n",
       "3  2019            3       0.0735    1.593999      0\n",
       "4  2019            4      -0.3746    2.056743      0"
      ]
     },
     "execution_count": 2,
     "metadata": {},
     "output_type": "execute_result"
    }
   ],
   "source": [
    "df_week = pd.read_csv(\"SAP_weekly_return_volatility.csv\")\n",
    "df_week.head(5)"
   ]
  },
  {
   "cell_type": "code",
   "execution_count": 3,
   "id": "5ce94c91",
   "metadata": {},
   "outputs": [
    {
     "data": {
      "text/html": [
       "<div>\n",
       "<style scoped>\n",
       "    .dataframe tbody tr th:only-of-type {\n",
       "        vertical-align: middle;\n",
       "    }\n",
       "\n",
       "    .dataframe tbody tr th {\n",
       "        vertical-align: top;\n",
       "    }\n",
       "\n",
       "    .dataframe thead th {\n",
       "        text-align: right;\n",
       "    }\n",
       "</style>\n",
       "<table border=\"1\" class=\"dataframe\">\n",
       "  <thead>\n",
       "    <tr style=\"text-align: right;\">\n",
       "      <th></th>\n",
       "      <th>High</th>\n",
       "      <th>Low</th>\n",
       "      <th>Open</th>\n",
       "      <th>Close</th>\n",
       "      <th>Volume</th>\n",
       "      <th>Adj Close</th>\n",
       "      <th>Return</th>\n",
       "      <th>Date</th>\n",
       "      <th>Week_Number</th>\n",
       "      <th>Year</th>\n",
       "      <th>Day</th>\n",
       "      <th>Weekday</th>\n",
       "      <th>mean_return</th>\n",
       "      <th>volatility</th>\n",
       "    </tr>\n",
       "  </thead>\n",
       "  <tbody>\n",
       "    <tr>\n",
       "      <th>0</th>\n",
       "      <td>99.559998</td>\n",
       "      <td>98.339996</td>\n",
       "      <td>98.570000</td>\n",
       "      <td>99.180000</td>\n",
       "      <td>506300.0</td>\n",
       "      <td>94.896118</td>\n",
       "      <td>0.000</td>\n",
       "      <td>2019-01-02</td>\n",
       "      <td>0</td>\n",
       "      <td>2019</td>\n",
       "      <td>2</td>\n",
       "      <td>Wednesday</td>\n",
       "      <td>-0.1050</td>\n",
       "      <td>3.594650</td>\n",
       "    </tr>\n",
       "    <tr>\n",
       "      <th>1</th>\n",
       "      <td>96.830002</td>\n",
       "      <td>95.449997</td>\n",
       "      <td>96.730003</td>\n",
       "      <td>95.459999</td>\n",
       "      <td>807800.0</td>\n",
       "      <td>91.336800</td>\n",
       "      <td>-3.751</td>\n",
       "      <td>2019-01-03</td>\n",
       "      <td>0</td>\n",
       "      <td>2019</td>\n",
       "      <td>3</td>\n",
       "      <td>Thursday</td>\n",
       "      <td>-0.1050</td>\n",
       "      <td>3.594650</td>\n",
       "    </tr>\n",
       "    <tr>\n",
       "      <th>2</th>\n",
       "      <td>99.199997</td>\n",
       "      <td>96.910004</td>\n",
       "      <td>97.339996</td>\n",
       "      <td>98.739998</td>\n",
       "      <td>1038100.0</td>\n",
       "      <td>94.475128</td>\n",
       "      <td>3.436</td>\n",
       "      <td>2019-01-04</td>\n",
       "      <td>0</td>\n",
       "      <td>2019</td>\n",
       "      <td>4</td>\n",
       "      <td>Friday</td>\n",
       "      <td>-0.1050</td>\n",
       "      <td>3.594650</td>\n",
       "    </tr>\n",
       "    <tr>\n",
       "      <th>3</th>\n",
       "      <td>100.190002</td>\n",
       "      <td>98.760002</td>\n",
       "      <td>99.440002</td>\n",
       "      <td>99.709999</td>\n",
       "      <td>861600.0</td>\n",
       "      <td>95.403229</td>\n",
       "      <td>0.982</td>\n",
       "      <td>2019-01-07</td>\n",
       "      <td>1</td>\n",
       "      <td>2019</td>\n",
       "      <td>7</td>\n",
       "      <td>Monday</td>\n",
       "      <td>0.6532</td>\n",
       "      <td>1.153409</td>\n",
       "    </tr>\n",
       "    <tr>\n",
       "      <th>4</th>\n",
       "      <td>101.480003</td>\n",
       "      <td>100.430000</td>\n",
       "      <td>101.370003</td>\n",
       "      <td>101.269997</td>\n",
       "      <td>548600.0</td>\n",
       "      <td>96.895844</td>\n",
       "      <td>1.565</td>\n",
       "      <td>2019-01-08</td>\n",
       "      <td>1</td>\n",
       "      <td>2019</td>\n",
       "      <td>8</td>\n",
       "      <td>Tuesday</td>\n",
       "      <td>0.6532</td>\n",
       "      <td>1.153409</td>\n",
       "    </tr>\n",
       "  </tbody>\n",
       "</table>\n",
       "</div>"
      ],
      "text/plain": [
       "         High         Low        Open       Close     Volume  Adj Close  \\\n",
       "0   99.559998   98.339996   98.570000   99.180000   506300.0  94.896118   \n",
       "1   96.830002   95.449997   96.730003   95.459999   807800.0  91.336800   \n",
       "2   99.199997   96.910004   97.339996   98.739998  1038100.0  94.475128   \n",
       "3  100.190002   98.760002   99.440002   99.709999   861600.0  95.403229   \n",
       "4  101.480003  100.430000  101.370003  101.269997   548600.0  96.895844   \n",
       "\n",
       "   Return        Date  Week_Number  Year  Day    Weekday  mean_return  \\\n",
       "0   0.000  2019-01-02            0  2019    2  Wednesday      -0.1050   \n",
       "1  -3.751  2019-01-03            0  2019    3   Thursday      -0.1050   \n",
       "2   3.436  2019-01-04            0  2019    4     Friday      -0.1050   \n",
       "3   0.982  2019-01-07            1  2019    7     Monday       0.6532   \n",
       "4   1.565  2019-01-08            1  2019    8    Tuesday       0.6532   \n",
       "\n",
       "   volatility  \n",
       "0    3.594650  \n",
       "1    3.594650  \n",
       "2    3.594650  \n",
       "3    1.153409  \n",
       "4    1.153409  "
      ]
     },
     "execution_count": 3,
     "metadata": {},
     "output_type": "execute_result"
    }
   ],
   "source": [
    "df_daily = pd.read_csv(\"SAP_weekly_return_volatility_detailed.csv\")\n",
    "df_daily.head(5)"
   ]
  },
  {
   "cell_type": "code",
   "execution_count": 4,
   "id": "62f25576",
   "metadata": {},
   "outputs": [],
   "source": [
    "df_week_2019 = df_week[df_week[\"Year\"] == 2019].reset_index(drop = True)\n",
    "df_week_2020 = df_week[df_week[\"Year\"] == 2020].reset_index(drop = True)"
   ]
  },
  {
   "cell_type": "markdown",
   "id": "9d6b42bf",
   "metadata": {},
   "source": [
    "### 1. take N = 1,...,10 and d = 1,2,...,5. For each value of N and d construct a random tree classifier (use ”entropy” as splitting criteria - this is the default) use your year 1 labels as training set and compute the error rate for year 2. Plot your error rates and find the best combination of N and d."
   ]
  },
  {
   "cell_type": "code",
   "execution_count": 5,
   "id": "4b773f54",
   "metadata": {},
   "outputs": [],
   "source": [
    "def rdf(x_train, x_test, y_train, y_test, n, d):\n",
    "    \n",
    "    model = RFC(n_estimators = n, max_depth = d, criterion = \"entropy\")\n",
    "    model.fit(x_train,y_train)\n",
    "    \n",
    "    predicted = model.predict(x_test)\n",
    "    accuracy = np.mean(y_test == predicted)\n",
    "    \n",
    "    return [predicted, accuracy]"
   ]
  },
  {
   "cell_type": "code",
   "execution_count": 6,
   "id": "27223bf3",
   "metadata": {},
   "outputs": [],
   "source": [
    "x_tr_1, x_te_2, y_tr_1, y_te_2  = train_test_split(df_week_2019[[\"mean_return\",\"volatility\"]].values,\\\n",
    "                                     df_week_2019[\"label\"].values, test_size = 0.5,random_state=0)"
   ]
  },
  {
   "cell_type": "code",
   "execution_count": 7,
   "id": "8eda17d4",
   "metadata": {},
   "outputs": [],
   "source": [
    "rdf_dict = dict()\n",
    "\n",
    "for n in range(1,11):\n",
    "    accuracy_list = list()\n",
    "    for d in range(1,6):\n",
    "        key = str(n) + str(d)\n",
    "        return_value = rdf(x_tr_1, x_te_2, y_tr_1, y_te_2, n, d)\n",
    "        accuracy_list.append(round(return_value[1],3))\n",
    "        \n",
    "    rdf_dict[n] = accuracy_list "
   ]
  },
  {
   "cell_type": "code",
   "execution_count": 8,
   "id": "1b522bef",
   "metadata": {},
   "outputs": [
    {
     "data": {
      "image/png": "[encoded data removed]",
      "text/plain": [
       "<Figure size 864x720 with 1 Axes>"
      ]
     },
     "metadata": {
      "needs_background": "light"
     },
     "output_type": "display_data"
    }
   ],
   "source": [
    "df_random_forest = pd.DataFrame(rdf_dict, index = [\"d1\",\"d2\",\"d3\",\"d4\",\"d5\"]).T\n",
    "df_random_forest.plot(figsize = (12,10), marker = \".\", markersize=15)\n",
    "plt.xlabel(\"No. of Trees\", fontsize = 22)\n",
    "plt.ylabel(\"Accuracy\", fontsize = 22)\n",
    "plt.title(\"Random Forest Accuracy for N and D\", fontsize = 22)\n",
    "plt.show()"
   ]
  },
  {
   "cell_type": "markdown",
   "id": "cbadc969",
   "metadata": {},
   "source": [
    "##### As be we can see in the above plot we have lot of points which are giving the same result accuracy as .85. Hence, we will choose N = 2 and d = 4 to compute data for year 2."
   ]
  },
  {
   "cell_type": "markdown",
   "id": "9136292d",
   "metadata": {},
   "source": [
    "### 2. using the optimal values from year 1, compute the confusion matrix for year 2"
   ]
  },
  {
   "cell_type": "code",
   "execution_count": 9,
   "id": "8277f7a7",
   "metadata": {},
   "outputs": [],
   "source": [
    "x1 = df_week_2019[[\"mean_return\",\"volatility\"]].values\n",
    "y1 = df_week_2019[\"label\"].values\n",
    "x2 = df_week_2020[[\"mean_return\",\"volatility\"]].values\n",
    "y2 = df_week_2020[\"label\"].values\n",
    "\n",
    "random_forest_2020 = rdf(x1, x2, y1, y2, 2, 4)"
   ]
  },
  {
   "cell_type": "code",
   "execution_count": 10,
   "id": "ea533e46",
   "metadata": {},
   "outputs": [
    {
     "data": {
      "text/html": [
       "<div>\n",
       "<style scoped>\n",
       "    .dataframe tbody tr th:only-of-type {\n",
       "        vertical-align: middle;\n",
       "    }\n",
       "\n",
       "    .dataframe tbody tr th {\n",
       "        vertical-align: top;\n",
       "    }\n",
       "\n",
       "    .dataframe thead th {\n",
       "        text-align: right;\n",
       "    }\n",
       "</style>\n",
       "<table border=\"1\" class=\"dataframe\">\n",
       "  <thead>\n",
       "    <tr style=\"text-align: right;\">\n",
       "      <th></th>\n",
       "      <th>TN</th>\n",
       "      <th>FP</th>\n",
       "      <th>FN</th>\n",
       "      <th>TP</th>\n",
       "    </tr>\n",
       "  </thead>\n",
       "  <tbody>\n",
       "    <tr>\n",
       "      <th>0</th>\n",
       "      <td>32</td>\n",
       "      <td>1</td>\n",
       "      <td>9</td>\n",
       "      <td>11</td>\n",
       "    </tr>\n",
       "  </tbody>\n",
       "</table>\n",
       "</div>"
      ],
      "text/plain": [
       "   TN  FP  FN  TP\n",
       "0  32   1   9  11"
      ]
     },
     "execution_count": 10,
     "metadata": {},
     "output_type": "execute_result"
    }
   ],
   "source": [
    "tn, fp, fn, tp = confusion_matrix(y2, random_forest_2020[0]).ravel()\n",
    "pd.DataFrame([tn, fp, fn, tp], index = [\"TN\",\"FP\",\"FN\",\"TP\"]).T"
   ]
  },
  {
   "cell_type": "markdown",
   "id": "3a92765d",
   "metadata": {},
   "source": [
    "### 3. what is true positive rate and true negative rate for year 2?"
   ]
  },
  {
   "cell_type": "code",
   "execution_count": 11,
   "id": "9223dda5",
   "metadata": {},
   "outputs": [
    {
     "name": "stdout",
     "output_type": "stream",
     "text": [
      "TPR:0.55 and TNR:0.97\n"
     ]
    }
   ],
   "source": [
    "tpr = tp / (tp + fn)\n",
    "tnr = tn / (tn + fp)\n",
    "\n",
    "print(f\"TPR:{tpr:.2f} and TNR:{tnr:.2f}\")"
   ]
  },
  {
   "cell_type": "markdown",
   "id": "9d03664f",
   "metadata": {},
   "source": [
    "### 4. implement a trading strategy based on your labels for year 2 and compare the performance with the ”buy-and-hold” strategy. Which strategy results in a larger amount at the end of the year?"
   ]
  },
  {
   "cell_type": "code",
   "execution_count": 12,
   "id": "ef743bd7",
   "metadata": {},
   "outputs": [],
   "source": [
    "df_week_2020[\"predict\"] = random_forest_2020[0]\n",
    "df_daily_2 = df_daily[(df_daily[\"Year\"] == 2020)].copy().reset_index(drop=True)"
   ]
  },
  {
   "cell_type": "markdown",
   "id": "32c0a5fb",
   "metadata": {},
   "source": [
    "#### Buy and Hold"
   ]
  },
  {
   "cell_type": "code",
   "execution_count": 13,
   "id": "16aee763",
   "metadata": {},
   "outputs": [],
   "source": [
    "def buyhold(ret_list):\n",
    "    ret = round(((ret_list / 100) + 1).cumprod() * 100,2)\n",
    "    \n",
    "    return ret"
   ]
  },
  {
   "cell_type": "code",
   "execution_count": 14,
   "id": "1940fd25",
   "metadata": {},
   "outputs": [
    {
     "data": {
      "text/plain": [
       "98.71"
      ]
     },
     "execution_count": 14,
     "metadata": {},
     "output_type": "execute_result"
    }
   ],
   "source": [
    "hold = buyhold(df_daily[(df_daily[\"Year\"] == 2020)][\"Return\"])\n",
    "hold.values[-1]"
   ]
  },
  {
   "cell_type": "markdown",
   "id": "a283e6df",
   "metadata": {},
   "source": [
    "#### My Strategy"
   ]
  },
  {
   "cell_type": "code",
   "execution_count": 15,
   "id": "e6e39f23",
   "metadata": {},
   "outputs": [],
   "source": [
    "def compute_daily_ret(d_frame1, amt):\n",
    "    ret = round(((d_frame1[\"Return\"] / 100) + 1).cumprod() * amt,2)\n",
    "\n",
    "    return round(ret.values[-1],2)"
   ]
  },
  {
   "cell_type": "code",
   "execution_count": 16,
   "id": "598683ef",
   "metadata": {},
   "outputs": [],
   "source": [
    "def weekDaily(d_frame_week,d_frame_daily,lbl):\n",
    "    total_ret = list()\n",
    "    for i in range(len(d_frame_week)):\n",
    "        if i > 0:\n",
    "            year = d_frame_week.loc[i][\"Year\"]\n",
    "\n",
    "            week = d_frame_week.loc[i][\"Week_Number\"]\n",
    "\n",
    "            prv_week = d_frame_week.loc[i - 1][\"Week_Number\"]\n",
    "\n",
    "            frame = d_frame_daily[(d_frame_daily[\"Week_Number\"] == week)]\n",
    "\n",
    "            if d_frame_week.loc[i - 1][lbl] == 0 and d_frame_week.loc[i][lbl] == 1:\n",
    "\n",
    "                amount = total_ret[i - 1] \n",
    "                total_ret.append(compute_daily_ret(frame, amount))\n",
    "                \n",
    "            elif d_frame_week.loc[i - 1][lbl] == 1 and d_frame_week.loc[i][lbl] == 1:\n",
    "\n",
    "                amount = total_ret[i - 1]\n",
    "                total_ret.append(compute_daily_ret(frame, amount))\n",
    "            else:\n",
    "                total_ret.append(total_ret[i - 1])\n",
    "        else:     \n",
    "            total_ret.append(100)\n",
    "    return total_ret"
   ]
  },
  {
   "cell_type": "code",
   "execution_count": 17,
   "id": "bd015211",
   "metadata": {},
   "outputs": [
    {
     "data": {
      "text/plain": [
       "138.26"
      ]
     },
     "execution_count": 17,
     "metadata": {},
     "output_type": "execute_result"
    }
   ],
   "source": [
    "daily_ret = weekDaily(df_week_2020,df_daily_2,\"predict\")\n",
    "daily_ret[-1]"
   ]
  },
  {
   "cell_type": "code",
   "execution_count": 18,
   "id": "97bc21b6",
   "metadata": {},
   "outputs": [
    {
     "name": "stdout",
     "output_type": "stream",
     "text": [
      "\n",
      "2020 return using Buy and Hold: $ 98.71 and \n",
      "2020 return using Random Forest: $ 138.26\n",
      "\n"
     ]
    }
   ],
   "source": [
    "print(f\"\"\"\n",
    "2020 return using Buy and Hold: $ {hold.values[-1]} and \n",
    "2020 return using Random Forest: $ {daily_ret[-1]}\n",
    "\"\"\")"
   ]
  },
  {
   "cell_type": "code",
   "execution_count": null,
   "id": "7c27c22e",
   "metadata": {},
   "outputs": [],
   "source": []
  }
 ],
 "metadata": {
  "kernelspec": {
   "display_name": "Python 3",
   "language": "python",
   "name": "python3"
  },
  "language_info": {
   "codemirror_mode": {
    "name": "ipython",
    "version": 3
   },
   "file_extension": ".py",
   "mimetype": "text/x-python",
   "name": "python",
   "nbconvert_exporter": "python",
   "pygments_lexer": "ipython3",
   "version": "3.8.8"
  }
 },
 "nbformat": 4,
 "nbformat_minor": 5
}
