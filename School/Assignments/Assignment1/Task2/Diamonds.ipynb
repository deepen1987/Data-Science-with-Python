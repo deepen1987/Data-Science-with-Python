{
 "cells": [
  {
   "cell_type": "markdown",
   "metadata": {},
   "source": [
    "# CS677 - Deependrasingh Shekhawat"
   ]
  },
  {
   "cell_type": "markdown",
   "metadata": {},
   "source": [
    "## Diamonds DataSet Question with pure python.\n",
    "\n",
    "* Analyzing the diamonds with cut \"Ideal\""
   ]
  },
  {
   "cell_type": "markdown",
   "metadata": {},
   "source": [
    "### Question1:"
   ]
  },
  {
   "cell_type": "markdown",
   "metadata": {},
   "source": [
    "1. **Load the \"diamonds\" csv file as a list of lines using Python and construct a sublist for you group**"
   ]
  },
  {
   "cell_type": "code",
   "execution_count": 77,
   "metadata": {},
   "outputs": [],
   "source": [
    "import os\n",
    "\n",
    "input_dir = os.getcwd()\n",
    "input_file = os.path.join(input_dir + '\\\\diamonds.csv')\n",
    "\n",
    "with open(input_file) as f:\n",
    "    lines = f.read().splitlines()\n",
    "    \n",
    "lines_arr = list(filter(lambda x: x[2] == \"Ideal\", [x.replace('\"','').split(\",\") for x in lines]))  \n",
    "# lines_arr"
   ]
  },
  {
   "cell_type": "markdown",
   "metadata": {},
   "source": [
    "2. **How many entries are there?**"
   ]
  },
  {
   "cell_type": "code",
   "execution_count": 78,
   "metadata": {},
   "outputs": [
    {
     "name": "stdout",
     "output_type": "stream",
     "text": [
      "Total Diamond Count :21551\n"
     ]
    }
   ],
   "source": [
    "diamond_count = len(lines_arr)\n",
    "print(f\"Total Diamond Count :{diamond_count}\")"
   ]
  },
  {
   "cell_type": "markdown",
   "metadata": {},
   "source": [
    "3. **Compute the average weight (in carats) for your group**"
   ]
  },
  {
   "cell_type": "code",
   "execution_count": 79,
   "metadata": {},
   "outputs": [
    {
     "name": "stdout",
     "output_type": "stream",
     "text": [
      "Average weight :0.70\n"
     ]
    }
   ],
   "source": [
    "total_weight = 0\n",
    "for i in lines_arr:\n",
    "    total_weight += float(i[1])\n",
    "\n",
    "avg_weight = total_weight / diamond_count\n",
    "print(f\"Average weight :{'{:.2f}'.format(avg_weight)}\")"
   ]
  },
  {
   "cell_type": "markdown",
   "metadata": {},
   "source": [
    "4. **Compute the average price for diamonds in your group (round to the 4-th decimal point)**"
   ]
  },
  {
   "cell_type": "code",
   "execution_count": 80,
   "metadata": {},
   "outputs": [
    {
     "name": "stdout",
     "output_type": "stream",
     "text": [
      "Average Price :3457.54\n"
     ]
    }
   ],
   "source": [
    "total_price = 0\n",
    "for i in lines_arr:\n",
    "    total_price += float(i[7])\n",
    "    \n",
    "avg_price = total_price / diamond_count\n",
    "print(f\"Average Price :{'{:.2f}'.format(avg_price)}\")"
   ]
  },
  {
   "cell_type": "markdown",
   "metadata": {},
   "source": [
    "### Question2:"
   ]
  },
  {
   "cell_type": "markdown",
   "metadata": {},
   "source": [
    "#### method \"A\":"
   ]
  },
  {
   "cell_type": "code",
   "execution_count": 81,
   "metadata": {},
   "outputs": [
    {
     "name": "stdout",
     "output_type": "stream",
     "text": [
      "3919.70\n"
     ]
    }
   ],
   "source": [
    "avg_price_a = 0\n",
    "for i in lines_arr:\n",
    "    avg_price_a += (float(i[7]) / float(i[1]))\n",
    "    \n",
    "avg_price_a = avg_price_a / diamond_count\n",
    "print('{:.2f}'.format(avg_price_a))"
   ]
  },
  {
   "cell_type": "markdown",
   "metadata": {},
   "source": [
    "#### method \"B\":"
   ]
  },
  {
   "cell_type": "code",
   "execution_count": 82,
   "metadata": {},
   "outputs": [
    {
     "name": "stdout",
     "output_type": "stream",
     "text": [
      "4919.41\n"
     ]
    }
   ],
   "source": [
    "avg_price_b = total_price / total_weight\n",
    "print('{:.2f}'.format(avg_price_b))"
   ]
  },
  {
   "cell_type": "markdown",
   "metadata": {},
   "source": [
    "1. **Compute average prices per carat using both methods**"
   ]
  },
  {
   "cell_type": "code",
   "execution_count": 83,
   "metadata": {},
   "outputs": [
    {
     "name": "stdout",
     "output_type": "stream",
     "text": [
      "method A avg price: 3919.70 and method B avg price: 4919.41 per carat\n"
     ]
    }
   ],
   "source": [
    "print(f\"method A avg price: {'{:.2f}'.format(avg_price_a)} and method B avg price: {'{:.2f}'.format(avg_price_b)} per carat\")\n"
   ]
  },
  {
   "cell_type": "markdown",
   "metadata": {},
   "source": [
    "2. **Which average price is lower?**"
   ]
  },
  {
   "cell_type": "code",
   "execution_count": 84,
   "metadata": {},
   "outputs": [
    {
     "name": "stdout",
     "output_type": "stream",
     "text": [
      "Method A price is lower\n"
     ]
    }
   ],
   "source": [
    "print(\"Method A price is lower\" if avg_price_a < avg_price_b else \"Method B price is lower\")"
   ]
  },
  {
   "cell_type": "markdown",
   "metadata": {},
   "source": [
    "3. **Compute the maximum price per carat:**"
   ]
  },
  {
   "cell_type": "code",
   "execution_count": 85,
   "metadata": {},
   "outputs": [
    {
     "name": "stdout",
     "output_type": "stream",
     "text": [
      "Maximum Price per carat :17077.67\n"
     ]
    }
   ],
   "source": [
    "price = [float(i[7]) / float(i[1]) for i in lines_arr]\n",
    "max_ind = price.index(max(price))\n",
    "print(f\"Maximum Price per carat :{'{:.2f}'.format(max(price))}\")"
   ]
  },
  {
   "cell_type": "markdown",
   "metadata": {},
   "source": [
    "4. **Compute the minimum price per carat**"
   ]
  },
  {
   "cell_type": "code",
   "execution_count": 86,
   "metadata": {
    "scrolled": true
   },
   "outputs": [
    {
     "name": "stdout",
     "output_type": "stream",
     "text": [
      "Minimum Price per carat :1109.09\n"
     ]
    }
   ],
   "source": [
    "min_ind = price.index(min(price))\n",
    "print(f\"Minimum Price per carat :{'{:.2f}'.format(min(price))}\")"
   ]
  },
  {
   "cell_type": "markdown",
   "metadata": {},
   "source": [
    "5. **Compute the median price per carat**\n",
    "\n",
    "* Since the number of element is odd the median will be the middle element."
   ]
  },
  {
   "cell_type": "code",
   "execution_count": 87,
   "metadata": {},
   "outputs": [
    {
     "name": "stdout",
     "output_type": "stream",
     "text": [
      "Median Price per carat :3307.14\n"
     ]
    }
   ],
   "source": [
    "import math\n",
    "\n",
    "def median(list_args):\n",
    "    med = sorted(list_args)\n",
    "    return med[math.ceil(len(list_args)/2)]\n",
    "\n",
    "print(f\"Median Price per carat :{'{:.2f}'.format(median(price))}\")"
   ]
  },
  {
   "cell_type": "markdown",
   "metadata": {},
   "source": [
    "### Question3:\n",
    "\n",
    "* **Values based on Method A.**"
   ]
  },
  {
   "cell_type": "markdown",
   "metadata": {},
   "source": [
    "1. **Highest Value**"
   ]
  },
  {
   "cell_type": "code",
   "execution_count": 88,
   "metadata": {},
   "outputs": [
    {
     "name": "stdout",
     "output_type": "stream",
     "text": [
      "Other attributes for Highest Price Diamond\n",
      " :27227\n",
      "carat :1.03\n",
      "cut :Ideal\n",
      "color :D\n",
      "clarity :IF\n",
      "depth :62\n",
      "table :56\n",
      "price :17590\n",
      "x :6.55\n",
      "y :6.44\n",
      "z :4.03\n"
     ]
    }
   ],
   "source": [
    "print(\"Other attributes for Highest Price Diamond\")\n",
    "for i in range(len(lines_arr[0])): \n",
    "    print([x.replace('\"','').split(\",\") for x in lines][0][i],end=\" :\")\n",
    "    print(lines_arr[max_ind][i])"
   ]
  },
  {
   "cell_type": "markdown",
   "metadata": {},
   "source": [
    "2. **Lowest Value**"
   ]
  },
  {
   "cell_type": "code",
   "execution_count": 89,
   "metadata": {
    "scrolled": true
   },
   "outputs": [
    {
     "name": "stdout",
     "output_type": "stream",
     "text": [
      "Other attributes for Lowest Price Diamond\n",
      " :28286\n",
      "carat :0.33\n",
      "cut :Ideal\n",
      "color :J\n",
      "clarity :SI2\n",
      "depth :62.4\n",
      "table :54\n",
      "price :366\n",
      "x :4.43\n",
      "y :4.45\n",
      "z :2.77\n"
     ]
    }
   ],
   "source": [
    "print(\"Other attributes for Lowest Price Diamond\")\n",
    "for i in range(len(lines_arr[0])): \n",
    "    print([x.replace('\"','').split(\",\") for x in lines][0][i],end=\" :\")\n",
    "    print(lines_arr[min_ind][i])"
   ]
  },
  {
   "cell_type": "markdown",
   "metadata": {},
   "source": [
    "### Question4:"
   ]
  },
  {
   "cell_type": "markdown",
   "metadata": {},
   "source": [
    "- The stone, a 102.39-carat D Color Flawless Oval Diamond, could fetch 10 million to 30 million"
   ]
  },
  {
   "cell_type": "markdown",
   "metadata": {},
   "source": [
    "#### Price per carat based on Method B:"
   ]
  },
  {
   "cell_type": "code",
   "execution_count": 92,
   "metadata": {},
   "outputs": [
    {
     "name": "stdout",
     "output_type": "stream",
     "text": [
      "Computed price for 102 carat Diamond : 501779.62\n"
     ]
    }
   ],
   "source": [
    "print(f\"Computed price for 102 carat Diamond : {'{:.2f}'.format(avg_price_b * 102)}\")"
   ]
  },
  {
   "cell_type": "markdown",
   "metadata": {},
   "source": [
    "#### Price per carat based on Method A:"
   ]
  },
  {
   "cell_type": "code",
   "execution_count": 93,
   "metadata": {},
   "outputs": [
    {
     "name": "stdout",
     "output_type": "stream",
     "text": [
      "Computed price for 102 carat Diamond : 399809.38\n"
     ]
    }
   ],
   "source": [
    "print(f\"Computed price for 102 carat Diamond : {'{:.2f}'.format(avg_price_a * 102)}\")"
   ]
  }
 ],
 "metadata": {
  "kernelspec": {
   "display_name": "Python 3",
   "language": "python",
   "name": "python3"
  },
  "language_info": {
   "codemirror_mode": {
    "name": "ipython",
    "version": 3
   },
   "file_extension": ".py",
   "mimetype": "text/x-python",
   "name": "python",
   "nbconvert_exporter": "python",
   "pygments_lexer": "ipython3",
   "version": "3.8.5"
  }
 },
 "nbformat": 4,
 "nbformat_minor": 4
}
