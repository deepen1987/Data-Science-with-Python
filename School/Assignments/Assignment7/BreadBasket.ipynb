{
 "cells": [
  {
   "cell_type": "code",
   "execution_count": 370,
   "metadata": {},
   "outputs": [],
   "source": [
    "import pandas as pd\n",
    "import numpy as np\n",
    "import matplotlib.pyplot as plt"
   ]
  },
  {
   "cell_type": "code",
   "execution_count": 371,
   "metadata": {},
   "outputs": [
    {
     "data": {
      "text/html": [
       "<div>\n",
       "<style scoped>\n",
       "    .dataframe tbody tr th:only-of-type {\n",
       "        vertical-align: middle;\n",
       "    }\n",
       "\n",
       "    .dataframe tbody tr th {\n",
       "        vertical-align: top;\n",
       "    }\n",
       "\n",
       "    .dataframe thead th {\n",
       "        text-align: right;\n",
       "    }\n",
       "</style>\n",
       "<table border=\"1\" class=\"dataframe\">\n",
       "  <thead>\n",
       "    <tr style=\"text-align: right;\">\n",
       "      <th></th>\n",
       "      <th>Year</th>\n",
       "      <th>Month</th>\n",
       "      <th>Day</th>\n",
       "      <th>Weekday</th>\n",
       "      <th>Period</th>\n",
       "      <th>Hour</th>\n",
       "      <th>Min</th>\n",
       "      <th>Sec</th>\n",
       "      <th>Transaction</th>\n",
       "      <th>Item</th>\n",
       "      <th>Item_Price</th>\n",
       "      <th>category</th>\n",
       "    </tr>\n",
       "  </thead>\n",
       "  <tbody>\n",
       "    <tr>\n",
       "      <th>0</th>\n",
       "      <td>2016</td>\n",
       "      <td>10</td>\n",
       "      <td>30</td>\n",
       "      <td>Sunday</td>\n",
       "      <td>morning</td>\n",
       "      <td>9</td>\n",
       "      <td>58</td>\n",
       "      <td>11</td>\n",
       "      <td>1</td>\n",
       "      <td>Bread</td>\n",
       "      <td>3.01</td>\n",
       "      <td>food</td>\n",
       "    </tr>\n",
       "    <tr>\n",
       "      <th>1</th>\n",
       "      <td>2016</td>\n",
       "      <td>10</td>\n",
       "      <td>30</td>\n",
       "      <td>Sunday</td>\n",
       "      <td>morning</td>\n",
       "      <td>10</td>\n",
       "      <td>5</td>\n",
       "      <td>34</td>\n",
       "      <td>2</td>\n",
       "      <td>Scandinavian</td>\n",
       "      <td>10.38</td>\n",
       "      <td>food</td>\n",
       "    </tr>\n",
       "    <tr>\n",
       "      <th>2</th>\n",
       "      <td>2016</td>\n",
       "      <td>10</td>\n",
       "      <td>30</td>\n",
       "      <td>Sunday</td>\n",
       "      <td>morning</td>\n",
       "      <td>10</td>\n",
       "      <td>5</td>\n",
       "      <td>34</td>\n",
       "      <td>2</td>\n",
       "      <td>Scandinavian</td>\n",
       "      <td>10.38</td>\n",
       "      <td>food</td>\n",
       "    </tr>\n",
       "    <tr>\n",
       "      <th>3</th>\n",
       "      <td>2016</td>\n",
       "      <td>10</td>\n",
       "      <td>30</td>\n",
       "      <td>Sunday</td>\n",
       "      <td>morning</td>\n",
       "      <td>10</td>\n",
       "      <td>7</td>\n",
       "      <td>57</td>\n",
       "      <td>3</td>\n",
       "      <td>Hot chocolate</td>\n",
       "      <td>9.58</td>\n",
       "      <td>drink</td>\n",
       "    </tr>\n",
       "    <tr>\n",
       "      <th>4</th>\n",
       "      <td>2016</td>\n",
       "      <td>10</td>\n",
       "      <td>30</td>\n",
       "      <td>Sunday</td>\n",
       "      <td>morning</td>\n",
       "      <td>10</td>\n",
       "      <td>7</td>\n",
       "      <td>57</td>\n",
       "      <td>3</td>\n",
       "      <td>Jam</td>\n",
       "      <td>10.08</td>\n",
       "      <td>food</td>\n",
       "    </tr>\n",
       "  </tbody>\n",
       "</table>\n",
       "</div>"
      ],
      "text/plain": [
       "   Year  Month  Day Weekday   Period  Hour  Min  Sec  Transaction  \\\n",
       "0  2016     10   30  Sunday  morning     9   58   11            1   \n",
       "1  2016     10   30  Sunday  morning    10    5   34            2   \n",
       "2  2016     10   30  Sunday  morning    10    5   34            2   \n",
       "3  2016     10   30  Sunday  morning    10    7   57            3   \n",
       "4  2016     10   30  Sunday  morning    10    7   57            3   \n",
       "\n",
       "            Item  Item_Price category  \n",
       "0          Bread        3.01     food  \n",
       "1   Scandinavian       10.38     food  \n",
       "2   Scandinavian       10.38     food  \n",
       "3  Hot chocolate        9.58    drink  \n",
       "4            Jam       10.08     food  "
      ]
     },
     "execution_count": 371,
     "metadata": {},
     "output_type": "execute_result"
    }
   ],
   "source": [
    "df_breadB = pd.read_csv(\"BreadBasket_DMS_output.csv\")\n",
    "df_breadB.head(5)"
   ]
  },
  {
   "cell_type": "code",
   "execution_count": 372,
   "metadata": {},
   "outputs": [],
   "source": [
    "def calculate(d_frame,var1,var2):\n",
    "    return d_frame.groupby([var1])[var2]"
   ]
  },
  {
   "cell_type": "markdown",
   "metadata": {},
   "source": [
    "## 1. what is the busiest (in terms of number of transactions)?"
   ]
  },
  {
   "cell_type": "markdown",
   "metadata": {},
   "source": [
    "###    1. Busiest hour of the day?"
   ]
  },
  {
   "cell_type": "code",
   "execution_count": 373,
   "metadata": {},
   "outputs": [
    {
     "name": "stdout",
     "output_type": "stream",
     "text": [
      "Busiest hour of day with 1445 transactions per day at '11:00'\n"
     ]
    }
   ],
   "source": [
    "bus_h_d = calculate(df_breadB,\"Hour\",\"Transaction\").nunique().nlargest(1)\n",
    "print(f\"Busiest hour of day with {bus_h_d.values[0]} transactions per day at '{bus_h_d.index[0]}:00'\")"
   ]
  },
  {
   "cell_type": "markdown",
   "metadata": {},
   "source": [
    "###    2. Busiest day of the week"
   ]
  },
  {
   "cell_type": "code",
   "execution_count": 374,
   "metadata": {},
   "outputs": [
    {
     "name": "stdout",
     "output_type": "stream",
     "text": [
      "Saturday is the busiest day of the week with '2068' transactions\n"
     ]
    }
   ],
   "source": [
    "bus_d_w = calculate(df_breadB,\"Weekday\",\"Transaction\").nunique().nlargest(1)\n",
    "print(f\"{bus_d_w.index[0]} is the busiest day of the week with '{bus_d_w.values[0]}' transactions\")"
   ]
  },
  {
   "cell_type": "markdown",
   "metadata": {},
   "source": [
    "###    3. Busiest period of the day"
   ]
  },
  {
   "cell_type": "code",
   "execution_count": 375,
   "metadata": {},
   "outputs": [
    {
     "name": "stdout",
     "output_type": "stream",
     "text": [
      "afternoon is the busiest period of the day with '5307' transactions\n"
     ]
    }
   ],
   "source": [
    "bus_p_d = calculate(df_breadB,\"Period\",\"Transaction\").nunique().nlargest(1)\n",
    "print(f\"{bus_p_d.index[0]} is the busiest period of the day with '{bus_p_d.values[0]}' transactions\")"
   ]
  },
  {
   "cell_type": "markdown",
   "metadata": {},
   "source": [
    "## 2. what is the most profitable time (in terms of revenue)?"
   ]
  },
  {
   "cell_type": "markdown",
   "metadata": {},
   "source": [
    "###    1. profitable hour of the day?"
   ]
  },
  {
   "cell_type": "code",
   "execution_count": 376,
   "metadata": {},
   "outputs": [
    {
     "name": "stdout",
     "output_type": "stream",
     "text": [
      "Most profitable time '11:00' of the day with profit of $21453.44\n"
     ]
    }
   ],
   "source": [
    "profit_h_d = calculate(df_breadB,\"Hour\",\"Item_Price\").sum().nlargest(1)\n",
    "print(f\"Most profitable time '{profit_h_d.index[0]}:00' of the day with profit of ${profit_h_d.values[0]:.2f}\")"
   ]
  },
  {
   "cell_type": "markdown",
   "metadata": {},
   "source": [
    "###    2. profitable day of the week"
   ]
  },
  {
   "cell_type": "code",
   "execution_count": 377,
   "metadata": {},
   "outputs": [
    {
     "name": "stdout",
     "output_type": "stream",
     "text": [
      "Most profitable day 'Saturday' of the week with profit of $31531.83\n"
     ]
    }
   ],
   "source": [
    "profit_d_w = calculate(df_breadB,\"Weekday\",\"Item_Price\").sum().nlargest(1)\n",
    "print(f\"Most profitable day '{profit_d_w.index[0]}' of the week with profit of ${profit_d_w.values[0]:.2f}\")"
   ]
  },
  {
   "cell_type": "markdown",
   "metadata": {},
   "source": [
    "###    3. profitable period of the day"
   ]
  },
  {
   "cell_type": "code",
   "execution_count": 378,
   "metadata": {},
   "outputs": [
    {
     "name": "stdout",
     "output_type": "stream",
     "text": [
      "Most profitable period 'afternoon' of the day with profit of $81299.97\n"
     ]
    }
   ],
   "source": [
    "profit_p_d = calculate(df_breadB,\"Period\",\"Item_Price\").sum().nlargest(1)\n",
    "print(f\"Most profitable period '{profit_p_d.index[0]}' of the day with profit of ${profit_p_d.values[0]:.2f}\")"
   ]
  },
  {
   "cell_type": "markdown",
   "metadata": {},
   "source": [
    "## 3. what is the most and least popular item?"
   ]
  },
  {
   "cell_type": "code",
   "execution_count": 379,
   "metadata": {},
   "outputs": [
    {
     "name": "stdout",
     "output_type": "stream",
     "text": [
      "Most popular item is Coffee with total sold transactions 5471 and \n",
      "Least popular item is The BART with total sold transactions 1\n"
     ]
    }
   ],
   "source": [
    "print(f\"\"\"Most popular item is {df_breadB[\"Item\"].value_counts().head(1).index[0]} with total sold transactions \\\n",
    "{df_breadB[\"Item\"].value_counts().head(1).values[0]} and \n",
    "Least popular item is {df_breadB[\"Item\"].value_counts().tail(1).index[0]} with total sold transactions \\\n",
    "{df_breadB[\"Item\"].value_counts().tail(1).values[0]}\"\"\")"
   ]
  },
  {
   "cell_type": "markdown",
   "metadata": {},
   "source": [
    "## 4. assume one barrista can handle 50 transactions per day.How many barristas do you need for each day of the week?"
   ]
  },
  {
   "cell_type": "code",
   "execution_count": 380,
   "metadata": {},
   "outputs": [
    {
     "data": {
      "text/html": [
       "<div>\n",
       "<style scoped>\n",
       "    .dataframe tbody tr th:only-of-type {\n",
       "        vertical-align: middle;\n",
       "    }\n",
       "\n",
       "    .dataframe tbody tr th {\n",
       "        vertical-align: top;\n",
       "    }\n",
       "\n",
       "    .dataframe thead th {\n",
       "        text-align: right;\n",
       "    }\n",
       "</style>\n",
       "<table border=\"1\" class=\"dataframe\">\n",
       "  <thead>\n",
       "    <tr style=\"text-align: right;\">\n",
       "      <th></th>\n",
       "      <th>barr_per_day</th>\n",
       "    </tr>\n",
       "    <tr>\n",
       "      <th>Weekday</th>\n",
       "      <th></th>\n",
       "    </tr>\n",
       "  </thead>\n",
       "  <tbody>\n",
       "    <tr>\n",
       "      <th>Friday</th>\n",
       "      <td>30.0</td>\n",
       "    </tr>\n",
       "    <tr>\n",
       "      <th>Monday</th>\n",
       "      <td>23.0</td>\n",
       "    </tr>\n",
       "    <tr>\n",
       "      <th>Saturday</th>\n",
       "      <td>42.0</td>\n",
       "    </tr>\n",
       "    <tr>\n",
       "      <th>Sunday</th>\n",
       "      <td>26.0</td>\n",
       "    </tr>\n",
       "    <tr>\n",
       "      <th>Thursday</th>\n",
       "      <td>26.0</td>\n",
       "    </tr>\n",
       "    <tr>\n",
       "      <th>Tuesday</th>\n",
       "      <td>25.0</td>\n",
       "    </tr>\n",
       "    <tr>\n",
       "      <th>Wednesday</th>\n",
       "      <td>23.0</td>\n",
       "    </tr>\n",
       "  </tbody>\n",
       "</table>\n",
       "</div>"
      ],
      "text/plain": [
       "           barr_per_day\n",
       "Weekday                \n",
       "Friday             30.0\n",
       "Monday             23.0\n",
       "Saturday           42.0\n",
       "Sunday             26.0\n",
       "Thursday           26.0\n",
       "Tuesday            25.0\n",
       "Wednesday          23.0"
      ]
     },
     "execution_count": 380,
     "metadata": {},
     "output_type": "execute_result"
    }
   ],
   "source": [
    "df_barr_p_d = pd.DataFrame(np.ceil(df_breadB.groupby(\"Weekday\")[\"Transaction\"].nunique() / 50))\n",
    "df_barr_p_d.rename(columns={\"Transaction\":\"barr_per_day\"})"
   ]
  },
  {
   "cell_type": "markdown",
   "metadata": {},
   "source": [
    "## 5. divide all items in 3 groups (drinks, food, unknown). What is the average price of a drink and a food item?"
   ]
  },
  {
   "cell_type": "code",
   "execution_count": 381,
   "metadata": {},
   "outputs": [
    {
     "name": "stdout",
     "output_type": "stream",
     "text": [
      "\n",
      "Average price for drinks $8.410870014941196 and\n",
      "Average price for food is $4.901324436263418\n",
      "\n"
     ]
    }
   ],
   "source": [
    "print(f\"\"\"\n",
    "Average price for drinks ${df_breadB[\"Item_Price\"][df_breadB[\"category\"] == \"drink\"].mean()} and\n",
    "Average price for food is ${df_breadB[\"Item_Price\"][df_breadB[\"category\"] == \"food\"].mean()}\n",
    "\"\"\")"
   ]
  },
  {
   "cell_type": "markdown",
   "metadata": {},
   "source": [
    "## 6. does this coffee shop make more money from selling drinks or from selling food?"
   ]
  },
  {
   "cell_type": "code",
   "execution_count": 382,
   "metadata": {},
   "outputs": [
    {
     "name": "stdout",
     "output_type": "stream",
     "text": [
      "\n",
      "Total revenue for drinks $73182.98 and\n",
      "Total revenue for food is $53252.89\n",
      "\n",
      "We can conclude drinks make more money based on numbers.\n",
      "\n"
     ]
    }
   ],
   "source": [
    "print(f\"\"\"\n",
    "Total revenue for drinks ${df_breadB[\"Item_Price\"][df_breadB[\"category\"] == \"drink\"].sum()} and\n",
    "Total revenue for food is ${df_breadB[\"Item_Price\"][df_breadB[\"category\"] == \"food\"].sum()}\n",
    "\n",
    "We can conclude drinks make more money based on numbers.\n",
    "\"\"\")"
   ]
  },
  {
   "cell_type": "markdown",
   "metadata": {},
   "source": [
    "## 7. what are the top 5 most popular items for each day of the week? does this list stays the same from day to day?"
   ]
  },
  {
   "cell_type": "code",
   "execution_count": 383,
   "metadata": {
    "scrolled": true
   },
   "outputs": [
    {
     "data": {
      "text/html": [
       "<div>\n",
       "<style scoped>\n",
       "    .dataframe tbody tr th:only-of-type {\n",
       "        vertical-align: middle;\n",
       "    }\n",
       "\n",
       "    .dataframe tbody tr th {\n",
       "        vertical-align: top;\n",
       "    }\n",
       "\n",
       "    .dataframe thead th {\n",
       "        text-align: right;\n",
       "    }\n",
       "</style>\n",
       "<table border=\"1\" class=\"dataframe\">\n",
       "  <thead>\n",
       "    <tr style=\"text-align: right;\">\n",
       "      <th></th>\n",
       "      <th>Friday</th>\n",
       "      <th>Monday</th>\n",
       "      <th>Saturday</th>\n",
       "      <th>Sunday</th>\n",
       "      <th>Thursday</th>\n",
       "      <th>Tuesday</th>\n",
       "      <th>Wednesday</th>\n",
       "    </tr>\n",
       "  </thead>\n",
       "  <tbody>\n",
       "    <tr>\n",
       "      <th>0</th>\n",
       "      <td>Coffee</td>\n",
       "      <td>Coffee</td>\n",
       "      <td>Coffee</td>\n",
       "      <td>Coffee</td>\n",
       "      <td>Coffee</td>\n",
       "      <td>Coffee</td>\n",
       "      <td>Coffee</td>\n",
       "    </tr>\n",
       "    <tr>\n",
       "      <th>1</th>\n",
       "      <td>Bread</td>\n",
       "      <td>Bread</td>\n",
       "      <td>Bread</td>\n",
       "      <td>Bread</td>\n",
       "      <td>Bread</td>\n",
       "      <td>Bread</td>\n",
       "      <td>Bread</td>\n",
       "    </tr>\n",
       "    <tr>\n",
       "      <th>2</th>\n",
       "      <td>Tea</td>\n",
       "      <td>Tea</td>\n",
       "      <td>Tea</td>\n",
       "      <td>Tea</td>\n",
       "      <td>Tea</td>\n",
       "      <td>Tea</td>\n",
       "      <td>Tea</td>\n",
       "    </tr>\n",
       "    <tr>\n",
       "      <th>3</th>\n",
       "      <td>Sandwich</td>\n",
       "      <td>Pastry</td>\n",
       "      <td>Cake</td>\n",
       "      <td>Cake</td>\n",
       "      <td>Cake</td>\n",
       "      <td>Cake</td>\n",
       "      <td>Cake</td>\n",
       "    </tr>\n",
       "    <tr>\n",
       "      <th>4</th>\n",
       "      <td>Cake</td>\n",
       "      <td>Sandwich</td>\n",
       "      <td>NONE</td>\n",
       "      <td>NONE</td>\n",
       "      <td>Pastry</td>\n",
       "      <td>Pastry</td>\n",
       "      <td>NONE</td>\n",
       "    </tr>\n",
       "  </tbody>\n",
       "</table>\n",
       "</div>"
      ],
      "text/plain": [
       "     Friday    Monday Saturday  Sunday Thursday Tuesday Wednesday\n",
       "0    Coffee    Coffee   Coffee  Coffee   Coffee  Coffee    Coffee\n",
       "1     Bread     Bread    Bread   Bread    Bread   Bread     Bread\n",
       "2       Tea       Tea      Tea     Tea      Tea     Tea       Tea\n",
       "3  Sandwich    Pastry     Cake    Cake     Cake    Cake      Cake\n",
       "4      Cake  Sandwich     NONE    NONE   Pastry  Pastry      NONE"
      ]
     },
     "execution_count": 383,
     "metadata": {},
     "output_type": "execute_result"
    }
   ],
   "source": [
    "top5 = dict()\n",
    "for i in np.unique(df_breadB[\"Weekday\"]):\n",
    "    top5[i] = df_breadB[\"Item\"][df_breadB[\"Weekday\"] == i].value_counts().head(5).index\n",
    "\n",
    "pd.DataFrame(top5)"
   ]
  },
  {
   "cell_type": "markdown",
   "metadata": {},
   "source": [
    "* Tuesday and Thursday have the same list of items.\n",
    "* Wednesday, Saturday and Sunday has the same list of items.\n",
    "* Monday and Friday are the ones who have different items then other days."
   ]
  },
  {
   "cell_type": "markdown",
   "metadata": {},
   "source": [
    "## 8. what are the bottom 5 least popular items for each day of the week? does this list stays the same from day to day?"
   ]
  },
  {
   "cell_type": "code",
   "execution_count": 384,
   "metadata": {
    "scrolled": true
   },
   "outputs": [
    {
     "data": {
      "text/html": [
       "<div>\n",
       "<style scoped>\n",
       "    .dataframe tbody tr th:only-of-type {\n",
       "        vertical-align: middle;\n",
       "    }\n",
       "\n",
       "    .dataframe tbody tr th {\n",
       "        vertical-align: top;\n",
       "    }\n",
       "\n",
       "    .dataframe thead th {\n",
       "        text-align: right;\n",
       "    }\n",
       "</style>\n",
       "<table border=\"1\" class=\"dataframe\">\n",
       "  <thead>\n",
       "    <tr style=\"text-align: right;\">\n",
       "      <th></th>\n",
       "      <th>Friday</th>\n",
       "      <th>Monday</th>\n",
       "      <th>Saturday</th>\n",
       "      <th>Sunday</th>\n",
       "      <th>Thursday</th>\n",
       "      <th>Tuesday</th>\n",
       "      <th>Wednesday</th>\n",
       "    </tr>\n",
       "  </thead>\n",
       "  <tbody>\n",
       "    <tr>\n",
       "      <th>0</th>\n",
       "      <td>Vegan Feast</td>\n",
       "      <td>Dulce de Leche</td>\n",
       "      <td>Lemon and coconut</td>\n",
       "      <td>Coffee granules</td>\n",
       "      <td>Duck egg</td>\n",
       "      <td>Ella's Kitchen Pouches</td>\n",
       "      <td>Adjustment</td>\n",
       "    </tr>\n",
       "    <tr>\n",
       "      <th>1</th>\n",
       "      <td>Chimichurri Oil</td>\n",
       "      <td>Drinking chocolate spoons</td>\n",
       "      <td>Dulce de Leche</td>\n",
       "      <td>Christmas common</td>\n",
       "      <td>Lemon and coconut</td>\n",
       "      <td>Gingerbread syrup</td>\n",
       "      <td>Polenta</td>\n",
       "    </tr>\n",
       "    <tr>\n",
       "      <th>2</th>\n",
       "      <td>Half slice Monster</td>\n",
       "      <td>Mighty Protein</td>\n",
       "      <td>Christmas common</td>\n",
       "      <td>Drinking chocolate spoons</td>\n",
       "      <td>Drinking chocolate spoons</td>\n",
       "      <td>Half slice Monster</td>\n",
       "      <td>Bare Popcorn</td>\n",
       "    </tr>\n",
       "    <tr>\n",
       "      <th>3</th>\n",
       "      <td>Fairy Doors</td>\n",
       "      <td>Chocolates</td>\n",
       "      <td>Ella's Kitchen Pouches</td>\n",
       "      <td>Empanadas</td>\n",
       "      <td>Cherry me Dried fruit</td>\n",
       "      <td>Honey</td>\n",
       "      <td>Vegan Feast</td>\n",
       "    </tr>\n",
       "    <tr>\n",
       "      <th>4</th>\n",
       "      <td>Coffee granules</td>\n",
       "      <td>Crisps</td>\n",
       "      <td>Cherry me Dried fruit</td>\n",
       "      <td>Bacon</td>\n",
       "      <td>Argentina Night</td>\n",
       "      <td>Nomad bag</td>\n",
       "      <td>Nomad bag</td>\n",
       "    </tr>\n",
       "  </tbody>\n",
       "</table>\n",
       "</div>"
      ],
      "text/plain": [
       "                Friday                      Monday                Saturday  \\\n",
       "0          Vegan Feast              Dulce de Leche       Lemon and coconut   \n",
       "1      Chimichurri Oil  Drinking chocolate spoons           Dulce de Leche   \n",
       "2  Half slice Monster               Mighty Protein        Christmas common   \n",
       "3          Fairy Doors                  Chocolates  Ella's Kitchen Pouches   \n",
       "4     Coffee granules                       Crisps   Cherry me Dried fruit   \n",
       "\n",
       "                       Sunday                    Thursday  \\\n",
       "0            Coffee granules                     Duck egg   \n",
       "1            Christmas common           Lemon and coconut   \n",
       "2  Drinking chocolate spoons   Drinking chocolate spoons    \n",
       "3                   Empanadas       Cherry me Dried fruit   \n",
       "4                       Bacon             Argentina Night   \n",
       "\n",
       "                  Tuesday     Wednesday  \n",
       "0  Ella's Kitchen Pouches    Adjustment  \n",
       "1       Gingerbread syrup       Polenta  \n",
       "2     Half slice Monster   Bare Popcorn  \n",
       "3                   Honey   Vegan Feast  \n",
       "4               Nomad bag     Nomad bag  "
      ]
     },
     "execution_count": 384,
     "metadata": {},
     "output_type": "execute_result"
    }
   ],
   "source": [
    "bottom5 = dict()\n",
    "for i in np.unique(df_breadB[\"Weekday\"]):\n",
    "    bottom5[i] = df_breadB[\"Item\"][df_breadB[\"Weekday\"] == i].value_counts().tail(5).index\n",
    "\n",
    "pd.DataFrame(bottom5)"
   ]
  },
  {
   "cell_type": "markdown",
   "metadata": {},
   "source": [
    "* The bottom 5 are very varied and the list does not remain same across days of the week."
   ]
  },
  {
   "cell_type": "markdown",
   "metadata": {},
   "source": [
    "## 9. how many drinks are there per transaction?"
   ]
  },
  {
   "cell_type": "code",
   "execution_count": 385,
   "metadata": {},
   "outputs": [
    {
     "name": "stdout",
     "output_type": "stream",
     "text": [
      "1.0 drink per transaction\n"
     ]
    }
   ],
   "source": [
    "num = df_breadB[df_breadB[\"category\"] == \"drink\"][\"category\"].count()\n",
    "den = df_breadB[\"Transaction\"].nunique()\n",
    "\n",
    "print(f'{np.ceil(num/den)} drink per transaction')\n"
   ]
  },
  {
   "cell_type": "code",
   "execution_count": null,
   "metadata": {},
   "outputs": [],
   "source": []
  },
  {
   "cell_type": "code",
   "execution_count": null,
   "metadata": {},
   "outputs": [],
   "source": []
  },
  {
   "cell_type": "code",
   "execution_count": null,
   "metadata": {
    "scrolled": true
   },
   "outputs": [],
   "source": []
  },
  {
   "cell_type": "code",
   "execution_count": null,
   "metadata": {},
   "outputs": [],
   "source": []
  }
 ],
 "metadata": {
  "kernelspec": {
   "display_name": "Python 3",
   "language": "python",
   "name": "python3"
  },
  "language_info": {
   "codemirror_mode": {
    "name": "ipython",
    "version": 3
   },
   "file_extension": ".py",
   "mimetype": "text/x-python",
   "name": "python",
   "nbconvert_exporter": "python",
   "pygments_lexer": "ipython3",
   "version": "3.8.5"
  }
 },
 "nbformat": 4,
 "nbformat_minor": 4
}
